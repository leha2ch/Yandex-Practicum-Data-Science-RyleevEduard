{
 "cells": [
  {
   "cell_type": "markdown",
   "metadata": {},
   "source": [
    "# Исследование работы сервиса продажи компьютерных игр"
   ]
  },
  {
   "cell_type": "markdown",
   "metadata": {},
   "source": [
    "Итернет-магазин Стримчик, продаёт по всему миру компьютерные игры. \n",
    "\n",
    "**Цель:** Выявить определяющие успешность игры закономерности. Это позволит сделать ставку на потенциально популярный продукт и спланировать рекламные кампании. "
   ]
  },
  {
   "cell_type": "markdown",
   "metadata": {},
   "source": [
    "**План работы.**  \n",
    "1. Загрузить данные и изучить общую информацию.\n",
    "2. Подготовить данные    \n",
    "3. Провести исследовательский анализ данных\n",
    "4. Составить портрет пользователя каждого региона\n",
    "5. Выдвинуть и проверить гипотезы\n",
    "6. Сформулировать общий вывод."
   ]
  },
  {
   "cell_type": "markdown",
   "metadata": {},
   "source": [
    "**Описание данных.**\n",
    "- `Name` — название игры\n",
    "- `Platform` — платформа\n",
    "- `Year_of_Release` — год выпуска\n",
    "- `Genre` — жанр игры\n",
    "- `NA_sales` — продажи в Северной Америке (миллионы проданных копий)\n",
    "- `EU_sales` — продажи в Европе (миллионы проданных копий)\n",
    "- `JP_sales` — продажи в Японии (миллионы проданных копий)\n",
    "- `Other_sales` — продажи в других странах (миллионы проданных копий)\n",
    "- `Critic_Score` — оценка критиков (максимум 100)\n",
    "- `User_Score` — оценка пользователей (максимум 10)\n",
    "- `Rating` — рейтинг от организации ESRB (англ. Entertainment Software Rating Board). Эта ассоциация определяет рейтинг компьютерных игр и присваивает им подходящую возрастную категорию."
   ]
  },
  {
   "cell_type": "code",
   "execution_count": 1,
   "metadata": {},
   "outputs": [],
   "source": [
    "import pandas as pd\n",
    "import numpy as np\n",
    "import math\n",
    "import matplotlib.pyplot as plt\n",
    "import seaborn as sns\n",
    "from scipy import stats as st"
   ]
  },
  {
   "cell_type": "markdown",
   "metadata": {},
   "source": [
    "## Загрузка данных"
   ]
  },
  {
   "cell_type": "code",
   "execution_count": 2,
   "metadata": {},
   "outputs": [
    {
     "data": {
      "text/html": [
       "<div>\n",
       "<style scoped>\n",
       "    .dataframe tbody tr th:only-of-type {\n",
       "        vertical-align: middle;\n",
       "    }\n",
       "\n",
       "    .dataframe tbody tr th {\n",
       "        vertical-align: top;\n",
       "    }\n",
       "\n",
       "    .dataframe thead th {\n",
       "        text-align: right;\n",
       "    }\n",
       "</style>\n",
       "<table border=\"1\" class=\"dataframe\">\n",
       "  <thead>\n",
       "    <tr style=\"text-align: right;\">\n",
       "      <th></th>\n",
       "      <th>Name</th>\n",
       "      <th>Platform</th>\n",
       "      <th>Year_of_Release</th>\n",
       "      <th>Genre</th>\n",
       "      <th>NA_sales</th>\n",
       "      <th>EU_sales</th>\n",
       "      <th>JP_sales</th>\n",
       "      <th>Other_sales</th>\n",
       "      <th>Critic_Score</th>\n",
       "      <th>User_Score</th>\n",
       "      <th>Rating</th>\n",
       "    </tr>\n",
       "  </thead>\n",
       "  <tbody>\n",
       "    <tr>\n",
       "      <th>0</th>\n",
       "      <td>Wii Sports</td>\n",
       "      <td>Wii</td>\n",
       "      <td>2006.0</td>\n",
       "      <td>Sports</td>\n",
       "      <td>41.36</td>\n",
       "      <td>28.96</td>\n",
       "      <td>3.77</td>\n",
       "      <td>8.45</td>\n",
       "      <td>76.0</td>\n",
       "      <td>8</td>\n",
       "      <td>E</td>\n",
       "    </tr>\n",
       "    <tr>\n",
       "      <th>1</th>\n",
       "      <td>Super Mario Bros.</td>\n",
       "      <td>NES</td>\n",
       "      <td>1985.0</td>\n",
       "      <td>Platform</td>\n",
       "      <td>29.08</td>\n",
       "      <td>3.58</td>\n",
       "      <td>6.81</td>\n",
       "      <td>0.77</td>\n",
       "      <td>NaN</td>\n",
       "      <td>NaN</td>\n",
       "      <td>NaN</td>\n",
       "    </tr>\n",
       "    <tr>\n",
       "      <th>2</th>\n",
       "      <td>Mario Kart Wii</td>\n",
       "      <td>Wii</td>\n",
       "      <td>2008.0</td>\n",
       "      <td>Racing</td>\n",
       "      <td>15.68</td>\n",
       "      <td>12.76</td>\n",
       "      <td>3.79</td>\n",
       "      <td>3.29</td>\n",
       "      <td>82.0</td>\n",
       "      <td>8.3</td>\n",
       "      <td>E</td>\n",
       "    </tr>\n",
       "    <tr>\n",
       "      <th>3</th>\n",
       "      <td>Wii Sports Resort</td>\n",
       "      <td>Wii</td>\n",
       "      <td>2009.0</td>\n",
       "      <td>Sports</td>\n",
       "      <td>15.61</td>\n",
       "      <td>10.93</td>\n",
       "      <td>3.28</td>\n",
       "      <td>2.95</td>\n",
       "      <td>80.0</td>\n",
       "      <td>8</td>\n",
       "      <td>E</td>\n",
       "    </tr>\n",
       "    <tr>\n",
       "      <th>4</th>\n",
       "      <td>Pokemon Red/Pokemon Blue</td>\n",
       "      <td>GB</td>\n",
       "      <td>1996.0</td>\n",
       "      <td>Role-Playing</td>\n",
       "      <td>11.27</td>\n",
       "      <td>8.89</td>\n",
       "      <td>10.22</td>\n",
       "      <td>1.00</td>\n",
       "      <td>NaN</td>\n",
       "      <td>NaN</td>\n",
       "      <td>NaN</td>\n",
       "    </tr>\n",
       "    <tr>\n",
       "      <th>5</th>\n",
       "      <td>Tetris</td>\n",
       "      <td>GB</td>\n",
       "      <td>1989.0</td>\n",
       "      <td>Puzzle</td>\n",
       "      <td>23.20</td>\n",
       "      <td>2.26</td>\n",
       "      <td>4.22</td>\n",
       "      <td>0.58</td>\n",
       "      <td>NaN</td>\n",
       "      <td>NaN</td>\n",
       "      <td>NaN</td>\n",
       "    </tr>\n",
       "    <tr>\n",
       "      <th>6</th>\n",
       "      <td>New Super Mario Bros.</td>\n",
       "      <td>DS</td>\n",
       "      <td>2006.0</td>\n",
       "      <td>Platform</td>\n",
       "      <td>11.28</td>\n",
       "      <td>9.14</td>\n",
       "      <td>6.50</td>\n",
       "      <td>2.88</td>\n",
       "      <td>89.0</td>\n",
       "      <td>8.5</td>\n",
       "      <td>E</td>\n",
       "    </tr>\n",
       "    <tr>\n",
       "      <th>7</th>\n",
       "      <td>Wii Play</td>\n",
       "      <td>Wii</td>\n",
       "      <td>2006.0</td>\n",
       "      <td>Misc</td>\n",
       "      <td>13.96</td>\n",
       "      <td>9.18</td>\n",
       "      <td>2.93</td>\n",
       "      <td>2.84</td>\n",
       "      <td>58.0</td>\n",
       "      <td>6.6</td>\n",
       "      <td>E</td>\n",
       "    </tr>\n",
       "    <tr>\n",
       "      <th>8</th>\n",
       "      <td>New Super Mario Bros. Wii</td>\n",
       "      <td>Wii</td>\n",
       "      <td>2009.0</td>\n",
       "      <td>Platform</td>\n",
       "      <td>14.44</td>\n",
       "      <td>6.94</td>\n",
       "      <td>4.70</td>\n",
       "      <td>2.24</td>\n",
       "      <td>87.0</td>\n",
       "      <td>8.4</td>\n",
       "      <td>E</td>\n",
       "    </tr>\n",
       "    <tr>\n",
       "      <th>9</th>\n",
       "      <td>Duck Hunt</td>\n",
       "      <td>NES</td>\n",
       "      <td>1984.0</td>\n",
       "      <td>Shooter</td>\n",
       "      <td>26.93</td>\n",
       "      <td>0.63</td>\n",
       "      <td>0.28</td>\n",
       "      <td>0.47</td>\n",
       "      <td>NaN</td>\n",
       "      <td>NaN</td>\n",
       "      <td>NaN</td>\n",
       "    </tr>\n",
       "  </tbody>\n",
       "</table>\n",
       "</div>"
      ],
      "text/plain": [
       "                        Name Platform  Year_of_Release         Genre  \\\n",
       "0                 Wii Sports      Wii           2006.0        Sports   \n",
       "1          Super Mario Bros.      NES           1985.0      Platform   \n",
       "2             Mario Kart Wii      Wii           2008.0        Racing   \n",
       "3          Wii Sports Resort      Wii           2009.0        Sports   \n",
       "4   Pokemon Red/Pokemon Blue       GB           1996.0  Role-Playing   \n",
       "5                     Tetris       GB           1989.0        Puzzle   \n",
       "6      New Super Mario Bros.       DS           2006.0      Platform   \n",
       "7                   Wii Play      Wii           2006.0          Misc   \n",
       "8  New Super Mario Bros. Wii      Wii           2009.0      Platform   \n",
       "9                  Duck Hunt      NES           1984.0       Shooter   \n",
       "\n",
       "   NA_sales  EU_sales  JP_sales  Other_sales  Critic_Score User_Score Rating  \n",
       "0     41.36     28.96      3.77         8.45          76.0          8      E  \n",
       "1     29.08      3.58      6.81         0.77           NaN        NaN    NaN  \n",
       "2     15.68     12.76      3.79         3.29          82.0        8.3      E  \n",
       "3     15.61     10.93      3.28         2.95          80.0          8      E  \n",
       "4     11.27      8.89     10.22         1.00           NaN        NaN    NaN  \n",
       "5     23.20      2.26      4.22         0.58           NaN        NaN    NaN  \n",
       "6     11.28      9.14      6.50         2.88          89.0        8.5      E  \n",
       "7     13.96      9.18      2.93         2.84          58.0        6.6      E  \n",
       "8     14.44      6.94      4.70         2.24          87.0        8.4      E  \n",
       "9     26.93      0.63      0.28         0.47           NaN        NaN    NaN  "
      ]
     },
     "metadata": {},
     "output_type": "display_data"
    },
    {
     "name": "stdout",
     "output_type": "stream",
     "text": [
      "<class 'pandas.core.frame.DataFrame'>\n",
      "RangeIndex: 16715 entries, 0 to 16714\n",
      "Data columns (total 11 columns):\n",
      " #   Column           Non-Null Count  Dtype  \n",
      "---  ------           --------------  -----  \n",
      " 0   Name             16713 non-null  object \n",
      " 1   Platform         16715 non-null  object \n",
      " 2   Year_of_Release  16446 non-null  float64\n",
      " 3   Genre            16713 non-null  object \n",
      " 4   NA_sales         16715 non-null  float64\n",
      " 5   EU_sales         16715 non-null  float64\n",
      " 6   JP_sales         16715 non-null  float64\n",
      " 7   Other_sales      16715 non-null  float64\n",
      " 8   Critic_Score     8137 non-null   float64\n",
      " 9   User_Score       10014 non-null  object \n",
      " 10  Rating           9949 non-null   object \n",
      "dtypes: float64(6), object(5)\n",
      "memory usage: 1.4+ MB\n"
     ]
    }
   ],
   "source": [
    "data = pd.read_csv('/datasets/games.csv')\n",
    "\n",
    "display(data.head(10))\n",
    "data.info()"
   ]
  },
  {
   "cell_type": "markdown",
   "metadata": {},
   "source": [
    "Таблица с данными содержит 16715 строк и 11 столбцов. 6 столбцов имеют тип данных `float`, 5 столбцов - `object`. Имеются пропущенные значения. Названия столбцов требуют перевода в нижний регистр."
   ]
  },
  {
   "cell_type": "markdown",
   "metadata": {},
   "source": [
    "## Подготовка данных\n",
    "### Приведение названий столбцов к нижнему регистру"
   ]
  },
  {
   "cell_type": "code",
   "execution_count": 3,
   "metadata": {},
   "outputs": [
    {
     "data": {
      "text/plain": [
       "Index(['name', 'platform', 'year_of_release', 'genre', 'na_sales', 'eu_sales',\n",
       "       'jp_sales', 'other_sales', 'critic_score', 'user_score', 'rating'],\n",
       "      dtype='object')"
      ]
     },
     "execution_count": 3,
     "metadata": {},
     "output_type": "execute_result"
    }
   ],
   "source": [
    "data.columns = data.columns.str.lower()\n",
    "data.columns"
   ]
  },
  {
   "cell_type": "markdown",
   "metadata": {},
   "source": [
    "### Изменение типов данных"
   ]
  },
  {
   "cell_type": "markdown",
   "metadata": {},
   "source": [
    "В столбце `year_of_release` необходимо поменять тип на `int`, так как тип `float` не подходит для обозначения года выпуска. Тип `date` также не подходит, так как известен только год, а данных о дне и месяце нет."
   ]
  },
  {
   "cell_type": "code",
   "execution_count": 4,
   "metadata": {},
   "outputs": [
    {
     "data": {
      "text/html": [
       "<div>\n",
       "<style scoped>\n",
       "    .dataframe tbody tr th:only-of-type {\n",
       "        vertical-align: middle;\n",
       "    }\n",
       "\n",
       "    .dataframe tbody tr th {\n",
       "        vertical-align: top;\n",
       "    }\n",
       "\n",
       "    .dataframe thead th {\n",
       "        text-align: right;\n",
       "    }\n",
       "</style>\n",
       "<table border=\"1\" class=\"dataframe\">\n",
       "  <thead>\n",
       "    <tr style=\"text-align: right;\">\n",
       "      <th></th>\n",
       "      <th>name</th>\n",
       "      <th>platform</th>\n",
       "      <th>year_of_release</th>\n",
       "      <th>genre</th>\n",
       "      <th>na_sales</th>\n",
       "      <th>eu_sales</th>\n",
       "      <th>jp_sales</th>\n",
       "      <th>other_sales</th>\n",
       "      <th>critic_score</th>\n",
       "      <th>user_score</th>\n",
       "      <th>rating</th>\n",
       "    </tr>\n",
       "  </thead>\n",
       "  <tbody>\n",
       "    <tr>\n",
       "      <th>0</th>\n",
       "      <td>Wii Sports</td>\n",
       "      <td>Wii</td>\n",
       "      <td>2006</td>\n",
       "      <td>Sports</td>\n",
       "      <td>41.36</td>\n",
       "      <td>28.96</td>\n",
       "      <td>3.77</td>\n",
       "      <td>8.45</td>\n",
       "      <td>76.0</td>\n",
       "      <td>8</td>\n",
       "      <td>E</td>\n",
       "    </tr>\n",
       "    <tr>\n",
       "      <th>1</th>\n",
       "      <td>Super Mario Bros.</td>\n",
       "      <td>NES</td>\n",
       "      <td>1985</td>\n",
       "      <td>Platform</td>\n",
       "      <td>29.08</td>\n",
       "      <td>3.58</td>\n",
       "      <td>6.81</td>\n",
       "      <td>0.77</td>\n",
       "      <td>NaN</td>\n",
       "      <td>NaN</td>\n",
       "      <td>NaN</td>\n",
       "    </tr>\n",
       "    <tr>\n",
       "      <th>2</th>\n",
       "      <td>Mario Kart Wii</td>\n",
       "      <td>Wii</td>\n",
       "      <td>2008</td>\n",
       "      <td>Racing</td>\n",
       "      <td>15.68</td>\n",
       "      <td>12.76</td>\n",
       "      <td>3.79</td>\n",
       "      <td>3.29</td>\n",
       "      <td>82.0</td>\n",
       "      <td>8.3</td>\n",
       "      <td>E</td>\n",
       "    </tr>\n",
       "    <tr>\n",
       "      <th>3</th>\n",
       "      <td>Wii Sports Resort</td>\n",
       "      <td>Wii</td>\n",
       "      <td>2009</td>\n",
       "      <td>Sports</td>\n",
       "      <td>15.61</td>\n",
       "      <td>10.93</td>\n",
       "      <td>3.28</td>\n",
       "      <td>2.95</td>\n",
       "      <td>80.0</td>\n",
       "      <td>8</td>\n",
       "      <td>E</td>\n",
       "    </tr>\n",
       "    <tr>\n",
       "      <th>4</th>\n",
       "      <td>Pokemon Red/Pokemon Blue</td>\n",
       "      <td>GB</td>\n",
       "      <td>1996</td>\n",
       "      <td>Role-Playing</td>\n",
       "      <td>11.27</td>\n",
       "      <td>8.89</td>\n",
       "      <td>10.22</td>\n",
       "      <td>1.00</td>\n",
       "      <td>NaN</td>\n",
       "      <td>NaN</td>\n",
       "      <td>NaN</td>\n",
       "    </tr>\n",
       "  </tbody>\n",
       "</table>\n",
       "</div>"
      ],
      "text/plain": [
       "                       name platform  year_of_release         genre  na_sales  \\\n",
       "0                Wii Sports      Wii             2006        Sports     41.36   \n",
       "1         Super Mario Bros.      NES             1985      Platform     29.08   \n",
       "2            Mario Kart Wii      Wii             2008        Racing     15.68   \n",
       "3         Wii Sports Resort      Wii             2009        Sports     15.61   \n",
       "4  Pokemon Red/Pokemon Blue       GB             1996  Role-Playing     11.27   \n",
       "\n",
       "   eu_sales  jp_sales  other_sales  critic_score user_score rating  \n",
       "0     28.96      3.77         8.45          76.0          8      E  \n",
       "1      3.58      6.81         0.77           NaN        NaN    NaN  \n",
       "2     12.76      3.79         3.29          82.0        8.3      E  \n",
       "3     10.93      3.28         2.95          80.0          8      E  \n",
       "4      8.89     10.22         1.00           NaN        NaN    NaN  "
      ]
     },
     "execution_count": 4,
     "metadata": {},
     "output_type": "execute_result"
    }
   ],
   "source": [
    "data['year_of_release'] = data['year_of_release'].astype('Int64')\n",
    "data.head()"
   ]
  },
  {
   "cell_type": "markdown",
   "metadata": {},
   "source": [
    "Посмотрим уникальные значения пользваотельских оценок"
   ]
  },
  {
   "cell_type": "code",
   "execution_count": 5,
   "metadata": {},
   "outputs": [
    {
     "data": {
      "text/plain": [
       "array(['8', nan, '8.3', '8.5', '6.6', '8.4', '8.6', '7.7', '6.3', '7.4',\n",
       "       '8.2', '9', '7.9', '8.1', '8.7', '7.1', '3.4', '5.3', '4.8', '3.2',\n",
       "       '8.9', '6.4', '7.8', '7.5', '2.6', '7.2', '9.2', '7', '7.3', '4.3',\n",
       "       '7.6', '5.7', '5', '9.1', '6.5', 'tbd', '8.8', '6.9', '9.4', '6.8',\n",
       "       '6.1', '6.7', '5.4', '4', '4.9', '4.5', '9.3', '6.2', '4.2', '6',\n",
       "       '3.7', '4.1', '5.8', '5.6', '5.5', '4.4', '4.6', '5.9', '3.9',\n",
       "       '3.1', '2.9', '5.2', '3.3', '4.7', '5.1', '3.5', '2.5', '1.9', '3',\n",
       "       '2.7', '2.2', '2', '9.5', '2.1', '3.6', '2.8', '1.8', '3.8', '0',\n",
       "       '1.6', '9.6', '2.4', '1.7', '1.1', '0.3', '1.5', '0.7', '1.2',\n",
       "       '2.3', '0.5', '1.3', '0.2', '0.6', '1.4', '0.9', '1', '9.7'],\n",
       "      dtype=object)"
      ]
     },
     "execution_count": 5,
     "metadata": {},
     "output_type": "execute_result"
    }
   ],
   "source": [
    "data['user_score'].unique()"
   ]
  },
  {
   "cell_type": "markdown",
   "metadata": {},
   "source": [
    "В столбце `user_score` встречается аббревиатура `tbd`. Это означает `подлежит определению`, то есть значение отсутствует. Удалим это значение в столбце, то есть заменим на `NaN`."
   ]
  },
  {
   "cell_type": "code",
   "execution_count": 6,
   "metadata": {},
   "outputs": [
    {
     "data": {
      "text/html": [
       "<div>\n",
       "<style scoped>\n",
       "    .dataframe tbody tr th:only-of-type {\n",
       "        vertical-align: middle;\n",
       "    }\n",
       "\n",
       "    .dataframe tbody tr th {\n",
       "        vertical-align: top;\n",
       "    }\n",
       "\n",
       "    .dataframe thead th {\n",
       "        text-align: right;\n",
       "    }\n",
       "</style>\n",
       "<table border=\"1\" class=\"dataframe\">\n",
       "  <thead>\n",
       "    <tr style=\"text-align: right;\">\n",
       "      <th></th>\n",
       "      <th>name</th>\n",
       "      <th>platform</th>\n",
       "      <th>year_of_release</th>\n",
       "      <th>genre</th>\n",
       "      <th>na_sales</th>\n",
       "      <th>eu_sales</th>\n",
       "      <th>jp_sales</th>\n",
       "      <th>other_sales</th>\n",
       "      <th>critic_score</th>\n",
       "      <th>user_score</th>\n",
       "      <th>rating</th>\n",
       "    </tr>\n",
       "  </thead>\n",
       "  <tbody>\n",
       "    <tr>\n",
       "      <th>0</th>\n",
       "      <td>Wii Sports</td>\n",
       "      <td>Wii</td>\n",
       "      <td>2006</td>\n",
       "      <td>Sports</td>\n",
       "      <td>41.36</td>\n",
       "      <td>28.96</td>\n",
       "      <td>3.77</td>\n",
       "      <td>8.45</td>\n",
       "      <td>76</td>\n",
       "      <td>8.0</td>\n",
       "      <td>E</td>\n",
       "    </tr>\n",
       "    <tr>\n",
       "      <th>1</th>\n",
       "      <td>Super Mario Bros.</td>\n",
       "      <td>NES</td>\n",
       "      <td>1985</td>\n",
       "      <td>Platform</td>\n",
       "      <td>29.08</td>\n",
       "      <td>3.58</td>\n",
       "      <td>6.81</td>\n",
       "      <td>0.77</td>\n",
       "      <td>&lt;NA&gt;</td>\n",
       "      <td>NaN</td>\n",
       "      <td>NaN</td>\n",
       "    </tr>\n",
       "    <tr>\n",
       "      <th>2</th>\n",
       "      <td>Mario Kart Wii</td>\n",
       "      <td>Wii</td>\n",
       "      <td>2008</td>\n",
       "      <td>Racing</td>\n",
       "      <td>15.68</td>\n",
       "      <td>12.76</td>\n",
       "      <td>3.79</td>\n",
       "      <td>3.29</td>\n",
       "      <td>82</td>\n",
       "      <td>8.3</td>\n",
       "      <td>E</td>\n",
       "    </tr>\n",
       "    <tr>\n",
       "      <th>3</th>\n",
       "      <td>Wii Sports Resort</td>\n",
       "      <td>Wii</td>\n",
       "      <td>2009</td>\n",
       "      <td>Sports</td>\n",
       "      <td>15.61</td>\n",
       "      <td>10.93</td>\n",
       "      <td>3.28</td>\n",
       "      <td>2.95</td>\n",
       "      <td>80</td>\n",
       "      <td>8.0</td>\n",
       "      <td>E</td>\n",
       "    </tr>\n",
       "    <tr>\n",
       "      <th>4</th>\n",
       "      <td>Pokemon Red/Pokemon Blue</td>\n",
       "      <td>GB</td>\n",
       "      <td>1996</td>\n",
       "      <td>Role-Playing</td>\n",
       "      <td>11.27</td>\n",
       "      <td>8.89</td>\n",
       "      <td>10.22</td>\n",
       "      <td>1.00</td>\n",
       "      <td>&lt;NA&gt;</td>\n",
       "      <td>NaN</td>\n",
       "      <td>NaN</td>\n",
       "    </tr>\n",
       "    <tr>\n",
       "      <th>5</th>\n",
       "      <td>Tetris</td>\n",
       "      <td>GB</td>\n",
       "      <td>1989</td>\n",
       "      <td>Puzzle</td>\n",
       "      <td>23.20</td>\n",
       "      <td>2.26</td>\n",
       "      <td>4.22</td>\n",
       "      <td>0.58</td>\n",
       "      <td>&lt;NA&gt;</td>\n",
       "      <td>NaN</td>\n",
       "      <td>NaN</td>\n",
       "    </tr>\n",
       "    <tr>\n",
       "      <th>6</th>\n",
       "      <td>New Super Mario Bros.</td>\n",
       "      <td>DS</td>\n",
       "      <td>2006</td>\n",
       "      <td>Platform</td>\n",
       "      <td>11.28</td>\n",
       "      <td>9.14</td>\n",
       "      <td>6.50</td>\n",
       "      <td>2.88</td>\n",
       "      <td>89</td>\n",
       "      <td>8.5</td>\n",
       "      <td>E</td>\n",
       "    </tr>\n",
       "    <tr>\n",
       "      <th>7</th>\n",
       "      <td>Wii Play</td>\n",
       "      <td>Wii</td>\n",
       "      <td>2006</td>\n",
       "      <td>Misc</td>\n",
       "      <td>13.96</td>\n",
       "      <td>9.18</td>\n",
       "      <td>2.93</td>\n",
       "      <td>2.84</td>\n",
       "      <td>58</td>\n",
       "      <td>6.6</td>\n",
       "      <td>E</td>\n",
       "    </tr>\n",
       "    <tr>\n",
       "      <th>8</th>\n",
       "      <td>New Super Mario Bros. Wii</td>\n",
       "      <td>Wii</td>\n",
       "      <td>2009</td>\n",
       "      <td>Platform</td>\n",
       "      <td>14.44</td>\n",
       "      <td>6.94</td>\n",
       "      <td>4.70</td>\n",
       "      <td>2.24</td>\n",
       "      <td>87</td>\n",
       "      <td>8.4</td>\n",
       "      <td>E</td>\n",
       "    </tr>\n",
       "    <tr>\n",
       "      <th>9</th>\n",
       "      <td>Duck Hunt</td>\n",
       "      <td>NES</td>\n",
       "      <td>1984</td>\n",
       "      <td>Shooter</td>\n",
       "      <td>26.93</td>\n",
       "      <td>0.63</td>\n",
       "      <td>0.28</td>\n",
       "      <td>0.47</td>\n",
       "      <td>&lt;NA&gt;</td>\n",
       "      <td>NaN</td>\n",
       "      <td>NaN</td>\n",
       "    </tr>\n",
       "  </tbody>\n",
       "</table>\n",
       "</div>"
      ],
      "text/plain": [
       "                        name platform  year_of_release         genre  \\\n",
       "0                 Wii Sports      Wii             2006        Sports   \n",
       "1          Super Mario Bros.      NES             1985      Platform   \n",
       "2             Mario Kart Wii      Wii             2008        Racing   \n",
       "3          Wii Sports Resort      Wii             2009        Sports   \n",
       "4   Pokemon Red/Pokemon Blue       GB             1996  Role-Playing   \n",
       "5                     Tetris       GB             1989        Puzzle   \n",
       "6      New Super Mario Bros.       DS             2006      Platform   \n",
       "7                   Wii Play      Wii             2006          Misc   \n",
       "8  New Super Mario Bros. Wii      Wii             2009      Platform   \n",
       "9                  Duck Hunt      NES             1984       Shooter   \n",
       "\n",
       "   na_sales  eu_sales  jp_sales  other_sales  critic_score  user_score rating  \n",
       "0     41.36     28.96      3.77         8.45            76         8.0      E  \n",
       "1     29.08      3.58      6.81         0.77          <NA>         NaN    NaN  \n",
       "2     15.68     12.76      3.79         3.29            82         8.3      E  \n",
       "3     15.61     10.93      3.28         2.95            80         8.0      E  \n",
       "4     11.27      8.89     10.22         1.00          <NA>         NaN    NaN  \n",
       "5     23.20      2.26      4.22         0.58          <NA>         NaN    NaN  \n",
       "6     11.28      9.14      6.50         2.88            89         8.5      E  \n",
       "7     13.96      9.18      2.93         2.84            58         6.6      E  \n",
       "8     14.44      6.94      4.70         2.24            87         8.4      E  \n",
       "9     26.93      0.63      0.28         0.47          <NA>         NaN    NaN  "
      ]
     },
     "metadata": {},
     "output_type": "display_data"
    },
    {
     "name": "stdout",
     "output_type": "stream",
     "text": [
      "<class 'pandas.core.frame.DataFrame'>\n",
      "RangeIndex: 16715 entries, 0 to 16714\n",
      "Data columns (total 11 columns):\n",
      " #   Column           Non-Null Count  Dtype  \n",
      "---  ------           --------------  -----  \n",
      " 0   name             16713 non-null  object \n",
      " 1   platform         16715 non-null  object \n",
      " 2   year_of_release  16446 non-null  Int64  \n",
      " 3   genre            16713 non-null  object \n",
      " 4   na_sales         16715 non-null  float64\n",
      " 5   eu_sales         16715 non-null  float64\n",
      " 6   jp_sales         16715 non-null  float64\n",
      " 7   other_sales      16715 non-null  float64\n",
      " 8   critic_score     8137 non-null   Int64  \n",
      " 9   user_score       7590 non-null   float64\n",
      " 10  rating           9949 non-null   object \n",
      "dtypes: Int64(2), float64(5), object(4)\n",
      "memory usage: 1.4+ MB\n"
     ]
    }
   ],
   "source": [
    "data['user_score'] = data['user_score'].replace('tbd', np.nan).astype('float')\n",
    "data['critic_score'] = data['critic_score'].astype('Int64')\n",
    "display(data.head(10))\n",
    "data.info()"
   ]
  },
  {
   "cell_type": "markdown",
   "metadata": {},
   "source": [
    "### Обработка пропусков"
   ]
  },
  {
   "cell_type": "markdown",
   "metadata": {},
   "source": [
    "По классификации ESRB рейтинги игр основаны на их содержании и имеют следующие обозначения:\n",
    "\n",
    "- `EC` - для детей младшего возраста (с 3 лет);\n",
    "- `E` - для всех;\n",
    "- `E10+` - для всех от 10 лет и старше;\n",
    "- `T` - подросткам;\n",
    "- `M` - для взрослых;\n",
    "- `AO` - только для взрослых;\n",
    "- `RP` - рейтинг ожидается.\n",
    "\n",
    "Пропуски в столбце `rating` могли появиться из-за того, что производитель мог не указать его на упаковке, либо при работе с данными некоторые значения могли быть утеряны. Заполним пропуски в этом столбце значением `RP`."
   ]
  },
  {
   "cell_type": "code",
   "execution_count": 7,
   "metadata": {},
   "outputs": [],
   "source": [
    "data['rating'] = data['rating'].fillna(value='RP')"
   ]
  },
  {
   "cell_type": "markdown",
   "metadata": {},
   "source": [
    "Пропуски в столбцах `user_score` и `critic_score` могут быть из-за отсутствия данных по оценкам. Пропуски в столбце `year_of_release` могли появиться из-за технической ошибки. Заполнить пропуски средним или каким-либо другим значением мы не можем, так как оценки и рейтинги имеют принципиальное значение, а год выпуска - это неотъемлемая характеристика продукта. Удалить строки с пропусками тоже жалко, так как пропусков очень много."
   ]
  },
  {
   "cell_type": "markdown",
   "metadata": {},
   "source": [
    "##### Обработка дубликатов"
   ]
  },
  {
   "cell_type": "code",
   "execution_count": 8,
   "metadata": {},
   "outputs": [
    {
     "data": {
      "text/plain": [
       "0"
      ]
     },
     "execution_count": 8,
     "metadata": {},
     "output_type": "execute_result"
    }
   ],
   "source": [
    "data.duplicated().sum()"
   ]
  },
  {
   "cell_type": "markdown",
   "metadata": {},
   "source": [
    "Явных дубликатов нет.\n",
    "\n",
    "Проверим на неявные дубликаты"
   ]
  },
  {
   "cell_type": "code",
   "execution_count": 9,
   "metadata": {},
   "outputs": [
    {
     "name": "stdout",
     "output_type": "stream",
     "text": [
      "Количество неявных дубликатов 2\n"
     ]
    },
    {
     "data": {
      "text/html": [
       "<div>\n",
       "<style scoped>\n",
       "    .dataframe tbody tr th:only-of-type {\n",
       "        vertical-align: middle;\n",
       "    }\n",
       "\n",
       "    .dataframe tbody tr th {\n",
       "        vertical-align: top;\n",
       "    }\n",
       "\n",
       "    .dataframe thead th {\n",
       "        text-align: right;\n",
       "    }\n",
       "</style>\n",
       "<table border=\"1\" class=\"dataframe\">\n",
       "  <thead>\n",
       "    <tr style=\"text-align: right;\">\n",
       "      <th></th>\n",
       "      <th>name</th>\n",
       "      <th>platform</th>\n",
       "      <th>year_of_release</th>\n",
       "      <th>genre</th>\n",
       "      <th>na_sales</th>\n",
       "      <th>eu_sales</th>\n",
       "      <th>jp_sales</th>\n",
       "      <th>other_sales</th>\n",
       "      <th>critic_score</th>\n",
       "      <th>user_score</th>\n",
       "      <th>rating</th>\n",
       "    </tr>\n",
       "  </thead>\n",
       "  <tbody>\n",
       "    <tr>\n",
       "      <th>14244</th>\n",
       "      <td>NaN</td>\n",
       "      <td>gen</td>\n",
       "      <td>1993</td>\n",
       "      <td>NaN</td>\n",
       "      <td>0.0</td>\n",
       "      <td>0.00</td>\n",
       "      <td>0.03</td>\n",
       "      <td>0.0</td>\n",
       "      <td>&lt;NA&gt;</td>\n",
       "      <td>NaN</td>\n",
       "      <td>RP</td>\n",
       "    </tr>\n",
       "    <tr>\n",
       "      <th>16230</th>\n",
       "      <td>madden nfl 13</td>\n",
       "      <td>ps3</td>\n",
       "      <td>2012</td>\n",
       "      <td>Sports</td>\n",
       "      <td>0.0</td>\n",
       "      <td>0.01</td>\n",
       "      <td>0.00</td>\n",
       "      <td>0.0</td>\n",
       "      <td>83</td>\n",
       "      <td>5.5</td>\n",
       "      <td>E</td>\n",
       "    </tr>\n",
       "  </tbody>\n",
       "</table>\n",
       "</div>"
      ],
      "text/plain": [
       "                name platform  year_of_release   genre  na_sales  eu_sales  \\\n",
       "14244            NaN      gen             1993     NaN       0.0      0.00   \n",
       "16230  madden nfl 13      ps3             2012  Sports       0.0      0.01   \n",
       "\n",
       "       jp_sales  other_sales  critic_score  user_score rating  \n",
       "14244      0.03          0.0          <NA>         NaN     RP  \n",
       "16230      0.00          0.0            83         5.5      E  "
      ]
     },
     "execution_count": 9,
     "metadata": {},
     "output_type": "execute_result"
    }
   ],
   "source": [
    "data['name'] = data['name'].str.lower()\n",
    "data['platform'] = data['platform'].str.lower()\n",
    "print('Количество неявных дубликатов', data.duplicated(subset = ['name', 'platform', 'year_of_release']).sum())\n",
    "data[data.duplicated(subset=['name', 'platform', 'year_of_release'])]"
   ]
  },
  {
   "cell_type": "markdown",
   "metadata": {},
   "source": [
    "Эти строки ценности не представляют, так как значения продаж в них небольшие. Удалим эти строки."
   ]
  },
  {
   "cell_type": "code",
   "execution_count": 10,
   "metadata": {},
   "outputs": [
    {
     "data": {
      "text/plain": [
       "0"
      ]
     },
     "execution_count": 10,
     "metadata": {},
     "output_type": "execute_result"
    }
   ],
   "source": [
    "data = data.drop_duplicates(subset=['name', 'platform', 'year_of_release'])\n",
    "data.duplicated(subset = ['name', 'platform', 'year_of_release']).sum()"
   ]
  },
  {
   "cell_type": "markdown",
   "metadata": {},
   "source": [
    "### Добавление столбца суммарных продаж"
   ]
  },
  {
   "cell_type": "code",
   "execution_count": 11,
   "metadata": {},
   "outputs": [
    {
     "data": {
      "text/html": [
       "<div>\n",
       "<style scoped>\n",
       "    .dataframe tbody tr th:only-of-type {\n",
       "        vertical-align: middle;\n",
       "    }\n",
       "\n",
       "    .dataframe tbody tr th {\n",
       "        vertical-align: top;\n",
       "    }\n",
       "\n",
       "    .dataframe thead th {\n",
       "        text-align: right;\n",
       "    }\n",
       "</style>\n",
       "<table border=\"1\" class=\"dataframe\">\n",
       "  <thead>\n",
       "    <tr style=\"text-align: right;\">\n",
       "      <th></th>\n",
       "      <th>name</th>\n",
       "      <th>platform</th>\n",
       "      <th>year_of_release</th>\n",
       "      <th>genre</th>\n",
       "      <th>na_sales</th>\n",
       "      <th>eu_sales</th>\n",
       "      <th>jp_sales</th>\n",
       "      <th>other_sales</th>\n",
       "      <th>critic_score</th>\n",
       "      <th>user_score</th>\n",
       "      <th>rating</th>\n",
       "      <th>total_sales</th>\n",
       "    </tr>\n",
       "  </thead>\n",
       "  <tbody>\n",
       "    <tr>\n",
       "      <th>0</th>\n",
       "      <td>wii sports</td>\n",
       "      <td>wii</td>\n",
       "      <td>2006</td>\n",
       "      <td>Sports</td>\n",
       "      <td>41.36</td>\n",
       "      <td>28.96</td>\n",
       "      <td>3.77</td>\n",
       "      <td>8.45</td>\n",
       "      <td>76</td>\n",
       "      <td>8.0</td>\n",
       "      <td>E</td>\n",
       "      <td>82.54</td>\n",
       "    </tr>\n",
       "    <tr>\n",
       "      <th>1</th>\n",
       "      <td>super mario bros.</td>\n",
       "      <td>nes</td>\n",
       "      <td>1985</td>\n",
       "      <td>Platform</td>\n",
       "      <td>29.08</td>\n",
       "      <td>3.58</td>\n",
       "      <td>6.81</td>\n",
       "      <td>0.77</td>\n",
       "      <td>&lt;NA&gt;</td>\n",
       "      <td>NaN</td>\n",
       "      <td>RP</td>\n",
       "      <td>40.24</td>\n",
       "    </tr>\n",
       "    <tr>\n",
       "      <th>2</th>\n",
       "      <td>mario kart wii</td>\n",
       "      <td>wii</td>\n",
       "      <td>2008</td>\n",
       "      <td>Racing</td>\n",
       "      <td>15.68</td>\n",
       "      <td>12.76</td>\n",
       "      <td>3.79</td>\n",
       "      <td>3.29</td>\n",
       "      <td>82</td>\n",
       "      <td>8.3</td>\n",
       "      <td>E</td>\n",
       "      <td>35.52</td>\n",
       "    </tr>\n",
       "    <tr>\n",
       "      <th>3</th>\n",
       "      <td>wii sports resort</td>\n",
       "      <td>wii</td>\n",
       "      <td>2009</td>\n",
       "      <td>Sports</td>\n",
       "      <td>15.61</td>\n",
       "      <td>10.93</td>\n",
       "      <td>3.28</td>\n",
       "      <td>2.95</td>\n",
       "      <td>80</td>\n",
       "      <td>8.0</td>\n",
       "      <td>E</td>\n",
       "      <td>32.77</td>\n",
       "    </tr>\n",
       "    <tr>\n",
       "      <th>4</th>\n",
       "      <td>pokemon red/pokemon blue</td>\n",
       "      <td>gb</td>\n",
       "      <td>1996</td>\n",
       "      <td>Role-Playing</td>\n",
       "      <td>11.27</td>\n",
       "      <td>8.89</td>\n",
       "      <td>10.22</td>\n",
       "      <td>1.00</td>\n",
       "      <td>&lt;NA&gt;</td>\n",
       "      <td>NaN</td>\n",
       "      <td>RP</td>\n",
       "      <td>31.38</td>\n",
       "    </tr>\n",
       "    <tr>\n",
       "      <th>5</th>\n",
       "      <td>tetris</td>\n",
       "      <td>gb</td>\n",
       "      <td>1989</td>\n",
       "      <td>Puzzle</td>\n",
       "      <td>23.20</td>\n",
       "      <td>2.26</td>\n",
       "      <td>4.22</td>\n",
       "      <td>0.58</td>\n",
       "      <td>&lt;NA&gt;</td>\n",
       "      <td>NaN</td>\n",
       "      <td>RP</td>\n",
       "      <td>30.26</td>\n",
       "    </tr>\n",
       "    <tr>\n",
       "      <th>6</th>\n",
       "      <td>new super mario bros.</td>\n",
       "      <td>ds</td>\n",
       "      <td>2006</td>\n",
       "      <td>Platform</td>\n",
       "      <td>11.28</td>\n",
       "      <td>9.14</td>\n",
       "      <td>6.50</td>\n",
       "      <td>2.88</td>\n",
       "      <td>89</td>\n",
       "      <td>8.5</td>\n",
       "      <td>E</td>\n",
       "      <td>29.80</td>\n",
       "    </tr>\n",
       "    <tr>\n",
       "      <th>7</th>\n",
       "      <td>wii play</td>\n",
       "      <td>wii</td>\n",
       "      <td>2006</td>\n",
       "      <td>Misc</td>\n",
       "      <td>13.96</td>\n",
       "      <td>9.18</td>\n",
       "      <td>2.93</td>\n",
       "      <td>2.84</td>\n",
       "      <td>58</td>\n",
       "      <td>6.6</td>\n",
       "      <td>E</td>\n",
       "      <td>28.91</td>\n",
       "    </tr>\n",
       "    <tr>\n",
       "      <th>8</th>\n",
       "      <td>new super mario bros. wii</td>\n",
       "      <td>wii</td>\n",
       "      <td>2009</td>\n",
       "      <td>Platform</td>\n",
       "      <td>14.44</td>\n",
       "      <td>6.94</td>\n",
       "      <td>4.70</td>\n",
       "      <td>2.24</td>\n",
       "      <td>87</td>\n",
       "      <td>8.4</td>\n",
       "      <td>E</td>\n",
       "      <td>28.32</td>\n",
       "    </tr>\n",
       "    <tr>\n",
       "      <th>9</th>\n",
       "      <td>duck hunt</td>\n",
       "      <td>nes</td>\n",
       "      <td>1984</td>\n",
       "      <td>Shooter</td>\n",
       "      <td>26.93</td>\n",
       "      <td>0.63</td>\n",
       "      <td>0.28</td>\n",
       "      <td>0.47</td>\n",
       "      <td>&lt;NA&gt;</td>\n",
       "      <td>NaN</td>\n",
       "      <td>RP</td>\n",
       "      <td>28.31</td>\n",
       "    </tr>\n",
       "  </tbody>\n",
       "</table>\n",
       "</div>"
      ],
      "text/plain": [
       "                        name platform  year_of_release         genre  \\\n",
       "0                 wii sports      wii             2006        Sports   \n",
       "1          super mario bros.      nes             1985      Platform   \n",
       "2             mario kart wii      wii             2008        Racing   \n",
       "3          wii sports resort      wii             2009        Sports   \n",
       "4   pokemon red/pokemon blue       gb             1996  Role-Playing   \n",
       "5                     tetris       gb             1989        Puzzle   \n",
       "6      new super mario bros.       ds             2006      Platform   \n",
       "7                   wii play      wii             2006          Misc   \n",
       "8  new super mario bros. wii      wii             2009      Platform   \n",
       "9                  duck hunt      nes             1984       Shooter   \n",
       "\n",
       "   na_sales  eu_sales  jp_sales  other_sales  critic_score  user_score rating  \\\n",
       "0     41.36     28.96      3.77         8.45            76         8.0      E   \n",
       "1     29.08      3.58      6.81         0.77          <NA>         NaN     RP   \n",
       "2     15.68     12.76      3.79         3.29            82         8.3      E   \n",
       "3     15.61     10.93      3.28         2.95            80         8.0      E   \n",
       "4     11.27      8.89     10.22         1.00          <NA>         NaN     RP   \n",
       "5     23.20      2.26      4.22         0.58          <NA>         NaN     RP   \n",
       "6     11.28      9.14      6.50         2.88            89         8.5      E   \n",
       "7     13.96      9.18      2.93         2.84            58         6.6      E   \n",
       "8     14.44      6.94      4.70         2.24            87         8.4      E   \n",
       "9     26.93      0.63      0.28         0.47          <NA>         NaN     RP   \n",
       "\n",
       "   total_sales  \n",
       "0        82.54  \n",
       "1        40.24  \n",
       "2        35.52  \n",
       "3        32.77  \n",
       "4        31.38  \n",
       "5        30.26  \n",
       "6        29.80  \n",
       "7        28.91  \n",
       "8        28.32  \n",
       "9        28.31  "
      ]
     },
     "execution_count": 11,
     "metadata": {},
     "output_type": "execute_result"
    }
   ],
   "source": [
    "data['total_sales'] = data[['na_sales', 'eu_sales', 'jp_sales', 'other_sales']].sum(axis=1)\n",
    "data.head(10)"
   ]
  },
  {
   "cell_type": "code",
   "execution_count": 12,
   "metadata": {},
   "outputs": [
    {
     "name": "stdout",
     "output_type": "stream",
     "text": [
      "<class 'pandas.core.frame.DataFrame'>\n",
      "Int64Index: 16713 entries, 0 to 16714\n",
      "Data columns (total 12 columns):\n",
      " #   Column           Non-Null Count  Dtype  \n",
      "---  ------           --------------  -----  \n",
      " 0   name             16712 non-null  object \n",
      " 1   platform         16713 non-null  object \n",
      " 2   year_of_release  16444 non-null  Int64  \n",
      " 3   genre            16712 non-null  object \n",
      " 4   na_sales         16713 non-null  float64\n",
      " 5   eu_sales         16713 non-null  float64\n",
      " 6   jp_sales         16713 non-null  float64\n",
      " 7   other_sales      16713 non-null  float64\n",
      " 8   critic_score     8136 non-null   Int64  \n",
      " 9   user_score       7589 non-null   float64\n",
      " 10  rating           16713 non-null  object \n",
      " 11  total_sales      16713 non-null  float64\n",
      "dtypes: Int64(2), float64(6), object(4)\n",
      "memory usage: 1.7+ MB\n"
     ]
    }
   ],
   "source": [
    "data.info()"
   ]
  },
  {
   "cell_type": "markdown",
   "metadata": {},
   "source": [
    "**Вывод.** Названия колонок приведены в `змеиный регистр`, оценки критиков и пользователей приведены к сопоставимому виду, типы данных изменены на целочисленные в столбцах `year_of_release`, `critic_score` и `user_score`, пропущенные значения удалены только в столбцах `name` и `genre`, в столбце `rating` пропущенные значения заменены на константу, в других столбцах пропущенные значения оставлены."
   ]
  },
  {
   "cell_type": "markdown",
   "metadata": {},
   "source": [
    "## Исследовательский анализ данных\n",
    "### Количество игр, выпущенных в разные годы"
   ]
  },
  {
   "cell_type": "code",
   "execution_count": 13,
   "metadata": {},
   "outputs": [
    {
     "data": {
      "image/png": "[encoded data removed]",
      "text/plain": [
       "<Figure size 1080x576 with 1 Axes>"
      ]
     },
     "metadata": {
      "needs_background": "light"
     },
     "output_type": "display_data"
    }
   ],
   "source": [
    "plt.figure(figsize=(15, 8))\n",
    "plt.plot(data.groupby('year_of_release')['name'].count(), marker='x')\n",
    "plt.title('Динамика количества выпущенных игр')\n",
    "plt.xlabel('Годы')\n",
    "plt.ylabel('Количество выпущенных игр')\n",
    "plt.grid(True)\n",
    "plt.show()"
   ]
  },
  {
   "cell_type": "markdown",
   "metadata": {},
   "source": [
    "Как видно из графика, до 1995 года выпускалось мало игр, в 1995 году их количество достигло 200, а, начиная с 2000 года, наблюдается резкое увеличение выпуска игр вплоть до 2009 года, а после 2010 года можно увидеть тенденцию снижения производства игр. В нашем исследовании данные до 1995 года не важны по двум причинам: небольшого их количества и отдалённостью временного периода."
   ]
  },
  {
   "cell_type": "code",
   "execution_count": 14,
   "metadata": {},
   "outputs": [
    {
     "data": {
      "text/html": [
       "<div>\n",
       "<style scoped>\n",
       "    .dataframe tbody tr th:only-of-type {\n",
       "        vertical-align: middle;\n",
       "    }\n",
       "\n",
       "    .dataframe tbody tr th {\n",
       "        vertical-align: top;\n",
       "    }\n",
       "\n",
       "    .dataframe thead th {\n",
       "        text-align: right;\n",
       "    }\n",
       "</style>\n",
       "<table border=\"1\" class=\"dataframe\">\n",
       "  <thead>\n",
       "    <tr style=\"text-align: right;\">\n",
       "      <th></th>\n",
       "      <th>name</th>\n",
       "      <th>platform</th>\n",
       "      <th>year_of_release</th>\n",
       "      <th>genre</th>\n",
       "      <th>na_sales</th>\n",
       "      <th>eu_sales</th>\n",
       "      <th>jp_sales</th>\n",
       "      <th>other_sales</th>\n",
       "      <th>critic_score</th>\n",
       "      <th>user_score</th>\n",
       "      <th>rating</th>\n",
       "      <th>total_sales</th>\n",
       "    </tr>\n",
       "  </thead>\n",
       "  <tbody>\n",
       "    <tr>\n",
       "      <th>0</th>\n",
       "      <td>wii sports</td>\n",
       "      <td>wii</td>\n",
       "      <td>2006</td>\n",
       "      <td>Sports</td>\n",
       "      <td>41.36</td>\n",
       "      <td>28.96</td>\n",
       "      <td>3.77</td>\n",
       "      <td>8.45</td>\n",
       "      <td>76</td>\n",
       "      <td>8.0</td>\n",
       "      <td>E</td>\n",
       "      <td>82.54</td>\n",
       "    </tr>\n",
       "    <tr>\n",
       "      <th>2</th>\n",
       "      <td>mario kart wii</td>\n",
       "      <td>wii</td>\n",
       "      <td>2008</td>\n",
       "      <td>Racing</td>\n",
       "      <td>15.68</td>\n",
       "      <td>12.76</td>\n",
       "      <td>3.79</td>\n",
       "      <td>3.29</td>\n",
       "      <td>82</td>\n",
       "      <td>8.3</td>\n",
       "      <td>E</td>\n",
       "      <td>35.52</td>\n",
       "    </tr>\n",
       "    <tr>\n",
       "      <th>3</th>\n",
       "      <td>wii sports resort</td>\n",
       "      <td>wii</td>\n",
       "      <td>2009</td>\n",
       "      <td>Sports</td>\n",
       "      <td>15.61</td>\n",
       "      <td>10.93</td>\n",
       "      <td>3.28</td>\n",
       "      <td>2.95</td>\n",
       "      <td>80</td>\n",
       "      <td>8.0</td>\n",
       "      <td>E</td>\n",
       "      <td>32.77</td>\n",
       "    </tr>\n",
       "    <tr>\n",
       "      <th>4</th>\n",
       "      <td>pokemon red/pokemon blue</td>\n",
       "      <td>gb</td>\n",
       "      <td>1996</td>\n",
       "      <td>Role-Playing</td>\n",
       "      <td>11.27</td>\n",
       "      <td>8.89</td>\n",
       "      <td>10.22</td>\n",
       "      <td>1.00</td>\n",
       "      <td>&lt;NA&gt;</td>\n",
       "      <td>NaN</td>\n",
       "      <td>RP</td>\n",
       "      <td>31.38</td>\n",
       "    </tr>\n",
       "    <tr>\n",
       "      <th>6</th>\n",
       "      <td>new super mario bros.</td>\n",
       "      <td>ds</td>\n",
       "      <td>2006</td>\n",
       "      <td>Platform</td>\n",
       "      <td>11.28</td>\n",
       "      <td>9.14</td>\n",
       "      <td>6.50</td>\n",
       "      <td>2.88</td>\n",
       "      <td>89</td>\n",
       "      <td>8.5</td>\n",
       "      <td>E</td>\n",
       "      <td>29.80</td>\n",
       "    </tr>\n",
       "  </tbody>\n",
       "</table>\n",
       "</div>"
      ],
      "text/plain": [
       "                       name platform  year_of_release         genre  na_sales  \\\n",
       "0                wii sports      wii             2006        Sports     41.36   \n",
       "2            mario kart wii      wii             2008        Racing     15.68   \n",
       "3         wii sports resort      wii             2009        Sports     15.61   \n",
       "4  pokemon red/pokemon blue       gb             1996  Role-Playing     11.27   \n",
       "6     new super mario bros.       ds             2006      Platform     11.28   \n",
       "\n",
       "   eu_sales  jp_sales  other_sales  critic_score  user_score rating  \\\n",
       "0     28.96      3.77         8.45            76         8.0      E   \n",
       "2     12.76      3.79         3.29            82         8.3      E   \n",
       "3     10.93      3.28         2.95            80         8.0      E   \n",
       "4      8.89     10.22         1.00          <NA>         NaN     RP   \n",
       "6      9.14      6.50         2.88            89         8.5      E   \n",
       "\n",
       "   total_sales  \n",
       "0        82.54  \n",
       "2        35.52  \n",
       "3        32.77  \n",
       "4        31.38  \n",
       "6        29.80  "
      ]
     },
     "metadata": {},
     "output_type": "display_data"
    },
    {
     "name": "stdout",
     "output_type": "stream",
     "text": [
      "<class 'pandas.core.frame.DataFrame'>\n",
      "Int64Index: 15957 entries, 0 to 16714\n",
      "Data columns (total 12 columns):\n",
      " #   Column           Non-Null Count  Dtype  \n",
      "---  ------           --------------  -----  \n",
      " 0   name             15957 non-null  object \n",
      " 1   platform         15957 non-null  object \n",
      " 2   year_of_release  15957 non-null  Int64  \n",
      " 3   genre            15957 non-null  object \n",
      " 4   na_sales         15957 non-null  float64\n",
      " 5   eu_sales         15957 non-null  float64\n",
      " 6   jp_sales         15957 non-null  float64\n",
      " 7   other_sales      15957 non-null  float64\n",
      " 8   critic_score     7978 non-null   Int64  \n",
      " 9   user_score       7458 non-null   float64\n",
      " 10  rating           15957 non-null  object \n",
      " 11  total_sales      15957 non-null  float64\n",
      "dtypes: Int64(2), float64(6), object(4)\n",
      "memory usage: 1.6+ MB\n"
     ]
    }
   ],
   "source": [
    "data_new = data.query('year_of_release >= 1995')\n",
    "display(data_new.head())\n",
    "data_new.info()"
   ]
  },
  {
   "cell_type": "markdown",
   "metadata": {},
   "source": [
    "### Изменение продаж по платформам"
   ]
  },
  {
   "cell_type": "markdown",
   "metadata": {},
   "source": [
    "Сгруппируем данные по платформам, посчитаем для них суммарные продажи\\\n",
    "Выведем 5 платформ с наибольшыми суммарными продажами"
   ]
  },
  {
   "cell_type": "code",
   "execution_count": 15,
   "metadata": {},
   "outputs": [
    {
     "data": {
      "text/plain": [
       "platform\n",
       "ps2     1233.56\n",
       "x360     961.24\n",
       "ps3      931.33\n",
       "wii      891.18\n",
       "ds       802.76\n",
       "Name: total_sales, dtype: float64"
      ]
     },
     "execution_count": 15,
     "metadata": {},
     "output_type": "execute_result"
    }
   ],
   "source": [
    "sort_platforms = data_new.groupby('platform')['total_sales'].sum().sort_values(ascending=False)\n",
    "good_platforms = sort_platforms.head()\n",
    "good_platforms"
   ]
  },
  {
   "cell_type": "markdown",
   "metadata": {},
   "source": [
    "Сделаем срез из датафрейма `data` по платформам с наибольшими суммарными продажами"
   ]
  },
  {
   "cell_type": "code",
   "execution_count": 16,
   "metadata": {},
   "outputs": [
    {
     "data": {
      "text/html": [
       "<div>\n",
       "<style scoped>\n",
       "    .dataframe tbody tr th:only-of-type {\n",
       "        vertical-align: middle;\n",
       "    }\n",
       "\n",
       "    .dataframe tbody tr th {\n",
       "        vertical-align: top;\n",
       "    }\n",
       "\n",
       "    .dataframe thead th {\n",
       "        text-align: right;\n",
       "    }\n",
       "</style>\n",
       "<table border=\"1\" class=\"dataframe\">\n",
       "  <thead>\n",
       "    <tr style=\"text-align: right;\">\n",
       "      <th></th>\n",
       "      <th>name</th>\n",
       "      <th>platform</th>\n",
       "      <th>year_of_release</th>\n",
       "      <th>genre</th>\n",
       "      <th>na_sales</th>\n",
       "      <th>eu_sales</th>\n",
       "      <th>jp_sales</th>\n",
       "      <th>other_sales</th>\n",
       "      <th>critic_score</th>\n",
       "      <th>user_score</th>\n",
       "      <th>rating</th>\n",
       "      <th>total_sales</th>\n",
       "    </tr>\n",
       "  </thead>\n",
       "  <tbody>\n",
       "    <tr>\n",
       "      <th>0</th>\n",
       "      <td>wii sports</td>\n",
       "      <td>wii</td>\n",
       "      <td>2006</td>\n",
       "      <td>Sports</td>\n",
       "      <td>41.36</td>\n",
       "      <td>28.96</td>\n",
       "      <td>3.77</td>\n",
       "      <td>8.45</td>\n",
       "      <td>76</td>\n",
       "      <td>8.0</td>\n",
       "      <td>E</td>\n",
       "      <td>82.54</td>\n",
       "    </tr>\n",
       "    <tr>\n",
       "      <th>2</th>\n",
       "      <td>mario kart wii</td>\n",
       "      <td>wii</td>\n",
       "      <td>2008</td>\n",
       "      <td>Racing</td>\n",
       "      <td>15.68</td>\n",
       "      <td>12.76</td>\n",
       "      <td>3.79</td>\n",
       "      <td>3.29</td>\n",
       "      <td>82</td>\n",
       "      <td>8.3</td>\n",
       "      <td>E</td>\n",
       "      <td>35.52</td>\n",
       "    </tr>\n",
       "    <tr>\n",
       "      <th>3</th>\n",
       "      <td>wii sports resort</td>\n",
       "      <td>wii</td>\n",
       "      <td>2009</td>\n",
       "      <td>Sports</td>\n",
       "      <td>15.61</td>\n",
       "      <td>10.93</td>\n",
       "      <td>3.28</td>\n",
       "      <td>2.95</td>\n",
       "      <td>80</td>\n",
       "      <td>8.0</td>\n",
       "      <td>E</td>\n",
       "      <td>32.77</td>\n",
       "    </tr>\n",
       "    <tr>\n",
       "      <th>6</th>\n",
       "      <td>new super mario bros.</td>\n",
       "      <td>ds</td>\n",
       "      <td>2006</td>\n",
       "      <td>Platform</td>\n",
       "      <td>11.28</td>\n",
       "      <td>9.14</td>\n",
       "      <td>6.50</td>\n",
       "      <td>2.88</td>\n",
       "      <td>89</td>\n",
       "      <td>8.5</td>\n",
       "      <td>E</td>\n",
       "      <td>29.80</td>\n",
       "    </tr>\n",
       "    <tr>\n",
       "      <th>7</th>\n",
       "      <td>wii play</td>\n",
       "      <td>wii</td>\n",
       "      <td>2006</td>\n",
       "      <td>Misc</td>\n",
       "      <td>13.96</td>\n",
       "      <td>9.18</td>\n",
       "      <td>2.93</td>\n",
       "      <td>2.84</td>\n",
       "      <td>58</td>\n",
       "      <td>6.6</td>\n",
       "      <td>E</td>\n",
       "      <td>28.91</td>\n",
       "    </tr>\n",
       "  </tbody>\n",
       "</table>\n",
       "</div>"
      ],
      "text/plain": [
       "                    name platform  year_of_release     genre  na_sales  \\\n",
       "0             wii sports      wii             2006    Sports     41.36   \n",
       "2         mario kart wii      wii             2008    Racing     15.68   \n",
       "3      wii sports resort      wii             2009    Sports     15.61   \n",
       "6  new super mario bros.       ds             2006  Platform     11.28   \n",
       "7               wii play      wii             2006      Misc     13.96   \n",
       "\n",
       "   eu_sales  jp_sales  other_sales  critic_score  user_score rating  \\\n",
       "0     28.96      3.77         8.45            76         8.0      E   \n",
       "2     12.76      3.79         3.29            82         8.3      E   \n",
       "3     10.93      3.28         2.95            80         8.0      E   \n",
       "6      9.14      6.50         2.88            89         8.5      E   \n",
       "7      9.18      2.93         2.84            58         6.6      E   \n",
       "\n",
       "   total_sales  \n",
       "0        82.54  \n",
       "2        35.52  \n",
       "3        32.77  \n",
       "6        29.80  \n",
       "7        28.91  "
      ]
     },
     "metadata": {},
     "output_type": "display_data"
    },
    {
     "data": {
      "text/plain": [
       "8070"
      ]
     },
     "metadata": {},
     "output_type": "display_data"
    }
   ],
   "source": [
    "good_platform_data = data_new.query('platform in @good_platforms.index')\n",
    "display(good_platform_data.head())\n",
    "display(len(good_platform_data))"
   ]
  },
  {
   "cell_type": "markdown",
   "metadata": {},
   "source": [
    "Построим график, на котором представим общие продажи по годам и по платформам с наибольшими суммарными продажами"
   ]
  },
  {
   "cell_type": "code",
   "execution_count": 17,
   "metadata": {},
   "outputs": [
    {
     "data": {
      "image/png": "[encoded data removed]",
      "text/plain": [
       "<Figure size 720x432 with 1 Axes>"
      ]
     },
     "metadata": {
      "needs_background": "light"
     },
     "output_type": "display_data"
    }
   ],
   "source": [
    "good_platform_data.pivot_table(index='year_of_release', columns='platform', values='total_sales', aggfunc='sum').plot(\n",
    "    title='Распределение продаж отдельных платформ по годам',\n",
    "    xlabel='Год выпуска',\n",
    "    ylabel='Общие продажи, млн. проданных копий',\n",
    "    style='x-',\n",
    "    figsize=(10, 6),\n",
    "    grid=True\n",
    ")\n",
    "plt.show()\n"
   ]
  },
  {
   "cell_type": "markdown",
   "metadata": {},
   "source": [
    "На графике видно, что характерный срок, за который появляются и исчезают платформы, составляет примерно 10 лет. Первые 4-5 лет продажи новых платформ держатся на высоком уровне, затем постепенно снижаются, и примерно на 10-й год они опускаются практически до нуля."
   ]
  },
  {
   "cell_type": "markdown",
   "metadata": {},
   "source": [
    "### Выбор потенциально прибыльных платформ"
   ]
  },
  {
   "cell_type": "markdown",
   "metadata": {},
   "source": [
    "Выберем актуальный период с 2014 по 2016 годы, так как в такой динамично меняющейся индустрии, как компьютерные игры, для целей прогнозирования нельзя брать большой временной интервал, чтобы не захватить уже отжившие тренды. Выберем данные за этот период."
   ]
  },
  {
   "cell_type": "code",
   "execution_count": 18,
   "metadata": {},
   "outputs": [
    {
     "data": {
      "text/html": [
       "<div>\n",
       "<style scoped>\n",
       "    .dataframe tbody tr th:only-of-type {\n",
       "        vertical-align: middle;\n",
       "    }\n",
       "\n",
       "    .dataframe tbody tr th {\n",
       "        vertical-align: top;\n",
       "    }\n",
       "\n",
       "    .dataframe thead th {\n",
       "        text-align: right;\n",
       "    }\n",
       "</style>\n",
       "<table border=\"1\" class=\"dataframe\">\n",
       "  <thead>\n",
       "    <tr style=\"text-align: right;\">\n",
       "      <th></th>\n",
       "      <th>name</th>\n",
       "      <th>platform</th>\n",
       "      <th>year_of_release</th>\n",
       "      <th>genre</th>\n",
       "      <th>na_sales</th>\n",
       "      <th>eu_sales</th>\n",
       "      <th>jp_sales</th>\n",
       "      <th>other_sales</th>\n",
       "      <th>critic_score</th>\n",
       "      <th>user_score</th>\n",
       "      <th>rating</th>\n",
       "      <th>total_sales</th>\n",
       "    </tr>\n",
       "  </thead>\n",
       "  <tbody>\n",
       "    <tr>\n",
       "      <th>31</th>\n",
       "      <td>call of duty: black ops 3</td>\n",
       "      <td>ps4</td>\n",
       "      <td>2015</td>\n",
       "      <td>Shooter</td>\n",
       "      <td>6.03</td>\n",
       "      <td>5.86</td>\n",
       "      <td>0.36</td>\n",
       "      <td>2.38</td>\n",
       "      <td>&lt;NA&gt;</td>\n",
       "      <td>NaN</td>\n",
       "      <td>RP</td>\n",
       "      <td>14.63</td>\n",
       "    </tr>\n",
       "    <tr>\n",
       "      <th>42</th>\n",
       "      <td>grand theft auto v</td>\n",
       "      <td>ps4</td>\n",
       "      <td>2014</td>\n",
       "      <td>Action</td>\n",
       "      <td>3.96</td>\n",
       "      <td>6.31</td>\n",
       "      <td>0.38</td>\n",
       "      <td>1.97</td>\n",
       "      <td>97</td>\n",
       "      <td>8.3</td>\n",
       "      <td>M</td>\n",
       "      <td>12.62</td>\n",
       "    </tr>\n",
       "    <tr>\n",
       "      <th>47</th>\n",
       "      <td>pokemon omega ruby/pokemon alpha sapphire</td>\n",
       "      <td>3ds</td>\n",
       "      <td>2014</td>\n",
       "      <td>Role-Playing</td>\n",
       "      <td>4.35</td>\n",
       "      <td>3.49</td>\n",
       "      <td>3.10</td>\n",
       "      <td>0.74</td>\n",
       "      <td>&lt;NA&gt;</td>\n",
       "      <td>NaN</td>\n",
       "      <td>RP</td>\n",
       "      <td>11.68</td>\n",
       "    </tr>\n",
       "    <tr>\n",
       "      <th>77</th>\n",
       "      <td>fifa 16</td>\n",
       "      <td>ps4</td>\n",
       "      <td>2015</td>\n",
       "      <td>Sports</td>\n",
       "      <td>1.12</td>\n",
       "      <td>6.12</td>\n",
       "      <td>0.06</td>\n",
       "      <td>1.28</td>\n",
       "      <td>82</td>\n",
       "      <td>4.3</td>\n",
       "      <td>E</td>\n",
       "      <td>8.58</td>\n",
       "    </tr>\n",
       "    <tr>\n",
       "      <th>87</th>\n",
       "      <td>star wars battlefront (2015)</td>\n",
       "      <td>ps4</td>\n",
       "      <td>2015</td>\n",
       "      <td>Shooter</td>\n",
       "      <td>2.99</td>\n",
       "      <td>3.49</td>\n",
       "      <td>0.22</td>\n",
       "      <td>1.28</td>\n",
       "      <td>&lt;NA&gt;</td>\n",
       "      <td>NaN</td>\n",
       "      <td>RP</td>\n",
       "      <td>7.98</td>\n",
       "    </tr>\n",
       "    <tr>\n",
       "      <th>92</th>\n",
       "      <td>call of duty: advanced warfare</td>\n",
       "      <td>ps4</td>\n",
       "      <td>2014</td>\n",
       "      <td>Shooter</td>\n",
       "      <td>2.81</td>\n",
       "      <td>3.48</td>\n",
       "      <td>0.14</td>\n",
       "      <td>1.23</td>\n",
       "      <td>83</td>\n",
       "      <td>5.7</td>\n",
       "      <td>M</td>\n",
       "      <td>7.66</td>\n",
       "    </tr>\n",
       "    <tr>\n",
       "      <th>94</th>\n",
       "      <td>fifa 17</td>\n",
       "      <td>ps4</td>\n",
       "      <td>2016</td>\n",
       "      <td>Sports</td>\n",
       "      <td>0.66</td>\n",
       "      <td>5.75</td>\n",
       "      <td>0.08</td>\n",
       "      <td>1.11</td>\n",
       "      <td>85</td>\n",
       "      <td>5.0</td>\n",
       "      <td>E</td>\n",
       "      <td>7.60</td>\n",
       "    </tr>\n",
       "    <tr>\n",
       "      <th>96</th>\n",
       "      <td>super smash bros. for wii u and 3ds</td>\n",
       "      <td>3ds</td>\n",
       "      <td>2014</td>\n",
       "      <td>Fighting</td>\n",
       "      <td>3.27</td>\n",
       "      <td>1.37</td>\n",
       "      <td>2.43</td>\n",
       "      <td>0.48</td>\n",
       "      <td>&lt;NA&gt;</td>\n",
       "      <td>NaN</td>\n",
       "      <td>RP</td>\n",
       "      <td>7.55</td>\n",
       "    </tr>\n",
       "    <tr>\n",
       "      <th>99</th>\n",
       "      <td>call of duty: black ops 3</td>\n",
       "      <td>xone</td>\n",
       "      <td>2015</td>\n",
       "      <td>Shooter</td>\n",
       "      <td>4.59</td>\n",
       "      <td>2.11</td>\n",
       "      <td>0.01</td>\n",
       "      <td>0.68</td>\n",
       "      <td>&lt;NA&gt;</td>\n",
       "      <td>NaN</td>\n",
       "      <td>RP</td>\n",
       "      <td>7.39</td>\n",
       "    </tr>\n",
       "    <tr>\n",
       "      <th>105</th>\n",
       "      <td>fallout 4</td>\n",
       "      <td>ps4</td>\n",
       "      <td>2015</td>\n",
       "      <td>Role-Playing</td>\n",
       "      <td>2.53</td>\n",
       "      <td>3.27</td>\n",
       "      <td>0.24</td>\n",
       "      <td>1.13</td>\n",
       "      <td>87</td>\n",
       "      <td>6.5</td>\n",
       "      <td>M</td>\n",
       "      <td>7.17</td>\n",
       "    </tr>\n",
       "  </tbody>\n",
       "</table>\n",
       "</div>"
      ],
      "text/plain": [
       "                                          name platform  year_of_release  \\\n",
       "31                   call of duty: black ops 3      ps4             2015   \n",
       "42                          grand theft auto v      ps4             2014   \n",
       "47   pokemon omega ruby/pokemon alpha sapphire      3ds             2014   \n",
       "77                                     fifa 16      ps4             2015   \n",
       "87                star wars battlefront (2015)      ps4             2015   \n",
       "92              call of duty: advanced warfare      ps4             2014   \n",
       "94                                     fifa 17      ps4             2016   \n",
       "96         super smash bros. for wii u and 3ds      3ds             2014   \n",
       "99                   call of duty: black ops 3     xone             2015   \n",
       "105                                  fallout 4      ps4             2015   \n",
       "\n",
       "            genre  na_sales  eu_sales  jp_sales  other_sales  critic_score  \\\n",
       "31        Shooter      6.03      5.86      0.36         2.38          <NA>   \n",
       "42         Action      3.96      6.31      0.38         1.97            97   \n",
       "47   Role-Playing      4.35      3.49      3.10         0.74          <NA>   \n",
       "77         Sports      1.12      6.12      0.06         1.28            82   \n",
       "87        Shooter      2.99      3.49      0.22         1.28          <NA>   \n",
       "92        Shooter      2.81      3.48      0.14         1.23            83   \n",
       "94         Sports      0.66      5.75      0.08         1.11            85   \n",
       "96       Fighting      3.27      1.37      2.43         0.48          <NA>   \n",
       "99        Shooter      4.59      2.11      0.01         0.68          <NA>   \n",
       "105  Role-Playing      2.53      3.27      0.24         1.13            87   \n",
       "\n",
       "     user_score rating  total_sales  \n",
       "31          NaN     RP        14.63  \n",
       "42          8.3      M        12.62  \n",
       "47          NaN     RP        11.68  \n",
       "77          4.3      E         8.58  \n",
       "87          NaN     RP         7.98  \n",
       "92          5.7      M         7.66  \n",
       "94          5.0      E         7.60  \n",
       "96          NaN     RP         7.55  \n",
       "99          NaN     RP         7.39  \n",
       "105         6.5      M         7.17  "
      ]
     },
     "execution_count": 18,
     "metadata": {},
     "output_type": "execute_result"
    }
   ],
   "source": [
    "data_actual = data.query('year_of_release >= 2014')\n",
    "data_actual.head(10)"
   ]
  },
  {
   "cell_type": "code",
   "execution_count": 19,
   "metadata": {},
   "outputs": [
    {
     "name": "stdout",
     "output_type": "stream",
     "text": [
      "<class 'pandas.core.frame.DataFrame'>\n",
      "Int64Index: 1689 entries, 31 to 16714\n",
      "Data columns (total 12 columns):\n",
      " #   Column           Non-Null Count  Dtype  \n",
      "---  ------           --------------  -----  \n",
      " 0   name             1689 non-null   object \n",
      " 1   platform         1689 non-null   object \n",
      " 2   year_of_release  1689 non-null   Int64  \n",
      " 3   genre            1689 non-null   object \n",
      " 4   na_sales         1689 non-null   float64\n",
      " 5   eu_sales         1689 non-null   float64\n",
      " 6   jp_sales         1689 non-null   float64\n",
      " 7   other_sales      1689 non-null   float64\n",
      " 8   critic_score     718 non-null    Int64  \n",
      " 9   user_score       888 non-null    float64\n",
      " 10  rating           1689 non-null   object \n",
      " 11  total_sales      1689 non-null   float64\n",
      "dtypes: Int64(2), float64(6), object(4)\n",
      "memory usage: 174.8+ KB\n"
     ]
    }
   ],
   "source": [
    "data_actual.info()"
   ]
  },
  {
   "cell_type": "code",
   "execution_count": 20,
   "metadata": {},
   "outputs": [
    {
     "data": {
      "text/html": [
       "<div>\n",
       "<style scoped>\n",
       "    .dataframe tbody tr th:only-of-type {\n",
       "        vertical-align: middle;\n",
       "    }\n",
       "\n",
       "    .dataframe tbody tr th {\n",
       "        vertical-align: top;\n",
       "    }\n",
       "\n",
       "    .dataframe thead th {\n",
       "        text-align: right;\n",
       "    }\n",
       "</style>\n",
       "<table border=\"1\" class=\"dataframe\">\n",
       "  <thead>\n",
       "    <tr style=\"text-align: right;\">\n",
       "      <th>year_of_release</th>\n",
       "      <th>2014</th>\n",
       "      <th>2015</th>\n",
       "      <th>2016</th>\n",
       "    </tr>\n",
       "    <tr>\n",
       "      <th>platform</th>\n",
       "      <th></th>\n",
       "      <th></th>\n",
       "      <th></th>\n",
       "    </tr>\n",
       "  </thead>\n",
       "  <tbody>\n",
       "    <tr>\n",
       "      <th>ps4</th>\n",
       "      <td>100.00</td>\n",
       "      <td>118.90</td>\n",
       "      <td>69.25</td>\n",
       "    </tr>\n",
       "    <tr>\n",
       "      <th>xone</th>\n",
       "      <td>54.07</td>\n",
       "      <td>60.14</td>\n",
       "      <td>26.15</td>\n",
       "    </tr>\n",
       "    <tr>\n",
       "      <th>3ds</th>\n",
       "      <td>43.76</td>\n",
       "      <td>27.78</td>\n",
       "      <td>15.14</td>\n",
       "    </tr>\n",
       "    <tr>\n",
       "      <th>pc</th>\n",
       "      <td>13.28</td>\n",
       "      <td>8.52</td>\n",
       "      <td>5.25</td>\n",
       "    </tr>\n",
       "    <tr>\n",
       "      <th>wiiu</th>\n",
       "      <td>22.03</td>\n",
       "      <td>16.35</td>\n",
       "      <td>4.60</td>\n",
       "    </tr>\n",
       "    <tr>\n",
       "      <th>psv</th>\n",
       "      <td>11.90</td>\n",
       "      <td>6.25</td>\n",
       "      <td>4.25</td>\n",
       "    </tr>\n",
       "    <tr>\n",
       "      <th>ps3</th>\n",
       "      <td>47.76</td>\n",
       "      <td>16.82</td>\n",
       "      <td>3.60</td>\n",
       "    </tr>\n",
       "    <tr>\n",
       "      <th>x360</th>\n",
       "      <td>34.74</td>\n",
       "      <td>11.96</td>\n",
       "      <td>1.52</td>\n",
       "    </tr>\n",
       "    <tr>\n",
       "      <th>wii</th>\n",
       "      <td>3.75</td>\n",
       "      <td>1.14</td>\n",
       "      <td>0.18</td>\n",
       "    </tr>\n",
       "    <tr>\n",
       "      <th>psp</th>\n",
       "      <td>0.24</td>\n",
       "      <td>0.12</td>\n",
       "      <td>NaN</td>\n",
       "    </tr>\n",
       "  </tbody>\n",
       "</table>\n",
       "</div>"
      ],
      "text/plain": [
       "year_of_release    2014    2015   2016\n",
       "platform                              \n",
       "ps4              100.00  118.90  69.25\n",
       "xone              54.07   60.14  26.15\n",
       "3ds               43.76   27.78  15.14\n",
       "pc                13.28    8.52   5.25\n",
       "wiiu              22.03   16.35   4.60\n",
       "psv               11.90    6.25   4.25\n",
       "ps3               47.76   16.82   3.60\n",
       "x360              34.74   11.96   1.52\n",
       "wii                3.75    1.14   0.18\n",
       "psp                0.24    0.12    NaN"
      ]
     },
     "execution_count": 20,
     "metadata": {},
     "output_type": "execute_result"
    }
   ],
   "source": [
    "data_actual_pivot = data_actual.pivot_table(\n",
    "    index='platform', columns='year_of_release', values='total_sales', aggfunc='sum'\n",
    ").sort_values(by=2016, ascending=False)\n",
    "\n",
    "data_actual_pivot"
   ]
  },
  {
   "cell_type": "markdown",
   "metadata": {},
   "source": [
    "Построим график, на котором представим общие продажи по годам и по платформам с наибольшими суммарными продажами"
   ]
  },
  {
   "cell_type": "code",
   "execution_count": 21,
   "metadata": {},
   "outputs": [
    {
     "data": {
      "image/png": "[encoded data removed]",
      "text/plain": [
       "<Figure size 720x576 with 1 Axes>"
      ]
     },
     "metadata": {
      "needs_background": "light"
     },
     "output_type": "display_data"
    }
   ],
   "source": [
    "data_actual.pivot_table(index='year_of_release', columns='platform', values='total_sales', aggfunc='sum').plot(\n",
    "    title='Распределение продаж в актуальном периоде',\n",
    "    xlabel='Год выпуска',\n",
    "    ylabel='Общие продажи, млн. проданных копий',\n",
    "    style='x-',\n",
    "    figsize=(10, 8),\n",
    "    grid=True\n",
    ")\n",
    "plt.xticks(ticks=[2014, 2015, 2016])\n",
    "plt.show()"
   ]
  },
  {
   "cell_type": "markdown",
   "metadata": {},
   "source": [
    "Выберем первые 3 платформы из таблицы `data_actual_pivot`, это потенциально прибыльные платформы."
   ]
  },
  {
   "cell_type": "code",
   "execution_count": 22,
   "metadata": {},
   "outputs": [
    {
     "data": {
      "text/html": [
       "<div>\n",
       "<style scoped>\n",
       "    .dataframe tbody tr th:only-of-type {\n",
       "        vertical-align: middle;\n",
       "    }\n",
       "\n",
       "    .dataframe tbody tr th {\n",
       "        vertical-align: top;\n",
       "    }\n",
       "\n",
       "    .dataframe thead th {\n",
       "        text-align: right;\n",
       "    }\n",
       "</style>\n",
       "<table border=\"1\" class=\"dataframe\">\n",
       "  <thead>\n",
       "    <tr style=\"text-align: right;\">\n",
       "      <th>year_of_release</th>\n",
       "      <th>2014</th>\n",
       "      <th>2015</th>\n",
       "      <th>2016</th>\n",
       "    </tr>\n",
       "    <tr>\n",
       "      <th>platform</th>\n",
       "      <th></th>\n",
       "      <th></th>\n",
       "      <th></th>\n",
       "    </tr>\n",
       "  </thead>\n",
       "  <tbody>\n",
       "    <tr>\n",
       "      <th>ps4</th>\n",
       "      <td>100.00</td>\n",
       "      <td>118.90</td>\n",
       "      <td>69.25</td>\n",
       "    </tr>\n",
       "    <tr>\n",
       "      <th>xone</th>\n",
       "      <td>54.07</td>\n",
       "      <td>60.14</td>\n",
       "      <td>26.15</td>\n",
       "    </tr>\n",
       "    <tr>\n",
       "      <th>3ds</th>\n",
       "      <td>43.76</td>\n",
       "      <td>27.78</td>\n",
       "      <td>15.14</td>\n",
       "    </tr>\n",
       "  </tbody>\n",
       "</table>\n",
       "</div>"
      ],
      "text/plain": [
       "year_of_release    2014    2015   2016\n",
       "platform                              \n",
       "ps4              100.00  118.90  69.25\n",
       "xone              54.07   60.14  26.15\n",
       "3ds               43.76   27.78  15.14"
      ]
     },
     "execution_count": 22,
     "metadata": {},
     "output_type": "execute_result"
    }
   ],
   "source": [
    "data_potential = data_actual_pivot.loc[:'3ds']\n",
    "data_potential"
   ]
  },
  {
   "cell_type": "markdown",
   "metadata": {},
   "source": [
    "### Разброс глобальных продаж игр по платформам"
   ]
  },
  {
   "cell_type": "markdown",
   "metadata": {},
   "source": [
    "Построим `ящик с усами` по глобальным продажам игр в разбивке по платформам за актуальный период с 2014 по 2016 годы по таблице `data_actual`."
   ]
  },
  {
   "cell_type": "code",
   "execution_count": 23,
   "metadata": {},
   "outputs": [
    {
     "data": {
      "image/png": "[encoded data removed]",
      "text/plain": [
       "<Figure size 864x432 with 1 Axes>"
      ]
     },
     "metadata": {
      "needs_background": "light"
     },
     "output_type": "display_data"
    }
   ],
   "source": [
    "plt.figure(figsize=(12,6))\n",
    "sns.boxplot(data=data_actual, x='platform', y='total_sales')\n",
    "plt.title('Продажи по перспективным платформам с выбросами', fontsize=15)\n",
    "plt.xlabel('Платформа', fontsize=12)\n",
    "plt.ylabel('Продажи по платформам',fontsize=12)\n",
    "plt.show();"
   ]
  },
  {
   "cell_type": "markdown",
   "metadata": {},
   "source": [
    "На диаграмме размаха видно, что среди платформ есть `звёзды`, которые приносят максимум выручки: `PS4`, `3DS`, `XOne`, `WiiU`, `PS3`, эти платформы способны выпускать наиболее привлекательные для игроманов игры. Рассмотрим более подробно нижнюю часть графика."
   ]
  },
  {
   "cell_type": "code",
   "execution_count": 24,
   "metadata": {},
   "outputs": [
    {
     "data": {
      "image/png": "[encoded data removed]",
      "text/plain": [
       "<Figure size 864x432 with 1 Axes>"
      ]
     },
     "metadata": {
      "needs_background": "light"
     },
     "output_type": "display_data"
    }
   ],
   "source": [
    "plt.figure(figsize=(12,6))\n",
    "ax = sns.boxplot(data=data_actual, x='platform', y='total_sales')\n",
    "ax.set(ylim=(0,2))\n",
    "plt.title('Продажи по перспективным платформам с крупными `Boxplot`', fontsize=15)\n",
    "plt.xlabel('Платформа', fontsize=12)\n",
    "plt.ylabel('Продажи по платформам',fontsize=12)\n",
    "plt.show();"
   ]
  },
  {
   "cell_type": "markdown",
   "metadata": {},
   "source": [
    "На нижней части диаграммы размаха видно, что не только у платформ `PS4`, `PS3`, `3DS`, `XOne`, `WiiU` имеются хорошие выбросы в большую сторону, но и платформа `X360` выглядит очень привлекательно в плане прибыльности. Кроме того, платформа `PC` подтверждает свой статус устойчивого и стабильного источника прибыли в игровой сфере.  \n",
    "\n",
    "У платформ `PS4`, `Wii`, `WiiU`, `X360`, `XOne` очень хороши медианные значения, то есть средние продаже на этих платформах выше, чем у остальных.\n",
    "\n",
    "Платформа `PSP` показывает совсем маленькие результаты продаж; `PSV`, хоть и имеет выбросы, но эти выбросы меньше, чем у некоторых платформ третий квартиль, и медианное значение очень маленькое; `Wii`, хоть и большой межквартильный размах, но выбросов нет, значений, превышающих третий квартиль очень мало.  \n",
    "\n",
    "Итак, диаграмма размаха подтверждает рекомендации платформ: `PS4`, `3DS`, `XOne`, `WiiU`, `PS3`, `X360`."
   ]
  },
  {
   "cell_type": "markdown",
   "metadata": {},
   "source": [
    "### Влияние отзывов на продажи внутри платформы"
   ]
  },
  {
   "cell_type": "markdown",
   "metadata": {},
   "source": [
    "Выберем из датафрейма с данными за актуальный период `data_actual` данные по  конкурирующим платформам `PS4`, `PC`, `PS3`, `Xone` и изучим влияние отзывов на продажи внутри этих платформ. Сделаем два среза из датафрейма `data_actual`, выбрав данные только по этим платформам.\n",
    "Создадим функцию анализа платформ"
   ]
  },
  {
   "cell_type": "code",
   "execution_count": 25,
   "metadata": {},
   "outputs": [],
   "source": [
    "def f_analyz_platform(data_actual, platform):\n",
    "    # Выделение данных по заданной платформе\n",
    "    data = data_actual.query(f'platform == \"{platform}\"')\n",
    "    \n",
    "    # Просмотр первых строк и информации о данных\n",
    "    print(f\"Данные по платформе {platform}:\")\n",
    "    display(data.head())\n",
    "    data.info()\n",
    "    \n",
    "    # Анализ связи между отзывами пользователей и продажами\n",
    "    data.plot(\n",
    "        title=f'Диаграмма рассеяния между оценками пользователей и продажами для {platform}',\n",
    "        x='user_score',\n",
    "        xlabel='оценка пользователей',\n",
    "        y='total_sales',\n",
    "        ylabel='суммарные продажи',\n",
    "        kind='scatter',\n",
    "        figsize=(8, 6)\n",
    "    )\n",
    "    plt.show()\n",
    "    \n",
    "    # Анализ связи между отзывами критиков и продажами\n",
    "    data.plot(\n",
    "        title=f'Диаграмма рассеяния между оценками критиков и продажами для {platform}',\n",
    "        x='critic_score',\n",
    "        xlabel='оценка критиков',\n",
    "        y='total_sales',\n",
    "        ylabel='суммарные продажи',\n",
    "        kind='scatter',\n",
    "        figsize=(8, 6)\n",
    "    )\n",
    "    plt.show()\n",
    "    \n",
    "    # Расчет коэффициента корреляции Пирсона\n",
    "    print(f'Коэффициенты корреляции Пирсона для платформы \"{platform}\"')\n",
    "    display(data[['user_score', 'critic_score', 'total_sales']].corr().round(2))\n",
    "    \n",
    "    # Вывод средней оценки критиков для заданной платформы\n",
    "    score_platform = data_actual.groupby('platform')['critic_score'].mean().sort_values(ascending=False)\n",
    "    print(f'Средняя оценка критиков для платформы {platform}: {score_platform[platform]}')"
   ]
  },
  {
   "cell_type": "markdown",
   "metadata": {},
   "source": [
    "**Анализ платформы `ps3`**"
   ]
  },
  {
   "cell_type": "code",
   "execution_count": 26,
   "metadata": {},
   "outputs": [
    {
     "name": "stdout",
     "output_type": "stream",
     "text": [
      "Данные по платформе ps3:\n"
     ]
    },
    {
     "data": {
      "text/html": [
       "<div>\n",
       "<style scoped>\n",
       "    .dataframe tbody tr th:only-of-type {\n",
       "        vertical-align: middle;\n",
       "    }\n",
       "\n",
       "    .dataframe tbody tr th {\n",
       "        vertical-align: top;\n",
       "    }\n",
       "\n",
       "    .dataframe thead th {\n",
       "        text-align: right;\n",
       "    }\n",
       "</style>\n",
       "<table border=\"1\" class=\"dataframe\">\n",
       "  <thead>\n",
       "    <tr style=\"text-align: right;\">\n",
       "      <th></th>\n",
       "      <th>name</th>\n",
       "      <th>platform</th>\n",
       "      <th>year_of_release</th>\n",
       "      <th>genre</th>\n",
       "      <th>na_sales</th>\n",
       "      <th>eu_sales</th>\n",
       "      <th>jp_sales</th>\n",
       "      <th>other_sales</th>\n",
       "      <th>critic_score</th>\n",
       "      <th>user_score</th>\n",
       "      <th>rating</th>\n",
       "      <th>total_sales</th>\n",
       "    </tr>\n",
       "  </thead>\n",
       "  <tbody>\n",
       "    <tr>\n",
       "      <th>180</th>\n",
       "      <td>minecraft</td>\n",
       "      <td>ps3</td>\n",
       "      <td>2014</td>\n",
       "      <td>Misc</td>\n",
       "      <td>2.03</td>\n",
       "      <td>2.37</td>\n",
       "      <td>0.00</td>\n",
       "      <td>0.87</td>\n",
       "      <td>&lt;NA&gt;</td>\n",
       "      <td>NaN</td>\n",
       "      <td>RP</td>\n",
       "      <td>5.27</td>\n",
       "    </tr>\n",
       "    <tr>\n",
       "      <th>255</th>\n",
       "      <td>call of duty: advanced warfare</td>\n",
       "      <td>ps3</td>\n",
       "      <td>2014</td>\n",
       "      <td>Shooter</td>\n",
       "      <td>1.56</td>\n",
       "      <td>1.93</td>\n",
       "      <td>0.19</td>\n",
       "      <td>0.68</td>\n",
       "      <td>&lt;NA&gt;</td>\n",
       "      <td>4.8</td>\n",
       "      <td>M</td>\n",
       "      <td>4.36</td>\n",
       "    </tr>\n",
       "    <tr>\n",
       "      <th>264</th>\n",
       "      <td>fifa 15</td>\n",
       "      <td>ps3</td>\n",
       "      <td>2014</td>\n",
       "      <td>Sports</td>\n",
       "      <td>0.58</td>\n",
       "      <td>3.02</td>\n",
       "      <td>0.04</td>\n",
       "      <td>0.64</td>\n",
       "      <td>&lt;NA&gt;</td>\n",
       "      <td>4.5</td>\n",
       "      <td>E</td>\n",
       "      <td>4.28</td>\n",
       "    </tr>\n",
       "    <tr>\n",
       "      <th>552</th>\n",
       "      <td>fifa 16</td>\n",
       "      <td>ps3</td>\n",
       "      <td>2015</td>\n",
       "      <td>Sports</td>\n",
       "      <td>0.41</td>\n",
       "      <td>1.84</td>\n",
       "      <td>0.05</td>\n",
       "      <td>0.40</td>\n",
       "      <td>&lt;NA&gt;</td>\n",
       "      <td>3.2</td>\n",
       "      <td>E</td>\n",
       "      <td>2.70</td>\n",
       "    </tr>\n",
       "    <tr>\n",
       "      <th>1021</th>\n",
       "      <td>watch dogs</td>\n",
       "      <td>ps3</td>\n",
       "      <td>2014</td>\n",
       "      <td>Action</td>\n",
       "      <td>0.56</td>\n",
       "      <td>0.81</td>\n",
       "      <td>0.10</td>\n",
       "      <td>0.27</td>\n",
       "      <td>&lt;NA&gt;</td>\n",
       "      <td>5.1</td>\n",
       "      <td>M</td>\n",
       "      <td>1.74</td>\n",
       "    </tr>\n",
       "  </tbody>\n",
       "</table>\n",
       "</div>"
      ],
      "text/plain": [
       "                                name platform  year_of_release    genre  \\\n",
       "180                        minecraft      ps3             2014     Misc   \n",
       "255   call of duty: advanced warfare      ps3             2014  Shooter   \n",
       "264                          fifa 15      ps3             2014   Sports   \n",
       "552                          fifa 16      ps3             2015   Sports   \n",
       "1021                      watch dogs      ps3             2014   Action   \n",
       "\n",
       "      na_sales  eu_sales  jp_sales  other_sales  critic_score  user_score  \\\n",
       "180       2.03      2.37      0.00         0.87          <NA>         NaN   \n",
       "255       1.56      1.93      0.19         0.68          <NA>         4.8   \n",
       "264       0.58      3.02      0.04         0.64          <NA>         4.5   \n",
       "552       0.41      1.84      0.05         0.40          <NA>         3.2   \n",
       "1021      0.56      0.81      0.10         0.27          <NA>         5.1   \n",
       "\n",
       "     rating  total_sales  \n",
       "180      RP         5.27  \n",
       "255       M         4.36  \n",
       "264       E         4.28  \n",
       "552       E         2.70  \n",
       "1021      M         1.74  "
      ]
     },
     "metadata": {},
     "output_type": "display_data"
    },
    {
     "name": "stdout",
     "output_type": "stream",
     "text": [
      "<class 'pandas.core.frame.DataFrame'>\n",
      "Int64Index: 219 entries, 180 to 16710\n",
      "Data columns (total 12 columns):\n",
      " #   Column           Non-Null Count  Dtype  \n",
      "---  ------           --------------  -----  \n",
      " 0   name             219 non-null    object \n",
      " 1   platform         219 non-null    object \n",
      " 2   year_of_release  219 non-null    Int64  \n",
      " 3   genre            219 non-null    object \n",
      " 4   na_sales         219 non-null    float64\n",
      " 5   eu_sales         219 non-null    float64\n",
      " 6   jp_sales         219 non-null    float64\n",
      " 7   other_sales      219 non-null    float64\n",
      " 8   critic_score     36 non-null     Int64  \n",
      " 9   user_score       98 non-null     float64\n",
      " 10  rating           219 non-null    object \n",
      " 11  total_sales      219 non-null    float64\n",
      "dtypes: Int64(2), float64(6), object(4)\n",
      "memory usage: 22.7+ KB\n"
     ]
    },
    {
     "data": {
      "image/png": "[encoded data removed]",
      "text/plain": [
       "<Figure size 576x432 with 1 Axes>"
      ]
     },
     "metadata": {
      "needs_background": "light"
     },
     "output_type": "display_data"
    },
    {
     "data": {
      "image/png": "[encoded data removed]",
      "text/plain": [
       "<Figure size 576x432 with 1 Axes>"
      ]
     },
     "metadata": {
      "needs_background": "light"
     },
     "output_type": "display_data"
    },
    {
     "name": "stdout",
     "output_type": "stream",
     "text": [
      "Коэффициенты корреляции Пирсона для платформы \"ps3\"\n"
     ]
    },
    {
     "data": {
      "text/html": [
       "<div>\n",
       "<style scoped>\n",
       "    .dataframe tbody tr th:only-of-type {\n",
       "        vertical-align: middle;\n",
       "    }\n",
       "\n",
       "    .dataframe tbody tr th {\n",
       "        vertical-align: top;\n",
       "    }\n",
       "\n",
       "    .dataframe thead th {\n",
       "        text-align: right;\n",
       "    }\n",
       "</style>\n",
       "<table border=\"1\" class=\"dataframe\">\n",
       "  <thead>\n",
       "    <tr style=\"text-align: right;\">\n",
       "      <th></th>\n",
       "      <th>user_score</th>\n",
       "      <th>critic_score</th>\n",
       "      <th>total_sales</th>\n",
       "    </tr>\n",
       "  </thead>\n",
       "  <tbody>\n",
       "    <tr>\n",
       "      <th>user_score</th>\n",
       "      <td>1.00</td>\n",
       "      <td>0.69</td>\n",
       "      <td>-0.17</td>\n",
       "    </tr>\n",
       "    <tr>\n",
       "      <th>critic_score</th>\n",
       "      <td>0.69</td>\n",
       "      <td>1.00</td>\n",
       "      <td>0.45</td>\n",
       "    </tr>\n",
       "    <tr>\n",
       "      <th>total_sales</th>\n",
       "      <td>-0.17</td>\n",
       "      <td>0.45</td>\n",
       "      <td>1.00</td>\n",
       "    </tr>\n",
       "  </tbody>\n",
       "</table>\n",
       "</div>"
      ],
      "text/plain": [
       "              user_score  critic_score  total_sales\n",
       "user_score          1.00          0.69        -0.17\n",
       "critic_score        0.69          1.00         0.45\n",
       "total_sales        -0.17          0.45         1.00"
      ]
     },
     "metadata": {},
     "output_type": "display_data"
    },
    {
     "name": "stdout",
     "output_type": "stream",
     "text": [
      "Средняя оценка критиков для платформы ps3: 66.55555555555556\n"
     ]
    }
   ],
   "source": [
    "f_analyz_platform(data_actual, 'ps3')"
   ]
  },
  {
   "cell_type": "markdown",
   "metadata": {},
   "source": [
    "**Анализ платформы `xone`**"
   ]
  },
  {
   "cell_type": "code",
   "execution_count": 27,
   "metadata": {},
   "outputs": [
    {
     "name": "stdout",
     "output_type": "stream",
     "text": [
      "Данные по платформе xone:\n"
     ]
    },
    {
     "data": {
      "text/html": [
       "<div>\n",
       "<style scoped>\n",
       "    .dataframe tbody tr th:only-of-type {\n",
       "        vertical-align: middle;\n",
       "    }\n",
       "\n",
       "    .dataframe tbody tr th {\n",
       "        vertical-align: top;\n",
       "    }\n",
       "\n",
       "    .dataframe thead th {\n",
       "        text-align: right;\n",
       "    }\n",
       "</style>\n",
       "<table border=\"1\" class=\"dataframe\">\n",
       "  <thead>\n",
       "    <tr style=\"text-align: right;\">\n",
       "      <th></th>\n",
       "      <th>name</th>\n",
       "      <th>platform</th>\n",
       "      <th>year_of_release</th>\n",
       "      <th>genre</th>\n",
       "      <th>na_sales</th>\n",
       "      <th>eu_sales</th>\n",
       "      <th>jp_sales</th>\n",
       "      <th>other_sales</th>\n",
       "      <th>critic_score</th>\n",
       "      <th>user_score</th>\n",
       "      <th>rating</th>\n",
       "      <th>total_sales</th>\n",
       "    </tr>\n",
       "  </thead>\n",
       "  <tbody>\n",
       "    <tr>\n",
       "      <th>99</th>\n",
       "      <td>call of duty: black ops 3</td>\n",
       "      <td>xone</td>\n",
       "      <td>2015</td>\n",
       "      <td>Shooter</td>\n",
       "      <td>4.59</td>\n",
       "      <td>2.11</td>\n",
       "      <td>0.01</td>\n",
       "      <td>0.68</td>\n",
       "      <td>&lt;NA&gt;</td>\n",
       "      <td>NaN</td>\n",
       "      <td>RP</td>\n",
       "      <td>7.39</td>\n",
       "    </tr>\n",
       "    <tr>\n",
       "      <th>165</th>\n",
       "      <td>grand theft auto v</td>\n",
       "      <td>xone</td>\n",
       "      <td>2014</td>\n",
       "      <td>Action</td>\n",
       "      <td>2.81</td>\n",
       "      <td>2.19</td>\n",
       "      <td>0.00</td>\n",
       "      <td>0.47</td>\n",
       "      <td>97</td>\n",
       "      <td>7.9</td>\n",
       "      <td>M</td>\n",
       "      <td>5.47</td>\n",
       "    </tr>\n",
       "    <tr>\n",
       "      <th>179</th>\n",
       "      <td>call of duty: advanced warfare</td>\n",
       "      <td>xone</td>\n",
       "      <td>2014</td>\n",
       "      <td>Shooter</td>\n",
       "      <td>3.22</td>\n",
       "      <td>1.55</td>\n",
       "      <td>0.01</td>\n",
       "      <td>0.48</td>\n",
       "      <td>81</td>\n",
       "      <td>5.4</td>\n",
       "      <td>M</td>\n",
       "      <td>5.26</td>\n",
       "    </tr>\n",
       "    <tr>\n",
       "      <th>242</th>\n",
       "      <td>halo 5: guardians</td>\n",
       "      <td>xone</td>\n",
       "      <td>2015</td>\n",
       "      <td>Shooter</td>\n",
       "      <td>2.78</td>\n",
       "      <td>1.27</td>\n",
       "      <td>0.03</td>\n",
       "      <td>0.41</td>\n",
       "      <td>84</td>\n",
       "      <td>6.4</td>\n",
       "      <td>T</td>\n",
       "      <td>4.49</td>\n",
       "    </tr>\n",
       "    <tr>\n",
       "      <th>270</th>\n",
       "      <td>fallout 4</td>\n",
       "      <td>xone</td>\n",
       "      <td>2015</td>\n",
       "      <td>Role-Playing</td>\n",
       "      <td>2.51</td>\n",
       "      <td>1.32</td>\n",
       "      <td>0.01</td>\n",
       "      <td>0.38</td>\n",
       "      <td>88</td>\n",
       "      <td>6.2</td>\n",
       "      <td>M</td>\n",
       "      <td>4.22</td>\n",
       "    </tr>\n",
       "  </tbody>\n",
       "</table>\n",
       "</div>"
      ],
      "text/plain": [
       "                               name platform  year_of_release         genre  \\\n",
       "99        call of duty: black ops 3     xone             2015       Shooter   \n",
       "165              grand theft auto v     xone             2014        Action   \n",
       "179  call of duty: advanced warfare     xone             2014       Shooter   \n",
       "242               halo 5: guardians     xone             2015       Shooter   \n",
       "270                       fallout 4     xone             2015  Role-Playing   \n",
       "\n",
       "     na_sales  eu_sales  jp_sales  other_sales  critic_score  user_score  \\\n",
       "99       4.59      2.11      0.01         0.68          <NA>         NaN   \n",
       "165      2.81      2.19      0.00         0.47            97         7.9   \n",
       "179      3.22      1.55      0.01         0.48            81         5.4   \n",
       "242      2.78      1.27      0.03         0.41            84         6.4   \n",
       "270      2.51      1.32      0.01         0.38            88         6.2   \n",
       "\n",
       "    rating  total_sales  \n",
       "99      RP         7.39  \n",
       "165      M         5.47  \n",
       "179      M         5.26  \n",
       "242      T         4.49  \n",
       "270      M         4.22  "
      ]
     },
     "metadata": {},
     "output_type": "display_data"
    },
    {
     "name": "stdout",
     "output_type": "stream",
     "text": [
      "<class 'pandas.core.frame.DataFrame'>\n",
      "Int64Index: 228 entries, 99 to 16672\n",
      "Data columns (total 12 columns):\n",
      " #   Column           Non-Null Count  Dtype  \n",
      "---  ------           --------------  -----  \n",
      " 0   name             228 non-null    object \n",
      " 1   platform         228 non-null    object \n",
      " 2   year_of_release  228 non-null    Int64  \n",
      " 3   genre            228 non-null    object \n",
      " 4   na_sales         228 non-null    float64\n",
      " 5   eu_sales         228 non-null    float64\n",
      " 6   jp_sales         228 non-null    float64\n",
      " 7   other_sales      228 non-null    float64\n",
      " 8   critic_score     155 non-null    Int64  \n",
      " 9   user_score       165 non-null    float64\n",
      " 10  rating           228 non-null    object \n",
      " 11  total_sales      228 non-null    float64\n",
      "dtypes: Int64(2), float64(6), object(4)\n",
      "memory usage: 23.6+ KB\n"
     ]
    },
    {
     "data": {
      "image/png": "[encoded data removed]",
      "text/plain": [
       "<Figure size 576x432 with 1 Axes>"
      ]
     },
     "metadata": {
      "needs_background": "light"
     },
     "output_type": "display_data"
    },
    {
     "data": {
      "image/png": "[encoded data removed]",
      "text/plain": [
       "<Figure size 576x432 with 1 Axes>"
      ]
     },
     "metadata": {
      "needs_background": "light"
     },
     "output_type": "display_data"
    },
    {
     "name": "stdout",
     "output_type": "stream",
     "text": [
      "Коэффициенты корреляции Пирсона для платформы \"xone\"\n"
     ]
    },
    {
     "data": {
      "text/html": [
       "<div>\n",
       "<style scoped>\n",
       "    .dataframe tbody tr th:only-of-type {\n",
       "        vertical-align: middle;\n",
       "    }\n",
       "\n",
       "    .dataframe tbody tr th {\n",
       "        vertical-align: top;\n",
       "    }\n",
       "\n",
       "    .dataframe thead th {\n",
       "        text-align: right;\n",
       "    }\n",
       "</style>\n",
       "<table border=\"1\" class=\"dataframe\">\n",
       "  <thead>\n",
       "    <tr style=\"text-align: right;\">\n",
       "      <th></th>\n",
       "      <th>user_score</th>\n",
       "      <th>critic_score</th>\n",
       "      <th>total_sales</th>\n",
       "    </tr>\n",
       "  </thead>\n",
       "  <tbody>\n",
       "    <tr>\n",
       "      <th>user_score</th>\n",
       "      <td>1.00</td>\n",
       "      <td>0.44</td>\n",
       "      <td>-0.07</td>\n",
       "    </tr>\n",
       "    <tr>\n",
       "      <th>critic_score</th>\n",
       "      <td>0.44</td>\n",
       "      <td>1.00</td>\n",
       "      <td>0.43</td>\n",
       "    </tr>\n",
       "    <tr>\n",
       "      <th>total_sales</th>\n",
       "      <td>-0.07</td>\n",
       "      <td>0.43</td>\n",
       "      <td>1.00</td>\n",
       "    </tr>\n",
       "  </tbody>\n",
       "</table>\n",
       "</div>"
      ],
      "text/plain": [
       "              user_score  critic_score  total_sales\n",
       "user_score          1.00          0.44        -0.07\n",
       "critic_score        0.44          1.00         0.43\n",
       "total_sales        -0.07          0.43         1.00"
      ]
     },
     "metadata": {},
     "output_type": "display_data"
    },
    {
     "name": "stdout",
     "output_type": "stream",
     "text": [
      "Средняя оценка критиков для платформы xone: 73.79354838709678\n"
     ]
    }
   ],
   "source": [
    "f_analyz_platform(data_actual, 'xone')"
   ]
  },
  {
   "cell_type": "markdown",
   "metadata": {},
   "source": [
    "**Анализ платформы `ps4`**"
   ]
  },
  {
   "cell_type": "code",
   "execution_count": 28,
   "metadata": {},
   "outputs": [
    {
     "name": "stdout",
     "output_type": "stream",
     "text": [
      "Данные по платформе ps4:\n"
     ]
    },
    {
     "data": {
      "text/html": [
       "<div>\n",
       "<style scoped>\n",
       "    .dataframe tbody tr th:only-of-type {\n",
       "        vertical-align: middle;\n",
       "    }\n",
       "\n",
       "    .dataframe tbody tr th {\n",
       "        vertical-align: top;\n",
       "    }\n",
       "\n",
       "    .dataframe thead th {\n",
       "        text-align: right;\n",
       "    }\n",
       "</style>\n",
       "<table border=\"1\" class=\"dataframe\">\n",
       "  <thead>\n",
       "    <tr style=\"text-align: right;\">\n",
       "      <th></th>\n",
       "      <th>name</th>\n",
       "      <th>platform</th>\n",
       "      <th>year_of_release</th>\n",
       "      <th>genre</th>\n",
       "      <th>na_sales</th>\n",
       "      <th>eu_sales</th>\n",
       "      <th>jp_sales</th>\n",
       "      <th>other_sales</th>\n",
       "      <th>critic_score</th>\n",
       "      <th>user_score</th>\n",
       "      <th>rating</th>\n",
       "      <th>total_sales</th>\n",
       "    </tr>\n",
       "  </thead>\n",
       "  <tbody>\n",
       "    <tr>\n",
       "      <th>31</th>\n",
       "      <td>call of duty: black ops 3</td>\n",
       "      <td>ps4</td>\n",
       "      <td>2015</td>\n",
       "      <td>Shooter</td>\n",
       "      <td>6.03</td>\n",
       "      <td>5.86</td>\n",
       "      <td>0.36</td>\n",
       "      <td>2.38</td>\n",
       "      <td>&lt;NA&gt;</td>\n",
       "      <td>NaN</td>\n",
       "      <td>RP</td>\n",
       "      <td>14.63</td>\n",
       "    </tr>\n",
       "    <tr>\n",
       "      <th>42</th>\n",
       "      <td>grand theft auto v</td>\n",
       "      <td>ps4</td>\n",
       "      <td>2014</td>\n",
       "      <td>Action</td>\n",
       "      <td>3.96</td>\n",
       "      <td>6.31</td>\n",
       "      <td>0.38</td>\n",
       "      <td>1.97</td>\n",
       "      <td>97</td>\n",
       "      <td>8.3</td>\n",
       "      <td>M</td>\n",
       "      <td>12.62</td>\n",
       "    </tr>\n",
       "    <tr>\n",
       "      <th>77</th>\n",
       "      <td>fifa 16</td>\n",
       "      <td>ps4</td>\n",
       "      <td>2015</td>\n",
       "      <td>Sports</td>\n",
       "      <td>1.12</td>\n",
       "      <td>6.12</td>\n",
       "      <td>0.06</td>\n",
       "      <td>1.28</td>\n",
       "      <td>82</td>\n",
       "      <td>4.3</td>\n",
       "      <td>E</td>\n",
       "      <td>8.58</td>\n",
       "    </tr>\n",
       "    <tr>\n",
       "      <th>87</th>\n",
       "      <td>star wars battlefront (2015)</td>\n",
       "      <td>ps4</td>\n",
       "      <td>2015</td>\n",
       "      <td>Shooter</td>\n",
       "      <td>2.99</td>\n",
       "      <td>3.49</td>\n",
       "      <td>0.22</td>\n",
       "      <td>1.28</td>\n",
       "      <td>&lt;NA&gt;</td>\n",
       "      <td>NaN</td>\n",
       "      <td>RP</td>\n",
       "      <td>7.98</td>\n",
       "    </tr>\n",
       "    <tr>\n",
       "      <th>92</th>\n",
       "      <td>call of duty: advanced warfare</td>\n",
       "      <td>ps4</td>\n",
       "      <td>2014</td>\n",
       "      <td>Shooter</td>\n",
       "      <td>2.81</td>\n",
       "      <td>3.48</td>\n",
       "      <td>0.14</td>\n",
       "      <td>1.23</td>\n",
       "      <td>83</td>\n",
       "      <td>5.7</td>\n",
       "      <td>M</td>\n",
       "      <td>7.66</td>\n",
       "    </tr>\n",
       "  </tbody>\n",
       "</table>\n",
       "</div>"
      ],
      "text/plain": [
       "                              name platform  year_of_release    genre  \\\n",
       "31       call of duty: black ops 3      ps4             2015  Shooter   \n",
       "42              grand theft auto v      ps4             2014   Action   \n",
       "77                         fifa 16      ps4             2015   Sports   \n",
       "87    star wars battlefront (2015)      ps4             2015  Shooter   \n",
       "92  call of duty: advanced warfare      ps4             2014  Shooter   \n",
       "\n",
       "    na_sales  eu_sales  jp_sales  other_sales  critic_score  user_score  \\\n",
       "31      6.03      5.86      0.36         2.38          <NA>         NaN   \n",
       "42      3.96      6.31      0.38         1.97            97         8.3   \n",
       "77      1.12      6.12      0.06         1.28            82         4.3   \n",
       "87      2.99      3.49      0.22         1.28          <NA>         NaN   \n",
       "92      2.81      3.48      0.14         1.23            83         5.7   \n",
       "\n",
       "   rating  total_sales  \n",
       "31     RP        14.63  \n",
       "42      M        12.62  \n",
       "77      E         8.58  \n",
       "87     RP         7.98  \n",
       "92      M         7.66  "
      ]
     },
     "metadata": {},
     "output_type": "display_data"
    },
    {
     "name": "stdout",
     "output_type": "stream",
     "text": [
      "<class 'pandas.core.frame.DataFrame'>\n",
      "Int64Index: 376 entries, 31 to 16585\n",
      "Data columns (total 12 columns):\n",
      " #   Column           Non-Null Count  Dtype  \n",
      "---  ------           --------------  -----  \n",
      " 0   name             376 non-null    object \n",
      " 1   platform         376 non-null    object \n",
      " 2   year_of_release  376 non-null    Int64  \n",
      " 3   genre            376 non-null    object \n",
      " 4   na_sales         376 non-null    float64\n",
      " 5   eu_sales         376 non-null    float64\n",
      " 6   jp_sales         376 non-null    float64\n",
      " 7   other_sales      376 non-null    float64\n",
      " 8   critic_score     237 non-null    Int64  \n",
      " 9   user_score       242 non-null    float64\n",
      " 10  rating           376 non-null    object \n",
      " 11  total_sales      376 non-null    float64\n",
      "dtypes: Int64(2), float64(6), object(4)\n",
      "memory usage: 38.9+ KB\n"
     ]
    },
    {
     "data": {
      "image/png": "[encoded data removed]",
      "text/plain": [
       "<Figure size 576x432 with 1 Axes>"
      ]
     },
     "metadata": {
      "needs_background": "light"
     },
     "output_type": "display_data"
    },
    {
     "data": {
      "image/png": "[encoded data removed]",
      "text/plain": [
       "<Figure size 576x432 with 1 Axes>"
      ]
     },
     "metadata": {
      "needs_background": "light"
     },
     "output_type": "display_data"
    },
    {
     "name": "stdout",
     "output_type": "stream",
     "text": [
      "Коэффициенты корреляции Пирсона для платформы \"ps4\"\n"
     ]
    },
    {
     "data": {
      "text/html": [
       "<div>\n",
       "<style scoped>\n",
       "    .dataframe tbody tr th:only-of-type {\n",
       "        vertical-align: middle;\n",
       "    }\n",
       "\n",
       "    .dataframe tbody tr th {\n",
       "        vertical-align: top;\n",
       "    }\n",
       "\n",
       "    .dataframe thead th {\n",
       "        text-align: right;\n",
       "    }\n",
       "</style>\n",
       "<table border=\"1\" class=\"dataframe\">\n",
       "  <thead>\n",
       "    <tr style=\"text-align: right;\">\n",
       "      <th></th>\n",
       "      <th>user_score</th>\n",
       "      <th>critic_score</th>\n",
       "      <th>total_sales</th>\n",
       "    </tr>\n",
       "  </thead>\n",
       "  <tbody>\n",
       "    <tr>\n",
       "      <th>user_score</th>\n",
       "      <td>1.00</td>\n",
       "      <td>0.55</td>\n",
       "      <td>-0.04</td>\n",
       "    </tr>\n",
       "    <tr>\n",
       "      <th>critic_score</th>\n",
       "      <td>0.55</td>\n",
       "      <td>1.00</td>\n",
       "      <td>0.40</td>\n",
       "    </tr>\n",
       "    <tr>\n",
       "      <th>total_sales</th>\n",
       "      <td>-0.04</td>\n",
       "      <td>0.40</td>\n",
       "      <td>1.00</td>\n",
       "    </tr>\n",
       "  </tbody>\n",
       "</table>\n",
       "</div>"
      ],
      "text/plain": [
       "              user_score  critic_score  total_sales\n",
       "user_score          1.00          0.55        -0.04\n",
       "critic_score        0.55          1.00         0.40\n",
       "total_sales        -0.04          0.40         1.00"
      ]
     },
     "metadata": {},
     "output_type": "display_data"
    },
    {
     "name": "stdout",
     "output_type": "stream",
     "text": [
      "Средняя оценка критиков для платформы ps4: 72.16455696202532\n"
     ]
    }
   ],
   "source": [
    "f_analyz_platform(data_actual, 'ps4')"
   ]
  },
  {
   "cell_type": "markdown",
   "metadata": {},
   "source": [
    "**Анализ платформы `pc`**"
   ]
  },
  {
   "cell_type": "code",
   "execution_count": 29,
   "metadata": {},
   "outputs": [
    {
     "name": "stdout",
     "output_type": "stream",
     "text": [
      "Данные по платформе pc:\n"
     ]
    },
    {
     "data": {
      "text/html": [
       "<div>\n",
       "<style scoped>\n",
       "    .dataframe tbody tr th:only-of-type {\n",
       "        vertical-align: middle;\n",
       "    }\n",
       "\n",
       "    .dataframe tbody tr th {\n",
       "        vertical-align: top;\n",
       "    }\n",
       "\n",
       "    .dataframe thead th {\n",
       "        text-align: right;\n",
       "    }\n",
       "</style>\n",
       "<table border=\"1\" class=\"dataframe\">\n",
       "  <thead>\n",
       "    <tr style=\"text-align: right;\">\n",
       "      <th></th>\n",
       "      <th>name</th>\n",
       "      <th>platform</th>\n",
       "      <th>year_of_release</th>\n",
       "      <th>genre</th>\n",
       "      <th>na_sales</th>\n",
       "      <th>eu_sales</th>\n",
       "      <th>jp_sales</th>\n",
       "      <th>other_sales</th>\n",
       "      <th>critic_score</th>\n",
       "      <th>user_score</th>\n",
       "      <th>rating</th>\n",
       "      <th>total_sales</th>\n",
       "    </tr>\n",
       "  </thead>\n",
       "  <tbody>\n",
       "    <tr>\n",
       "      <th>458</th>\n",
       "      <td>the sims 4</td>\n",
       "      <td>pc</td>\n",
       "      <td>2014</td>\n",
       "      <td>Simulation</td>\n",
       "      <td>1.00</td>\n",
       "      <td>1.82</td>\n",
       "      <td>0.0</td>\n",
       "      <td>0.23</td>\n",
       "      <td>70</td>\n",
       "      <td>3.9</td>\n",
       "      <td>T</td>\n",
       "      <td>3.05</td>\n",
       "    </tr>\n",
       "    <tr>\n",
       "      <th>1530</th>\n",
       "      <td>fallout 4</td>\n",
       "      <td>pc</td>\n",
       "      <td>2015</td>\n",
       "      <td>Role-Playing</td>\n",
       "      <td>0.51</td>\n",
       "      <td>0.67</td>\n",
       "      <td>0.0</td>\n",
       "      <td>0.10</td>\n",
       "      <td>84</td>\n",
       "      <td>5.4</td>\n",
       "      <td>M</td>\n",
       "      <td>1.28</td>\n",
       "    </tr>\n",
       "    <tr>\n",
       "      <th>1677</th>\n",
       "      <td>farming simulator 2015</td>\n",
       "      <td>pc</td>\n",
       "      <td>2014</td>\n",
       "      <td>Simulation</td>\n",
       "      <td>0.08</td>\n",
       "      <td>1.04</td>\n",
       "      <td>0.0</td>\n",
       "      <td>0.07</td>\n",
       "      <td>&lt;NA&gt;</td>\n",
       "      <td>NaN</td>\n",
       "      <td>RP</td>\n",
       "      <td>1.19</td>\n",
       "    </tr>\n",
       "    <tr>\n",
       "      <th>1730</th>\n",
       "      <td>grand theft auto v</td>\n",
       "      <td>pc</td>\n",
       "      <td>2015</td>\n",
       "      <td>Action</td>\n",
       "      <td>0.39</td>\n",
       "      <td>0.69</td>\n",
       "      <td>0.0</td>\n",
       "      <td>0.09</td>\n",
       "      <td>96</td>\n",
       "      <td>7.9</td>\n",
       "      <td>M</td>\n",
       "      <td>1.17</td>\n",
       "    </tr>\n",
       "    <tr>\n",
       "      <th>2303</th>\n",
       "      <td>the elder scrolls online</td>\n",
       "      <td>pc</td>\n",
       "      <td>2014</td>\n",
       "      <td>Role-Playing</td>\n",
       "      <td>0.32</td>\n",
       "      <td>0.51</td>\n",
       "      <td>0.0</td>\n",
       "      <td>0.07</td>\n",
       "      <td>71</td>\n",
       "      <td>5.7</td>\n",
       "      <td>M</td>\n",
       "      <td>0.90</td>\n",
       "    </tr>\n",
       "  </tbody>\n",
       "</table>\n",
       "</div>"
      ],
      "text/plain": [
       "                          name platform  year_of_release         genre  \\\n",
       "458                 the sims 4       pc             2014    Simulation   \n",
       "1530                 fallout 4       pc             2015  Role-Playing   \n",
       "1677    farming simulator 2015       pc             2014    Simulation   \n",
       "1730        grand theft auto v       pc             2015        Action   \n",
       "2303  the elder scrolls online       pc             2014  Role-Playing   \n",
       "\n",
       "      na_sales  eu_sales  jp_sales  other_sales  critic_score  user_score  \\\n",
       "458       1.00      1.82       0.0         0.23            70         3.9   \n",
       "1530      0.51      0.67       0.0         0.10            84         5.4   \n",
       "1677      0.08      1.04       0.0         0.07          <NA>         NaN   \n",
       "1730      0.39      0.69       0.0         0.09            96         7.9   \n",
       "2303      0.32      0.51       0.0         0.07            71         5.7   \n",
       "\n",
       "     rating  total_sales  \n",
       "458       T         3.05  \n",
       "1530      M         1.28  \n",
       "1677     RP         1.19  \n",
       "1730      M         1.17  \n",
       "2303      M         0.90  "
      ]
     },
     "metadata": {},
     "output_type": "display_data"
    },
    {
     "name": "stdout",
     "output_type": "stream",
     "text": [
      "<class 'pandas.core.frame.DataFrame'>\n",
      "Int64Index: 151 entries, 458 to 16692\n",
      "Data columns (total 12 columns):\n",
      " #   Column           Non-Null Count  Dtype  \n",
      "---  ------           --------------  -----  \n",
      " 0   name             151 non-null    object \n",
      " 1   platform         151 non-null    object \n",
      " 2   year_of_release  151 non-null    Int64  \n",
      " 3   genre            151 non-null    object \n",
      " 4   na_sales         151 non-null    float64\n",
      " 5   eu_sales         151 non-null    float64\n",
      " 6   jp_sales         151 non-null    float64\n",
      " 7   other_sales      151 non-null    float64\n",
      " 8   critic_score     116 non-null    Int64  \n",
      " 9   user_score       122 non-null    float64\n",
      " 10  rating           151 non-null    object \n",
      " 11  total_sales      151 non-null    float64\n",
      "dtypes: Int64(2), float64(6), object(4)\n",
      "memory usage: 15.6+ KB\n"
     ]
    },
    {
     "data": {
      "image/png": "[encoded data removed]",
      "text/plain": [
       "<Figure size 576x432 with 1 Axes>"
      ]
     },
     "metadata": {
      "needs_background": "light"
     },
     "output_type": "display_data"
    },
    {
     "data": {
      "image/png": "[encoded data removed]",
      "text/plain": [
       "<Figure size 576x432 with 1 Axes>"
      ]
     },
     "metadata": {
      "needs_background": "light"
     },
     "output_type": "display_data"
    },
    {
     "name": "stdout",
     "output_type": "stream",
     "text": [
      "Коэффициенты корреляции Пирсона для платформы \"pc\"\n"
     ]
    },
    {
     "data": {
      "text/html": [
       "<div>\n",
       "<style scoped>\n",
       "    .dataframe tbody tr th:only-of-type {\n",
       "        vertical-align: middle;\n",
       "    }\n",
       "\n",
       "    .dataframe tbody tr th {\n",
       "        vertical-align: top;\n",
       "    }\n",
       "\n",
       "    .dataframe thead th {\n",
       "        text-align: right;\n",
       "    }\n",
       "</style>\n",
       "<table border=\"1\" class=\"dataframe\">\n",
       "  <thead>\n",
       "    <tr style=\"text-align: right;\">\n",
       "      <th></th>\n",
       "      <th>user_score</th>\n",
       "      <th>critic_score</th>\n",
       "      <th>total_sales</th>\n",
       "    </tr>\n",
       "  </thead>\n",
       "  <tbody>\n",
       "    <tr>\n",
       "      <th>user_score</th>\n",
       "      <td>1.00</td>\n",
       "      <td>0.47</td>\n",
       "      <td>-0.07</td>\n",
       "    </tr>\n",
       "    <tr>\n",
       "      <th>critic_score</th>\n",
       "      <td>0.47</td>\n",
       "      <td>1.00</td>\n",
       "      <td>0.17</td>\n",
       "    </tr>\n",
       "    <tr>\n",
       "      <th>total_sales</th>\n",
       "      <td>-0.07</td>\n",
       "      <td>0.17</td>\n",
       "      <td>1.00</td>\n",
       "    </tr>\n",
       "  </tbody>\n",
       "</table>\n",
       "</div>"
      ],
      "text/plain": [
       "              user_score  critic_score  total_sales\n",
       "user_score          1.00          0.47        -0.07\n",
       "critic_score        0.47          1.00         0.17\n",
       "total_sales        -0.07          0.17         1.00"
      ]
     },
     "metadata": {},
     "output_type": "display_data"
    },
    {
     "name": "stdout",
     "output_type": "stream",
     "text": [
      "Средняя оценка критиков для платформы pc: 76.21551724137932\n"
     ]
    }
   ],
   "source": [
    "f_analyz_platform(data_actual, 'pc')"
   ]
  },
  {
   "cell_type": "markdown",
   "metadata": {},
   "source": [
    "Рассчитанные коэффициенты корреляции показывают, что между оценками пользователей и продажами игр внутри отдельных платформ зависимость практически отсутствует, а между оценками критиков и продажами имеется слабая прямая зависимость. Оценки критиков и пользователей имеют прямую взаимосвязь средней силы.\n",
    "Так как большее значение для продаж имеют именно оценки критиков, рассмотрим, каковы средние оценки критиков на других платформах."
   ]
  },
  {
   "cell_type": "code",
   "execution_count": 30,
   "metadata": {},
   "outputs": [
    {
     "data": {
      "text/plain": [
       "platform\n",
       "pc      76.215517\n",
       "xone    73.793548\n",
       "psv     72.259259\n",
       "ps4     72.164557\n",
       "wiiu    71.186047\n",
       "3ds     68.980392\n",
       "ps3     66.555556\n",
       "x360    63.730769\n",
       "psp          <NA>\n",
       "wii          <NA>\n",
       "Name: critic_score, dtype: Float64"
      ]
     },
     "execution_count": 30,
     "metadata": {},
     "output_type": "execute_result"
    }
   ],
   "source": [
    "score_platform = data_actual.groupby('platform')['critic_score'].mean().sort_values(ascending=False)\n",
    "score_platform"
   ]
  },
  {
   "cell_type": "markdown",
   "metadata": {},
   "source": [
    "Судя по оценкам критиков, наиболее перспективными платформами являются (исключая закончившие свой жизненный цикл) `PC`, `XOne`, `PS4`, `WiiU`, `PSV`, `PS3`. У платформы `3DS` средняя оценка заметно ниже, хоть она отмечена нами как имеющая потенциал."
   ]
  },
  {
   "cell_type": "markdown",
   "metadata": {},
   "source": [
    "### Распределение игр по жанрам"
   ]
  },
  {
   "cell_type": "markdown",
   "metadata": {},
   "source": [
    "Сгруппируем по данным таблицы `data_actual` игры по жанрам, посчитаем общие продажи по жанрам"
   ]
  },
  {
   "cell_type": "code",
   "execution_count": 31,
   "metadata": {},
   "outputs": [
    {
     "data": {
      "text/plain": [
       "genre\n",
       "Action          199.36\n",
       "Shooter         170.94\n",
       "Sports          109.48\n",
       "Role-Playing    101.44\n",
       "Misc             37.55\n",
       "Fighting         28.22\n",
       "Racing           27.52\n",
       "Platform         18.09\n",
       "Adventure        17.55\n",
       "Simulation       13.13\n",
       "Strategy          3.96\n",
       "Puzzle            2.21\n",
       "Name: total_sales, dtype: float64"
      ]
     },
     "execution_count": 31,
     "metadata": {},
     "output_type": "execute_result"
    }
   ],
   "source": [
    "data_genre_grouped = data_actual.groupby('genre')['total_sales'].sum().sort_values(ascending=False)\n",
    "data_genre_grouped"
   ]
  },
  {
   "cell_type": "markdown",
   "metadata": {},
   "source": [
    "Рассмотрим числовые характеристики распределения продаж по жанрам"
   ]
  },
  {
   "cell_type": "code",
   "execution_count": 32,
   "metadata": {},
   "outputs": [
    {
     "data": {
      "text/plain": [
       "count     12.00\n",
       "mean      60.79\n",
       "std       67.88\n",
       "min        2.21\n",
       "25%       16.45\n",
       "50%       27.87\n",
       "75%      103.45\n",
       "max      199.36\n",
       "Name: total_sales, dtype: float64"
      ]
     },
     "execution_count": 32,
     "metadata": {},
     "output_type": "execute_result"
    }
   ],
   "source": [
    "data_genre_grouped.describe().round(2)"
   ]
  },
  {
   "cell_type": "markdown",
   "metadata": {},
   "source": [
    "Как видно из числовых характеристик, распределение продаж по жанрам несимметричное. Среднее значение составляет 60,79 миллионов копий, а вот медианное сильно отличается - 27,87 миллионов. При этом стандартное отклонение 67,88, то есть очень большой разброс значений. Половина платформ имеет суммарные продажи в пределах от 16,45 до 103,45 миллионов копий, а максимальное значение составляет почти 200 миллионов копий."
   ]
  },
  {
   "cell_type": "markdown",
   "metadata": {},
   "source": [
    "Построим `ящик с усами` по глобальным продажам игр в разбивке по платформам за актуальный период с 2014 по 2016 годы по таблице `data_actual`."
   ]
  },
  {
   "cell_type": "code",
   "execution_count": 33,
   "metadata": {},
   "outputs": [
    {
     "data": {
      "image/png": "[encoded data removed]",
      "text/plain": [
       "<Figure size 864x432 with 1 Axes>"
      ]
     },
     "metadata": {
      "needs_background": "light"
     },
     "output_type": "display_data"
    }
   ],
   "source": [
    "plt.figure(figsize=(12,6))\n",
    "ax = sns.boxplot(data=data_actual, x='genre', y='total_sales')\n",
    "ax.set(ylim=(0,4))\n",
    "plt.title('Диаграмма размаха жанров по продажам игр за 2014-2016 годы')\n",
    "plt.ylabel('Продажи, миллионов копий')\n",
    "plt.xlabel('Жанры')\n",
    "plt.show()"
   ]
  },
  {
   "cell_type": "markdown",
   "metadata": {},
   "source": [
    "На диаграмме размаха видно, что в нескольких жанрах есть много аномально больших значений продаж, это лидеры среди жанров, приносящие хорошую выручку: `Action`, `Shooter`, `Role-Playing`, `Sports`. Рассмотрим более подробно нижнюю часть графика."
   ]
  },
  {
   "cell_type": "markdown",
   "metadata": {},
   "source": [
    "Как видно из полученной диаграммы размаха, жанр `Action` показывает самое большое количество аномально больших продаж. Жанр `Shooter` имеет самое большое медианное значение, самый большой межквартильный размах и самый большой \"ус\" вправо на графике, то есть наиболее длинный ряд успешно продающихся игр. Достаточно большой стабильностью отличается и жанр `Sports`, также имеющий довольно большие медиану, межквартильный размах и правый ус. Неплохие коробочки у жанров `Platform` и `Simulation`.  \n",
    "А вот жанры `Puzzle` и `Strategy` выглядят весьма скромно, коробочки у них небольшие и выбросов почти нет. Ставку на эти жанры делать не стоит."
   ]
  },
  {
   "cell_type": "markdown",
   "metadata": {},
   "source": [
    "**Вывод.** До 1995 года игр выпускалось мало, интерес для исследования представляет период с 1995 года.  \n",
    "Характерный срок, за который появляются и исчезают платформы, составляет примерно 10 лет. Первые 4-5 лет продажи новых платформ держатся на высоком уровне, затем постепенно снижаются, и примерно на 10-й год они опускаются практически до нуля.  \n",
    "На основании распределения продаж по годам с 2014 по 2016 гг. потенциально прибыльными платформами можно считать `PS4`, `XOne`, `3DS`, `PC`, `WiiU`, `PSV`.  \n",
    "Отзывы пользователей не оказывают влияния на глобальные продажи игр, а между отзывами критиков и продажами игр отмечено присутствие прямой зависимости, хоть и слабой.  \n",
    "Судя по оценкам критиков, выбранные нами платформы, действительно, являются перспективными.  \n",
    "Распределение продаж по жанрам несимметричное. Самые прибыльные жанры: `Action`, `Shooter`, `Sports`, `Role-Playing`, `Platform`, `Simulation`."
   ]
  },
  {
   "cell_type": "markdown",
   "metadata": {},
   "source": [
    "## Портрет пользователя каждого региона\n",
    "### Самые популярные платформы"
   ]
  },
  {
   "cell_type": "markdown",
   "metadata": {},
   "source": [
    "Выберем данные для каждого региона и сгруппируем их по платформам, посчитав суммарное число проданных копий в каждой группе."
   ]
  },
  {
   "cell_type": "code",
   "execution_count": 34,
   "metadata": {},
   "outputs": [
    {
     "data": {
      "text/html": [
       "<div>\n",
       "<style scoped>\n",
       "    .dataframe tbody tr th:only-of-type {\n",
       "        vertical-align: middle;\n",
       "    }\n",
       "\n",
       "    .dataframe tbody tr th {\n",
       "        vertical-align: top;\n",
       "    }\n",
       "\n",
       "    .dataframe thead th {\n",
       "        text-align: right;\n",
       "    }\n",
       "</style>\n",
       "<table border=\"1\" class=\"dataframe\">\n",
       "  <thead>\n",
       "    <tr style=\"text-align: right;\">\n",
       "      <th></th>\n",
       "      <th>eu_sales</th>\n",
       "      <th>jp_sales</th>\n",
       "      <th>na_sales</th>\n",
       "      <th>other_sales</th>\n",
       "    </tr>\n",
       "    <tr>\n",
       "      <th>platform</th>\n",
       "      <th></th>\n",
       "      <th></th>\n",
       "      <th></th>\n",
       "      <th></th>\n",
       "    </tr>\n",
       "  </thead>\n",
       "  <tbody>\n",
       "    <tr>\n",
       "      <th>3ds</th>\n",
       "      <td>16.12</td>\n",
       "      <td>44.24</td>\n",
       "      <td>22.64</td>\n",
       "      <td>3.68</td>\n",
       "    </tr>\n",
       "    <tr>\n",
       "      <th>pc</th>\n",
       "      <td>17.97</td>\n",
       "      <td>0.00</td>\n",
       "      <td>7.23</td>\n",
       "      <td>1.85</td>\n",
       "    </tr>\n",
       "    <tr>\n",
       "      <th>ps3</th>\n",
       "      <td>25.54</td>\n",
       "      <td>11.22</td>\n",
       "      <td>22.05</td>\n",
       "      <td>9.37</td>\n",
       "    </tr>\n",
       "    <tr>\n",
       "      <th>ps4</th>\n",
       "      <td>130.04</td>\n",
       "      <td>15.02</td>\n",
       "      <td>98.61</td>\n",
       "      <td>44.48</td>\n",
       "    </tr>\n",
       "    <tr>\n",
       "      <th>psp</th>\n",
       "      <td>0.00</td>\n",
       "      <td>0.36</td>\n",
       "      <td>0.00</td>\n",
       "      <td>0.00</td>\n",
       "    </tr>\n",
       "    <tr>\n",
       "      <th>psv</th>\n",
       "      <td>3.53</td>\n",
       "      <td>14.54</td>\n",
       "      <td>2.52</td>\n",
       "      <td>1.81</td>\n",
       "    </tr>\n",
       "    <tr>\n",
       "      <th>wii</th>\n",
       "      <td>2.59</td>\n",
       "      <td>0.00</td>\n",
       "      <td>2.08</td>\n",
       "      <td>0.40</td>\n",
       "    </tr>\n",
       "    <tr>\n",
       "      <th>wiiu</th>\n",
       "      <td>13.15</td>\n",
       "      <td>7.31</td>\n",
       "      <td>19.36</td>\n",
       "      <td>3.16</td>\n",
       "    </tr>\n",
       "    <tr>\n",
       "      <th>x360</th>\n",
       "      <td>15.49</td>\n",
       "      <td>0.08</td>\n",
       "      <td>28.30</td>\n",
       "      <td>4.35</td>\n",
       "    </tr>\n",
       "    <tr>\n",
       "      <th>xone</th>\n",
       "      <td>46.25</td>\n",
       "      <td>0.32</td>\n",
       "      <td>81.27</td>\n",
       "      <td>12.52</td>\n",
       "    </tr>\n",
       "  </tbody>\n",
       "</table>\n",
       "</div>"
      ],
      "text/plain": [
       "          eu_sales  jp_sales  na_sales  other_sales\n",
       "platform                                           \n",
       "3ds          16.12     44.24     22.64         3.68\n",
       "pc           17.97      0.00      7.23         1.85\n",
       "ps3          25.54     11.22     22.05         9.37\n",
       "ps4         130.04     15.02     98.61        44.48\n",
       "psp           0.00      0.36      0.00         0.00\n",
       "psv           3.53     14.54      2.52         1.81\n",
       "wii           2.59      0.00      2.08         0.40\n",
       "wiiu         13.15      7.31     19.36         3.16\n",
       "x360         15.49      0.08     28.30         4.35\n",
       "xone         46.25      0.32     81.27        12.52"
      ]
     },
     "execution_count": 34,
     "metadata": {},
     "output_type": "execute_result"
    }
   ],
   "source": [
    "data_region_platform = data_actual.pivot_table(\n",
    "    index='platform',\n",
    "    values=['na_sales', 'eu_sales', 'jp_sales', 'other_sales'],\n",
    "    aggfunc='sum'\n",
    ")\n",
    "data_region_platform"
   ]
  },
  {
   "cell_type": "code",
   "execution_count": 35,
   "metadata": {},
   "outputs": [
    {
     "data": {
      "image/png": "[encoded data removed]",
      "text/plain": [
       "<Figure size 864x576 with 1 Axes>"
      ]
     },
     "metadata": {
      "needs_background": "light"
     },
     "output_type": "display_data"
    }
   ],
   "source": [
    "data_region_platform.plot.bar(figsize=(12, 8))\n",
    "plt.title('Распределение глобальных продаж игр в регионах по платформам', fontsize=18)\n",
    "plt.xlabel('Продажи, миллионов копий')\n",
    "plt.ylabel('Платформы')\n",
    "plt.grid()\n",
    "plt.show()"
   ]
  },
  {
   "cell_type": "markdown",
   "metadata": {},
   "source": [
    "На диаграмме можно увидеть, что в разных регионах пользователи предпочитают разные платформы. Так, в Северной Америке самой востребованной платформой является `X360`, в Японии - `3DS`, в Европе и в других регионах - `PS3`. Для каждого региона выберем 5 самых популярных платформ и на данных по этим платформам построим круговые диаграммы, чтобы выяснить, какую долю каждая платформа занимает в топ-5 платформ по этому региону."
   ]
  },
  {
   "cell_type": "markdown",
   "metadata": {},
   "source": [
    "По каждому региону выберем 5 самых популярных платформ, остальные платформы в сумме обозначим как `other`. По этим данным построим круговые диаграммы, чтобы выяснить, какую долю каждая платформа занимает в продажах по этому региону."
   ]
  },
  {
   "cell_type": "code",
   "execution_count": 36,
   "metadata": {},
   "outputs": [
    {
     "data": {
      "text/plain": [
       "platform\n",
       "ps4      130.04\n",
       "xone      46.25\n",
       "ps3       25.54\n",
       "pc        17.97\n",
       "3ds       16.12\n",
       "other     34.76\n",
       "Name: eu_sales, dtype: float64"
      ]
     },
     "execution_count": 36,
     "metadata": {},
     "output_type": "execute_result"
    }
   ],
   "source": [
    "# Функция для определения топ-5 и суммирования остальных продаж\n",
    "def top_platform(region):\n",
    "    top = data_region_platform[region].sort_values(ascending=False).head()\n",
    "    other = 0\n",
    "    for i in data_region_platform.index:\n",
    "        if i not in top:\n",
    "            other += data_region_platform.loc[i, region]\n",
    "    top.loc['other'] = other\n",
    "    return top\n",
    "\n",
    "top_platform('eu_sales')"
   ]
  },
  {
   "cell_type": "markdown",
   "metadata": {},
   "source": [
    "Построим три круговые диаграммы"
   ]
  },
  {
   "cell_type": "code",
   "execution_count": 37,
   "metadata": {},
   "outputs": [
    {
     "data": {
      "image/png": "[encoded data removed]",
      "text/plain": [
       "<Figure size 1440x1440 with 3 Axes>"
      ]
     },
     "metadata": {},
     "output_type": "display_data"
    }
   ],
   "source": [
    "plt.subplot(131)\n",
    "top_platform('na_sales').plot.pie(autopct='%.1f', figsize=(20, 20), fontsize=14)\n",
    "plt.title('Продажи по платформам в Северной Америке', fontsize=16)                      \n",
    "plt.ylabel('')\n",
    "plt.subplot(132)\n",
    "top_platform('eu_sales').plot.pie(autopct='%.1f', fontsize=14)\n",
    "plt.title('Продажи по платформам в Европе', fontsize=16)\n",
    "plt.ylabel('')\n",
    "plt.subplot(133)\n",
    "top_platform('jp_sales').plot.pie(autopct='%.1f', fontsize=14)\n",
    "plt.title('Продажи по платформам в Японии', fontsize=16)\n",
    "plt.ylabel('')\n",
    "plt.show()"
   ]
  },
  {
   "cell_type": "markdown",
   "metadata": {},
   "source": [
    "Состав топ-5 платформ в разных регионах различается.  \n",
    "В Северной Америке и в Европе первое место по продажам занимает платформа `PS4`, в Европе её доля почти 50 %. Такую по размеру долю в Японии занимает платформа `3DS`, а `PS4` находится на втором месте по продажам.  \n",
    "Второе место в Северной Америке и Европе занимает платформа `XOne`. На все остальные платформы в Северной Америке и Европе остаётся лишь треть общего объема продаж. В Северной Америке третье место с результатом 10 % занимает платформа `X360`, Четвертое и пятое места делят `3DS` и `PS3`.  \n",
    "В Евроме платформа `PS3` пока остаётся на третьем месте, четвёртое место занимает традиционная `PC`, и на пятом месте `3DS`.  \n",
    "В Японии на третьем месте `PSV`, на четвёртом `PS3` и на пятом `WiiU`.  \n",
    "Другие платформы в Америке составляют 11 % рынка, в Европе = 13 %, а в Японии - менее 1 %, то есть в Японии хорошо продаются игры только пяти платформ.\n",
    "\n",
    "Таким образом платформа `PS4` является самой популярной в мире, хотя в Японии она и не на первом месте; `3DS` также в топ-5 во всём мире, а в Японии её доля составляет почти половину рынка; `PS3` по-прежнему популярна во всём мире, удерживается в топ-5 во всех регионах. На платформы `XOne`, `X360`, `PC`, `PSV`, `WiiU` также можно рассчитывать в плане прибыльности."
   ]
  },
  {
   "cell_type": "markdown",
   "metadata": {},
   "source": [
    "### Самые популярные жанры"
   ]
  },
  {
   "cell_type": "markdown",
   "metadata": {},
   "source": [
    "Выберем данные для каждого региона и сгруппируем их по жанрам, посчитав суммарное число проданных копий в каждой группе."
   ]
  },
  {
   "cell_type": "code",
   "execution_count": 38,
   "metadata": {},
   "outputs": [
    {
     "data": {
      "text/html": [
       "<div>\n",
       "<style scoped>\n",
       "    .dataframe tbody tr th:only-of-type {\n",
       "        vertical-align: middle;\n",
       "    }\n",
       "\n",
       "    .dataframe tbody tr th {\n",
       "        vertical-align: top;\n",
       "    }\n",
       "\n",
       "    .dataframe thead th {\n",
       "        text-align: right;\n",
       "    }\n",
       "</style>\n",
       "<table border=\"1\" class=\"dataframe\">\n",
       "  <thead>\n",
       "    <tr style=\"text-align: right;\">\n",
       "      <th></th>\n",
       "      <th>eu_sales</th>\n",
       "      <th>jp_sales</th>\n",
       "      <th>na_sales</th>\n",
       "      <th>other_sales</th>\n",
       "    </tr>\n",
       "    <tr>\n",
       "      <th>genre</th>\n",
       "      <th></th>\n",
       "      <th></th>\n",
       "      <th></th>\n",
       "      <th></th>\n",
       "    </tr>\n",
       "  </thead>\n",
       "  <tbody>\n",
       "    <tr>\n",
       "      <th>Action</th>\n",
       "      <td>74.68</td>\n",
       "      <td>29.58</td>\n",
       "      <td>72.53</td>\n",
       "      <td>22.57</td>\n",
       "    </tr>\n",
       "    <tr>\n",
       "      <th>Adventure</th>\n",
       "      <td>6.49</td>\n",
       "      <td>3.60</td>\n",
       "      <td>5.64</td>\n",
       "      <td>1.82</td>\n",
       "    </tr>\n",
       "    <tr>\n",
       "      <th>Fighting</th>\n",
       "      <td>6.69</td>\n",
       "      <td>6.37</td>\n",
       "      <td>12.43</td>\n",
       "      <td>2.73</td>\n",
       "    </tr>\n",
       "    <tr>\n",
       "      <th>Misc</th>\n",
       "      <td>12.86</td>\n",
       "      <td>5.61</td>\n",
       "      <td>15.05</td>\n",
       "      <td>4.03</td>\n",
       "    </tr>\n",
       "    <tr>\n",
       "      <th>Platform</th>\n",
       "      <td>6.80</td>\n",
       "      <td>2.69</td>\n",
       "      <td>6.79</td>\n",
       "      <td>1.81</td>\n",
       "    </tr>\n",
       "    <tr>\n",
       "      <th>Puzzle</th>\n",
       "      <td>0.52</td>\n",
       "      <td>0.93</td>\n",
       "      <td>0.65</td>\n",
       "      <td>0.11</td>\n",
       "    </tr>\n",
       "    <tr>\n",
       "      <th>Racing</th>\n",
       "      <td>14.13</td>\n",
       "      <td>1.76</td>\n",
       "      <td>8.74</td>\n",
       "      <td>2.89</td>\n",
       "    </tr>\n",
       "    <tr>\n",
       "      <th>Role-Playing</th>\n",
       "      <td>28.17</td>\n",
       "      <td>31.16</td>\n",
       "      <td>33.47</td>\n",
       "      <td>8.64</td>\n",
       "    </tr>\n",
       "    <tr>\n",
       "      <th>Shooter</th>\n",
       "      <td>65.52</td>\n",
       "      <td>4.87</td>\n",
       "      <td>79.02</td>\n",
       "      <td>21.53</td>\n",
       "    </tr>\n",
       "    <tr>\n",
       "      <th>Simulation</th>\n",
       "      <td>7.30</td>\n",
       "      <td>2.31</td>\n",
       "      <td>2.63</td>\n",
       "      <td>0.89</td>\n",
       "    </tr>\n",
       "    <tr>\n",
       "      <th>Sports</th>\n",
       "      <td>45.73</td>\n",
       "      <td>3.26</td>\n",
       "      <td>46.13</td>\n",
       "      <td>14.36</td>\n",
       "    </tr>\n",
       "    <tr>\n",
       "      <th>Strategy</th>\n",
       "      <td>1.79</td>\n",
       "      <td>0.95</td>\n",
       "      <td>0.98</td>\n",
       "      <td>0.24</td>\n",
       "    </tr>\n",
       "  </tbody>\n",
       "</table>\n",
       "</div>"
      ],
      "text/plain": [
       "              eu_sales  jp_sales  na_sales  other_sales\n",
       "genre                                                  \n",
       "Action           74.68     29.58     72.53        22.57\n",
       "Adventure         6.49      3.60      5.64         1.82\n",
       "Fighting          6.69      6.37     12.43         2.73\n",
       "Misc             12.86      5.61     15.05         4.03\n",
       "Platform          6.80      2.69      6.79         1.81\n",
       "Puzzle            0.52      0.93      0.65         0.11\n",
       "Racing           14.13      1.76      8.74         2.89\n",
       "Role-Playing     28.17     31.16     33.47         8.64\n",
       "Shooter          65.52      4.87     79.02        21.53\n",
       "Simulation        7.30      2.31      2.63         0.89\n",
       "Sports           45.73      3.26     46.13        14.36\n",
       "Strategy          1.79      0.95      0.98         0.24"
      ]
     },
     "execution_count": 38,
     "metadata": {},
     "output_type": "execute_result"
    }
   ],
   "source": [
    "data_region_genre = data_actual.pivot_table(\n",
    "    index='genre',\n",
    "    values=['na_sales', 'eu_sales', 'jp_sales', 'other_sales'],\n",
    "    aggfunc='sum'\n",
    ")\n",
    "data_region_genre"
   ]
  },
  {
   "cell_type": "code",
   "execution_count": 39,
   "metadata": {},
   "outputs": [
    {
     "data": {
      "image/png": "[encoded data removed]",
      "text/plain": [
       "<Figure size 864x576 with 1 Axes>"
      ]
     },
     "metadata": {
      "needs_background": "light"
     },
     "output_type": "display_data"
    }
   ],
   "source": [
    "data_region_genre.plot.bar(figsize=(12, 8))\n",
    "plt.title('Распределение глобальных продаж игр в регионах по жанрам', fontsize=18)\n",
    "plt.xlabel('Продажи, миллионов копий')\n",
    "plt.ylabel('Жанры')\n",
    "plt.grid()\n",
    "plt.show()"
   ]
  },
  {
   "cell_type": "markdown",
   "metadata": {},
   "source": [
    "Первые результаты: в Японии на первом месте по продажам жанр `Role-Playing`, а во всех остальных регионах жанр `Action`. Посмотрим на состав топ-5 жанров более подробно. Для каждого региона выберем 5 самых популярных жанров и на данных по этим жанрам построим круговые диаграммы."
   ]
  },
  {
   "cell_type": "code",
   "execution_count": 40,
   "metadata": {},
   "outputs": [
    {
     "data": {
      "text/html": [
       "<div>\n",
       "<style scoped>\n",
       "    .dataframe tbody tr th:only-of-type {\n",
       "        vertical-align: middle;\n",
       "    }\n",
       "\n",
       "    .dataframe tbody tr th {\n",
       "        vertical-align: top;\n",
       "    }\n",
       "\n",
       "    .dataframe thead th {\n",
       "        text-align: right;\n",
       "    }\n",
       "</style>\n",
       "<table border=\"1\" class=\"dataframe\">\n",
       "  <thead>\n",
       "    <tr style=\"text-align: right;\">\n",
       "      <th></th>\n",
       "      <th>eu_sales</th>\n",
       "      <th>jp_sales</th>\n",
       "      <th>na_sales</th>\n",
       "      <th>other_sales</th>\n",
       "    </tr>\n",
       "    <tr>\n",
       "      <th>genre</th>\n",
       "      <th></th>\n",
       "      <th></th>\n",
       "      <th></th>\n",
       "      <th></th>\n",
       "    </tr>\n",
       "  </thead>\n",
       "  <tbody>\n",
       "    <tr>\n",
       "      <th>Action</th>\n",
       "      <td>74.68</td>\n",
       "      <td>29.58</td>\n",
       "      <td>72.53</td>\n",
       "      <td>22.57</td>\n",
       "    </tr>\n",
       "    <tr>\n",
       "      <th>Adventure</th>\n",
       "      <td>6.49</td>\n",
       "      <td>3.60</td>\n",
       "      <td>5.64</td>\n",
       "      <td>1.82</td>\n",
       "    </tr>\n",
       "    <tr>\n",
       "      <th>Fighting</th>\n",
       "      <td>6.69</td>\n",
       "      <td>6.37</td>\n",
       "      <td>12.43</td>\n",
       "      <td>2.73</td>\n",
       "    </tr>\n",
       "    <tr>\n",
       "      <th>Misc</th>\n",
       "      <td>12.86</td>\n",
       "      <td>5.61</td>\n",
       "      <td>15.05</td>\n",
       "      <td>4.03</td>\n",
       "    </tr>\n",
       "    <tr>\n",
       "      <th>Platform</th>\n",
       "      <td>6.80</td>\n",
       "      <td>2.69</td>\n",
       "      <td>6.79</td>\n",
       "      <td>1.81</td>\n",
       "    </tr>\n",
       "    <tr>\n",
       "      <th>Puzzle</th>\n",
       "      <td>0.52</td>\n",
       "      <td>0.93</td>\n",
       "      <td>0.65</td>\n",
       "      <td>0.11</td>\n",
       "    </tr>\n",
       "    <tr>\n",
       "      <th>Racing</th>\n",
       "      <td>14.13</td>\n",
       "      <td>1.76</td>\n",
       "      <td>8.74</td>\n",
       "      <td>2.89</td>\n",
       "    </tr>\n",
       "    <tr>\n",
       "      <th>Role-Playing</th>\n",
       "      <td>28.17</td>\n",
       "      <td>31.16</td>\n",
       "      <td>33.47</td>\n",
       "      <td>8.64</td>\n",
       "    </tr>\n",
       "    <tr>\n",
       "      <th>Shooter</th>\n",
       "      <td>65.52</td>\n",
       "      <td>4.87</td>\n",
       "      <td>79.02</td>\n",
       "      <td>21.53</td>\n",
       "    </tr>\n",
       "    <tr>\n",
       "      <th>Simulation</th>\n",
       "      <td>7.30</td>\n",
       "      <td>2.31</td>\n",
       "      <td>2.63</td>\n",
       "      <td>0.89</td>\n",
       "    </tr>\n",
       "    <tr>\n",
       "      <th>Sports</th>\n",
       "      <td>45.73</td>\n",
       "      <td>3.26</td>\n",
       "      <td>46.13</td>\n",
       "      <td>14.36</td>\n",
       "    </tr>\n",
       "    <tr>\n",
       "      <th>Strategy</th>\n",
       "      <td>1.79</td>\n",
       "      <td>0.95</td>\n",
       "      <td>0.98</td>\n",
       "      <td>0.24</td>\n",
       "    </tr>\n",
       "  </tbody>\n",
       "</table>\n",
       "</div>"
      ],
      "text/plain": [
       "              eu_sales  jp_sales  na_sales  other_sales\n",
       "genre                                                  \n",
       "Action           74.68     29.58     72.53        22.57\n",
       "Adventure         6.49      3.60      5.64         1.82\n",
       "Fighting          6.69      6.37     12.43         2.73\n",
       "Misc             12.86      5.61     15.05         4.03\n",
       "Platform          6.80      2.69      6.79         1.81\n",
       "Puzzle            0.52      0.93      0.65         0.11\n",
       "Racing           14.13      1.76      8.74         2.89\n",
       "Role-Playing     28.17     31.16     33.47         8.64\n",
       "Shooter          65.52      4.87     79.02        21.53\n",
       "Simulation        7.30      2.31      2.63         0.89\n",
       "Sports           45.73      3.26     46.13        14.36\n",
       "Strategy          1.79      0.95      0.98         0.24"
      ]
     },
     "execution_count": 40,
     "metadata": {},
     "output_type": "execute_result"
    }
   ],
   "source": [
    "data_region_genre"
   ]
  },
  {
   "cell_type": "code",
   "execution_count": 41,
   "metadata": {},
   "outputs": [
    {
     "data": {
      "text/plain": [
       "genre\n",
       "Action          74.68\n",
       "Shooter         65.52\n",
       "Sports          45.73\n",
       "Role-Playing    28.17\n",
       "Racing          14.13\n",
       "other           42.45\n",
       "Name: eu_sales, dtype: float64"
      ]
     },
     "execution_count": 41,
     "metadata": {},
     "output_type": "execute_result"
    }
   ],
   "source": [
    "# Функция для определения топ-5 и суммирования остальных продаж\n",
    "def top_genre(region):\n",
    "    top = data_region_genre[region].sort_values(ascending=False).head()\n",
    "    other = 0\n",
    "    for i in data_region_genre.index:\n",
    "        if i not in top:\n",
    "            other += data_region_genre.loc[i, region]\n",
    "    top.loc['other'] = other\n",
    "    return top\n",
    "\n",
    "top_genre('eu_sales')"
   ]
  },
  {
   "cell_type": "code",
   "execution_count": 42,
   "metadata": {},
   "outputs": [
    {
     "data": {
      "image/png": "[encoded data removed]",
      "text/plain": [
       "<Figure size 1440x1440 with 3 Axes>"
      ]
     },
     "metadata": {},
     "output_type": "display_data"
    }
   ],
   "source": [
    "plt.subplot(131)\n",
    "top_genre('na_sales').plot.pie(autopct='%.1f', figsize=(20, 20), fontsize=14)\n",
    "plt.title('Продажи по жанрам в Северной Америке', fontsize=16)                      \n",
    "plt.ylabel('')\n",
    "plt.subplot(132)\n",
    "top_genre('eu_sales').plot.pie(autopct='%.1f', fontsize=14)\n",
    "plt.title('Продажи по жанрам в Европе', fontsize=16)\n",
    "plt.ylabel('')\n",
    "plt.subplot(133)\n",
    "top_genre('jp_sales').plot.pie(autopct='%.1f', fontsize=14)\n",
    "plt.title('Продажи по жанрам в Японии', fontsize=16)\n",
    "plt.ylabel('')\n",
    "plt.show()"
   ]
  },
  {
   "cell_type": "markdown",
   "metadata": {},
   "source": [
    "В Северной Америке первое место по объему продаж занимают игры жанра `Sooter`, второе - `Action`, в Европе - наоборот, первое место занимает `Action`, второе - `Shooter`. Разница между величиной доли первого и второго по продажам жанра невелика. Можно считать, что первые два по популярности жанра в Европе и Америке одинаковы. Третий и четвертый по популярности жанры в Европе и Америке практически идентичны: `Sports` и `Role-Playing`. И только пятый по популярности жанр в этих регионах разный: в Северной Америке на пятом месте находится `Misc`, а в Европе - `Racing`.  \n",
    "В Японии распределение жанров сильно отличается. Треть рынка игр занимают игры в жанре `Role-Playing`, на втором месте, тоже почти треть - `Action`, следующие три жанра - `Fighting`, `Misc`, `Shooter`. На остальные жанры приходится 16,7 % рынка. \n",
    "\n",
    "Итак, `Action` - самый популярный жанр в мире, он и `Shooter`, `Role-Playing`, `Sports` - основные жанры, на которые нужно делать акцент в формировании ассортимента игр. Кроме того, необходимо присутствие таких жанров как `Misc`, `Racing`, `Fighting`."
   ]
  },
  {
   "cell_type": "markdown",
   "metadata": {},
   "source": [
    "### Влияние рейтинга ESRB на продажи"
   ]
  },
  {
   "cell_type": "code",
   "execution_count": 43,
   "metadata": {},
   "outputs": [
    {
     "data": {
      "text/plain": [
       "array(['RP', 'M', 'E', 'T', 'E10+'], dtype=object)"
      ]
     },
     "execution_count": 43,
     "metadata": {},
     "output_type": "execute_result"
    }
   ],
   "source": [
    "data_actual['rating'].unique()"
   ]
  },
  {
   "cell_type": "markdown",
   "metadata": {},
   "source": [
    "Напомним, что по классификации `ESRB` рейтинги игр основаны на их содержании и имеют следующие обозначения:\n",
    "* `EC` - для детей младшего возраста (с 3 лет);\n",
    "* `E` - для всех;\n",
    "* `E10+` - для всех от 10 лет и старше;\n",
    "* `T` - подросткам;\n",
    "* `M` - для взрослых;\n",
    "* `AO` - только для взрослых;\n",
    "* `RP` - рейтинг ожидается."
   ]
  },
  {
   "cell_type": "markdown",
   "metadata": {},
   "source": [
    "На основе датафрейма `data_actual` построим сводную таблицу продаж по регионам и рейтингам ESRB"
   ]
  },
  {
   "cell_type": "code",
   "execution_count": 44,
   "metadata": {},
   "outputs": [
    {
     "data": {
      "text/html": [
       "<div>\n",
       "<style scoped>\n",
       "    .dataframe tbody tr th:only-of-type {\n",
       "        vertical-align: middle;\n",
       "    }\n",
       "\n",
       "    .dataframe tbody tr th {\n",
       "        vertical-align: top;\n",
       "    }\n",
       "\n",
       "    .dataframe thead th {\n",
       "        text-align: right;\n",
       "    }\n",
       "</style>\n",
       "<table border=\"1\" class=\"dataframe\">\n",
       "  <thead>\n",
       "    <tr style=\"text-align: right;\">\n",
       "      <th></th>\n",
       "      <th>eu_sales</th>\n",
       "      <th>jp_sales</th>\n",
       "      <th>na_sales</th>\n",
       "      <th>other_sales</th>\n",
       "    </tr>\n",
       "    <tr>\n",
       "      <th>rating</th>\n",
       "      <th></th>\n",
       "      <th></th>\n",
       "      <th></th>\n",
       "      <th></th>\n",
       "    </tr>\n",
       "  </thead>\n",
       "  <tbody>\n",
       "    <tr>\n",
       "      <th>E</th>\n",
       "      <td>58.06</td>\n",
       "      <td>8.94</td>\n",
       "      <td>50.74</td>\n",
       "      <td>15.39</td>\n",
       "    </tr>\n",
       "    <tr>\n",
       "      <th>E10+</th>\n",
       "      <td>26.16</td>\n",
       "      <td>4.46</td>\n",
       "      <td>33.23</td>\n",
       "      <td>7.83</td>\n",
       "    </tr>\n",
       "    <tr>\n",
       "      <th>M</th>\n",
       "      <td>93.44</td>\n",
       "      <td>8.01</td>\n",
       "      <td>96.42</td>\n",
       "      <td>28.67</td>\n",
       "    </tr>\n",
       "    <tr>\n",
       "      <th>RP</th>\n",
       "      <td>58.95</td>\n",
       "      <td>56.90</td>\n",
       "      <td>64.72</td>\n",
       "      <td>18.40</td>\n",
       "    </tr>\n",
       "    <tr>\n",
       "      <th>T</th>\n",
       "      <td>34.07</td>\n",
       "      <td>14.78</td>\n",
       "      <td>38.95</td>\n",
       "      <td>11.33</td>\n",
       "    </tr>\n",
       "  </tbody>\n",
       "</table>\n",
       "</div>"
      ],
      "text/plain": [
       "        eu_sales  jp_sales  na_sales  other_sales\n",
       "rating                                           \n",
       "E          58.06      8.94     50.74        15.39\n",
       "E10+       26.16      4.46     33.23         7.83\n",
       "M          93.44      8.01     96.42        28.67\n",
       "RP         58.95     56.90     64.72        18.40\n",
       "T          34.07     14.78     38.95        11.33"
      ]
     },
     "execution_count": 44,
     "metadata": {},
     "output_type": "execute_result"
    }
   ],
   "source": [
    "data_region_rating = data_actual.pivot_table(\n",
    "    index='rating',\n",
    "    values=['na_sales', 'eu_sales', 'jp_sales', 'other_sales'],\n",
    "    aggfunc='sum'\n",
    ")\n",
    "data_region_rating"
   ]
  },
  {
   "cell_type": "code",
   "execution_count": 45,
   "metadata": {},
   "outputs": [
    {
     "data": {
      "image/png": "[encoded data removed]",
      "text/plain": [
       "<Figure size 864x576 with 1 Axes>"
      ]
     },
     "metadata": {
      "needs_background": "light"
     },
     "output_type": "display_data"
    }
   ],
   "source": [
    "data_region_rating.plot.bar(figsize=(12, 8))\n",
    "plt.title('Распределение глобальных продаж игр в регионах по рейтингам ESRB', fontsize=18)\n",
    "plt.xlabel('Продажи, миллионов копий')\n",
    "plt.ylabel('Рейтинги ESRB')\n",
    "plt.grid()\n",
    "plt.show()"
   ]
  },
  {
   "cell_type": "markdown",
   "metadata": {},
   "source": [
    "В Северной Америке и Европе рейтинг `ESRB` оказывает заметное влияние на продажи игр: заметно больше остальных продажи в группах игр `M` (для взрослых), меньше в группах `RP` (без рейтинга) и `E` (для всех). В группах `E10+` (для детей с 10 лет) и `T` (для подростков) ещё меньше. В Японии самое большое число продаваемых игр без рейтинга."
   ]
  },
  {
   "cell_type": "markdown",
   "metadata": {},
   "source": [
    "Посмотрим на частотность использования всех категорий рейтинга."
   ]
  },
  {
   "cell_type": "code",
   "execution_count": 46,
   "metadata": {},
   "outputs": [
    {
     "data": {
      "image/png": "[encoded data removed]",
      "text/plain": [
       "<Figure size 720x432 with 1 Axes>"
      ]
     },
     "metadata": {},
     "output_type": "display_data"
    }
   ],
   "source": [
    "fig = plt.figure(figsize=(10, 6))\n",
    "data_actual['rating'].value_counts().plot.pie(autopct='%.1f')\n",
    "plt.title('Распределение продаж по категориям рейтинга', fontsize=16)\n",
    "plt.ylabel('')\n",
    "plt.show()"
   ]
  },
  {
   "cell_type": "markdown",
   "metadata": {},
   "source": [
    "Очень много игр без рейтинга (44 %). Остальные категории распределились примерно в равных пропорциях. Объединим в категорию `для взрослых и подростков` группы `M` и `T` и в категорию `для всех` группы `E` и `E10+`. Если рейтинг не определён (группа `RP`), эти игры также можно отнести в категорию `для всех`."
   ]
  },
  {
   "cell_type": "code",
   "execution_count": 47,
   "metadata": {},
   "outputs": [
    {
     "data": {
      "text/html": [
       "<div>\n",
       "<style scoped>\n",
       "    .dataframe tbody tr th:only-of-type {\n",
       "        vertical-align: middle;\n",
       "    }\n",
       "\n",
       "    .dataframe tbody tr th {\n",
       "        vertical-align: top;\n",
       "    }\n",
       "\n",
       "    .dataframe thead th {\n",
       "        text-align: right;\n",
       "    }\n",
       "</style>\n",
       "<table border=\"1\" class=\"dataframe\">\n",
       "  <thead>\n",
       "    <tr style=\"text-align: right;\">\n",
       "      <th></th>\n",
       "      <th>eu_sales</th>\n",
       "      <th>jp_sales</th>\n",
       "      <th>na_sales</th>\n",
       "      <th>other_sales</th>\n",
       "    </tr>\n",
       "    <tr>\n",
       "      <th>rating</th>\n",
       "      <th></th>\n",
       "      <th></th>\n",
       "      <th></th>\n",
       "      <th></th>\n",
       "    </tr>\n",
       "  </thead>\n",
       "  <tbody>\n",
       "    <tr>\n",
       "      <th>E</th>\n",
       "      <td>58.06</td>\n",
       "      <td>8.94</td>\n",
       "      <td>50.74</td>\n",
       "      <td>15.39</td>\n",
       "    </tr>\n",
       "    <tr>\n",
       "      <th>E10+</th>\n",
       "      <td>26.16</td>\n",
       "      <td>4.46</td>\n",
       "      <td>33.23</td>\n",
       "      <td>7.83</td>\n",
       "    </tr>\n",
       "    <tr>\n",
       "      <th>M</th>\n",
       "      <td>93.44</td>\n",
       "      <td>8.01</td>\n",
       "      <td>96.42</td>\n",
       "      <td>28.67</td>\n",
       "    </tr>\n",
       "    <tr>\n",
       "      <th>RP</th>\n",
       "      <td>58.95</td>\n",
       "      <td>56.90</td>\n",
       "      <td>64.72</td>\n",
       "      <td>18.40</td>\n",
       "    </tr>\n",
       "    <tr>\n",
       "      <th>T</th>\n",
       "      <td>34.07</td>\n",
       "      <td>14.78</td>\n",
       "      <td>38.95</td>\n",
       "      <td>11.33</td>\n",
       "    </tr>\n",
       "  </tbody>\n",
       "</table>\n",
       "</div>"
      ],
      "text/plain": [
       "        eu_sales  jp_sales  na_sales  other_sales\n",
       "rating                                           \n",
       "E          58.06      8.94     50.74        15.39\n",
       "E10+       26.16      4.46     33.23         7.83\n",
       "M          93.44      8.01     96.42        28.67\n",
       "RP         58.95     56.90     64.72        18.40\n",
       "T          34.07     14.78     38.95        11.33"
      ]
     },
     "execution_count": 47,
     "metadata": {},
     "output_type": "execute_result"
    }
   ],
   "source": [
    "data_region_rating"
   ]
  },
  {
   "cell_type": "code",
   "execution_count": 48,
   "metadata": {},
   "outputs": [
    {
     "data": {
      "text/html": [
       "<div>\n",
       "<style scoped>\n",
       "    .dataframe tbody tr th:only-of-type {\n",
       "        vertical-align: middle;\n",
       "    }\n",
       "\n",
       "    .dataframe tbody tr th {\n",
       "        vertical-align: top;\n",
       "    }\n",
       "\n",
       "    .dataframe thead th {\n",
       "        text-align: right;\n",
       "    }\n",
       "</style>\n",
       "<table border=\"1\" class=\"dataframe\">\n",
       "  <thead>\n",
       "    <tr style=\"text-align: right;\">\n",
       "      <th></th>\n",
       "      <th>eu_sales</th>\n",
       "      <th>jp_sales</th>\n",
       "      <th>na_sales</th>\n",
       "      <th>other_sales</th>\n",
       "    </tr>\n",
       "    <tr>\n",
       "      <th>rating</th>\n",
       "      <th></th>\n",
       "      <th></th>\n",
       "      <th></th>\n",
       "      <th></th>\n",
       "    </tr>\n",
       "  </thead>\n",
       "  <tbody>\n",
       "    <tr>\n",
       "      <th>everyone</th>\n",
       "      <td>143.17</td>\n",
       "      <td>70.30</td>\n",
       "      <td>148.69</td>\n",
       "      <td>41.62</td>\n",
       "    </tr>\n",
       "    <tr>\n",
       "      <th>adult</th>\n",
       "      <td>127.51</td>\n",
       "      <td>22.79</td>\n",
       "      <td>135.37</td>\n",
       "      <td>40.00</td>\n",
       "    </tr>\n",
       "  </tbody>\n",
       "</table>\n",
       "</div>"
      ],
      "text/plain": [
       "          eu_sales  jp_sales  na_sales  other_sales\n",
       "rating                                             \n",
       "everyone    143.17     70.30    148.69        41.62\n",
       "adult       127.51     22.79    135.37        40.00"
      ]
     },
     "execution_count": 48,
     "metadata": {},
     "output_type": "execute_result"
    }
   ],
   "source": [
    "data_region_rating.loc['everyone'] = data_region_rating.loc[['E', 'E10+', 'RP']].sum(axis = 0)\n",
    "data_region_rating.loc['adult'] = data_region_rating.loc[['M', 'T']].sum(axis = 0)\n",
    "data_region_rating_2 = data_region_rating.query('rating == \"adult\" or rating == \"everyone\"')\n",
    "data_region_rating_2"
   ]
  },
  {
   "cell_type": "code",
   "execution_count": 49,
   "metadata": {},
   "outputs": [
    {
     "data": {
      "image/png": "[encoded data removed]",
      "text/plain": [
       "<Figure size 1440x1440 with 3 Axes>"
      ]
     },
     "metadata": {},
     "output_type": "display_data"
    }
   ],
   "source": [
    "plt.subplot(131)\n",
    "data_region_rating_2['na_sales'].plot.pie(autopct='%.1f', figsize=(20, 20), fontsize=14)\n",
    "plt.title('Продажи по категориям в Северной Америке', fontsize=16)                      \n",
    "plt.ylabel('')\n",
    "plt.subplot(132)\n",
    "data_region_rating_2['eu_sales'].plot.pie(autopct='%.1f', figsize=(20, 20), fontsize=14)\n",
    "plt.title('Продажи по категориям в Европе', fontsize=16)                      \n",
    "plt.ylabel('')\n",
    "plt.subplot(133)\n",
    "data_region_rating_2['jp_sales'].plot.pie(autopct='%.1f', figsize=(20, 20), fontsize=14)\n",
    "plt.title('Продажи по категориям в Японии', fontsize=16)                      \n",
    "plt.ylabel('')\n",
    "plt.show()"
   ]
  },
  {
   "cell_type": "markdown",
   "metadata": {},
   "source": [
    "Как видно из круговых диаграмм, игры \"для всех\" в Америке и Европе имеют примерно равную долю в продажах с играми \"для взрослых и подростков\", а в Японии доля игр \"для взрослых и подростков\" составляет всего четверть от общих продаж, а остальные три четверти составляют игры \"для всех\"."
   ]
  },
  {
   "cell_type": "markdown",
   "metadata": {},
   "source": [
    "**Вывод.** Портрет пользователя в Японии сильно отличается от портрета пользователя в Северной Америке и Европе.  \n",
    "Пользователь в Японии предпочитает платформу `3DS`, жанр `Role-Playing` или `Action`, игры для всех возрастных категорий.\n",
    "Пользователь в Северной Америке и Европе предпочитает платформу `PS4` или `XOne`, жанр `Action` или `Shooter`, а возрастной рейтинг игр 50 на 50 распределяется между взрослыми и детскими играми."
   ]
  },
  {
   "cell_type": "markdown",
   "metadata": {},
   "source": [
    "## Проверка гипотез\n",
    "### О средних рейтингах платформ"
   ]
  },
  {
   "cell_type": "markdown",
   "metadata": {},
   "source": [
    "Рассмотрим пользовательские рейтинги платформ `XboxOne` и `PC`. Сравним в таблице `data_actual` данные столбца `user_score` для этих платформ.  \n",
    "Предварительно проверим столбец `user_score` на наличие пропущенных значений, удалим их и поменяем тип данных на `float`."
   ]
  },
  {
   "cell_type": "code",
   "execution_count": 50,
   "metadata": {},
   "outputs": [
    {
     "name": "stdout",
     "output_type": "stream",
     "text": [
      "Количество пропущенных значений 801\n"
     ]
    }
   ],
   "source": [
    "print('Количество пропущенных значений', data_actual['user_score'].isna().sum())"
   ]
  },
  {
   "cell_type": "code",
   "execution_count": 51,
   "metadata": {},
   "outputs": [
    {
     "data": {
      "text/plain": [
       "0"
      ]
     },
     "execution_count": 51,
     "metadata": {},
     "output_type": "execute_result"
    }
   ],
   "source": [
    "data_clean = data_actual.dropna(subset=['user_score'])\n",
    "data_clean['user_score'].isna().sum()"
   ]
  },
  {
   "cell_type": "code",
   "execution_count": 52,
   "metadata": {},
   "outputs": [
    {
     "name": "stdout",
     "output_type": "stream",
     "text": [
      "<class 'pandas.core.frame.DataFrame'>\n",
      "Int64Index: 888 entries, 42 to 16692\n",
      "Data columns (total 12 columns):\n",
      " #   Column           Non-Null Count  Dtype  \n",
      "---  ------           --------------  -----  \n",
      " 0   name             888 non-null    object \n",
      " 1   platform         888 non-null    object \n",
      " 2   year_of_release  888 non-null    Int64  \n",
      " 3   genre            888 non-null    object \n",
      " 4   na_sales         888 non-null    float64\n",
      " 5   eu_sales         888 non-null    float64\n",
      " 6   jp_sales         888 non-null    float64\n",
      " 7   other_sales      888 non-null    float64\n",
      " 8   critic_score     704 non-null    Int64  \n",
      " 9   user_score       888 non-null    float64\n",
      " 10  rating           888 non-null    object \n",
      " 11  total_sales      888 non-null    float64\n",
      "dtypes: Int64(2), float64(6), object(4)\n",
      "memory usage: 91.9+ KB\n"
     ]
    }
   ],
   "source": [
    "data_clean_2 = data_clean.copy()\n",
    "data_clean_2['user_score'] = data_clean_2['user_score'].astype('float')\n",
    "data_clean_2.info()"
   ]
  },
  {
   "cell_type": "code",
   "execution_count": 53,
   "metadata": {},
   "outputs": [
    {
     "data": {
      "text/plain": [
       "ps4     242\n",
       "xone    165\n",
       "pc      122\n",
       "ps3      98\n",
       "x360     83\n",
       "psv      73\n",
       "3ds      55\n",
       "wiiu     48\n",
       "wii       2\n",
       "Name: platform, dtype: int64"
      ]
     },
     "execution_count": 53,
     "metadata": {},
     "output_type": "execute_result"
    }
   ],
   "source": [
    "data_clean_2['platform'].value_counts()"
   ]
  },
  {
   "cell_type": "markdown",
   "metadata": {},
   "source": [
    "Имеются две выборки, взятые независимо друг от друга из двух генеральных совокупностей\n",
    "\n",
    "Найдём выборочные средние"
   ]
  },
  {
   "cell_type": "code",
   "execution_count": 54,
   "metadata": {},
   "outputs": [
    {
     "name": "stdout",
     "output_type": "stream",
     "text": [
      "Средний рейтинг для XOne: 6.595\n",
      "Средний рейтинг для PC: 6.298\n"
     ]
    }
   ],
   "source": [
    "score_xone = data_clean_2.query('platform == \"xone\"')['user_score']\n",
    "score_pc = data_clean_2.query('platform == \"pc\"')['user_score']\n",
    "print(f'Средний рейтинг для XOne: {np.mean(score_xone):.3f}')\n",
    "print(f'Средний рейтинг для PC: {np.mean(score_pc):.3f}')"
   ]
  },
  {
   "cell_type": "markdown",
   "metadata": {},
   "source": [
    "Сформулируем гипотезы: \n",
    "\n",
    "Н0: средний пользовательский рейтинг платформы `XboxOne` равен среднему пользовательскому рейтингу платформы `PC`. \n",
    "\n",
    "Н1: средний пользовательский рейтинг платформы `XboxOne` не равен среднему пользовательскому рейтингу платформы `PC`."
   ]
  },
  {
   "cell_type": "code",
   "execution_count": 55,
   "metadata": {},
   "outputs": [
    {
     "name": "stdout",
     "output_type": "stream",
     "text": [
      "p-значение: 0.105\n",
      "Не получилось отвергнуть нулевую гипотезу\n"
     ]
    }
   ],
   "source": [
    "#Уровень статистической значимости\n",
    "alpha = 0.05\n",
    "\n",
    "results = st.ttest_ind(\n",
    "    score_xone,\n",
    "    score_pc\n",
    ")\n",
    "\n",
    "#Выведем полученное p-value\n",
    "print(f'p-значение: {results.pvalue:.3f}')\n",
    "\n",
    "#Вывод об отвержении или неотвержении нулевой гипотезы\n",
    "if results.pvalue < alpha:\n",
    "    print('Отвергаем нулевую гипотезу')\n",
    "else:\n",
    "    print('Не получилось отвергнуть нулевую гипотезу')"
   ]
  },
  {
   "cell_type": "markdown",
   "metadata": {},
   "source": [
    "Средний пользовательский рейтинг для платформы `XboxOne` равен 65,94545, для платформы `PC` - 62,98361. \n",
    "Средний пользовательский рейтинг для двух платформ по выборкам мы получили разный, различие между ними 3 единицы. Полученное значение p-value говорит о том, что с вероятностью в 10 % такое или большее различие можно получить случайно.\n",
    "\n",
    "**Общий вывод:** С большей долей вероятности средние пользовательские рейтинги платформ XOne и PC не имеют статически значимых отличий"
   ]
  },
  {
   "cell_type": "markdown",
   "metadata": {},
   "source": [
    "### О средних рейтингах жанров"
   ]
  },
  {
   "cell_type": "markdown",
   "metadata": {},
   "source": [
    "Рассмотрим пользовательские рейтинги жанров `Action` и `Sports`. Сравним в таблице data_actual данные столбца user_score для этих жанров."
   ]
  },
  {
   "cell_type": "code",
   "execution_count": 56,
   "metadata": {},
   "outputs": [
    {
     "name": "stdout",
     "output_type": "stream",
     "text": [
      "Средний рейтинг для Action: 6.761\n",
      "Средний рейтинг для Sports: 5.225\n"
     ]
    }
   ],
   "source": [
    "score_action = data_clean_2.query('genre == \"Action\"')['user_score']\n",
    "score_sports = data_clean_2.query('genre == \"Sports\"')['user_score']\n",
    "\n",
    "print(f'Средний рейтинг для Action: {np.mean(score_action):.3f}')\n",
    "print(f'Средний рейтинг для Sports: {np.mean(score_sports):.3f}')"
   ]
  },
  {
   "cell_type": "markdown",
   "metadata": {},
   "source": [
    "Сформулируем гипотезы:\n",
    "\n",
    "Н0: средний пользовательский рейтинг жанра `Action` равен среднему пользовательскому рейтингу жанра `Sports`. \n",
    "\n",
    "Н1: средний пользовательский рейтинг жанра `Action` не равен среднему пользовательскому рейтингу жанра `Sports`."
   ]
  },
  {
   "cell_type": "code",
   "execution_count": 57,
   "metadata": {},
   "outputs": [
    {
     "name": "stdout",
     "output_type": "stream",
     "text": [
      "p-значение: 2.8711147985105864e-19\n",
      "Отвергаем нулевую гипотезу\n"
     ]
    }
   ],
   "source": [
    "alpha = 0.05\n",
    "\n",
    "results = st.ttest_ind(\n",
    "    score_action,\n",
    "    score_sports\n",
    ")\n",
    "\n",
    "#Выведем полученное p-value\n",
    "print('p-значение:', results.pvalue)\n",
    "\n",
    "#Вывод об отвержении или неотвержении нулевой гипотезы\n",
    "if results.pvalue < alpha:\n",
    "    print('Отвергаем нулевую гипотезу')\n",
    "else:\n",
    "    print('Не получилось отвергнуть нулевую гипотезу')"
   ]
  },
  {
   "cell_type": "markdown",
   "metadata": {},
   "source": [
    "p-значение  2.871114798510669e-19 означает очень маленькое число (умноженное на 10 в минус 19 степени, и это число значительно меньше заданного уровня значимости. Средний пользовательский рейтинг жанра `Action` по выборке мы получили 67,60606, а жанра `Sports` - 52,25197. Средние рейтинги разные. Полученное значение p-value говорит о том, что с очень маленькой, почти равной нулю вероятностью такое или большее различие средних в генеральной совокупности можно получить случайно. То есть такое или большее различие может быть получено практически в 100 процентах случаев. Итак, мы отвергаем нулевую гипотезу о равенстве средних пользовательских рейтингов игр в жанре `Action` и в жанре `Sports`, и не отвергаем альтернативную гипотезу о том, что средние пользовательские рейтинги в этих жанрах разные."
   ]
  },
  {
   "cell_type": "markdown",
   "metadata": {},
   "source": [
    "В качестве нулевой гипотезы чаще всего выбирают гипотезу о равенстве параметра генеральной совокупности какому-то числу, а в качестве альтернативной гипотезы уже выбирают один из вариантов `не равен`, `больше` или `меньше`. Поэтому и в первом, и во втором случаях мы в качестве нулевой гипотезы выбрали гипотезу о том, что средний пользовательский рейтинг одной платформы (жанра) равен среднему пользовательскому рейтингу другой платформы (жанра). В качестве альтернативной гипотезы принимаем гипотезу о том, что средние пользовательские рейтинги не равны.  \n",
    "Для проверки гипотезы применили двухвыборочный t-тест для независимых выборок, так как пользовательский рейтинг для разных платформ и для разных жанров не зависит друг от друга. Использован метод `ttest_ind`. Этот метод принимает выборки разного размера. Дисперсии предполагаются равными, поэтому аргумент `equal_var` не указывали."
   ]
  },
  {
   "cell_type": "markdown",
   "metadata": {},
   "source": [
    "## Общий вывод"
   ]
  },
  {
   "cell_type": "markdown",
   "metadata": {},
   "source": [
    "Исходные данные загружены, прочитаны и изучена общая информация о них. Исходные данные состоят из одной таблицы, в которой имеются пропущенные значения, названия столбцов требуют стилистической коррекции.  \n",
    "Выполнена предобработка данных: названия колонок приведены в змеиный регистр, оценки критиков и пользователей приведены к сопоставимому виду, типы данных изменены на целочисленные в столбцах `year_of_release`, `critic_score` и `user_score`, пропущенные значения удалены только в столбцах `name` и `genre`, в столбце `rating` выполнили замену пропущенных значений константой, в других столбцах пропущенные значения оставлены.  \n",
    "До 1995 года игр выпускалось мало, интерес для исследования представляет период с 1995 года.  \n",
    "Характерный срок, за который появляются и исчезают платформы, составляет примерно 10 лет. Первые 4-5 лет продажи новых платформ держатся на высоком уровне, затем постепенно снижаются, и примерно на 10-й год они опускаются практически до нуля.  \n",
    "Далее мы выбрали актуальный период с 2014 по 2016 гг., и далее анализировали данные именно в этот период.  \n",
    "Потенциально прибыльными платформами можно считать `PS4`, `XOne`, `3DS`, `PC`, `WiiU`, `PSV`.  \n",
    "Отзывы пользователей не оказывают влияния на глобальные продажи игр, а между отзывами критиков и продажами игр отмечено присутствие прямой зависимости, хоть и слабой.  \n",
    "Судя по оценкам критиков, выбранные нами платформы, действительно, являются перспективными.  \n",
    "Распределение продаж по жанрам несимметричное. Самые прибыльные жанры: `Action`, `Shooter`, `Sports`, `Role-Playing`, `Platform`, `Simulation`.\n",
    "Портрет пользователя в Японии сильно отличается от портрета пользователя в Северной Америке и Европе.\n",
    "Пользователь в Японии предпочитает платформу 3DS, жанр Role-Playing или Action, игры для всех возрастных категорий. Пользователь в Северной Америке и Европе предпочитает платформу PS4 или XOne, жанр Action или Shooter, а возрастной рейтинг игр 50 на 50 распределяется между взрослыми и детскими играми.\n",
    "\n",
    "Таким образом платформа `PS4` является самой популярной в мире; `3DS` также в топ-5 во всём мире, а в Японии её доля составляет почти половину рынка; `PS3` по-прежнему популярна во всём мире, удерживается в топ-5 во всех регионах. На платформы `XOne`, `X360`, `PC`, `PSV`, `WiiU` также можно рассчитывать в плане прибыльности.\n",
    "`Action` - самый популярный жанр в мире, он и `Shooter`, `Role-Playing`, `Sports` - основные жанры, на которые нужно делать акцент в формировании ассортимента игр. Кроме того, необходимо присутствие таких жанров как `Misc`, `Racing`, `Fighting`.\n",
    "\n",
    "Средний пользовательский рейтинг для платформы XboxOne равен 65.95, для платформы PC - 62.98. Гипотезу о равенстве средних пользовательских рейтингов для этих платформ мы не отвергаем.  \n",
    "Средний пользовательский рейтинг жанра `Action` по выборке мы получили 67.61, а жанра `Sports` - 52.25. Гипотезу о том, что средние пользовательские рейтинги в этих жанрах разные, мы не отвергаем.\n",
    "\n",
    "Итак, исследование показало, что самыми потенциально прибыльными платформами являются `PS4`, `XOne`, `3DS`, `PC`, `WiiU`, `PSV`. Самые прибыльные жанры: `Action`, `Shooter`, `Sports`, `Role-Playing`, `Misc`, `Racing`, `Fighting`. Ассортимент игр следует увеличивать именно по этим платформам и этим жанрам. Продажи игр в Японии следует продвигать по платформам `3DS`, `PS4`, `PSV`, `PS3`, `WiiU` и по жанрам `Role-Playing`, `Action`, `Fighting`, `Misc`, `Shooter`. В остальных регионах следует продавать игры на платформах  `PS4`, `PS3`, `XOne`, `X360`,`PC`, `3DS` и в жанрах `Action`, `Shooter`, `Sports`, `Role-Playing`, `Racing`, `Misc`. В Японии наибольшим спросом пользуются игры без возрастных ограничений, то есть для всех, в Европе и Америке все возрастные категории игр востребованы."
   ]
  },
  {
   "cell_type": "code",
   "execution_count": null,
   "metadata": {},
   "outputs": [],
   "source": []
  }
 ],
 "metadata": {
  "ExecuteTimeLog": [
   {
    "duration": 70,
    "start_time": "2025-03-28T10:42:28.983Z"
   },
   {
    "duration": 898,
    "start_time": "2025-03-28T10:42:38.167Z"
   },
   {
    "duration": 100,
    "start_time": "2025-03-28T10:42:39.982Z"
   },
   {
    "duration": 6,
    "start_time": "2025-03-28T10:43:42.224Z"
   },
   {
    "duration": 16,
    "start_time": "2025-03-28T10:45:38.829Z"
   },
   {
    "duration": 5,
    "start_time": "2025-03-28T10:45:50.606Z"
   },
   {
    "duration": 27,
    "start_time": "2025-03-28T10:51:15.299Z"
   },
   {
    "duration": 26,
    "start_time": "2025-03-28T10:51:22.351Z"
   },
   {
    "duration": 5,
    "start_time": "2025-03-28T10:52:38.306Z"
   },
   {
    "duration": 2,
    "start_time": "2025-03-28T10:53:35.211Z"
   },
   {
    "duration": 16,
    "start_time": "2025-03-28T10:53:48.442Z"
   },
   {
    "duration": 41,
    "start_time": "2025-03-28T10:56:31.089Z"
   },
   {
    "duration": 39,
    "start_time": "2025-03-28T10:56:48.633Z"
   },
   {
    "duration": 15,
    "start_time": "2025-03-28T10:57:02.793Z"
   },
   {
    "duration": 27,
    "start_time": "2025-03-28T10:57:13.560Z"
   },
   {
    "duration": 16,
    "start_time": "2025-03-28T10:57:50.534Z"
   },
   {
    "duration": 19,
    "start_time": "2025-03-28T10:58:14.786Z"
   },
   {
    "duration": 15,
    "start_time": "2025-03-28T10:58:27.228Z"
   },
   {
    "duration": 51,
    "start_time": "2025-03-28T10:59:39.406Z"
   },
   {
    "duration": 522,
    "start_time": "2025-03-28T11:00:35.537Z"
   },
   {
    "duration": 215,
    "start_time": "2025-03-28T11:00:41.195Z"
   },
   {
    "duration": 35,
    "start_time": "2025-03-28T11:01:40.123Z"
   },
   {
    "duration": 8,
    "start_time": "2025-03-28T11:02:10.231Z"
   },
   {
    "duration": 20,
    "start_time": "2025-03-28T11:02:49.441Z"
   },
   {
    "duration": 244,
    "start_time": "2025-03-28T11:03:10.744Z"
   },
   {
    "duration": 20,
    "start_time": "2025-03-28T11:03:54.506Z"
   },
   {
    "duration": 11,
    "start_time": "2025-03-28T11:04:05.422Z"
   },
   {
    "duration": 22,
    "start_time": "2025-03-28T11:04:15.542Z"
   },
   {
    "duration": 269,
    "start_time": "2025-03-28T11:04:39.750Z"
   },
   {
    "duration": 10,
    "start_time": "2025-03-28T11:05:00.733Z"
   },
   {
    "duration": 236,
    "start_time": "2025-03-28T11:05:32.326Z"
   },
   {
    "duration": 311,
    "start_time": "2025-03-28T11:06:02.284Z"
   },
   {
    "duration": 6,
    "start_time": "2025-03-28T11:07:09.097Z"
   },
   {
    "duration": 289,
    "start_time": "2025-03-28T11:07:39.407Z"
   },
   {
    "duration": 337,
    "start_time": "2025-03-28T11:08:03.670Z"
   },
   {
    "duration": 327,
    "start_time": "2025-03-28T11:08:34.467Z"
   },
   {
    "duration": 318,
    "start_time": "2025-03-28T11:08:57.318Z"
   },
   {
    "duration": 9,
    "start_time": "2025-03-28T11:09:33.326Z"
   },
   {
    "duration": 7,
    "start_time": "2025-03-28T11:10:49.188Z"
   },
   {
    "duration": 9,
    "start_time": "2025-03-28T11:11:07.017Z"
   },
   {
    "duration": 283,
    "start_time": "2025-03-28T11:11:33.801Z"
   },
   {
    "duration": 17,
    "start_time": "2025-03-28T11:13:51.920Z"
   },
   {
    "duration": 302,
    "start_time": "2025-03-28T11:14:03.893Z"
   },
   {
    "duration": 8,
    "start_time": "2025-03-28T11:14:40.028Z"
   },
   {
    "duration": 462,
    "start_time": "2025-03-28T11:15:04.165Z"
   },
   {
    "duration": 20,
    "start_time": "2025-03-28T11:16:31.750Z"
   },
   {
    "duration": 303,
    "start_time": "2025-03-28T11:16:45.514Z"
   },
   {
    "duration": 10,
    "start_time": "2025-03-28T11:17:04.042Z"
   },
   {
    "duration": 8,
    "start_time": "2025-03-28T11:17:13.360Z"
   },
   {
    "duration": 316,
    "start_time": "2025-03-28T11:17:24.359Z"
   },
   {
    "duration": 4,
    "start_time": "2025-03-28T11:17:58.864Z"
   },
   {
    "duration": 17,
    "start_time": "2025-03-28T11:18:38.155Z"
   },
   {
    "duration": 201,
    "start_time": "2025-03-28T11:27:52.886Z"
   },
   {
    "duration": 106,
    "start_time": "2025-03-28T11:28:25.230Z"
   },
   {
    "duration": 9,
    "start_time": "2025-03-28T11:28:41.688Z"
   },
   {
    "duration": 17,
    "start_time": "2025-03-28T11:28:51.512Z"
   },
   {
    "duration": 224,
    "start_time": "2025-03-28T11:29:02.211Z"
   },
   {
    "duration": 3,
    "start_time": "2025-03-28T11:29:32.860Z"
   },
   {
    "duration": 3,
    "start_time": "2025-03-28T11:29:55.693Z"
   },
   {
    "duration": 9,
    "start_time": "2025-03-28T11:30:10.400Z"
   },
   {
    "duration": 12,
    "start_time": "2025-03-28T11:30:17.772Z"
   },
   {
    "duration": 6,
    "start_time": "2025-03-28T11:30:27.886Z"
   },
   {
    "duration": 9,
    "start_time": "2025-03-28T11:30:45.468Z"
   },
   {
    "duration": 5,
    "start_time": "2025-03-28T11:31:04.862Z"
   },
   {
    "duration": 10,
    "start_time": "2025-03-28T11:31:48.051Z"
   },
   {
    "duration": 5,
    "start_time": "2025-03-28T11:32:06.222Z"
   },
   {
    "duration": 1290,
    "start_time": "2025-03-29T03:59:12.910Z"
   },
   {
    "duration": 77,
    "start_time": "2025-03-29T03:59:14.202Z"
   },
   {
    "duration": 3,
    "start_time": "2025-03-29T03:59:14.281Z"
   },
   {
    "duration": 20,
    "start_time": "2025-03-29T03:59:14.286Z"
   },
   {
    "duration": 4,
    "start_time": "2025-03-29T03:59:14.308Z"
   },
   {
    "duration": 26,
    "start_time": "2025-03-29T03:59:14.313Z"
   },
   {
    "duration": 59,
    "start_time": "2025-03-29T03:59:14.341Z"
   },
   {
    "duration": 16,
    "start_time": "2025-03-29T03:59:14.401Z"
   },
   {
    "duration": 33,
    "start_time": "2025-03-29T03:59:14.419Z"
   },
   {
    "duration": 14,
    "start_time": "2025-03-29T03:59:14.454Z"
   },
   {
    "duration": 38,
    "start_time": "2025-03-29T03:59:14.470Z"
   },
   {
    "duration": 13,
    "start_time": "2025-03-29T03:59:14.509Z"
   },
   {
    "duration": 181,
    "start_time": "2025-03-29T03:59:14.524Z"
   },
   {
    "duration": 27,
    "start_time": "2025-03-29T03:59:14.707Z"
   },
   {
    "duration": 6,
    "start_time": "2025-03-29T03:59:14.735Z"
   },
   {
    "duration": 17,
    "start_time": "2025-03-29T03:59:14.743Z"
   },
   {
    "duration": 250,
    "start_time": "2025-03-29T03:59:14.761Z"
   },
   {
    "duration": 18,
    "start_time": "2025-03-29T03:59:15.013Z"
   },
   {
    "duration": 25,
    "start_time": "2025-03-29T03:59:15.032Z"
   },
   {
    "duration": 45,
    "start_time": "2025-03-29T03:59:15.059Z"
   },
   {
    "duration": 267,
    "start_time": "2025-03-29T03:59:15.105Z"
   },
   {
    "duration": 9,
    "start_time": "2025-03-29T03:59:15.373Z"
   },
   {
    "duration": 253,
    "start_time": "2025-03-29T03:59:15.384Z"
   },
   {
    "duration": 251,
    "start_time": "2025-03-29T03:59:15.639Z"
   },
   {
    "duration": 20,
    "start_time": "2025-03-29T03:59:15.892Z"
   },
   {
    "duration": 369,
    "start_time": "2025-03-29T03:59:15.914Z"
   },
   {
    "duration": 322,
    "start_time": "2025-03-29T03:59:16.285Z"
   },
   {
    "duration": 332,
    "start_time": "2025-03-29T03:59:16.610Z"
   },
   {
    "duration": 318,
    "start_time": "2025-03-29T03:59:16.943Z"
   },
   {
    "duration": 7,
    "start_time": "2025-03-29T03:59:17.262Z"
   },
   {
    "duration": 8,
    "start_time": "2025-03-29T03:59:17.270Z"
   },
   {
    "duration": 29,
    "start_time": "2025-03-29T03:59:17.279Z"
   },
   {
    "duration": 273,
    "start_time": "2025-03-29T03:59:17.310Z"
   },
   {
    "duration": 25,
    "start_time": "2025-03-29T03:59:17.584Z"
   },
   {
    "duration": 258,
    "start_time": "2025-03-29T03:59:17.611Z"
   },
   {
    "duration": 8,
    "start_time": "2025-03-29T03:59:17.871Z"
   },
   {
    "duration": 462,
    "start_time": "2025-03-29T03:59:17.880Z"
   },
   {
    "duration": 16,
    "start_time": "2025-03-29T03:59:18.344Z"
   },
   {
    "duration": 290,
    "start_time": "2025-03-29T03:59:18.362Z"
   },
   {
    "duration": 10,
    "start_time": "2025-03-29T03:59:18.653Z"
   },
   {
    "duration": 10,
    "start_time": "2025-03-29T03:59:18.665Z"
   },
   {
    "duration": 318,
    "start_time": "2025-03-29T03:59:18.676Z"
   },
   {
    "duration": 11,
    "start_time": "2025-03-29T03:59:18.996Z"
   },
   {
    "duration": 18,
    "start_time": "2025-03-29T03:59:19.009Z"
   },
   {
    "duration": 193,
    "start_time": "2025-03-29T03:59:19.029Z"
   },
   {
    "duration": 104,
    "start_time": "2025-03-29T03:59:19.224Z"
   },
   {
    "duration": 9,
    "start_time": "2025-03-29T03:59:19.329Z"
   },
   {
    "duration": 17,
    "start_time": "2025-03-29T03:59:19.339Z"
   },
   {
    "duration": 239,
    "start_time": "2025-03-29T03:59:19.358Z"
   },
   {
    "duration": 4,
    "start_time": "2025-03-29T03:59:19.606Z"
   },
   {
    "duration": 10,
    "start_time": "2025-03-29T03:59:19.614Z"
   },
   {
    "duration": 13,
    "start_time": "2025-03-29T03:59:19.626Z"
   },
   {
    "duration": 5,
    "start_time": "2025-03-29T03:59:19.640Z"
   },
   {
    "duration": 8,
    "start_time": "2025-03-29T03:59:19.647Z"
   },
   {
    "duration": 4,
    "start_time": "2025-03-29T03:59:19.656Z"
   },
   {
    "duration": 8,
    "start_time": "2025-03-29T03:59:19.662Z"
   },
   {
    "duration": 39,
    "start_time": "2025-03-29T03:59:19.672Z"
   },
   {
    "duration": 1115,
    "start_time": "2025-03-29T04:09:14.353Z"
   },
   {
    "duration": 81,
    "start_time": "2025-03-29T04:09:15.470Z"
   },
   {
    "duration": 4,
    "start_time": "2025-03-29T04:09:15.553Z"
   },
   {
    "duration": 15,
    "start_time": "2025-03-29T04:09:15.559Z"
   },
   {
    "duration": 5,
    "start_time": "2025-03-29T04:09:15.575Z"
   },
   {
    "duration": 45,
    "start_time": "2025-03-29T04:09:15.581Z"
   },
   {
    "duration": 4,
    "start_time": "2025-03-29T04:09:15.627Z"
   },
   {
    "duration": 16,
    "start_time": "2025-03-29T04:09:15.633Z"
   },
   {
    "duration": 34,
    "start_time": "2025-03-29T04:09:15.650Z"
   },
   {
    "duration": 16,
    "start_time": "2025-03-29T04:09:15.706Z"
   },
   {
    "duration": 21,
    "start_time": "2025-03-29T04:09:15.724Z"
   },
   {
    "duration": 12,
    "start_time": "2025-03-29T04:09:15.746Z"
   },
   {
    "duration": 203,
    "start_time": "2025-03-29T04:09:15.759Z"
   },
   {
    "duration": 27,
    "start_time": "2025-03-29T04:09:15.963Z"
   },
   {
    "duration": 19,
    "start_time": "2025-03-29T04:09:15.992Z"
   },
   {
    "duration": 19,
    "start_time": "2025-03-29T04:09:16.012Z"
   },
   {
    "duration": 247,
    "start_time": "2025-03-29T04:09:16.032Z"
   },
   {
    "duration": 18,
    "start_time": "2025-03-29T04:09:16.281Z"
   },
   {
    "duration": 10,
    "start_time": "2025-03-29T04:09:16.300Z"
   },
   {
    "duration": 17,
    "start_time": "2025-03-29T04:09:16.312Z"
   },
   {
    "duration": 253,
    "start_time": "2025-03-29T04:09:16.330Z"
   },
   {
    "duration": 8,
    "start_time": "2025-03-29T04:09:16.585Z"
   },
   {
    "duration": 242,
    "start_time": "2025-03-29T04:09:16.594Z"
   },
   {
    "duration": 241,
    "start_time": "2025-03-29T04:09:16.838Z"
   },
   {
    "duration": 5,
    "start_time": "2025-03-29T04:09:17.081Z"
   },
   {
    "duration": 353,
    "start_time": "2025-03-29T04:09:17.087Z"
   },
   {
    "duration": 323,
    "start_time": "2025-03-29T04:09:17.441Z"
   },
   {
    "duration": 324,
    "start_time": "2025-03-29T04:09:17.767Z"
   },
   {
    "duration": 309,
    "start_time": "2025-03-29T04:09:18.092Z"
   },
   {
    "duration": 6,
    "start_time": "2025-03-29T04:09:18.406Z"
   },
   {
    "duration": 20,
    "start_time": "2025-03-29T04:09:18.414Z"
   },
   {
    "duration": 6,
    "start_time": "2025-03-29T04:09:18.436Z"
   },
   {
    "duration": 270,
    "start_time": "2025-03-29T04:09:18.443Z"
   },
   {
    "duration": 16,
    "start_time": "2025-03-29T04:09:18.714Z"
   },
   {
    "duration": 246,
    "start_time": "2025-03-29T04:09:18.731Z"
   },
   {
    "duration": 8,
    "start_time": "2025-03-29T04:09:18.978Z"
   },
   {
    "duration": 401,
    "start_time": "2025-03-29T04:09:18.987Z"
   },
   {
    "duration": 25,
    "start_time": "2025-03-29T04:09:19.390Z"
   },
   {
    "duration": 320,
    "start_time": "2025-03-29T04:09:19.416Z"
   },
   {
    "duration": 10,
    "start_time": "2025-03-29T04:09:19.737Z"
   },
   {
    "duration": 8,
    "start_time": "2025-03-29T04:09:19.748Z"
   },
   {
    "duration": 319,
    "start_time": "2025-03-29T04:09:19.757Z"
   },
   {
    "duration": 5,
    "start_time": "2025-03-29T04:09:20.077Z"
   },
   {
    "duration": 27,
    "start_time": "2025-03-29T04:09:20.083Z"
   },
   {
    "duration": 200,
    "start_time": "2025-03-29T04:09:20.111Z"
   },
   {
    "duration": 103,
    "start_time": "2025-03-29T04:09:20.312Z"
   },
   {
    "duration": 9,
    "start_time": "2025-03-29T04:09:20.416Z"
   },
   {
    "duration": 15,
    "start_time": "2025-03-29T04:09:20.426Z"
   },
   {
    "duration": 243,
    "start_time": "2025-03-29T04:09:20.443Z"
   },
   {
    "duration": 5,
    "start_time": "2025-03-29T04:09:20.688Z"
   },
   {
    "duration": 9,
    "start_time": "2025-03-29T04:09:20.706Z"
   },
   {
    "duration": 12,
    "start_time": "2025-03-29T04:09:20.717Z"
   },
   {
    "duration": 6,
    "start_time": "2025-03-29T04:09:20.731Z"
   },
   {
    "duration": 9,
    "start_time": "2025-03-29T04:09:20.739Z"
   },
   {
    "duration": 15,
    "start_time": "2025-03-29T04:09:20.750Z"
   },
   {
    "duration": 19,
    "start_time": "2025-03-29T04:09:20.767Z"
   },
   {
    "duration": 5,
    "start_time": "2025-03-29T04:09:20.807Z"
   },
   {
    "duration": 45,
    "start_time": "2025-03-29T12:40:58.222Z"
   },
   {
    "duration": 1356,
    "start_time": "2025-03-29T12:41:02.331Z"
   },
   {
    "duration": 86,
    "start_time": "2025-03-29T12:41:03.689Z"
   },
   {
    "duration": 6,
    "start_time": "2025-03-29T12:41:03.776Z"
   },
   {
    "duration": 15,
    "start_time": "2025-03-29T12:41:03.783Z"
   },
   {
    "duration": 5,
    "start_time": "2025-03-29T12:41:03.799Z"
   },
   {
    "duration": 54,
    "start_time": "2025-03-29T12:41:03.806Z"
   },
   {
    "duration": 5,
    "start_time": "2025-03-29T12:41:03.861Z"
   },
   {
    "duration": 27,
    "start_time": "2025-03-29T12:41:03.867Z"
   },
   {
    "duration": 43,
    "start_time": "2025-03-29T12:41:03.895Z"
   },
   {
    "duration": 24,
    "start_time": "2025-03-29T12:41:03.941Z"
   },
   {
    "duration": 35,
    "start_time": "2025-03-29T12:41:03.966Z"
   },
   {
    "duration": 12,
    "start_time": "2025-03-29T12:41:04.003Z"
   },
   {
    "duration": 198,
    "start_time": "2025-03-29T12:41:04.017Z"
   },
   {
    "duration": 52,
    "start_time": "2025-03-29T12:41:04.216Z"
   },
   {
    "duration": 9,
    "start_time": "2025-03-29T12:41:04.270Z"
   },
   {
    "duration": 24,
    "start_time": "2025-03-29T12:41:04.281Z"
   },
   {
    "duration": 296,
    "start_time": "2025-03-29T12:41:04.306Z"
   },
   {
    "duration": 21,
    "start_time": "2025-03-29T12:41:04.604Z"
   },
   {
    "duration": 12,
    "start_time": "2025-03-29T12:41:04.626Z"
   },
   {
    "duration": 19,
    "start_time": "2025-03-29T12:41:04.639Z"
   },
   {
    "duration": 282,
    "start_time": "2025-03-29T12:41:04.659Z"
   },
   {
    "duration": 16,
    "start_time": "2025-03-29T12:41:04.943Z"
   },
   {
    "duration": 251,
    "start_time": "2025-03-29T12:41:04.961Z"
   },
   {
    "duration": 265,
    "start_time": "2025-03-29T12:41:05.214Z"
   },
   {
    "duration": 5,
    "start_time": "2025-03-29T12:41:05.481Z"
   },
   {
    "duration": 395,
    "start_time": "2025-03-29T12:41:05.488Z"
   },
   {
    "duration": 339,
    "start_time": "2025-03-29T12:41:05.885Z"
   },
   {
    "duration": 360,
    "start_time": "2025-03-29T12:41:06.229Z"
   },
   {
    "duration": 346,
    "start_time": "2025-03-29T12:41:06.591Z"
   },
   {
    "duration": 7,
    "start_time": "2025-03-29T12:41:06.938Z"
   },
   {
    "duration": 16,
    "start_time": "2025-03-29T12:41:06.958Z"
   },
   {
    "duration": 18,
    "start_time": "2025-03-29T12:41:06.975Z"
   },
   {
    "duration": 272,
    "start_time": "2025-03-29T12:41:06.995Z"
   },
   {
    "duration": 17,
    "start_time": "2025-03-29T12:41:07.268Z"
   },
   {
    "duration": 274,
    "start_time": "2025-03-29T12:41:07.286Z"
   },
   {
    "duration": 8,
    "start_time": "2025-03-29T12:41:07.562Z"
   },
   {
    "duration": 419,
    "start_time": "2025-03-29T12:41:07.571Z"
   },
   {
    "duration": 18,
    "start_time": "2025-03-29T12:41:07.991Z"
   },
   {
    "duration": 310,
    "start_time": "2025-03-29T12:41:08.011Z"
   },
   {
    "duration": 10,
    "start_time": "2025-03-29T12:41:08.323Z"
   },
   {
    "duration": 15,
    "start_time": "2025-03-29T12:41:08.335Z"
   },
   {
    "duration": 328,
    "start_time": "2025-03-29T12:41:08.352Z"
   },
   {
    "duration": 4,
    "start_time": "2025-03-29T12:41:08.682Z"
   },
   {
    "duration": 33,
    "start_time": "2025-03-29T12:41:08.688Z"
   },
   {
    "duration": 215,
    "start_time": "2025-03-29T12:41:08.722Z"
   },
   {
    "duration": 113,
    "start_time": "2025-03-29T12:41:08.939Z"
   },
   {
    "duration": 9,
    "start_time": "2025-03-29T12:41:09.054Z"
   },
   {
    "duration": 20,
    "start_time": "2025-03-29T12:41:09.064Z"
   },
   {
    "duration": 265,
    "start_time": "2025-03-29T12:41:09.086Z"
   },
   {
    "duration": 7,
    "start_time": "2025-03-29T12:41:09.352Z"
   },
   {
    "duration": 7,
    "start_time": "2025-03-29T12:41:09.360Z"
   },
   {
    "duration": 11,
    "start_time": "2025-03-29T12:41:09.369Z"
   },
   {
    "duration": 6,
    "start_time": "2025-03-29T12:41:09.382Z"
   },
   {
    "duration": 12,
    "start_time": "2025-03-29T12:41:09.389Z"
   },
   {
    "duration": 5,
    "start_time": "2025-03-29T12:41:09.403Z"
   },
   {
    "duration": 10,
    "start_time": "2025-03-29T12:41:09.409Z"
   },
   {
    "duration": 6,
    "start_time": "2025-03-29T12:41:09.457Z"
   },
   {
    "duration": 1366,
    "start_time": "2025-04-01T18:24:48.649Z"
   },
   {
    "duration": 77,
    "start_time": "2025-04-01T18:24:50.016Z"
   },
   {
    "duration": 5,
    "start_time": "2025-04-01T18:24:50.097Z"
   },
   {
    "duration": 14,
    "start_time": "2025-04-01T18:24:50.104Z"
   },
   {
    "duration": 5,
    "start_time": "2025-04-01T18:24:50.120Z"
   },
   {
    "duration": 71,
    "start_time": "2025-04-01T18:24:50.126Z"
   },
   {
    "duration": 5,
    "start_time": "2025-04-01T18:24:50.198Z"
   },
   {
    "duration": 55,
    "start_time": "2025-04-01T18:24:50.204Z"
   },
   {
    "duration": 66,
    "start_time": "2025-04-01T18:24:50.261Z"
   },
   {
    "duration": 16,
    "start_time": "2025-04-01T18:24:50.329Z"
   },
   {
    "duration": 160,
    "start_time": "2025-04-01T18:24:50.346Z"
   },
   {
    "duration": 14,
    "start_time": "2025-04-01T18:24:50.507Z"
   },
   {
    "duration": 214,
    "start_time": "2025-04-01T18:24:50.523Z"
   },
   {
    "duration": 48,
    "start_time": "2025-04-01T18:24:50.738Z"
   },
   {
    "duration": 9,
    "start_time": "2025-04-01T18:24:50.788Z"
   },
   {
    "duration": 51,
    "start_time": "2025-04-01T18:24:50.798Z"
   },
   {
    "duration": 259,
    "start_time": "2025-04-01T18:24:50.851Z"
   },
   {
    "duration": 19,
    "start_time": "2025-04-01T18:24:51.111Z"
   },
   {
    "duration": 72,
    "start_time": "2025-04-01T18:24:51.131Z"
   },
   {
    "duration": 56,
    "start_time": "2025-04-01T18:24:51.205Z"
   },
   {
    "duration": 276,
    "start_time": "2025-04-01T18:24:51.263Z"
   },
   {
    "duration": 9,
    "start_time": "2025-04-01T18:24:51.540Z"
   },
   {
    "duration": 278,
    "start_time": "2025-04-01T18:24:51.551Z"
   },
   {
    "duration": 312,
    "start_time": "2025-04-01T18:24:51.832Z"
   },
   {
    "duration": 5,
    "start_time": "2025-04-01T18:24:52.146Z"
   },
   {
    "duration": 426,
    "start_time": "2025-04-01T18:24:52.153Z"
   },
   {
    "duration": 367,
    "start_time": "2025-04-01T18:24:52.583Z"
   },
   {
    "duration": 368,
    "start_time": "2025-04-01T18:24:52.952Z"
   },
   {
    "duration": 350,
    "start_time": "2025-04-01T18:24:53.321Z"
   },
   {
    "duration": 9,
    "start_time": "2025-04-01T18:24:53.672Z"
   },
   {
    "duration": 22,
    "start_time": "2025-04-01T18:24:53.682Z"
   },
   {
    "duration": 41,
    "start_time": "2025-04-01T18:24:53.705Z"
   },
   {
    "duration": 371,
    "start_time": "2025-04-01T18:24:53.747Z"
   },
   {
    "duration": 17,
    "start_time": "2025-04-01T18:24:54.119Z"
   },
   {
    "duration": 274,
    "start_time": "2025-04-01T18:24:54.138Z"
   },
   {
    "duration": 8,
    "start_time": "2025-04-01T18:24:54.414Z"
   },
   {
    "duration": 487,
    "start_time": "2025-04-01T18:24:54.423Z"
   },
   {
    "duration": 18,
    "start_time": "2025-04-01T18:24:54.912Z"
   },
   {
    "duration": 328,
    "start_time": "2025-04-01T18:24:54.932Z"
   },
   {
    "duration": 19,
    "start_time": "2025-04-01T18:24:55.262Z"
   },
   {
    "duration": 9,
    "start_time": "2025-04-01T18:24:55.283Z"
   },
   {
    "duration": 334,
    "start_time": "2025-04-01T18:24:55.294Z"
   },
   {
    "duration": 4,
    "start_time": "2025-04-01T18:24:55.630Z"
   },
   {
    "duration": 29,
    "start_time": "2025-04-01T18:24:55.636Z"
   },
   {
    "duration": 252,
    "start_time": "2025-04-01T18:24:55.677Z"
   },
   {
    "duration": 123,
    "start_time": "2025-04-01T18:24:55.931Z"
   },
   {
    "duration": 20,
    "start_time": "2025-04-01T18:24:56.056Z"
   },
   {
    "duration": 18,
    "start_time": "2025-04-01T18:24:56.078Z"
   },
   {
    "duration": 265,
    "start_time": "2025-04-01T18:24:56.098Z"
   },
   {
    "duration": 4,
    "start_time": "2025-04-01T18:24:56.365Z"
   },
   {
    "duration": 138,
    "start_time": "2025-04-01T18:24:56.377Z"
   },
   {
    "duration": 15,
    "start_time": "2025-04-01T18:24:56.517Z"
   },
   {
    "duration": 10,
    "start_time": "2025-04-01T18:24:56.534Z"
   },
   {
    "duration": 57,
    "start_time": "2025-04-01T18:24:56.545Z"
   },
   {
    "duration": 7,
    "start_time": "2025-04-01T18:24:56.604Z"
   },
   {
    "duration": 19,
    "start_time": "2025-04-01T18:24:56.613Z"
   },
   {
    "duration": 27,
    "start_time": "2025-04-01T18:24:56.634Z"
   },
   {
    "duration": 6,
    "start_time": "2025-04-01T18:26:46.046Z"
   },
   {
    "duration": 1113,
    "start_time": "2025-04-01T18:26:51.638Z"
   },
   {
    "duration": 5,
    "start_time": "2025-04-01T18:28:56.854Z"
   },
   {
    "duration": 941,
    "start_time": "2025-04-01T18:29:02.588Z"
   },
   {
    "duration": 3,
    "start_time": "2025-04-01T18:29:15.775Z"
   },
   {
    "duration": 98,
    "start_time": "2025-04-01T18:29:15.780Z"
   },
   {
    "duration": 6,
    "start_time": "2025-04-01T18:29:15.880Z"
   },
   {
    "duration": 21,
    "start_time": "2025-04-01T18:29:15.888Z"
   },
   {
    "duration": 6,
    "start_time": "2025-04-01T18:29:15.912Z"
   },
   {
    "duration": 78,
    "start_time": "2025-04-01T18:29:15.920Z"
   },
   {
    "duration": 6,
    "start_time": "2025-04-01T18:29:16.000Z"
   },
   {
    "duration": 16,
    "start_time": "2025-04-01T18:29:16.008Z"
   },
   {
    "duration": 83,
    "start_time": "2025-04-01T18:29:16.025Z"
   },
   {
    "duration": 18,
    "start_time": "2025-04-01T18:29:16.110Z"
   },
   {
    "duration": 20,
    "start_time": "2025-04-01T18:29:16.247Z"
   },
   {
    "duration": 13,
    "start_time": "2025-04-01T18:29:16.277Z"
   },
   {
    "duration": 207,
    "start_time": "2025-04-01T18:29:16.292Z"
   },
   {
    "duration": 32,
    "start_time": "2025-04-01T18:29:16.500Z"
   },
   {
    "duration": 8,
    "start_time": "2025-04-01T18:29:16.533Z"
   },
   {
    "duration": 50,
    "start_time": "2025-04-01T18:29:16.543Z"
   },
   {
    "duration": 254,
    "start_time": "2025-04-01T18:29:16.594Z"
   },
   {
    "duration": 39,
    "start_time": "2025-04-01T18:29:16.850Z"
   },
   {
    "duration": 12,
    "start_time": "2025-04-01T18:29:16.891Z"
   },
   {
    "duration": 20,
    "start_time": "2025-04-01T18:29:16.905Z"
   },
   {
    "duration": 305,
    "start_time": "2025-04-01T18:29:16.927Z"
   },
   {
    "duration": 8,
    "start_time": "2025-04-01T18:29:17.234Z"
   },
   {
    "duration": 286,
    "start_time": "2025-04-01T18:29:17.244Z"
   },
   {
    "duration": 261,
    "start_time": "2025-04-01T18:29:17.531Z"
   },
   {
    "duration": 5,
    "start_time": "2025-04-01T18:29:17.794Z"
   },
   {
    "duration": 1102,
    "start_time": "2025-04-01T18:29:17.800Z"
   },
   {
    "duration": 0,
    "start_time": "2025-04-01T18:29:18.906Z"
   },
   {
    "duration": 0,
    "start_time": "2025-04-01T18:29:18.908Z"
   },
   {
    "duration": 0,
    "start_time": "2025-04-01T18:29:18.909Z"
   },
   {
    "duration": 0,
    "start_time": "2025-04-01T18:29:18.911Z"
   },
   {
    "duration": 0,
    "start_time": "2025-04-01T18:29:18.912Z"
   },
   {
    "duration": 0,
    "start_time": "2025-04-01T18:29:18.914Z"
   },
   {
    "duration": 0,
    "start_time": "2025-04-01T18:29:18.915Z"
   },
   {
    "duration": 0,
    "start_time": "2025-04-01T18:29:18.917Z"
   },
   {
    "duration": 0,
    "start_time": "2025-04-01T18:29:18.918Z"
   },
   {
    "duration": 0,
    "start_time": "2025-04-01T18:29:18.920Z"
   },
   {
    "duration": 0,
    "start_time": "2025-04-01T18:29:18.921Z"
   },
   {
    "duration": 0,
    "start_time": "2025-04-01T18:29:18.923Z"
   },
   {
    "duration": 0,
    "start_time": "2025-04-01T18:29:18.924Z"
   },
   {
    "duration": 0,
    "start_time": "2025-04-01T18:29:18.925Z"
   },
   {
    "duration": 0,
    "start_time": "2025-04-01T18:29:18.927Z"
   },
   {
    "duration": 0,
    "start_time": "2025-04-01T18:29:18.929Z"
   },
   {
    "duration": 0,
    "start_time": "2025-04-01T18:29:18.930Z"
   },
   {
    "duration": 0,
    "start_time": "2025-04-01T18:29:18.932Z"
   },
   {
    "duration": 0,
    "start_time": "2025-04-01T18:29:18.977Z"
   },
   {
    "duration": 0,
    "start_time": "2025-04-01T18:29:18.977Z"
   },
   {
    "duration": 0,
    "start_time": "2025-04-01T18:29:18.979Z"
   },
   {
    "duration": 0,
    "start_time": "2025-04-01T18:29:18.980Z"
   },
   {
    "duration": 0,
    "start_time": "2025-04-01T18:29:18.981Z"
   },
   {
    "duration": 0,
    "start_time": "2025-04-01T18:29:18.982Z"
   },
   {
    "duration": 0,
    "start_time": "2025-04-01T18:29:18.983Z"
   },
   {
    "duration": 0,
    "start_time": "2025-04-01T18:29:18.984Z"
   },
   {
    "duration": 0,
    "start_time": "2025-04-01T18:29:18.985Z"
   },
   {
    "duration": 0,
    "start_time": "2025-04-01T18:29:18.986Z"
   },
   {
    "duration": 0,
    "start_time": "2025-04-01T18:29:18.987Z"
   },
   {
    "duration": 0,
    "start_time": "2025-04-01T18:29:18.988Z"
   },
   {
    "duration": 0,
    "start_time": "2025-04-01T18:29:18.989Z"
   },
   {
    "duration": 10,
    "start_time": "2025-04-01T18:30:48.957Z"
   },
   {
    "duration": 337,
    "start_time": "2025-04-01T18:30:56.565Z"
   },
   {
    "duration": 6,
    "start_time": "2025-04-01T18:31:41.973Z"
   },
   {
    "duration": 1025,
    "start_time": "2025-04-01T18:31:44.990Z"
   },
   {
    "duration": 5,
    "start_time": "2025-04-01T18:32:01.324Z"
   },
   {
    "duration": 410,
    "start_time": "2025-04-01T18:32:03.738Z"
   },
   {
    "duration": 76,
    "start_time": "2025-04-01T18:33:00.679Z"
   },
   {
    "duration": 75,
    "start_time": "2025-04-01T18:33:17.750Z"
   },
   {
    "duration": 6,
    "start_time": "2025-04-01T18:36:46.197Z"
   },
   {
    "duration": 309,
    "start_time": "2025-04-01T18:36:49.713Z"
   },
   {
    "duration": 76,
    "start_time": "2025-04-01T18:37:32.390Z"
   },
   {
    "duration": 6,
    "start_time": "2025-04-01T18:37:44.718Z"
   },
   {
    "duration": 3,
    "start_time": "2025-04-01T18:37:48.480Z"
   },
   {
    "duration": 95,
    "start_time": "2025-04-01T18:37:48.485Z"
   },
   {
    "duration": 6,
    "start_time": "2025-04-01T18:37:48.582Z"
   },
   {
    "duration": 20,
    "start_time": "2025-04-01T18:37:48.590Z"
   },
   {
    "duration": 7,
    "start_time": "2025-04-01T18:37:48.612Z"
   },
   {
    "duration": 82,
    "start_time": "2025-04-01T18:37:48.620Z"
   },
   {
    "duration": 4,
    "start_time": "2025-04-01T18:37:48.704Z"
   },
   {
    "duration": 16,
    "start_time": "2025-04-01T18:37:48.709Z"
   },
   {
    "duration": 79,
    "start_time": "2025-04-01T18:37:48.728Z"
   },
   {
    "duration": 18,
    "start_time": "2025-04-01T18:37:48.809Z"
   },
   {
    "duration": 49,
    "start_time": "2025-04-01T18:37:48.828Z"
   },
   {
    "duration": 14,
    "start_time": "2025-04-01T18:37:48.879Z"
   },
   {
    "duration": 210,
    "start_time": "2025-04-01T18:37:48.894Z"
   },
   {
    "duration": 29,
    "start_time": "2025-04-01T18:37:49.105Z"
   },
   {
    "duration": 7,
    "start_time": "2025-04-01T18:37:49.136Z"
   },
   {
    "duration": 50,
    "start_time": "2025-04-01T18:37:49.144Z"
   },
   {
    "duration": 258,
    "start_time": "2025-04-01T18:37:49.195Z"
   },
   {
    "duration": 33,
    "start_time": "2025-04-01T18:37:49.455Z"
   },
   {
    "duration": 11,
    "start_time": "2025-04-01T18:37:49.490Z"
   },
   {
    "duration": 29,
    "start_time": "2025-04-01T18:37:49.502Z"
   },
   {
    "duration": 298,
    "start_time": "2025-04-01T18:37:49.533Z"
   },
   {
    "duration": 8,
    "start_time": "2025-04-01T18:37:49.833Z"
   },
   {
    "duration": 292,
    "start_time": "2025-04-01T18:37:49.843Z"
   },
   {
    "duration": 263,
    "start_time": "2025-04-01T18:37:50.139Z"
   },
   {
    "duration": 5,
    "start_time": "2025-04-01T18:37:50.404Z"
   },
   {
    "duration": 602,
    "start_time": "2025-04-01T18:37:50.411Z"
   },
   {
    "duration": 368,
    "start_time": "2025-04-01T18:37:51.015Z"
   },
   {
    "duration": 398,
    "start_time": "2025-04-01T18:37:51.385Z"
   },
   {
    "duration": 428,
    "start_time": "2025-04-01T18:37:51.785Z"
   },
   {
    "duration": 7,
    "start_time": "2025-04-01T18:37:52.215Z"
   },
   {
    "duration": 11,
    "start_time": "2025-04-01T18:37:52.224Z"
   },
   {
    "duration": 42,
    "start_time": "2025-04-01T18:37:52.236Z"
   },
   {
    "duration": 372,
    "start_time": "2025-04-01T18:37:52.279Z"
   },
   {
    "duration": 26,
    "start_time": "2025-04-01T18:37:52.652Z"
   },
   {
    "duration": 291,
    "start_time": "2025-04-01T18:37:52.679Z"
   },
   {
    "duration": 9,
    "start_time": "2025-04-01T18:37:52.971Z"
   },
   {
    "duration": 457,
    "start_time": "2025-04-01T18:37:52.982Z"
   },
   {
    "duration": 19,
    "start_time": "2025-04-01T18:37:53.440Z"
   },
   {
    "duration": 329,
    "start_time": "2025-04-01T18:37:53.477Z"
   },
   {
    "duration": 11,
    "start_time": "2025-04-01T18:37:53.808Z"
   },
   {
    "duration": 67,
    "start_time": "2025-04-01T18:37:53.821Z"
   },
   {
    "duration": 347,
    "start_time": "2025-04-01T18:37:53.890Z"
   },
   {
    "duration": 4,
    "start_time": "2025-04-01T18:37:54.239Z"
   },
   {
    "duration": 34,
    "start_time": "2025-04-01T18:37:54.245Z"
   },
   {
    "duration": 387,
    "start_time": "2025-04-01T18:37:54.281Z"
   },
   {
    "duration": 114,
    "start_time": "2025-04-01T18:37:54.670Z"
   },
   {
    "duration": 9,
    "start_time": "2025-04-01T18:37:54.786Z"
   },
   {
    "duration": 36,
    "start_time": "2025-04-01T18:37:54.796Z"
   },
   {
    "duration": 249,
    "start_time": "2025-04-01T18:37:54.833Z"
   },
   {
    "duration": 5,
    "start_time": "2025-04-01T18:37:55.085Z"
   },
   {
    "duration": 22,
    "start_time": "2025-04-01T18:37:55.092Z"
   },
   {
    "duration": 12,
    "start_time": "2025-04-01T18:37:55.116Z"
   },
   {
    "duration": 20,
    "start_time": "2025-04-01T18:37:55.130Z"
   },
   {
    "duration": 14,
    "start_time": "2025-04-01T18:37:55.176Z"
   },
   {
    "duration": 95,
    "start_time": "2025-04-01T18:37:55.192Z"
   },
   {
    "duration": 9,
    "start_time": "2025-04-01T18:37:55.289Z"
   },
   {
    "duration": 30,
    "start_time": "2025-04-01T18:37:55.300Z"
   },
   {
    "duration": 1209,
    "start_time": "2025-04-02T06:25:09.268Z"
   },
   {
    "duration": 71,
    "start_time": "2025-04-02T06:25:10.479Z"
   },
   {
    "duration": 4,
    "start_time": "2025-04-02T06:25:10.552Z"
   },
   {
    "duration": 26,
    "start_time": "2025-04-02T06:25:10.558Z"
   },
   {
    "duration": 5,
    "start_time": "2025-04-02T06:25:10.585Z"
   },
   {
    "duration": 30,
    "start_time": "2025-04-02T06:25:10.591Z"
   },
   {
    "duration": 4,
    "start_time": "2025-04-02T06:25:10.623Z"
   },
   {
    "duration": 18,
    "start_time": "2025-04-02T06:25:10.628Z"
   },
   {
    "duration": 61,
    "start_time": "2025-04-02T06:25:10.647Z"
   },
   {
    "duration": 16,
    "start_time": "2025-04-02T06:25:10.710Z"
   },
   {
    "duration": 29,
    "start_time": "2025-04-02T06:25:10.728Z"
   },
   {
    "duration": 25,
    "start_time": "2025-04-02T06:25:10.758Z"
   },
   {
    "duration": 209,
    "start_time": "2025-04-02T06:25:10.785Z"
   },
   {
    "duration": 29,
    "start_time": "2025-04-02T06:25:10.996Z"
   },
   {
    "duration": 23,
    "start_time": "2025-04-02T06:25:11.026Z"
   },
   {
    "duration": 23,
    "start_time": "2025-04-02T06:25:11.051Z"
   },
   {
    "duration": 236,
    "start_time": "2025-04-02T06:25:11.076Z"
   },
   {
    "duration": 20,
    "start_time": "2025-04-02T06:25:11.313Z"
   },
   {
    "duration": 10,
    "start_time": "2025-04-02T06:25:11.334Z"
   },
   {
    "duration": 39,
    "start_time": "2025-04-02T06:25:11.346Z"
   },
   {
    "duration": 276,
    "start_time": "2025-04-02T06:25:11.387Z"
   },
   {
    "duration": 8,
    "start_time": "2025-04-02T06:25:11.672Z"
   },
   {
    "duration": 257,
    "start_time": "2025-04-02T06:25:11.682Z"
   },
   {
    "duration": 264,
    "start_time": "2025-04-02T06:25:11.941Z"
   },
   {
    "duration": 6,
    "start_time": "2025-04-02T06:25:12.208Z"
   },
   {
    "duration": 439,
    "start_time": "2025-04-02T06:25:12.216Z"
   },
   {
    "duration": 367,
    "start_time": "2025-04-02T06:25:12.657Z"
   },
   {
    "duration": 367,
    "start_time": "2025-04-02T06:25:13.027Z"
   },
   {
    "duration": 342,
    "start_time": "2025-04-02T06:25:13.395Z"
   },
   {
    "duration": 7,
    "start_time": "2025-04-02T06:25:13.738Z"
   },
   {
    "duration": 26,
    "start_time": "2025-04-02T06:25:13.747Z"
   },
   {
    "duration": 7,
    "start_time": "2025-04-02T06:25:13.775Z"
   },
   {
    "duration": 303,
    "start_time": "2025-04-02T06:25:13.783Z"
   },
   {
    "duration": 16,
    "start_time": "2025-04-02T06:25:14.087Z"
   },
   {
    "duration": 271,
    "start_time": "2025-04-02T06:25:14.105Z"
   },
   {
    "duration": 9,
    "start_time": "2025-04-02T06:25:14.377Z"
   },
   {
    "duration": 435,
    "start_time": "2025-04-02T06:25:14.387Z"
   },
   {
    "duration": 17,
    "start_time": "2025-04-02T06:25:14.824Z"
   },
   {
    "duration": 313,
    "start_time": "2025-04-02T06:25:14.843Z"
   },
   {
    "duration": 17,
    "start_time": "2025-04-02T06:25:15.157Z"
   },
   {
    "duration": 19,
    "start_time": "2025-04-02T06:25:15.175Z"
   },
   {
    "duration": 345,
    "start_time": "2025-04-02T06:25:15.195Z"
   },
   {
    "duration": 4,
    "start_time": "2025-04-02T06:25:15.542Z"
   },
   {
    "duration": 29,
    "start_time": "2025-04-02T06:25:15.547Z"
   },
   {
    "duration": 216,
    "start_time": "2025-04-02T06:25:15.577Z"
   },
   {
    "duration": 110,
    "start_time": "2025-04-02T06:25:15.794Z"
   },
   {
    "duration": 9,
    "start_time": "2025-04-02T06:25:15.906Z"
   },
   {
    "duration": 31,
    "start_time": "2025-04-02T06:25:15.916Z"
   },
   {
    "duration": 244,
    "start_time": "2025-04-02T06:25:15.949Z"
   },
   {
    "duration": 4,
    "start_time": "2025-04-02T06:25:16.195Z"
   },
   {
    "duration": 71,
    "start_time": "2025-04-02T06:25:16.200Z"
   },
   {
    "duration": 16,
    "start_time": "2025-04-02T06:25:16.273Z"
   },
   {
    "duration": 6,
    "start_time": "2025-04-02T06:25:16.291Z"
   },
   {
    "duration": 12,
    "start_time": "2025-04-02T06:25:16.299Z"
   },
   {
    "duration": 5,
    "start_time": "2025-04-02T06:25:16.313Z"
   },
   {
    "duration": 11,
    "start_time": "2025-04-02T06:25:16.320Z"
   },
   {
    "duration": 41,
    "start_time": "2025-04-02T06:25:16.333Z"
   }
  ],
  "kernelspec": {
   "display_name": "Python 3 (ipykernel)",
   "language": "python",
   "name": "python3"
  },
  "language_info": {
   "codemirror_mode": {
    "name": "ipython",
    "version": 3
   },
   "file_extension": ".py",
   "mimetype": "text/x-python",
   "name": "python",
   "nbconvert_exporter": "python",
   "pygments_lexer": "ipython3",
   "version": "3.9.5"
  },
  "toc": {
   "base_numbering": 1,
   "nav_menu": {},
   "number_sections": true,
   "sideBar": true,
   "skip_h1_title": true,
   "title_cell": "Table of Contents",
   "title_sidebar": "Contents",
   "toc_cell": false,
   "toc_position": {},
   "toc_section_display": true,
   "toc_window_display": false
  }
 },
 "nbformat": 4,
 "nbformat_minor": 2
}
