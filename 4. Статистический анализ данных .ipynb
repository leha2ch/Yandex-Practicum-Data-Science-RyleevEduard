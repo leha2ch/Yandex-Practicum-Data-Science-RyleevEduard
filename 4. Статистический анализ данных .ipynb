{
 "cells": [
  {
   "cell_type": "markdown",
   "id": "7f772b24",
   "metadata": {},
   "source": [
    "# Исследование работы сервиса аренды самокатов"
   ]
  },
  {
   "cell_type": "markdown",
   "id": "64f2ef64",
   "metadata": {},
   "source": [
    "Исследователь - аналитик популярного сервиса аренды самокатов `GoFast`.  \n",
    "Для исследования аналитику передали данные о некоторых пользователях сервиса из нескольких городов, а также об их поездках.  \n",
    "Поставлена задача проанализировать данные и проверить некоторые гипотезы, которые могут помочь бизнесу вырасти.  \n",
    "Чтобы совершать поездки по городу, пользователи сервиса `GoFast` пользуются мобильным приложением. Сервисом можно пользоваться:  \n",
    "* без подписки  \n",
    "  - абонентская плата отсутствует;  \n",
    "  - стоимость одной минуты поездки - 8 рублей;  \n",
    "  - стоимость старта (начала поездки) - 50 рублей;  \n",
    "* с подпиской `Ultra`  \n",
    "  - абонентская плата - 199 рублей в месяц;  \n",
    "  - стоимость одной минуты поездки - 6 рублей;  \n",
    "  - стоимость старта - бесплатно.  "
   ]
  },
  {
   "cell_type": "markdown",
   "id": "97d550cc",
   "metadata": {},
   "source": [
    "     План работы:  \n",
    "+ открыть файл с данными и изучить общую информацию;  \n",
    "+ выполнить предобработку данных (пропущенные значения, типы данных, дубликаты);  \n",
    "+ исследовать данные (частоту встречаемости городов, соотношение пользователей с подпиской и без, возраст пользователей, расстояние и продолжительность поездок);  \n",
    "+ объединить данные в один датафрейм, выделить отдельно данные по пользователям с подпиской и без;  \n",
    "+ посчитать помесячную выручку по каждому пользователю за каждый месяц;  \n",
    "+ выдвинуть гипотезы и проверить их;  \n",
    "+ изучить распределения."
   ]
  },
  {
   "cell_type": "code",
   "execution_count": 1,
   "id": "12ff41ff",
   "metadata": {},
   "outputs": [],
   "source": [
    "import pandas as pd\n",
    "import matplotlib.pyplot as plt\n",
    "import numpy as np\n",
    "import scipy\n",
    "import math\n",
    "from scipy import stats as st\n",
    "from math import factorial, sqrt\n",
    "from scipy.stats import binom, norm"
   ]
  },
  {
   "cell_type": "markdown",
   "id": "5419c0dc",
   "metadata": {},
   "source": [
    "# Шаг 1. Загрузка данных"
   ]
  },
  {
   "cell_type": "markdown",
   "id": "5cb12749",
   "metadata": {},
   "source": [
    "Напишем функцию для оптимизации кода вывода первичной информации"
   ]
  },
  {
   "cell_type": "code",
   "execution_count": 2,
   "id": "ee9bbd75",
   "metadata": {},
   "outputs": [],
   "source": [
    "def information(dataset):\n",
    "    display(dataset.head())\n",
    "    display()\n",
    "    display(dataset.info())"
   ]
  },
  {
   "cell_type": "markdown",
   "id": "7f12d392",
   "metadata": {},
   "source": [
    "Считаем первый csv-файл с данными о пользователях, сохраним его в датафрейм `users` и изучим общую информацию о датафрейме `users`"
   ]
  },
  {
   "cell_type": "code",
   "execution_count": 3,
   "id": "64f629a9",
   "metadata": {},
   "outputs": [
    {
     "data": {
      "text/html": [
       "<div>\n",
       "<style scoped>\n",
       "    .dataframe tbody tr th:only-of-type {\n",
       "        vertical-align: middle;\n",
       "    }\n",
       "\n",
       "    .dataframe tbody tr th {\n",
       "        vertical-align: top;\n",
       "    }\n",
       "\n",
       "    .dataframe thead th {\n",
       "        text-align: right;\n",
       "    }\n",
       "</style>\n",
       "<table border=\"1\" class=\"dataframe\">\n",
       "  <thead>\n",
       "    <tr style=\"text-align: right;\">\n",
       "      <th></th>\n",
       "      <th>user_id</th>\n",
       "      <th>name</th>\n",
       "      <th>age</th>\n",
       "      <th>city</th>\n",
       "      <th>subscription_type</th>\n",
       "    </tr>\n",
       "  </thead>\n",
       "  <tbody>\n",
       "    <tr>\n",
       "      <th>0</th>\n",
       "      <td>1</td>\n",
       "      <td>Кира</td>\n",
       "      <td>22</td>\n",
       "      <td>Тюмень</td>\n",
       "      <td>ultra</td>\n",
       "    </tr>\n",
       "    <tr>\n",
       "      <th>1</th>\n",
       "      <td>2</td>\n",
       "      <td>Станислав</td>\n",
       "      <td>31</td>\n",
       "      <td>Омск</td>\n",
       "      <td>ultra</td>\n",
       "    </tr>\n",
       "    <tr>\n",
       "      <th>2</th>\n",
       "      <td>3</td>\n",
       "      <td>Алексей</td>\n",
       "      <td>20</td>\n",
       "      <td>Москва</td>\n",
       "      <td>ultra</td>\n",
       "    </tr>\n",
       "    <tr>\n",
       "      <th>3</th>\n",
       "      <td>4</td>\n",
       "      <td>Константин</td>\n",
       "      <td>26</td>\n",
       "      <td>Ростов-на-Дону</td>\n",
       "      <td>ultra</td>\n",
       "    </tr>\n",
       "    <tr>\n",
       "      <th>4</th>\n",
       "      <td>5</td>\n",
       "      <td>Адель</td>\n",
       "      <td>28</td>\n",
       "      <td>Омск</td>\n",
       "      <td>ultra</td>\n",
       "    </tr>\n",
       "  </tbody>\n",
       "</table>\n",
       "</div>"
      ],
      "text/plain": [
       "   user_id        name  age            city subscription_type\n",
       "0        1        Кира   22          Тюмень             ultra\n",
       "1        2   Станислав   31            Омск             ultra\n",
       "2        3     Алексей   20          Москва             ultra\n",
       "3        4  Константин   26  Ростов-на-Дону             ultra\n",
       "4        5       Адель   28            Омск             ultra"
      ]
     },
     "metadata": {},
     "output_type": "display_data"
    },
    {
     "name": "stdout",
     "output_type": "stream",
     "text": [
      "<class 'pandas.core.frame.DataFrame'>\n",
      "RangeIndex: 1565 entries, 0 to 1564\n",
      "Data columns (total 5 columns):\n",
      " #   Column             Non-Null Count  Dtype \n",
      "---  ------             --------------  ----- \n",
      " 0   user_id            1565 non-null   int64 \n",
      " 1   name               1565 non-null   object\n",
      " 2   age                1565 non-null   int64 \n",
      " 3   city               1565 non-null   object\n",
      " 4   subscription_type  1565 non-null   object\n",
      "dtypes: int64(2), object(3)\n",
      "memory usage: 61.3+ KB\n"
     ]
    },
    {
     "data": {
      "text/plain": [
       "None"
      ]
     },
     "metadata": {},
     "output_type": "display_data"
    }
   ],
   "source": [
    "users = pd.read_csv('/datasets/users_go.csv')\n",
    "\n",
    "information(users)"
   ]
  },
  {
   "cell_type": "markdown",
   "id": "3719288c",
   "metadata": {},
   "source": [
    "Считаем второй csv-файл с данными о поездках, сохраним его в датафрейм `rides`, при загрузке данных добавим параметр `parse_dates`, чтобы перевести столбец с датами в нужный форма\n",
    "А также изучим общую информаци о датафрейме `rides`"
   ]
  },
  {
   "cell_type": "code",
   "execution_count": 4,
   "id": "f625a0cd",
   "metadata": {},
   "outputs": [
    {
     "name": "stdout",
     "output_type": "stream",
     "text": [
      "<class 'pandas.core.frame.DataFrame'>\n",
      "RangeIndex: 18068 entries, 0 to 18067\n",
      "Data columns (total 4 columns):\n",
      " #   Column    Non-Null Count  Dtype         \n",
      "---  ------    --------------  -----         \n",
      " 0   user_id   18068 non-null  int64         \n",
      " 1   distance  18068 non-null  float64       \n",
      " 2   duration  18068 non-null  float64       \n",
      " 3   date      18068 non-null  datetime64[ns]\n",
      "dtypes: datetime64[ns](1), float64(2), int64(1)\n",
      "memory usage: 564.8 KB\n"
     ]
    }
   ],
   "source": [
    "rides = pd.read_csv('/datasets/rides_go.csv', parse_dates=['date'])\n",
    "\n",
    "rides.info()"
   ]
  },
  {
   "cell_type": "markdown",
   "id": "7be4f296",
   "metadata": {},
   "source": [
    "Считаем третий csv-файл с данными о подписках, сохраним его в датафрейм `subscriptions` и изучим общую информацию о датафрейме `subscriptions`"
   ]
  },
  {
   "cell_type": "code",
   "execution_count": 5,
   "id": "50569ca5",
   "metadata": {},
   "outputs": [
    {
     "name": "stdout",
     "output_type": "stream",
     "text": [
      "<class 'pandas.core.frame.DataFrame'>\n",
      "RangeIndex: 2 entries, 0 to 1\n",
      "Data columns (total 4 columns):\n",
      " #   Column             Non-Null Count  Dtype \n",
      "---  ------             --------------  ----- \n",
      " 0   subscription_type  2 non-null      object\n",
      " 1   minute_price       2 non-null      int64 \n",
      " 2   start_ride_price   2 non-null      int64 \n",
      " 3   subscription_fee   2 non-null      int64 \n",
      "dtypes: int64(3), object(1)\n",
      "memory usage: 192.0+ bytes\n"
     ]
    }
   ],
   "source": [
    "subscriptions = pd.read_csv('/datasets/subscriptions_go.csv')\n",
    "\n",
    "subscriptions.info()"
   ]
  },
  {
   "cell_type": "markdown",
   "id": "4b2b59ae",
   "metadata": {},
   "source": [
    "**Вывод.** Датафрейм `users` содержит информацию о пользователях: уникальный идентификатор пользователя, имя пользователя, возраст, город и тип подписки (`free`, `ultra`). Датафрейм `users` содержит 1565 строк и 5 столбцов. Названия столбцов корректные. Типы значений в двух столбцах целочисленные и в трёх столбцах `object`. Нулевые значения предположительно отсутствуют.\n",
    "\n",
    "Датафрейм `rides` содержит информацию о поездках: уникальный идентификатор пользователя, расстояние, которое пользователь проехал в текущей сессии (в метрах), продолжительность сессии (в минутах) - время с того момента, как пользователь нажал кнопку \"Начать поездку\" до момента, как он нажал кнопку \"Завершить поездку\", дата совершения поездки. Датафрейм `rides` содержит 18068 строк и 4 столбца. Названия столбцов корректные. Типы значений в одном столбце целочисленные, в двух столбцах вещественные и в одном столбце `datetime`. Нулевые значения предположительно отсутствуют.\n",
    "\n",
    "Датафрейм `subscriptions` содержит информацию о подписках: тип подписки, стоимость одной минуты поездки по данной подписке, стоимость начала поездки, стоимость ежемесячного платежа. Датафрейм `subscriptions` содержит 2 строки и 4 столбца. Названия столбцов корректные. Типы значений в трех столбцах целочисленные, в одном столбце `object`. Нулевые значения предположительно отсутствуют."
   ]
  },
  {
   "cell_type": "markdown",
   "id": "426288a7",
   "metadata": {},
   "source": [
    "# Шаг 2. Предобработка данных"
   ]
  },
  {
   "cell_type": "markdown",
   "id": "8845e4c3",
   "metadata": {},
   "source": [
    "**Анализируемый период**"
   ]
  },
  {
   "cell_type": "markdown",
   "id": "085322e4",
   "metadata": {},
   "source": [
    "Выведем на экран минимальное и максимальное значения в столбце `date` датафрейма `rides`"
   ]
  },
  {
   "cell_type": "code",
   "execution_count": 6,
   "id": "5e941c98",
   "metadata": {},
   "outputs": [
    {
     "data": {
      "text/plain": [
       "Timestamp('2021-01-01 00:00:00')"
      ]
     },
     "metadata": {},
     "output_type": "display_data"
    },
    {
     "data": {
      "text/plain": [
       "Timestamp('2021-12-30 00:00:00')"
      ]
     },
     "metadata": {},
     "output_type": "display_data"
    }
   ],
   "source": [
    "display(rides['date'].min(), rides['date'].max())"
   ]
  },
  {
   "cell_type": "markdown",
   "id": "9179fe2a",
   "metadata": {},
   "source": [
    "Данные собраны за 2021 год - с 1 января 2021 года по 30 декабря 2021 года, то есть за один год. Из столбца с датами нужно извлечь информацию о месяце. Добавим новый столбец с номером месяца."
   ]
  },
  {
   "cell_type": "markdown",
   "id": "29008b2e",
   "metadata": {},
   "source": [
    "На основе столбца `date` датафрейма `rides` создадим в этом датафрейме новый столбец с номером месяца. Проверим, выведем на экран первые 20 строк датафрейма `rides`"
   ]
  },
  {
   "cell_type": "code",
   "execution_count": 7,
   "id": "1ecd953f",
   "metadata": {},
   "outputs": [
    {
     "data": {
      "text/html": [
       "<div>\n",
       "<style scoped>\n",
       "    .dataframe tbody tr th:only-of-type {\n",
       "        vertical-align: middle;\n",
       "    }\n",
       "\n",
       "    .dataframe tbody tr th {\n",
       "        vertical-align: top;\n",
       "    }\n",
       "\n",
       "    .dataframe thead th {\n",
       "        text-align: right;\n",
       "    }\n",
       "</style>\n",
       "<table border=\"1\" class=\"dataframe\">\n",
       "  <thead>\n",
       "    <tr style=\"text-align: right;\">\n",
       "      <th></th>\n",
       "      <th>user_id</th>\n",
       "      <th>distance</th>\n",
       "      <th>duration</th>\n",
       "      <th>date</th>\n",
       "      <th>month</th>\n",
       "    </tr>\n",
       "  </thead>\n",
       "  <tbody>\n",
       "    <tr>\n",
       "      <th>0</th>\n",
       "      <td>1</td>\n",
       "      <td>4409.919140</td>\n",
       "      <td>25.599769</td>\n",
       "      <td>2021-01-01</td>\n",
       "      <td>1</td>\n",
       "    </tr>\n",
       "    <tr>\n",
       "      <th>1</th>\n",
       "      <td>1</td>\n",
       "      <td>2617.592153</td>\n",
       "      <td>15.816871</td>\n",
       "      <td>2021-01-18</td>\n",
       "      <td>1</td>\n",
       "    </tr>\n",
       "    <tr>\n",
       "      <th>2</th>\n",
       "      <td>1</td>\n",
       "      <td>754.159807</td>\n",
       "      <td>6.232113</td>\n",
       "      <td>2021-04-20</td>\n",
       "      <td>4</td>\n",
       "    </tr>\n",
       "    <tr>\n",
       "      <th>3</th>\n",
       "      <td>1</td>\n",
       "      <td>2694.783254</td>\n",
       "      <td>18.511000</td>\n",
       "      <td>2021-08-11</td>\n",
       "      <td>8</td>\n",
       "    </tr>\n",
       "    <tr>\n",
       "      <th>4</th>\n",
       "      <td>1</td>\n",
       "      <td>4028.687306</td>\n",
       "      <td>26.265803</td>\n",
       "      <td>2021-08-28</td>\n",
       "      <td>8</td>\n",
       "    </tr>\n",
       "    <tr>\n",
       "      <th>5</th>\n",
       "      <td>1</td>\n",
       "      <td>2770.890808</td>\n",
       "      <td>16.650138</td>\n",
       "      <td>2021-10-09</td>\n",
       "      <td>10</td>\n",
       "    </tr>\n",
       "    <tr>\n",
       "      <th>6</th>\n",
       "      <td>1</td>\n",
       "      <td>3039.020292</td>\n",
       "      <td>14.927879</td>\n",
       "      <td>2021-10-19</td>\n",
       "      <td>10</td>\n",
       "    </tr>\n",
       "    <tr>\n",
       "      <th>7</th>\n",
       "      <td>1</td>\n",
       "      <td>2842.118050</td>\n",
       "      <td>23.117468</td>\n",
       "      <td>2021-11-06</td>\n",
       "      <td>11</td>\n",
       "    </tr>\n",
       "    <tr>\n",
       "      <th>8</th>\n",
       "      <td>1</td>\n",
       "      <td>3412.690668</td>\n",
       "      <td>15.238072</td>\n",
       "      <td>2021-11-14</td>\n",
       "      <td>11</td>\n",
       "    </tr>\n",
       "    <tr>\n",
       "      <th>9</th>\n",
       "      <td>1</td>\n",
       "      <td>748.690645</td>\n",
       "      <td>15.041884</td>\n",
       "      <td>2021-11-22</td>\n",
       "      <td>11</td>\n",
       "    </tr>\n",
       "    <tr>\n",
       "      <th>10</th>\n",
       "      <td>1</td>\n",
       "      <td>4031.020195</td>\n",
       "      <td>17.674448</td>\n",
       "      <td>2021-12-14</td>\n",
       "      <td>12</td>\n",
       "    </tr>\n",
       "    <tr>\n",
       "      <th>11</th>\n",
       "      <td>1</td>\n",
       "      <td>2720.609748</td>\n",
       "      <td>9.529463</td>\n",
       "      <td>2021-12-22</td>\n",
       "      <td>12</td>\n",
       "    </tr>\n",
       "    <tr>\n",
       "      <th>12</th>\n",
       "      <td>2</td>\n",
       "      <td>3105.086678</td>\n",
       "      <td>24.307514</td>\n",
       "      <td>2021-03-15</td>\n",
       "      <td>3</td>\n",
       "    </tr>\n",
       "    <tr>\n",
       "      <th>13</th>\n",
       "      <td>2</td>\n",
       "      <td>3053.519401</td>\n",
       "      <td>11.543256</td>\n",
       "      <td>2021-03-18</td>\n",
       "      <td>3</td>\n",
       "    </tr>\n",
       "    <tr>\n",
       "      <th>14</th>\n",
       "      <td>2</td>\n",
       "      <td>4029.116927</td>\n",
       "      <td>25.109188</td>\n",
       "      <td>2021-03-23</td>\n",
       "      <td>3</td>\n",
       "    </tr>\n",
       "    <tr>\n",
       "      <th>15</th>\n",
       "      <td>2</td>\n",
       "      <td>2805.786329</td>\n",
       "      <td>20.652145</td>\n",
       "      <td>2021-04-08</td>\n",
       "      <td>4</td>\n",
       "    </tr>\n",
       "    <tr>\n",
       "      <th>16</th>\n",
       "      <td>2</td>\n",
       "      <td>3358.595495</td>\n",
       "      <td>18.396489</td>\n",
       "      <td>2021-04-13</td>\n",
       "      <td>4</td>\n",
       "    </tr>\n",
       "    <tr>\n",
       "      <th>17</th>\n",
       "      <td>2</td>\n",
       "      <td>3255.338202</td>\n",
       "      <td>13.851127</td>\n",
       "      <td>2021-06-20</td>\n",
       "      <td>6</td>\n",
       "    </tr>\n",
       "    <tr>\n",
       "      <th>18</th>\n",
       "      <td>2</td>\n",
       "      <td>3942.817648</td>\n",
       "      <td>20.142725</td>\n",
       "      <td>2021-07-02</td>\n",
       "      <td>7</td>\n",
       "    </tr>\n",
       "    <tr>\n",
       "      <th>19</th>\n",
       "      <td>2</td>\n",
       "      <td>2837.905316</td>\n",
       "      <td>26.027432</td>\n",
       "      <td>2021-07-18</td>\n",
       "      <td>7</td>\n",
       "    </tr>\n",
       "  </tbody>\n",
       "</table>\n",
       "</div>"
      ],
      "text/plain": [
       "    user_id     distance   duration       date  month\n",
       "0         1  4409.919140  25.599769 2021-01-01      1\n",
       "1         1  2617.592153  15.816871 2021-01-18      1\n",
       "2         1   754.159807   6.232113 2021-04-20      4\n",
       "3         1  2694.783254  18.511000 2021-08-11      8\n",
       "4         1  4028.687306  26.265803 2021-08-28      8\n",
       "5         1  2770.890808  16.650138 2021-10-09     10\n",
       "6         1  3039.020292  14.927879 2021-10-19     10\n",
       "7         1  2842.118050  23.117468 2021-11-06     11\n",
       "8         1  3412.690668  15.238072 2021-11-14     11\n",
       "9         1   748.690645  15.041884 2021-11-22     11\n",
       "10        1  4031.020195  17.674448 2021-12-14     12\n",
       "11        1  2720.609748   9.529463 2021-12-22     12\n",
       "12        2  3105.086678  24.307514 2021-03-15      3\n",
       "13        2  3053.519401  11.543256 2021-03-18      3\n",
       "14        2  4029.116927  25.109188 2021-03-23      3\n",
       "15        2  2805.786329  20.652145 2021-04-08      4\n",
       "16        2  3358.595495  18.396489 2021-04-13      4\n",
       "17        2  3255.338202  13.851127 2021-06-20      6\n",
       "18        2  3942.817648  20.142725 2021-07-02      7\n",
       "19        2  2837.905316  26.027432 2021-07-18      7"
      ]
     },
     "execution_count": 7,
     "metadata": {},
     "output_type": "execute_result"
    }
   ],
   "source": [
    "rides['month'] = rides['date'].dt.month\n",
    "\n",
    "rides.head(20)"
   ]
  },
  {
   "cell_type": "markdown",
   "id": "7db9c79d",
   "metadata": {},
   "source": [
    "**Пропуски и дубликаты**"
   ]
  },
  {
   "cell_type": "markdown",
   "id": "45f1d1f3",
   "metadata": {},
   "source": [
    "Проверим на наличие пропусков все три датафрейма"
   ]
  },
  {
   "cell_type": "code",
   "execution_count": 8,
   "id": "731d5e3b",
   "metadata": {},
   "outputs": [
    {
     "name": "stdout",
     "output_type": "stream",
     "text": [
      "user_id              0\n",
      "name                 0\n",
      "age                  0\n",
      "city                 0\n",
      "subscription_type    0\n",
      "dtype: int64\n",
      "\n",
      "user_id     0\n",
      "distance    0\n",
      "duration    0\n",
      "date        0\n",
      "month       0\n",
      "dtype: int64\n",
      "\n",
      "subscription_type    0\n",
      "minute_price         0\n",
      "start_ride_price     0\n",
      "subscription_fee     0\n",
      "dtype: int64\n"
     ]
    }
   ],
   "source": [
    "print(users.isna().sum())\n",
    "print()\n",
    "print(rides.isna().sum())\n",
    "print()\n",
    "print(subscriptions.isna().sum())"
   ]
  },
  {
   "cell_type": "markdown",
   "id": "f8f70fb7",
   "metadata": {},
   "source": [
    "Пропусков нет. Это радует"
   ]
  },
  {
   "cell_type": "markdown",
   "id": "5b45a7b6",
   "metadata": {},
   "source": [
    "Проверим на наличие явных дубликатов датафреймы `users` и `rides`"
   ]
  },
  {
   "cell_type": "code",
   "execution_count": 9,
   "id": "df3db4fc",
   "metadata": {},
   "outputs": [
    {
     "name": "stdout",
     "output_type": "stream",
     "text": [
      "31 0\n"
     ]
    }
   ],
   "source": [
    "print(users.duplicated().sum(), rides.duplicated().sum())"
   ]
  },
  {
   "cell_type": "markdown",
   "id": "4aaf8273",
   "metadata": {},
   "source": [
    "В датафрейме `users` дубликаты есть, удалим их, индексацию обновим, датафрейм перезапишем. Проверим на наличие дубликатов датафрейм `users` после их удаления"
   ]
  },
  {
   "cell_type": "code",
   "execution_count": 10,
   "id": "ea1a82df",
   "metadata": {},
   "outputs": [
    {
     "data": {
      "text/plain": [
       "0"
      ]
     },
     "execution_count": 10,
     "metadata": {},
     "output_type": "execute_result"
    }
   ],
   "source": [
    "users = users.drop_duplicates().reset_index(drop=True)\n",
    "\n",
    "users.duplicated().sum()"
   ]
  },
  {
   "cell_type": "markdown",
   "id": "c51e32ef",
   "metadata": {},
   "source": [
    "Проверим на наличие неявных дубликатов"
   ]
  },
  {
   "cell_type": "code",
   "execution_count": 11,
   "id": "ec11a5dc",
   "metadata": {},
   "outputs": [
    {
     "name": "stdout",
     "output_type": "stream",
     "text": [
      "['Тюмень' 'Омск' 'Москва' 'Ростов-на-Дону' 'Краснодар' 'Пятигорск'\n",
      " 'Екатеринбург' 'Сочи'] ['ultra' 'free']\n"
     ]
    }
   ],
   "source": [
    "print(users['city'].unique(), users['subscription_type'].unique())"
   ]
  },
  {
   "cell_type": "markdown",
   "id": "6141e099",
   "metadata": {},
   "source": [
    "**Вывод.** Нами выяснено, что данные собраны за год - с 1 января по 30 декабря 2021 года. В отдельный столбец `month` вынесены данные о месяце. Далее мы убедились в отсутствии пропущенных значений в данных. И, наконец, избавились от явных дубликатов и убедились в отсутствии неявных дубликатов. Таким образом, предобработка данных выполнена."
   ]
  },
  {
   "cell_type": "markdown",
   "id": "cbced373",
   "metadata": {},
   "source": [
    "# Шаг 3. Исследовательский анализ данных"
   ]
  },
  {
   "cell_type": "markdown",
   "id": "295ce3eb",
   "metadata": {},
   "source": [
    "**Частота встречаемости городов**"
   ]
  },
  {
   "cell_type": "markdown",
   "id": "fbe7af4f",
   "metadata": {},
   "source": [
    "Выведем количество пользователей в каждом городе как число упоминаний города в столбце 'city' датафрейма 'users'. Сохраним полученный Series как `users_city`"
   ]
  },
  {
   "cell_type": "code",
   "execution_count": 12,
   "id": "47019c2c",
   "metadata": {},
   "outputs": [
    {
     "data": {
      "text/plain": [
       "Пятигорск         219\n",
       "Екатеринбург      204\n",
       "Ростов-на-Дону    198\n",
       "Краснодар         193\n",
       "Сочи              189\n",
       "Омск              183\n",
       "Тюмень            180\n",
       "Москва            168\n",
       "Name: city, dtype: int64"
      ]
     },
     "execution_count": 12,
     "metadata": {},
     "output_type": "execute_result"
    }
   ],
   "source": [
    "users_city = users['city'].value_counts()\n",
    "users_city"
   ]
  },
  {
   "cell_type": "markdown",
   "id": "64394f5e",
   "metadata": {},
   "source": [
    "Построим столбчатую диаграмму, при этом развернём график в горизонтальные бары, чтобы надписи по оси Х читались корректно"
   ]
  },
  {
   "cell_type": "code",
   "execution_count": 13,
   "id": "bc765176",
   "metadata": {},
   "outputs": [
    {
     "data": {
      "image/png": "[encoded data removed]",
      "text/plain": [
       "<Figure size 432x216 with 1 Axes>"
      ]
     },
     "metadata": {
      "needs_background": "light"
     },
     "output_type": "display_data"
    }
   ],
   "source": [
    "fig = plt.figure(figsize=(6, 3))\n",
    "ax = users_city.plot.barh()\n",
    "plt.title('Распределение пользователей по городам', fontsize=14)\n",
    "plt.xlabel('Количество')\n",
    "plt.ylabel('Города')\n",
    "plt.grid()\n",
    "plt.show()"
   ]
  },
  {
   "cell_type": "markdown",
   "id": "e914ace3",
   "metadata": {},
   "source": [
    "Больше всего пользователей сервиса аренды самокатов GoFast в Пятигорске, Екатеринбурге, Ростове-на-Дону, а также в Краснодаре и Сочи. В Омске и Тюмени пользователей меньше, а самый низкий показатель числа пользователей в имеющихся данных - в Москве.  \n",
    "Выясним, на сколько процентов отличается количество пользователей в разных городах."
   ]
  },
  {
   "cell_type": "markdown",
   "id": "1182fba6",
   "metadata": {},
   "source": [
    "Посчитаем отношение максимального и минимального количества пользователей по городам"
   ]
  },
  {
   "cell_type": "code",
   "execution_count": 14,
   "id": "97b9c565",
   "metadata": {},
   "outputs": [
    {
     "data": {
      "text/plain": [
       "1.3"
      ]
     },
     "execution_count": 14,
     "metadata": {},
     "output_type": "execute_result"
    }
   ],
   "source": [
    "round(users_city.max() / users_city.min(), 2)"
   ]
  },
  {
   "cell_type": "markdown",
   "id": "dde92c41",
   "metadata": {},
   "source": [
    "Отношение максимального числа клиентов к минимальному по отдельным городам составляет примерно `1.3`, то есть количество пользователей в городах отличается на 30 % и меньше. Различие по числу пользователей в разных городах не является существенным для нашего исследования. Однако непонятно, почему эта разница не в пользу Москвы."
   ]
  },
  {
   "cell_type": "markdown",
   "id": "76293793",
   "metadata": {},
   "source": [
    "Применим к данным о распределении клиентов по городам метод `describe()`, чтобы получить числовое описание данных"
   ]
  },
  {
   "cell_type": "code",
   "execution_count": 15,
   "id": "f0de5af5",
   "metadata": {},
   "outputs": [
    {
     "data": {
      "text/plain": [
       "count      8.00\n",
       "mean     191.75\n",
       "std       15.67\n",
       "min      168.00\n",
       "25%      182.25\n",
       "50%      191.00\n",
       "75%      199.50\n",
       "max      219.00\n",
       "Name: city, dtype: float64"
      ]
     },
     "metadata": {},
     "output_type": "display_data"
    }
   ],
   "source": [
    "display(users_city.describe().round(2))"
   ]
  },
  {
   "cell_type": "markdown",
   "id": "4f6a3813",
   "metadata": {},
   "source": [
    "Как видно из числового описания данных, среднее значение и медиана практически равны. Кроме того, стандартное отклонение очень маленькое, что позволяет утверждать, что данные однородны. Разница между городами по числу пользователей сервиса несущественная. "
   ]
  },
  {
   "cell_type": "markdown",
   "id": "68adab6a",
   "metadata": {},
   "source": [
    "**Соотношение пользователей с подпиской и без подписки**"
   ]
  },
  {
   "cell_type": "markdown",
   "id": "6ed15e35",
   "metadata": {},
   "source": [
    "Выведем число значений в столбце 'subscription_type' датафрейма 'users'"
   ]
  },
  {
   "cell_type": "code",
   "execution_count": 16,
   "id": "50be91e4",
   "metadata": {},
   "outputs": [
    {
     "data": {
      "text/plain": [
       "free     835\n",
       "ultra    699\n",
       "Name: subscription_type, dtype: int64"
      ]
     },
     "execution_count": 16,
     "metadata": {},
     "output_type": "execute_result"
    }
   ],
   "source": [
    "users['subscription_type'].value_counts()"
   ]
  },
  {
   "cell_type": "markdown",
   "id": "3c33b3c0",
   "metadata": {},
   "source": [
    "Построим столбчатую диаграмму"
   ]
  },
  {
   "cell_type": "code",
   "execution_count": 17,
   "id": "102d4ffb",
   "metadata": {},
   "outputs": [
    {
     "data": {
      "image/png": "[encoded data removed]",
      "text/plain": [
       "<Figure size 432x288 with 1 Axes>"
      ]
     },
     "metadata": {
      "needs_background": "light"
     },
     "output_type": "display_data"
    }
   ],
   "source": [
    "ax = users['subscription_type'].value_counts().plot.bar()\n",
    "plt.title('Типы подписки', fontsize=14)\n",
    "plt.ylabel('Количество')\n",
    "plt.xticks(rotation=0)\n",
    "plt.show()"
   ]
  },
  {
   "cell_type": "markdown",
   "id": "841a5dba",
   "metadata": {},
   "source": [
    "Построим круговую диаграмму для отображения разности в доле клиентов"
   ]
  },
  {
   "cell_type": "code",
   "execution_count": 18,
   "id": "f874ab28",
   "metadata": {},
   "outputs": [
    {
     "data": {
      "image/png": "[encoded data removed]",
      "text/plain": [
       "<Figure size 576x288 with 1 Axes>"
      ]
     },
     "metadata": {},
     "output_type": "display_data"
    }
   ],
   "source": [
    "fig = plt.figure(figsize=(8, 4))\n",
    "ax = users['subscription_type'].value_counts().plot.pie(autopct='%.2f')\n",
    "plt.title('Распределение пользователей по типу подписки', fontsize=16)\n",
    "plt.show()"
   ]
  },
  {
   "cell_type": "markdown",
   "id": "b7fd5daa",
   "metadata": {},
   "source": [
    "Выясним, каково соотношение пользователей без подписки и с подпиской в численном выражении"
   ]
  },
  {
   "cell_type": "code",
   "execution_count": 19,
   "id": "72503011",
   "metadata": {},
   "outputs": [
    {
     "data": {
      "text/plain": [
       "1.19"
      ]
     },
     "execution_count": 19,
     "metadata": {},
     "output_type": "execute_result"
    }
   ],
   "source": [
    "(users.groupby('subscription_type')['user_id'].count()[0] / \\\n",
    " users.groupby('subscription_type')['user_id'].count()[1]).round(2)"
   ]
  },
  {
   "cell_type": "markdown",
   "id": "3fa3f233",
   "metadata": {},
   "source": [
    "Как видно, круговая диаграмма показывает, что соотношение пользователей с подпиской и без подписки не слишком отличается, пользователи делят круг почти пополам. Пользователей без подписки по имеющимся данным несколько больше, чем пользователей с подпиской. В численном выражении соотношение составляет 1,1946, то есть пользователей без подписки примерно на 20 % больше, чем пользователей с подпиской. "
   ]
  },
  {
   "cell_type": "markdown",
   "id": "b8a5efb1",
   "metadata": {},
   "source": [
    "**Возраст пользователей**"
   ]
  },
  {
   "cell_type": "markdown",
   "id": "86a62157",
   "metadata": {},
   "source": [
    "Выведем на экран минимальный и максимальный возраст пользователей"
   ]
  },
  {
   "cell_type": "code",
   "execution_count": 20,
   "id": "a878daa6",
   "metadata": {},
   "outputs": [
    {
     "name": "stdout",
     "output_type": "stream",
     "text": [
      "12 43\n"
     ]
    }
   ],
   "source": [
    "print(users['age'].min(), users['age'].max())"
   ]
  },
  {
   "cell_type": "markdown",
   "id": "2ef1e43f",
   "metadata": {},
   "source": [
    "Построим гистограмму распределения пользователей по возрасту"
   ]
  },
  {
   "cell_type": "code",
   "execution_count": 21,
   "id": "348a335e",
   "metadata": {},
   "outputs": [
    {
     "data": {
      "image/png": "[encoded data removed]",
      "text/plain": [
       "<Figure size 864x576 with 1 Axes>"
      ]
     },
     "metadata": {
      "needs_background": "light"
     },
     "output_type": "display_data"
    }
   ],
   "source": [
    "users['age'].hist(bins=30, figsize=(12, 8), edgecolor='b')\n",
    "plt.title('Распределение пользователей по возрасту', fontsize=18)\n",
    "plt.xlabel('Возраст')\n",
    "plt.ylabel('Количество')\n",
    "plt.show()"
   ]
  },
  {
   "cell_type": "markdown",
   "id": "8b4a010b",
   "metadata": {},
   "source": [
    "Пользователи сервиса - люди от 12 до 43 лет включительно. Большая часть пользователей имеет возраст от 19 до 38 лет. А самые активные пользователи сервиса находятся в возрасте от 22 до 28 лет. Распределение пользоватлей по возрасту нормальное."
   ]
  },
  {
   "cell_type": "markdown",
   "id": "beb535db",
   "metadata": {},
   "source": [
    "Построим диаграмму размаха для распределения пользователей по возрасту"
   ]
  },
  {
   "cell_type": "code",
   "execution_count": 22,
   "id": "9673d6b0",
   "metadata": {},
   "outputs": [
    {
     "data": {
      "image/png": "[encoded data removed]",
      "text/plain": [
       "<Figure size 576x576 with 1 Axes>"
      ]
     },
     "metadata": {
      "needs_background": "light"
     },
     "output_type": "display_data"
    }
   ],
   "source": [
    "plt.figure(figsize=(8, 8))\n",
    "users.boxplot('age')\n",
    "plt.title('Размах данных по возрасту')\n",
    "plt.ylabel('Возраст')\n",
    "plt.grid(True)\n",
    "plt.show()"
   ]
  },
  {
   "cell_type": "markdown",
   "id": "7016b63a",
   "metadata": {},
   "source": [
    "Как видно из диаграммы размаха, медианный возраст клиентов сервиса составляет 25 лет, то есть половина клиентов моложе 25 лет, а другая половина - старше. Межквартильный размах показывает, что 50 % клиентов находятся в возрасте от 22 до 28 лет.  \n",
    "Некоторые значения возраста являются аномальными для данного распределения - это значения 12 лет и значения старше 37 лет. Таких значений немного, это означает, что детям и людям старше 37 лет несвойственно пользоваться самокатами. Это, скорее, исключения. Однако аномальные данные удалять не будем, так как эти пользователи такие же клиенты сервиса и тоже заплатили за свои поездки."
   ]
  },
  {
   "cell_type": "markdown",
   "id": "1b637bf5",
   "metadata": {},
   "source": [
    "**Расстояние, которое пользователь преодолел за одну поездку**"
   ]
  },
  {
   "cell_type": "markdown",
   "id": "bacd35b8",
   "metadata": {},
   "source": [
    "Выведем на экран минимальное и максимальное расстояние, которое пользователь преодолел за одну поездку (в метрах)"
   ]
  },
  {
   "cell_type": "code",
   "execution_count": 23,
   "id": "a51bbb10",
   "metadata": {},
   "outputs": [
    {
     "name": "stdout",
     "output_type": "stream",
     "text": [
      "0.855682925681208 ;  7211.007744598519\n"
     ]
    }
   ],
   "source": [
    "print(rides['distance'].min(), '; ', rides['distance'].max())"
   ]
  },
  {
   "cell_type": "markdown",
   "id": "ec6e51c1",
   "metadata": {},
   "source": [
    "Построим гистограмму распределения поездок по расстоянию за одну поездку"
   ]
  },
  {
   "cell_type": "code",
   "execution_count": 24,
   "id": "461a37a4",
   "metadata": {},
   "outputs": [
    {
     "data": {
      "image/png": "[encoded data removed]",
      "text/plain": [
       "<Figure size 864x576 with 1 Axes>"
      ]
     },
     "metadata": {
      "needs_background": "light"
     },
     "output_type": "display_data"
    }
   ],
   "source": [
    "rides['distance'].hist(bins=30, figsize=(12, 8), edgecolor='b')\n",
    "plt.title('Распределение поездок по расстоянию', fontsize=18)\n",
    "plt.xlabel('Расстояние')\n",
    "plt.ylabel('Количество')\n",
    "plt.show()"
   ]
  },
  {
   "cell_type": "markdown",
   "id": "03539222",
   "metadata": {},
   "source": [
    "Распределение близкое к нормальному, но имеется малый пик в небольших значениях. Поездки, совершённые пользователями, имели минимальную дистанцию 0,86 м, максимальную - 7211,01 м. Пик графика находится в точке около 3 километров. Есть также небольшой пик возле значения 500-700 метров, то есть некоторые пользователи берут самокат на очень короткие расстояния. Но всё же большинство пользователей проезжают от 2 до 5 километров. Можно предположить, что на короткие расстояния берут самокат неуверенные пользователи, которые только учатся использовать этот вид транспорта или приложение, с помощью которого используется сервис. Основную часть клиентов составляют опытные пользователи, которые применяют этот вид транспорта по прямому назначению - проехать из одного пункта в другой, который чаще всего не в пешей доступности. "
   ]
  },
  {
   "cell_type": "markdown",
   "id": "0e8521f9",
   "metadata": {},
   "source": [
    "Построим диаграмму размаха для распределения пользователей по длине поездок"
   ]
  },
  {
   "cell_type": "code",
   "execution_count": 25,
   "id": "b8c64b5e",
   "metadata": {},
   "outputs": [
    {
     "data": {
      "image/png": "[encoded data removed]",
      "text/plain": [
       "<Figure size 576x576 with 1 Axes>"
      ]
     },
     "metadata": {
      "needs_background": "light"
     },
     "output_type": "display_data"
    }
   ],
   "source": [
    "plt.figure(figsize=(8, 8))\n",
    "rides.boxplot('distance')\n",
    "plt.title('Размах данных по расстоянию', fontsize=18)\n",
    "plt.ylabel('Расстояние')\n",
    "plt.grid(True)\n",
    "plt.show()"
   ]
  },
  {
   "cell_type": "markdown",
   "id": "22b69fa9",
   "metadata": {},
   "source": [
    "По диаграмме размаха можно определить, что расстояние поездок менее 700 метров и более 5700 метров являются аномальными для имеющихся данных (несмотря на то, что на значениях 500-700 метров имеется небольшое увеличение частот). И таких аномальных значений много. Это даёт возможность утверждать, что разброс данных большой. Воспользуемся методом  `describe()`, чтобы получить числовое описание данных."
   ]
  },
  {
   "cell_type": "code",
   "execution_count": 26,
   "id": "2a897500",
   "metadata": {},
   "outputs": [
    {
     "data": {
      "text/plain": [
       "count    18068.00\n",
       "mean      3070.66\n",
       "std       1116.83\n",
       "min          0.86\n",
       "25%       2543.23\n",
       "50%       3133.61\n",
       "75%       3776.22\n",
       "max       7211.01\n",
       "Name: distance, dtype: float64"
      ]
     },
     "metadata": {},
     "output_type": "display_data"
    }
   ],
   "source": [
    "display(rides['distance'].describe().round(2))"
   ]
  },
  {
   "cell_type": "markdown",
   "id": "f5cf1f28",
   "metadata": {},
   "source": [
    "Среднее расстояние, проезжаемое пользователями, составляет 3070.66 метров, медианное расстояние - 3133.61 метра. Половина клиентов проезжает от 2543 до 3776 метров за одну поездку. Стандартное отклонение велико, что указывает на неоднородность совокупности. Разброс данных, действительно, большой.  \n",
    "Удалять аномальные данные нельзя, так как их много, и эти данные имеют ценность."
   ]
  },
  {
   "cell_type": "markdown",
   "id": "9d5d6a8d",
   "metadata": {},
   "source": [
    "**Продолжительность поездок**"
   ]
  },
  {
   "cell_type": "markdown",
   "id": "4b7d02cb",
   "metadata": {},
   "source": [
    "Выведем на экран минимальную и максимальную продолжительность поездок (в минутах)"
   ]
  },
  {
   "cell_type": "code",
   "execution_count": 27,
   "id": "f38671fa",
   "metadata": {},
   "outputs": [
    {
     "name": "stdout",
     "output_type": "stream",
     "text": [
      "0.5 ;  40.82396261922424\n"
     ]
    }
   ],
   "source": [
    "print(rides['duration'].min(), '; ', rides['duration'].max())"
   ]
  },
  {
   "cell_type": "markdown",
   "id": "33e5f384",
   "metadata": {},
   "source": [
    "Построим гистограмму распределения поездок по продолжительности"
   ]
  },
  {
   "cell_type": "code",
   "execution_count": 28,
   "id": "a451b7a8",
   "metadata": {},
   "outputs": [
    {
     "data": {
      "image/png": "[encoded data removed]",
      "text/plain": [
       "<Figure size 864x576 with 1 Axes>"
      ]
     },
     "metadata": {
      "needs_background": "light"
     },
     "output_type": "display_data"
    }
   ],
   "source": [
    "rides['duration'].hist(bins=30, figsize=(12, 8), edgecolor='b')\n",
    "plt.title('Распределение поездок по продолжительности', fontsize=18)\n",
    "plt.xlabel('Продолжительность')\n",
    "plt.ylabel('Количество')\n",
    "plt.show()"
   ]
  },
  {
   "cell_type": "markdown",
   "id": "9eff64a2",
   "metadata": {},
   "source": [
    "Распределение в целом близко к нормальному. Самая короткая по времени поездка 0,5 минуты, самая продолжительная - 40,8 минут. Чаще всего поездки имели продолжительность от 10 до 25 минут."
   ]
  },
  {
   "cell_type": "markdown",
   "id": "2bba4019",
   "metadata": {},
   "source": [
    "Построим диаграмму размаха для распределения пользователей по продолжительности поездок"
   ]
  },
  {
   "cell_type": "code",
   "execution_count": 29,
   "id": "54076327",
   "metadata": {},
   "outputs": [
    {
     "data": {
      "image/png": "[encoded data removed]",
      "text/plain": [
       "<Figure size 576x576 with 1 Axes>"
      ]
     },
     "metadata": {
      "needs_background": "light"
     },
     "output_type": "display_data"
    }
   ],
   "source": [
    "plt.figure(figsize=(8, 8))\n",
    "rides.boxplot('duration')\n",
    "plt.title('Размах данных по продолжительности', fontsize=18)\n",
    "plt.ylabel('Продолжительность')\n",
    "plt.grid(True)\n",
    "plt.show()"
   ]
  },
  {
   "cell_type": "markdown",
   "id": "e6fdd983",
   "metadata": {},
   "source": [
    "По диаграмме размаха можно определить, что медианная продолжительность поездок составляет 18 минут. Половина клиентов сервиса пользуется самокатом от 13 до 22 минут. Короткими можно считать поездки от 2 до 13 минут, длинными - от 22 до 34 минут. Поездки менее 2 минут - аномально короткие, и это редкость. Скорее всего, в этих случаях имеет место ошибка неопытного пользователя. Поездки дольше 34 минут являются аномально длительными, но как раз таких поездок довольно много, и здесь речь не может идти об ошибках. Действительно, некоторые клиенты, по всей видимости, передвигаются на самокате продолжительное время. Здесь аномальные данные также удалять нельзя."
   ]
  },
  {
   "cell_type": "markdown",
   "id": "9fdad8bd",
   "metadata": {},
   "source": [
    "**Вывод.** Наибольшее число поездок по имеющимся данным совершили пользователи в Пятигорске, Екатеринбурге, Ростове-на-Дону, а также в Краснодаре и Сочи. В сибирских городах Омске и Тюмени, а также в Москве поездок меньше, что можно объяснить климатом, который очень часто не даёт возможности пользоваться самокатом. Но разброс по числу клиентов по разным городам невелик, и различие можно считать несущественным для нашего исследования.  \n",
    "Сервис используют с подпиской или без подписки. Пользователей без подписки примерно на 20 процентов больше, чем с подпиской.  \n",
    "Самые активные пользователи сервиса - люди от 22 до 28 лет. Разброс клиентов по возрасту небольшой, аномальных значений мало, совокупность клиентов по возрасту достаточно однородна.  \n",
    "За одну сессию чаще всего пользователи проезжают от 2.5 до 3.8 километров. В половине случаев поездка длится от 13 до 22 минут. Совокупность клиентов по расстоянию и продолжительности поездок неоднородна, разброс большой, аномальных по расстоянию и по длительности поездок много.\n",
    "Однако данные о пользователях и поездках, даже аномальные, удалять из таблиц нельзя. Они важны по нескольким причинам: \n",
    "1) их много, поэтому их удаление повлияет на объем данных; \n",
    "<br>\n",
    "2) эти данные не являются ошибками или выбросами, просто размах данных велик; \n",
    "<br>\n",
    "3) речь идёт о таких же оплаченных поездках, как и все остальные, а мы далее будем изучать выручку компании. \n",
    "\n",
    "Итак, все имеющиеся данные остаются в наших таблицах для дальнейшего исследования."
   ]
  },
  {
   "cell_type": "markdown",
   "id": "d1557537",
   "metadata": {},
   "source": [
    "# Шаг 4. Объединение данных"
   ]
  },
  {
   "cell_type": "markdown",
   "id": "e6bc44b7",
   "metadata": {},
   "source": [
    "**Объединение данных из трех датафреймов в один датафрейм**"
   ]
  },
  {
   "cell_type": "markdown",
   "id": "2cb138bb",
   "metadata": {},
   "source": [
    "Объединим методом `merge` датафреймы `users` и `rides`. Затем объединим методом `merge` датафреймы `data` и `subscriptions`. Объединённый датафрейм сохраним как `data`.\n",
    "Выведем на экран первые 20 строк получившегося датафрейма"
   ]
  },
  {
   "cell_type": "code",
   "execution_count": 30,
   "id": "5f0b69ed",
   "metadata": {},
   "outputs": [
    {
     "data": {
      "text/html": [
       "<div>\n",
       "<style scoped>\n",
       "    .dataframe tbody tr th:only-of-type {\n",
       "        vertical-align: middle;\n",
       "    }\n",
       "\n",
       "    .dataframe tbody tr th {\n",
       "        vertical-align: top;\n",
       "    }\n",
       "\n",
       "    .dataframe thead th {\n",
       "        text-align: right;\n",
       "    }\n",
       "</style>\n",
       "<table border=\"1\" class=\"dataframe\">\n",
       "  <thead>\n",
       "    <tr style=\"text-align: right;\">\n",
       "      <th></th>\n",
       "      <th>user_id</th>\n",
       "      <th>name</th>\n",
       "      <th>age</th>\n",
       "      <th>city</th>\n",
       "      <th>subscription_type</th>\n",
       "      <th>distance</th>\n",
       "      <th>duration</th>\n",
       "      <th>date</th>\n",
       "      <th>month</th>\n",
       "      <th>minute_price</th>\n",
       "      <th>start_ride_price</th>\n",
       "      <th>subscription_fee</th>\n",
       "    </tr>\n",
       "  </thead>\n",
       "  <tbody>\n",
       "    <tr>\n",
       "      <th>0</th>\n",
       "      <td>1</td>\n",
       "      <td>Кира</td>\n",
       "      <td>22</td>\n",
       "      <td>Тюмень</td>\n",
       "      <td>ultra</td>\n",
       "      <td>4409.919140</td>\n",
       "      <td>25.599769</td>\n",
       "      <td>2021-01-01</td>\n",
       "      <td>1</td>\n",
       "      <td>6</td>\n",
       "      <td>0</td>\n",
       "      <td>199</td>\n",
       "    </tr>\n",
       "    <tr>\n",
       "      <th>1</th>\n",
       "      <td>1</td>\n",
       "      <td>Кира</td>\n",
       "      <td>22</td>\n",
       "      <td>Тюмень</td>\n",
       "      <td>ultra</td>\n",
       "      <td>2617.592153</td>\n",
       "      <td>15.816871</td>\n",
       "      <td>2021-01-18</td>\n",
       "      <td>1</td>\n",
       "      <td>6</td>\n",
       "      <td>0</td>\n",
       "      <td>199</td>\n",
       "    </tr>\n",
       "    <tr>\n",
       "      <th>2</th>\n",
       "      <td>1</td>\n",
       "      <td>Кира</td>\n",
       "      <td>22</td>\n",
       "      <td>Тюмень</td>\n",
       "      <td>ultra</td>\n",
       "      <td>754.159807</td>\n",
       "      <td>6.232113</td>\n",
       "      <td>2021-04-20</td>\n",
       "      <td>4</td>\n",
       "      <td>6</td>\n",
       "      <td>0</td>\n",
       "      <td>199</td>\n",
       "    </tr>\n",
       "    <tr>\n",
       "      <th>3</th>\n",
       "      <td>1</td>\n",
       "      <td>Кира</td>\n",
       "      <td>22</td>\n",
       "      <td>Тюмень</td>\n",
       "      <td>ultra</td>\n",
       "      <td>2694.783254</td>\n",
       "      <td>18.511000</td>\n",
       "      <td>2021-08-11</td>\n",
       "      <td>8</td>\n",
       "      <td>6</td>\n",
       "      <td>0</td>\n",
       "      <td>199</td>\n",
       "    </tr>\n",
       "    <tr>\n",
       "      <th>4</th>\n",
       "      <td>1</td>\n",
       "      <td>Кира</td>\n",
       "      <td>22</td>\n",
       "      <td>Тюмень</td>\n",
       "      <td>ultra</td>\n",
       "      <td>4028.687306</td>\n",
       "      <td>26.265803</td>\n",
       "      <td>2021-08-28</td>\n",
       "      <td>8</td>\n",
       "      <td>6</td>\n",
       "      <td>0</td>\n",
       "      <td>199</td>\n",
       "    </tr>\n",
       "    <tr>\n",
       "      <th>5</th>\n",
       "      <td>1</td>\n",
       "      <td>Кира</td>\n",
       "      <td>22</td>\n",
       "      <td>Тюмень</td>\n",
       "      <td>ultra</td>\n",
       "      <td>2770.890808</td>\n",
       "      <td>16.650138</td>\n",
       "      <td>2021-10-09</td>\n",
       "      <td>10</td>\n",
       "      <td>6</td>\n",
       "      <td>0</td>\n",
       "      <td>199</td>\n",
       "    </tr>\n",
       "    <tr>\n",
       "      <th>6</th>\n",
       "      <td>1</td>\n",
       "      <td>Кира</td>\n",
       "      <td>22</td>\n",
       "      <td>Тюмень</td>\n",
       "      <td>ultra</td>\n",
       "      <td>3039.020292</td>\n",
       "      <td>14.927879</td>\n",
       "      <td>2021-10-19</td>\n",
       "      <td>10</td>\n",
       "      <td>6</td>\n",
       "      <td>0</td>\n",
       "      <td>199</td>\n",
       "    </tr>\n",
       "    <tr>\n",
       "      <th>7</th>\n",
       "      <td>1</td>\n",
       "      <td>Кира</td>\n",
       "      <td>22</td>\n",
       "      <td>Тюмень</td>\n",
       "      <td>ultra</td>\n",
       "      <td>2842.118050</td>\n",
       "      <td>23.117468</td>\n",
       "      <td>2021-11-06</td>\n",
       "      <td>11</td>\n",
       "      <td>6</td>\n",
       "      <td>0</td>\n",
       "      <td>199</td>\n",
       "    </tr>\n",
       "    <tr>\n",
       "      <th>8</th>\n",
       "      <td>1</td>\n",
       "      <td>Кира</td>\n",
       "      <td>22</td>\n",
       "      <td>Тюмень</td>\n",
       "      <td>ultra</td>\n",
       "      <td>3412.690668</td>\n",
       "      <td>15.238072</td>\n",
       "      <td>2021-11-14</td>\n",
       "      <td>11</td>\n",
       "      <td>6</td>\n",
       "      <td>0</td>\n",
       "      <td>199</td>\n",
       "    </tr>\n",
       "    <tr>\n",
       "      <th>9</th>\n",
       "      <td>1</td>\n",
       "      <td>Кира</td>\n",
       "      <td>22</td>\n",
       "      <td>Тюмень</td>\n",
       "      <td>ultra</td>\n",
       "      <td>748.690645</td>\n",
       "      <td>15.041884</td>\n",
       "      <td>2021-11-22</td>\n",
       "      <td>11</td>\n",
       "      <td>6</td>\n",
       "      <td>0</td>\n",
       "      <td>199</td>\n",
       "    </tr>\n",
       "    <tr>\n",
       "      <th>10</th>\n",
       "      <td>1</td>\n",
       "      <td>Кира</td>\n",
       "      <td>22</td>\n",
       "      <td>Тюмень</td>\n",
       "      <td>ultra</td>\n",
       "      <td>4031.020195</td>\n",
       "      <td>17.674448</td>\n",
       "      <td>2021-12-14</td>\n",
       "      <td>12</td>\n",
       "      <td>6</td>\n",
       "      <td>0</td>\n",
       "      <td>199</td>\n",
       "    </tr>\n",
       "    <tr>\n",
       "      <th>11</th>\n",
       "      <td>1</td>\n",
       "      <td>Кира</td>\n",
       "      <td>22</td>\n",
       "      <td>Тюмень</td>\n",
       "      <td>ultra</td>\n",
       "      <td>2720.609748</td>\n",
       "      <td>9.529463</td>\n",
       "      <td>2021-12-22</td>\n",
       "      <td>12</td>\n",
       "      <td>6</td>\n",
       "      <td>0</td>\n",
       "      <td>199</td>\n",
       "    </tr>\n",
       "    <tr>\n",
       "      <th>12</th>\n",
       "      <td>2</td>\n",
       "      <td>Станислав</td>\n",
       "      <td>31</td>\n",
       "      <td>Омск</td>\n",
       "      <td>ultra</td>\n",
       "      <td>3105.086678</td>\n",
       "      <td>24.307514</td>\n",
       "      <td>2021-03-15</td>\n",
       "      <td>3</td>\n",
       "      <td>6</td>\n",
       "      <td>0</td>\n",
       "      <td>199</td>\n",
       "    </tr>\n",
       "    <tr>\n",
       "      <th>13</th>\n",
       "      <td>2</td>\n",
       "      <td>Станислав</td>\n",
       "      <td>31</td>\n",
       "      <td>Омск</td>\n",
       "      <td>ultra</td>\n",
       "      <td>3053.519401</td>\n",
       "      <td>11.543256</td>\n",
       "      <td>2021-03-18</td>\n",
       "      <td>3</td>\n",
       "      <td>6</td>\n",
       "      <td>0</td>\n",
       "      <td>199</td>\n",
       "    </tr>\n",
       "    <tr>\n",
       "      <th>14</th>\n",
       "      <td>2</td>\n",
       "      <td>Станислав</td>\n",
       "      <td>31</td>\n",
       "      <td>Омск</td>\n",
       "      <td>ultra</td>\n",
       "      <td>4029.116927</td>\n",
       "      <td>25.109188</td>\n",
       "      <td>2021-03-23</td>\n",
       "      <td>3</td>\n",
       "      <td>6</td>\n",
       "      <td>0</td>\n",
       "      <td>199</td>\n",
       "    </tr>\n",
       "    <tr>\n",
       "      <th>15</th>\n",
       "      <td>2</td>\n",
       "      <td>Станислав</td>\n",
       "      <td>31</td>\n",
       "      <td>Омск</td>\n",
       "      <td>ultra</td>\n",
       "      <td>2805.786329</td>\n",
       "      <td>20.652145</td>\n",
       "      <td>2021-04-08</td>\n",
       "      <td>4</td>\n",
       "      <td>6</td>\n",
       "      <td>0</td>\n",
       "      <td>199</td>\n",
       "    </tr>\n",
       "    <tr>\n",
       "      <th>16</th>\n",
       "      <td>2</td>\n",
       "      <td>Станислав</td>\n",
       "      <td>31</td>\n",
       "      <td>Омск</td>\n",
       "      <td>ultra</td>\n",
       "      <td>3358.595495</td>\n",
       "      <td>18.396489</td>\n",
       "      <td>2021-04-13</td>\n",
       "      <td>4</td>\n",
       "      <td>6</td>\n",
       "      <td>0</td>\n",
       "      <td>199</td>\n",
       "    </tr>\n",
       "    <tr>\n",
       "      <th>17</th>\n",
       "      <td>2</td>\n",
       "      <td>Станислав</td>\n",
       "      <td>31</td>\n",
       "      <td>Омск</td>\n",
       "      <td>ultra</td>\n",
       "      <td>3255.338202</td>\n",
       "      <td>13.851127</td>\n",
       "      <td>2021-06-20</td>\n",
       "      <td>6</td>\n",
       "      <td>6</td>\n",
       "      <td>0</td>\n",
       "      <td>199</td>\n",
       "    </tr>\n",
       "    <tr>\n",
       "      <th>18</th>\n",
       "      <td>2</td>\n",
       "      <td>Станислав</td>\n",
       "      <td>31</td>\n",
       "      <td>Омск</td>\n",
       "      <td>ultra</td>\n",
       "      <td>3942.817648</td>\n",
       "      <td>20.142725</td>\n",
       "      <td>2021-07-02</td>\n",
       "      <td>7</td>\n",
       "      <td>6</td>\n",
       "      <td>0</td>\n",
       "      <td>199</td>\n",
       "    </tr>\n",
       "    <tr>\n",
       "      <th>19</th>\n",
       "      <td>2</td>\n",
       "      <td>Станислав</td>\n",
       "      <td>31</td>\n",
       "      <td>Омск</td>\n",
       "      <td>ultra</td>\n",
       "      <td>2837.905316</td>\n",
       "      <td>26.027432</td>\n",
       "      <td>2021-07-18</td>\n",
       "      <td>7</td>\n",
       "      <td>6</td>\n",
       "      <td>0</td>\n",
       "      <td>199</td>\n",
       "    </tr>\n",
       "  </tbody>\n",
       "</table>\n",
       "</div>"
      ],
      "text/plain": [
       "    user_id       name  age    city subscription_type     distance   duration  \\\n",
       "0         1       Кира   22  Тюмень             ultra  4409.919140  25.599769   \n",
       "1         1       Кира   22  Тюмень             ultra  2617.592153  15.816871   \n",
       "2         1       Кира   22  Тюмень             ultra   754.159807   6.232113   \n",
       "3         1       Кира   22  Тюмень             ultra  2694.783254  18.511000   \n",
       "4         1       Кира   22  Тюмень             ultra  4028.687306  26.265803   \n",
       "5         1       Кира   22  Тюмень             ultra  2770.890808  16.650138   \n",
       "6         1       Кира   22  Тюмень             ultra  3039.020292  14.927879   \n",
       "7         1       Кира   22  Тюмень             ultra  2842.118050  23.117468   \n",
       "8         1       Кира   22  Тюмень             ultra  3412.690668  15.238072   \n",
       "9         1       Кира   22  Тюмень             ultra   748.690645  15.041884   \n",
       "10        1       Кира   22  Тюмень             ultra  4031.020195  17.674448   \n",
       "11        1       Кира   22  Тюмень             ultra  2720.609748   9.529463   \n",
       "12        2  Станислав   31    Омск             ultra  3105.086678  24.307514   \n",
       "13        2  Станислав   31    Омск             ultra  3053.519401  11.543256   \n",
       "14        2  Станислав   31    Омск             ultra  4029.116927  25.109188   \n",
       "15        2  Станислав   31    Омск             ultra  2805.786329  20.652145   \n",
       "16        2  Станислав   31    Омск             ultra  3358.595495  18.396489   \n",
       "17        2  Станислав   31    Омск             ultra  3255.338202  13.851127   \n",
       "18        2  Станислав   31    Омск             ultra  3942.817648  20.142725   \n",
       "19        2  Станислав   31    Омск             ultra  2837.905316  26.027432   \n",
       "\n",
       "         date  month  minute_price  start_ride_price  subscription_fee  \n",
       "0  2021-01-01      1             6                 0               199  \n",
       "1  2021-01-18      1             6                 0               199  \n",
       "2  2021-04-20      4             6                 0               199  \n",
       "3  2021-08-11      8             6                 0               199  \n",
       "4  2021-08-28      8             6                 0               199  \n",
       "5  2021-10-09     10             6                 0               199  \n",
       "6  2021-10-19     10             6                 0               199  \n",
       "7  2021-11-06     11             6                 0               199  \n",
       "8  2021-11-14     11             6                 0               199  \n",
       "9  2021-11-22     11             6                 0               199  \n",
       "10 2021-12-14     12             6                 0               199  \n",
       "11 2021-12-22     12             6                 0               199  \n",
       "12 2021-03-15      3             6                 0               199  \n",
       "13 2021-03-18      3             6                 0               199  \n",
       "14 2021-03-23      3             6                 0               199  \n",
       "15 2021-04-08      4             6                 0               199  \n",
       "16 2021-04-13      4             6                 0               199  \n",
       "17 2021-06-20      6             6                 0               199  \n",
       "18 2021-07-02      7             6                 0               199  \n",
       "19 2021-07-18      7             6                 0               199  "
      ]
     },
     "execution_count": 30,
     "metadata": {},
     "output_type": "execute_result"
    }
   ],
   "source": [
    "data = users.merge(rides, on='user_id', how='outer')\n",
    "\n",
    "data = data.merge(subscriptions, on='subscription_type', how='outer')\n",
    "\n",
    "data.head(20)"
   ]
  },
  {
   "cell_type": "markdown",
   "id": "5acfd2c0",
   "metadata": {},
   "source": [
    "Выведем на экран информацию о датафрейме `data`"
   ]
  },
  {
   "cell_type": "code",
   "execution_count": 31,
   "id": "d786297d",
   "metadata": {},
   "outputs": [
    {
     "name": "stdout",
     "output_type": "stream",
     "text": [
      "<class 'pandas.core.frame.DataFrame'>\n",
      "Int64Index: 18068 entries, 0 to 18067\n",
      "Data columns (total 12 columns):\n",
      " #   Column             Non-Null Count  Dtype         \n",
      "---  ------             --------------  -----         \n",
      " 0   user_id            18068 non-null  int64         \n",
      " 1   name               18068 non-null  object        \n",
      " 2   age                18068 non-null  int64         \n",
      " 3   city               18068 non-null  object        \n",
      " 4   subscription_type  18068 non-null  object        \n",
      " 5   distance           18068 non-null  float64       \n",
      " 6   duration           18068 non-null  float64       \n",
      " 7   date               18068 non-null  datetime64[ns]\n",
      " 8   month              18068 non-null  int64         \n",
      " 9   minute_price       18068 non-null  int64         \n",
      " 10  start_ride_price   18068 non-null  int64         \n",
      " 11  subscription_fee   18068 non-null  int64         \n",
      "dtypes: datetime64[ns](1), float64(2), int64(6), object(3)\n",
      "memory usage: 1.8+ MB\n"
     ]
    }
   ],
   "source": [
    "data.info()"
   ]
  },
  {
   "cell_type": "markdown",
   "id": "e0977108",
   "metadata": {},
   "source": [
    "**Создание отдельных датафреймов с подпиской и без**"
   ]
  },
  {
   "cell_type": "markdown",
   "id": "2441ed69",
   "metadata": {},
   "source": [
    "Создадим датафрейм `data_free` с данными о пользователях без подписки и выведем на экран информацию о датафрейме `data_free`"
   ]
  },
  {
   "cell_type": "code",
   "execution_count": 32,
   "id": "4368325a",
   "metadata": {},
   "outputs": [
    {
     "name": "stdout",
     "output_type": "stream",
     "text": [
      "<class 'pandas.core.frame.DataFrame'>\n",
      "Int64Index: 11568 entries, 6500 to 18067\n",
      "Data columns (total 12 columns):\n",
      " #   Column             Non-Null Count  Dtype         \n",
      "---  ------             --------------  -----         \n",
      " 0   user_id            11568 non-null  int64         \n",
      " 1   name               11568 non-null  object        \n",
      " 2   age                11568 non-null  int64         \n",
      " 3   city               11568 non-null  object        \n",
      " 4   subscription_type  11568 non-null  object        \n",
      " 5   distance           11568 non-null  float64       \n",
      " 6   duration           11568 non-null  float64       \n",
      " 7   date               11568 non-null  datetime64[ns]\n",
      " 8   month              11568 non-null  int64         \n",
      " 9   minute_price       11568 non-null  int64         \n",
      " 10  start_ride_price   11568 non-null  int64         \n",
      " 11  subscription_fee   11568 non-null  int64         \n",
      "dtypes: datetime64[ns](1), float64(2), int64(6), object(3)\n",
      "memory usage: 1.1+ MB\n"
     ]
    }
   ],
   "source": [
    "data_free = data.query('subscription_type == \"free\"')\n",
    "\n",
    "data_free.info()"
   ]
  },
  {
   "cell_type": "markdown",
   "id": "5ae825c0",
   "metadata": {},
   "source": [
    "Создадим датафрейм `data_ultra` с данными о пользователях с подпиской и выведем на экран информацию о датафрейме `data_ultra`"
   ]
  },
  {
   "cell_type": "code",
   "execution_count": 33,
   "id": "471fc4a5",
   "metadata": {},
   "outputs": [
    {
     "name": "stdout",
     "output_type": "stream",
     "text": [
      "<class 'pandas.core.frame.DataFrame'>\n",
      "Int64Index: 6500 entries, 0 to 6499\n",
      "Data columns (total 12 columns):\n",
      " #   Column             Non-Null Count  Dtype         \n",
      "---  ------             --------------  -----         \n",
      " 0   user_id            6500 non-null   int64         \n",
      " 1   name               6500 non-null   object        \n",
      " 2   age                6500 non-null   int64         \n",
      " 3   city               6500 non-null   object        \n",
      " 4   subscription_type  6500 non-null   object        \n",
      " 5   distance           6500 non-null   float64       \n",
      " 6   duration           6500 non-null   float64       \n",
      " 7   date               6500 non-null   datetime64[ns]\n",
      " 8   month              6500 non-null   int64         \n",
      " 9   minute_price       6500 non-null   int64         \n",
      " 10  start_ride_price   6500 non-null   int64         \n",
      " 11  subscription_fee   6500 non-null   int64         \n",
      "dtypes: datetime64[ns](1), float64(2), int64(6), object(3)\n",
      "memory usage: 660.2+ KB\n"
     ]
    }
   ],
   "source": [
    "data_ultra = data.query('subscription_type == \"ultra\"')\n",
    "\n",
    "data_ultra.info()"
   ]
  },
  {
   "cell_type": "markdown",
   "id": "58b7e601",
   "metadata": {},
   "source": [
    "Проверим, сложив число срок в датафреймах `data_free` и `data_ultra`"
   ]
  },
  {
   "cell_type": "code",
   "execution_count": 34,
   "id": "46161abc",
   "metadata": {},
   "outputs": [
    {
     "data": {
      "text/plain": [
       "True"
      ]
     },
     "execution_count": 34,
     "metadata": {},
     "output_type": "execute_result"
    }
   ],
   "source": [
    "len(data_free) + len(data_ultra) == len(data)"
   ]
  },
  {
   "cell_type": "markdown",
   "id": "244090b6",
   "metadata": {},
   "source": [
    "**Визуализация информации о поездках**"
   ]
  },
  {
   "cell_type": "markdown",
   "id": "58ea21d8",
   "metadata": {},
   "source": [
    "Построим две гистограммы распределения поездок по расстоянию за одну поездку по данным без подписки и с подпиской"
   ]
  },
  {
   "cell_type": "code",
   "execution_count": 35,
   "id": "a9034761",
   "metadata": {},
   "outputs": [
    {
     "data": {
      "image/png": "[encoded data removed]",
      "text/plain": [
       "<Figure size 1080x576 with 2 Axes>"
      ]
     },
     "metadata": {
      "needs_background": "light"
     },
     "output_type": "display_data"
    }
   ],
   "source": [
    "plt.subplot(121)\n",
    "data_free['distance'].hist(bins=30, figsize=(15, 8), edgecolor='b')\n",
    "plt.xlim(1, 7500)\n",
    "plt.ylim(1, 1000)\n",
    "plt.title('Расстояние поездок пользователей без подписки', fontsize=14)\n",
    "plt.xlabel('Расстояние')\n",
    "plt.ylabel('Частота')\n",
    "plt.subplot(122)\n",
    "data_ultra['distance'].hist(bins=30, figsize=(15, 8), edgecolor='b')\n",
    "plt.xlim(1, 7500)\n",
    "plt.ylim(1, 1000)\n",
    "plt.title('Расстояние поездок пользователей с подпиской', fontsize=14)\n",
    "plt.xlabel('Расстояние')\n",
    "plt.ylabel('Частота')\n",
    "plt.show()"
   ]
  },
  {
   "cell_type": "markdown",
   "id": "f3db824e",
   "metadata": {},
   "source": [
    "Совместим гистограммы на одном поле"
   ]
  },
  {
   "cell_type": "code",
   "execution_count": 36,
   "id": "4cd7c8ba",
   "metadata": {},
   "outputs": [
    {
     "data": {
      "image/png": "[encoded data removed]",
      "text/plain": [
       "<Figure size 864x576 with 1 Axes>"
      ]
     },
     "metadata": {
      "needs_background": "light"
     },
     "output_type": "display_data"
    }
   ],
   "source": [
    "ax = data_free['distance'].plot(\n",
    "    kind='hist',\n",
    "    histtype='step',\n",
    "    range=(0, 7500),\n",
    "    bins=30,\n",
    "    figsize=(12, 8),\n",
    "    linewidth=5,\n",
    "    alpha=0.7,\n",
    "    label='free',\n",
    "    legend=True,\n",
    ")\n",
    "\n",
    "data_ultra['distance'].plot(\n",
    "    kind='hist',\n",
    "    histtype='step',\n",
    "    range=(0, 7500),\n",
    "    bins=30,\n",
    "    linewidth=5,\n",
    "    alpha=0.7,\n",
    "    label='ultra',\n",
    "    ax=ax,\n",
    "    grid=True,\n",
    "    legend=True,\n",
    ")\n",
    "\n",
    "plt.title('Расстояние поездок', fontsize=18)\n",
    "plt.xlabel('Расстояние')\n",
    "plt.ylabel('Частота')\n",
    "plt.show()"
   ]
  },
  {
   "cell_type": "markdown",
   "id": "76423188",
   "metadata": {},
   "source": [
    "На совмещённой гистограмме видно, что гистограмма, построенная по данным о расстоянии поездок пользователей с подпиской, более узкая, главный пик у неё более выражен. Это означает, что разброс расстояний поездок клиентов с подпиской меньше, расстояния этих поездок более близки к среднему значению. У пользователей без подписки больше выражен малый пик, то есть, действительно, ошибочных и пробных поездок без подписки заметно больше. Аномальных поездок на расстояния, близкие к нулю, у пользователей с подпиской практически нет."
   ]
  },
  {
   "cell_type": "markdown",
   "id": "c73a0010",
   "metadata": {},
   "source": [
    "Построим две гистограммы распределения поездок по времени поездок по данным без подписки и с подпиской"
   ]
  },
  {
   "cell_type": "code",
   "execution_count": 37,
   "id": "4f8fa8ef",
   "metadata": {},
   "outputs": [
    {
     "data": {
      "image/png": "[encoded data removed]",
      "text/plain": [
       "<Figure size 1080x576 with 2 Axes>"
      ]
     },
     "metadata": {
      "needs_background": "light"
     },
     "output_type": "display_data"
    }
   ],
   "source": [
    "plt.subplot(121)\n",
    "data_free['duration'].hist(bins=30, figsize=(15, 8), edgecolor='b')\n",
    "plt.xlim(1, 45)\n",
    "plt.ylim(1, 850)\n",
    "plt.title('Продолжительность поездок без подписки', fontsize=14)\n",
    "plt.xlabel('Продолжительность')\n",
    "plt.ylabel('Частота')\n",
    "plt.subplot(122)\n",
    "data_ultra['duration'].hist(bins=30, figsize=(15, 8), edgecolor='b')\n",
    "plt.xlim(1, 45)\n",
    "plt.ylim(1, 850)\n",
    "plt.title('Продолжительность поездок с подпиской', fontsize=14)\n",
    "plt.xlabel('Продолжительность')\n",
    "plt.ylabel('Частота')\n",
    "plt.show()"
   ]
  },
  {
   "cell_type": "markdown",
   "id": "4e7bb25c",
   "metadata": {},
   "source": [
    "Совместим гистограммы на одном поле"
   ]
  },
  {
   "cell_type": "code",
   "execution_count": 38,
   "id": "e8e4ea2a",
   "metadata": {},
   "outputs": [
    {
     "data": {
      "image/png": "[encoded data removed]",
      "text/plain": [
       "<Figure size 864x576 with 1 Axes>"
      ]
     },
     "metadata": {
      "needs_background": "light"
     },
     "output_type": "display_data"
    }
   ],
   "source": [
    "ax = data_free['duration'].plot(\n",
    "    kind='hist',\n",
    "    histtype='step',\n",
    "    range=(0, 45),\n",
    "    bins=30,\n",
    "    figsize=(12, 8),\n",
    "    linewidth=5,\n",
    "    alpha=0.7,\n",
    "    label='free',\n",
    "    legend=True,\n",
    ")\n",
    "\n",
    "data_ultra['duration'].plot(\n",
    "    kind='hist',\n",
    "    histtype='step',\n",
    "    range=(0, 45),\n",
    "    bins=30,\n",
    "    linewidth=5,\n",
    "    alpha=0.7,\n",
    "    label='ultra',\n",
    "    ax=ax,\n",
    "    grid=True,\n",
    "    legend=True,\n",
    ")\n",
    "\n",
    "plt.title('Продолжительность поездок', fontsize=18)\n",
    "plt.xlabel('Продолжительность')\n",
    "plt.ylabel('Частота')\n",
    "plt.show()"
   ]
  },
  {
   "cell_type": "markdown",
   "id": "1f52d7bb",
   "metadata": {},
   "source": [
    "Совместная гистограмма показывает, что распределение поездок пользователей без подписки и с подпиской очень похоже. Разница состоит в том, что практически отсутствуют аномально короткие по времени поездки. Такие аномалии наблюдаются только у пользователей без подписки. Это указывает на то, что пользователи без подписки бывают неопытными, не всегда знают, как пользоваться приложением или самокатом, пробуют, ошибаются, учатся. А пользователи с подпиской знают что и как, взяли самокат и поехали куда планировали."
   ]
  },
  {
   "cell_type": "markdown",
   "id": "82da1c1a",
   "metadata": {},
   "source": [
    "Выведем на экран среднее расстояние и время поездок пользователей без подписки и с подпиской"
   ]
  },
  {
   "cell_type": "code",
   "execution_count": 39,
   "id": "36b83f31",
   "metadata": {},
   "outputs": [
    {
     "name": "stdout",
     "output_type": "stream",
     "text": [
      "Среднее расстояние поездок пользователей без подписки 3045.5 , с подпиской 3115.45\n",
      "Среднее время поездок пользователей без подписки 17.39 , с подпиской 18.54\n"
     ]
    }
   ],
   "source": [
    "print('Среднее расстояние поездок пользователей без подписки', data_free['distance'].mean().round(2),\\\n",
    "      ', с подпиской', data_ultra['distance'].mean().round(2))\n",
    "print('Среднее время поездок пользователей без подписки', data_free['duration'].mean().round(2),\\\n",
    "      ', с подпиской', data_ultra['duration'].mean().round(2))"
   ]
  },
  {
   "cell_type": "markdown",
   "id": "3bf54c41",
   "metadata": {},
   "source": [
    "**Сравнение статистик у двух групп пользователей**"
   ]
  },
  {
   "cell_type": "markdown",
   "id": "455e5dc3",
   "metadata": {},
   "source": [
    "Воспользуемся методом `describe()`, чтобы получить числовое описание поездок по двум группам пользователей (без подписки и с подпиской) по столбцу `distance`"
   ]
  },
  {
   "cell_type": "code",
   "execution_count": 40,
   "id": "f98a451a",
   "metadata": {},
   "outputs": [
    {
     "data": {
      "text/plain": [
       "count    11568.00\n",
       "mean      3045.50\n",
       "std       1246.17\n",
       "min          0.86\n",
       "25%       2366.56\n",
       "50%       3114.65\n",
       "75%       3905.70\n",
       "max       7211.01\n",
       "Name: distance, dtype: float64"
      ]
     },
     "metadata": {},
     "output_type": "display_data"
    },
    {
     "data": {
      "text/plain": [
       "count    6500.00\n",
       "mean     3115.45\n",
       "std       836.90\n",
       "min       244.21\n",
       "25%      2785.44\n",
       "50%      3148.64\n",
       "75%      3560.57\n",
       "max      5699.77\n",
       "Name: distance, dtype: float64"
      ]
     },
     "metadata": {},
     "output_type": "display_data"
    }
   ],
   "source": [
    "display(data_free['distance'].describe().round(2))\n",
    "display(data_ultra['distance'].describe().round(2))"
   ]
  },
  {
   "cell_type": "markdown",
   "id": "af38f86f",
   "metadata": {},
   "source": [
    "Число поездок пользователей без подписки значительно больше числа поездок пользователей с подпиской, посчитаем соотношение"
   ]
  },
  {
   "cell_type": "code",
   "execution_count": 41,
   "id": "354a01c6",
   "metadata": {},
   "outputs": [
    {
     "data": {
      "text/plain": [
       "1.7796923076923077"
      ]
     },
     "metadata": {},
     "output_type": "display_data"
    }
   ],
   "source": [
    "display(data_free['distance'].count() / data_ultra['distance'].count())"
   ]
  },
  {
   "cell_type": "markdown",
   "id": "38d8bc5d",
   "metadata": {},
   "source": [
    "Пользователи без подписки совершили на 78 % поездок больше, чем пользователи с подпиской. Но средняя дистанция поездки у клиентов с подпиской больше. Кроме того, разброс значений у клиентов без подписки значительно больше. Минимальная поездка составляет меньше метра, стандартное отклонение значительно больше, межквартильный размах гораздо шире, чем у клиентов с подпиской. Подтверждаются выводы, сделанные по графическим изображениям."
   ]
  },
  {
   "cell_type": "markdown",
   "id": "90e440c4",
   "metadata": {},
   "source": [
    "Методом `describe()`, получим числовое описание поездок по двум группам пользователей (без подписки и с подпиской) по столбцу `duration`"
   ]
  },
  {
   "cell_type": "code",
   "execution_count": 42,
   "id": "bd5f8a32",
   "metadata": {},
   "outputs": [
    {
     "data": {
      "text/plain": [
       "count    11568.00\n",
       "mean        17.39\n",
       "std          6.33\n",
       "min          0.50\n",
       "25%         12.96\n",
       "50%         17.33\n",
       "75%         21.59\n",
       "max         34.95\n",
       "Name: duration, dtype: float64"
      ]
     },
     "metadata": {},
     "output_type": "display_data"
    },
    {
     "data": {
      "text/plain": [
       "count    6500.00\n",
       "mean       18.54\n",
       "std         5.57\n",
       "min         3.76\n",
       "25%        14.52\n",
       "50%        18.18\n",
       "75%        21.88\n",
       "max        40.82\n",
       "Name: duration, dtype: float64"
      ]
     },
     "metadata": {},
     "output_type": "display_data"
    }
   ],
   "source": [
    "display(data_free['duration'].describe().round(2))\n",
    "display(data_ultra['duration'].describe().round(2))"
   ]
  },
  {
   "cell_type": "markdown",
   "id": "72e7980d",
   "metadata": {},
   "source": [
    "По продолжительности поездок разница между группами пользователей не такая ярко выраженная. Средняя продолжительность различается всего на одну минуту, медианная - даже меньше, чем на одну минуту. Остальные показатели тоже различаются ненамного. Но разброс продолжительности поездок у клиентов без подписки, как показывает стандартное отклонение, всё-таки выше. У них минимальная поездка длилась всего полминуты, что указывает также на наличие ошибок при использовании приложения или использовании самокатов."
   ]
  },
  {
   "cell_type": "markdown",
   "id": "b34d6893",
   "metadata": {},
   "source": [
    "**Распределение поездок по городам и сезонам**"
   ]
  },
  {
   "cell_type": "markdown",
   "id": "9a105c27",
   "metadata": {},
   "source": [
    "Напишем функцию для определения сезонов"
   ]
  },
  {
   "cell_type": "code",
   "execution_count": 43,
   "id": "9a21c590",
   "metadata": {},
   "outputs": [],
   "source": [
    "def seasons(month):\n",
    "    try:\n",
    "        if 3 <= month <= 5:\n",
    "            return 'spring'\n",
    "        elif 6 <= month <= 8:\n",
    "            return 'summer'\n",
    "        elif 9 <= month <= 11:\n",
    "            return 'autumn'\n",
    "        elif month < 3 or month == 12:\n",
    "            return 'winter'        \n",
    "    except:\n",
    "        pass"
   ]
  },
  {
   "cell_type": "markdown",
   "id": "61f1b2ef",
   "metadata": {},
   "source": [
    "Добавим в объединенный датафрейм `data` столбец `season`"
   ]
  },
  {
   "cell_type": "code",
   "execution_count": 44,
   "id": "1b5a3793",
   "metadata": {},
   "outputs": [
    {
     "data": {
      "text/html": [
       "<div>\n",
       "<style scoped>\n",
       "    .dataframe tbody tr th:only-of-type {\n",
       "        vertical-align: middle;\n",
       "    }\n",
       "\n",
       "    .dataframe tbody tr th {\n",
       "        vertical-align: top;\n",
       "    }\n",
       "\n",
       "    .dataframe thead th {\n",
       "        text-align: right;\n",
       "    }\n",
       "</style>\n",
       "<table border=\"1\" class=\"dataframe\">\n",
       "  <thead>\n",
       "    <tr style=\"text-align: right;\">\n",
       "      <th></th>\n",
       "      <th>user_id</th>\n",
       "      <th>name</th>\n",
       "      <th>age</th>\n",
       "      <th>city</th>\n",
       "      <th>subscription_type</th>\n",
       "      <th>distance</th>\n",
       "      <th>duration</th>\n",
       "      <th>date</th>\n",
       "      <th>month</th>\n",
       "      <th>minute_price</th>\n",
       "      <th>start_ride_price</th>\n",
       "      <th>subscription_fee</th>\n",
       "      <th>season</th>\n",
       "    </tr>\n",
       "  </thead>\n",
       "  <tbody>\n",
       "    <tr>\n",
       "      <th>0</th>\n",
       "      <td>1</td>\n",
       "      <td>Кира</td>\n",
       "      <td>22</td>\n",
       "      <td>Тюмень</td>\n",
       "      <td>ultra</td>\n",
       "      <td>4409.919140</td>\n",
       "      <td>25.599769</td>\n",
       "      <td>2021-01-01</td>\n",
       "      <td>1</td>\n",
       "      <td>6</td>\n",
       "      <td>0</td>\n",
       "      <td>199</td>\n",
       "      <td>winter</td>\n",
       "    </tr>\n",
       "    <tr>\n",
       "      <th>1</th>\n",
       "      <td>1</td>\n",
       "      <td>Кира</td>\n",
       "      <td>22</td>\n",
       "      <td>Тюмень</td>\n",
       "      <td>ultra</td>\n",
       "      <td>2617.592153</td>\n",
       "      <td>15.816871</td>\n",
       "      <td>2021-01-18</td>\n",
       "      <td>1</td>\n",
       "      <td>6</td>\n",
       "      <td>0</td>\n",
       "      <td>199</td>\n",
       "      <td>winter</td>\n",
       "    </tr>\n",
       "    <tr>\n",
       "      <th>2</th>\n",
       "      <td>1</td>\n",
       "      <td>Кира</td>\n",
       "      <td>22</td>\n",
       "      <td>Тюмень</td>\n",
       "      <td>ultra</td>\n",
       "      <td>754.159807</td>\n",
       "      <td>6.232113</td>\n",
       "      <td>2021-04-20</td>\n",
       "      <td>4</td>\n",
       "      <td>6</td>\n",
       "      <td>0</td>\n",
       "      <td>199</td>\n",
       "      <td>spring</td>\n",
       "    </tr>\n",
       "    <tr>\n",
       "      <th>3</th>\n",
       "      <td>1</td>\n",
       "      <td>Кира</td>\n",
       "      <td>22</td>\n",
       "      <td>Тюмень</td>\n",
       "      <td>ultra</td>\n",
       "      <td>2694.783254</td>\n",
       "      <td>18.511000</td>\n",
       "      <td>2021-08-11</td>\n",
       "      <td>8</td>\n",
       "      <td>6</td>\n",
       "      <td>0</td>\n",
       "      <td>199</td>\n",
       "      <td>summer</td>\n",
       "    </tr>\n",
       "    <tr>\n",
       "      <th>4</th>\n",
       "      <td>1</td>\n",
       "      <td>Кира</td>\n",
       "      <td>22</td>\n",
       "      <td>Тюмень</td>\n",
       "      <td>ultra</td>\n",
       "      <td>4028.687306</td>\n",
       "      <td>26.265803</td>\n",
       "      <td>2021-08-28</td>\n",
       "      <td>8</td>\n",
       "      <td>6</td>\n",
       "      <td>0</td>\n",
       "      <td>199</td>\n",
       "      <td>summer</td>\n",
       "    </tr>\n",
       "  </tbody>\n",
       "</table>\n",
       "</div>"
      ],
      "text/plain": [
       "   user_id  name  age    city subscription_type     distance   duration  \\\n",
       "0        1  Кира   22  Тюмень             ultra  4409.919140  25.599769   \n",
       "1        1  Кира   22  Тюмень             ultra  2617.592153  15.816871   \n",
       "2        1  Кира   22  Тюмень             ultra   754.159807   6.232113   \n",
       "3        1  Кира   22  Тюмень             ultra  2694.783254  18.511000   \n",
       "4        1  Кира   22  Тюмень             ultra  4028.687306  26.265803   \n",
       "\n",
       "        date  month  minute_price  start_ride_price  subscription_fee  season  \n",
       "0 2021-01-01      1             6                 0               199  winter  \n",
       "1 2021-01-18      1             6                 0               199  winter  \n",
       "2 2021-04-20      4             6                 0               199  spring  \n",
       "3 2021-08-11      8             6                 0               199  summer  \n",
       "4 2021-08-28      8             6                 0               199  summer  "
      ]
     },
     "execution_count": 44,
     "metadata": {},
     "output_type": "execute_result"
    }
   ],
   "source": [
    "data['season'] = data['month'].apply(seasons)\n",
    "data.head()"
   ]
  },
  {
   "cell_type": "markdown",
   "id": "c46705bb",
   "metadata": {},
   "source": [
    "Посчитаем число поездок по сезонам"
   ]
  },
  {
   "cell_type": "code",
   "execution_count": 45,
   "id": "521a8e7f",
   "metadata": {},
   "outputs": [
    {
     "data": {
      "text/plain": [
       "spring    4610\n",
       "summer    4600\n",
       "winter    4448\n",
       "autumn    4410\n",
       "Name: season, dtype: int64"
      ]
     },
     "execution_count": 45,
     "metadata": {},
     "output_type": "execute_result"
    }
   ],
   "source": [
    "data['season'].value_counts()"
   ]
  },
  {
   "cell_type": "markdown",
   "id": "c4cc81ac",
   "metadata": {},
   "source": [
    "Посчитаем, сколько в процентах составляет разница числа поезок летом и зимой"
   ]
  },
  {
   "cell_type": "code",
   "execution_count": 46,
   "id": "a43a91da",
   "metadata": {},
   "outputs": [
    {
     "data": {
      "text/plain": [
       "1.0341726618705036"
      ]
     },
     "execution_count": 46,
     "metadata": {},
     "output_type": "execute_result"
    }
   ],
   "source": [
    "data.loc[data['season'] == 'summer']['user_id'].count() / data.loc[data['season'] == 'winter']['user_id'].count()"
   ]
  },
  {
   "cell_type": "markdown",
   "id": "eee84329",
   "metadata": {},
   "source": [
    "Весной и летом зафиксировано поездок больше, чем осенью и зимой. Однако число поездок летом всего на `3.4` процента больше, чем зимой. Рассмотрим число поездок по сезонам более подробно, по городам."
   ]
  },
  {
   "cell_type": "markdown",
   "id": "54189a2e",
   "metadata": {},
   "source": [
    "Построим горизонтальную столбчатую диаграмму, используя сводную таблицу"
   ]
  },
  {
   "cell_type": "code",
   "execution_count": 47,
   "id": "f1641825",
   "metadata": {},
   "outputs": [
    {
     "data": {
      "image/png": "[encoded data removed]",
      "text/plain": [
       "<Figure size 864x576 with 1 Axes>"
      ]
     },
     "metadata": {
      "needs_background": "light"
     },
     "output_type": "display_data"
    }
   ],
   "source": [
    "data.pivot_table(index='city', columns='season', values='distance', aggfunc='count')\\\n",
    ".plot(kind='barh', figsize=(12, 8), grid=True)\n",
    "plt.title('Поездки по городам и сезонам', fontsize=18)\n",
    "plt.xlabel('Количество')\n",
    "plt.ylabel('Города')\n",
    "plt.show()"
   ]
  },
  {
   "cell_type": "markdown",
   "id": "9440aa2a",
   "metadata": {},
   "source": [
    "Вывод по городам и сезонам получился непредсказуемый. Оказывается, в сибирских городах Омске и Тюмени, а также в Москве в зимние месяцы сервис аренды самокатов действует так же активно, как в другие сезоны. Да, в Омске зимой поездок меньше, чем в другие сезоны. Но в Тюмени особой разницы не видно, причем зимой число поездок даже больше, чем летом. И в Москве зимой число поездок сравнимо с летними месяцами. Это странная статистика. Объяснить её нельзя."
   ]
  },
  {
   "cell_type": "markdown",
   "id": "a535484e",
   "metadata": {},
   "source": [
    "**Вывод**. Мною объединены данные из трёх датафреймов в один. А затем был разделен этот датафрейм на два - по группам пользователей. Проверка показала, что после объединения и разделения пропусков не появилось.  \n",
    "Пользователи без подписки совершили на 78 % поездок больше, чем пользователи с подпиской. Но среднее расстояние поездок у пользователей с подпиской больше. Разброс поездок по времени и расстоянию поездок у пользователей без подписки больше, чем у пользователей с подпиской. Большое влияние на это, скорей всего, оказало наличие среди пользователей без подписки определенного количества неопытных пользователей, которые ошибаются при использовании приложения или при использовании самоката, отчего поездки у них получаются маленькими по расстоянию и по продолжительности.  \n",
    "Анализ поездок по городам и сезонам дал странные результаты: в сибирских городах зимой самокаты используются так же активно, как и летом, чего быть явно не может."
   ]
  },
  {
   "cell_type": "markdown",
   "id": "91ceae1a",
   "metadata": {},
   "source": [
    "# Шаг 5. Подсчёт выручки"
   ]
  },
  {
   "cell_type": "markdown",
   "id": "3dbf3f64",
   "metadata": {},
   "source": [
    "**Создание таблицы с агрегированными данными**"
   ]
  },
  {
   "cell_type": "markdown",
   "id": "3456fab5",
   "metadata": {},
   "source": [
    "Для расчета выручки округляем продолжительность каждой поездки в каждой строке датафрейма `data`,так как оплата поездки пользователем выполняется по времени, округлённому в большую сторону до целых минут"
   ]
  },
  {
   "cell_type": "code",
   "execution_count": 48,
   "id": "067ce389",
   "metadata": {},
   "outputs": [
    {
     "data": {
      "text/html": [
       "<div>\n",
       "<style scoped>\n",
       "    .dataframe tbody tr th:only-of-type {\n",
       "        vertical-align: middle;\n",
       "    }\n",
       "\n",
       "    .dataframe tbody tr th {\n",
       "        vertical-align: top;\n",
       "    }\n",
       "\n",
       "    .dataframe thead th {\n",
       "        text-align: right;\n",
       "    }\n",
       "</style>\n",
       "<table border=\"1\" class=\"dataframe\">\n",
       "  <thead>\n",
       "    <tr style=\"text-align: right;\">\n",
       "      <th></th>\n",
       "      <th>user_id</th>\n",
       "      <th>name</th>\n",
       "      <th>age</th>\n",
       "      <th>city</th>\n",
       "      <th>subscription_type</th>\n",
       "      <th>distance</th>\n",
       "      <th>duration</th>\n",
       "      <th>date</th>\n",
       "      <th>month</th>\n",
       "      <th>minute_price</th>\n",
       "      <th>start_ride_price</th>\n",
       "      <th>subscription_fee</th>\n",
       "      <th>season</th>\n",
       "    </tr>\n",
       "  </thead>\n",
       "  <tbody>\n",
       "    <tr>\n",
       "      <th>0</th>\n",
       "      <td>1</td>\n",
       "      <td>Кира</td>\n",
       "      <td>22</td>\n",
       "      <td>Тюмень</td>\n",
       "      <td>ultra</td>\n",
       "      <td>4409.919140</td>\n",
       "      <td>26.0</td>\n",
       "      <td>2021-01-01</td>\n",
       "      <td>1</td>\n",
       "      <td>6</td>\n",
       "      <td>0</td>\n",
       "      <td>199</td>\n",
       "      <td>winter</td>\n",
       "    </tr>\n",
       "    <tr>\n",
       "      <th>1</th>\n",
       "      <td>1</td>\n",
       "      <td>Кира</td>\n",
       "      <td>22</td>\n",
       "      <td>Тюмень</td>\n",
       "      <td>ultra</td>\n",
       "      <td>2617.592153</td>\n",
       "      <td>16.0</td>\n",
       "      <td>2021-01-18</td>\n",
       "      <td>1</td>\n",
       "      <td>6</td>\n",
       "      <td>0</td>\n",
       "      <td>199</td>\n",
       "      <td>winter</td>\n",
       "    </tr>\n",
       "    <tr>\n",
       "      <th>2</th>\n",
       "      <td>1</td>\n",
       "      <td>Кира</td>\n",
       "      <td>22</td>\n",
       "      <td>Тюмень</td>\n",
       "      <td>ultra</td>\n",
       "      <td>754.159807</td>\n",
       "      <td>7.0</td>\n",
       "      <td>2021-04-20</td>\n",
       "      <td>4</td>\n",
       "      <td>6</td>\n",
       "      <td>0</td>\n",
       "      <td>199</td>\n",
       "      <td>spring</td>\n",
       "    </tr>\n",
       "    <tr>\n",
       "      <th>3</th>\n",
       "      <td>1</td>\n",
       "      <td>Кира</td>\n",
       "      <td>22</td>\n",
       "      <td>Тюмень</td>\n",
       "      <td>ultra</td>\n",
       "      <td>2694.783254</td>\n",
       "      <td>19.0</td>\n",
       "      <td>2021-08-11</td>\n",
       "      <td>8</td>\n",
       "      <td>6</td>\n",
       "      <td>0</td>\n",
       "      <td>199</td>\n",
       "      <td>summer</td>\n",
       "    </tr>\n",
       "    <tr>\n",
       "      <th>4</th>\n",
       "      <td>1</td>\n",
       "      <td>Кира</td>\n",
       "      <td>22</td>\n",
       "      <td>Тюмень</td>\n",
       "      <td>ultra</td>\n",
       "      <td>4028.687306</td>\n",
       "      <td>27.0</td>\n",
       "      <td>2021-08-28</td>\n",
       "      <td>8</td>\n",
       "      <td>6</td>\n",
       "      <td>0</td>\n",
       "      <td>199</td>\n",
       "      <td>summer</td>\n",
       "    </tr>\n",
       "    <tr>\n",
       "      <th>5</th>\n",
       "      <td>1</td>\n",
       "      <td>Кира</td>\n",
       "      <td>22</td>\n",
       "      <td>Тюмень</td>\n",
       "      <td>ultra</td>\n",
       "      <td>2770.890808</td>\n",
       "      <td>17.0</td>\n",
       "      <td>2021-10-09</td>\n",
       "      <td>10</td>\n",
       "      <td>6</td>\n",
       "      <td>0</td>\n",
       "      <td>199</td>\n",
       "      <td>autumn</td>\n",
       "    </tr>\n",
       "    <tr>\n",
       "      <th>6</th>\n",
       "      <td>1</td>\n",
       "      <td>Кира</td>\n",
       "      <td>22</td>\n",
       "      <td>Тюмень</td>\n",
       "      <td>ultra</td>\n",
       "      <td>3039.020292</td>\n",
       "      <td>15.0</td>\n",
       "      <td>2021-10-19</td>\n",
       "      <td>10</td>\n",
       "      <td>6</td>\n",
       "      <td>0</td>\n",
       "      <td>199</td>\n",
       "      <td>autumn</td>\n",
       "    </tr>\n",
       "    <tr>\n",
       "      <th>7</th>\n",
       "      <td>1</td>\n",
       "      <td>Кира</td>\n",
       "      <td>22</td>\n",
       "      <td>Тюмень</td>\n",
       "      <td>ultra</td>\n",
       "      <td>2842.118050</td>\n",
       "      <td>24.0</td>\n",
       "      <td>2021-11-06</td>\n",
       "      <td>11</td>\n",
       "      <td>6</td>\n",
       "      <td>0</td>\n",
       "      <td>199</td>\n",
       "      <td>autumn</td>\n",
       "    </tr>\n",
       "    <tr>\n",
       "      <th>8</th>\n",
       "      <td>1</td>\n",
       "      <td>Кира</td>\n",
       "      <td>22</td>\n",
       "      <td>Тюмень</td>\n",
       "      <td>ultra</td>\n",
       "      <td>3412.690668</td>\n",
       "      <td>16.0</td>\n",
       "      <td>2021-11-14</td>\n",
       "      <td>11</td>\n",
       "      <td>6</td>\n",
       "      <td>0</td>\n",
       "      <td>199</td>\n",
       "      <td>autumn</td>\n",
       "    </tr>\n",
       "    <tr>\n",
       "      <th>9</th>\n",
       "      <td>1</td>\n",
       "      <td>Кира</td>\n",
       "      <td>22</td>\n",
       "      <td>Тюмень</td>\n",
       "      <td>ultra</td>\n",
       "      <td>748.690645</td>\n",
       "      <td>16.0</td>\n",
       "      <td>2021-11-22</td>\n",
       "      <td>11</td>\n",
       "      <td>6</td>\n",
       "      <td>0</td>\n",
       "      <td>199</td>\n",
       "      <td>autumn</td>\n",
       "    </tr>\n",
       "    <tr>\n",
       "      <th>10</th>\n",
       "      <td>1</td>\n",
       "      <td>Кира</td>\n",
       "      <td>22</td>\n",
       "      <td>Тюмень</td>\n",
       "      <td>ultra</td>\n",
       "      <td>4031.020195</td>\n",
       "      <td>18.0</td>\n",
       "      <td>2021-12-14</td>\n",
       "      <td>12</td>\n",
       "      <td>6</td>\n",
       "      <td>0</td>\n",
       "      <td>199</td>\n",
       "      <td>winter</td>\n",
       "    </tr>\n",
       "    <tr>\n",
       "      <th>11</th>\n",
       "      <td>1</td>\n",
       "      <td>Кира</td>\n",
       "      <td>22</td>\n",
       "      <td>Тюмень</td>\n",
       "      <td>ultra</td>\n",
       "      <td>2720.609748</td>\n",
       "      <td>10.0</td>\n",
       "      <td>2021-12-22</td>\n",
       "      <td>12</td>\n",
       "      <td>6</td>\n",
       "      <td>0</td>\n",
       "      <td>199</td>\n",
       "      <td>winter</td>\n",
       "    </tr>\n",
       "    <tr>\n",
       "      <th>12</th>\n",
       "      <td>2</td>\n",
       "      <td>Станислав</td>\n",
       "      <td>31</td>\n",
       "      <td>Омск</td>\n",
       "      <td>ultra</td>\n",
       "      <td>3105.086678</td>\n",
       "      <td>25.0</td>\n",
       "      <td>2021-03-15</td>\n",
       "      <td>3</td>\n",
       "      <td>6</td>\n",
       "      <td>0</td>\n",
       "      <td>199</td>\n",
       "      <td>spring</td>\n",
       "    </tr>\n",
       "    <tr>\n",
       "      <th>13</th>\n",
       "      <td>2</td>\n",
       "      <td>Станислав</td>\n",
       "      <td>31</td>\n",
       "      <td>Омск</td>\n",
       "      <td>ultra</td>\n",
       "      <td>3053.519401</td>\n",
       "      <td>12.0</td>\n",
       "      <td>2021-03-18</td>\n",
       "      <td>3</td>\n",
       "      <td>6</td>\n",
       "      <td>0</td>\n",
       "      <td>199</td>\n",
       "      <td>spring</td>\n",
       "    </tr>\n",
       "    <tr>\n",
       "      <th>14</th>\n",
       "      <td>2</td>\n",
       "      <td>Станислав</td>\n",
       "      <td>31</td>\n",
       "      <td>Омск</td>\n",
       "      <td>ultra</td>\n",
       "      <td>4029.116927</td>\n",
       "      <td>26.0</td>\n",
       "      <td>2021-03-23</td>\n",
       "      <td>3</td>\n",
       "      <td>6</td>\n",
       "      <td>0</td>\n",
       "      <td>199</td>\n",
       "      <td>spring</td>\n",
       "    </tr>\n",
       "    <tr>\n",
       "      <th>15</th>\n",
       "      <td>2</td>\n",
       "      <td>Станислав</td>\n",
       "      <td>31</td>\n",
       "      <td>Омск</td>\n",
       "      <td>ultra</td>\n",
       "      <td>2805.786329</td>\n",
       "      <td>21.0</td>\n",
       "      <td>2021-04-08</td>\n",
       "      <td>4</td>\n",
       "      <td>6</td>\n",
       "      <td>0</td>\n",
       "      <td>199</td>\n",
       "      <td>spring</td>\n",
       "    </tr>\n",
       "    <tr>\n",
       "      <th>16</th>\n",
       "      <td>2</td>\n",
       "      <td>Станислав</td>\n",
       "      <td>31</td>\n",
       "      <td>Омск</td>\n",
       "      <td>ultra</td>\n",
       "      <td>3358.595495</td>\n",
       "      <td>19.0</td>\n",
       "      <td>2021-04-13</td>\n",
       "      <td>4</td>\n",
       "      <td>6</td>\n",
       "      <td>0</td>\n",
       "      <td>199</td>\n",
       "      <td>spring</td>\n",
       "    </tr>\n",
       "    <tr>\n",
       "      <th>17</th>\n",
       "      <td>2</td>\n",
       "      <td>Станислав</td>\n",
       "      <td>31</td>\n",
       "      <td>Омск</td>\n",
       "      <td>ultra</td>\n",
       "      <td>3255.338202</td>\n",
       "      <td>14.0</td>\n",
       "      <td>2021-06-20</td>\n",
       "      <td>6</td>\n",
       "      <td>6</td>\n",
       "      <td>0</td>\n",
       "      <td>199</td>\n",
       "      <td>summer</td>\n",
       "    </tr>\n",
       "    <tr>\n",
       "      <th>18</th>\n",
       "      <td>2</td>\n",
       "      <td>Станислав</td>\n",
       "      <td>31</td>\n",
       "      <td>Омск</td>\n",
       "      <td>ultra</td>\n",
       "      <td>3942.817648</td>\n",
       "      <td>21.0</td>\n",
       "      <td>2021-07-02</td>\n",
       "      <td>7</td>\n",
       "      <td>6</td>\n",
       "      <td>0</td>\n",
       "      <td>199</td>\n",
       "      <td>summer</td>\n",
       "    </tr>\n",
       "    <tr>\n",
       "      <th>19</th>\n",
       "      <td>2</td>\n",
       "      <td>Станислав</td>\n",
       "      <td>31</td>\n",
       "      <td>Омск</td>\n",
       "      <td>ultra</td>\n",
       "      <td>2837.905316</td>\n",
       "      <td>27.0</td>\n",
       "      <td>2021-07-18</td>\n",
       "      <td>7</td>\n",
       "      <td>6</td>\n",
       "      <td>0</td>\n",
       "      <td>199</td>\n",
       "      <td>summer</td>\n",
       "    </tr>\n",
       "  </tbody>\n",
       "</table>\n",
       "</div>"
      ],
      "text/plain": [
       "    user_id       name  age    city subscription_type     distance  duration  \\\n",
       "0         1       Кира   22  Тюмень             ultra  4409.919140      26.0   \n",
       "1         1       Кира   22  Тюмень             ultra  2617.592153      16.0   \n",
       "2         1       Кира   22  Тюмень             ultra   754.159807       7.0   \n",
       "3         1       Кира   22  Тюмень             ultra  2694.783254      19.0   \n",
       "4         1       Кира   22  Тюмень             ultra  4028.687306      27.0   \n",
       "5         1       Кира   22  Тюмень             ultra  2770.890808      17.0   \n",
       "6         1       Кира   22  Тюмень             ultra  3039.020292      15.0   \n",
       "7         1       Кира   22  Тюмень             ultra  2842.118050      24.0   \n",
       "8         1       Кира   22  Тюмень             ultra  3412.690668      16.0   \n",
       "9         1       Кира   22  Тюмень             ultra   748.690645      16.0   \n",
       "10        1       Кира   22  Тюмень             ultra  4031.020195      18.0   \n",
       "11        1       Кира   22  Тюмень             ultra  2720.609748      10.0   \n",
       "12        2  Станислав   31    Омск             ultra  3105.086678      25.0   \n",
       "13        2  Станислав   31    Омск             ultra  3053.519401      12.0   \n",
       "14        2  Станислав   31    Омск             ultra  4029.116927      26.0   \n",
       "15        2  Станислав   31    Омск             ultra  2805.786329      21.0   \n",
       "16        2  Станислав   31    Омск             ultra  3358.595495      19.0   \n",
       "17        2  Станислав   31    Омск             ultra  3255.338202      14.0   \n",
       "18        2  Станислав   31    Омск             ultra  3942.817648      21.0   \n",
       "19        2  Станислав   31    Омск             ultra  2837.905316      27.0   \n",
       "\n",
       "         date  month  minute_price  start_ride_price  subscription_fee  season  \n",
       "0  2021-01-01      1             6                 0               199  winter  \n",
       "1  2021-01-18      1             6                 0               199  winter  \n",
       "2  2021-04-20      4             6                 0               199  spring  \n",
       "3  2021-08-11      8             6                 0               199  summer  \n",
       "4  2021-08-28      8             6                 0               199  summer  \n",
       "5  2021-10-09     10             6                 0               199  autumn  \n",
       "6  2021-10-19     10             6                 0               199  autumn  \n",
       "7  2021-11-06     11             6                 0               199  autumn  \n",
       "8  2021-11-14     11             6                 0               199  autumn  \n",
       "9  2021-11-22     11             6                 0               199  autumn  \n",
       "10 2021-12-14     12             6                 0               199  winter  \n",
       "11 2021-12-22     12             6                 0               199  winter  \n",
       "12 2021-03-15      3             6                 0               199  spring  \n",
       "13 2021-03-18      3             6                 0               199  spring  \n",
       "14 2021-03-23      3             6                 0               199  spring  \n",
       "15 2021-04-08      4             6                 0               199  spring  \n",
       "16 2021-04-13      4             6                 0               199  spring  \n",
       "17 2021-06-20      6             6                 0               199  summer  \n",
       "18 2021-07-02      7             6                 0               199  summer  \n",
       "19 2021-07-18      7             6                 0               199  summer  "
      ]
     },
     "execution_count": 48,
     "metadata": {},
     "output_type": "execute_result"
    }
   ],
   "source": [
    "data['duration'] = np.ceil(data['duration'])\n",
    "\n",
    "data.head(20)"
   ]
  },
  {
   "cell_type": "markdown",
   "id": "c44f873b",
   "metadata": {},
   "source": [
    "Методом groupby() сгруппируем данные по пользователям и месяцам, применим агрегации к столбцам группировки agg(), чтобы в таблице вывести данные, необходимые для расчета выручки"
   ]
  },
  {
   "cell_type": "code",
   "execution_count": 49,
   "id": "efdcd6ee",
   "metadata": {},
   "outputs": [
    {
     "data": {
      "text/html": [
       "<div>\n",
       "<style scoped>\n",
       "    .dataframe tbody tr th:only-of-type {\n",
       "        vertical-align: middle;\n",
       "    }\n",
       "\n",
       "    .dataframe tbody tr th {\n",
       "        vertical-align: top;\n",
       "    }\n",
       "\n",
       "    .dataframe thead tr th {\n",
       "        text-align: left;\n",
       "    }\n",
       "\n",
       "    .dataframe thead tr:last-of-type th {\n",
       "        text-align: right;\n",
       "    }\n",
       "</style>\n",
       "<table border=\"1\" class=\"dataframe\">\n",
       "  <thead>\n",
       "    <tr>\n",
       "      <th></th>\n",
       "      <th></th>\n",
       "      <th colspan=\"2\" halign=\"left\">duration</th>\n",
       "      <th>minute_price</th>\n",
       "      <th>start_ride_price</th>\n",
       "      <th>subscription_fee</th>\n",
       "      <th>subscription_type</th>\n",
       "    </tr>\n",
       "    <tr>\n",
       "      <th></th>\n",
       "      <th></th>\n",
       "      <th>sum</th>\n",
       "      <th>count</th>\n",
       "      <th>first</th>\n",
       "      <th>first</th>\n",
       "      <th>first</th>\n",
       "      <th>first</th>\n",
       "    </tr>\n",
       "    <tr>\n",
       "      <th>user_id</th>\n",
       "      <th>month</th>\n",
       "      <th></th>\n",
       "      <th></th>\n",
       "      <th></th>\n",
       "      <th></th>\n",
       "      <th></th>\n",
       "      <th></th>\n",
       "    </tr>\n",
       "  </thead>\n",
       "  <tbody>\n",
       "    <tr>\n",
       "      <th rowspan=\"5\" valign=\"top\">1</th>\n",
       "      <th>1</th>\n",
       "      <td>42.0</td>\n",
       "      <td>2</td>\n",
       "      <td>6</td>\n",
       "      <td>0</td>\n",
       "      <td>199</td>\n",
       "      <td>ultra</td>\n",
       "    </tr>\n",
       "    <tr>\n",
       "      <th>4</th>\n",
       "      <td>7.0</td>\n",
       "      <td>1</td>\n",
       "      <td>6</td>\n",
       "      <td>0</td>\n",
       "      <td>199</td>\n",
       "      <td>ultra</td>\n",
       "    </tr>\n",
       "    <tr>\n",
       "      <th>8</th>\n",
       "      <td>46.0</td>\n",
       "      <td>2</td>\n",
       "      <td>6</td>\n",
       "      <td>0</td>\n",
       "      <td>199</td>\n",
       "      <td>ultra</td>\n",
       "    </tr>\n",
       "    <tr>\n",
       "      <th>10</th>\n",
       "      <td>32.0</td>\n",
       "      <td>2</td>\n",
       "      <td>6</td>\n",
       "      <td>0</td>\n",
       "      <td>199</td>\n",
       "      <td>ultra</td>\n",
       "    </tr>\n",
       "    <tr>\n",
       "      <th>11</th>\n",
       "      <td>56.0</td>\n",
       "      <td>3</td>\n",
       "      <td>6</td>\n",
       "      <td>0</td>\n",
       "      <td>199</td>\n",
       "      <td>ultra</td>\n",
       "    </tr>\n",
       "  </tbody>\n",
       "</table>\n",
       "</div>"
      ],
      "text/plain": [
       "              duration       minute_price start_ride_price subscription_fee  \\\n",
       "                   sum count        first            first            first   \n",
       "user_id month                                                                 \n",
       "1       1         42.0     2            6                0              199   \n",
       "        4          7.0     1            6                0              199   \n",
       "        8         46.0     2            6                0              199   \n",
       "        10        32.0     2            6                0              199   \n",
       "        11        56.0     3            6                0              199   \n",
       "\n",
       "              subscription_type  \n",
       "                          first  \n",
       "user_id month                    \n",
       "1       1                 ultra  \n",
       "        4                 ultra  \n",
       "        8                 ultra  \n",
       "        10                ultra  \n",
       "        11                ultra  "
      ]
     },
     "execution_count": 49,
     "metadata": {},
     "output_type": "execute_result"
    }
   ],
   "source": [
    "data_grouped = (\n",
    "    data.groupby(['user_id', 'month'])\n",
    "    .agg({'duration':['sum', 'count'], 'minute_price': 'first', 'start_ride_price': 'first', 'subscription_fee': 'first', 'subscription_type': 'first'})\n",
    ")\n",
    "\n",
    "data_grouped.head()"
   ]
  },
  {
   "cell_type": "markdown",
   "id": "b237393a",
   "metadata": {},
   "source": [
    "Переименуем столбцы"
   ]
  },
  {
   "cell_type": "code",
   "execution_count": 50,
   "id": "429077c1",
   "metadata": {},
   "outputs": [
    {
     "data": {
      "text/html": [
       "<div>\n",
       "<style scoped>\n",
       "    .dataframe tbody tr th:only-of-type {\n",
       "        vertical-align: middle;\n",
       "    }\n",
       "\n",
       "    .dataframe tbody tr th {\n",
       "        vertical-align: top;\n",
       "    }\n",
       "\n",
       "    .dataframe thead th {\n",
       "        text-align: right;\n",
       "    }\n",
       "</style>\n",
       "<table border=\"1\" class=\"dataframe\">\n",
       "  <thead>\n",
       "    <tr style=\"text-align: right;\">\n",
       "      <th></th>\n",
       "      <th></th>\n",
       "      <th>total_duration</th>\n",
       "      <th>trips_number</th>\n",
       "      <th>minute_price</th>\n",
       "      <th>start_ride_price</th>\n",
       "      <th>subscription_fee</th>\n",
       "      <th>subscription_type</th>\n",
       "    </tr>\n",
       "    <tr>\n",
       "      <th>user_id</th>\n",
       "      <th>month</th>\n",
       "      <th></th>\n",
       "      <th></th>\n",
       "      <th></th>\n",
       "      <th></th>\n",
       "      <th></th>\n",
       "      <th></th>\n",
       "    </tr>\n",
       "  </thead>\n",
       "  <tbody>\n",
       "    <tr>\n",
       "      <th rowspan=\"5\" valign=\"top\">1</th>\n",
       "      <th>1</th>\n",
       "      <td>42.0</td>\n",
       "      <td>2</td>\n",
       "      <td>6</td>\n",
       "      <td>0</td>\n",
       "      <td>199</td>\n",
       "      <td>ultra</td>\n",
       "    </tr>\n",
       "    <tr>\n",
       "      <th>4</th>\n",
       "      <td>7.0</td>\n",
       "      <td>1</td>\n",
       "      <td>6</td>\n",
       "      <td>0</td>\n",
       "      <td>199</td>\n",
       "      <td>ultra</td>\n",
       "    </tr>\n",
       "    <tr>\n",
       "      <th>8</th>\n",
       "      <td>46.0</td>\n",
       "      <td>2</td>\n",
       "      <td>6</td>\n",
       "      <td>0</td>\n",
       "      <td>199</td>\n",
       "      <td>ultra</td>\n",
       "    </tr>\n",
       "    <tr>\n",
       "      <th>10</th>\n",
       "      <td>32.0</td>\n",
       "      <td>2</td>\n",
       "      <td>6</td>\n",
       "      <td>0</td>\n",
       "      <td>199</td>\n",
       "      <td>ultra</td>\n",
       "    </tr>\n",
       "    <tr>\n",
       "      <th>11</th>\n",
       "      <td>56.0</td>\n",
       "      <td>3</td>\n",
       "      <td>6</td>\n",
       "      <td>0</td>\n",
       "      <td>199</td>\n",
       "      <td>ultra</td>\n",
       "    </tr>\n",
       "  </tbody>\n",
       "</table>\n",
       "</div>"
      ],
      "text/plain": [
       "               total_duration  trips_number  minute_price  start_ride_price  \\\n",
       "user_id month                                                                 \n",
       "1       1                42.0             2             6                 0   \n",
       "        4                 7.0             1             6                 0   \n",
       "        8                46.0             2             6                 0   \n",
       "        10               32.0             2             6                 0   \n",
       "        11               56.0             3             6                 0   \n",
       "\n",
       "               subscription_fee subscription_type  \n",
       "user_id month                                      \n",
       "1       1                   199             ultra  \n",
       "        4                   199             ultra  \n",
       "        8                   199             ultra  \n",
       "        10                  199             ultra  \n",
       "        11                  199             ultra  "
      ]
     },
     "execution_count": 50,
     "metadata": {},
     "output_type": "execute_result"
    }
   ],
   "source": [
    "data_grouped.columns = ['total_duration', 'trips_number', 'minute_price', 'start_ride_price', 'subscription_fee', 'subscription_type']\n",
    "\n",
    "data_grouped.head()"
   ]
  },
  {
   "cell_type": "markdown",
   "id": "d949f875",
   "metadata": {},
   "source": [
    "Проверим агрегированные данные на пропуски"
   ]
  },
  {
   "cell_type": "code",
   "execution_count": 51,
   "id": "33828da3",
   "metadata": {},
   "outputs": [
    {
     "data": {
      "text/plain": [
       "total_duration       0\n",
       "trips_number         0\n",
       "minute_price         0\n",
       "start_ride_price     0\n",
       "subscription_fee     0\n",
       "subscription_type    0\n",
       "dtype: int64"
      ]
     },
     "execution_count": 51,
     "metadata": {},
     "output_type": "execute_result"
    }
   ],
   "source": [
    "data_grouped.isna().sum()"
   ]
  },
  {
   "cell_type": "markdown",
   "id": "24a1f7fa",
   "metadata": {},
   "source": [
    "Пропусков в датафрейме `data_grouped` нет."
   ]
  },
  {
   "cell_type": "markdown",
   "id": "af83f6a5",
   "metadata": {},
   "source": [
    "**Расчет помесячной выручки**"
   ]
  },
  {
   "cell_type": "markdown",
   "id": "57998db1",
   "metadata": {},
   "source": [
    "Для расчета помесячной выручки напишем собственную функцию"
   ]
  },
  {
   "cell_type": "code",
   "execution_count": 52,
   "id": "efc1bea5",
   "metadata": {},
   "outputs": [],
   "source": [
    "def revenue(row):\n",
    "    start_sum = row['start_ride_price'] * row['trips_number']\n",
    "    trip_sum = row['minute_price'] * row['total_duration']\n",
    "    subscription_fee = row['subscription_fee']\n",
    "    result = start_sum + trip_sum + subscription_fee\n",
    "    return result"
   ]
  },
  {
   "cell_type": "markdown",
   "id": "d4280650",
   "metadata": {},
   "source": [
    "Проверим корректность работы функции"
   ]
  },
  {
   "cell_type": "code",
   "execution_count": 53,
   "id": "97d40626",
   "metadata": {},
   "outputs": [
    {
     "data": {
      "text/plain": [
       "451"
      ]
     },
     "execution_count": 53,
     "metadata": {},
     "output_type": "execute_result"
    }
   ],
   "source": [
    "row_values = [42, 2, 6, 0, 199]\n",
    "row_columns = ['total_duration', 'trips_number', 'minute_price', 'start_ride_price', 'subscription_fee']\n",
    "row = pd.Series(data=row_values, index=row_columns) \n",
    "revenue(row)"
   ]
  },
  {
   "cell_type": "markdown",
   "id": "410fe46f",
   "metadata": {},
   "source": [
    "Создадим в таблице `data_grouped` новый столбец `revenue`, для расчета значений в нём воспользуемся написанной нами функцией и методом `apply`\n",
    "<br>\n",
    "Выведем на экран 20 первых и 20 последних строк датафрейма `data_grouped` с новым столбцом `revenue`"
   ]
  },
  {
   "cell_type": "code",
   "execution_count": 54,
   "id": "1becda4e",
   "metadata": {},
   "outputs": [
    {
     "data": {
      "text/html": [
       "<div>\n",
       "<style scoped>\n",
       "    .dataframe tbody tr th:only-of-type {\n",
       "        vertical-align: middle;\n",
       "    }\n",
       "\n",
       "    .dataframe tbody tr th {\n",
       "        vertical-align: top;\n",
       "    }\n",
       "\n",
       "    .dataframe thead th {\n",
       "        text-align: right;\n",
       "    }\n",
       "</style>\n",
       "<table border=\"1\" class=\"dataframe\">\n",
       "  <thead>\n",
       "    <tr style=\"text-align: right;\">\n",
       "      <th></th>\n",
       "      <th></th>\n",
       "      <th>total_duration</th>\n",
       "      <th>trips_number</th>\n",
       "      <th>minute_price</th>\n",
       "      <th>start_ride_price</th>\n",
       "      <th>subscription_fee</th>\n",
       "      <th>subscription_type</th>\n",
       "      <th>revenue</th>\n",
       "    </tr>\n",
       "    <tr>\n",
       "      <th>user_id</th>\n",
       "      <th>month</th>\n",
       "      <th></th>\n",
       "      <th></th>\n",
       "      <th></th>\n",
       "      <th></th>\n",
       "      <th></th>\n",
       "      <th></th>\n",
       "      <th></th>\n",
       "    </tr>\n",
       "  </thead>\n",
       "  <tbody>\n",
       "    <tr>\n",
       "      <th rowspan=\"6\" valign=\"top\">1</th>\n",
       "      <th>1</th>\n",
       "      <td>42.0</td>\n",
       "      <td>2</td>\n",
       "      <td>6</td>\n",
       "      <td>0</td>\n",
       "      <td>199</td>\n",
       "      <td>ultra</td>\n",
       "      <td>451.0</td>\n",
       "    </tr>\n",
       "    <tr>\n",
       "      <th>4</th>\n",
       "      <td>7.0</td>\n",
       "      <td>1</td>\n",
       "      <td>6</td>\n",
       "      <td>0</td>\n",
       "      <td>199</td>\n",
       "      <td>ultra</td>\n",
       "      <td>241.0</td>\n",
       "    </tr>\n",
       "    <tr>\n",
       "      <th>8</th>\n",
       "      <td>46.0</td>\n",
       "      <td>2</td>\n",
       "      <td>6</td>\n",
       "      <td>0</td>\n",
       "      <td>199</td>\n",
       "      <td>ultra</td>\n",
       "      <td>475.0</td>\n",
       "    </tr>\n",
       "    <tr>\n",
       "      <th>10</th>\n",
       "      <td>32.0</td>\n",
       "      <td>2</td>\n",
       "      <td>6</td>\n",
       "      <td>0</td>\n",
       "      <td>199</td>\n",
       "      <td>ultra</td>\n",
       "      <td>391.0</td>\n",
       "    </tr>\n",
       "    <tr>\n",
       "      <th>11</th>\n",
       "      <td>56.0</td>\n",
       "      <td>3</td>\n",
       "      <td>6</td>\n",
       "      <td>0</td>\n",
       "      <td>199</td>\n",
       "      <td>ultra</td>\n",
       "      <td>535.0</td>\n",
       "    </tr>\n",
       "    <tr>\n",
       "      <th>12</th>\n",
       "      <td>28.0</td>\n",
       "      <td>2</td>\n",
       "      <td>6</td>\n",
       "      <td>0</td>\n",
       "      <td>199</td>\n",
       "      <td>ultra</td>\n",
       "      <td>367.0</td>\n",
       "    </tr>\n",
       "    <tr>\n",
       "      <th rowspan=\"7\" valign=\"top\">2</th>\n",
       "      <th>3</th>\n",
       "      <td>63.0</td>\n",
       "      <td>3</td>\n",
       "      <td>6</td>\n",
       "      <td>0</td>\n",
       "      <td>199</td>\n",
       "      <td>ultra</td>\n",
       "      <td>577.0</td>\n",
       "    </tr>\n",
       "    <tr>\n",
       "      <th>4</th>\n",
       "      <td>40.0</td>\n",
       "      <td>2</td>\n",
       "      <td>6</td>\n",
       "      <td>0</td>\n",
       "      <td>199</td>\n",
       "      <td>ultra</td>\n",
       "      <td>439.0</td>\n",
       "    </tr>\n",
       "    <tr>\n",
       "      <th>6</th>\n",
       "      <td>14.0</td>\n",
       "      <td>1</td>\n",
       "      <td>6</td>\n",
       "      <td>0</td>\n",
       "      <td>199</td>\n",
       "      <td>ultra</td>\n",
       "      <td>283.0</td>\n",
       "    </tr>\n",
       "    <tr>\n",
       "      <th>7</th>\n",
       "      <td>48.0</td>\n",
       "      <td>2</td>\n",
       "      <td>6</td>\n",
       "      <td>0</td>\n",
       "      <td>199</td>\n",
       "      <td>ultra</td>\n",
       "      <td>487.0</td>\n",
       "    </tr>\n",
       "    <tr>\n",
       "      <th>8</th>\n",
       "      <td>7.0</td>\n",
       "      <td>1</td>\n",
       "      <td>6</td>\n",
       "      <td>0</td>\n",
       "      <td>199</td>\n",
       "      <td>ultra</td>\n",
       "      <td>241.0</td>\n",
       "    </tr>\n",
       "    <tr>\n",
       "      <th>10</th>\n",
       "      <td>19.0</td>\n",
       "      <td>1</td>\n",
       "      <td>6</td>\n",
       "      <td>0</td>\n",
       "      <td>199</td>\n",
       "      <td>ultra</td>\n",
       "      <td>313.0</td>\n",
       "    </tr>\n",
       "    <tr>\n",
       "      <th>12</th>\n",
       "      <td>12.0</td>\n",
       "      <td>1</td>\n",
       "      <td>6</td>\n",
       "      <td>0</td>\n",
       "      <td>199</td>\n",
       "      <td>ultra</td>\n",
       "      <td>271.0</td>\n",
       "    </tr>\n",
       "    <tr>\n",
       "      <th rowspan=\"7\" valign=\"top\">3</th>\n",
       "      <th>1</th>\n",
       "      <td>13.0</td>\n",
       "      <td>1</td>\n",
       "      <td>6</td>\n",
       "      <td>0</td>\n",
       "      <td>199</td>\n",
       "      <td>ultra</td>\n",
       "      <td>277.0</td>\n",
       "    </tr>\n",
       "    <tr>\n",
       "      <th>2</th>\n",
       "      <td>39.0</td>\n",
       "      <td>2</td>\n",
       "      <td>6</td>\n",
       "      <td>0</td>\n",
       "      <td>199</td>\n",
       "      <td>ultra</td>\n",
       "      <td>433.0</td>\n",
       "    </tr>\n",
       "    <tr>\n",
       "      <th>4</th>\n",
       "      <td>21.0</td>\n",
       "      <td>1</td>\n",
       "      <td>6</td>\n",
       "      <td>0</td>\n",
       "      <td>199</td>\n",
       "      <td>ultra</td>\n",
       "      <td>325.0</td>\n",
       "    </tr>\n",
       "    <tr>\n",
       "      <th>5</th>\n",
       "      <td>63.0</td>\n",
       "      <td>3</td>\n",
       "      <td>6</td>\n",
       "      <td>0</td>\n",
       "      <td>199</td>\n",
       "      <td>ultra</td>\n",
       "      <td>577.0</td>\n",
       "    </tr>\n",
       "    <tr>\n",
       "      <th>7</th>\n",
       "      <td>67.0</td>\n",
       "      <td>3</td>\n",
       "      <td>6</td>\n",
       "      <td>0</td>\n",
       "      <td>199</td>\n",
       "      <td>ultra</td>\n",
       "      <td>601.0</td>\n",
       "    </tr>\n",
       "    <tr>\n",
       "      <th>9</th>\n",
       "      <td>23.0</td>\n",
       "      <td>1</td>\n",
       "      <td>6</td>\n",
       "      <td>0</td>\n",
       "      <td>199</td>\n",
       "      <td>ultra</td>\n",
       "      <td>337.0</td>\n",
       "    </tr>\n",
       "    <tr>\n",
       "      <th>12</th>\n",
       "      <td>13.0</td>\n",
       "      <td>1</td>\n",
       "      <td>6</td>\n",
       "      <td>0</td>\n",
       "      <td>199</td>\n",
       "      <td>ultra</td>\n",
       "      <td>277.0</td>\n",
       "    </tr>\n",
       "  </tbody>\n",
       "</table>\n",
       "</div>"
      ],
      "text/plain": [
       "               total_duration  trips_number  minute_price  start_ride_price  \\\n",
       "user_id month                                                                 \n",
       "1       1                42.0             2             6                 0   \n",
       "        4                 7.0             1             6                 0   \n",
       "        8                46.0             2             6                 0   \n",
       "        10               32.0             2             6                 0   \n",
       "        11               56.0             3             6                 0   \n",
       "        12               28.0             2             6                 0   \n",
       "2       3                63.0             3             6                 0   \n",
       "        4                40.0             2             6                 0   \n",
       "        6                14.0             1             6                 0   \n",
       "        7                48.0             2             6                 0   \n",
       "        8                 7.0             1             6                 0   \n",
       "        10               19.0             1             6                 0   \n",
       "        12               12.0             1             6                 0   \n",
       "3       1                13.0             1             6                 0   \n",
       "        2                39.0             2             6                 0   \n",
       "        4                21.0             1             6                 0   \n",
       "        5                63.0             3             6                 0   \n",
       "        7                67.0             3             6                 0   \n",
       "        9                23.0             1             6                 0   \n",
       "        12               13.0             1             6                 0   \n",
       "\n",
       "               subscription_fee subscription_type  revenue  \n",
       "user_id month                                               \n",
       "1       1                   199             ultra    451.0  \n",
       "        4                   199             ultra    241.0  \n",
       "        8                   199             ultra    475.0  \n",
       "        10                  199             ultra    391.0  \n",
       "        11                  199             ultra    535.0  \n",
       "        12                  199             ultra    367.0  \n",
       "2       3                   199             ultra    577.0  \n",
       "        4                   199             ultra    439.0  \n",
       "        6                   199             ultra    283.0  \n",
       "        7                   199             ultra    487.0  \n",
       "        8                   199             ultra    241.0  \n",
       "        10                  199             ultra    313.0  \n",
       "        12                  199             ultra    271.0  \n",
       "3       1                   199             ultra    277.0  \n",
       "        2                   199             ultra    433.0  \n",
       "        4                   199             ultra    325.0  \n",
       "        5                   199             ultra    577.0  \n",
       "        7                   199             ultra    601.0  \n",
       "        9                   199             ultra    337.0  \n",
       "        12                  199             ultra    277.0  "
      ]
     },
     "execution_count": 54,
     "metadata": {},
     "output_type": "execute_result"
    }
   ],
   "source": [
    "data_grouped['revenue'] = data_grouped.apply(revenue, axis=1)\n",
    "\n",
    "data_grouped.head(20)"
   ]
  },
  {
   "cell_type": "code",
   "execution_count": 55,
   "id": "0cfa9061",
   "metadata": {},
   "outputs": [
    {
     "data": {
      "text/html": [
       "<div>\n",
       "<style scoped>\n",
       "    .dataframe tbody tr th:only-of-type {\n",
       "        vertical-align: middle;\n",
       "    }\n",
       "\n",
       "    .dataframe tbody tr th {\n",
       "        vertical-align: top;\n",
       "    }\n",
       "\n",
       "    .dataframe thead th {\n",
       "        text-align: right;\n",
       "    }\n",
       "</style>\n",
       "<table border=\"1\" class=\"dataframe\">\n",
       "  <thead>\n",
       "    <tr style=\"text-align: right;\">\n",
       "      <th></th>\n",
       "      <th></th>\n",
       "      <th>total_duration</th>\n",
       "      <th>trips_number</th>\n",
       "      <th>minute_price</th>\n",
       "      <th>start_ride_price</th>\n",
       "      <th>subscription_fee</th>\n",
       "      <th>subscription_type</th>\n",
       "      <th>revenue</th>\n",
       "    </tr>\n",
       "    <tr>\n",
       "      <th>user_id</th>\n",
       "      <th>month</th>\n",
       "      <th></th>\n",
       "      <th></th>\n",
       "      <th></th>\n",
       "      <th></th>\n",
       "      <th></th>\n",
       "      <th></th>\n",
       "      <th></th>\n",
       "    </tr>\n",
       "  </thead>\n",
       "  <tbody>\n",
       "    <tr>\n",
       "      <th rowspan=\"4\" valign=\"top\">1532</th>\n",
       "      <th>8</th>\n",
       "      <td>47.0</td>\n",
       "      <td>2</td>\n",
       "      <td>8</td>\n",
       "      <td>50</td>\n",
       "      <td>0</td>\n",
       "      <td>free</td>\n",
       "      <td>476.0</td>\n",
       "    </tr>\n",
       "    <tr>\n",
       "      <th>10</th>\n",
       "      <td>21.0</td>\n",
       "      <td>1</td>\n",
       "      <td>8</td>\n",
       "      <td>50</td>\n",
       "      <td>0</td>\n",
       "      <td>free</td>\n",
       "      <td>218.0</td>\n",
       "    </tr>\n",
       "    <tr>\n",
       "      <th>11</th>\n",
       "      <td>60.0</td>\n",
       "      <td>4</td>\n",
       "      <td>8</td>\n",
       "      <td>50</td>\n",
       "      <td>0</td>\n",
       "      <td>free</td>\n",
       "      <td>680.0</td>\n",
       "    </tr>\n",
       "    <tr>\n",
       "      <th>12</th>\n",
       "      <td>42.0</td>\n",
       "      <td>2</td>\n",
       "      <td>8</td>\n",
       "      <td>50</td>\n",
       "      <td>0</td>\n",
       "      <td>free</td>\n",
       "      <td>436.0</td>\n",
       "    </tr>\n",
       "    <tr>\n",
       "      <th rowspan=\"8\" valign=\"top\">1533</th>\n",
       "      <th>1</th>\n",
       "      <td>21.0</td>\n",
       "      <td>1</td>\n",
       "      <td>8</td>\n",
       "      <td>50</td>\n",
       "      <td>0</td>\n",
       "      <td>free</td>\n",
       "      <td>218.0</td>\n",
       "    </tr>\n",
       "    <tr>\n",
       "      <th>2</th>\n",
       "      <td>11.0</td>\n",
       "      <td>1</td>\n",
       "      <td>8</td>\n",
       "      <td>50</td>\n",
       "      <td>0</td>\n",
       "      <td>free</td>\n",
       "      <td>138.0</td>\n",
       "    </tr>\n",
       "    <tr>\n",
       "      <th>3</th>\n",
       "      <td>93.0</td>\n",
       "      <td>4</td>\n",
       "      <td>8</td>\n",
       "      <td>50</td>\n",
       "      <td>0</td>\n",
       "      <td>free</td>\n",
       "      <td>944.0</td>\n",
       "    </tr>\n",
       "    <tr>\n",
       "      <th>4</th>\n",
       "      <td>18.0</td>\n",
       "      <td>1</td>\n",
       "      <td>8</td>\n",
       "      <td>50</td>\n",
       "      <td>0</td>\n",
       "      <td>free</td>\n",
       "      <td>194.0</td>\n",
       "    </tr>\n",
       "    <tr>\n",
       "      <th>6</th>\n",
       "      <td>7.0</td>\n",
       "      <td>1</td>\n",
       "      <td>8</td>\n",
       "      <td>50</td>\n",
       "      <td>0</td>\n",
       "      <td>free</td>\n",
       "      <td>106.0</td>\n",
       "    </tr>\n",
       "    <tr>\n",
       "      <th>7</th>\n",
       "      <td>48.0</td>\n",
       "      <td>3</td>\n",
       "      <td>8</td>\n",
       "      <td>50</td>\n",
       "      <td>0</td>\n",
       "      <td>free</td>\n",
       "      <td>534.0</td>\n",
       "    </tr>\n",
       "    <tr>\n",
       "      <th>8</th>\n",
       "      <td>22.0</td>\n",
       "      <td>1</td>\n",
       "      <td>8</td>\n",
       "      <td>50</td>\n",
       "      <td>0</td>\n",
       "      <td>free</td>\n",
       "      <td>226.0</td>\n",
       "    </tr>\n",
       "    <tr>\n",
       "      <th>11</th>\n",
       "      <td>26.0</td>\n",
       "      <td>1</td>\n",
       "      <td>8</td>\n",
       "      <td>50</td>\n",
       "      <td>0</td>\n",
       "      <td>free</td>\n",
       "      <td>258.0</td>\n",
       "    </tr>\n",
       "    <tr>\n",
       "      <th rowspan=\"8\" valign=\"top\">1534</th>\n",
       "      <th>1</th>\n",
       "      <td>16.0</td>\n",
       "      <td>1</td>\n",
       "      <td>8</td>\n",
       "      <td>50</td>\n",
       "      <td>0</td>\n",
       "      <td>free</td>\n",
       "      <td>178.0</td>\n",
       "    </tr>\n",
       "    <tr>\n",
       "      <th>2</th>\n",
       "      <td>14.0</td>\n",
       "      <td>1</td>\n",
       "      <td>8</td>\n",
       "      <td>50</td>\n",
       "      <td>0</td>\n",
       "      <td>free</td>\n",
       "      <td>162.0</td>\n",
       "    </tr>\n",
       "    <tr>\n",
       "      <th>4</th>\n",
       "      <td>15.0</td>\n",
       "      <td>1</td>\n",
       "      <td>8</td>\n",
       "      <td>50</td>\n",
       "      <td>0</td>\n",
       "      <td>free</td>\n",
       "      <td>170.0</td>\n",
       "    </tr>\n",
       "    <tr>\n",
       "      <th>6</th>\n",
       "      <td>26.0</td>\n",
       "      <td>2</td>\n",
       "      <td>8</td>\n",
       "      <td>50</td>\n",
       "      <td>0</td>\n",
       "      <td>free</td>\n",
       "      <td>308.0</td>\n",
       "    </tr>\n",
       "    <tr>\n",
       "      <th>8</th>\n",
       "      <td>48.0</td>\n",
       "      <td>2</td>\n",
       "      <td>8</td>\n",
       "      <td>50</td>\n",
       "      <td>0</td>\n",
       "      <td>free</td>\n",
       "      <td>484.0</td>\n",
       "    </tr>\n",
       "    <tr>\n",
       "      <th>9</th>\n",
       "      <td>23.0</td>\n",
       "      <td>1</td>\n",
       "      <td>8</td>\n",
       "      <td>50</td>\n",
       "      <td>0</td>\n",
       "      <td>free</td>\n",
       "      <td>234.0</td>\n",
       "    </tr>\n",
       "    <tr>\n",
       "      <th>11</th>\n",
       "      <td>78.0</td>\n",
       "      <td>4</td>\n",
       "      <td>8</td>\n",
       "      <td>50</td>\n",
       "      <td>0</td>\n",
       "      <td>free</td>\n",
       "      <td>824.0</td>\n",
       "    </tr>\n",
       "    <tr>\n",
       "      <th>12</th>\n",
       "      <td>16.0</td>\n",
       "      <td>1</td>\n",
       "      <td>8</td>\n",
       "      <td>50</td>\n",
       "      <td>0</td>\n",
       "      <td>free</td>\n",
       "      <td>178.0</td>\n",
       "    </tr>\n",
       "  </tbody>\n",
       "</table>\n",
       "</div>"
      ],
      "text/plain": [
       "               total_duration  trips_number  minute_price  start_ride_price  \\\n",
       "user_id month                                                                 \n",
       "1532    8                47.0             2             8                50   \n",
       "        10               21.0             1             8                50   \n",
       "        11               60.0             4             8                50   \n",
       "        12               42.0             2             8                50   \n",
       "1533    1                21.0             1             8                50   \n",
       "        2                11.0             1             8                50   \n",
       "        3                93.0             4             8                50   \n",
       "        4                18.0             1             8                50   \n",
       "        6                 7.0             1             8                50   \n",
       "        7                48.0             3             8                50   \n",
       "        8                22.0             1             8                50   \n",
       "        11               26.0             1             8                50   \n",
       "1534    1                16.0             1             8                50   \n",
       "        2                14.0             1             8                50   \n",
       "        4                15.0             1             8                50   \n",
       "        6                26.0             2             8                50   \n",
       "        8                48.0             2             8                50   \n",
       "        9                23.0             1             8                50   \n",
       "        11               78.0             4             8                50   \n",
       "        12               16.0             1             8                50   \n",
       "\n",
       "               subscription_fee subscription_type  revenue  \n",
       "user_id month                                               \n",
       "1532    8                     0              free    476.0  \n",
       "        10                    0              free    218.0  \n",
       "        11                    0              free    680.0  \n",
       "        12                    0              free    436.0  \n",
       "1533    1                     0              free    218.0  \n",
       "        2                     0              free    138.0  \n",
       "        3                     0              free    944.0  \n",
       "        4                     0              free    194.0  \n",
       "        6                     0              free    106.0  \n",
       "        7                     0              free    534.0  \n",
       "        8                     0              free    226.0  \n",
       "        11                    0              free    258.0  \n",
       "1534    1                     0              free    178.0  \n",
       "        2                     0              free    162.0  \n",
       "        4                     0              free    170.0  \n",
       "        6                     0              free    308.0  \n",
       "        8                     0              free    484.0  \n",
       "        9                     0              free    234.0  \n",
       "        11                    0              free    824.0  \n",
       "        12                    0              free    178.0  "
      ]
     },
     "execution_count": 55,
     "metadata": {},
     "output_type": "execute_result"
    }
   ],
   "source": [
    "data_grouped.tail(20)"
   ]
  },
  {
   "cell_type": "markdown",
   "id": "05f8ccc5",
   "metadata": {},
   "source": [
    "**Расчет годовой выручки**"
   ]
  },
  {
   "cell_type": "markdown",
   "id": "91890e44",
   "metadata": {},
   "source": [
    "Рассчитаем общую годовую выручку"
   ]
  },
  {
   "cell_type": "code",
   "execution_count": 56,
   "id": "ea7d0b33",
   "metadata": {},
   "outputs": [
    {
     "data": {
      "text/plain": [
       "3878641.0"
      ]
     },
     "execution_count": 56,
     "metadata": {},
     "output_type": "execute_result"
    }
   ],
   "source": [
    "total_revenue = data_grouped.revenue.sum()\n",
    "total_revenue"
   ]
  },
  {
   "cell_type": "markdown",
   "id": "bc2205f8",
   "metadata": {},
   "source": [
    "Рассчитаем показатели суммарной годовой выручки для пользователей с подпиской и без подписки. Методом `query()` выполним срезы данных, зная, что у пользователей с подпиской в столбце `subscription_fee` стоит значение 199, а у пользователей без подписки значение 0"
   ]
  },
  {
   "cell_type": "code",
   "execution_count": 57,
   "id": "c59142bf",
   "metadata": {},
   "outputs": [
    {
     "name": "stdout",
     "output_type": "stream",
     "text": [
      "Годовая выручка от пользователей без подписки 2234104.0\n",
      "Годовая выручка от пользователей с подпиской 1644537.0\n"
     ]
    },
    {
     "data": {
      "text/plain": [
       "True"
      ]
     },
     "execution_count": 57,
     "metadata": {},
     "output_type": "execute_result"
    }
   ],
   "source": [
    "total_revenue_free = data_grouped.query('subscription_fee == 0').revenue.sum()\n",
    "total_revenue_ultra = data_grouped.query('subscription_fee == 199').revenue.sum()\n",
    "print('Годовая выручка от пользователей без подписки', total_revenue_free)\n",
    "print('Годовая выручка от пользователей с подпиской', total_revenue_ultra)\n",
    "\n",
    "total_revenue_free + total_revenue_ultra == total_revenue"
   ]
  },
  {
   "cell_type": "markdown",
   "id": "70c32681",
   "metadata": {},
   "source": [
    "**Расчет среднемесячной выручки среднего пользователя для каждого тарифа**"
   ]
  },
  {
   "cell_type": "code",
   "execution_count": 58,
   "id": "7bf53f50",
   "metadata": {},
   "outputs": [
    {
     "data": {
      "text/plain": [
       "342.3"
      ]
     },
     "execution_count": 58,
     "metadata": {},
     "output_type": "execute_result"
    }
   ],
   "source": [
    "month_revenue = data_grouped['revenue'].sum() / len(data_grouped)\n",
    "month_revenue.round(2)"
   ]
  },
  {
   "cell_type": "code",
   "execution_count": 59,
   "id": "6f8662c8",
   "metadata": {},
   "outputs": [
    {
     "data": {
      "text/plain": [
       "328.64"
      ]
     },
     "execution_count": 59,
     "metadata": {},
     "output_type": "execute_result"
    }
   ],
   "source": [
    "month_revenue_free = data_grouped.query('subscription_fee == 0').revenue.sum() / len(data_grouped.query('subscription_fee == 0'))\n",
    "month_revenue_free.round(2)"
   ]
  },
  {
   "cell_type": "code",
   "execution_count": 60,
   "id": "5d733b23",
   "metadata": {},
   "outputs": [
    {
     "data": {
      "text/plain": [
       "362.79"
      ]
     },
     "execution_count": 60,
     "metadata": {},
     "output_type": "execute_result"
    }
   ],
   "source": [
    "month_revenue_ultra = data_grouped.query('subscription_fee == 199').revenue.sum() / len(data_grouped.query('subscription_fee == 199'))\n",
    "month_revenue_ultra.round(2)"
   ]
  },
  {
   "cell_type": "markdown",
   "id": "a1e090e4",
   "metadata": {},
   "source": [
    "**Вывод.** Мною сгруппированы данные по пользователям и месяцам и рассчитана помесячная выручка по каждому пользователю. Общая выручка составила `3878641.0` рублей. Годовая выручка от клиентов без подписки выше, чем от клиентов с подпиской (`2234104` и `1644537` руб. соответственно).  \n",
    "Среднемесячная выручка среднего пользователя составила `342.30` руб. Среднемесячная выручка пользователя без подписки составила `328.64` руб., с подпиской - `362.79` руб."
   ]
  },
  {
   "cell_type": "markdown",
   "id": "56c1cf77",
   "metadata": {},
   "source": [
    "# Шаг 6. Проверка гипотез"
   ]
  },
  {
   "cell_type": "markdown",
   "id": "2451d311",
   "metadata": {},
   "source": [
    "Продакт-менеджеры сервиса хотят увеличить количество пользователей с подпиской. Для этого они будут проводить различные акции. Но сначала нужно выяснить несколько важных моментов."
   ]
  },
  {
   "cell_type": "markdown",
   "id": "85f7e29c",
   "metadata": {},
   "source": [
    "**Время, затрачиваемое на поездки**"
   ]
  },
  {
   "cell_type": "markdown",
   "id": "2856c77b",
   "metadata": {},
   "source": [
    "Важно понять, тратят ли пользователи с подпиской больше времени на поездки. Если да, то пользователи с подпиской могут быть \"выгоднее\" для компании.\n",
    "\n",
    "Сформулируем нулевую гипотезу: Н<sub>0</sub>: средняя продолжительность одной сессии для пользователей с подпиской равна средней продолжительности сессии пользователей без подписки. Альтернативная гипотеза Н<sub>1</sub>: средняя продолжительность сессии пользователей с подпиской больше средней продолжительности сессии пользователей без подписки.\n",
    "\n",
    "Для анализа используем данные столбца `duration` из датафреймов `data_ultra` и `data_free`."
   ]
  },
  {
   "cell_type": "markdown",
   "id": "0ef66867",
   "metadata": {},
   "source": [
    "Имеются две выборки, взятые независимо друг от друга из двух генеральных совокупностей"
   ]
  },
  {
   "cell_type": "code",
   "execution_count": 61,
   "id": "f7787e3f",
   "metadata": {},
   "outputs": [],
   "source": [
    "duration_ultra = data_ultra['duration']\n",
    "duration_free = data_free['duration']"
   ]
  },
  {
   "cell_type": "markdown",
   "id": "4e3c648a",
   "metadata": {},
   "source": [
    "Найдём выборочные средние"
   ]
  },
  {
   "cell_type": "code",
   "execution_count": 62,
   "id": "6eda27e3",
   "metadata": {},
   "outputs": [
    {
     "name": "stdout",
     "output_type": "stream",
     "text": [
      "Среднее для пользователей с подпиской: 18.54198516280583\n",
      "Среднее для пользователей без подписки: 17.39090929866399\n"
     ]
    }
   ],
   "source": [
    "print(f'Среднее для пользователей с подпиской: {np.mean(duration_ultra)}')\n",
    "print(f'Среднее для пользователей без подписки: {np.mean(duration_free)}')"
   ]
  },
  {
   "cell_type": "markdown",
   "id": "a5eaf5b6",
   "metadata": {},
   "source": [
    "Для проверки гипотезы о равенстве средних двух генеральных совокупностей применяем метод `scipy.stats.ttest_ind`. Аргументами метода являются две выборки `duration_ultra` и `duration_free`. Полагаем, что дисперсии генеральных совокупностей равны, поэтому агрумент `equal_var` не указываем.Так как альтернативная гипотеза правосторонняя, указываем аргумент `alternative='greater'`"
   ]
  },
  {
   "cell_type": "code",
   "execution_count": 63,
   "id": "485d14ec",
   "metadata": {},
   "outputs": [],
   "source": [
    "alpha = 0.05\n",
    "results = st.ttest_ind(\n",
    "    duration_ultra,\n",
    "    duration_free,\n",
    "    alternative='greater'\n",
    ")"
   ]
  },
  {
   "cell_type": "markdown",
   "id": "df2f9513",
   "metadata": {},
   "source": [
    "Выведем полученное p-value и сделаем вывод об отвержении или неотвержении нулевой гипотезы"
   ]
  },
  {
   "cell_type": "code",
   "execution_count": 64,
   "id": "e7766328",
   "metadata": {},
   "outputs": [
    {
     "name": "stdout",
     "output_type": "stream",
     "text": [
      "p-значение: 1.2804098316645618e-34\n",
      "Отвергаем нулевую гипотезу\n"
     ]
    }
   ],
   "source": [
    "print('p-значение:', results.pvalue)\n",
    "if results.pvalue < alpha:\n",
    "    print('Отвергаем нулевую гипотезу')\n",
    "else:\n",
    "    print('Не получилось отвергнуть нулевую гипотезу')"
   ]
  },
  {
   "cell_type": "markdown",
   "id": "6de50316",
   "metadata": {},
   "source": [
    "Полученное значение p_value очень мало, близко к нулю. Такое значение говорит о том, что хоть различие средней продолжительности сессии для пользователей с подпиской и без подписки небольшое, вероятность получить такое различие случайно практически нулевая, то есть имеет место значимое различие между средними сессиями. Есть основания отвергнуть нулевую гипотезу о равенстве средних сессий.\n",
    "Таким образом, нулевая гипотеза о равенстве времени, затрачиваемого на поездки пользователями с подпиской и без подписки, отвергнута при уровне статистической значимости, равном 5 %. Она была бы отвергнута и при уровне статистической значимости 1 %. Можно сделать вывод, что среднее время, затрачиваемое на поездки пользователями с подпиской, в генеральной совокупности больше, чем среднее время, затрачиваемое на поездки пользователями без подписки.\n",
    "\n",
    "**Вывод**: Судя по продолжительности поездок, пользователи с подпиской \"выгоднее\" для компании, чем пользователи без подписки."
   ]
  },
  {
   "cell_type": "markdown",
   "id": "7d1545a5",
   "metadata": {},
   "source": [
    "**Расстояние одной поездки**"
   ]
  },
  {
   "cell_type": "markdown",
   "id": "85f80723",
   "metadata": {},
   "source": [
    "Расстояние одной поездки в 3130 метров - оптимальное с точки зрения износа самоката. Можно ли сказать, что расстояние, которое проезжают пользователи с подпиской за одну поездку, не превышает 3130 метров?\n",
    "\n",
    "Сформулируем нулевую гипотезу Н<sub>0</sub>: расстояние, которое проезжают пользователи с подпиской за одну поездку, равно 3130 метров. Альтернативная гипотеза Н<sub>1</sub>: расстояние, которое проезжают пользователи с подпиской за одну поездку, больше 3130 метров.\n",
    "\n",
    "Для анализа используем данные столбца `distance` из датафрейма `data_ultra`."
   ]
  },
  {
   "cell_type": "code",
   "execution_count": 65,
   "id": "880bd44c",
   "metadata": {},
   "outputs": [
    {
     "name": "stdout",
     "output_type": "stream",
     "text": [
      "Среднее расстояние одной поездки: 3115.4453880370247\n"
     ]
    }
   ],
   "source": [
    "distance = data_ultra['distance']\n",
    "\n",
    "print('Среднее расстояние одной поездки:', distance.mean())"
   ]
  },
  {
   "cell_type": "markdown",
   "id": "e640de53",
   "metadata": {},
   "source": [
    "Предположенное в нулевой гипотезе число. С  помощью теста проверяется гипотеза о том, что этому числу равно истинное среднее генеральной совокупности, из которой взята выборка (расстояние одной поездки пользователей с подпиской)\n",
    "<br>\n",
    "Для проверки гипотезы о равенстве среднего значения генеральной совокупности заданному значению применяем метод `scipy.stats.ttest_1samp`. Аргументами метода являются выборка `distance` и предполагаемое среднее 3130.Так как альтернативная гипотеза правосторонняя, указываем аргумент `alternative='greater'`"
   ]
  },
  {
   "cell_type": "code",
   "execution_count": 66,
   "id": "48d51508",
   "metadata": {},
   "outputs": [
    {
     "name": "stdout",
     "output_type": "stream",
     "text": [
      "p-значение: 0.9195368847849785\n",
      "Не отвергаем нулевую гипотезу\n"
     ]
    }
   ],
   "source": [
    "value = 3130\n",
    "alpha = 0.05\n",
    "\n",
    "results = st.ttest_1samp(\n",
    "    distance, 3130,\n",
    "    alternative='greater'\n",
    ")\n",
    "\n",
    "print('p-значение:', results.pvalue)\n",
    "\n",
    "if results.pvalue < alpha:\n",
    "    print('Отвергаем нулевую гипотезу')\n",
    "else:\n",
    "    print('Не отвергаем нулевую гипотезу')"
   ]
  },
  {
   "cell_type": "markdown",
   "id": "8334eb41",
   "metadata": {},
   "source": [
    "Выборочное среднее равно 3115.4453880370247, это меньше заданного значения 3130. Кроме того, `p-value` больше выбранного уровня статистической значимости. Поэтому нет оснований отвергуть нулевую гипотезу. Можно сделать вывод, что истинное среднее генеральной совокупности, из которой выборка взята, не превышает значение 3130. Таким образом, расстояние, которое проезжают пользователи с подпиской за одну поездку, в среднем не превышают оптимальное с точки зрения износа самоката расстояние в 3130 метров.\n",
    "\n",
    "**Вывод**: Судя по расстоянию одной поездки, пользователи с подпиской не увеличивают износ самоката, так как расстояние одной поездки не превышает оптимальное с точки зрения износа самоката расстояние."
   ]
  },
  {
   "cell_type": "markdown",
   "id": "3cb2010d",
   "metadata": {},
   "source": [
    "**Помесячная выручка**"
   ]
  },
  {
   "cell_type": "markdown",
   "id": "5bb0f358",
   "metadata": {},
   "source": [
    "Проверим гипотезу о том, будет ли помесячная выручка от пользователей с подпиской по месяцам выше, чем выручка от пользователей без подписки.\n",
    "\n",
    "Сформулируем нулевую гипотезу Н<sub>0</sub>: средняя выручка за месяц от пользователей с подпиской равна средней выручке за месяц от пользователей без подписки. Альтернативная гипотеза Н<sub>1</sub>: средняя выручка за месяц от пользователей с подпиской выше, чем средняя выручка за месяц от пользователей без подписки.\n",
    "\n",
    "Для анализа используем данные столбца `revenue` датафрейма `data_grouped`. Для формирования выборок необходимо сделать срезы по пользователям с подпиской и без подписки."
   ]
  },
  {
   "cell_type": "markdown",
   "id": "9bb23de5",
   "metadata": {},
   "source": [
    "Для проверки гипотезы о равенстве средних двух генеральных совокупностей применяем метод `scipy.stats.ttest_ind`.Аргументами метода являются две выборки `revenue_ultra` и `revenue_free`.Полагаем, что дисперсии генеральных совокупностей равны, поэтому агрумент `equal_var` не указываем.Так как альтернативная гипотеза правосторонняя, указываем аргумент `alternative='greater`. Затем выведем полученное p-value и сделаем ывод об отвержении или неотвержении нулевой гипотезы"
   ]
  },
  {
   "cell_type": "code",
   "execution_count": 67,
   "id": "8e128d0b",
   "metadata": {},
   "outputs": [
    {
     "name": "stdout",
     "output_type": "stream",
     "text": [
      "Среднее для пользователей с подпиской: 362.79\n",
      "Среднее для пользователей без подписки: 328.64\n",
      "p-значение: 1.8850394384715216e-31\n",
      "Отвергаем нулевую гипотезу\n"
     ]
    }
   ],
   "source": [
    "revenue_ultra = data_grouped.query('user_id in@data_ultra.user_id')['revenue']\n",
    "revenue_free = data_grouped.query('user_id in@data_free.user_id')['revenue']\n",
    "\n",
    "print(f'Среднее для пользователей с подпиской: {np.mean(revenue_ultra).round(2)}')\n",
    "print(f'Среднее для пользователей без подписки: {np.mean(revenue_free).round(2)}')\n",
    "\n",
    "alpha = 0.05\n",
    "\n",
    "results = st.ttest_ind(\n",
    "    revenue_ultra,\n",
    "    revenue_free,\n",
    "    alternative='greater'\n",
    ")\n",
    "\n",
    "print('p-значение:', results.pvalue)\n",
    "\n",
    "if results.pvalue < alpha:\n",
    "    print('Отвергаем нулевую гипотезу')\n",
    "else:\n",
    "    print('Не получилось отвергнуть нулевую гипотезу')"
   ]
  },
  {
   "cell_type": "markdown",
   "id": "31f8dfac",
   "metadata": {},
   "source": [
    "Нулевая гипотеза о равенстве помесячной выручки от пользователей с подпиской и без подписки, отвергнута при уровне статистической значимости, равном 5 %. Она была бы отвергнута и при уровне статистической значимости 1 %. Можно сделать вывод, что средняя выручка за месяц от пользователей с подпиской, в генеральной совокупности выше, чем средняя выручка за месяц от пользователей без подписки."
   ]
  },
  {
   "cell_type": "markdown",
   "id": "25957071",
   "metadata": {},
   "source": [
    "**Вывод**: Судя по выручке за месяц, пользователи с подпиской \"выгоднее\" для компании, так как помесячная выручка от них в среднем выше, чем от пользователей без подписки."
   ]
  },
  {
   "cell_type": "markdown",
   "id": "c422e6e6",
   "metadata": {},
   "source": [
    "**Обновление серверов**"
   ]
  },
  {
   "cell_type": "markdown",
   "id": "b8304956",
   "metadata": {},
   "source": [
    "Представим такую ситуацию: техническая команда сервиса обновила сервера, с которыми взаимодействует мобильное приложение. Она надеется, что из-за этого количество обращений в техподдержку значимо снизилось. Некоторый файл содержит для каждого пользователя данные о количестве обращений до обновления и после него. Какой тест вам понадобился бы для проверки этой гипотезы?\n",
    "\n",
    "В данном случае имеются две зависимые (парные) выборки. Проверяется гипотеза о равенстве среднего значения генеральной совокупности до и после изменения. Для проверки гипотезы нужно использовать метод `scipy.stats.ttest_rel`. Аргументы этого метода - парные выборки до и после изменения.  \n",
    "\n",
    "В качестве нулевой гипотезы указываем: среднее значение до и после изменения равны. В качестве альтернативной гипотезы берём: среднее значение до изменения больше, чем после изменения. То есть проверяем одностороннюю гипотезу, в данном случае правостороннюю."
   ]
  },
  {
   "cell_type": "markdown",
   "id": "79de62b1",
   "metadata": {},
   "source": [
    "# Шаг 7. Распределения"
   ]
  },
  {
   "cell_type": "markdown",
   "id": "80d778a5",
   "metadata": {},
   "source": [
    "**Акция с раздачей промокодов**"
   ]
  },
  {
   "cell_type": "markdown",
   "id": "bad6bda7",
   "metadata": {},
   "source": [
    "Отделу маркетинга GoFast поставили задачу: нужно провести акцию с раздачей промокодов на один бесплатный месяц подписки, в рамках которой как минимум 100 существующих клиентов должны продлить эту подписку. То есть по завершении периода действия подписки пользователь может либо отказаться от неё, либо продлить, совершив соответствующий платёж.\n",
    "\n",
    "Эта акция уже проводилась ранее и по итогу выяснилось, что после бесплатного пробного периода подписку продлевают 10 % пользователей. Необходимо выяснить, какое минимальное количество промокодов нужно разослать, чтобы вероятность не выполнить план была примерно 5 %. Необходимо подобрать параметры распределения, описывающего эту ситуацию, построить график распределения и сформулировать ответ на вопрос о количестве промокодов."
   ]
  },
  {
   "cell_type": "markdown",
   "id": "617ba8d1",
   "metadata": {},
   "source": [
    "Разберёмся.  \n",
    "\n",
    "Случайная величина - количество продлений подписки после пробного периода - распределена биномиально, так как:\n",
    "- проводится фиксированное число попыток `n`;\n",
    "- каждая попытка - простой эксперимент Бернулли ровно с двумя исходами (продление или непродление подписки);\n",
    "- вероятность успеха `p = 0.1` одинакова для всех `n` попыток;\n",
    "- попытки независимы между собой.\n",
    "\n",
    "Чтобы определить биномиальное распределение, нужны два параметра: количество попыток `n` и вероятность успеха `p`. Количество попыток нам неизвестно. Математическое ожидание рассчитывается как `n * p`, а дисперсия `n * p * (1-p)`.\n",
    "\n",
    "Если должны продлить подписку 100 существующих клиентов (математическое ожидание), а вероятность продления 0.1, то параметр `n` можно найти как `100 / 0.1 = 1000`. Построим распределение вероятностей и гистограмму для случайной величины `количество продлений` , если раздали 1000 промокодов."
   ]
  },
  {
   "cell_type": "code",
   "execution_count": 68,
   "id": "761c9a0e",
   "metadata": {},
   "outputs": [
    {
     "data": {
      "image/png": "[encoded data removed]",
      "text/plain": [
       "<Figure size 432x288 with 1 Axes>"
      ]
     },
     "metadata": {
      "needs_background": "light"
     },
     "output_type": "display_data"
    }
   ],
   "source": [
    "p = 0.1\n",
    "n = 1000\n",
    "\n",
    "distr = []\n",
    "\n",
    "for k in range(0, n + 1):\n",
    "    choose = factorial(n) / (factorial(k) * factorial(n - k))\n",
    "    prob = choose * p**k * (1 - p)**(n - k) \n",
    "    distr.append(prob)\n",
    "\n",
    "plt.figure(figsize=(6, 4))\n",
    "plt.bar(range(0, n+1), distr)\n",
    "plt.xlim(0, 200)\n",
    "plt.title('Биномиальное распределение (n=1000)', fontsize=18)\n",
    "plt.xlabel('Значения')\n",
    "plt.ylabel('Вероятности')\n",
    "plt.grid(True)\n",
    "plt.show()"
   ]
  },
  {
   "cell_type": "markdown",
   "id": "3f521948",
   "metadata": {},
   "source": [
    "Действительно, 100 - самое вероятное значение. Однако на гистограмме видно, что примерно половина всего распределения находится в диапазоне меньше 100.  \n",
    "\n",
    "100 существующих клиентов должны продлить подписку. Т.е. мы ищем `X` - количество промокодов, которые мы раздадим, чтобы сохранить 100 клиентов.  \n",
    "\n",
    "Вероятность не выполнить план должна быть примерно 5 %. То есть вероятность успеха нашей акции должна быть `1 - 0.05 = 0.95`, т.е. 95 %. \n",
    "\n",
    "Наш план будет иметь свою вероятность успеха при разном количестве `X`, чем больше `X`, тем больше вероятность. Но, увеличивая количество промокодов, мы увеличиваем трудозатраты, финансовые затраты и т.д. Поэтому нас устроит вероятность успеха 95 %, для которой и предстоит рассчитать количество промокодов `X`.  \n",
    "\n",
    "Задача делится на две части:  \n",
    "1) число положительных исходов должно быть равно 100,\n",
    "2) вероятность такого события должна быть равна 95 %.\n",
    "\n",
    "У нас требуемое значение 100 или больше. Кумулятивная функция распределения - это функция, которая показывает вероятность того, что случайная величина будет меньше или равна некоторому значению. За это значение принимаем 99. Тогда мы из `1` вычитаем вероятность получить значение меньше или равно 99, это и будет вероятность получить значение 100 или больше.\n",
    "\n",
    "Посмотрим, каковы вероятности, что продлят подписку 100 или больше пользователей при разных количествах розданных промокодов."
   ]
  },
  {
   "cell_type": "code",
   "execution_count": 69,
   "id": "1e9aa8a7",
   "metadata": {},
   "outputs": [
    {
     "name": "stdout",
     "output_type": "stream",
     "text": [
      "i: (1, 100)\tprobability: 0.0\n",
      "i: (2, 200)\tprobability: 0.0\n",
      "i: (3, 300)\tprobability: 0.0\n",
      "i: (4, 400)\tprobability: 0.0\n",
      "i: (5, 500)\tprobability: 0.0\n",
      "i: (6, 600)\tprobability: 0.0\n",
      "i: (7, 700)\tprobability: 0.0\n",
      "i: (8, 800)\tprobability: 0.013\n",
      "i: (9, 900)\tprobability: 0.146\n",
      "i: (10, 1000)\tprobability: 0.515\n",
      "i: (11, 1100)\tprobability: 0.855\n",
      "i: (12, 1200)\tprobability: 0.978\n",
      "i: (13, 1300)\tprobability: 0.998\n",
      "i: (14, 1400)\tprobability: 1.0\n"
     ]
    }
   ],
   "source": [
    "for i in range (1, 15):\n",
    "    # число розданных промокодов\n",
    "    trials = 100 * i\n",
    "    print(f\"i: {i, trials}\\tprobability: {(1 - st.binom.cdf(99, trials, 0.1)).round(3)}\")"
   ]
  },
  {
   "cell_type": "markdown",
   "id": "2cabb94b",
   "metadata": {},
   "source": [
    "Искомое количество промокодов находится где-то в промежутке между 1100 и 1200.  \n",
    "Опять используем метод `binom.cdf()` в цикле."
   ]
  },
  {
   "cell_type": "code",
   "execution_count": 70,
   "id": "4e44b09a",
   "metadata": {},
   "outputs": [
    {
     "name": "stdout",
     "output_type": "stream",
     "text": [
      "1161\n"
     ]
    }
   ],
   "source": [
    "for n in range(1100, 1200):\n",
    "    if (1 - st.binom.cdf(99, n, 0.1)) > 0.95:\n",
    "        break\n",
    "    \n",
    "print(n)  "
   ]
  },
  {
   "cell_type": "code",
   "execution_count": 71,
   "id": "b33bd53e",
   "metadata": {},
   "outputs": [
    {
     "name": "stderr",
     "output_type": "stream",
     "text": [
      "/opt/conda/lib/python3.9/site-packages/scipy/stats/_discrete_distns.py:78: RuntimeWarning: divide by zero encountered in _binom_pdf\n",
      "  return _boost._binom_pdf(x, n, p)\n"
     ]
    },
    {
     "data": {
      "image/png": "[encoded data removed]",
      "text/plain": [
       "<Figure size 432x288 with 1 Axes>"
      ]
     },
     "metadata": {
      "needs_background": "light"
     },
     "output_type": "display_data"
    }
   ],
   "source": [
    "#Задаем параметры\n",
    "n = 1161\n",
    "p = 0.1\n",
    "\n",
    "distr = []\n",
    "\n",
    "for k in range(0, n + 1):\n",
    "    try:\n",
    "        current_value = binom.pmf(k, n, p)\n",
    "        distr.append(current_value)\n",
    "    except:\n",
    "        pass\n",
    "\n",
    "plt.figure(figsize=(6, 4))\n",
    "plt.bar(range(0, n+1), distr)\n",
    "plt.xlim(0, 200)\n",
    "plt.title('Биномиальное распределение (n=1161)', fontsize=18)\n",
    "plt.xlabel('Значения')\n",
    "plt.ylabel('Вероятности')\n",
    "plt.grid(True)\n",
    "plt.show()"
   ]
  },
  {
   "cell_type": "markdown",
   "id": "1d7373a1",
   "metadata": {},
   "source": [
    "Действительно, на графике видно, что меньше значения 100 примерно 5 % площади, занимаемой столбцами диаграммы."
   ]
  },
  {
   "cell_type": "markdown",
   "id": "c10ee75f",
   "metadata": {},
   "source": [
    "**Вывод.** Чтобы с вероятностью примерно 5 % как минимум 100 существующих клиентов продлили подписку после месяца использования промокода, нужно в рамках акции раздать более 1161 промокодов."
   ]
  },
  {
   "cell_type": "markdown",
   "id": "18b214eb",
   "metadata": {},
   "source": [
    "**Рассылка push-уведомлений**"
   ]
  },
  {
   "cell_type": "markdown",
   "id": "b459e921",
   "metadata": {},
   "source": [
    "Известно, что уведомления открывают около 40 % получивших клиентов. Отдел планирует разослать 1 млн. уведомлений. С помощью аппроксимации построим примерный график распределения и оценим вероятность того, что уведомление откроют не более 399,5 тыс. пользователей.\n",
    "\n",
    "Случайная величина - количество открытий push-сообщений - распределена биномиально, так как:\n",
    "\n",
    "- проводится фиксированное число попыток n;\n",
    "- каждая попытка - простой эксперимент Бернулли ровно с двумя исходами (открытие или неоткрытие сообщения);\n",
    "- вероятность успеха p = 0.4 одинакова для всех n попыток;\n",
    "- попытки независимы между собой.\n",
    "\n",
    "Ситуация описывается биномиальным распределением. Но считать каждое отдельное значение достаточно долго. Можно воспользоваться нормальной аппроксимацией биномиального распределения и cdf() для быстрой оценки.\n",
    "\n",
    "Значение n = 1000000 велико, а p = 0.4 близко к 0.5, поэтому форма графика биномиального распределения предполагается симметричной и близкой к графику нормального распределение. Поэтому аппроксимация биномиального распределения нормальным получится хорошей.\n",
    "\n",
    "Проверим это расчетом. Нужно найти промежуток, в котором лежат практически все отличные от нуля вероятности биномиального распределения: математическое ожидание плюс-минус три стандартных отклонения.\n",
    "\n",
    "Математическое ожидание биномиального распределения n * p, дисперсия n * p * (1 - p)."
   ]
  },
  {
   "cell_type": "code",
   "execution_count": 72,
   "id": "49fec6f3",
   "metadata": {},
   "outputs": [
    {
     "name": "stdout",
     "output_type": "stream",
     "text": [
      "398530 401469\n"
     ]
    }
   ],
   "source": [
    "n = 1000000\n",
    "p = 0.4\n",
    "left = int(n * p - 3 * sqrt(n * p * (1 - p)))\n",
    "right = int(n * p + 3 * sqrt(n * p * (1 - p)))\n",
    "print(left, right)"
   ]
  },
  {
   "cell_type": "markdown",
   "id": "6ba346e4",
   "metadata": {},
   "source": [
    "Промежуток, в котором лежат практически все отличные от нуля вероятности биномиального распределения, лежит внутри промежутка значений, на которых определено биномиальное распределение (от нуля до n).  Биномиальное распределение достаточно симметрично, чтобы аппроксимировать его нормальным."
   ]
  },
  {
   "cell_type": "markdown",
   "id": "716dc4ac",
   "metadata": {},
   "source": [
    "Зададим функцию, которая выдаёт `num` чисел,равномерно распределённых от `start` до `stop` (понадобится для визуализации нормального распределения)\n",
    "<br>\n",
    "Зададим мат.ожидание и ст.отклонение нормального распределения равными мат.ожиданию и ст.отклонению биномиального распределения"
   ]
  },
  {
   "cell_type": "code",
   "execution_count": 73,
   "id": "b94321ca",
   "metadata": {},
   "outputs": [
    {
     "data": {
      "image/png": "[encoded data removed]",
      "text/plain": [
       "<Figure size 432x288 with 1 Axes>"
      ]
     },
     "metadata": {
      "needs_background": "light"
     },
     "output_type": "display_data"
    }
   ],
   "source": [
    "def linspace(start, stop, num):\n",
    "    step = (stop - start) / (num - 1)\n",
    "    result = []\n",
    "    for i in range(num):\n",
    "        result.append(start + step * i)\n",
    "    return result\n",
    " \n",
    "mu = n * p\n",
    "sigma = sqrt(n * p * (1 - p))\n",
    " \n",
    "x = linspace(left, right, 100)\n",
    "\n",
    "plt.plot(x, norm.pdf(x, mu, sigma))\n",
    "plt.title('Нормальное распределение', fontsize=18)\n",
    "plt.xlabel('Значения')\n",
    "plt.ylabel('Вероятности')\n",
    "plt.show()"
   ]
  },
  {
   "cell_type": "markdown",
   "id": "5842ac68",
   "metadata": {},
   "source": [
    "Зададим мат.ожидание и ст.отклонение нормального распределения равными мат.ожиданию и ст.отклонению биномиального распределения. Задаём нормальное распределение и считаем вероятность хвоста слева от 399,5 тысяч"
   ]
  },
  {
   "cell_type": "code",
   "execution_count": 74,
   "id": "2e3e3420",
   "metadata": {},
   "outputs": [
    {
     "name": "stdout",
     "output_type": "stream",
     "text": [
      "0.1537\n"
     ]
    }
   ],
   "source": [
    "mu = n * p\n",
    "sigma = sqrt(n * p * (1 - p))\n",
    "\n",
    "distr = st.norm(mu, sigma) \n",
    "\n",
    "result = distr.cdf(399500)\n",
    "print(result.round(4))"
   ]
  },
  {
   "cell_type": "markdown",
   "id": "4341eb9f",
   "metadata": {},
   "source": [
    "**Вывод.** Вероятность того, что уведомление откроют не более 399,5 тысяч пользователей, 15,37 %."
   ]
  },
  {
   "cell_type": "markdown",
   "id": "5f104525",
   "metadata": {},
   "source": [
    "# Общий вывод"
   ]
  },
  {
   "cell_type": "markdown",
   "id": "cc54e7c2",
   "metadata": {},
   "source": [
    "Датафрейм users содержит информацию о пользователях, датафрейм rides - информацию о поездках, датафрейм subscriptions - о подписках.\n",
    "\n",
    "Для дальнейшей работы с данными мною была выполнена их предобработка: тип данных в столбце date датафрейма rides приведён к типу даты pandas, в отдельный столбец month вынесены данные о месяце, убедился в отсутствии пропущенных значений в данных, избавился от явных дубликатов и убедился в отсутствии неявных дубликатов.\n",
    "\n",
    "Наибольшее число поездок по имеющимся данным совершили пользователи в Пятигорске, Екатеринбурге, Ростове-на-Дону, а также в Краснодаре и Сочи. В Омске, Тюмени и Москве поездок меньше. Совершенно непонятно, почему столь разные города имеют разницу в числе поездок не в пользу Москвы. Однако разница такова, что не играет существенной роли для нашего исследования.\n",
    "\n",
    "Сервис используют с подпиской или без подписки. Пользователей без подписки примерно на 20 процентов больше, чем с подпиской. Самые активные пользователи сервиса - люди от 22 до 28 лет. За одну сессию чаще всего пользователи проезжают от 2,5 до 3,8 километров. Чаще всего поездка длится от 13 до 22 минут.\n",
    "\n",
    "Я объединил данные о пользователях, поездках и подписках в один датафрейм, а затем создал два датафрейма отдельно по пользователям без подписки и с подпиской. Проверка показала, что пропусков данных после объединения и разделения не появилось.\n",
    "\n",
    "Расчет средних значений показал, что пользователи с подпиской проезжают расстояния и проводят в поездках времени в среднем больше, чем пользователи без подписки. Кроме того, разброс значений по длине и времени поездок у пользователей без подписки больше, а совокупность пользователей с подпиской более однородна по этим показателям. Это указывает на то, что пользователи без подписки бывают неопытными, не всегда знают, как пользоваться приложением или самокатом, пробуют, ошибаются, учатся. Время и расстояние их поездок бывает аномально короткими, бывают чересчур длинными. А пользователи с подпиской знают что и как, взяли самокат и поехали куда планировали.\n",
    "\n",
    "Анализ данных по городам и сезонам дал странные результаты: количество поездок зимой в сибирских городах такое же, как летом. Этого быть не может. Поэтому есть повод передать эти результаты коллегам для перепроверки исходных данных.\n",
    "\n",
    "Мною сгруппированы данные по пользователям и месяцам, после группировки данные проверены на пропуски, их не обнаружено.\n",
    "\n",
    "Далее была рассчитана помесячная выручка по каждому пользователю, сведена в таблицу. Это дало возможность сделать окончательные расчёты по выручке. Общая выручка составила `3878641.0` рублей. Годовая выручка от клиентов без подписки выше, чем от клиентов с подпиской (`2234104` и `1644537` рублей соответственно. Среднемесячная выручка среднего пользователя составила 342.30 руб. Среднемесячная выручка пользователя без подписки составила 328.64 руб., с подпиской - 362.79 руб. Получается, что выручка от одного пользователя с подпиской больше, чем от пользователя без подписки. А общая выручка от пользователей с подпиской за год получилась меньше из-за того, что число пользователей с подпиской меньше, чем без подписки.\n",
    "\n",
    "Мною были сформулированы и проверены некоторые гипотезы. Среднее время, затрачиваемое на поездки пользователями с подпиской, в генеральной совокупности больше, чем среднее время, затрачиваемое на поездки пользователями без подписки. Судя по расстоянию одной поездки, пользователи с подпиской не увеличивают износ самоката, так как расстояние одной поездки не превышает оптимальное с точки зрения износа самоката расстояние. Выручка за месяц от пользователей с подпиской в среднем выше, чем от пользователей без подписки.\n",
    "\n",
    "Всё это позволило сделать вывод, что пользователи с подпиской \"выгоднее\" для компании, чем пользователи без подписки. Поэтому рекомендуется увеличивать число пользователей с подпиской.\n",
    "\n",
    "Если провести акцию с раздачей промокодов на один бесплатный месяц подписки, то чтобы с вероятностью примерно 5 % как минимум 100 существующих клиентов продлили подписку после месяца использования промокода, нужно в рамках акции раздать более 1161 промокодов.\n",
    "\n",
    "Если рассылать push-уведомления в количестве 1 миллиона, то вероятность того, что уведомление откроют не более 399,5 тысяч пользователей, составит 15,37 %."
   ]
  },
  {
   "cell_type": "code",
   "execution_count": null,
   "id": "ebace76c",
   "metadata": {},
   "outputs": [],
   "source": []
  }
 ],
 "metadata": {
  "ExecuteTimeLog": [
   {
    "duration": 1245,
    "start_time": "2025-03-20T20:07:28.190Z"
   },
   {
    "duration": 3,
    "start_time": "2025-03-20T20:07:48.670Z"
   },
   {
    "duration": 39,
    "start_time": "2025-03-20T20:11:30.057Z"
   },
   {
    "duration": 40,
    "start_time": "2025-03-20T20:11:48.778Z"
   },
   {
    "duration": 29,
    "start_time": "2025-03-20T20:12:57.105Z"
   },
   {
    "duration": 45,
    "start_time": "2025-03-20T20:13:55.739Z"
   },
   {
    "duration": 28,
    "start_time": "2025-03-20T20:14:25.711Z"
   },
   {
    "duration": 6,
    "start_time": "2025-03-20T20:20:03.287Z"
   },
   {
    "duration": 13,
    "start_time": "2025-03-20T20:20:44.979Z"
   },
   {
    "duration": 9,
    "start_time": "2025-03-20T20:22:45.836Z"
   },
   {
    "duration": 9,
    "start_time": "2025-03-20T20:23:31.143Z"
   },
   {
    "duration": 8,
    "start_time": "2025-03-20T20:23:49.203Z"
   },
   {
    "duration": 4,
    "start_time": "2025-03-20T20:24:06.258Z"
   },
   {
    "duration": 46,
    "start_time": "2025-03-21T08:49:43.156Z"
   },
   {
    "duration": 1297,
    "start_time": "2025-03-21T08:50:00.819Z"
   },
   {
    "duration": 4,
    "start_time": "2025-03-21T08:50:02.118Z"
   },
   {
    "duration": 49,
    "start_time": "2025-03-21T08:50:02.136Z"
   },
   {
    "duration": 50,
    "start_time": "2025-03-21T08:50:02.187Z"
   },
   {
    "duration": 30,
    "start_time": "2025-03-21T08:50:02.240Z"
   },
   {
    "duration": 7,
    "start_time": "2025-03-21T08:50:02.271Z"
   },
   {
    "duration": 138,
    "start_time": "2025-03-21T08:50:02.280Z"
   },
   {
    "duration": 23,
    "start_time": "2025-03-21T08:50:02.420Z"
   },
   {
    "duration": 69,
    "start_time": "2025-03-21T08:50:02.445Z"
   },
   {
    "duration": 26,
    "start_time": "2025-03-21T08:50:02.516Z"
   },
   {
    "duration": 38,
    "start_time": "2025-03-21T08:50:02.544Z"
   },
   {
    "duration": 65,
    "start_time": "2025-03-21T08:50:02.584Z"
   },
   {
    "duration": 14,
    "start_time": "2025-03-21T08:50:23.316Z"
   },
   {
    "duration": 34,
    "start_time": "2025-03-21T08:50:47.629Z"
   },
   {
    "duration": 39,
    "start_time": "2025-03-21T08:51:00.651Z"
   },
   {
    "duration": 17,
    "start_time": "2025-03-21T08:51:42.251Z"
   },
   {
    "duration": 14,
    "start_time": "2025-03-21T08:51:55.297Z"
   },
   {
    "duration": 4,
    "start_time": "2025-03-21T08:52:12.299Z"
   },
   {
    "duration": 6,
    "start_time": "2025-03-21T08:53:49.236Z"
   },
   {
    "duration": 143,
    "start_time": "2025-03-21T08:54:00.511Z"
   },
   {
    "duration": 4,
    "start_time": "2025-03-21T08:54:22.014Z"
   },
   {
    "duration": 8,
    "start_time": "2025-03-21T08:55:06.154Z"
   },
   {
    "duration": 83,
    "start_time": "2025-03-21T08:55:19.455Z"
   },
   {
    "duration": 6,
    "start_time": "2025-03-21T08:55:59.196Z"
   },
   {
    "duration": 108,
    "start_time": "2025-03-21T08:56:10.688Z"
   },
   {
    "duration": 82,
    "start_time": "2025-03-21T08:56:23.083Z"
   },
   {
    "duration": 7,
    "start_time": "2025-03-21T08:56:36.344Z"
   },
   {
    "duration": 4,
    "start_time": "2025-03-21T08:57:18.776Z"
   },
   {
    "duration": 182,
    "start_time": "2025-03-21T08:57:27.797Z"
   },
   {
    "duration": 112,
    "start_time": "2025-03-21T08:57:52.066Z"
   },
   {
    "duration": 4,
    "start_time": "2025-03-21T08:58:36.815Z"
   },
   {
    "duration": 187,
    "start_time": "2025-03-21T08:58:49.792Z"
   },
   {
    "duration": 140,
    "start_time": "2025-03-21T08:59:17.065Z"
   },
   {
    "duration": 9,
    "start_time": "2025-03-21T08:59:42.510Z"
   },
   {
    "duration": 4,
    "start_time": "2025-03-21T09:00:36.903Z"
   },
   {
    "duration": 244,
    "start_time": "2025-03-21T09:00:46.415Z"
   },
   {
    "duration": 136,
    "start_time": "2025-03-21T09:01:09.880Z"
   },
   {
    "duration": 25,
    "start_time": "2025-03-21T09:02:11.680Z"
   },
   {
    "duration": 13,
    "start_time": "2025-03-21T09:02:21.635Z"
   },
   {
    "duration": 17,
    "start_time": "2025-03-21T09:02:47.971Z"
   },
   {
    "duration": 14,
    "start_time": "2025-03-21T09:03:03.296Z"
   },
   {
    "duration": 5,
    "start_time": "2025-03-21T09:03:16.281Z"
   },
   {
    "duration": 383,
    "start_time": "2025-03-21T09:03:44.220Z"
   },
   {
    "duration": 184,
    "start_time": "2025-03-21T09:04:00.760Z"
   },
   {
    "duration": 326,
    "start_time": "2025-03-21T09:04:31.678Z"
   },
   {
    "duration": 169,
    "start_time": "2025-03-21T09:04:50.009Z"
   },
   {
    "duration": 6,
    "start_time": "2025-03-21T09:05:14.754Z"
   },
   {
    "duration": 13,
    "start_time": "2025-03-21T09:05:42.389Z"
   },
   {
    "duration": 4,
    "start_time": "2025-03-21T09:05:53.622Z"
   },
   {
    "duration": 15,
    "start_time": "2025-03-21T09:06:12.874Z"
   },
   {
    "duration": 3,
    "start_time": "2025-03-21T09:06:51.482Z"
   },
   {
    "duration": 2363,
    "start_time": "2025-03-21T09:07:01.273Z"
   },
   {
    "duration": 3,
    "start_time": "2025-03-21T09:07:15.859Z"
   },
   {
    "duration": 9,
    "start_time": "2025-03-21T09:07:15.864Z"
   },
   {
    "duration": 34,
    "start_time": "2025-03-21T09:07:15.874Z"
   },
   {
    "duration": 38,
    "start_time": "2025-03-21T09:07:15.910Z"
   },
   {
    "duration": 38,
    "start_time": "2025-03-21T09:07:15.950Z"
   },
   {
    "duration": 7,
    "start_time": "2025-03-21T09:07:15.990Z"
   },
   {
    "duration": 13,
    "start_time": "2025-03-21T09:07:15.998Z"
   },
   {
    "duration": 9,
    "start_time": "2025-03-21T09:07:16.013Z"
   },
   {
    "duration": 13,
    "start_time": "2025-03-21T09:07:16.023Z"
   },
   {
    "duration": 8,
    "start_time": "2025-03-21T09:07:16.038Z"
   },
   {
    "duration": 7,
    "start_time": "2025-03-21T09:07:16.047Z"
   },
   {
    "duration": 5,
    "start_time": "2025-03-21T09:07:16.056Z"
   },
   {
    "duration": 155,
    "start_time": "2025-03-21T09:07:16.062Z"
   },
   {
    "duration": 4,
    "start_time": "2025-03-21T09:07:16.218Z"
   },
   {
    "duration": 12,
    "start_time": "2025-03-21T09:07:16.224Z"
   },
   {
    "duration": 5,
    "start_time": "2025-03-21T09:07:16.238Z"
   },
   {
    "duration": 121,
    "start_time": "2025-03-21T09:07:16.244Z"
   },
   {
    "duration": 90,
    "start_time": "2025-03-21T09:07:16.366Z"
   },
   {
    "duration": 7,
    "start_time": "2025-03-21T09:07:16.457Z"
   },
   {
    "duration": 4,
    "start_time": "2025-03-21T09:07:16.465Z"
   },
   {
    "duration": 224,
    "start_time": "2025-03-21T09:07:16.470Z"
   },
   {
    "duration": 122,
    "start_time": "2025-03-21T09:07:16.696Z"
   },
   {
    "duration": 4,
    "start_time": "2025-03-21T09:07:16.820Z"
   },
   {
    "duration": 287,
    "start_time": "2025-03-21T09:07:16.834Z"
   },
   {
    "duration": 146,
    "start_time": "2025-03-21T09:07:17.123Z"
   },
   {
    "duration": 12,
    "start_time": "2025-03-21T09:07:17.271Z"
   },
   {
    "duration": 8,
    "start_time": "2025-03-21T09:07:17.285Z"
   },
   {
    "duration": 228,
    "start_time": "2025-03-21T09:07:17.297Z"
   },
   {
    "duration": 144,
    "start_time": "2025-03-21T09:07:17.527Z"
   },
   {
    "duration": 26,
    "start_time": "2025-03-21T09:07:17.673Z"
   },
   {
    "duration": 38,
    "start_time": "2025-03-21T09:07:17.701Z"
   },
   {
    "duration": 16,
    "start_time": "2025-03-21T09:07:17.741Z"
   },
   {
    "duration": 12,
    "start_time": "2025-03-21T09:07:17.759Z"
   },
   {
    "duration": 4,
    "start_time": "2025-03-21T09:07:17.773Z"
   },
   {
    "duration": 317,
    "start_time": "2025-03-21T09:07:17.779Z"
   },
   {
    "duration": 190,
    "start_time": "2025-03-21T09:07:18.098Z"
   },
   {
    "duration": 329,
    "start_time": "2025-03-21T09:07:18.290Z"
   },
   {
    "duration": 173,
    "start_time": "2025-03-21T09:07:18.621Z"
   },
   {
    "duration": 5,
    "start_time": "2025-03-21T09:07:18.796Z"
   },
   {
    "duration": 34,
    "start_time": "2025-03-21T09:07:18.802Z"
   },
   {
    "duration": 10,
    "start_time": "2025-03-21T09:07:18.838Z"
   },
   {
    "duration": 16,
    "start_time": "2025-03-21T09:07:18.849Z"
   },
   {
    "duration": 3,
    "start_time": "2025-03-21T09:07:18.867Z"
   },
   {
    "duration": 18,
    "start_time": "2025-03-21T09:07:18.871Z"
   },
   {
    "duration": 6,
    "start_time": "2025-03-21T09:07:34.492Z"
   },
   {
    "duration": 10,
    "start_time": "2025-03-21T09:07:44.634Z"
   },
   {
    "duration": 249,
    "start_time": "2025-03-21T09:08:05.906Z"
   },
   {
    "duration": 17,
    "start_time": "2025-03-21T09:09:11.338Z"
   },
   {
    "duration": 33,
    "start_time": "2025-03-21T09:09:26.612Z"
   },
   {
    "duration": 26,
    "start_time": "2025-03-21T09:09:44.139Z"
   },
   {
    "duration": 110,
    "start_time": "2025-03-21T09:09:51.171Z"
   },
   {
    "duration": 24,
    "start_time": "2025-03-21T09:09:59.220Z"
   },
   {
    "duration": 10,
    "start_time": "2025-03-21T09:10:09.089Z"
   },
   {
    "duration": 6,
    "start_time": "2025-03-21T09:10:20.199Z"
   },
   {
    "duration": 3,
    "start_time": "2025-03-21T09:10:57.578Z"
   },
   {
    "duration": 5,
    "start_time": "2025-03-21T09:11:07.660Z"
   },
   {
    "duration": 188,
    "start_time": "2025-03-21T09:11:17.207Z"
   },
   {
    "duration": 13,
    "start_time": "2025-03-21T09:11:32.853Z"
   },
   {
    "duration": 5,
    "start_time": "2025-03-21T09:12:00.285Z"
   },
   {
    "duration": 11,
    "start_time": "2025-03-21T09:12:12.201Z"
   },
   {
    "duration": 5,
    "start_time": "2025-03-21T09:12:36.684Z"
   },
   {
    "duration": 10,
    "start_time": "2025-03-21T09:12:42.854Z"
   },
   {
    "duration": 9,
    "start_time": "2025-03-21T09:13:00.134Z"
   },
   {
    "duration": 9,
    "start_time": "2025-03-21T09:13:09.211Z"
   },
   {
    "duration": 11,
    "start_time": "2025-03-21T09:13:16.479Z"
   },
   {
    "duration": 10,
    "start_time": "2025-03-21T09:13:28.262Z"
   },
   {
    "duration": 10,
    "start_time": "2025-03-21T09:14:24.108Z"
   },
   {
    "duration": 9,
    "start_time": "2025-03-21T09:14:33.809Z"
   },
   {
    "duration": 114,
    "start_time": "2025-03-21T09:15:26.347Z"
   },
   {
    "duration": 93,
    "start_time": "2025-03-21T09:15:33.790Z"
   },
   {
    "duration": 9,
    "start_time": "2025-03-21T09:15:37.856Z"
   },
   {
    "duration": 7,
    "start_time": "2025-03-21T09:16:49.910Z"
   },
   {
    "duration": 6,
    "start_time": "2025-03-21T09:18:01.166Z"
   },
   {
    "duration": 13,
    "start_time": "2025-03-21T09:19:19.415Z"
   },
   {
    "duration": 1418,
    "start_time": "2025-03-21T09:23:01.998Z"
   },
   {
    "duration": 11,
    "start_time": "2025-03-21T09:23:26.433Z"
   },
   {
    "duration": 12,
    "start_time": "2025-03-21T09:23:46.638Z"
   },
   {
    "duration": 1708,
    "start_time": "2025-03-21T09:23:54.746Z"
   },
   {
    "duration": 193,
    "start_time": "2025-03-21T09:24:43.135Z"
   },
   {
    "duration": 1653,
    "start_time": "2025-03-21T09:24:49.500Z"
   },
   {
    "duration": 106,
    "start_time": "2025-03-21T09:25:51.464Z"
   },
   {
    "duration": 4,
    "start_time": "2025-03-21T09:26:06.614Z"
   },
   {
    "duration": 143,
    "start_time": "2025-03-21T09:26:29.144Z"
   },
   {
    "duration": 5,
    "start_time": "2025-03-21T09:26:38.468Z"
   },
   {
    "duration": 133,
    "start_time": "2025-03-21T09:38:40.251Z"
   },
   {
    "duration": 10,
    "start_time": "2025-03-21T09:38:52.860Z"
   },
   {
    "duration": 10,
    "start_time": "2025-03-21T09:39:00.920Z"
   },
   {
    "duration": 4,
    "start_time": "2025-03-21T09:41:41.625Z"
   },
   {
    "duration": 3,
    "start_time": "2025-03-21T09:41:57.414Z"
   },
   {
    "duration": 9,
    "start_time": "2025-03-21T09:41:57.419Z"
   },
   {
    "duration": 35,
    "start_time": "2025-03-21T09:41:57.430Z"
   },
   {
    "duration": 41,
    "start_time": "2025-03-21T09:41:57.467Z"
   },
   {
    "duration": 23,
    "start_time": "2025-03-21T09:41:57.509Z"
   },
   {
    "duration": 12,
    "start_time": "2025-03-21T09:41:57.536Z"
   },
   {
    "duration": 12,
    "start_time": "2025-03-21T09:41:57.550Z"
   },
   {
    "duration": 9,
    "start_time": "2025-03-21T09:41:57.564Z"
   },
   {
    "duration": 9,
    "start_time": "2025-03-21T09:41:57.574Z"
   },
   {
    "duration": 21,
    "start_time": "2025-03-21T09:41:57.585Z"
   },
   {
    "duration": 4,
    "start_time": "2025-03-21T09:41:57.608Z"
   },
   {
    "duration": 6,
    "start_time": "2025-03-21T09:41:57.635Z"
   },
   {
    "duration": 148,
    "start_time": "2025-03-21T09:41:57.643Z"
   },
   {
    "duration": 4,
    "start_time": "2025-03-21T09:41:57.793Z"
   },
   {
    "duration": 59,
    "start_time": "2025-03-21T09:41:57.798Z"
   },
   {
    "duration": 60,
    "start_time": "2025-03-21T09:41:57.858Z"
   },
   {
    "duration": 111,
    "start_time": "2025-03-21T09:41:57.919Z"
   },
   {
    "duration": 86,
    "start_time": "2025-03-21T09:41:58.032Z"
   },
   {
    "duration": 6,
    "start_time": "2025-03-21T09:41:58.120Z"
   },
   {
    "duration": 5,
    "start_time": "2025-03-21T09:41:58.136Z"
   },
   {
    "duration": 418,
    "start_time": "2025-03-21T09:41:58.142Z"
   },
   {
    "duration": 136,
    "start_time": "2025-03-21T09:41:58.562Z"
   },
   {
    "duration": 5,
    "start_time": "2025-03-21T09:41:58.700Z"
   },
   {
    "duration": 212,
    "start_time": "2025-03-21T09:41:58.706Z"
   },
   {
    "duration": 136,
    "start_time": "2025-03-21T09:41:58.920Z"
   },
   {
    "duration": 10,
    "start_time": "2025-03-21T09:41:59.058Z"
   },
   {
    "duration": 5,
    "start_time": "2025-03-21T09:41:59.070Z"
   },
   {
    "duration": 227,
    "start_time": "2025-03-21T09:41:59.080Z"
   },
   {
    "duration": 149,
    "start_time": "2025-03-21T09:41:59.308Z"
   },
   {
    "duration": 25,
    "start_time": "2025-03-21T09:41:59.458Z"
   },
   {
    "duration": 115,
    "start_time": "2025-03-21T09:41:59.485Z"
   },
   {
    "duration": 16,
    "start_time": "2025-03-21T09:41:59.602Z"
   },
   {
    "duration": 13,
    "start_time": "2025-03-21T09:41:59.619Z"
   },
   {
    "duration": 3,
    "start_time": "2025-03-21T09:41:59.634Z"
   },
   {
    "duration": 305,
    "start_time": "2025-03-21T09:41:59.639Z"
   },
   {
    "duration": 192,
    "start_time": "2025-03-21T09:41:59.945Z"
   },
   {
    "duration": 349,
    "start_time": "2025-03-21T09:42:00.139Z"
   },
   {
    "duration": 270,
    "start_time": "2025-03-21T09:42:00.490Z"
   },
   {
    "duration": 6,
    "start_time": "2025-03-21T09:42:00.761Z"
   },
   {
    "duration": 37,
    "start_time": "2025-03-21T09:42:00.768Z"
   },
   {
    "duration": 4,
    "start_time": "2025-03-21T09:42:00.806Z"
   },
   {
    "duration": 20,
    "start_time": "2025-03-21T09:42:00.811Z"
   },
   {
    "duration": 4,
    "start_time": "2025-03-21T09:42:00.832Z"
   },
   {
    "duration": 18,
    "start_time": "2025-03-21T09:42:00.837Z"
   },
   {
    "duration": 6,
    "start_time": "2025-03-21T09:42:00.856Z"
   },
   {
    "duration": 18,
    "start_time": "2025-03-21T09:42:00.864Z"
   },
   {
    "duration": 267,
    "start_time": "2025-03-21T09:42:00.884Z"
   },
   {
    "duration": 18,
    "start_time": "2025-03-21T09:42:01.153Z"
   },
   {
    "duration": 59,
    "start_time": "2025-03-21T09:42:01.172Z"
   },
   {
    "duration": 9,
    "start_time": "2025-03-21T09:42:01.232Z"
   },
   {
    "duration": 9,
    "start_time": "2025-03-21T09:42:01.242Z"
   },
   {
    "duration": 6,
    "start_time": "2025-03-21T09:42:01.252Z"
   },
   {
    "duration": 23,
    "start_time": "2025-03-21T09:42:01.259Z"
   },
   {
    "duration": 193,
    "start_time": "2025-03-21T09:42:01.284Z"
   },
   {
    "duration": 11,
    "start_time": "2025-03-21T09:42:01.479Z"
   },
   {
    "duration": 87,
    "start_time": "2025-03-21T09:42:01.492Z"
   },
   {
    "duration": 36,
    "start_time": "2025-03-21T09:42:01.580Z"
   },
   {
    "duration": 4,
    "start_time": "2025-03-21T09:42:01.618Z"
   },
   {
    "duration": 11,
    "start_time": "2025-03-21T09:42:01.623Z"
   },
   {
    "duration": 8,
    "start_time": "2025-03-21T09:42:01.635Z"
   },
   {
    "duration": 8,
    "start_time": "2025-03-21T09:42:01.645Z"
   },
   {
    "duration": 68,
    "start_time": "2025-03-21T09:42:01.654Z"
   },
   {
    "duration": 131,
    "start_time": "2025-03-21T09:42:01.723Z"
   },
   {
    "duration": 1399,
    "start_time": "2025-03-21T09:42:01.856Z"
   },
   {
    "duration": 8,
    "start_time": "2025-03-21T09:42:03.256Z"
   },
   {
    "duration": 43,
    "start_time": "2025-03-21T09:42:03.265Z"
   },
   {
    "duration": 1737,
    "start_time": "2025-03-21T09:42:03.310Z"
   },
   {
    "duration": 6,
    "start_time": "2025-03-21T09:42:05.049Z"
   },
   {
    "duration": 156,
    "start_time": "2025-03-21T09:42:05.057Z"
   },
   {
    "duration": 5,
    "start_time": "2025-03-21T09:42:05.215Z"
   },
   {
    "duration": 4,
    "start_time": "2025-03-21T09:42:36.983Z"
   },
   {
    "duration": 3,
    "start_time": "2025-03-21T09:42:36.990Z"
   },
   {
    "duration": 50,
    "start_time": "2025-03-21T09:42:36.995Z"
   },
   {
    "duration": 40,
    "start_time": "2025-03-21T09:42:37.047Z"
   },
   {
    "duration": 22,
    "start_time": "2025-03-21T09:42:37.090Z"
   },
   {
    "duration": 6,
    "start_time": "2025-03-21T09:42:37.113Z"
   },
   {
    "duration": 23,
    "start_time": "2025-03-21T09:42:37.121Z"
   },
   {
    "duration": 7,
    "start_time": "2025-03-21T09:42:37.145Z"
   },
   {
    "duration": 8,
    "start_time": "2025-03-21T09:42:37.154Z"
   },
   {
    "duration": 8,
    "start_time": "2025-03-21T09:42:37.163Z"
   },
   {
    "duration": 4,
    "start_time": "2025-03-21T09:42:37.172Z"
   },
   {
    "duration": 12,
    "start_time": "2025-03-21T09:42:37.177Z"
   },
   {
    "duration": 159,
    "start_time": "2025-03-21T09:42:37.191Z"
   },
   {
    "duration": 4,
    "start_time": "2025-03-21T09:42:37.353Z"
   },
   {
    "duration": 8,
    "start_time": "2025-03-21T09:42:37.358Z"
   },
   {
    "duration": 9,
    "start_time": "2025-03-21T09:42:37.367Z"
   },
   {
    "duration": 128,
    "start_time": "2025-03-21T09:42:37.377Z"
   },
   {
    "duration": 92,
    "start_time": "2025-03-21T09:42:37.506Z"
   },
   {
    "duration": 7,
    "start_time": "2025-03-21T09:42:37.600Z"
   },
   {
    "duration": 5,
    "start_time": "2025-03-21T09:42:37.608Z"
   },
   {
    "duration": 190,
    "start_time": "2025-03-21T09:42:37.615Z"
   },
   {
    "duration": 250,
    "start_time": "2025-03-21T09:42:37.808Z"
   },
   {
    "duration": 4,
    "start_time": "2025-03-21T09:42:38.060Z"
   },
   {
    "duration": 216,
    "start_time": "2025-03-21T09:42:38.066Z"
   },
   {
    "duration": 141,
    "start_time": "2025-03-21T09:42:38.284Z"
   },
   {
    "duration": 16,
    "start_time": "2025-03-21T09:42:38.427Z"
   },
   {
    "duration": 4,
    "start_time": "2025-03-21T09:42:38.444Z"
   },
   {
    "duration": 216,
    "start_time": "2025-03-21T09:42:38.450Z"
   },
   {
    "duration": 152,
    "start_time": "2025-03-21T09:42:38.668Z"
   },
   {
    "duration": 35,
    "start_time": "2025-03-21T09:42:38.822Z"
   },
   {
    "duration": 13,
    "start_time": "2025-03-21T09:42:38.859Z"
   },
   {
    "duration": 15,
    "start_time": "2025-03-21T09:42:38.874Z"
   },
   {
    "duration": 25,
    "start_time": "2025-03-21T09:42:38.891Z"
   },
   {
    "duration": 17,
    "start_time": "2025-03-21T09:42:38.918Z"
   },
   {
    "duration": 302,
    "start_time": "2025-03-21T09:42:38.937Z"
   },
   {
    "duration": 191,
    "start_time": "2025-03-21T09:42:39.241Z"
   },
   {
    "duration": 333,
    "start_time": "2025-03-21T09:42:39.435Z"
   },
   {
    "duration": 169,
    "start_time": "2025-03-21T09:42:39.770Z"
   },
   {
    "duration": 5,
    "start_time": "2025-03-21T09:42:39.941Z"
   },
   {
    "duration": 14,
    "start_time": "2025-03-21T09:42:39.948Z"
   },
   {
    "duration": 4,
    "start_time": "2025-03-21T09:42:39.966Z"
   },
   {
    "duration": 13,
    "start_time": "2025-03-21T09:42:39.971Z"
   },
   {
    "duration": 69,
    "start_time": "2025-03-21T09:42:39.986Z"
   },
   {
    "duration": 19,
    "start_time": "2025-03-21T09:42:40.057Z"
   },
   {
    "duration": 14,
    "start_time": "2025-03-21T09:42:40.077Z"
   },
   {
    "duration": 9,
    "start_time": "2025-03-21T09:42:40.093Z"
   },
   {
    "duration": 344,
    "start_time": "2025-03-21T09:42:40.103Z"
   },
   {
    "duration": 18,
    "start_time": "2025-03-21T09:42:40.448Z"
   },
   {
    "duration": 140,
    "start_time": "2025-03-21T09:42:40.468Z"
   },
   {
    "duration": 10,
    "start_time": "2025-03-21T09:42:40.610Z"
   },
   {
    "duration": 7,
    "start_time": "2025-03-21T09:42:40.622Z"
   },
   {
    "duration": 6,
    "start_time": "2025-03-21T09:42:40.630Z"
   },
   {
    "duration": 9,
    "start_time": "2025-03-21T09:42:40.638Z"
   },
   {
    "duration": 198,
    "start_time": "2025-03-21T09:42:40.648Z"
   },
   {
    "duration": 12,
    "start_time": "2025-03-21T09:42:40.847Z"
   },
   {
    "duration": 4,
    "start_time": "2025-03-21T09:42:40.861Z"
   },
   {
    "duration": 18,
    "start_time": "2025-03-21T09:42:40.867Z"
   },
   {
    "duration": 4,
    "start_time": "2025-03-21T09:42:40.887Z"
   },
   {
    "duration": 22,
    "start_time": "2025-03-21T09:42:40.892Z"
   },
   {
    "duration": 20,
    "start_time": "2025-03-21T09:42:40.916Z"
   },
   {
    "duration": 6,
    "start_time": "2025-03-21T09:42:40.938Z"
   },
   {
    "duration": 6,
    "start_time": "2025-03-21T09:42:40.945Z"
   },
   {
    "duration": 11,
    "start_time": "2025-03-21T09:42:40.952Z"
   },
   {
    "duration": 1418,
    "start_time": "2025-03-21T09:42:40.964Z"
   },
   {
    "duration": 8,
    "start_time": "2025-03-21T09:42:42.384Z"
   },
   {
    "duration": 11,
    "start_time": "2025-03-21T09:42:42.393Z"
   },
   {
    "duration": 1747,
    "start_time": "2025-03-21T09:42:42.405Z"
   },
   {
    "duration": 5,
    "start_time": "2025-03-21T09:42:44.154Z"
   },
   {
    "duration": 170,
    "start_time": "2025-03-21T09:42:44.160Z"
   },
   {
    "duration": 6,
    "start_time": "2025-03-21T09:42:44.336Z"
   },
   {
    "duration": 1211,
    "start_time": "2025-03-21T11:05:00.291Z"
   },
   {
    "duration": 2,
    "start_time": "2025-03-21T11:05:01.504Z"
   },
   {
    "duration": 56,
    "start_time": "2025-03-21T11:05:01.507Z"
   },
   {
    "duration": 36,
    "start_time": "2025-03-21T11:05:01.564Z"
   },
   {
    "duration": 20,
    "start_time": "2025-03-21T11:05:01.601Z"
   },
   {
    "duration": 7,
    "start_time": "2025-03-21T11:05:01.622Z"
   },
   {
    "duration": 19,
    "start_time": "2025-03-21T11:05:01.630Z"
   },
   {
    "duration": 11,
    "start_time": "2025-03-21T11:05:01.651Z"
   },
   {
    "duration": 67,
    "start_time": "2025-03-21T11:05:01.663Z"
   },
   {
    "duration": 30,
    "start_time": "2025-03-21T11:05:01.733Z"
   },
   {
    "duration": 71,
    "start_time": "2025-03-21T11:05:01.765Z"
   },
   {
    "duration": 42,
    "start_time": "2025-03-21T11:05:01.838Z"
   },
   {
    "duration": 234,
    "start_time": "2025-03-21T11:05:01.881Z"
   },
   {
    "duration": 4,
    "start_time": "2025-03-21T11:05:02.117Z"
   },
   {
    "duration": 17,
    "start_time": "2025-03-21T11:05:02.122Z"
   },
   {
    "duration": 29,
    "start_time": "2025-03-21T11:05:02.140Z"
   },
   {
    "duration": 120,
    "start_time": "2025-03-21T11:05:02.170Z"
   },
   {
    "duration": 89,
    "start_time": "2025-03-21T11:05:02.291Z"
   },
   {
    "duration": 17,
    "start_time": "2025-03-21T11:05:02.382Z"
   },
   {
    "duration": 41,
    "start_time": "2025-03-21T11:05:02.400Z"
   },
   {
    "duration": 224,
    "start_time": "2025-03-21T11:05:02.442Z"
   },
   {
    "duration": 109,
    "start_time": "2025-03-21T11:05:02.668Z"
   },
   {
    "duration": 38,
    "start_time": "2025-03-21T11:05:02.778Z"
   },
   {
    "duration": 218,
    "start_time": "2025-03-21T11:05:02.817Z"
   },
   {
    "duration": 131,
    "start_time": "2025-03-21T11:05:03.036Z"
   },
   {
    "duration": 210,
    "start_time": "2025-03-21T11:05:03.168Z"
   },
   {
    "duration": 43,
    "start_time": "2025-03-21T11:05:03.380Z"
   },
   {
    "duration": 214,
    "start_time": "2025-03-21T11:05:03.426Z"
   },
   {
    "duration": 133,
    "start_time": "2025-03-21T11:05:03.641Z"
   },
   {
    "duration": 25,
    "start_time": "2025-03-21T11:05:03.776Z"
   },
   {
    "duration": 45,
    "start_time": "2025-03-21T11:05:03.802Z"
   },
   {
    "duration": 67,
    "start_time": "2025-03-21T11:05:03.848Z"
   },
   {
    "duration": 25,
    "start_time": "2025-03-21T11:05:03.916Z"
   },
   {
    "duration": 12,
    "start_time": "2025-03-21T11:05:03.943Z"
   },
   {
    "duration": 306,
    "start_time": "2025-03-21T11:05:03.957Z"
   },
   {
    "duration": 179,
    "start_time": "2025-03-21T11:05:04.265Z"
   },
   {
    "duration": 313,
    "start_time": "2025-03-21T11:05:04.445Z"
   },
   {
    "duration": 177,
    "start_time": "2025-03-21T11:05:04.759Z"
   },
   {
    "duration": 6,
    "start_time": "2025-03-21T11:05:04.937Z"
   },
   {
    "duration": 31,
    "start_time": "2025-03-21T11:05:04.944Z"
   },
   {
    "duration": 3,
    "start_time": "2025-03-21T11:05:04.977Z"
   },
   {
    "duration": 53,
    "start_time": "2025-03-21T11:05:04.982Z"
   },
   {
    "duration": 17,
    "start_time": "2025-03-21T11:05:05.037Z"
   },
   {
    "duration": 45,
    "start_time": "2025-03-21T11:05:05.055Z"
   },
   {
    "duration": 114,
    "start_time": "2025-03-21T11:05:05.102Z"
   },
   {
    "duration": 23,
    "start_time": "2025-03-21T11:05:05.218Z"
   },
   {
    "duration": 371,
    "start_time": "2025-03-21T11:05:05.243Z"
   },
   {
    "duration": 16,
    "start_time": "2025-03-21T11:05:05.616Z"
   },
   {
    "duration": 40,
    "start_time": "2025-03-21T11:05:05.633Z"
   },
   {
    "duration": 53,
    "start_time": "2025-03-21T11:05:05.674Z"
   },
   {
    "duration": 11,
    "start_time": "2025-03-21T11:05:05.729Z"
   },
   {
    "duration": 15,
    "start_time": "2025-03-21T11:05:05.741Z"
   },
   {
    "duration": 34,
    "start_time": "2025-03-21T11:05:05.757Z"
   },
   {
    "duration": 237,
    "start_time": "2025-03-21T11:05:05.792Z"
   },
   {
    "duration": 12,
    "start_time": "2025-03-21T11:05:06.030Z"
   },
   {
    "duration": 176,
    "start_time": "2025-03-21T11:05:06.043Z"
   },
   {
    "duration": 19,
    "start_time": "2025-03-21T11:05:06.220Z"
   },
   {
    "duration": 8,
    "start_time": "2025-03-21T11:05:06.240Z"
   },
   {
    "duration": 32,
    "start_time": "2025-03-21T11:05:06.250Z"
   },
   {
    "duration": 59,
    "start_time": "2025-03-21T11:05:06.283Z"
   },
   {
    "duration": 8,
    "start_time": "2025-03-21T11:05:06.344Z"
   },
   {
    "duration": 35,
    "start_time": "2025-03-21T11:05:06.353Z"
   },
   {
    "duration": 46,
    "start_time": "2025-03-21T11:05:06.389Z"
   },
   {
    "duration": 1223,
    "start_time": "2025-03-21T11:05:06.436Z"
   },
   {
    "duration": 8,
    "start_time": "2025-03-21T11:05:07.661Z"
   },
   {
    "duration": 66,
    "start_time": "2025-03-21T11:05:07.671Z"
   },
   {
    "duration": 1507,
    "start_time": "2025-03-21T11:05:07.739Z"
   },
   {
    "duration": 9,
    "start_time": "2025-03-21T11:05:09.248Z"
   },
   {
    "duration": 324,
    "start_time": "2025-03-21T11:05:09.259Z"
   },
   {
    "duration": 5,
    "start_time": "2025-03-21T11:05:09.584Z"
   },
   {
    "duration": 4,
    "start_time": "2025-03-21T11:13:17.032Z"
   },
   {
    "duration": 1065,
    "start_time": "2025-03-21T11:17:19.726Z"
   },
   {
    "duration": 3,
    "start_time": "2025-03-21T11:17:20.792Z"
   },
   {
    "duration": 77,
    "start_time": "2025-03-21T11:17:20.797Z"
   },
   {
    "duration": 37,
    "start_time": "2025-03-21T11:17:20.876Z"
   },
   {
    "duration": 20,
    "start_time": "2025-03-21T11:17:20.915Z"
   },
   {
    "duration": 4,
    "start_time": "2025-03-21T11:17:20.936Z"
   },
   {
    "duration": 24,
    "start_time": "2025-03-21T11:17:20.941Z"
   },
   {
    "duration": 7,
    "start_time": "2025-03-21T11:17:20.966Z"
   },
   {
    "duration": 49,
    "start_time": "2025-03-21T11:17:20.975Z"
   },
   {
    "duration": 11,
    "start_time": "2025-03-21T11:17:21.027Z"
   },
   {
    "duration": 16,
    "start_time": "2025-03-21T11:17:21.040Z"
   },
   {
    "duration": 16,
    "start_time": "2025-03-21T11:17:21.057Z"
   },
   {
    "duration": 172,
    "start_time": "2025-03-21T11:17:21.074Z"
   },
   {
    "duration": 9,
    "start_time": "2025-03-21T11:17:21.247Z"
   },
   {
    "duration": 31,
    "start_time": "2025-03-21T11:17:21.257Z"
   },
   {
    "duration": 171,
    "start_time": "2025-03-21T11:17:21.289Z"
   },
   {
    "duration": 120,
    "start_time": "2025-03-21T11:17:21.461Z"
   },
   {
    "duration": 89,
    "start_time": "2025-03-21T11:17:21.582Z"
   },
   {
    "duration": 6,
    "start_time": "2025-03-21T11:17:21.672Z"
   },
   {
    "duration": 17,
    "start_time": "2025-03-21T11:17:21.679Z"
   },
   {
    "duration": 182,
    "start_time": "2025-03-21T11:17:21.697Z"
   },
   {
    "duration": 116,
    "start_time": "2025-03-21T11:17:21.881Z"
   },
   {
    "duration": 3,
    "start_time": "2025-03-21T11:17:21.999Z"
   },
   {
    "duration": 207,
    "start_time": "2025-03-21T11:17:22.004Z"
   },
   {
    "duration": 137,
    "start_time": "2025-03-21T11:17:22.212Z"
   },
   {
    "duration": 12,
    "start_time": "2025-03-21T11:17:22.350Z"
   },
   {
    "duration": 25,
    "start_time": "2025-03-21T11:17:22.364Z"
   },
   {
    "duration": 194,
    "start_time": "2025-03-21T11:17:22.393Z"
   },
   {
    "duration": 136,
    "start_time": "2025-03-21T11:17:22.589Z"
   },
   {
    "duration": 33,
    "start_time": "2025-03-21T11:17:22.727Z"
   },
   {
    "duration": 12,
    "start_time": "2025-03-21T11:17:22.762Z"
   },
   {
    "duration": 160,
    "start_time": "2025-03-21T11:17:22.775Z"
   },
   {
    "duration": 24,
    "start_time": "2025-03-21T11:17:22.936Z"
   },
   {
    "duration": 12,
    "start_time": "2025-03-21T11:17:22.962Z"
   },
   {
    "duration": 320,
    "start_time": "2025-03-21T11:17:22.975Z"
   },
   {
    "duration": 173,
    "start_time": "2025-03-21T11:17:23.296Z"
   },
   {
    "duration": 305,
    "start_time": "2025-03-21T11:17:23.470Z"
   },
   {
    "duration": 167,
    "start_time": "2025-03-21T11:17:23.776Z"
   },
   {
    "duration": 5,
    "start_time": "2025-03-21T11:17:23.944Z"
   },
   {
    "duration": 11,
    "start_time": "2025-03-21T11:17:23.956Z"
   },
   {
    "duration": 3,
    "start_time": "2025-03-21T11:17:23.969Z"
   },
   {
    "duration": 49,
    "start_time": "2025-03-21T11:17:23.973Z"
   },
   {
    "duration": 12,
    "start_time": "2025-03-21T11:17:24.024Z"
   },
   {
    "duration": 44,
    "start_time": "2025-03-21T11:17:24.037Z"
   },
   {
    "duration": 130,
    "start_time": "2025-03-21T11:17:24.083Z"
   },
   {
    "duration": 33,
    "start_time": "2025-03-21T11:17:24.214Z"
   },
   {
    "duration": 227,
    "start_time": "2025-03-21T11:17:24.248Z"
   },
   {
    "duration": 16,
    "start_time": "2025-03-21T11:17:24.476Z"
   },
   {
    "duration": 26,
    "start_time": "2025-03-21T11:17:24.493Z"
   },
   {
    "duration": 8,
    "start_time": "2025-03-21T11:17:24.521Z"
   },
   {
    "duration": 26,
    "start_time": "2025-03-21T11:17:24.530Z"
   },
   {
    "duration": 3,
    "start_time": "2025-03-21T11:17:24.557Z"
   },
   {
    "duration": 13,
    "start_time": "2025-03-21T11:17:24.561Z"
   },
   {
    "duration": 205,
    "start_time": "2025-03-21T11:17:24.575Z"
   },
   {
    "duration": 11,
    "start_time": "2025-03-21T11:17:24.781Z"
   },
   {
    "duration": 95,
    "start_time": "2025-03-21T11:17:24.793Z"
   },
   {
    "duration": 17,
    "start_time": "2025-03-21T11:17:24.889Z"
   },
   {
    "duration": 5,
    "start_time": "2025-03-21T11:17:24.908Z"
   },
   {
    "duration": 67,
    "start_time": "2025-03-21T11:17:24.914Z"
   },
   {
    "duration": 8,
    "start_time": "2025-03-21T11:17:24.982Z"
   },
   {
    "duration": 7,
    "start_time": "2025-03-21T11:17:24.991Z"
   },
   {
    "duration": 30,
    "start_time": "2025-03-21T11:17:25.000Z"
   },
   {
    "duration": 32,
    "start_time": "2025-03-21T11:17:25.031Z"
   },
   {
    "duration": 1230,
    "start_time": "2025-03-21T11:17:25.064Z"
   },
   {
    "duration": 8,
    "start_time": "2025-03-21T11:17:26.295Z"
   },
   {
    "duration": 68,
    "start_time": "2025-03-21T11:17:26.304Z"
   },
   {
    "duration": 1399,
    "start_time": "2025-03-21T11:17:26.373Z"
   },
   {
    "duration": 4,
    "start_time": "2025-03-21T11:17:27.773Z"
   },
   {
    "duration": 218,
    "start_time": "2025-03-21T11:17:27.778Z"
   },
   {
    "duration": 5,
    "start_time": "2025-03-21T11:17:27.997Z"
   },
   {
    "duration": 47,
    "start_time": "2025-03-21T12:22:39.021Z"
   },
   {
    "duration": 1149,
    "start_time": "2025-03-21T12:22:44.438Z"
   },
   {
    "duration": 3,
    "start_time": "2025-03-21T12:22:45.588Z"
   },
   {
    "duration": 61,
    "start_time": "2025-03-21T12:22:45.592Z"
   },
   {
    "duration": 35,
    "start_time": "2025-03-21T12:22:45.655Z"
   },
   {
    "duration": 62,
    "start_time": "2025-03-21T12:22:45.692Z"
   },
   {
    "duration": 5,
    "start_time": "2025-03-21T12:22:45.755Z"
   },
   {
    "duration": 12,
    "start_time": "2025-03-21T12:22:45.761Z"
   },
   {
    "duration": 10,
    "start_time": "2025-03-21T12:22:45.774Z"
   },
   {
    "duration": 16,
    "start_time": "2025-03-21T12:22:45.786Z"
   },
   {
    "duration": 7,
    "start_time": "2025-03-21T12:22:45.805Z"
   },
   {
    "duration": 17,
    "start_time": "2025-03-21T12:22:45.814Z"
   },
   {
    "duration": 14,
    "start_time": "2025-03-21T12:22:45.833Z"
   },
   {
    "duration": 139,
    "start_time": "2025-03-21T12:22:45.849Z"
   },
   {
    "duration": 4,
    "start_time": "2025-03-21T12:22:45.989Z"
   },
   {
    "duration": 18,
    "start_time": "2025-03-21T12:22:45.995Z"
   },
   {
    "duration": 5,
    "start_time": "2025-03-21T12:22:46.014Z"
   },
   {
    "duration": 109,
    "start_time": "2025-03-21T12:22:46.021Z"
   },
   {
    "duration": 84,
    "start_time": "2025-03-21T12:22:46.132Z"
   },
   {
    "duration": 6,
    "start_time": "2025-03-21T12:22:46.218Z"
   },
   {
    "duration": 3,
    "start_time": "2025-03-21T12:22:46.225Z"
   },
   {
    "duration": 173,
    "start_time": "2025-03-21T12:22:46.230Z"
   },
   {
    "duration": 109,
    "start_time": "2025-03-21T12:22:46.405Z"
   },
   {
    "duration": 4,
    "start_time": "2025-03-21T12:22:46.516Z"
   },
   {
    "duration": 188,
    "start_time": "2025-03-21T12:22:46.521Z"
   },
   {
    "duration": 134,
    "start_time": "2025-03-21T12:22:46.711Z"
   },
   {
    "duration": 11,
    "start_time": "2025-03-21T12:22:46.846Z"
   },
   {
    "duration": 6,
    "start_time": "2025-03-21T12:22:46.859Z"
   },
   {
    "duration": 186,
    "start_time": "2025-03-21T12:22:46.869Z"
   },
   {
    "duration": 181,
    "start_time": "2025-03-21T12:22:47.056Z"
   },
   {
    "duration": 27,
    "start_time": "2025-03-21T12:22:47.238Z"
   },
   {
    "duration": 25,
    "start_time": "2025-03-21T12:22:47.266Z"
   },
   {
    "duration": 14,
    "start_time": "2025-03-21T12:22:47.292Z"
   },
   {
    "duration": 120,
    "start_time": "2025-03-21T12:22:47.307Z"
   },
   {
    "duration": 46,
    "start_time": "2025-03-21T12:22:47.429Z"
   },
   {
    "duration": 350,
    "start_time": "2025-03-21T12:22:47.477Z"
   },
   {
    "duration": 180,
    "start_time": "2025-03-21T12:22:47.828Z"
   },
   {
    "duration": 327,
    "start_time": "2025-03-21T12:22:48.009Z"
   },
   {
    "duration": 159,
    "start_time": "2025-03-21T12:22:48.338Z"
   },
   {
    "duration": 5,
    "start_time": "2025-03-21T12:22:48.499Z"
   },
   {
    "duration": 18,
    "start_time": "2025-03-21T12:22:48.505Z"
   },
   {
    "duration": 4,
    "start_time": "2025-03-21T12:22:48.524Z"
   },
   {
    "duration": 27,
    "start_time": "2025-03-21T12:22:48.529Z"
   },
   {
    "duration": 3,
    "start_time": "2025-03-21T12:22:48.557Z"
   },
   {
    "duration": 103,
    "start_time": "2025-03-21T12:22:48.561Z"
   },
   {
    "duration": 6,
    "start_time": "2025-03-21T12:22:48.665Z"
   },
   {
    "duration": 27,
    "start_time": "2025-03-21T12:22:48.673Z"
   },
   {
    "duration": 236,
    "start_time": "2025-03-21T12:22:48.701Z"
   },
   {
    "duration": 20,
    "start_time": "2025-03-21T12:22:48.938Z"
   },
   {
    "duration": 21,
    "start_time": "2025-03-21T12:22:48.959Z"
   },
   {
    "duration": 8,
    "start_time": "2025-03-21T12:22:48.981Z"
   },
   {
    "duration": 9,
    "start_time": "2025-03-21T12:22:48.991Z"
   },
   {
    "duration": 3,
    "start_time": "2025-03-21T12:22:49.002Z"
   },
   {
    "duration": 11,
    "start_time": "2025-03-21T12:22:49.006Z"
   },
   {
    "duration": 210,
    "start_time": "2025-03-21T12:22:49.018Z"
   },
   {
    "duration": 11,
    "start_time": "2025-03-21T12:22:49.229Z"
   },
   {
    "duration": 15,
    "start_time": "2025-03-21T12:22:49.241Z"
   },
   {
    "duration": 10,
    "start_time": "2025-03-21T12:22:49.257Z"
   },
   {
    "duration": 4,
    "start_time": "2025-03-21T12:22:49.268Z"
   },
   {
    "duration": 9,
    "start_time": "2025-03-21T12:22:49.273Z"
   },
   {
    "duration": 7,
    "start_time": "2025-03-21T12:22:49.283Z"
   },
   {
    "duration": 6,
    "start_time": "2025-03-21T12:22:49.291Z"
   },
   {
    "duration": 6,
    "start_time": "2025-03-21T12:22:49.298Z"
   },
   {
    "duration": 10,
    "start_time": "2025-03-21T12:22:49.305Z"
   },
   {
    "duration": 1177,
    "start_time": "2025-03-21T12:22:49.316Z"
   },
   {
    "duration": 7,
    "start_time": "2025-03-21T12:22:50.494Z"
   },
   {
    "duration": 31,
    "start_time": "2025-03-21T12:22:50.502Z"
   },
   {
    "duration": 1441,
    "start_time": "2025-03-21T12:22:50.534Z"
   },
   {
    "duration": 3,
    "start_time": "2025-03-21T12:22:51.977Z"
   },
   {
    "duration": 141,
    "start_time": "2025-03-21T12:22:51.982Z"
   },
   {
    "duration": 6,
    "start_time": "2025-03-21T12:22:52.125Z"
   },
   {
    "duration": 13,
    "start_time": "2025-03-21T12:34:05.145Z"
   },
   {
    "duration": 81,
    "start_time": "2025-03-21T12:37:37.323Z"
   },
   {
    "duration": 2,
    "start_time": "2025-03-21T12:44:18.136Z"
   },
   {
    "duration": 4,
    "start_time": "2025-03-21T12:44:53.155Z"
   },
   {
    "duration": 4,
    "start_time": "2025-03-21T12:45:45.756Z"
   },
   {
    "duration": 3,
    "start_time": "2025-03-21T12:46:43.087Z"
   },
   {
    "duration": 3,
    "start_time": "2025-03-21T12:47:20.055Z"
   },
   {
    "duration": 5,
    "start_time": "2025-03-21T12:49:23.823Z"
   },
   {
    "duration": 26,
    "start_time": "2025-03-21T13:15:13.110Z"
   },
   {
    "duration": 3,
    "start_time": "2025-03-21T13:15:27.293Z"
   },
   {
    "duration": 58,
    "start_time": "2025-03-21T13:15:27.298Z"
   },
   {
    "duration": 75,
    "start_time": "2025-03-21T13:15:27.357Z"
   },
   {
    "duration": 35,
    "start_time": "2025-03-21T13:15:27.434Z"
   },
   {
    "duration": 20,
    "start_time": "2025-03-21T13:15:27.470Z"
   },
   {
    "duration": 72,
    "start_time": "2025-03-21T13:15:27.491Z"
   },
   {
    "duration": 81,
    "start_time": "2025-03-21T13:15:27.564Z"
   },
   {
    "duration": 13,
    "start_time": "2025-03-21T13:15:27.646Z"
   },
   {
    "duration": 35,
    "start_time": "2025-03-21T13:15:27.660Z"
   },
   {
    "duration": 89,
    "start_time": "2025-03-21T13:15:27.696Z"
   },
   {
    "duration": 15,
    "start_time": "2025-03-21T13:15:27.786Z"
   },
   {
    "duration": 18,
    "start_time": "2025-03-21T13:15:27.803Z"
   },
   {
    "duration": 125,
    "start_time": "2025-03-21T13:15:27.822Z"
   },
   {
    "duration": 3,
    "start_time": "2025-03-21T13:15:27.955Z"
   },
   {
    "duration": 92,
    "start_time": "2025-03-21T13:15:27.959Z"
   },
   {
    "duration": 11,
    "start_time": "2025-03-21T13:15:28.052Z"
   },
   {
    "duration": 91,
    "start_time": "2025-03-21T13:15:28.065Z"
   },
   {
    "duration": 75,
    "start_time": "2025-03-21T13:15:28.157Z"
   },
   {
    "duration": 23,
    "start_time": "2025-03-21T13:15:28.233Z"
   },
   {
    "duration": 9,
    "start_time": "2025-03-21T13:15:28.258Z"
   },
   {
    "duration": 185,
    "start_time": "2025-03-21T13:15:28.269Z"
   },
   {
    "duration": 101,
    "start_time": "2025-03-21T13:15:28.456Z"
   },
   {
    "duration": 3,
    "start_time": "2025-03-21T13:15:28.559Z"
   },
   {
    "duration": 183,
    "start_time": "2025-03-21T13:15:28.564Z"
   },
   {
    "duration": 127,
    "start_time": "2025-03-21T13:15:28.749Z"
   },
   {
    "duration": 8,
    "start_time": "2025-03-21T13:15:28.878Z"
   },
   {
    "duration": 41,
    "start_time": "2025-03-21T13:15:28.888Z"
   },
   {
    "duration": 182,
    "start_time": "2025-03-21T13:15:28.931Z"
   },
   {
    "duration": 125,
    "start_time": "2025-03-21T13:15:29.115Z"
   },
   {
    "duration": 34,
    "start_time": "2025-03-21T13:15:29.241Z"
   },
   {
    "duration": 116,
    "start_time": "2025-03-21T13:15:29.276Z"
   },
   {
    "duration": 19,
    "start_time": "2025-03-21T13:15:29.393Z"
   },
   {
    "duration": 12,
    "start_time": "2025-03-21T13:15:29.413Z"
   },
   {
    "duration": 3,
    "start_time": "2025-03-21T13:15:29.426Z"
   },
   {
    "duration": 369,
    "start_time": "2025-03-21T13:15:29.430Z"
   },
   {
    "duration": 167,
    "start_time": "2025-03-21T13:15:29.801Z"
   },
   {
    "duration": 289,
    "start_time": "2025-03-21T13:15:29.970Z"
   },
   {
    "duration": 161,
    "start_time": "2025-03-21T13:15:30.260Z"
   },
   {
    "duration": 5,
    "start_time": "2025-03-21T13:15:30.423Z"
   },
   {
    "duration": 89,
    "start_time": "2025-03-21T13:15:30.429Z"
   },
   {
    "duration": 26,
    "start_time": "2025-03-21T13:15:30.523Z"
   },
   {
    "duration": 38,
    "start_time": "2025-03-21T13:15:30.550Z"
   },
   {
    "duration": 19,
    "start_time": "2025-03-21T13:15:30.589Z"
   },
   {
    "duration": 17,
    "start_time": "2025-03-21T13:15:30.609Z"
   },
   {
    "duration": 6,
    "start_time": "2025-03-21T13:15:30.627Z"
   },
   {
    "duration": 35,
    "start_time": "2025-03-21T13:15:30.634Z"
   },
   {
    "duration": 241,
    "start_time": "2025-03-21T13:15:30.671Z"
   },
   {
    "duration": 15,
    "start_time": "2025-03-21T13:15:30.914Z"
   },
   {
    "duration": 98,
    "start_time": "2025-03-21T13:15:30.930Z"
   },
   {
    "duration": 376,
    "start_time": "2025-03-21T13:15:31.029Z"
   },
   {
    "duration": 0,
    "start_time": "2025-03-21T13:15:31.406Z"
   },
   {
    "duration": 0,
    "start_time": "2025-03-21T13:15:31.407Z"
   },
   {
    "duration": 0,
    "start_time": "2025-03-21T13:15:31.408Z"
   },
   {
    "duration": 0,
    "start_time": "2025-03-21T13:15:31.409Z"
   },
   {
    "duration": 0,
    "start_time": "2025-03-21T13:15:31.410Z"
   },
   {
    "duration": 0,
    "start_time": "2025-03-21T13:15:31.410Z"
   },
   {
    "duration": 0,
    "start_time": "2025-03-21T13:15:31.411Z"
   },
   {
    "duration": 0,
    "start_time": "2025-03-21T13:15:31.412Z"
   },
   {
    "duration": 0,
    "start_time": "2025-03-21T13:15:31.413Z"
   },
   {
    "duration": 0,
    "start_time": "2025-03-21T13:15:31.414Z"
   },
   {
    "duration": 0,
    "start_time": "2025-03-21T13:15:31.415Z"
   },
   {
    "duration": 0,
    "start_time": "2025-03-21T13:15:31.416Z"
   },
   {
    "duration": 0,
    "start_time": "2025-03-21T13:15:31.417Z"
   },
   {
    "duration": 0,
    "start_time": "2025-03-21T13:15:31.418Z"
   },
   {
    "duration": 0,
    "start_time": "2025-03-21T13:15:31.418Z"
   },
   {
    "duration": 0,
    "start_time": "2025-03-21T13:15:31.420Z"
   },
   {
    "duration": 0,
    "start_time": "2025-03-21T13:15:31.420Z"
   },
   {
    "duration": 0,
    "start_time": "2025-03-21T13:15:31.421Z"
   },
   {
    "duration": 0,
    "start_time": "2025-03-21T13:15:31.422Z"
   },
   {
    "duration": 0,
    "start_time": "2025-03-21T13:15:31.423Z"
   },
   {
    "duration": 0,
    "start_time": "2025-03-21T13:15:31.424Z"
   },
   {
    "duration": 0,
    "start_time": "2025-03-21T13:15:31.425Z"
   },
   {
    "duration": 0,
    "start_time": "2025-03-21T13:15:31.426Z"
   },
   {
    "duration": 0,
    "start_time": "2025-03-21T13:15:31.427Z"
   },
   {
    "duration": 2,
    "start_time": "2025-03-21T13:15:46.061Z"
   },
   {
    "duration": 10,
    "start_time": "2025-03-21T13:15:46.065Z"
   },
   {
    "duration": 34,
    "start_time": "2025-03-21T13:15:46.076Z"
   },
   {
    "duration": 33,
    "start_time": "2025-03-21T13:15:46.112Z"
   },
   {
    "duration": 20,
    "start_time": "2025-03-21T13:15:46.147Z"
   },
   {
    "duration": 20,
    "start_time": "2025-03-21T13:15:46.168Z"
   },
   {
    "duration": 18,
    "start_time": "2025-03-21T13:15:46.190Z"
   },
   {
    "duration": 11,
    "start_time": "2025-03-21T13:15:46.210Z"
   },
   {
    "duration": 8,
    "start_time": "2025-03-21T13:15:46.223Z"
   },
   {
    "duration": 23,
    "start_time": "2025-03-21T13:15:46.233Z"
   },
   {
    "duration": 6,
    "start_time": "2025-03-21T13:15:46.258Z"
   },
   {
    "duration": 16,
    "start_time": "2025-03-21T13:15:46.265Z"
   },
   {
    "duration": 124,
    "start_time": "2025-03-21T13:15:46.282Z"
   },
   {
    "duration": 4,
    "start_time": "2025-03-21T13:15:46.408Z"
   },
   {
    "duration": 9,
    "start_time": "2025-03-21T13:15:46.414Z"
   },
   {
    "duration": 10,
    "start_time": "2025-03-21T13:15:46.424Z"
   },
   {
    "duration": 98,
    "start_time": "2025-03-21T13:15:46.436Z"
   },
   {
    "duration": 82,
    "start_time": "2025-03-21T13:15:46.535Z"
   },
   {
    "duration": 6,
    "start_time": "2025-03-21T13:15:46.618Z"
   },
   {
    "duration": 15,
    "start_time": "2025-03-21T13:15:46.625Z"
   },
   {
    "duration": 179,
    "start_time": "2025-03-21T13:15:46.642Z"
   },
   {
    "duration": 168,
    "start_time": "2025-03-21T13:15:46.823Z"
   },
   {
    "duration": 4,
    "start_time": "2025-03-21T13:15:46.992Z"
   },
   {
    "duration": 179,
    "start_time": "2025-03-21T13:15:46.997Z"
   },
   {
    "duration": 122,
    "start_time": "2025-03-21T13:15:47.177Z"
   },
   {
    "duration": 7,
    "start_time": "2025-03-21T13:15:47.301Z"
   },
   {
    "duration": 63,
    "start_time": "2025-03-21T13:15:47.309Z"
   },
   {
    "duration": 182,
    "start_time": "2025-03-21T13:15:47.374Z"
   },
   {
    "duration": 127,
    "start_time": "2025-03-21T13:15:47.559Z"
   },
   {
    "duration": 22,
    "start_time": "2025-03-21T13:15:47.687Z"
   },
   {
    "duration": 83,
    "start_time": "2025-03-21T13:15:47.711Z"
   },
   {
    "duration": 32,
    "start_time": "2025-03-21T13:15:47.795Z"
   },
   {
    "duration": 11,
    "start_time": "2025-03-21T13:15:47.828Z"
   },
   {
    "duration": 3,
    "start_time": "2025-03-21T13:15:47.840Z"
   },
   {
    "duration": 278,
    "start_time": "2025-03-21T13:15:47.844Z"
   },
   {
    "duration": 207,
    "start_time": "2025-03-21T13:15:48.124Z"
   },
   {
    "duration": 298,
    "start_time": "2025-03-21T13:15:48.332Z"
   },
   {
    "duration": 163,
    "start_time": "2025-03-21T13:15:48.632Z"
   },
   {
    "duration": 6,
    "start_time": "2025-03-21T13:15:48.796Z"
   },
   {
    "duration": 17,
    "start_time": "2025-03-21T13:15:48.803Z"
   },
   {
    "duration": 111,
    "start_time": "2025-03-21T13:15:48.821Z"
   },
   {
    "duration": 27,
    "start_time": "2025-03-21T13:15:48.934Z"
   },
   {
    "duration": 3,
    "start_time": "2025-03-21T13:15:48.962Z"
   },
   {
    "duration": 24,
    "start_time": "2025-03-21T13:15:48.966Z"
   },
   {
    "duration": 22,
    "start_time": "2025-03-21T13:15:48.992Z"
   },
   {
    "duration": 32,
    "start_time": "2025-03-21T13:15:49.016Z"
   },
   {
    "duration": 301,
    "start_time": "2025-03-21T13:15:49.049Z"
   },
   {
    "duration": 15,
    "start_time": "2025-03-21T13:15:49.355Z"
   },
   {
    "duration": 27,
    "start_time": "2025-03-21T13:15:49.372Z"
   },
   {
    "duration": 320,
    "start_time": "2025-03-21T13:15:49.400Z"
   },
   {
    "duration": 0,
    "start_time": "2025-03-21T13:15:49.722Z"
   },
   {
    "duration": 0,
    "start_time": "2025-03-21T13:15:49.723Z"
   },
   {
    "duration": 0,
    "start_time": "2025-03-21T13:15:49.724Z"
   },
   {
    "duration": 0,
    "start_time": "2025-03-21T13:15:49.725Z"
   },
   {
    "duration": 0,
    "start_time": "2025-03-21T13:15:49.726Z"
   },
   {
    "duration": 0,
    "start_time": "2025-03-21T13:15:49.727Z"
   },
   {
    "duration": 0,
    "start_time": "2025-03-21T13:15:49.727Z"
   },
   {
    "duration": 0,
    "start_time": "2025-03-21T13:15:49.729Z"
   },
   {
    "duration": 0,
    "start_time": "2025-03-21T13:15:49.729Z"
   },
   {
    "duration": 0,
    "start_time": "2025-03-21T13:15:49.730Z"
   },
   {
    "duration": 0,
    "start_time": "2025-03-21T13:15:49.731Z"
   },
   {
    "duration": 0,
    "start_time": "2025-03-21T13:15:49.732Z"
   },
   {
    "duration": 0,
    "start_time": "2025-03-21T13:15:49.734Z"
   },
   {
    "duration": 0,
    "start_time": "2025-03-21T13:15:49.734Z"
   },
   {
    "duration": 0,
    "start_time": "2025-03-21T13:15:49.735Z"
   },
   {
    "duration": 0,
    "start_time": "2025-03-21T13:15:49.736Z"
   },
   {
    "duration": 0,
    "start_time": "2025-03-21T13:15:49.737Z"
   },
   {
    "duration": 0,
    "start_time": "2025-03-21T13:15:49.738Z"
   },
   {
    "duration": 0,
    "start_time": "2025-03-21T13:15:49.739Z"
   },
   {
    "duration": 0,
    "start_time": "2025-03-21T13:15:49.740Z"
   },
   {
    "duration": 0,
    "start_time": "2025-03-21T13:15:49.741Z"
   },
   {
    "duration": 0,
    "start_time": "2025-03-21T13:15:49.742Z"
   },
   {
    "duration": 0,
    "start_time": "2025-03-21T13:15:49.743Z"
   },
   {
    "duration": 0,
    "start_time": "2025-03-21T13:15:49.743Z"
   },
   {
    "duration": 10,
    "start_time": "2025-03-21T13:17:10.514Z"
   },
   {
    "duration": 3,
    "start_time": "2025-03-21T13:17:17.171Z"
   },
   {
    "duration": 75,
    "start_time": "2025-03-21T13:17:17.176Z"
   },
   {
    "duration": 139,
    "start_time": "2025-03-21T13:17:17.253Z"
   },
   {
    "duration": 35,
    "start_time": "2025-03-21T13:17:17.393Z"
   },
   {
    "duration": 20,
    "start_time": "2025-03-21T13:17:17.429Z"
   },
   {
    "duration": 10,
    "start_time": "2025-03-21T13:17:17.451Z"
   },
   {
    "duration": 15,
    "start_time": "2025-03-21T13:17:17.463Z"
   },
   {
    "duration": 13,
    "start_time": "2025-03-21T13:17:17.479Z"
   },
   {
    "duration": 152,
    "start_time": "2025-03-21T13:17:17.493Z"
   },
   {
    "duration": 9,
    "start_time": "2025-03-21T13:17:17.646Z"
   },
   {
    "duration": 106,
    "start_time": "2025-03-21T13:17:17.656Z"
   },
   {
    "duration": 39,
    "start_time": "2025-03-21T13:17:17.763Z"
   },
   {
    "duration": 131,
    "start_time": "2025-03-21T13:17:17.804Z"
   },
   {
    "duration": 4,
    "start_time": "2025-03-21T13:17:17.936Z"
   },
   {
    "duration": 89,
    "start_time": "2025-03-21T13:17:17.955Z"
   },
   {
    "duration": 20,
    "start_time": "2025-03-21T13:17:18.045Z"
   },
   {
    "duration": 119,
    "start_time": "2025-03-21T13:17:18.067Z"
   },
   {
    "duration": 110,
    "start_time": "2025-03-21T13:17:18.188Z"
   },
   {
    "duration": 6,
    "start_time": "2025-03-21T13:17:18.299Z"
   },
   {
    "duration": 12,
    "start_time": "2025-03-21T13:17:18.307Z"
   },
   {
    "duration": 180,
    "start_time": "2025-03-21T13:17:18.321Z"
   },
   {
    "duration": 110,
    "start_time": "2025-03-21T13:17:18.502Z"
   },
   {
    "duration": 3,
    "start_time": "2025-03-21T13:17:18.614Z"
   },
   {
    "duration": 196,
    "start_time": "2025-03-21T13:17:18.619Z"
   },
   {
    "duration": 135,
    "start_time": "2025-03-21T13:17:18.816Z"
   },
   {
    "duration": 33,
    "start_time": "2025-03-21T13:17:18.955Z"
   },
   {
    "duration": 12,
    "start_time": "2025-03-21T13:17:18.989Z"
   },
   {
    "duration": 210,
    "start_time": "2025-03-21T13:17:19.002Z"
   },
   {
    "duration": 134,
    "start_time": "2025-03-21T13:17:19.214Z"
   },
   {
    "duration": 28,
    "start_time": "2025-03-21T13:17:19.350Z"
   },
   {
    "duration": 13,
    "start_time": "2025-03-21T13:17:19.380Z"
   },
   {
    "duration": 13,
    "start_time": "2025-03-21T13:17:19.395Z"
   },
   {
    "duration": 14,
    "start_time": "2025-03-21T13:17:19.410Z"
   },
   {
    "duration": 30,
    "start_time": "2025-03-21T13:17:19.426Z"
   },
   {
    "duration": 347,
    "start_time": "2025-03-21T13:17:19.458Z"
   },
   {
    "duration": 182,
    "start_time": "2025-03-21T13:17:19.807Z"
   },
   {
    "duration": 318,
    "start_time": "2025-03-21T13:17:19.991Z"
   },
   {
    "duration": 172,
    "start_time": "2025-03-21T13:17:20.310Z"
   },
   {
    "duration": 6,
    "start_time": "2025-03-21T13:17:20.484Z"
   },
   {
    "duration": 88,
    "start_time": "2025-03-21T13:17:20.491Z"
   },
   {
    "duration": 9,
    "start_time": "2025-03-21T13:17:20.581Z"
   },
   {
    "duration": 28,
    "start_time": "2025-03-21T13:17:20.594Z"
   },
   {
    "duration": 17,
    "start_time": "2025-03-21T13:17:20.624Z"
   },
   {
    "duration": 59,
    "start_time": "2025-03-21T13:17:20.642Z"
   },
   {
    "duration": 6,
    "start_time": "2025-03-21T13:17:20.702Z"
   },
   {
    "duration": 45,
    "start_time": "2025-03-21T13:17:20.709Z"
   },
   {
    "duration": 266,
    "start_time": "2025-03-21T13:17:20.755Z"
   },
   {
    "duration": 16,
    "start_time": "2025-03-21T13:17:21.022Z"
   },
   {
    "duration": 41,
    "start_time": "2025-03-21T13:17:21.040Z"
   },
   {
    "duration": 9,
    "start_time": "2025-03-21T13:17:21.082Z"
   },
   {
    "duration": 48,
    "start_time": "2025-03-21T13:17:21.093Z"
   },
   {
    "duration": 50,
    "start_time": "2025-03-21T13:17:21.142Z"
   },
   {
    "duration": 23,
    "start_time": "2025-03-21T13:17:21.194Z"
   },
   {
    "duration": 187,
    "start_time": "2025-03-21T13:17:21.219Z"
   },
   {
    "duration": 12,
    "start_time": "2025-03-21T13:17:21.407Z"
   },
   {
    "duration": 23,
    "start_time": "2025-03-21T13:17:21.421Z"
   },
   {
    "duration": 31,
    "start_time": "2025-03-21T13:17:21.445Z"
   },
   {
    "duration": 12,
    "start_time": "2025-03-21T13:17:21.478Z"
   },
   {
    "duration": 158,
    "start_time": "2025-03-21T13:17:21.491Z"
   },
   {
    "duration": 20,
    "start_time": "2025-03-21T13:17:21.650Z"
   },
   {
    "duration": 74,
    "start_time": "2025-03-21T13:17:21.671Z"
   },
   {
    "duration": 48,
    "start_time": "2025-03-21T13:17:21.747Z"
   },
   {
    "duration": 22,
    "start_time": "2025-03-21T13:17:21.796Z"
   },
   {
    "duration": 9,
    "start_time": "2025-03-21T13:17:21.820Z"
   },
   {
    "duration": 27,
    "start_time": "2025-03-21T13:17:21.831Z"
   },
   {
    "duration": 17,
    "start_time": "2025-03-21T13:17:21.859Z"
   },
   {
    "duration": 15,
    "start_time": "2025-03-21T13:17:21.878Z"
   },
   {
    "duration": 1210,
    "start_time": "2025-03-21T13:17:21.894Z"
   },
   {
    "duration": 8,
    "start_time": "2025-03-21T13:17:23.105Z"
   },
   {
    "duration": 63,
    "start_time": "2025-03-21T13:17:23.114Z"
   },
   {
    "duration": 1472,
    "start_time": "2025-03-21T13:17:23.178Z"
   },
   {
    "duration": 4,
    "start_time": "2025-03-21T13:17:24.656Z"
   },
   {
    "duration": 161,
    "start_time": "2025-03-21T13:17:24.661Z"
   },
   {
    "duration": 5,
    "start_time": "2025-03-21T13:17:24.824Z"
   },
   {
    "duration": 1008,
    "start_time": "2025-03-22T08:29:31.144Z"
   },
   {
    "duration": 3,
    "start_time": "2025-03-22T08:29:32.153Z"
   },
   {
    "duration": 39,
    "start_time": "2025-03-22T08:29:32.157Z"
   },
   {
    "duration": 38,
    "start_time": "2025-03-22T08:29:32.198Z"
   },
   {
    "duration": 21,
    "start_time": "2025-03-22T08:29:32.238Z"
   },
   {
    "duration": 53,
    "start_time": "2025-03-22T08:29:32.260Z"
   },
   {
    "duration": 19,
    "start_time": "2025-03-22T08:29:32.314Z"
   },
   {
    "duration": 7,
    "start_time": "2025-03-22T08:29:32.335Z"
   },
   {
    "duration": 16,
    "start_time": "2025-03-22T08:29:32.343Z"
   },
   {
    "duration": 7,
    "start_time": "2025-03-22T08:29:32.361Z"
   },
   {
    "duration": 14,
    "start_time": "2025-03-22T08:29:32.369Z"
   },
   {
    "duration": 9,
    "start_time": "2025-03-22T08:29:32.385Z"
   },
   {
    "duration": 145,
    "start_time": "2025-03-22T08:29:32.395Z"
   },
   {
    "duration": 4,
    "start_time": "2025-03-22T08:29:32.541Z"
   },
   {
    "duration": 13,
    "start_time": "2025-03-22T08:29:32.546Z"
   },
   {
    "duration": 25,
    "start_time": "2025-03-22T08:29:32.560Z"
   },
   {
    "duration": 140,
    "start_time": "2025-03-22T08:29:32.586Z"
   },
   {
    "duration": 81,
    "start_time": "2025-03-22T08:29:32.727Z"
   },
   {
    "duration": 11,
    "start_time": "2025-03-22T08:29:32.810Z"
   },
   {
    "duration": 4,
    "start_time": "2025-03-22T08:29:32.822Z"
   },
   {
    "duration": 181,
    "start_time": "2025-03-22T08:29:32.828Z"
   },
   {
    "duration": 120,
    "start_time": "2025-03-22T08:29:33.011Z"
   },
   {
    "duration": 5,
    "start_time": "2025-03-22T08:29:33.133Z"
   },
   {
    "duration": 198,
    "start_time": "2025-03-22T08:29:33.140Z"
   },
   {
    "duration": 138,
    "start_time": "2025-03-22T08:29:33.340Z"
   },
   {
    "duration": 9,
    "start_time": "2025-03-22T08:29:33.480Z"
   },
   {
    "duration": 17,
    "start_time": "2025-03-22T08:29:33.491Z"
   },
   {
    "duration": 218,
    "start_time": "2025-03-22T08:29:33.513Z"
   },
   {
    "duration": 144,
    "start_time": "2025-03-22T08:29:33.733Z"
   },
   {
    "duration": 31,
    "start_time": "2025-03-22T08:29:33.878Z"
   },
   {
    "duration": 17,
    "start_time": "2025-03-22T08:29:33.911Z"
   },
   {
    "duration": 94,
    "start_time": "2025-03-22T08:29:33.929Z"
   },
   {
    "duration": 14,
    "start_time": "2025-03-22T08:29:34.025Z"
   },
   {
    "duration": 4,
    "start_time": "2025-03-22T08:29:34.041Z"
   },
   {
    "duration": 307,
    "start_time": "2025-03-22T08:29:34.047Z"
   },
   {
    "duration": 186,
    "start_time": "2025-03-22T08:29:34.356Z"
   },
   {
    "duration": 316,
    "start_time": "2025-03-22T08:29:34.544Z"
   },
   {
    "duration": 171,
    "start_time": "2025-03-22T08:29:34.862Z"
   },
   {
    "duration": 6,
    "start_time": "2025-03-22T08:29:35.035Z"
   },
   {
    "duration": 22,
    "start_time": "2025-03-22T08:29:35.042Z"
   },
   {
    "duration": 4,
    "start_time": "2025-03-22T08:29:35.066Z"
   },
   {
    "duration": 32,
    "start_time": "2025-03-22T08:29:35.072Z"
   },
   {
    "duration": 4,
    "start_time": "2025-03-22T08:29:35.107Z"
   },
   {
    "duration": 36,
    "start_time": "2025-03-22T08:29:35.112Z"
   },
   {
    "duration": 41,
    "start_time": "2025-03-22T08:29:35.149Z"
   },
   {
    "duration": 40,
    "start_time": "2025-03-22T08:29:35.191Z"
   },
   {
    "duration": 239,
    "start_time": "2025-03-22T08:29:35.232Z"
   },
   {
    "duration": 15,
    "start_time": "2025-03-22T08:29:35.473Z"
   },
   {
    "duration": 37,
    "start_time": "2025-03-22T08:29:35.490Z"
   },
   {
    "duration": 9,
    "start_time": "2025-03-22T08:29:35.528Z"
   },
   {
    "duration": 20,
    "start_time": "2025-03-22T08:29:35.538Z"
   },
   {
    "duration": 23,
    "start_time": "2025-03-22T08:29:35.560Z"
   },
   {
    "duration": 19,
    "start_time": "2025-03-22T08:29:35.585Z"
   },
   {
    "duration": 184,
    "start_time": "2025-03-22T08:29:35.605Z"
   },
   {
    "duration": 12,
    "start_time": "2025-03-22T08:29:35.791Z"
   },
   {
    "duration": 12,
    "start_time": "2025-03-22T08:29:35.804Z"
   },
   {
    "duration": 21,
    "start_time": "2025-03-22T08:29:35.818Z"
   },
   {
    "duration": 4,
    "start_time": "2025-03-22T08:29:35.840Z"
   },
   {
    "duration": 12,
    "start_time": "2025-03-22T08:29:35.846Z"
   },
   {
    "duration": 31,
    "start_time": "2025-03-22T08:29:35.859Z"
   },
   {
    "duration": 18,
    "start_time": "2025-03-22T08:29:35.892Z"
   },
   {
    "duration": 18,
    "start_time": "2025-03-22T08:29:35.911Z"
   },
   {
    "duration": 10,
    "start_time": "2025-03-22T08:29:35.931Z"
   },
   {
    "duration": 41,
    "start_time": "2025-03-22T08:29:35.942Z"
   },
   {
    "duration": 33,
    "start_time": "2025-03-22T08:29:35.985Z"
   },
   {
    "duration": 8,
    "start_time": "2025-03-22T08:29:36.020Z"
   },
   {
    "duration": 10,
    "start_time": "2025-03-22T08:29:36.030Z"
   },
   {
    "duration": 1274,
    "start_time": "2025-03-22T08:29:36.042Z"
   },
   {
    "duration": 8,
    "start_time": "2025-03-22T08:29:37.318Z"
   },
   {
    "duration": 41,
    "start_time": "2025-03-22T08:29:37.327Z"
   },
   {
    "duration": 1580,
    "start_time": "2025-03-22T08:29:37.369Z"
   },
   {
    "duration": 4,
    "start_time": "2025-03-22T08:29:38.950Z"
   },
   {
    "duration": 252,
    "start_time": "2025-03-22T08:29:38.955Z"
   },
   {
    "duration": 5,
    "start_time": "2025-03-22T08:29:39.208Z"
   }
  ],
  "kernelspec": {
   "display_name": "Python 3 (ipykernel)",
   "language": "python",
   "name": "python3"
  },
  "language_info": {
   "codemirror_mode": {
    "name": "ipython",
    "version": 3
   },
   "file_extension": ".py",
   "mimetype": "text/x-python",
   "name": "python",
   "nbconvert_exporter": "python",
   "pygments_lexer": "ipython3",
   "version": "3.9.5"
  },
  "toc": {
   "base_numbering": 1,
   "nav_menu": {},
   "number_sections": true,
   "sideBar": true,
   "skip_h1_title": true,
   "title_cell": "Table of Contents",
   "title_sidebar": "Contents",
   "toc_cell": false,
   "toc_position": {},
   "toc_section_display": true,
   "toc_window_display": false
  }
 },
 "nbformat": 4,
 "nbformat_minor": 5
}
