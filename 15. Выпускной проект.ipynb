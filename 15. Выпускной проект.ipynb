{
 "cells": [
  {
   "cell_type": "markdown",
   "id": "bf86442f",
   "metadata": {},
   "source": [
    "# Описание проекта: промышленность"
   ]
  },
  {
   "cell_type": "markdown",
   "id": "0e0c0fef",
   "metadata": {},
   "source": [
    "Чтобы оптимизировать производственные расходы, металлургический комбинат «Стальная птица» решил уменьшить потребление электроэнергии на этапе обработки стали. Для этого комбинату нужно контролировать температуру сплава. Ваша задача — построить модель, которая будет её предсказывать.\n",
    "\n",
    "Заказчик хочет использовать разработанную модель для имитации технологического процесса. Ниже расскажем о деталях этого процесса. Их важно знать, прежде чем генерировать новые признаки.\n",
    "\n",
    "**Цель проекта**\n",
    "\n",
    "Оптимизация производственных расходов металлургического комбината, с помощью построения модели машинного обучения, которая предсказывает температуру сплава.\n",
    "\n",
    "Модель позволит снизить затраты на электричество, обслуживание и ремонты.\n",
    "\n",
    "- Целевая переменная target - последняя температура по всей партии \n",
    "- Целевая метрика - MAE (нужно получить не более 6.8 на тесте)\n",
    "\n",
    "**Описание этапа обработки**\n",
    "\n",
    "Сталь обрабатывают в металлическом ковше вместимостью около 100 тонн. Чтобы ковш выдерживал высокие температуры, изнутри его облицовывают огнеупорным кирпичом. Расплавленную сталь заливают в ковш и подогревают до нужной температуры графитовыми электродами. Они установлены в крышке ковша.\n",
    "\n",
    "Из сплава выводится сера (этот процесс — десульфурация), добавлением примесей корректируется химический состав и отбираются пробы. Сталь легируют — изменяют её состав — подавая куски сплава из бункера для сыпучих материалов или проволоку через специальный трайб-аппарат (от англ. tribe — «масса»).\n",
    "\n",
    "Перед тем как первый раз ввести легирующие добавки, измеряют температуру стали и производят её химический анализ. Потом температуру на несколько минут повышают, добавляют легирующие материалы и продувают сплав инертным газом. Затем его перемешивают и снова проводят измерения. Такой цикл повторяется до достижения целевого химического состава и оптимальной температуры плавки.\n",
    "\n",
    "Тогда расплавленная сталь отправляется на доводку металла или поступает в машину непрерывной разливки. Оттуда готовый продукт выходит в виде заготовок-слябов (от англ. slab — «плита»).\n",
    "\n",
    "**Описание данных**\n",
    "\n",
    "Данные состоят из нескольких файлов, полученных из разных источников:\n",
    "    \n",
    "- `data_arc_new.csv` — данные об электродах;\n",
    "\n",
    "- `data_bulk_new.csv` — данные о подаче сыпучих материалов (объём);\n",
    "\n",
    "- `data_bulk_time_new.csv` — данные о подаче сыпучих материалов (время);\n",
    "\n",
    "- `data_gas_new.csv` — данные о продувке сплава газом;\n",
    "\n",
    "- `data_temp_new.csv` — результаты измерения температуры;\n",
    "\n",
    "- `data_wire_new.csv` — данные о проволочных материалах (объём);\n",
    "\n",
    "- `data_wire_time_new.csv` — данные о проволочных материалах (время).\n",
    "\n",
    "**Файл `data_arc_new.csv`**\n",
    "\n",
    "- `key` — номер партии;\n",
    "- `Начало нагрева дугой` — время начала нагрева;\n",
    "- `Конец нагрева дугой` — время окончания нагрева;\n",
    "- `Активная мощность` — значение активной мощности;\n",
    "- `Реактивная мощность` — значение реактивной мощности.\n",
    "\n",
    "**Файл `data_bulk_new.csv`**\n",
    "\n",
    "- `key` — номер партии;\n",
    "- `Bulk 1` … `Bulk 15` — объём подаваемого материала.\n",
    "\n",
    "**Файл `data_bulk_time_new.csv`**\n",
    "\n",
    "- `key` — номер партии;\n",
    "- `Bulk 1` … `Bulk 15` — время подачи материала.\n",
    "\n",
    "**Файл `data_gas_new.csv`**\n",
    "\n",
    "- `key` — номер партии;\n",
    "- `Газ 1` — объём подаваемого газа.\n",
    "\n",
    "**Файл `data_temp_new.csv`**\n",
    "\n",
    "- `key` — номер партии;\n",
    "- `Время замера` — время замера;\n",
    "- `Температура` — значение температуры.\n",
    "\n",
    "**Файл `data_wire_new.csv`**\n",
    "\n",
    "- `key` — номер партии;\n",
    "- `Wire 1` … `Wire 9` — объём подаваемых проволочных материалов.\n",
    "\n",
    "**Файл `data_wire_time_new.csv`**\n",
    "\n",
    "- `key` — номер партии;\n",
    "- `Wire 1` … `Wire 9` — время подачи проволочных материалов.\n",
    "\n",
    "**План работы**\n",
    "\n",
    "1. Загрузка данных\n",
    "2. Исследовательский анализ и предобработка данных\n",
    "3. Объединение данных\n",
    "4. Исследовательский анализ и предобработка данных объединённого датафрейма\n",
    "5. Подготовка данных\n",
    "6. Обучение моделей машинного обучения\n",
    "7. Выбор лучшей модели\n",
    "8. Общий вывод и рекомендации заказчику"
   ]
  },
  {
   "cell_type": "markdown",
   "id": "a809e3ad",
   "metadata": {},
   "source": [
    "## Импорт библиотек"
   ]
  },
  {
   "cell_type": "code",
   "execution_count": 1,
   "id": "4bfe0663",
   "metadata": {},
   "outputs": [],
   "source": [
    "!pip install missingno -q"
   ]
  },
  {
   "cell_type": "code",
   "execution_count": 2,
   "id": "bc14f3c1",
   "metadata": {},
   "outputs": [],
   "source": [
    "import pandas as pd\n",
    "import os\n",
    "import math\n",
    "import matplotlib.pyplot as plt\n",
    "import seaborn as sns\n",
    "\n",
    "import missingno as msno\n",
    "\n",
    "from sklearn.model_selection import train_test_split, RandomizedSearchCV\n",
    "from sklearn.pipeline import Pipeline\n",
    "from sklearn.compose import ColumnTransformer\n",
    "from sklearn.impute import SimpleImputer\n",
    "from sklearn.preprocessing import StandardScaler, MinMaxScaler\n",
    "\n",
    "from lightgbm import LGBMRegressor\n",
    "from catboost import CatBoostRegressor, Pool\n",
    "from sklearn.linear_model import LinearRegression\n",
    "from sklearn.dummy import DummyRegressor\n",
    "\n",
    "from sklearn.metrics import mean_absolute_error, r2_score\n",
    "\n",
    "import warnings\n",
    "warnings.filterwarnings('ignore', category=DeprecationWarning)\n",
    "pd.set_option('display.max_columns', None)"
   ]
  },
  {
   "cell_type": "markdown",
   "id": "3791f39e",
   "metadata": {},
   "source": [
    "## Загрузка данных"
   ]
  },
  {
   "cell_type": "markdown",
   "id": "f8d88a90",
   "metadata": {},
   "source": [
    "### Файл `data_arc_new.csv`"
   ]
  },
  {
   "cell_type": "markdown",
   "id": "e881aa02",
   "metadata": {},
   "source": [
    "**В нем хранятся данные об электродах**\n",
    "\n",
    "- `key` — номер партии;\n",
    "- `Начало нагрева дугой` — время начала нагрева;\n",
    "- `Конец нагрева дугой` — время окончания нагрева;\n",
    "- `Активная мощность` — значение активной мощности;\n",
    "- `Реактивная мощность` — значение реактивной мощности."
   ]
  },
  {
   "cell_type": "markdown",
   "id": "76f11cd4",
   "metadata": {},
   "source": [
    "**Активная мощность** — это часть электроэнергии, которая напрямую преобразуется в полезные действия: нагревание, свечение ламп, вращение двигателей и другие виды работы. Именно её учёт ведётся в бытовых счётчиках, а измеряется она в ваттах (Вт) и киловаттах (кВт).\n",
    "\n",
    "**Реактивная мощность** — это энергия, временно запасаемая в электромагнитных полях устройств (например, в катушках или конденсаторах), которая не расходуется на совершение работы, но циркулирует между источником и нагрузкой. Из-за неё возрастают потери в проводах и увеличивается нагрузка на оборудование, хотя сама по себе она не производит полезного эффекта."
   ]
  },
  {
   "cell_type": "code",
   "execution_count": 3,
   "id": "b71efcd8",
   "metadata": {},
   "outputs": [
    {
     "data": {
      "text/html": [
       "<div>\n",
       "<style scoped>\n",
       "    .dataframe tbody tr th:only-of-type {\n",
       "        vertical-align: middle;\n",
       "    }\n",
       "\n",
       "    .dataframe tbody tr th {\n",
       "        vertical-align: top;\n",
       "    }\n",
       "\n",
       "    .dataframe thead th {\n",
       "        text-align: right;\n",
       "    }\n",
       "</style>\n",
       "<table border=\"1\" class=\"dataframe\">\n",
       "  <thead>\n",
       "    <tr style=\"text-align: right;\">\n",
       "      <th></th>\n",
       "      <th>key</th>\n",
       "      <th>Начало нагрева дугой</th>\n",
       "      <th>Конец нагрева дугой</th>\n",
       "      <th>Активная мощность</th>\n",
       "      <th>Реактивная мощность</th>\n",
       "    </tr>\n",
       "  </thead>\n",
       "  <tbody>\n",
       "    <tr>\n",
       "      <th>0</th>\n",
       "      <td>1</td>\n",
       "      <td>2019-05-03 11:02:14</td>\n",
       "      <td>2019-05-03 11:06:02</td>\n",
       "      <td>0.305130</td>\n",
       "      <td>0.211253</td>\n",
       "    </tr>\n",
       "    <tr>\n",
       "      <th>1</th>\n",
       "      <td>1</td>\n",
       "      <td>2019-05-03 11:07:28</td>\n",
       "      <td>2019-05-03 11:10:33</td>\n",
       "      <td>0.765658</td>\n",
       "      <td>0.477438</td>\n",
       "    </tr>\n",
       "    <tr>\n",
       "      <th>2</th>\n",
       "      <td>1</td>\n",
       "      <td>2019-05-03 11:11:44</td>\n",
       "      <td>2019-05-03 11:14:36</td>\n",
       "      <td>0.580313</td>\n",
       "      <td>0.430460</td>\n",
       "    </tr>\n",
       "    <tr>\n",
       "      <th>3</th>\n",
       "      <td>1</td>\n",
       "      <td>2019-05-03 11:18:14</td>\n",
       "      <td>2019-05-03 11:24:19</td>\n",
       "      <td>0.518496</td>\n",
       "      <td>0.379979</td>\n",
       "    </tr>\n",
       "    <tr>\n",
       "      <th>4</th>\n",
       "      <td>1</td>\n",
       "      <td>2019-05-03 11:26:09</td>\n",
       "      <td>2019-05-03 11:28:37</td>\n",
       "      <td>0.867133</td>\n",
       "      <td>0.643691</td>\n",
       "    </tr>\n",
       "    <tr>\n",
       "      <th>5</th>\n",
       "      <td>2</td>\n",
       "      <td>2019-05-03 11:34:14</td>\n",
       "      <td>2019-05-03 11:36:31</td>\n",
       "      <td>0.381124</td>\n",
       "      <td>0.220351</td>\n",
       "    </tr>\n",
       "    <tr>\n",
       "      <th>6</th>\n",
       "      <td>2</td>\n",
       "      <td>2019-05-03 11:38:50</td>\n",
       "      <td>2019-05-03 11:44:28</td>\n",
       "      <td>0.261665</td>\n",
       "      <td>0.205527</td>\n",
       "    </tr>\n",
       "    <tr>\n",
       "      <th>7</th>\n",
       "      <td>2</td>\n",
       "      <td>2019-05-03 11:46:19</td>\n",
       "      <td>2019-05-03 11:48:25</td>\n",
       "      <td>0.710297</td>\n",
       "      <td>0.484962</td>\n",
       "    </tr>\n",
       "    <tr>\n",
       "      <th>8</th>\n",
       "      <td>2</td>\n",
       "      <td>2019-05-03 11:49:48</td>\n",
       "      <td>2019-05-03 11:53:18</td>\n",
       "      <td>0.786322</td>\n",
       "      <td>0.542517</td>\n",
       "    </tr>\n",
       "    <tr>\n",
       "      <th>9</th>\n",
       "      <td>3</td>\n",
       "      <td>2019-05-03 12:06:54</td>\n",
       "      <td>2019-05-03 12:11:34</td>\n",
       "      <td>1.101678</td>\n",
       "      <td>0.820856</td>\n",
       "    </tr>\n",
       "  </tbody>\n",
       "</table>\n",
       "</div>"
      ],
      "text/plain": [
       "   key Начало нагрева дугой  Конец нагрева дугой  Активная мощность  \\\n",
       "0    1  2019-05-03 11:02:14  2019-05-03 11:06:02           0.305130   \n",
       "1    1  2019-05-03 11:07:28  2019-05-03 11:10:33           0.765658   \n",
       "2    1  2019-05-03 11:11:44  2019-05-03 11:14:36           0.580313   \n",
       "3    1  2019-05-03 11:18:14  2019-05-03 11:24:19           0.518496   \n",
       "4    1  2019-05-03 11:26:09  2019-05-03 11:28:37           0.867133   \n",
       "5    2  2019-05-03 11:34:14  2019-05-03 11:36:31           0.381124   \n",
       "6    2  2019-05-03 11:38:50  2019-05-03 11:44:28           0.261665   \n",
       "7    2  2019-05-03 11:46:19  2019-05-03 11:48:25           0.710297   \n",
       "8    2  2019-05-03 11:49:48  2019-05-03 11:53:18           0.786322   \n",
       "9    3  2019-05-03 12:06:54  2019-05-03 12:11:34           1.101678   \n",
       "\n",
       "   Реактивная мощность  \n",
       "0             0.211253  \n",
       "1             0.477438  \n",
       "2             0.430460  \n",
       "3             0.379979  \n",
       "4             0.643691  \n",
       "5             0.220351  \n",
       "6             0.205527  \n",
       "7             0.484962  \n",
       "8             0.542517  \n",
       "9             0.820856  "
      ]
     },
     "execution_count": 3,
     "metadata": {},
     "output_type": "execute_result"
    }
   ],
   "source": [
    "try:\n",
    "    data_arc = pd.read_csv('/datasets/data_arc_new.csv')\n",
    "except:\n",
    "    data_arc = pd.read_csv('https://code.s3.yandex.net/datasets/data_arc_new.csv')\n",
    "data_arc.head(10)"
   ]
  },
  {
   "cell_type": "markdown",
   "id": "fdd255a5",
   "metadata": {},
   "source": [
    "### `data_bulk_new.csv`"
   ]
  },
  {
   "cell_type": "markdown",
   "id": "460cd458",
   "metadata": {},
   "source": [
    "**Здесь хранятся данные о подаче сыпучих материалов (объём)**\n",
    "\n",
    "- `key` — номер партии;\n",
    "- `Bulk 1` … `Bulk 15` — объём подаваемого материала."
   ]
  },
  {
   "cell_type": "code",
   "execution_count": 4,
   "id": "5b1abe9e",
   "metadata": {},
   "outputs": [
    {
     "data": {
      "text/html": [
       "<div>\n",
       "<style scoped>\n",
       "    .dataframe tbody tr th:only-of-type {\n",
       "        vertical-align: middle;\n",
       "    }\n",
       "\n",
       "    .dataframe tbody tr th {\n",
       "        vertical-align: top;\n",
       "    }\n",
       "\n",
       "    .dataframe thead th {\n",
       "        text-align: right;\n",
       "    }\n",
       "</style>\n",
       "<table border=\"1\" class=\"dataframe\">\n",
       "  <thead>\n",
       "    <tr style=\"text-align: right;\">\n",
       "      <th></th>\n",
       "      <th>key</th>\n",
       "      <th>Bulk 1</th>\n",
       "      <th>Bulk 2</th>\n",
       "      <th>Bulk 3</th>\n",
       "      <th>Bulk 4</th>\n",
       "      <th>Bulk 5</th>\n",
       "      <th>Bulk 6</th>\n",
       "      <th>Bulk 7</th>\n",
       "      <th>Bulk 8</th>\n",
       "      <th>Bulk 9</th>\n",
       "      <th>Bulk 10</th>\n",
       "      <th>Bulk 11</th>\n",
       "      <th>Bulk 12</th>\n",
       "      <th>Bulk 13</th>\n",
       "      <th>Bulk 14</th>\n",
       "      <th>Bulk 15</th>\n",
       "    </tr>\n",
       "  </thead>\n",
       "  <tbody>\n",
       "    <tr>\n",
       "      <th>0</th>\n",
       "      <td>1</td>\n",
       "      <td>NaN</td>\n",
       "      <td>NaN</td>\n",
       "      <td>NaN</td>\n",
       "      <td>43.0</td>\n",
       "      <td>NaN</td>\n",
       "      <td>NaN</td>\n",
       "      <td>NaN</td>\n",
       "      <td>NaN</td>\n",
       "      <td>NaN</td>\n",
       "      <td>NaN</td>\n",
       "      <td>NaN</td>\n",
       "      <td>206.0</td>\n",
       "      <td>NaN</td>\n",
       "      <td>150.0</td>\n",
       "      <td>154.0</td>\n",
       "    </tr>\n",
       "    <tr>\n",
       "      <th>1</th>\n",
       "      <td>2</td>\n",
       "      <td>NaN</td>\n",
       "      <td>NaN</td>\n",
       "      <td>NaN</td>\n",
       "      <td>73.0</td>\n",
       "      <td>NaN</td>\n",
       "      <td>NaN</td>\n",
       "      <td>NaN</td>\n",
       "      <td>NaN</td>\n",
       "      <td>NaN</td>\n",
       "      <td>NaN</td>\n",
       "      <td>NaN</td>\n",
       "      <td>206.0</td>\n",
       "      <td>NaN</td>\n",
       "      <td>149.0</td>\n",
       "      <td>154.0</td>\n",
       "    </tr>\n",
       "    <tr>\n",
       "      <th>2</th>\n",
       "      <td>3</td>\n",
       "      <td>NaN</td>\n",
       "      <td>NaN</td>\n",
       "      <td>NaN</td>\n",
       "      <td>34.0</td>\n",
       "      <td>NaN</td>\n",
       "      <td>NaN</td>\n",
       "      <td>NaN</td>\n",
       "      <td>NaN</td>\n",
       "      <td>NaN</td>\n",
       "      <td>NaN</td>\n",
       "      <td>NaN</td>\n",
       "      <td>205.0</td>\n",
       "      <td>NaN</td>\n",
       "      <td>152.0</td>\n",
       "      <td>153.0</td>\n",
       "    </tr>\n",
       "    <tr>\n",
       "      <th>3</th>\n",
       "      <td>4</td>\n",
       "      <td>NaN</td>\n",
       "      <td>NaN</td>\n",
       "      <td>NaN</td>\n",
       "      <td>81.0</td>\n",
       "      <td>NaN</td>\n",
       "      <td>NaN</td>\n",
       "      <td>NaN</td>\n",
       "      <td>NaN</td>\n",
       "      <td>NaN</td>\n",
       "      <td>NaN</td>\n",
       "      <td>NaN</td>\n",
       "      <td>207.0</td>\n",
       "      <td>NaN</td>\n",
       "      <td>153.0</td>\n",
       "      <td>154.0</td>\n",
       "    </tr>\n",
       "    <tr>\n",
       "      <th>4</th>\n",
       "      <td>5</td>\n",
       "      <td>NaN</td>\n",
       "      <td>NaN</td>\n",
       "      <td>NaN</td>\n",
       "      <td>78.0</td>\n",
       "      <td>NaN</td>\n",
       "      <td>NaN</td>\n",
       "      <td>NaN</td>\n",
       "      <td>NaN</td>\n",
       "      <td>NaN</td>\n",
       "      <td>NaN</td>\n",
       "      <td>NaN</td>\n",
       "      <td>203.0</td>\n",
       "      <td>NaN</td>\n",
       "      <td>151.0</td>\n",
       "      <td>152.0</td>\n",
       "    </tr>\n",
       "    <tr>\n",
       "      <th>5</th>\n",
       "      <td>6</td>\n",
       "      <td>NaN</td>\n",
       "      <td>NaN</td>\n",
       "      <td>NaN</td>\n",
       "      <td>117.0</td>\n",
       "      <td>NaN</td>\n",
       "      <td>NaN</td>\n",
       "      <td>NaN</td>\n",
       "      <td>NaN</td>\n",
       "      <td>NaN</td>\n",
       "      <td>NaN</td>\n",
       "      <td>NaN</td>\n",
       "      <td>204.0</td>\n",
       "      <td>NaN</td>\n",
       "      <td>201.0</td>\n",
       "      <td>154.0</td>\n",
       "    </tr>\n",
       "    <tr>\n",
       "      <th>6</th>\n",
       "      <td>7</td>\n",
       "      <td>NaN</td>\n",
       "      <td>NaN</td>\n",
       "      <td>NaN</td>\n",
       "      <td>117.0</td>\n",
       "      <td>NaN</td>\n",
       "      <td>NaN</td>\n",
       "      <td>NaN</td>\n",
       "      <td>NaN</td>\n",
       "      <td>NaN</td>\n",
       "      <td>NaN</td>\n",
       "      <td>NaN</td>\n",
       "      <td>204.0</td>\n",
       "      <td>NaN</td>\n",
       "      <td>152.0</td>\n",
       "      <td>154.0</td>\n",
       "    </tr>\n",
       "    <tr>\n",
       "      <th>7</th>\n",
       "      <td>8</td>\n",
       "      <td>NaN</td>\n",
       "      <td>NaN</td>\n",
       "      <td>NaN</td>\n",
       "      <td>99.0</td>\n",
       "      <td>NaN</td>\n",
       "      <td>NaN</td>\n",
       "      <td>NaN</td>\n",
       "      <td>NaN</td>\n",
       "      <td>NaN</td>\n",
       "      <td>NaN</td>\n",
       "      <td>NaN</td>\n",
       "      <td>410.0</td>\n",
       "      <td>NaN</td>\n",
       "      <td>252.0</td>\n",
       "      <td>153.0</td>\n",
       "    </tr>\n",
       "    <tr>\n",
       "      <th>8</th>\n",
       "      <td>9</td>\n",
       "      <td>NaN</td>\n",
       "      <td>NaN</td>\n",
       "      <td>NaN</td>\n",
       "      <td>117.0</td>\n",
       "      <td>NaN</td>\n",
       "      <td>NaN</td>\n",
       "      <td>NaN</td>\n",
       "      <td>NaN</td>\n",
       "      <td>NaN</td>\n",
       "      <td>NaN</td>\n",
       "      <td>NaN</td>\n",
       "      <td>107.0</td>\n",
       "      <td>NaN</td>\n",
       "      <td>99.0</td>\n",
       "      <td>203.0</td>\n",
       "    </tr>\n",
       "    <tr>\n",
       "      <th>9</th>\n",
       "      <td>10</td>\n",
       "      <td>NaN</td>\n",
       "      <td>NaN</td>\n",
       "      <td>NaN</td>\n",
       "      <td>NaN</td>\n",
       "      <td>NaN</td>\n",
       "      <td>NaN</td>\n",
       "      <td>NaN</td>\n",
       "      <td>NaN</td>\n",
       "      <td>NaN</td>\n",
       "      <td>NaN</td>\n",
       "      <td>NaN</td>\n",
       "      <td>203.0</td>\n",
       "      <td>NaN</td>\n",
       "      <td>102.0</td>\n",
       "      <td>204.0</td>\n",
       "    </tr>\n",
       "  </tbody>\n",
       "</table>\n",
       "</div>"
      ],
      "text/plain": [
       "   key  Bulk 1  Bulk 2  Bulk 3  Bulk 4  Bulk 5  Bulk 6  Bulk 7  Bulk 8  \\\n",
       "0    1     NaN     NaN     NaN    43.0     NaN     NaN     NaN     NaN   \n",
       "1    2     NaN     NaN     NaN    73.0     NaN     NaN     NaN     NaN   \n",
       "2    3     NaN     NaN     NaN    34.0     NaN     NaN     NaN     NaN   \n",
       "3    4     NaN     NaN     NaN    81.0     NaN     NaN     NaN     NaN   \n",
       "4    5     NaN     NaN     NaN    78.0     NaN     NaN     NaN     NaN   \n",
       "5    6     NaN     NaN     NaN   117.0     NaN     NaN     NaN     NaN   \n",
       "6    7     NaN     NaN     NaN   117.0     NaN     NaN     NaN     NaN   \n",
       "7    8     NaN     NaN     NaN    99.0     NaN     NaN     NaN     NaN   \n",
       "8    9     NaN     NaN     NaN   117.0     NaN     NaN     NaN     NaN   \n",
       "9   10     NaN     NaN     NaN     NaN     NaN     NaN     NaN     NaN   \n",
       "\n",
       "   Bulk 9  Bulk 10  Bulk 11  Bulk 12  Bulk 13  Bulk 14  Bulk 15  \n",
       "0     NaN      NaN      NaN    206.0      NaN    150.0    154.0  \n",
       "1     NaN      NaN      NaN    206.0      NaN    149.0    154.0  \n",
       "2     NaN      NaN      NaN    205.0      NaN    152.0    153.0  \n",
       "3     NaN      NaN      NaN    207.0      NaN    153.0    154.0  \n",
       "4     NaN      NaN      NaN    203.0      NaN    151.0    152.0  \n",
       "5     NaN      NaN      NaN    204.0      NaN    201.0    154.0  \n",
       "6     NaN      NaN      NaN    204.0      NaN    152.0    154.0  \n",
       "7     NaN      NaN      NaN    410.0      NaN    252.0    153.0  \n",
       "8     NaN      NaN      NaN    107.0      NaN     99.0    203.0  \n",
       "9     NaN      NaN      NaN    203.0      NaN    102.0    204.0  "
      ]
     },
     "execution_count": 4,
     "metadata": {},
     "output_type": "execute_result"
    }
   ],
   "source": [
    "try:\n",
    "    data_bulk = pd.read_csv('/datasets/data_bulk_new.csv')\n",
    "except:\n",
    "    data_bulk = pd.read_csv('https://code.s3.yandex.net/datasets/data_bulk_new.csv')\n",
    "data_bulk.head(10)"
   ]
  },
  {
   "cell_type": "markdown",
   "id": "adbafe5b",
   "metadata": {},
   "source": [
    "### `data_bulk_time_new.csv`"
   ]
  },
  {
   "cell_type": "markdown",
   "id": "806debdc",
   "metadata": {},
   "source": [
    "**Здесь хранятся данные о подаче сыпучих материалов (время)**\\\n",
    "\n",
    "- `key` — номер партии;\n",
    "- `Bulk 1` … `Bulk 15` — время подачи материала."
   ]
  },
  {
   "cell_type": "code",
   "execution_count": 5,
   "id": "11de8a80",
   "metadata": {},
   "outputs": [
    {
     "data": {
      "text/html": [
       "<div>\n",
       "<style scoped>\n",
       "    .dataframe tbody tr th:only-of-type {\n",
       "        vertical-align: middle;\n",
       "    }\n",
       "\n",
       "    .dataframe tbody tr th {\n",
       "        vertical-align: top;\n",
       "    }\n",
       "\n",
       "    .dataframe thead th {\n",
       "        text-align: right;\n",
       "    }\n",
       "</style>\n",
       "<table border=\"1\" class=\"dataframe\">\n",
       "  <thead>\n",
       "    <tr style=\"text-align: right;\">\n",
       "      <th></th>\n",
       "      <th>key</th>\n",
       "      <th>Bulk 1</th>\n",
       "      <th>Bulk 2</th>\n",
       "      <th>Bulk 3</th>\n",
       "      <th>Bulk 4</th>\n",
       "      <th>Bulk 5</th>\n",
       "      <th>Bulk 6</th>\n",
       "      <th>Bulk 7</th>\n",
       "      <th>Bulk 8</th>\n",
       "      <th>Bulk 9</th>\n",
       "      <th>Bulk 10</th>\n",
       "      <th>Bulk 11</th>\n",
       "      <th>Bulk 12</th>\n",
       "      <th>Bulk 13</th>\n",
       "      <th>Bulk 14</th>\n",
       "      <th>Bulk 15</th>\n",
       "    </tr>\n",
       "  </thead>\n",
       "  <tbody>\n",
       "    <tr>\n",
       "      <th>0</th>\n",
       "      <td>1</td>\n",
       "      <td>NaN</td>\n",
       "      <td>NaN</td>\n",
       "      <td>NaN</td>\n",
       "      <td>2019-05-03 11:28:48</td>\n",
       "      <td>NaN</td>\n",
       "      <td>NaN</td>\n",
       "      <td>NaN</td>\n",
       "      <td>NaN</td>\n",
       "      <td>NaN</td>\n",
       "      <td>NaN</td>\n",
       "      <td>NaN</td>\n",
       "      <td>2019-05-03 11:24:31</td>\n",
       "      <td>NaN</td>\n",
       "      <td>2019-05-03 11:14:50</td>\n",
       "      <td>2019-05-03 11:10:43</td>\n",
       "    </tr>\n",
       "    <tr>\n",
       "      <th>1</th>\n",
       "      <td>2</td>\n",
       "      <td>NaN</td>\n",
       "      <td>NaN</td>\n",
       "      <td>NaN</td>\n",
       "      <td>2019-05-03 11:36:50</td>\n",
       "      <td>NaN</td>\n",
       "      <td>NaN</td>\n",
       "      <td>NaN</td>\n",
       "      <td>NaN</td>\n",
       "      <td>NaN</td>\n",
       "      <td>NaN</td>\n",
       "      <td>NaN</td>\n",
       "      <td>2019-05-03 11:53:30</td>\n",
       "      <td>NaN</td>\n",
       "      <td>2019-05-03 11:48:37</td>\n",
       "      <td>2019-05-03 11:44:39</td>\n",
       "    </tr>\n",
       "    <tr>\n",
       "      <th>2</th>\n",
       "      <td>3</td>\n",
       "      <td>NaN</td>\n",
       "      <td>NaN</td>\n",
       "      <td>NaN</td>\n",
       "      <td>2019-05-03 12:32:39</td>\n",
       "      <td>NaN</td>\n",
       "      <td>NaN</td>\n",
       "      <td>NaN</td>\n",
       "      <td>NaN</td>\n",
       "      <td>NaN</td>\n",
       "      <td>NaN</td>\n",
       "      <td>NaN</td>\n",
       "      <td>2019-05-03 12:27:13</td>\n",
       "      <td>NaN</td>\n",
       "      <td>2019-05-03 12:21:01</td>\n",
       "      <td>2019-05-03 12:16:16</td>\n",
       "    </tr>\n",
       "    <tr>\n",
       "      <th>3</th>\n",
       "      <td>4</td>\n",
       "      <td>NaN</td>\n",
       "      <td>NaN</td>\n",
       "      <td>NaN</td>\n",
       "      <td>2019-05-03 12:43:22</td>\n",
       "      <td>NaN</td>\n",
       "      <td>NaN</td>\n",
       "      <td>NaN</td>\n",
       "      <td>NaN</td>\n",
       "      <td>NaN</td>\n",
       "      <td>NaN</td>\n",
       "      <td>NaN</td>\n",
       "      <td>2019-05-03 12:58:00</td>\n",
       "      <td>NaN</td>\n",
       "      <td>2019-05-03 12:51:11</td>\n",
       "      <td>2019-05-03 12:46:36</td>\n",
       "    </tr>\n",
       "    <tr>\n",
       "      <th>4</th>\n",
       "      <td>5</td>\n",
       "      <td>NaN</td>\n",
       "      <td>NaN</td>\n",
       "      <td>NaN</td>\n",
       "      <td>2019-05-03 13:30:47</td>\n",
       "      <td>NaN</td>\n",
       "      <td>NaN</td>\n",
       "      <td>NaN</td>\n",
       "      <td>NaN</td>\n",
       "      <td>NaN</td>\n",
       "      <td>NaN</td>\n",
       "      <td>NaN</td>\n",
       "      <td>2019-05-03 13:30:47</td>\n",
       "      <td>NaN</td>\n",
       "      <td>2019-05-03 13:34:12</td>\n",
       "      <td>2019-05-03 13:30:47</td>\n",
       "    </tr>\n",
       "    <tr>\n",
       "      <th>5</th>\n",
       "      <td>6</td>\n",
       "      <td>NaN</td>\n",
       "      <td>NaN</td>\n",
       "      <td>NaN</td>\n",
       "      <td>2019-05-03 13:57:27</td>\n",
       "      <td>NaN</td>\n",
       "      <td>NaN</td>\n",
       "      <td>NaN</td>\n",
       "      <td>NaN</td>\n",
       "      <td>NaN</td>\n",
       "      <td>NaN</td>\n",
       "      <td>NaN</td>\n",
       "      <td>2019-05-03 13:48:52</td>\n",
       "      <td>NaN</td>\n",
       "      <td>2019-05-03 14:09:42</td>\n",
       "      <td>2019-05-03 14:03:15</td>\n",
       "    </tr>\n",
       "    <tr>\n",
       "      <th>6</th>\n",
       "      <td>7</td>\n",
       "      <td>NaN</td>\n",
       "      <td>NaN</td>\n",
       "      <td>NaN</td>\n",
       "      <td>2019-05-03 14:18:58</td>\n",
       "      <td>NaN</td>\n",
       "      <td>NaN</td>\n",
       "      <td>NaN</td>\n",
       "      <td>NaN</td>\n",
       "      <td>NaN</td>\n",
       "      <td>NaN</td>\n",
       "      <td>NaN</td>\n",
       "      <td>2019-05-03 14:41:26</td>\n",
       "      <td>NaN</td>\n",
       "      <td>2019-05-03 14:30:50</td>\n",
       "      <td>2019-05-03 14:27:16</td>\n",
       "    </tr>\n",
       "    <tr>\n",
       "      <th>7</th>\n",
       "      <td>8</td>\n",
       "      <td>NaN</td>\n",
       "      <td>NaN</td>\n",
       "      <td>NaN</td>\n",
       "      <td>2019-05-03 15:17:58</td>\n",
       "      <td>NaN</td>\n",
       "      <td>NaN</td>\n",
       "      <td>NaN</td>\n",
       "      <td>NaN</td>\n",
       "      <td>NaN</td>\n",
       "      <td>NaN</td>\n",
       "      <td>NaN</td>\n",
       "      <td>2019-05-03 15:17:58</td>\n",
       "      <td>NaN</td>\n",
       "      <td>2019-05-03 15:13:18</td>\n",
       "      <td>2019-05-03 15:05:33</td>\n",
       "    </tr>\n",
       "    <tr>\n",
       "      <th>8</th>\n",
       "      <td>9</td>\n",
       "      <td>NaN</td>\n",
       "      <td>NaN</td>\n",
       "      <td>NaN</td>\n",
       "      <td>2019-05-03 16:03:08</td>\n",
       "      <td>NaN</td>\n",
       "      <td>NaN</td>\n",
       "      <td>NaN</td>\n",
       "      <td>NaN</td>\n",
       "      <td>NaN</td>\n",
       "      <td>NaN</td>\n",
       "      <td>NaN</td>\n",
       "      <td>2019-05-03 16:03:08</td>\n",
       "      <td>NaN</td>\n",
       "      <td>2019-05-03 16:00:16</td>\n",
       "      <td>2019-05-03 15:52:39</td>\n",
       "    </tr>\n",
       "    <tr>\n",
       "      <th>9</th>\n",
       "      <td>10</td>\n",
       "      <td>NaN</td>\n",
       "      <td>NaN</td>\n",
       "      <td>NaN</td>\n",
       "      <td>NaN</td>\n",
       "      <td>NaN</td>\n",
       "      <td>NaN</td>\n",
       "      <td>NaN</td>\n",
       "      <td>NaN</td>\n",
       "      <td>NaN</td>\n",
       "      <td>NaN</td>\n",
       "      <td>NaN</td>\n",
       "      <td>2019-05-03 16:38:11</td>\n",
       "      <td>NaN</td>\n",
       "      <td>2019-05-03 16:34:24</td>\n",
       "      <td>2019-05-03 16:29:56</td>\n",
       "    </tr>\n",
       "  </tbody>\n",
       "</table>\n",
       "</div>"
      ],
      "text/plain": [
       "   key Bulk 1 Bulk 2 Bulk 3               Bulk 4 Bulk 5 Bulk 6 Bulk 7 Bulk 8  \\\n",
       "0    1    NaN    NaN    NaN  2019-05-03 11:28:48    NaN    NaN    NaN    NaN   \n",
       "1    2    NaN    NaN    NaN  2019-05-03 11:36:50    NaN    NaN    NaN    NaN   \n",
       "2    3    NaN    NaN    NaN  2019-05-03 12:32:39    NaN    NaN    NaN    NaN   \n",
       "3    4    NaN    NaN    NaN  2019-05-03 12:43:22    NaN    NaN    NaN    NaN   \n",
       "4    5    NaN    NaN    NaN  2019-05-03 13:30:47    NaN    NaN    NaN    NaN   \n",
       "5    6    NaN    NaN    NaN  2019-05-03 13:57:27    NaN    NaN    NaN    NaN   \n",
       "6    7    NaN    NaN    NaN  2019-05-03 14:18:58    NaN    NaN    NaN    NaN   \n",
       "7    8    NaN    NaN    NaN  2019-05-03 15:17:58    NaN    NaN    NaN    NaN   \n",
       "8    9    NaN    NaN    NaN  2019-05-03 16:03:08    NaN    NaN    NaN    NaN   \n",
       "9   10    NaN    NaN    NaN                  NaN    NaN    NaN    NaN    NaN   \n",
       "\n",
       "  Bulk 9 Bulk 10 Bulk 11              Bulk 12 Bulk 13              Bulk 14  \\\n",
       "0    NaN     NaN     NaN  2019-05-03 11:24:31     NaN  2019-05-03 11:14:50   \n",
       "1    NaN     NaN     NaN  2019-05-03 11:53:30     NaN  2019-05-03 11:48:37   \n",
       "2    NaN     NaN     NaN  2019-05-03 12:27:13     NaN  2019-05-03 12:21:01   \n",
       "3    NaN     NaN     NaN  2019-05-03 12:58:00     NaN  2019-05-03 12:51:11   \n",
       "4    NaN     NaN     NaN  2019-05-03 13:30:47     NaN  2019-05-03 13:34:12   \n",
       "5    NaN     NaN     NaN  2019-05-03 13:48:52     NaN  2019-05-03 14:09:42   \n",
       "6    NaN     NaN     NaN  2019-05-03 14:41:26     NaN  2019-05-03 14:30:50   \n",
       "7    NaN     NaN     NaN  2019-05-03 15:17:58     NaN  2019-05-03 15:13:18   \n",
       "8    NaN     NaN     NaN  2019-05-03 16:03:08     NaN  2019-05-03 16:00:16   \n",
       "9    NaN     NaN     NaN  2019-05-03 16:38:11     NaN  2019-05-03 16:34:24   \n",
       "\n",
       "               Bulk 15  \n",
       "0  2019-05-03 11:10:43  \n",
       "1  2019-05-03 11:44:39  \n",
       "2  2019-05-03 12:16:16  \n",
       "3  2019-05-03 12:46:36  \n",
       "4  2019-05-03 13:30:47  \n",
       "5  2019-05-03 14:03:15  \n",
       "6  2019-05-03 14:27:16  \n",
       "7  2019-05-03 15:05:33  \n",
       "8  2019-05-03 15:52:39  \n",
       "9  2019-05-03 16:29:56  "
      ]
     },
     "execution_count": 5,
     "metadata": {},
     "output_type": "execute_result"
    }
   ],
   "source": [
    "try:\n",
    "    data_bulk_time = pd.read_csv('/datasets/data_bulk_time_new.csv')\n",
    "except:\n",
    "    data_bulk_time = pd.read_csv('https://code.s3.yandex.net/datasets/data_bulk_time_new.csv')\n",
    "data_bulk_time.head(10)"
   ]
  },
  {
   "cell_type": "markdown",
   "id": "f9146fa9",
   "metadata": {},
   "source": [
    "### `data_gas_new.csv`"
   ]
  },
  {
   "cell_type": "markdown",
   "id": "10e28c5d",
   "metadata": {},
   "source": [
    "**Здесь хранятся данные о продувке сплава газом**\n",
    "\n",
    "- `key` — номер партии;\n",
    "- `Газ 1` — объём подаваемого газа."
   ]
  },
  {
   "cell_type": "code",
   "execution_count": 6,
   "id": "ffaa9519",
   "metadata": {},
   "outputs": [
    {
     "data": {
      "text/html": [
       "<div>\n",
       "<style scoped>\n",
       "    .dataframe tbody tr th:only-of-type {\n",
       "        vertical-align: middle;\n",
       "    }\n",
       "\n",
       "    .dataframe tbody tr th {\n",
       "        vertical-align: top;\n",
       "    }\n",
       "\n",
       "    .dataframe thead th {\n",
       "        text-align: right;\n",
       "    }\n",
       "</style>\n",
       "<table border=\"1\" class=\"dataframe\">\n",
       "  <thead>\n",
       "    <tr style=\"text-align: right;\">\n",
       "      <th></th>\n",
       "      <th>key</th>\n",
       "      <th>Газ 1</th>\n",
       "    </tr>\n",
       "  </thead>\n",
       "  <tbody>\n",
       "    <tr>\n",
       "      <th>0</th>\n",
       "      <td>1</td>\n",
       "      <td>29.749986</td>\n",
       "    </tr>\n",
       "    <tr>\n",
       "      <th>1</th>\n",
       "      <td>2</td>\n",
       "      <td>12.555561</td>\n",
       "    </tr>\n",
       "    <tr>\n",
       "      <th>2</th>\n",
       "      <td>3</td>\n",
       "      <td>28.554793</td>\n",
       "    </tr>\n",
       "    <tr>\n",
       "      <th>3</th>\n",
       "      <td>4</td>\n",
       "      <td>18.841219</td>\n",
       "    </tr>\n",
       "    <tr>\n",
       "      <th>4</th>\n",
       "      <td>5</td>\n",
       "      <td>5.413692</td>\n",
       "    </tr>\n",
       "    <tr>\n",
       "      <th>5</th>\n",
       "      <td>6</td>\n",
       "      <td>11.273392</td>\n",
       "    </tr>\n",
       "    <tr>\n",
       "      <th>6</th>\n",
       "      <td>7</td>\n",
       "      <td>9.836267</td>\n",
       "    </tr>\n",
       "    <tr>\n",
       "      <th>7</th>\n",
       "      <td>8</td>\n",
       "      <td>15.171553</td>\n",
       "    </tr>\n",
       "    <tr>\n",
       "      <th>8</th>\n",
       "      <td>9</td>\n",
       "      <td>8.216623</td>\n",
       "    </tr>\n",
       "    <tr>\n",
       "      <th>9</th>\n",
       "      <td>10</td>\n",
       "      <td>6.529891</td>\n",
       "    </tr>\n",
       "  </tbody>\n",
       "</table>\n",
       "</div>"
      ],
      "text/plain": [
       "   key      Газ 1\n",
       "0    1  29.749986\n",
       "1    2  12.555561\n",
       "2    3  28.554793\n",
       "3    4  18.841219\n",
       "4    5   5.413692\n",
       "5    6  11.273392\n",
       "6    7   9.836267\n",
       "7    8  15.171553\n",
       "8    9   8.216623\n",
       "9   10   6.529891"
      ]
     },
     "execution_count": 6,
     "metadata": {},
     "output_type": "execute_result"
    }
   ],
   "source": [
    "try:\n",
    "    data_gas = pd.read_csv('/datasets/data_gas_new.csv')\n",
    "except:\n",
    "    data_gas = pd.read_csv('https://code.s3.yandex.net/datasets/data_gas_new.csv')\n",
    "data_gas.head(10)"
   ]
  },
  {
   "cell_type": "markdown",
   "id": "1a56c3a1",
   "metadata": {},
   "source": [
    "### `data_temp_new.csv`"
   ]
  },
  {
   "cell_type": "markdown",
   "id": "65799105",
   "metadata": {},
   "source": [
    "**Здесь хранятся данные о результатах измерения температуры**\n",
    "\n",
    "- `key` — номер партии;\n",
    "- `Время замера` — время замера;\n",
    "- `Температура` — значение температуры."
   ]
  },
  {
   "cell_type": "code",
   "execution_count": 7,
   "id": "b9bb97a3",
   "metadata": {},
   "outputs": [
    {
     "data": {
      "text/html": [
       "<div>\n",
       "<style scoped>\n",
       "    .dataframe tbody tr th:only-of-type {\n",
       "        vertical-align: middle;\n",
       "    }\n",
       "\n",
       "    .dataframe tbody tr th {\n",
       "        vertical-align: top;\n",
       "    }\n",
       "\n",
       "    .dataframe thead th {\n",
       "        text-align: right;\n",
       "    }\n",
       "</style>\n",
       "<table border=\"1\" class=\"dataframe\">\n",
       "  <thead>\n",
       "    <tr style=\"text-align: right;\">\n",
       "      <th></th>\n",
       "      <th>key</th>\n",
       "      <th>Время замера</th>\n",
       "      <th>Температура</th>\n",
       "    </tr>\n",
       "  </thead>\n",
       "  <tbody>\n",
       "    <tr>\n",
       "      <th>0</th>\n",
       "      <td>1</td>\n",
       "      <td>2019-05-03 11:02:04</td>\n",
       "      <td>1571.0</td>\n",
       "    </tr>\n",
       "    <tr>\n",
       "      <th>1</th>\n",
       "      <td>1</td>\n",
       "      <td>2019-05-03 11:07:18</td>\n",
       "      <td>1604.0</td>\n",
       "    </tr>\n",
       "    <tr>\n",
       "      <th>2</th>\n",
       "      <td>1</td>\n",
       "      <td>2019-05-03 11:11:34</td>\n",
       "      <td>1618.0</td>\n",
       "    </tr>\n",
       "    <tr>\n",
       "      <th>3</th>\n",
       "      <td>1</td>\n",
       "      <td>2019-05-03 11:18:04</td>\n",
       "      <td>1601.0</td>\n",
       "    </tr>\n",
       "    <tr>\n",
       "      <th>4</th>\n",
       "      <td>1</td>\n",
       "      <td>2019-05-03 11:25:59</td>\n",
       "      <td>1606.0</td>\n",
       "    </tr>\n",
       "    <tr>\n",
       "      <th>5</th>\n",
       "      <td>1</td>\n",
       "      <td>2019-05-03 11:30:38</td>\n",
       "      <td>1613.0</td>\n",
       "    </tr>\n",
       "    <tr>\n",
       "      <th>6</th>\n",
       "      <td>2</td>\n",
       "      <td>2019-05-03 11:34:04</td>\n",
       "      <td>1581.0</td>\n",
       "    </tr>\n",
       "    <tr>\n",
       "      <th>7</th>\n",
       "      <td>2</td>\n",
       "      <td>2019-05-03 11:38:40</td>\n",
       "      <td>1577.0</td>\n",
       "    </tr>\n",
       "    <tr>\n",
       "      <th>8</th>\n",
       "      <td>2</td>\n",
       "      <td>2019-05-03 11:46:09</td>\n",
       "      <td>1589.0</td>\n",
       "    </tr>\n",
       "    <tr>\n",
       "      <th>9</th>\n",
       "      <td>2</td>\n",
       "      <td>2019-05-03 11:49:38</td>\n",
       "      <td>1604.0</td>\n",
       "    </tr>\n",
       "  </tbody>\n",
       "</table>\n",
       "</div>"
      ],
      "text/plain": [
       "   key         Время замера  Температура\n",
       "0    1  2019-05-03 11:02:04       1571.0\n",
       "1    1  2019-05-03 11:07:18       1604.0\n",
       "2    1  2019-05-03 11:11:34       1618.0\n",
       "3    1  2019-05-03 11:18:04       1601.0\n",
       "4    1  2019-05-03 11:25:59       1606.0\n",
       "5    1  2019-05-03 11:30:38       1613.0\n",
       "6    2  2019-05-03 11:34:04       1581.0\n",
       "7    2  2019-05-03 11:38:40       1577.0\n",
       "8    2  2019-05-03 11:46:09       1589.0\n",
       "9    2  2019-05-03 11:49:38       1604.0"
      ]
     },
     "execution_count": 7,
     "metadata": {},
     "output_type": "execute_result"
    }
   ],
   "source": [
    "try:\n",
    "    data_temp = pd.read_csv('/datasets/data_temp_new.csv')\n",
    "except:\n",
    "    data_temp = pd.read_csv('https://code.s3.yandex.net/datasets/data_temp_new.csv')\n",
    "data_temp.head(10)"
   ]
  },
  {
   "cell_type": "markdown",
   "id": "9dd93e6c",
   "metadata": {},
   "source": [
    "### `data_wire_new.csv`"
   ]
  },
  {
   "cell_type": "markdown",
   "id": "51cf6703",
   "metadata": {},
   "source": [
    "**Здесь хранятся данные о проволочных материалах (объём)**\n",
    "\n",
    "- `key` — номер партии;\n",
    "- `Wire 1` … `Wire 9` — объём подаваемых проволочных материалов."
   ]
  },
  {
   "cell_type": "code",
   "execution_count": 8,
   "id": "2807b876",
   "metadata": {},
   "outputs": [
    {
     "data": {
      "text/html": [
       "<div>\n",
       "<style scoped>\n",
       "    .dataframe tbody tr th:only-of-type {\n",
       "        vertical-align: middle;\n",
       "    }\n",
       "\n",
       "    .dataframe tbody tr th {\n",
       "        vertical-align: top;\n",
       "    }\n",
       "\n",
       "    .dataframe thead th {\n",
       "        text-align: right;\n",
       "    }\n",
       "</style>\n",
       "<table border=\"1\" class=\"dataframe\">\n",
       "  <thead>\n",
       "    <tr style=\"text-align: right;\">\n",
       "      <th></th>\n",
       "      <th>key</th>\n",
       "      <th>Wire 1</th>\n",
       "      <th>Wire 2</th>\n",
       "      <th>Wire 3</th>\n",
       "      <th>Wire 4</th>\n",
       "      <th>Wire 5</th>\n",
       "      <th>Wire 6</th>\n",
       "      <th>Wire 7</th>\n",
       "      <th>Wire 8</th>\n",
       "      <th>Wire 9</th>\n",
       "    </tr>\n",
       "  </thead>\n",
       "  <tbody>\n",
       "    <tr>\n",
       "      <th>0</th>\n",
       "      <td>1</td>\n",
       "      <td>60.059998</td>\n",
       "      <td>NaN</td>\n",
       "      <td>NaN</td>\n",
       "      <td>NaN</td>\n",
       "      <td>NaN</td>\n",
       "      <td>NaN</td>\n",
       "      <td>NaN</td>\n",
       "      <td>NaN</td>\n",
       "      <td>NaN</td>\n",
       "    </tr>\n",
       "    <tr>\n",
       "      <th>1</th>\n",
       "      <td>2</td>\n",
       "      <td>96.052315</td>\n",
       "      <td>NaN</td>\n",
       "      <td>NaN</td>\n",
       "      <td>NaN</td>\n",
       "      <td>NaN</td>\n",
       "      <td>NaN</td>\n",
       "      <td>NaN</td>\n",
       "      <td>NaN</td>\n",
       "      <td>NaN</td>\n",
       "    </tr>\n",
       "    <tr>\n",
       "      <th>2</th>\n",
       "      <td>3</td>\n",
       "      <td>91.160157</td>\n",
       "      <td>NaN</td>\n",
       "      <td>NaN</td>\n",
       "      <td>NaN</td>\n",
       "      <td>NaN</td>\n",
       "      <td>NaN</td>\n",
       "      <td>NaN</td>\n",
       "      <td>NaN</td>\n",
       "      <td>NaN</td>\n",
       "    </tr>\n",
       "    <tr>\n",
       "      <th>3</th>\n",
       "      <td>4</td>\n",
       "      <td>89.063515</td>\n",
       "      <td>NaN</td>\n",
       "      <td>NaN</td>\n",
       "      <td>NaN</td>\n",
       "      <td>NaN</td>\n",
       "      <td>NaN</td>\n",
       "      <td>NaN</td>\n",
       "      <td>NaN</td>\n",
       "      <td>NaN</td>\n",
       "    </tr>\n",
       "    <tr>\n",
       "      <th>4</th>\n",
       "      <td>5</td>\n",
       "      <td>89.238236</td>\n",
       "      <td>9.114560</td>\n",
       "      <td>NaN</td>\n",
       "      <td>NaN</td>\n",
       "      <td>NaN</td>\n",
       "      <td>NaN</td>\n",
       "      <td>NaN</td>\n",
       "      <td>NaN</td>\n",
       "      <td>NaN</td>\n",
       "    </tr>\n",
       "    <tr>\n",
       "      <th>5</th>\n",
       "      <td>6</td>\n",
       "      <td>99.109917</td>\n",
       "      <td>9.114560</td>\n",
       "      <td>NaN</td>\n",
       "      <td>NaN</td>\n",
       "      <td>NaN</td>\n",
       "      <td>NaN</td>\n",
       "      <td>NaN</td>\n",
       "      <td>NaN</td>\n",
       "      <td>NaN</td>\n",
       "    </tr>\n",
       "    <tr>\n",
       "      <th>6</th>\n",
       "      <td>7</td>\n",
       "      <td>98.061600</td>\n",
       "      <td>NaN</td>\n",
       "      <td>NaN</td>\n",
       "      <td>NaN</td>\n",
       "      <td>NaN</td>\n",
       "      <td>NaN</td>\n",
       "      <td>NaN</td>\n",
       "      <td>NaN</td>\n",
       "      <td>NaN</td>\n",
       "    </tr>\n",
       "    <tr>\n",
       "      <th>7</th>\n",
       "      <td>8</td>\n",
       "      <td>155.282394</td>\n",
       "      <td>NaN</td>\n",
       "      <td>NaN</td>\n",
       "      <td>NaN</td>\n",
       "      <td>NaN</td>\n",
       "      <td>NaN</td>\n",
       "      <td>NaN</td>\n",
       "      <td>NaN</td>\n",
       "      <td>NaN</td>\n",
       "    </tr>\n",
       "    <tr>\n",
       "      <th>8</th>\n",
       "      <td>9</td>\n",
       "      <td>113.393279</td>\n",
       "      <td>9.143681</td>\n",
       "      <td>NaN</td>\n",
       "      <td>NaN</td>\n",
       "      <td>NaN</td>\n",
       "      <td>NaN</td>\n",
       "      <td>NaN</td>\n",
       "      <td>NaN</td>\n",
       "      <td>NaN</td>\n",
       "    </tr>\n",
       "    <tr>\n",
       "      <th>9</th>\n",
       "      <td>10</td>\n",
       "      <td>81.244796</td>\n",
       "      <td>12.376000</td>\n",
       "      <td>NaN</td>\n",
       "      <td>NaN</td>\n",
       "      <td>NaN</td>\n",
       "      <td>NaN</td>\n",
       "      <td>NaN</td>\n",
       "      <td>NaN</td>\n",
       "      <td>NaN</td>\n",
       "    </tr>\n",
       "  </tbody>\n",
       "</table>\n",
       "</div>"
      ],
      "text/plain": [
       "   key      Wire 1     Wire 2  Wire 3  Wire 4  Wire 5  Wire 6  Wire 7  Wire 8  \\\n",
       "0    1   60.059998        NaN     NaN     NaN     NaN     NaN     NaN     NaN   \n",
       "1    2   96.052315        NaN     NaN     NaN     NaN     NaN     NaN     NaN   \n",
       "2    3   91.160157        NaN     NaN     NaN     NaN     NaN     NaN     NaN   \n",
       "3    4   89.063515        NaN     NaN     NaN     NaN     NaN     NaN     NaN   \n",
       "4    5   89.238236   9.114560     NaN     NaN     NaN     NaN     NaN     NaN   \n",
       "5    6   99.109917   9.114560     NaN     NaN     NaN     NaN     NaN     NaN   \n",
       "6    7   98.061600        NaN     NaN     NaN     NaN     NaN     NaN     NaN   \n",
       "7    8  155.282394        NaN     NaN     NaN     NaN     NaN     NaN     NaN   \n",
       "8    9  113.393279   9.143681     NaN     NaN     NaN     NaN     NaN     NaN   \n",
       "9   10   81.244796  12.376000     NaN     NaN     NaN     NaN     NaN     NaN   \n",
       "\n",
       "   Wire 9  \n",
       "0     NaN  \n",
       "1     NaN  \n",
       "2     NaN  \n",
       "3     NaN  \n",
       "4     NaN  \n",
       "5     NaN  \n",
       "6     NaN  \n",
       "7     NaN  \n",
       "8     NaN  \n",
       "9     NaN  "
      ]
     },
     "execution_count": 8,
     "metadata": {},
     "output_type": "execute_result"
    }
   ],
   "source": [
    "try:\n",
    "    data_wire = pd.read_csv('/datasets/data_wire_new.csv')\n",
    "except:\n",
    "    data_wire = pd.read_csv('https://code.s3.yandex.net/datasets/data_wire_new.csv')\n",
    "data_wire.head(10)"
   ]
  },
  {
   "cell_type": "markdown",
   "id": "1ee782aa",
   "metadata": {},
   "source": [
    "### `data_wire_time_new.csv`"
   ]
  },
  {
   "cell_type": "markdown",
   "id": "f8852f3b",
   "metadata": {},
   "source": [
    "**Здесь хранятся данные о проволочных материалах (время)**\n",
    "\n",
    "- `key` — номер партии;\n",
    "- `Wire 1` … `Wire 9` — время подачи проволочных материалов."
   ]
  },
  {
   "cell_type": "code",
   "execution_count": 9,
   "id": "c88b545c",
   "metadata": {},
   "outputs": [
    {
     "data": {
      "text/html": [
       "<div>\n",
       "<style scoped>\n",
       "    .dataframe tbody tr th:only-of-type {\n",
       "        vertical-align: middle;\n",
       "    }\n",
       "\n",
       "    .dataframe tbody tr th {\n",
       "        vertical-align: top;\n",
       "    }\n",
       "\n",
       "    .dataframe thead th {\n",
       "        text-align: right;\n",
       "    }\n",
       "</style>\n",
       "<table border=\"1\" class=\"dataframe\">\n",
       "  <thead>\n",
       "    <tr style=\"text-align: right;\">\n",
       "      <th></th>\n",
       "      <th>key</th>\n",
       "      <th>Wire 1</th>\n",
       "      <th>Wire 2</th>\n",
       "      <th>Wire 3</th>\n",
       "      <th>Wire 4</th>\n",
       "      <th>Wire 5</th>\n",
       "      <th>Wire 6</th>\n",
       "      <th>Wire 7</th>\n",
       "      <th>Wire 8</th>\n",
       "      <th>Wire 9</th>\n",
       "    </tr>\n",
       "  </thead>\n",
       "  <tbody>\n",
       "    <tr>\n",
       "      <th>0</th>\n",
       "      <td>1</td>\n",
       "      <td>2019-05-03 11:06:19</td>\n",
       "      <td>NaN</td>\n",
       "      <td>NaN</td>\n",
       "      <td>NaN</td>\n",
       "      <td>NaN</td>\n",
       "      <td>NaN</td>\n",
       "      <td>NaN</td>\n",
       "      <td>NaN</td>\n",
       "      <td>NaN</td>\n",
       "    </tr>\n",
       "    <tr>\n",
       "      <th>1</th>\n",
       "      <td>2</td>\n",
       "      <td>2019-05-03 11:36:50</td>\n",
       "      <td>NaN</td>\n",
       "      <td>NaN</td>\n",
       "      <td>NaN</td>\n",
       "      <td>NaN</td>\n",
       "      <td>NaN</td>\n",
       "      <td>NaN</td>\n",
       "      <td>NaN</td>\n",
       "      <td>NaN</td>\n",
       "    </tr>\n",
       "    <tr>\n",
       "      <th>2</th>\n",
       "      <td>3</td>\n",
       "      <td>2019-05-03 12:11:46</td>\n",
       "      <td>NaN</td>\n",
       "      <td>NaN</td>\n",
       "      <td>NaN</td>\n",
       "      <td>NaN</td>\n",
       "      <td>NaN</td>\n",
       "      <td>NaN</td>\n",
       "      <td>NaN</td>\n",
       "      <td>NaN</td>\n",
       "    </tr>\n",
       "    <tr>\n",
       "      <th>3</th>\n",
       "      <td>4</td>\n",
       "      <td>2019-05-03 12:43:22</td>\n",
       "      <td>NaN</td>\n",
       "      <td>NaN</td>\n",
       "      <td>NaN</td>\n",
       "      <td>NaN</td>\n",
       "      <td>NaN</td>\n",
       "      <td>NaN</td>\n",
       "      <td>NaN</td>\n",
       "      <td>NaN</td>\n",
       "    </tr>\n",
       "    <tr>\n",
       "      <th>4</th>\n",
       "      <td>5</td>\n",
       "      <td>2019-05-03 13:20:44</td>\n",
       "      <td>2019-05-03 13:15:34</td>\n",
       "      <td>NaN</td>\n",
       "      <td>NaN</td>\n",
       "      <td>NaN</td>\n",
       "      <td>NaN</td>\n",
       "      <td>NaN</td>\n",
       "      <td>NaN</td>\n",
       "      <td>NaN</td>\n",
       "    </tr>\n",
       "    <tr>\n",
       "      <th>5</th>\n",
       "      <td>6</td>\n",
       "      <td>2019-05-03 13:57:27</td>\n",
       "      <td>2019-05-03 13:48:52</td>\n",
       "      <td>NaN</td>\n",
       "      <td>NaN</td>\n",
       "      <td>NaN</td>\n",
       "      <td>NaN</td>\n",
       "      <td>NaN</td>\n",
       "      <td>NaN</td>\n",
       "      <td>NaN</td>\n",
       "    </tr>\n",
       "    <tr>\n",
       "      <th>6</th>\n",
       "      <td>7</td>\n",
       "      <td>2019-05-03 14:18:58</td>\n",
       "      <td>NaN</td>\n",
       "      <td>NaN</td>\n",
       "      <td>NaN</td>\n",
       "      <td>NaN</td>\n",
       "      <td>NaN</td>\n",
       "      <td>NaN</td>\n",
       "      <td>NaN</td>\n",
       "      <td>NaN</td>\n",
       "    </tr>\n",
       "    <tr>\n",
       "      <th>7</th>\n",
       "      <td>8</td>\n",
       "      <td>2019-05-03 15:01:30</td>\n",
       "      <td>NaN</td>\n",
       "      <td>NaN</td>\n",
       "      <td>NaN</td>\n",
       "      <td>NaN</td>\n",
       "      <td>NaN</td>\n",
       "      <td>NaN</td>\n",
       "      <td>NaN</td>\n",
       "      <td>NaN</td>\n",
       "    </tr>\n",
       "    <tr>\n",
       "      <th>8</th>\n",
       "      <td>9</td>\n",
       "      <td>2019-05-03 15:45:44</td>\n",
       "      <td>2019-05-03 15:39:37</td>\n",
       "      <td>NaN</td>\n",
       "      <td>NaN</td>\n",
       "      <td>NaN</td>\n",
       "      <td>NaN</td>\n",
       "      <td>NaN</td>\n",
       "      <td>NaN</td>\n",
       "      <td>NaN</td>\n",
       "    </tr>\n",
       "    <tr>\n",
       "      <th>9</th>\n",
       "      <td>10</td>\n",
       "      <td>2019-05-03 16:27:00</td>\n",
       "      <td>2019-05-03 16:22:36</td>\n",
       "      <td>NaN</td>\n",
       "      <td>NaN</td>\n",
       "      <td>NaN</td>\n",
       "      <td>NaN</td>\n",
       "      <td>NaN</td>\n",
       "      <td>NaN</td>\n",
       "      <td>NaN</td>\n",
       "    </tr>\n",
       "  </tbody>\n",
       "</table>\n",
       "</div>"
      ],
      "text/plain": [
       "   key               Wire 1               Wire 2 Wire 3 Wire 4 Wire 5 Wire 6  \\\n",
       "0    1  2019-05-03 11:06:19                  NaN    NaN    NaN    NaN    NaN   \n",
       "1    2  2019-05-03 11:36:50                  NaN    NaN    NaN    NaN    NaN   \n",
       "2    3  2019-05-03 12:11:46                  NaN    NaN    NaN    NaN    NaN   \n",
       "3    4  2019-05-03 12:43:22                  NaN    NaN    NaN    NaN    NaN   \n",
       "4    5  2019-05-03 13:20:44  2019-05-03 13:15:34    NaN    NaN    NaN    NaN   \n",
       "5    6  2019-05-03 13:57:27  2019-05-03 13:48:52    NaN    NaN    NaN    NaN   \n",
       "6    7  2019-05-03 14:18:58                  NaN    NaN    NaN    NaN    NaN   \n",
       "7    8  2019-05-03 15:01:30                  NaN    NaN    NaN    NaN    NaN   \n",
       "8    9  2019-05-03 15:45:44  2019-05-03 15:39:37    NaN    NaN    NaN    NaN   \n",
       "9   10  2019-05-03 16:27:00  2019-05-03 16:22:36    NaN    NaN    NaN    NaN   \n",
       "\n",
       "  Wire 7 Wire 8 Wire 9  \n",
       "0    NaN    NaN    NaN  \n",
       "1    NaN    NaN    NaN  \n",
       "2    NaN    NaN    NaN  \n",
       "3    NaN    NaN    NaN  \n",
       "4    NaN    NaN    NaN  \n",
       "5    NaN    NaN    NaN  \n",
       "6    NaN    NaN    NaN  \n",
       "7    NaN    NaN    NaN  \n",
       "8    NaN    NaN    NaN  \n",
       "9    NaN    NaN    NaN  "
      ]
     },
     "execution_count": 9,
     "metadata": {},
     "output_type": "execute_result"
    }
   ],
   "source": [
    "try:\n",
    "    data_wire_time = pd.read_csv('/datasets/data_wire_time_new.csv')\n",
    "except:\n",
    "    data_wire_time = pd.read_csv('https://code.s3.yandex.net/datasets/data_wire_time_new.csv')\n",
    "data_wire_time.head(10)"
   ]
  },
  {
   "cell_type": "markdown",
   "id": "867742f8",
   "metadata": {},
   "source": [
    "### Вывод по загрузке данных"
   ]
  },
  {
   "cell_type": "markdown",
   "id": "5d6a4373",
   "metadata": {},
   "source": [
    "- Данные, предоставленные заказчиком, успешно загружены и соответствуют заявленному описанию.\n",
    "- Наименования столбцов не соответствуют установленным стандартам или ожидаемому формату.\n",
    "- В ряде столбцов типы данных не согласуются с характером хранимой информации (например, числовые значения указаны как текстовые или наоборот).\n",
    "- Присутствует несогласованность в единицах измерения — данные представлены в разных масштабах или размерностях.\n",
    "\n",
    "Переходим к этапу исследовательского анализа данных."
   ]
  },
  {
   "cell_type": "markdown",
   "id": "3c11dcc6",
   "metadata": {},
   "source": [
    "## Исследовательский анализ и предобработка данных"
   ]
  },
  {
   "cell_type": "markdown",
   "id": "9ac453c7",
   "metadata": {},
   "source": [
    "### `data_arc_new.csv`"
   ]
  },
  {
   "cell_type": "code",
   "execution_count": 10,
   "id": "04bd1149",
   "metadata": {},
   "outputs": [
    {
     "name": "stdout",
     "output_type": "stream",
     "text": [
      "Описательная статистика\n"
     ]
    },
    {
     "data": {
      "text/html": [
       "<div>\n",
       "<style scoped>\n",
       "    .dataframe tbody tr th:only-of-type {\n",
       "        vertical-align: middle;\n",
       "    }\n",
       "\n",
       "    .dataframe tbody tr th {\n",
       "        vertical-align: top;\n",
       "    }\n",
       "\n",
       "    .dataframe thead th {\n",
       "        text-align: right;\n",
       "    }\n",
       "</style>\n",
       "<table border=\"1\" class=\"dataframe\">\n",
       "  <thead>\n",
       "    <tr style=\"text-align: right;\">\n",
       "      <th></th>\n",
       "      <th>Начало нагрева дугой</th>\n",
       "      <th>Конец нагрева дугой</th>\n",
       "      <th>Активная мощность</th>\n",
       "      <th>Реактивная мощность</th>\n",
       "    </tr>\n",
       "  </thead>\n",
       "  <tbody>\n",
       "    <tr>\n",
       "      <th>count</th>\n",
       "      <td>14876</td>\n",
       "      <td>14876</td>\n",
       "      <td>14876.00</td>\n",
       "      <td>14876.00</td>\n",
       "    </tr>\n",
       "    <tr>\n",
       "      <th>unique</th>\n",
       "      <td>14876</td>\n",
       "      <td>14876</td>\n",
       "      <td>NaN</td>\n",
       "      <td>NaN</td>\n",
       "    </tr>\n",
       "    <tr>\n",
       "      <th>top</th>\n",
       "      <td>2019-05-03 12:53:12</td>\n",
       "      <td>2019-08-10 21:07:42</td>\n",
       "      <td>NaN</td>\n",
       "      <td>NaN</td>\n",
       "    </tr>\n",
       "    <tr>\n",
       "      <th>freq</th>\n",
       "      <td>1</td>\n",
       "      <td>1</td>\n",
       "      <td>NaN</td>\n",
       "      <td>NaN</td>\n",
       "    </tr>\n",
       "    <tr>\n",
       "      <th>mean</th>\n",
       "      <td>NaN</td>\n",
       "      <td>NaN</td>\n",
       "      <td>0.66</td>\n",
       "      <td>0.44</td>\n",
       "    </tr>\n",
       "    <tr>\n",
       "      <th>std</th>\n",
       "      <td>NaN</td>\n",
       "      <td>NaN</td>\n",
       "      <td>0.26</td>\n",
       "      <td>5.87</td>\n",
       "    </tr>\n",
       "    <tr>\n",
       "      <th>min</th>\n",
       "      <td>NaN</td>\n",
       "      <td>NaN</td>\n",
       "      <td>0.22</td>\n",
       "      <td>-715.48</td>\n",
       "    </tr>\n",
       "    <tr>\n",
       "      <th>25%</th>\n",
       "      <td>NaN</td>\n",
       "      <td>NaN</td>\n",
       "      <td>0.47</td>\n",
       "      <td>0.34</td>\n",
       "    </tr>\n",
       "    <tr>\n",
       "      <th>50%</th>\n",
       "      <td>NaN</td>\n",
       "      <td>NaN</td>\n",
       "      <td>0.60</td>\n",
       "      <td>0.44</td>\n",
       "    </tr>\n",
       "    <tr>\n",
       "      <th>75%</th>\n",
       "      <td>NaN</td>\n",
       "      <td>NaN</td>\n",
       "      <td>0.83</td>\n",
       "      <td>0.61</td>\n",
       "    </tr>\n",
       "    <tr>\n",
       "      <th>max</th>\n",
       "      <td>NaN</td>\n",
       "      <td>NaN</td>\n",
       "      <td>1.46</td>\n",
       "      <td>1.27</td>\n",
       "    </tr>\n",
       "  </tbody>\n",
       "</table>\n",
       "</div>"
      ],
      "text/plain": [
       "       Начало нагрева дугой  Конец нагрева дугой  Активная мощность  \\\n",
       "count                 14876                14876           14876.00   \n",
       "unique                14876                14876                NaN   \n",
       "top     2019-05-03 12:53:12  2019-08-10 21:07:42                NaN   \n",
       "freq                      1                    1                NaN   \n",
       "mean                    NaN                  NaN               0.66   \n",
       "std                     NaN                  NaN               0.26   \n",
       "min                     NaN                  NaN               0.22   \n",
       "25%                     NaN                  NaN               0.47   \n",
       "50%                     NaN                  NaN               0.60   \n",
       "75%                     NaN                  NaN               0.83   \n",
       "max                     NaN                  NaN               1.46   \n",
       "\n",
       "        Реактивная мощность  \n",
       "count              14876.00  \n",
       "unique                  NaN  \n",
       "top                     NaN  \n",
       "freq                    NaN  \n",
       "mean                   0.44  \n",
       "std                    5.87  \n",
       "min                 -715.48  \n",
       "25%                    0.34  \n",
       "50%                    0.44  \n",
       "75%                    0.61  \n",
       "max                    1.27  "
      ]
     },
     "execution_count": 10,
     "metadata": {},
     "output_type": "execute_result"
    }
   ],
   "source": [
    "print('Описательная статистика')\n",
    "data_arc.iloc[:,1:].describe(include=['object', 'float', 'int']).round(2)"
   ]
  },
  {
   "cell_type": "code",
   "execution_count": 11,
   "id": "a22c2e1e",
   "metadata": {},
   "outputs": [
    {
     "name": "stdout",
     "output_type": "stream",
     "text": [
      "Информация\n",
      "\n",
      "<class 'pandas.core.frame.DataFrame'>\n",
      "RangeIndex: 14876 entries, 0 to 14875\n",
      "Data columns (total 5 columns):\n",
      " #   Column                Non-Null Count  Dtype  \n",
      "---  ------                --------------  -----  \n",
      " 0   key                   14876 non-null  int64  \n",
      " 1   Начало нагрева дугой  14876 non-null  object \n",
      " 2   Конец нагрева дугой   14876 non-null  object \n",
      " 3   Активная мощность     14876 non-null  float64\n",
      " 4   Реактивная мощность   14876 non-null  float64\n",
      "dtypes: float64(2), int64(1), object(2)\n",
      "memory usage: 581.2+ KB\n"
     ]
    }
   ],
   "source": [
    "print('Информация\\n')\n",
    "data_arc.info()"
   ]
  },
  {
   "cell_type": "code",
   "execution_count": 12,
   "id": "51c2e7a6",
   "metadata": {},
   "outputs": [
    {
     "name": "stdout",
     "output_type": "stream",
     "text": [
      "Процент наличия данных\n",
      "\n"
     ]
    },
    {
     "data": {
      "text/plain": [
       "key                     100.0\n",
       "Начало нагрева дугой    100.0\n",
       "Конец нагрева дугой     100.0\n",
       "Активная мощность       100.0\n",
       "Реактивная мощность     100.0\n",
       "dtype: float64"
      ]
     },
     "metadata": {},
     "output_type": "display_data"
    }
   ],
   "source": [
    "print('Процент наличия данных\\n')\n",
    "display(100 - (data_arc.isna().sum() / data_arc.shape[0] * 100.00))"
   ]
  },
  {
   "cell_type": "code",
   "execution_count": 13,
   "id": "85626f13",
   "metadata": {},
   "outputs": [
    {
     "name": "stdout",
     "output_type": "stream",
     "text": [
      "Количество явных дубликатов:0\n"
     ]
    }
   ],
   "source": [
    "print(f'Количество явных дубликатов:{data_arc.duplicated().sum()}')"
   ]
  },
  {
   "cell_type": "code",
   "execution_count": 14,
   "id": "a8ff2235",
   "metadata": {},
   "outputs": [
    {
     "name": "stdout",
     "output_type": "stream",
     "text": [
      "Матрица пропущенных значений:\n"
     ]
    },
    {
     "data": {
      "image/png": "[encoded data removed]",
      "text/plain": [
       "<Figure size 576x216 with 2 Axes>"
      ]
     },
     "metadata": {
      "needs_background": "light"
     },
     "output_type": "display_data"
    }
   ],
   "source": [
    "print('Матрица пропущенных значений:')\n",
    "msno.matrix(data_arc.iloc[:,1:], figsize=(8, 3), fontsize=8);"
   ]
  },
  {
   "cell_type": "markdown",
   "id": "2c6c2644",
   "metadata": {},
   "source": [
    "Перед началом глубокого анализа проведём первичную диагностику датасета, чтобы понять структуру, качество и особенности данных.\n",
    "\n",
    "Сначала выведем описательную статистику по всем столбцам (кроме первого, который, судя по коду, может быть идентификатором или индексом). Метод `.describe()` применён ко всем типам данных — числовым (`int`, `float`) и категориальным (`object`) — с округлением результатов до двух знаков после запятой для удобства восприятия. Это позволяет оценить распределение, центральные тенденции и разброс значений.\n",
    "\n",
    "Далее — команда `.info()` даёт общую информацию о датасете: количество записей, типы данных в каждом столбце, объём используемой памяти, а также указывает на наличие пропусков.\n",
    "\n",
    "Чтобы количественно оценить полноту данных, рассчитан процент заполненности каждого столбца: для этого количество пропущенных значений преобразовано в процент от общего числа строк. Чем ближе показатель к 100%, тем полнее столбец.\n",
    "\n",
    "Также проверено наличие явных дубликатов на уровне строк — если такие есть, их количество будет выведено.\n",
    "\n",
    "Для визуальной оценки пропусков построена матрица пропущенных значений с помощью библиотеки `missingno`. График наглядно показывает, где в данных есть пробелы, помогая выявить возможные закономерности в отсутствующих данных (например, системные пропуски в определённых строках или столбцах).\n",
    "\n",
    "На основе полученной информации можно сделать выводы о необходимости предварительной обработки:\n",
    "— переименовать столбцы для единообразия и соответствия стандартам (например, привести к нижнему регистру, заменить пробелы на подчёркивания);\n",
    "— преобразовать формат даты в соответствующий тип `datetime`, чтобы в дальнейшем можно было проводить временной анализ, фильтрацию по периодам или агрегацию по дням, месяцам и т.д.\n",
    "\n",
    "Эти шаги заложат надёжный фундамент для последующего исследовательского анализа и построения корректных выводов"
   ]
  },
  {
   "cell_type": "code",
   "execution_count": 15,
   "id": "bff73bc9",
   "metadata": {},
   "outputs": [
    {
     "name": "stdout",
     "output_type": "stream",
     "text": [
      "<class 'pandas.core.frame.DataFrame'>\n",
      "RangeIndex: 14876 entries, 0 to 14875\n",
      "Data columns (total 5 columns):\n",
      " #   Column          Non-Null Count  Dtype         \n",
      "---  ------          --------------  -----         \n",
      " 0   key             14876 non-null  int64         \n",
      " 1   start_heating   14876 non-null  datetime64[ns]\n",
      " 2   finish_heating  14876 non-null  datetime64[ns]\n",
      " 3   active_power    14876 non-null  float64       \n",
      " 4   reactive_power  14876 non-null  float64       \n",
      "dtypes: datetime64[ns](2), float64(2), int64(1)\n",
      "memory usage: 581.2 KB\n"
     ]
    }
   ],
   "source": [
    "data_arc = data_arc.rename(\n",
    "    columns={\n",
    "        'Начало нагрева дугой':'start_heating',\n",
    "        'Конец нагрева дугой': 'finish_heating',\n",
    "        'Активная мощность': 'active_power',\n",
    "        'Реактивная мощность': 'reactive_power',\n",
    "    }\n",
    ")\n",
    "data_arc['start_heating'] = pd.to_datetime(data_arc['start_heating'], format='%Y-%m-%d %H:%M:%S')\n",
    "data_arc['finish_heating'] = pd.to_datetime(data_arc['finish_heating'], format='%Y-%m-%d %H:%M:%S')\n",
    "data_arc.info()"
   ]
  },
  {
   "cell_type": "markdown",
   "id": "02aeb233",
   "metadata": {},
   "source": [
    "Анализ описательной статистики выявил наличие явного выброса — значение реактивной мощности отрицательное, что в контексте физического смысла показателя может быть необоснованным или ошибочным. Учитывая это, есть два подхода к обработке аномалии: замена выброса на медианное значение по столбцу или удаление строки с выбросом.\n",
    "\n",
    "Общий объём данных составляет 14 876 строк, поэтому удаление одной записи окажет пренебрежимо малое влияние на общую выборку и не скажется существенно на качестве последующих моделей или выводов. В то же время замена на медиану может быть более консервативным решением, особенно если есть сомнения в полной достоверности исходного значения.\n",
    "\n",
    "Выбор стратегии зависит от предметной области и допущений о природе данных — при однократном техническом сбое уместно удаление, при возможной погрешности измерения — импутация медианой."
   ]
  },
  {
   "cell_type": "code",
   "execution_count": 16,
   "id": "ee8a2463",
   "metadata": {},
   "outputs": [
    {
     "data": {
      "text/html": [
       "<div>\n",
       "<style scoped>\n",
       "    .dataframe tbody tr th:only-of-type {\n",
       "        vertical-align: middle;\n",
       "    }\n",
       "\n",
       "    .dataframe tbody tr th {\n",
       "        vertical-align: top;\n",
       "    }\n",
       "\n",
       "    .dataframe thead th {\n",
       "        text-align: right;\n",
       "    }\n",
       "</style>\n",
       "<table border=\"1\" class=\"dataframe\">\n",
       "  <thead>\n",
       "    <tr style=\"text-align: right;\">\n",
       "      <th></th>\n",
       "      <th>key</th>\n",
       "      <th>start_heating</th>\n",
       "      <th>finish_heating</th>\n",
       "      <th>active_power</th>\n",
       "      <th>reactive_power</th>\n",
       "    </tr>\n",
       "  </thead>\n",
       "  <tbody>\n",
       "    <tr>\n",
       "      <th>9780</th>\n",
       "      <td>2116</td>\n",
       "      <td>2019-07-28 02:22:08</td>\n",
       "      <td>2019-07-28 02:23:57</td>\n",
       "      <td>0.705344</td>\n",
       "      <td>-715.479924</td>\n",
       "    </tr>\n",
       "  </tbody>\n",
       "</table>\n",
       "</div>"
      ],
      "text/plain": [
       "       key       start_heating      finish_heating  active_power  \\\n",
       "9780  2116 2019-07-28 02:22:08 2019-07-28 02:23:57      0.705344   \n",
       "\n",
       "      reactive_power  \n",
       "9780     -715.479924  "
      ]
     },
     "execution_count": 16,
     "metadata": {},
     "output_type": "execute_result"
    }
   ],
   "source": [
    "data_arc.query('reactive_power < 0')"
   ]
  },
  {
   "cell_type": "code",
   "execution_count": 17,
   "id": "829f0fc5",
   "metadata": {},
   "outputs": [
    {
     "data": {
      "text/html": [
       "<div>\n",
       "<style scoped>\n",
       "    .dataframe tbody tr th:only-of-type {\n",
       "        vertical-align: middle;\n",
       "    }\n",
       "\n",
       "    .dataframe tbody tr th {\n",
       "        vertical-align: top;\n",
       "    }\n",
       "\n",
       "    .dataframe thead th {\n",
       "        text-align: right;\n",
       "    }\n",
       "</style>\n",
       "<table border=\"1\" class=\"dataframe\">\n",
       "  <thead>\n",
       "    <tr style=\"text-align: right;\">\n",
       "      <th></th>\n",
       "      <th>key</th>\n",
       "      <th>start_heating</th>\n",
       "      <th>finish_heating</th>\n",
       "      <th>active_power</th>\n",
       "      <th>reactive_power</th>\n",
       "    </tr>\n",
       "  </thead>\n",
       "  <tbody>\n",
       "    <tr>\n",
       "      <th>9778</th>\n",
       "      <td>2116</td>\n",
       "      <td>2019-07-28 02:07:12</td>\n",
       "      <td>2019-07-28 02:09:14</td>\n",
       "      <td>0.787549</td>\n",
       "      <td>0.693881</td>\n",
       "    </tr>\n",
       "    <tr>\n",
       "      <th>9779</th>\n",
       "      <td>2116</td>\n",
       "      <td>2019-07-28 02:13:10</td>\n",
       "      <td>2019-07-28 02:15:25</td>\n",
       "      <td>0.580263</td>\n",
       "      <td>0.411498</td>\n",
       "    </tr>\n",
       "    <tr>\n",
       "      <th>9780</th>\n",
       "      <td>2116</td>\n",
       "      <td>2019-07-28 02:22:08</td>\n",
       "      <td>2019-07-28 02:23:57</td>\n",
       "      <td>0.705344</td>\n",
       "      <td>-715.479924</td>\n",
       "    </tr>\n",
       "    <tr>\n",
       "      <th>9781</th>\n",
       "      <td>2116</td>\n",
       "      <td>2019-07-28 02:29:11</td>\n",
       "      <td>2019-07-28 02:30:18</td>\n",
       "      <td>0.563641</td>\n",
       "      <td>0.408513</td>\n",
       "    </tr>\n",
       "  </tbody>\n",
       "</table>\n",
       "</div>"
      ],
      "text/plain": [
       "       key       start_heating      finish_heating  active_power  \\\n",
       "9778  2116 2019-07-28 02:07:12 2019-07-28 02:09:14      0.787549   \n",
       "9779  2116 2019-07-28 02:13:10 2019-07-28 02:15:25      0.580263   \n",
       "9780  2116 2019-07-28 02:22:08 2019-07-28 02:23:57      0.705344   \n",
       "9781  2116 2019-07-28 02:29:11 2019-07-28 02:30:18      0.563641   \n",
       "\n",
       "      reactive_power  \n",
       "9778        0.693881  \n",
       "9779        0.411498  \n",
       "9780     -715.479924  \n",
       "9781        0.408513  "
      ]
     },
     "execution_count": 17,
     "metadata": {},
     "output_type": "execute_result"
    }
   ],
   "source": [
    "data_arc.query('key == 2116')"
   ]
  },
  {
   "cell_type": "code",
   "execution_count": 18,
   "id": "e12c5c1f",
   "metadata": {},
   "outputs": [
    {
     "data": {
      "text/plain": [
       "(14872, 5)"
      ]
     },
     "execution_count": 18,
     "metadata": {},
     "output_type": "execute_result"
    }
   ],
   "source": [
    "data_arc = data_arc.query('key != 2116')\n",
    "data_arc.shape"
   ]
  },
  {
   "cell_type": "markdown",
   "id": "43df4ec2",
   "metadata": {},
   "source": [
    "Для более детального изучения аномалии с отрицательным значением реактивной мощности сначала были отфильтрованы строки, где `reactive_power < 0`, чтобы точно локализовать проблемную запись. Затем, зная, что выброс связан с записью под ключом `key == 2116`, было выполнено дополнительное фильтрование для проверки её содержимого.\n",
    "\n",
    "После подтверждения аномалии строка с `key = 2116` была исключена из датасета с помощью условия `key != 2116`. Это позволило очистить данные от искажённого наблюдения. Проверка формы датасета после удаления подтвердила корректность операции — количество строк уменьшилось на одну.\n",
    "\n",
    "Теперь, когда данные предварительно очищены, следующим шагом станет визуальный анализ распределений. Для этого построим **гистограммы** — чтобы оценить форму распределения признаков, их смещение и плотность значений. А также добавим **boxplot (ящик с усами)** — для выявления потенциальных выбросов, анализа разброса и медианного значения по каждому из параметров.\n",
    "\n",
    "Такой подход сочетает количественный и графический анализ, что повышает надёжность интерпретации данных и помогает принять обоснованные решения на этапе подготовки к моделированию."
   ]
  },
  {
   "cell_type": "markdown",
   "id": "b916765a",
   "metadata": {},
   "source": [
    "Введем функцию `f_hist_box` для дальнейшего анализа"
   ]
  },
  {
   "cell_type": "code",
   "execution_count": 19,
   "id": "55586f93",
   "metadata": {},
   "outputs": [
    {
     "data": {
      "image/png": "[encoded data removed]",
      "text/plain": [
       "<Figure size 1008x360 with 2 Axes>"
      ]
     },
     "metadata": {
      "needs_background": "light"
     },
     "output_type": "display_data"
    }
   ],
   "source": [
    "def f_hist_box(data, bins, title, xlabel, ylabel):\n",
    "    f, (ax_box, ax_hist) = plt.subplots(2, sharex=True, figsize=(14,5), gridspec_kw={\"height_ratios\": (.15, .85)})\n",
    "    sns.boxplot(data=[data], orient=\"h\", ax=ax_box)\n",
    "    plt.hist(data, bins=bins, range=(data.min(),data.max()))\n",
    " \n",
    "    plt.title(title)\n",
    "    plt.xlabel(xlabel)\n",
    "    plt.ylabel(ylabel)\n",
    "    plt.show();\n",
    "    \n",
    "f_hist_box(\n",
    "    data=data_arc['active_power'],\n",
    "    bins=100, \n",
    "    title='Активная мощность',\n",
    "    xlabel='Мощность',\n",
    "    ylabel='Количество'\n",
    ")"
   ]
  },
  {
   "cell_type": "code",
   "execution_count": 20,
   "id": "a04010ef",
   "metadata": {},
   "outputs": [
    {
     "data": {
      "image/png": "[encoded data removed]",
      "text/plain": [
       "<Figure size 1008x360 with 2 Axes>"
      ]
     },
     "metadata": {
      "needs_background": "light"
     },
     "output_type": "display_data"
    }
   ],
   "source": [
    "f_hist_box(\n",
    "    data=data_arc['reactive_power'],\n",
    "    bins=100, \n",
    "    title='Реактивная мощность',\n",
    "    xlabel='Мощность',\n",
    "    ylabel='Количество'\n",
    ")"
   ]
  },
  {
   "cell_type": "markdown",
   "id": "816aba81",
   "metadata": {},
   "source": [
    "Для более полного анализа энергетических процессов добавим три расчётные величины:\n",
    "\n",
    "- **Полную мощность** $ P $, которая определяется как гипотенуза прямоугольного треугольника активной и реактивной мощности:  \n",
    "  $$\n",
    "  P = \\sqrt{A^2 + R^2}\n",
    "  $$\n",
    "\n",
    "- **Время нагрева в секундах** $ T $ — разница между временем окончания и начала процесса, переведённая в секунды.\n",
    "\n",
    "- **Полную энергию** $ E $, накопленную за время нагрева:  \n",
    "  $$\n",
    "  E = P \\cdot T\n",
    "  $$\n",
    "\n",
    "Эти параметры позволят точнее оценить энергозатраты процесса и улучшат качество признакового пространства для дальнейшего анализа или моделирования."
   ]
  },
  {
   "cell_type": "code",
   "execution_count": 21,
   "id": "65f1be17",
   "metadata": {},
   "outputs": [
    {
     "data": {
      "text/html": [
       "<div>\n",
       "<style scoped>\n",
       "    .dataframe tbody tr th:only-of-type {\n",
       "        vertical-align: middle;\n",
       "    }\n",
       "\n",
       "    .dataframe tbody tr th {\n",
       "        vertical-align: top;\n",
       "    }\n",
       "\n",
       "    .dataframe thead th {\n",
       "        text-align: right;\n",
       "    }\n",
       "</style>\n",
       "<table border=\"1\" class=\"dataframe\">\n",
       "  <thead>\n",
       "    <tr style=\"text-align: right;\">\n",
       "      <th></th>\n",
       "      <th>key</th>\n",
       "      <th>start_heating</th>\n",
       "      <th>finish_heating</th>\n",
       "      <th>active_power</th>\n",
       "      <th>reactive_power</th>\n",
       "      <th>full_power</th>\n",
       "      <th>heating_time</th>\n",
       "      <th>full_energy</th>\n",
       "    </tr>\n",
       "  </thead>\n",
       "  <tbody>\n",
       "    <tr>\n",
       "      <th>0</th>\n",
       "      <td>1</td>\n",
       "      <td>2019-05-03 11:02:14</td>\n",
       "      <td>2019-05-03 11:06:02</td>\n",
       "      <td>0.305130</td>\n",
       "      <td>0.211253</td>\n",
       "      <td>0.371123</td>\n",
       "      <td>228</td>\n",
       "      <td>84.616003</td>\n",
       "    </tr>\n",
       "    <tr>\n",
       "      <th>1</th>\n",
       "      <td>1</td>\n",
       "      <td>2019-05-03 11:07:28</td>\n",
       "      <td>2019-05-03 11:10:33</td>\n",
       "      <td>0.765658</td>\n",
       "      <td>0.477438</td>\n",
       "      <td>0.902319</td>\n",
       "      <td>185</td>\n",
       "      <td>166.928978</td>\n",
       "    </tr>\n",
       "    <tr>\n",
       "      <th>2</th>\n",
       "      <td>1</td>\n",
       "      <td>2019-05-03 11:11:44</td>\n",
       "      <td>2019-05-03 11:14:36</td>\n",
       "      <td>0.580313</td>\n",
       "      <td>0.430460</td>\n",
       "      <td>0.722536</td>\n",
       "      <td>172</td>\n",
       "      <td>124.276277</td>\n",
       "    </tr>\n",
       "    <tr>\n",
       "      <th>3</th>\n",
       "      <td>1</td>\n",
       "      <td>2019-05-03 11:18:14</td>\n",
       "      <td>2019-05-03 11:24:19</td>\n",
       "      <td>0.518496</td>\n",
       "      <td>0.379979</td>\n",
       "      <td>0.642824</td>\n",
       "      <td>365</td>\n",
       "      <td>234.630603</td>\n",
       "    </tr>\n",
       "    <tr>\n",
       "      <th>4</th>\n",
       "      <td>1</td>\n",
       "      <td>2019-05-03 11:26:09</td>\n",
       "      <td>2019-05-03 11:28:37</td>\n",
       "      <td>0.867133</td>\n",
       "      <td>0.643691</td>\n",
       "      <td>1.079934</td>\n",
       "      <td>148</td>\n",
       "      <td>159.830252</td>\n",
       "    </tr>\n",
       "    <tr>\n",
       "      <th>5</th>\n",
       "      <td>2</td>\n",
       "      <td>2019-05-03 11:34:14</td>\n",
       "      <td>2019-05-03 11:36:31</td>\n",
       "      <td>0.381124</td>\n",
       "      <td>0.220351</td>\n",
       "      <td>0.440239</td>\n",
       "      <td>137</td>\n",
       "      <td>60.312695</td>\n",
       "    </tr>\n",
       "    <tr>\n",
       "      <th>6</th>\n",
       "      <td>2</td>\n",
       "      <td>2019-05-03 11:38:50</td>\n",
       "      <td>2019-05-03 11:44:28</td>\n",
       "      <td>0.261665</td>\n",
       "      <td>0.205527</td>\n",
       "      <td>0.332731</td>\n",
       "      <td>338</td>\n",
       "      <td>112.463079</td>\n",
       "    </tr>\n",
       "    <tr>\n",
       "      <th>7</th>\n",
       "      <td>2</td>\n",
       "      <td>2019-05-03 11:46:19</td>\n",
       "      <td>2019-05-03 11:48:25</td>\n",
       "      <td>0.710297</td>\n",
       "      <td>0.484962</td>\n",
       "      <td>0.860064</td>\n",
       "      <td>126</td>\n",
       "      <td>108.368056</td>\n",
       "    </tr>\n",
       "    <tr>\n",
       "      <th>8</th>\n",
       "      <td>2</td>\n",
       "      <td>2019-05-03 11:49:48</td>\n",
       "      <td>2019-05-03 11:53:18</td>\n",
       "      <td>0.786322</td>\n",
       "      <td>0.542517</td>\n",
       "      <td>0.955315</td>\n",
       "      <td>210</td>\n",
       "      <td>200.616176</td>\n",
       "    </tr>\n",
       "    <tr>\n",
       "      <th>9</th>\n",
       "      <td>3</td>\n",
       "      <td>2019-05-03 12:06:54</td>\n",
       "      <td>2019-05-03 12:11:34</td>\n",
       "      <td>1.101678</td>\n",
       "      <td>0.820856</td>\n",
       "      <td>1.373863</td>\n",
       "      <td>280</td>\n",
       "      <td>384.681584</td>\n",
       "    </tr>\n",
       "  </tbody>\n",
       "</table>\n",
       "</div>"
      ],
      "text/plain": [
       "   key       start_heating      finish_heating  active_power  reactive_power  \\\n",
       "0    1 2019-05-03 11:02:14 2019-05-03 11:06:02      0.305130        0.211253   \n",
       "1    1 2019-05-03 11:07:28 2019-05-03 11:10:33      0.765658        0.477438   \n",
       "2    1 2019-05-03 11:11:44 2019-05-03 11:14:36      0.580313        0.430460   \n",
       "3    1 2019-05-03 11:18:14 2019-05-03 11:24:19      0.518496        0.379979   \n",
       "4    1 2019-05-03 11:26:09 2019-05-03 11:28:37      0.867133        0.643691   \n",
       "5    2 2019-05-03 11:34:14 2019-05-03 11:36:31      0.381124        0.220351   \n",
       "6    2 2019-05-03 11:38:50 2019-05-03 11:44:28      0.261665        0.205527   \n",
       "7    2 2019-05-03 11:46:19 2019-05-03 11:48:25      0.710297        0.484962   \n",
       "8    2 2019-05-03 11:49:48 2019-05-03 11:53:18      0.786322        0.542517   \n",
       "9    3 2019-05-03 12:06:54 2019-05-03 12:11:34      1.101678        0.820856   \n",
       "\n",
       "   full_power  heating_time  full_energy  \n",
       "0    0.371123           228    84.616003  \n",
       "1    0.902319           185   166.928978  \n",
       "2    0.722536           172   124.276277  \n",
       "3    0.642824           365   234.630603  \n",
       "4    1.079934           148   159.830252  \n",
       "5    0.440239           137    60.312695  \n",
       "6    0.332731           338   112.463079  \n",
       "7    0.860064           126   108.368056  \n",
       "8    0.955315           210   200.616176  \n",
       "9    1.373863           280   384.681584  "
      ]
     },
     "execution_count": 21,
     "metadata": {},
     "output_type": "execute_result"
    }
   ],
   "source": [
    "data_arc['full_power'] = (data_arc['active_power']**2 + data_arc['reactive_power']**2)**0.5\n",
    "data_arc['heating_time'] = (data_arc['finish_heating'] - data_arc['start_heating']).dt.seconds\n",
    "data_arc['full_energy'] = data_arc['full_power'] * data_arc['heating_time']\n",
    "data_arc.head(10)"
   ]
  },
  {
   "cell_type": "markdown",
   "id": "c1bb8d16",
   "metadata": {},
   "source": [
    "Сгруппируем данные по номеру партии, агрегируя числовые параметры путём суммирования. Это позволит получить сводные показатели по каждой партии.\n",
    "\n",
    "Дополнительно рассчитаем **количество циклов нагрева** для каждой партии — по числу записей в исходных данных, что соответствует количеству включений печи. Этот признак может оказаться полезным для анализа зависимости между числом нагревов и итоговыми характеристиками плавки.\n",
    "\n",
    "Такой подход к агрегации помогает перейти от пооперационных данных к уровню партии, что упрощает анализ и построение моделей."
   ]
  },
  {
   "cell_type": "code",
   "execution_count": 22,
   "id": "45614c18",
   "metadata": {},
   "outputs": [
    {
     "data": {
      "text/plain": [
       "Index(['key', 'active_power', 'full_energy', 'full_power', 'heating_time',\n",
       "       'reactive_power', 'number_of_heating'],\n",
       "      dtype='object')"
      ]
     },
     "execution_count": 22,
     "metadata": {},
     "output_type": "execute_result"
    }
   ],
   "source": [
    "data_arc = data_arc.pivot_table(index='key',\n",
    "                                values=['active_power',\n",
    "                                        'reactive_power',\n",
    "                                        'full_power',\n",
    "                                        'heating_time',\n",
    "                                        'full_energy',\n",
    "                                        'start_heating'\n",
    "                                       ],\n",
    "                                aggfunc={'active_power': 'sum',\n",
    "                                         'reactive_power': 'sum',\n",
    "                                         'full_power': 'sum',\n",
    "                                         'heating_time': 'sum',\n",
    "                                         'full_energy': 'sum',\n",
    "                                         'start_heating' : 'count'\n",
    "                                        }).reset_index().rename(columns={'start_heating':'number_of_heating'}\n",
    ")\n",
    "data_arc.columns"
   ]
  },
  {
   "cell_type": "code",
   "execution_count": 23,
   "id": "9315bbcd",
   "metadata": {},
   "outputs": [
    {
     "data": {
      "text/plain": [
       "(3213, 7)"
      ]
     },
     "metadata": {},
     "output_type": "display_data"
    },
    {
     "data": {
      "text/html": [
       "<div>\n",
       "<style scoped>\n",
       "    .dataframe tbody tr th:only-of-type {\n",
       "        vertical-align: middle;\n",
       "    }\n",
       "\n",
       "    .dataframe tbody tr th {\n",
       "        vertical-align: top;\n",
       "    }\n",
       "\n",
       "    .dataframe thead th {\n",
       "        text-align: right;\n",
       "    }\n",
       "</style>\n",
       "<table border=\"1\" class=\"dataframe\">\n",
       "  <thead>\n",
       "    <tr style=\"text-align: right;\">\n",
       "      <th></th>\n",
       "      <th>key</th>\n",
       "      <th>active_power</th>\n",
       "      <th>reactive_power</th>\n",
       "      <th>full_power</th>\n",
       "      <th>heating_time</th>\n",
       "      <th>full_energy</th>\n",
       "      <th>number_of_heating</th>\n",
       "    </tr>\n",
       "  </thead>\n",
       "  <tbody>\n",
       "    <tr>\n",
       "      <th>0</th>\n",
       "      <td>1</td>\n",
       "      <td>3.036730</td>\n",
       "      <td>2.142821</td>\n",
       "      <td>3.718736</td>\n",
       "      <td>1098</td>\n",
       "      <td>770.282114</td>\n",
       "      <td>5</td>\n",
       "    </tr>\n",
       "    <tr>\n",
       "      <th>1</th>\n",
       "      <td>2</td>\n",
       "      <td>2.139408</td>\n",
       "      <td>1.453357</td>\n",
       "      <td>2.588349</td>\n",
       "      <td>811</td>\n",
       "      <td>481.760005</td>\n",
       "      <td>4</td>\n",
       "    </tr>\n",
       "    <tr>\n",
       "      <th>2</th>\n",
       "      <td>3</td>\n",
       "      <td>4.063641</td>\n",
       "      <td>2.937457</td>\n",
       "      <td>5.019223</td>\n",
       "      <td>655</td>\n",
       "      <td>722.837668</td>\n",
       "      <td>5</td>\n",
       "    </tr>\n",
       "    <tr>\n",
       "      <th>3</th>\n",
       "      <td>4</td>\n",
       "      <td>2.706489</td>\n",
       "      <td>2.056992</td>\n",
       "      <td>3.400038</td>\n",
       "      <td>741</td>\n",
       "      <td>683.455597</td>\n",
       "      <td>4</td>\n",
       "    </tr>\n",
       "    <tr>\n",
       "      <th>4</th>\n",
       "      <td>5</td>\n",
       "      <td>2.252950</td>\n",
       "      <td>1.687991</td>\n",
       "      <td>2.816980</td>\n",
       "      <td>869</td>\n",
       "      <td>512.169934</td>\n",
       "      <td>4</td>\n",
       "    </tr>\n",
       "    <tr>\n",
       "      <th>5</th>\n",
       "      <td>6</td>\n",
       "      <td>2.725274</td>\n",
       "      <td>1.881313</td>\n",
       "      <td>3.313074</td>\n",
       "      <td>952</td>\n",
       "      <td>839.231310</td>\n",
       "      <td>4</td>\n",
       "    </tr>\n",
       "    <tr>\n",
       "      <th>6</th>\n",
       "      <td>7</td>\n",
       "      <td>2.626877</td>\n",
       "      <td>1.960419</td>\n",
       "      <td>3.283913</td>\n",
       "      <td>673</td>\n",
       "      <td>613.576982</td>\n",
       "      <td>4</td>\n",
       "    </tr>\n",
       "    <tr>\n",
       "      <th>7</th>\n",
       "      <td>8</td>\n",
       "      <td>2.678958</td>\n",
       "      <td>2.096952</td>\n",
       "      <td>3.405956</td>\n",
       "      <td>913</td>\n",
       "      <td>619.129542</td>\n",
       "      <td>4</td>\n",
       "    </tr>\n",
       "    <tr>\n",
       "      <th>8</th>\n",
       "      <td>9</td>\n",
       "      <td>3.520820</td>\n",
       "      <td>2.527365</td>\n",
       "      <td>4.335261</td>\n",
       "      <td>625</td>\n",
       "      <td>570.113675</td>\n",
       "      <td>5</td>\n",
       "    </tr>\n",
       "    <tr>\n",
       "      <th>9</th>\n",
       "      <td>10</td>\n",
       "      <td>3.118778</td>\n",
       "      <td>2.154941</td>\n",
       "      <td>3.791005</td>\n",
       "      <td>825</td>\n",
       "      <td>533.482050</td>\n",
       "      <td>6</td>\n",
       "    </tr>\n",
       "  </tbody>\n",
       "</table>\n",
       "</div>"
      ],
      "text/plain": [
       "   key  active_power  reactive_power  full_power  heating_time  full_energy  \\\n",
       "0    1      3.036730        2.142821    3.718736          1098   770.282114   \n",
       "1    2      2.139408        1.453357    2.588349           811   481.760005   \n",
       "2    3      4.063641        2.937457    5.019223           655   722.837668   \n",
       "3    4      2.706489        2.056992    3.400038           741   683.455597   \n",
       "4    5      2.252950        1.687991    2.816980           869   512.169934   \n",
       "5    6      2.725274        1.881313    3.313074           952   839.231310   \n",
       "6    7      2.626877        1.960419    3.283913           673   613.576982   \n",
       "7    8      2.678958        2.096952    3.405956           913   619.129542   \n",
       "8    9      3.520820        2.527365    4.335261           625   570.113675   \n",
       "9   10      3.118778        2.154941    3.791005           825   533.482050   \n",
       "\n",
       "   number_of_heating  \n",
       "0                  5  \n",
       "1                  4  \n",
       "2                  5  \n",
       "3                  4  \n",
       "4                  4  \n",
       "5                  4  \n",
       "6                  4  \n",
       "7                  4  \n",
       "8                  5  \n",
       "9                  6  "
      ]
     },
     "execution_count": 23,
     "metadata": {},
     "output_type": "execute_result"
    }
   ],
   "source": [
    "data_arc = data_arc[['key',\n",
    "                     'active_power',\n",
    "                     'reactive_power',\n",
    "                     'full_power',\n",
    "                     'heating_time',\n",
    "                     'full_energy',\n",
    "                     'number_of_heating'\n",
    "                    ]]\n",
    "display(data_arc.shape)\n",
    "data_arc.head(10)"
   ]
  },
  {
   "cell_type": "markdown",
   "id": "4e38a1da",
   "metadata": {},
   "source": [
    "Теперь построим **гистограммы данных** и **Boxplot**"
   ]
  },
  {
   "cell_type": "code",
   "execution_count": 24,
   "id": "f1f52c81",
   "metadata": {},
   "outputs": [
    {
     "data": {
      "image/png": "[encoded data removed]",
      "text/plain": [
       "<Figure size 1008x360 with 2 Axes>"
      ]
     },
     "metadata": {
      "needs_background": "light"
     },
     "output_type": "display_data"
    }
   ],
   "source": [
    "f_hist_box(\n",
    "    data=data_arc['full_power'],\n",
    "    bins=100, \n",
    "    title='Полная мощность',\n",
    "    xlabel='Мощность',\n",
    "    ylabel='Количество'\n",
    ")"
   ]
  },
  {
   "cell_type": "code",
   "execution_count": 25,
   "id": "9b3013b5",
   "metadata": {},
   "outputs": [
    {
     "data": {
      "image/png": "[encoded data removed]",
      "text/plain": [
       "<Figure size 1008x360 with 2 Axes>"
      ]
     },
     "metadata": {
      "needs_background": "light"
     },
     "output_type": "display_data"
    }
   ],
   "source": [
    "f_hist_box(\n",
    "    data=data_arc['heating_time'],\n",
    "    bins=100, \n",
    "    title='Время нагрева',\n",
    "    xlabel='Секунд',\n",
    "    ylabel='Количество'\n",
    ")"
   ]
  },
  {
   "cell_type": "code",
   "execution_count": 26,
   "id": "9d31e26a",
   "metadata": {},
   "outputs": [
    {
     "data": {
      "image/png": "[encoded data removed]",
      "text/plain": [
       "<Figure size 1008x360 with 2 Axes>"
      ]
     },
     "metadata": {
      "needs_background": "light"
     },
     "output_type": "display_data"
    }
   ],
   "source": [
    "f_hist_box(\n",
    "    data=data_arc['full_energy'],\n",
    "    bins=100, \n",
    "    title='Полная энергия',\n",
    "    xlabel='Энергия',\n",
    "    ylabel='Количество'\n",
    ")"
   ]
  },
  {
   "cell_type": "code",
   "execution_count": 27,
   "id": "1bb32f2b",
   "metadata": {},
   "outputs": [
    {
     "data": {
      "image/png": "[encoded data removed]",
      "text/plain": [
       "<Figure size 1008x360 with 2 Axes>"
      ]
     },
     "metadata": {
      "needs_background": "light"
     },
     "output_type": "display_data"
    }
   ],
   "source": [
    "f_hist_box(\n",
    "    data=data_arc['number_of_heating'],\n",
    "    bins=15, \n",
    "    title='Количество циклов нагрева',\n",
    "    xlabel='Циклов',\n",
    "    ylabel='Количество'\n",
    ")"
   ]
  },
  {
   "cell_type": "markdown",
   "id": "eb1678e3",
   "metadata": {},
   "source": [
    "### `data_bulk_new.csv`"
   ]
  },
  {
   "cell_type": "code",
   "execution_count": 28,
   "id": "4a292eeb",
   "metadata": {},
   "outputs": [
    {
     "name": "stdout",
     "output_type": "stream",
     "text": [
      "Описалельная статистика\n"
     ]
    },
    {
     "data": {
      "text/html": [
       "<div>\n",
       "<style scoped>\n",
       "    .dataframe tbody tr th:only-of-type {\n",
       "        vertical-align: middle;\n",
       "    }\n",
       "\n",
       "    .dataframe tbody tr th {\n",
       "        vertical-align: top;\n",
       "    }\n",
       "\n",
       "    .dataframe thead th {\n",
       "        text-align: right;\n",
       "    }\n",
       "</style>\n",
       "<table border=\"1\" class=\"dataframe\">\n",
       "  <thead>\n",
       "    <tr style=\"text-align: right;\">\n",
       "      <th></th>\n",
       "      <th>Bulk 1</th>\n",
       "      <th>Bulk 2</th>\n",
       "      <th>Bulk 3</th>\n",
       "      <th>Bulk 4</th>\n",
       "      <th>Bulk 5</th>\n",
       "      <th>Bulk 6</th>\n",
       "      <th>Bulk 7</th>\n",
       "      <th>Bulk 8</th>\n",
       "      <th>Bulk 9</th>\n",
       "      <th>Bulk 10</th>\n",
       "      <th>Bulk 11</th>\n",
       "      <th>Bulk 12</th>\n",
       "      <th>Bulk 13</th>\n",
       "      <th>Bulk 14</th>\n",
       "      <th>Bulk 15</th>\n",
       "    </tr>\n",
       "  </thead>\n",
       "  <tbody>\n",
       "    <tr>\n",
       "      <th>count</th>\n",
       "      <td>252.00</td>\n",
       "      <td>22.00</td>\n",
       "      <td>1298.00</td>\n",
       "      <td>1014.00</td>\n",
       "      <td>77.00</td>\n",
       "      <td>576.00</td>\n",
       "      <td>25.00</td>\n",
       "      <td>1.0</td>\n",
       "      <td>19.00</td>\n",
       "      <td>176.00</td>\n",
       "      <td>177.00</td>\n",
       "      <td>2450.00</td>\n",
       "      <td>18.00</td>\n",
       "      <td>2806.00</td>\n",
       "      <td>2248.00</td>\n",
       "    </tr>\n",
       "    <tr>\n",
       "      <th>mean</th>\n",
       "      <td>39.24</td>\n",
       "      <td>253.05</td>\n",
       "      <td>113.88</td>\n",
       "      <td>104.39</td>\n",
       "      <td>107.03</td>\n",
       "      <td>118.93</td>\n",
       "      <td>305.60</td>\n",
       "      <td>49.0</td>\n",
       "      <td>76.32</td>\n",
       "      <td>83.28</td>\n",
       "      <td>76.82</td>\n",
       "      <td>260.47</td>\n",
       "      <td>181.11</td>\n",
       "      <td>170.28</td>\n",
       "      <td>160.51</td>\n",
       "    </tr>\n",
       "    <tr>\n",
       "      <th>std</th>\n",
       "      <td>18.28</td>\n",
       "      <td>21.18</td>\n",
       "      <td>75.48</td>\n",
       "      <td>48.18</td>\n",
       "      <td>81.79</td>\n",
       "      <td>72.06</td>\n",
       "      <td>191.02</td>\n",
       "      <td>NaN</td>\n",
       "      <td>21.72</td>\n",
       "      <td>26.06</td>\n",
       "      <td>59.66</td>\n",
       "      <td>120.65</td>\n",
       "      <td>46.09</td>\n",
       "      <td>65.87</td>\n",
       "      <td>51.77</td>\n",
       "    </tr>\n",
       "    <tr>\n",
       "      <th>min</th>\n",
       "      <td>10.00</td>\n",
       "      <td>228.00</td>\n",
       "      <td>6.00</td>\n",
       "      <td>12.00</td>\n",
       "      <td>11.00</td>\n",
       "      <td>17.00</td>\n",
       "      <td>47.00</td>\n",
       "      <td>49.0</td>\n",
       "      <td>63.00</td>\n",
       "      <td>24.00</td>\n",
       "      <td>8.00</td>\n",
       "      <td>53.00</td>\n",
       "      <td>151.00</td>\n",
       "      <td>16.00</td>\n",
       "      <td>1.00</td>\n",
       "    </tr>\n",
       "    <tr>\n",
       "      <th>25%</th>\n",
       "      <td>27.00</td>\n",
       "      <td>242.00</td>\n",
       "      <td>58.00</td>\n",
       "      <td>72.00</td>\n",
       "      <td>70.00</td>\n",
       "      <td>69.75</td>\n",
       "      <td>155.00</td>\n",
       "      <td>49.0</td>\n",
       "      <td>66.00</td>\n",
       "      <td>64.00</td>\n",
       "      <td>25.00</td>\n",
       "      <td>204.00</td>\n",
       "      <td>153.25</td>\n",
       "      <td>119.00</td>\n",
       "      <td>105.00</td>\n",
       "    </tr>\n",
       "    <tr>\n",
       "      <th>50%</th>\n",
       "      <td>31.00</td>\n",
       "      <td>251.50</td>\n",
       "      <td>97.50</td>\n",
       "      <td>102.00</td>\n",
       "      <td>86.00</td>\n",
       "      <td>100.00</td>\n",
       "      <td>298.00</td>\n",
       "      <td>49.0</td>\n",
       "      <td>68.00</td>\n",
       "      <td>86.50</td>\n",
       "      <td>64.00</td>\n",
       "      <td>208.00</td>\n",
       "      <td>155.50</td>\n",
       "      <td>151.00</td>\n",
       "      <td>160.00</td>\n",
       "    </tr>\n",
       "    <tr>\n",
       "      <th>75%</th>\n",
       "      <td>46.00</td>\n",
       "      <td>257.75</td>\n",
       "      <td>152.00</td>\n",
       "      <td>133.00</td>\n",
       "      <td>132.00</td>\n",
       "      <td>157.00</td>\n",
       "      <td>406.00</td>\n",
       "      <td>49.0</td>\n",
       "      <td>70.50</td>\n",
       "      <td>102.00</td>\n",
       "      <td>106.00</td>\n",
       "      <td>316.00</td>\n",
       "      <td>203.50</td>\n",
       "      <td>205.75</td>\n",
       "      <td>205.00</td>\n",
       "    </tr>\n",
       "    <tr>\n",
       "      <th>max</th>\n",
       "      <td>185.00</td>\n",
       "      <td>325.00</td>\n",
       "      <td>454.00</td>\n",
       "      <td>281.00</td>\n",
       "      <td>603.00</td>\n",
       "      <td>503.00</td>\n",
       "      <td>772.00</td>\n",
       "      <td>49.0</td>\n",
       "      <td>147.00</td>\n",
       "      <td>159.00</td>\n",
       "      <td>313.00</td>\n",
       "      <td>1849.00</td>\n",
       "      <td>305.00</td>\n",
       "      <td>636.00</td>\n",
       "      <td>405.00</td>\n",
       "    </tr>\n",
       "  </tbody>\n",
       "</table>\n",
       "</div>"
      ],
      "text/plain": [
       "       Bulk 1  Bulk 2   Bulk 3   Bulk 4  Bulk 5  Bulk 6  Bulk 7  Bulk 8  \\\n",
       "count  252.00   22.00  1298.00  1014.00   77.00  576.00   25.00     1.0   \n",
       "mean    39.24  253.05   113.88   104.39  107.03  118.93  305.60    49.0   \n",
       "std     18.28   21.18    75.48    48.18   81.79   72.06  191.02     NaN   \n",
       "min     10.00  228.00     6.00    12.00   11.00   17.00   47.00    49.0   \n",
       "25%     27.00  242.00    58.00    72.00   70.00   69.75  155.00    49.0   \n",
       "50%     31.00  251.50    97.50   102.00   86.00  100.00  298.00    49.0   \n",
       "75%     46.00  257.75   152.00   133.00  132.00  157.00  406.00    49.0   \n",
       "max    185.00  325.00   454.00   281.00  603.00  503.00  772.00    49.0   \n",
       "\n",
       "       Bulk 9  Bulk 10  Bulk 11  Bulk 12  Bulk 13  Bulk 14  Bulk 15  \n",
       "count   19.00   176.00   177.00  2450.00    18.00  2806.00  2248.00  \n",
       "mean    76.32    83.28    76.82   260.47   181.11   170.28   160.51  \n",
       "std     21.72    26.06    59.66   120.65    46.09    65.87    51.77  \n",
       "min     63.00    24.00     8.00    53.00   151.00    16.00     1.00  \n",
       "25%     66.00    64.00    25.00   204.00   153.25   119.00   105.00  \n",
       "50%     68.00    86.50    64.00   208.00   155.50   151.00   160.00  \n",
       "75%     70.50   102.00   106.00   316.00   203.50   205.75   205.00  \n",
       "max    147.00   159.00   313.00  1849.00   305.00   636.00   405.00  "
      ]
     },
     "execution_count": 28,
     "metadata": {},
     "output_type": "execute_result"
    }
   ],
   "source": [
    "print('Описалельная статистика')\n",
    "data_bulk.iloc[:,1:].describe(include=['object', 'float', 'int']).round(2)"
   ]
  },
  {
   "cell_type": "code",
   "execution_count": 29,
   "id": "d359649b",
   "metadata": {},
   "outputs": [
    {
     "name": "stdout",
     "output_type": "stream",
     "text": [
      "Информация\n",
      "\n",
      "<class 'pandas.core.frame.DataFrame'>\n",
      "RangeIndex: 3129 entries, 0 to 3128\n",
      "Data columns (total 16 columns):\n",
      " #   Column   Non-Null Count  Dtype  \n",
      "---  ------   --------------  -----  \n",
      " 0   key      3129 non-null   int64  \n",
      " 1   Bulk 1   252 non-null    float64\n",
      " 2   Bulk 2   22 non-null     float64\n",
      " 3   Bulk 3   1298 non-null   float64\n",
      " 4   Bulk 4   1014 non-null   float64\n",
      " 5   Bulk 5   77 non-null     float64\n",
      " 6   Bulk 6   576 non-null    float64\n",
      " 7   Bulk 7   25 non-null     float64\n",
      " 8   Bulk 8   1 non-null      float64\n",
      " 9   Bulk 9   19 non-null     float64\n",
      " 10  Bulk 10  176 non-null    float64\n",
      " 11  Bulk 11  177 non-null    float64\n",
      " 12  Bulk 12  2450 non-null   float64\n",
      " 13  Bulk 13  18 non-null     float64\n",
      " 14  Bulk 14  2806 non-null   float64\n",
      " 15  Bulk 15  2248 non-null   float64\n",
      "dtypes: float64(15), int64(1)\n",
      "memory usage: 391.2 KB\n"
     ]
    }
   ],
   "source": [
    "print('Информация\\n')\n",
    "data_bulk.info()"
   ]
  },
  {
   "cell_type": "code",
   "execution_count": 30,
   "id": "2a5b6fab",
   "metadata": {},
   "outputs": [
    {
     "name": "stdout",
     "output_type": "stream",
     "text": [
      "Процент наличия данных\n"
     ]
    },
    {
     "data": {
      "text/plain": [
       "key        100.000000\n",
       "Bulk 1       8.053691\n",
       "Bulk 2       0.703100\n",
       "Bulk 3      41.482902\n",
       "Bulk 4      32.406520\n",
       "Bulk 5       2.460850\n",
       "Bulk 6      18.408437\n",
       "Bulk 7       0.798977\n",
       "Bulk 8       0.031959\n",
       "Bulk 9       0.607223\n",
       "Bulk 10      5.624800\n",
       "Bulk 11      5.656759\n",
       "Bulk 12     78.299776\n",
       "Bulk 13      0.575264\n",
       "Bulk 14     89.677213\n",
       "Bulk 15     71.844040\n",
       "dtype: float64"
      ]
     },
     "metadata": {},
     "output_type": "display_data"
    }
   ],
   "source": [
    "print('Процент наличия данных')\n",
    "display(100 - (data_bulk.isna().sum() / data_bulk.shape[0] * 100.00))"
   ]
  },
  {
   "cell_type": "code",
   "execution_count": 31,
   "id": "fc2dafe1",
   "metadata": {},
   "outputs": [
    {
     "name": "stdout",
     "output_type": "stream",
     "text": [
      "Количество явных дубликатов:0\n"
     ]
    }
   ],
   "source": [
    "print(f'Количество явных дубликатов:{data_bulk.duplicated().sum()}')"
   ]
  },
  {
   "cell_type": "code",
   "execution_count": 32,
   "id": "8001eeec",
   "metadata": {},
   "outputs": [
    {
     "name": "stdout",
     "output_type": "stream",
     "text": [
      "Матрица пропущенных значений:\n"
     ]
    },
    {
     "data": {
      "image/png": "[encoded data removed]",
      "text/plain": [
       "<Figure size 576x216 with 2 Axes>"
      ]
     },
     "metadata": {
      "needs_background": "light"
     },
     "output_type": "display_data"
    }
   ],
   "source": [
    "print('Матрица пропущенных значений:')\n",
    "msno.matrix(data_bulk.iloc[:,1:], figsize=(8, 3), fontsize=8);"
   ]
  },
  {
   "cell_type": "code",
   "execution_count": 33,
   "id": "1af80bb6",
   "metadata": {},
   "outputs": [
    {
     "name": "stdout",
     "output_type": "stream",
     "text": [
      "Дендограмма пропущенных значений:\n"
     ]
    },
    {
     "data": {
      "image/png": "[encoded data removed]",
      "text/plain": [
       "<Figure size 576x216 with 1 Axes>"
      ]
     },
     "metadata": {
      "needs_background": "light"
     },
     "output_type": "display_data"
    }
   ],
   "source": [
    "print('Дендограмма пропущенных значений:')\n",
    "msno.dendrogram(data_bulk.iloc[:,1:], figsize=(8, 3), fontsize=8);"
   ]
  },
  {
   "cell_type": "markdown",
   "id": "72f150ef",
   "metadata": {},
   "source": [
    "Далее займемся переименновкой стобцов"
   ]
  },
  {
   "cell_type": "code",
   "execution_count": 34,
   "id": "0cdae666",
   "metadata": {},
   "outputs": [
    {
     "name": "stdout",
     "output_type": "stream",
     "text": [
      "<class 'pandas.core.frame.DataFrame'>\n",
      "RangeIndex: 3129 entries, 0 to 3128\n",
      "Data columns (total 16 columns):\n",
      " #   Column   Non-Null Count  Dtype  \n",
      "---  ------   --------------  -----  \n",
      " 0   key      3129 non-null   int64  \n",
      " 1   bulk_1   252 non-null    float64\n",
      " 2   bulk_2   22 non-null     float64\n",
      " 3   bulk_3   1298 non-null   float64\n",
      " 4   bulk_4   1014 non-null   float64\n",
      " 5   bulk_5   77 non-null     float64\n",
      " 6   bulk_6   576 non-null    float64\n",
      " 7   bulk_7   25 non-null     float64\n",
      " 8   bulk_8   1 non-null      float64\n",
      " 9   bulk_9   19 non-null     float64\n",
      " 10  bulk_10  176 non-null    float64\n",
      " 11  bulk_11  177 non-null    float64\n",
      " 12  bulk_12  2450 non-null   float64\n",
      " 13  bulk_13  18 non-null     float64\n",
      " 14  bulk_14  2806 non-null   float64\n",
      " 15  bulk_15  2248 non-null   float64\n",
      "dtypes: float64(15), int64(1)\n",
      "memory usage: 391.2 KB\n"
     ]
    }
   ],
   "source": [
    "data_bulk.columns = data_bulk.columns.str.lower().str.replace(' ', '_')\n",
    "data_bulk.info()"
   ]
  },
  {
   "cell_type": "markdown",
   "id": "a77567a7",
   "metadata": {},
   "source": []
  },
  {
   "cell_type": "markdown",
   "id": "785cebd3",
   "metadata": {},
   "source": [
    "Приступим к обработке пропущенных значений. Столбцы, в которых доля пропусков превышает 80 %, не несут достаточной информативности и могут исказить анализ — такие признаки целесообразно удалить.\n",
    "\n",
    "Оставшиеся пропуски, учитывая контекст данных, заполним нулевыми значениями. Такой подход подходит, например, для числовых параметров, где отсутствие записи логично интерпретировать как отсутствие события или нулевую активность (например, отсутствие подачи компонента или неиспользование ресурса).\n",
    "\n",
    "Этот шаг упрощает структуру данных и готовит их к дальнейшей агрегации, визуализации или моделированию."
   ]
  },
  {
   "cell_type": "code",
   "execution_count": 35,
   "id": "3d132052",
   "metadata": {},
   "outputs": [
    {
     "name": "stdout",
     "output_type": "stream",
     "text": [
      "Количество пропусков в таблице:\n",
      "key        0\n",
      "bulk_12    0\n",
      "bulk_14    0\n",
      "dtype: int64\n"
     ]
    }
   ],
   "source": [
    "data_bulk = data_bulk[['key', 'bulk_12','bulk_14']]\n",
    "data_bulk = data_bulk.fillna(0)\n",
    "print(f'Количество пропусков в таблице:\\n{data_bulk.isna().sum()}')"
   ]
  },
  {
   "cell_type": "code",
   "execution_count": 36,
   "id": "284fbf4f",
   "metadata": {},
   "outputs": [
    {
     "data": {
      "image/png": "[encoded data removed]",
      "text/plain": [
       "<Figure size 1008x360 with 2 Axes>"
      ]
     },
     "metadata": {
      "needs_background": "light"
     },
     "output_type": "display_data"
    }
   ],
   "source": [
    "f_hist_box(\n",
    "    data=data_bulk['bulk_12'],\n",
    "    bins=50, \n",
    "    title='Сыпучий материал',\n",
    "    xlabel='bulk_12',\n",
    "    ylabel='Количество'\n",
    ")"
   ]
  },
  {
   "cell_type": "code",
   "execution_count": 37,
   "id": "6cc67120",
   "metadata": {},
   "outputs": [
    {
     "data": {
      "image/png": "[encoded data removed]",
      "text/plain": [
       "<Figure size 1008x360 with 2 Axes>"
      ]
     },
     "metadata": {
      "needs_background": "light"
     },
     "output_type": "display_data"
    }
   ],
   "source": [
    "f_hist_box(\n",
    "    data=data_bulk['bulk_14'],\n",
    "    bins=50, \n",
    "    title='Сыпучий материал',\n",
    "    xlabel='bulk_14',\n",
    "    ylabel='Количество'\n",
    ")"
   ]
  },
  {
   "cell_type": "markdown",
   "id": "c6fb5fdc",
   "metadata": {},
   "source": [
    "### `data_bulk_time_new.csv`"
   ]
  },
  {
   "cell_type": "code",
   "execution_count": 38,
   "id": "d31f2116",
   "metadata": {},
   "outputs": [
    {
     "name": "stdout",
     "output_type": "stream",
     "text": [
      "Описалельная статистика\n"
     ]
    },
    {
     "data": {
      "text/html": [
       "<div>\n",
       "<style scoped>\n",
       "    .dataframe tbody tr th:only-of-type {\n",
       "        vertical-align: middle;\n",
       "    }\n",
       "\n",
       "    .dataframe tbody tr th {\n",
       "        vertical-align: top;\n",
       "    }\n",
       "\n",
       "    .dataframe thead th {\n",
       "        text-align: right;\n",
       "    }\n",
       "</style>\n",
       "<table border=\"1\" class=\"dataframe\">\n",
       "  <thead>\n",
       "    <tr style=\"text-align: right;\">\n",
       "      <th></th>\n",
       "      <th>Bulk 1</th>\n",
       "      <th>Bulk 2</th>\n",
       "      <th>Bulk 3</th>\n",
       "      <th>Bulk 4</th>\n",
       "      <th>Bulk 5</th>\n",
       "      <th>Bulk 6</th>\n",
       "      <th>Bulk 7</th>\n",
       "      <th>Bulk 8</th>\n",
       "      <th>Bulk 9</th>\n",
       "      <th>Bulk 10</th>\n",
       "      <th>Bulk 11</th>\n",
       "      <th>Bulk 12</th>\n",
       "      <th>Bulk 13</th>\n",
       "      <th>Bulk 14</th>\n",
       "      <th>Bulk 15</th>\n",
       "    </tr>\n",
       "  </thead>\n",
       "  <tbody>\n",
       "    <tr>\n",
       "      <th>count</th>\n",
       "      <td>252</td>\n",
       "      <td>22</td>\n",
       "      <td>1298</td>\n",
       "      <td>1014</td>\n",
       "      <td>77</td>\n",
       "      <td>576</td>\n",
       "      <td>25</td>\n",
       "      <td>1</td>\n",
       "      <td>19</td>\n",
       "      <td>176</td>\n",
       "      <td>177</td>\n",
       "      <td>2450</td>\n",
       "      <td>18</td>\n",
       "      <td>2806</td>\n",
       "      <td>2248</td>\n",
       "    </tr>\n",
       "    <tr>\n",
       "      <th>unique</th>\n",
       "      <td>252</td>\n",
       "      <td>22</td>\n",
       "      <td>1298</td>\n",
       "      <td>1014</td>\n",
       "      <td>77</td>\n",
       "      <td>576</td>\n",
       "      <td>25</td>\n",
       "      <td>1</td>\n",
       "      <td>19</td>\n",
       "      <td>176</td>\n",
       "      <td>177</td>\n",
       "      <td>2450</td>\n",
       "      <td>18</td>\n",
       "      <td>2806</td>\n",
       "      <td>2248</td>\n",
       "    </tr>\n",
       "    <tr>\n",
       "      <th>top</th>\n",
       "      <td>2019-05-29 11:07:59</td>\n",
       "      <td>2019-05-08 01:53:35</td>\n",
       "      <td>2019-08-18 05:07:43</td>\n",
       "      <td>2019-05-18 09:17:50</td>\n",
       "      <td>2019-08-12 22:28:59</td>\n",
       "      <td>2019-05-10 07:08:59</td>\n",
       "      <td>2019-07-20 23:48:47</td>\n",
       "      <td>2019-07-08 17:14:53</td>\n",
       "      <td>2019-08-16 08:40:51</td>\n",
       "      <td>2019-05-22 12:46:08</td>\n",
       "      <td>2019-08-18 05:07:43</td>\n",
       "      <td>2019-05-18 09:17:50</td>\n",
       "      <td>2019-06-01 18:07:38</td>\n",
       "      <td>2019-06-03 23:27:17</td>\n",
       "      <td>2019-05-06 03:11:38</td>\n",
       "    </tr>\n",
       "    <tr>\n",
       "      <th>freq</th>\n",
       "      <td>1</td>\n",
       "      <td>1</td>\n",
       "      <td>1</td>\n",
       "      <td>1</td>\n",
       "      <td>1</td>\n",
       "      <td>1</td>\n",
       "      <td>1</td>\n",
       "      <td>1</td>\n",
       "      <td>1</td>\n",
       "      <td>1</td>\n",
       "      <td>1</td>\n",
       "      <td>1</td>\n",
       "      <td>1</td>\n",
       "      <td>1</td>\n",
       "      <td>1</td>\n",
       "    </tr>\n",
       "  </tbody>\n",
       "</table>\n",
       "</div>"
      ],
      "text/plain": [
       "                     Bulk 1               Bulk 2               Bulk 3  \\\n",
       "count                   252                   22                 1298   \n",
       "unique                  252                   22                 1298   \n",
       "top     2019-05-29 11:07:59  2019-05-08 01:53:35  2019-08-18 05:07:43   \n",
       "freq                      1                    1                    1   \n",
       "\n",
       "                     Bulk 4               Bulk 5               Bulk 6  \\\n",
       "count                  1014                   77                  576   \n",
       "unique                 1014                   77                  576   \n",
       "top     2019-05-18 09:17:50  2019-08-12 22:28:59  2019-05-10 07:08:59   \n",
       "freq                      1                    1                    1   \n",
       "\n",
       "                     Bulk 7               Bulk 8               Bulk 9  \\\n",
       "count                    25                    1                   19   \n",
       "unique                   25                    1                   19   \n",
       "top     2019-07-20 23:48:47  2019-07-08 17:14:53  2019-08-16 08:40:51   \n",
       "freq                      1                    1                    1   \n",
       "\n",
       "                    Bulk 10              Bulk 11              Bulk 12  \\\n",
       "count                   176                  177                 2450   \n",
       "unique                  176                  177                 2450   \n",
       "top     2019-05-22 12:46:08  2019-08-18 05:07:43  2019-05-18 09:17:50   \n",
       "freq                      1                    1                    1   \n",
       "\n",
       "                    Bulk 13              Bulk 14              Bulk 15  \n",
       "count                    18                 2806                 2248  \n",
       "unique                   18                 2806                 2248  \n",
       "top     2019-06-01 18:07:38  2019-06-03 23:27:17  2019-05-06 03:11:38  \n",
       "freq                      1                    1                    1  "
      ]
     },
     "execution_count": 38,
     "metadata": {},
     "output_type": "execute_result"
    }
   ],
   "source": [
    "print('Описалельная статистика')\n",
    "data_bulk_time.iloc[:,1:].describe(include=['object', 'float', 'int']).round(2)"
   ]
  },
  {
   "cell_type": "code",
   "execution_count": 39,
   "id": "0e0714c7",
   "metadata": {},
   "outputs": [
    {
     "name": "stdout",
     "output_type": "stream",
     "text": [
      "Информация\n",
      "\n",
      "<class 'pandas.core.frame.DataFrame'>\n",
      "RangeIndex: 3129 entries, 0 to 3128\n",
      "Data columns (total 16 columns):\n",
      " #   Column   Non-Null Count  Dtype \n",
      "---  ------   --------------  ----- \n",
      " 0   key      3129 non-null   int64 \n",
      " 1   Bulk 1   252 non-null    object\n",
      " 2   Bulk 2   22 non-null     object\n",
      " 3   Bulk 3   1298 non-null   object\n",
      " 4   Bulk 4   1014 non-null   object\n",
      " 5   Bulk 5   77 non-null     object\n",
      " 6   Bulk 6   576 non-null    object\n",
      " 7   Bulk 7   25 non-null     object\n",
      " 8   Bulk 8   1 non-null      object\n",
      " 9   Bulk 9   19 non-null     object\n",
      " 10  Bulk 10  176 non-null    object\n",
      " 11  Bulk 11  177 non-null    object\n",
      " 12  Bulk 12  2450 non-null   object\n",
      " 13  Bulk 13  18 non-null     object\n",
      " 14  Bulk 14  2806 non-null   object\n",
      " 15  Bulk 15  2248 non-null   object\n",
      "dtypes: int64(1), object(15)\n",
      "memory usage: 391.2+ KB\n"
     ]
    }
   ],
   "source": [
    "print('Информация\\n')\n",
    "data_bulk_time.info()"
   ]
  },
  {
   "cell_type": "code",
   "execution_count": 40,
   "id": "0f62d429",
   "metadata": {},
   "outputs": [
    {
     "name": "stdout",
     "output_type": "stream",
     "text": [
      "Процент наличия данных\n"
     ]
    },
    {
     "data": {
      "text/plain": [
       "key        100.000000\n",
       "Bulk 1       8.053691\n",
       "Bulk 2       0.703100\n",
       "Bulk 3      41.482902\n",
       "Bulk 4      32.406520\n",
       "Bulk 5       2.460850\n",
       "Bulk 6      18.408437\n",
       "Bulk 7       0.798977\n",
       "Bulk 8       0.031959\n",
       "Bulk 9       0.607223\n",
       "Bulk 10      5.624800\n",
       "Bulk 11      5.656759\n",
       "Bulk 12     78.299776\n",
       "Bulk 13      0.575264\n",
       "Bulk 14     89.677213\n",
       "Bulk 15     71.844040\n",
       "dtype: float64"
      ]
     },
     "metadata": {},
     "output_type": "display_data"
    }
   ],
   "source": [
    "print('Процент наличия данных')\n",
    "display(100 - (data_bulk_time.isna().sum() / data_bulk_time.shape[0] * 100.00))"
   ]
  },
  {
   "cell_type": "code",
   "execution_count": 41,
   "id": "d4110283",
   "metadata": {},
   "outputs": [
    {
     "name": "stdout",
     "output_type": "stream",
     "text": [
      "Количество явных дубликатов:0\n"
     ]
    }
   ],
   "source": [
    "print(f'Количество явных дубликатов:{data_bulk_time.duplicated().sum()}')"
   ]
  },
  {
   "cell_type": "code",
   "execution_count": 42,
   "id": "c1a95277",
   "metadata": {},
   "outputs": [
    {
     "name": "stdout",
     "output_type": "stream",
     "text": [
      "Матрица пропущенных значений:\n"
     ]
    },
    {
     "data": {
      "image/png": "[encoded data removed]",
      "text/plain": [
       "<Figure size 576x216 with 2 Axes>"
      ]
     },
     "metadata": {
      "needs_background": "light"
     },
     "output_type": "display_data"
    }
   ],
   "source": [
    "print('Матрица пропущенных значений:')\n",
    "msno.matrix(data_bulk_time.iloc[:,1:], figsize=(8, 3), fontsize=8);"
   ]
  },
  {
   "cell_type": "code",
   "execution_count": 43,
   "id": "4ca96b74",
   "metadata": {},
   "outputs": [
    {
     "name": "stdout",
     "output_type": "stream",
     "text": [
      "Дендограмма пропущенных значений:\n"
     ]
    },
    {
     "data": {
      "image/png": "[encoded data removed]",
      "text/plain": [
       "<Figure size 576x216 with 1 Axes>"
      ]
     },
     "metadata": {
      "needs_background": "light"
     },
     "output_type": "display_data"
    }
   ],
   "source": [
    "print('Дендограмма пропущенных значений:')\n",
    "msno.dendrogram(data_bulk_time.iloc[:,1:], figsize=(8, 3), fontsize=8);"
   ]
  },
  {
   "cell_type": "markdown",
   "id": "fe8586c6",
   "metadata": {},
   "source": [
    "Анализ показал, что конечная температура расплава не имеет значимой связи со временем подачи сыпучих материалов. Учитывая это, данные о времени засыпки не будут включаться в обучающую выборку модели — они не вносят вклад в прогноз и могут лишь усложнить процесс обучения.\n",
    "\n",
    "Ограничимся ознакомительной проверкой этих признаков на этапе разведывательного анализа, но исключим их из дальнейшей работы для повышения интерпретируемости и стабильности модели."
   ]
  },
  {
   "cell_type": "markdown",
   "id": "8e9a25b2",
   "metadata": {},
   "source": [
    "### `data_gas_new.csv`"
   ]
  },
  {
   "cell_type": "code",
   "execution_count": 44,
   "id": "7cb5f76e",
   "metadata": {},
   "outputs": [
    {
     "name": "stdout",
     "output_type": "stream",
     "text": [
      "Описалельная статистика\n"
     ]
    },
    {
     "data": {
      "text/html": [
       "<div>\n",
       "<style scoped>\n",
       "    .dataframe tbody tr th:only-of-type {\n",
       "        vertical-align: middle;\n",
       "    }\n",
       "\n",
       "    .dataframe tbody tr th {\n",
       "        vertical-align: top;\n",
       "    }\n",
       "\n",
       "    .dataframe thead th {\n",
       "        text-align: right;\n",
       "    }\n",
       "</style>\n",
       "<table border=\"1\" class=\"dataframe\">\n",
       "  <thead>\n",
       "    <tr style=\"text-align: right;\">\n",
       "      <th></th>\n",
       "      <th>Газ 1</th>\n",
       "    </tr>\n",
       "  </thead>\n",
       "  <tbody>\n",
       "    <tr>\n",
       "      <th>count</th>\n",
       "      <td>3239.00</td>\n",
       "    </tr>\n",
       "    <tr>\n",
       "      <th>mean</th>\n",
       "      <td>11.00</td>\n",
       "    </tr>\n",
       "    <tr>\n",
       "      <th>std</th>\n",
       "      <td>6.22</td>\n",
       "    </tr>\n",
       "    <tr>\n",
       "      <th>min</th>\n",
       "      <td>0.01</td>\n",
       "    </tr>\n",
       "    <tr>\n",
       "      <th>25%</th>\n",
       "      <td>7.04</td>\n",
       "    </tr>\n",
       "    <tr>\n",
       "      <th>50%</th>\n",
       "      <td>9.84</td>\n",
       "    </tr>\n",
       "    <tr>\n",
       "      <th>75%</th>\n",
       "      <td>13.77</td>\n",
       "    </tr>\n",
       "    <tr>\n",
       "      <th>max</th>\n",
       "      <td>78.00</td>\n",
       "    </tr>\n",
       "  </tbody>\n",
       "</table>\n",
       "</div>"
      ],
      "text/plain": [
       "         Газ 1\n",
       "count  3239.00\n",
       "mean     11.00\n",
       "std       6.22\n",
       "min       0.01\n",
       "25%       7.04\n",
       "50%       9.84\n",
       "75%      13.77\n",
       "max      78.00"
      ]
     },
     "execution_count": 44,
     "metadata": {},
     "output_type": "execute_result"
    }
   ],
   "source": [
    "print('Описалельная статистика')\n",
    "data_gas.iloc[:,1:].describe(include=['object', 'float', 'int']).round(2)"
   ]
  },
  {
   "cell_type": "code",
   "execution_count": 45,
   "id": "31aafd1a",
   "metadata": {},
   "outputs": [
    {
     "name": "stdout",
     "output_type": "stream",
     "text": [
      "Информация\n",
      "\n",
      "<class 'pandas.core.frame.DataFrame'>\n",
      "RangeIndex: 3239 entries, 0 to 3238\n",
      "Data columns (total 2 columns):\n",
      " #   Column  Non-Null Count  Dtype  \n",
      "---  ------  --------------  -----  \n",
      " 0   key     3239 non-null   int64  \n",
      " 1   Газ 1   3239 non-null   float64\n",
      "dtypes: float64(1), int64(1)\n",
      "memory usage: 50.7 KB\n"
     ]
    }
   ],
   "source": [
    "print('Информация\\n')\n",
    "data_gas.info()"
   ]
  },
  {
   "cell_type": "code",
   "execution_count": 46,
   "id": "3b0c266d",
   "metadata": {},
   "outputs": [
    {
     "name": "stdout",
     "output_type": "stream",
     "text": [
      "Процент наличия данных\n"
     ]
    },
    {
     "data": {
      "text/plain": [
       "key      100.0\n",
       "Газ 1    100.0\n",
       "dtype: float64"
      ]
     },
     "metadata": {},
     "output_type": "display_data"
    }
   ],
   "source": [
    "print('Процент наличия данных')\n",
    "display(100 - (data_gas.isna().sum() / data_gas.shape[0] * 100.00))"
   ]
  },
  {
   "cell_type": "code",
   "execution_count": 47,
   "id": "024417ec",
   "metadata": {},
   "outputs": [
    {
     "name": "stdout",
     "output_type": "stream",
     "text": [
      "Количество явных дубликатов:0\n"
     ]
    }
   ],
   "source": [
    "print(f'Количество явных дубликатов:{data_gas.duplicated().sum()}')"
   ]
  },
  {
   "cell_type": "code",
   "execution_count": 48,
   "id": "5d79ddb4",
   "metadata": {},
   "outputs": [
    {
     "name": "stdout",
     "output_type": "stream",
     "text": [
      "Матрица пропущенных значений:\n"
     ]
    },
    {
     "data": {
      "image/png": "[encoded data removed]",
      "text/plain": [
       "<Figure size 576x216 with 2 Axes>"
      ]
     },
     "metadata": {
      "needs_background": "light"
     },
     "output_type": "display_data"
    }
   ],
   "source": [
    "print('Матрица пропущенных значений:')\n",
    "msno.matrix(data_gas.iloc[:,1:], figsize=(8, 3), fontsize=8);"
   ]
  },
  {
   "cell_type": "markdown",
   "id": "be03c4f9",
   "metadata": {},
   "source": [
    "По аналогии с предыдущими датасетами переименнуем столбцы"
   ]
  },
  {
   "cell_type": "code",
   "execution_count": 49,
   "id": "8f63ebba",
   "metadata": {},
   "outputs": [
    {
     "data": {
      "text/html": [
       "<div>\n",
       "<style scoped>\n",
       "    .dataframe tbody tr th:only-of-type {\n",
       "        vertical-align: middle;\n",
       "    }\n",
       "\n",
       "    .dataframe tbody tr th {\n",
       "        vertical-align: top;\n",
       "    }\n",
       "\n",
       "    .dataframe thead th {\n",
       "        text-align: right;\n",
       "    }\n",
       "</style>\n",
       "<table border=\"1\" class=\"dataframe\">\n",
       "  <thead>\n",
       "    <tr style=\"text-align: right;\">\n",
       "      <th></th>\n",
       "      <th>key</th>\n",
       "      <th>gas_1</th>\n",
       "    </tr>\n",
       "  </thead>\n",
       "  <tbody>\n",
       "    <tr>\n",
       "      <th>0</th>\n",
       "      <td>1</td>\n",
       "      <td>29.749986</td>\n",
       "    </tr>\n",
       "    <tr>\n",
       "      <th>1</th>\n",
       "      <td>2</td>\n",
       "      <td>12.555561</td>\n",
       "    </tr>\n",
       "    <tr>\n",
       "      <th>2</th>\n",
       "      <td>3</td>\n",
       "      <td>28.554793</td>\n",
       "    </tr>\n",
       "    <tr>\n",
       "      <th>3</th>\n",
       "      <td>4</td>\n",
       "      <td>18.841219</td>\n",
       "    </tr>\n",
       "    <tr>\n",
       "      <th>4</th>\n",
       "      <td>5</td>\n",
       "      <td>5.413692</td>\n",
       "    </tr>\n",
       "    <tr>\n",
       "      <th>5</th>\n",
       "      <td>6</td>\n",
       "      <td>11.273392</td>\n",
       "    </tr>\n",
       "    <tr>\n",
       "      <th>6</th>\n",
       "      <td>7</td>\n",
       "      <td>9.836267</td>\n",
       "    </tr>\n",
       "    <tr>\n",
       "      <th>7</th>\n",
       "      <td>8</td>\n",
       "      <td>15.171553</td>\n",
       "    </tr>\n",
       "    <tr>\n",
       "      <th>8</th>\n",
       "      <td>9</td>\n",
       "      <td>8.216623</td>\n",
       "    </tr>\n",
       "    <tr>\n",
       "      <th>9</th>\n",
       "      <td>10</td>\n",
       "      <td>6.529891</td>\n",
       "    </tr>\n",
       "  </tbody>\n",
       "</table>\n",
       "</div>"
      ],
      "text/plain": [
       "   key      gas_1\n",
       "0    1  29.749986\n",
       "1    2  12.555561\n",
       "2    3  28.554793\n",
       "3    4  18.841219\n",
       "4    5   5.413692\n",
       "5    6  11.273392\n",
       "6    7   9.836267\n",
       "7    8  15.171553\n",
       "8    9   8.216623\n",
       "9   10   6.529891"
      ]
     },
     "execution_count": 49,
     "metadata": {},
     "output_type": "execute_result"
    }
   ],
   "source": [
    "data_gas = data_gas.rename(columns={'Газ 1':'gas_1'})\n",
    "data_gas.head(10)"
   ]
  },
  {
   "cell_type": "code",
   "execution_count": 50,
   "id": "b6cbebdb",
   "metadata": {},
   "outputs": [
    {
     "data": {
      "image/png": "[encoded data removed]",
      "text/plain": [
       "<Figure size 1008x360 with 2 Axes>"
      ]
     },
     "metadata": {
      "needs_background": "light"
     },
     "output_type": "display_data"
    }
   ],
   "source": [
    "f_hist_box(\n",
    "    data=data_gas['gas_1'],\n",
    "    bins=100, \n",
    "    title='Продувка газом',\n",
    "    xlabel='Объем газа',\n",
    "    ylabel='Количество'\n",
    ")"
   ]
  },
  {
   "cell_type": "markdown",
   "id": "dbce0834",
   "metadata": {},
   "source": [
    "### `data_temp_new.csv`"
   ]
  },
  {
   "cell_type": "code",
   "execution_count": 51,
   "id": "5539e36b",
   "metadata": {},
   "outputs": [
    {
     "name": "stdout",
     "output_type": "stream",
     "text": [
      "Описалельная статистика\n"
     ]
    },
    {
     "data": {
      "text/html": [
       "<div>\n",
       "<style scoped>\n",
       "    .dataframe tbody tr th:only-of-type {\n",
       "        vertical-align: middle;\n",
       "    }\n",
       "\n",
       "    .dataframe tbody tr th {\n",
       "        vertical-align: top;\n",
       "    }\n",
       "\n",
       "    .dataframe thead th {\n",
       "        text-align: right;\n",
       "    }\n",
       "</style>\n",
       "<table border=\"1\" class=\"dataframe\">\n",
       "  <thead>\n",
       "    <tr style=\"text-align: right;\">\n",
       "      <th></th>\n",
       "      <th>Время замера</th>\n",
       "      <th>Температура</th>\n",
       "    </tr>\n",
       "  </thead>\n",
       "  <tbody>\n",
       "    <tr>\n",
       "      <th>count</th>\n",
       "      <td>18092</td>\n",
       "      <td>14665.00</td>\n",
       "    </tr>\n",
       "    <tr>\n",
       "      <th>unique</th>\n",
       "      <td>18092</td>\n",
       "      <td>NaN</td>\n",
       "    </tr>\n",
       "    <tr>\n",
       "      <th>top</th>\n",
       "      <td>2019-05-18 23:48:37</td>\n",
       "      <td>NaN</td>\n",
       "    </tr>\n",
       "    <tr>\n",
       "      <th>freq</th>\n",
       "      <td>1</td>\n",
       "      <td>NaN</td>\n",
       "    </tr>\n",
       "    <tr>\n",
       "      <th>mean</th>\n",
       "      <td>NaN</td>\n",
       "      <td>1590.72</td>\n",
       "    </tr>\n",
       "    <tr>\n",
       "      <th>std</th>\n",
       "      <td>NaN</td>\n",
       "      <td>20.39</td>\n",
       "    </tr>\n",
       "    <tr>\n",
       "      <th>min</th>\n",
       "      <td>NaN</td>\n",
       "      <td>1191.00</td>\n",
       "    </tr>\n",
       "    <tr>\n",
       "      <th>25%</th>\n",
       "      <td>NaN</td>\n",
       "      <td>1580.00</td>\n",
       "    </tr>\n",
       "    <tr>\n",
       "      <th>50%</th>\n",
       "      <td>NaN</td>\n",
       "      <td>1590.00</td>\n",
       "    </tr>\n",
       "    <tr>\n",
       "      <th>75%</th>\n",
       "      <td>NaN</td>\n",
       "      <td>1599.00</td>\n",
       "    </tr>\n",
       "    <tr>\n",
       "      <th>max</th>\n",
       "      <td>NaN</td>\n",
       "      <td>1705.00</td>\n",
       "    </tr>\n",
       "  </tbody>\n",
       "</table>\n",
       "</div>"
      ],
      "text/plain": [
       "               Время замера  Температура\n",
       "count                 18092     14665.00\n",
       "unique                18092          NaN\n",
       "top     2019-05-18 23:48:37          NaN\n",
       "freq                      1          NaN\n",
       "mean                    NaN      1590.72\n",
       "std                     NaN        20.39\n",
       "min                     NaN      1191.00\n",
       "25%                     NaN      1580.00\n",
       "50%                     NaN      1590.00\n",
       "75%                     NaN      1599.00\n",
       "max                     NaN      1705.00"
      ]
     },
     "execution_count": 51,
     "metadata": {},
     "output_type": "execute_result"
    }
   ],
   "source": [
    "print('Описалельная статистика')\n",
    "data_temp.iloc[:,1:].describe(include=['object', 'float', 'int']).round(2)"
   ]
  },
  {
   "cell_type": "code",
   "execution_count": 52,
   "id": "8e24f390",
   "metadata": {},
   "outputs": [
    {
     "name": "stdout",
     "output_type": "stream",
     "text": [
      "Информация\n",
      "\n",
      "<class 'pandas.core.frame.DataFrame'>\n",
      "RangeIndex: 18092 entries, 0 to 18091\n",
      "Data columns (total 3 columns):\n",
      " #   Column        Non-Null Count  Dtype  \n",
      "---  ------        --------------  -----  \n",
      " 0   key           18092 non-null  int64  \n",
      " 1   Время замера  18092 non-null  object \n",
      " 2   Температура   14665 non-null  float64\n",
      "dtypes: float64(1), int64(1), object(1)\n",
      "memory usage: 424.2+ KB\n"
     ]
    }
   ],
   "source": [
    "print('Информация\\n')\n",
    "data_temp.info()"
   ]
  },
  {
   "cell_type": "code",
   "execution_count": 53,
   "id": "f8f36f0d",
   "metadata": {},
   "outputs": [
    {
     "name": "stdout",
     "output_type": "stream",
     "text": [
      "Процент наличия данных\n"
     ]
    },
    {
     "data": {
      "text/plain": [
       "key             100.000000\n",
       "Время замера    100.000000\n",
       "Температура      81.057926\n",
       "dtype: float64"
      ]
     },
     "metadata": {},
     "output_type": "display_data"
    }
   ],
   "source": [
    "print('Процент наличия данных')\n",
    "display(100 - (data_temp.isna().sum() / data_temp.shape[0] * 100.00))"
   ]
  },
  {
   "cell_type": "code",
   "execution_count": 54,
   "id": "a62f9ff9",
   "metadata": {},
   "outputs": [
    {
     "name": "stdout",
     "output_type": "stream",
     "text": [
      "Количество явных дубликатов:0\n"
     ]
    }
   ],
   "source": [
    "print(f'Количество явных дубликатов:{data_temp.duplicated().sum()}')"
   ]
  },
  {
   "cell_type": "code",
   "execution_count": 55,
   "id": "2ffa8bf2",
   "metadata": {},
   "outputs": [
    {
     "name": "stdout",
     "output_type": "stream",
     "text": [
      "Матрица пропущенных значений:\n"
     ]
    },
    {
     "data": {
      "image/png": "[encoded data removed]",
      "text/plain": [
       "<Figure size 576x216 with 2 Axes>"
      ]
     },
     "metadata": {
      "needs_background": "light"
     },
     "output_type": "display_data"
    }
   ],
   "source": [
    "print('Матрица пропущенных значений:')\n",
    "msno.matrix(data_temp.iloc[:,1:], figsize=(8, 3), fontsize=8);"
   ]
  },
  {
   "cell_type": "markdown",
   "id": "fced7ea6",
   "metadata": {},
   "source": [
    "Переименуем столцы изменим формат времени"
   ]
  },
  {
   "cell_type": "code",
   "execution_count": 56,
   "id": "e689ace7",
   "metadata": {},
   "outputs": [
    {
     "name": "stdout",
     "output_type": "stream",
     "text": [
      "<class 'pandas.core.frame.DataFrame'>\n",
      "RangeIndex: 18092 entries, 0 to 18091\n",
      "Data columns (total 3 columns):\n",
      " #   Column          Non-Null Count  Dtype         \n",
      "---  ------          --------------  -----         \n",
      " 0   key             18092 non-null  int64         \n",
      " 1   measuring_time  18092 non-null  datetime64[ns]\n",
      " 2   temperature     14665 non-null  float64       \n",
      "dtypes: datetime64[ns](1), float64(1), int64(1)\n",
      "memory usage: 424.2 KB\n"
     ]
    }
   ],
   "source": [
    "data_temp = data_temp.rename(columns={'Время замера':'measuring_time',\n",
    "                                      'Температура': 'temperature'\n",
    "                                     }\n",
    ")\n",
    "data_temp['measuring_time'] = pd.to_datetime(data_temp['measuring_time'], format='%Y-%m-%d %H:%M:%S')\n",
    "data_temp.info()"
   ]
  },
  {
   "cell_type": "code",
   "execution_count": 57,
   "id": "87f72b15",
   "metadata": {},
   "outputs": [
    {
     "data": {
      "image/png": "[encoded data removed]",
      "text/plain": [
       "<Figure size 1008x360 with 2 Axes>"
      ]
     },
     "metadata": {
      "needs_background": "light"
     },
     "output_type": "display_data"
    }
   ],
   "source": [
    "f_hist_box(\n",
    "    data=data_temp['temperature'],\n",
    "    bins=100, \n",
    "    title='Температура расплава',\n",
    "    xlabel='Температура',\n",
    "    ylabel='Количество'\n",
    ")"
   ]
  },
  {
   "cell_type": "markdown",
   "id": "bd9199f5",
   "metadata": {},
   "source": [
    "Удалим расплавы с температурой ниже 1500"
   ]
  },
  {
   "cell_type": "code",
   "execution_count": 58,
   "id": "94351660",
   "metadata": {},
   "outputs": [
    {
     "name": "stdout",
     "output_type": "stream",
     "text": [
      "<class 'pandas.core.frame.DataFrame'>\n",
      "Int64Index: 13920 entries, 0 to 13925\n",
      "Data columns (total 3 columns):\n",
      " #   Column          Non-Null Count  Dtype         \n",
      "---  ------          --------------  -----         \n",
      " 0   key             13920 non-null  int64         \n",
      " 1   measuring_time  13920 non-null  datetime64[ns]\n",
      " 2   temperature     13920 non-null  float64       \n",
      "dtypes: datetime64[ns](1), float64(1), int64(1)\n",
      "memory usage: 435.0 KB\n"
     ]
    }
   ],
   "source": [
    "data_temp = data_temp.dropna()\n",
    "data_temp = data_temp.query('temperature > 1500')\n",
    "keys = data_temp.pivot_table(index='key',\n",
    "                                      values=['temperature'],\n",
    "                                      aggfunc='count').query('temperature == 1').reset_index()\n",
    "keys = keys['key'].tolist()\n",
    "data_temp = data_temp.query('key not in @keys')\n",
    "data_temp.info()"
   ]
  },
  {
   "cell_type": "code",
   "execution_count": 59,
   "id": "3a15c598",
   "metadata": {},
   "outputs": [
    {
     "data": {
      "text/html": [
       "<div>\n",
       "<style scoped>\n",
       "    .dataframe tbody tr th:only-of-type {\n",
       "        vertical-align: middle;\n",
       "    }\n",
       "\n",
       "    .dataframe tbody tr th {\n",
       "        vertical-align: top;\n",
       "    }\n",
       "\n",
       "    .dataframe thead th {\n",
       "        text-align: right;\n",
       "    }\n",
       "</style>\n",
       "<table border=\"1\" class=\"dataframe\">\n",
       "  <thead>\n",
       "    <tr style=\"text-align: right;\">\n",
       "      <th></th>\n",
       "      <th>key</th>\n",
       "      <th>first_temperture</th>\n",
       "      <th>last_temperature</th>\n",
       "    </tr>\n",
       "  </thead>\n",
       "  <tbody>\n",
       "    <tr>\n",
       "      <th>0</th>\n",
       "      <td>1</td>\n",
       "      <td>1571.0</td>\n",
       "      <td>1613.0</td>\n",
       "    </tr>\n",
       "    <tr>\n",
       "      <th>1</th>\n",
       "      <td>2</td>\n",
       "      <td>1581.0</td>\n",
       "      <td>1602.0</td>\n",
       "    </tr>\n",
       "    <tr>\n",
       "      <th>2</th>\n",
       "      <td>3</td>\n",
       "      <td>1596.0</td>\n",
       "      <td>1599.0</td>\n",
       "    </tr>\n",
       "    <tr>\n",
       "      <th>3</th>\n",
       "      <td>4</td>\n",
       "      <td>1601.0</td>\n",
       "      <td>1625.0</td>\n",
       "    </tr>\n",
       "    <tr>\n",
       "      <th>4</th>\n",
       "      <td>5</td>\n",
       "      <td>1576.0</td>\n",
       "      <td>1602.0</td>\n",
       "    </tr>\n",
       "    <tr>\n",
       "      <th>...</th>\n",
       "      <td>...</td>\n",
       "      <td>...</td>\n",
       "      <td>...</td>\n",
       "    </tr>\n",
       "    <tr>\n",
       "      <th>2470</th>\n",
       "      <td>2495</td>\n",
       "      <td>1570.0</td>\n",
       "      <td>1591.0</td>\n",
       "    </tr>\n",
       "    <tr>\n",
       "      <th>2471</th>\n",
       "      <td>2496</td>\n",
       "      <td>1554.0</td>\n",
       "      <td>1591.0</td>\n",
       "    </tr>\n",
       "    <tr>\n",
       "      <th>2472</th>\n",
       "      <td>2497</td>\n",
       "      <td>1571.0</td>\n",
       "      <td>1589.0</td>\n",
       "    </tr>\n",
       "    <tr>\n",
       "      <th>2473</th>\n",
       "      <td>2498</td>\n",
       "      <td>1591.0</td>\n",
       "      <td>1594.0</td>\n",
       "    </tr>\n",
       "    <tr>\n",
       "      <th>2474</th>\n",
       "      <td>2499</td>\n",
       "      <td>1569.0</td>\n",
       "      <td>1603.0</td>\n",
       "    </tr>\n",
       "  </tbody>\n",
       "</table>\n",
       "<p>2475 rows × 3 columns</p>\n",
       "</div>"
      ],
      "text/plain": [
       "       key  first_temperture  last_temperature\n",
       "0        1            1571.0            1613.0\n",
       "1        2            1581.0            1602.0\n",
       "2        3            1596.0            1599.0\n",
       "3        4            1601.0            1625.0\n",
       "4        5            1576.0            1602.0\n",
       "...    ...               ...               ...\n",
       "2470  2495            1570.0            1591.0\n",
       "2471  2496            1554.0            1591.0\n",
       "2472  2497            1571.0            1589.0\n",
       "2473  2498            1591.0            1594.0\n",
       "2474  2499            1569.0            1603.0\n",
       "\n",
       "[2475 rows x 3 columns]"
      ]
     },
     "execution_count": 59,
     "metadata": {},
     "output_type": "execute_result"
    }
   ],
   "source": [
    "data_temp = data_temp.sort_values(\n",
    "    by='measuring_time').pivot_table(\n",
    "    index='key', values=['temperature'], aggfunc=['first', 'last']\n",
    ").reset_index()\n",
    "data_temp.columns = ['key', 'first_temperture', 'last_temperature']\n",
    "data_temp#.head(10)"
   ]
  },
  {
   "cell_type": "code",
   "execution_count": 60,
   "id": "b7dc0428",
   "metadata": {},
   "outputs": [
    {
     "data": {
      "image/png": "[encoded data removed]",
      "text/plain": [
       "<Figure size 1008x360 with 2 Axes>"
      ]
     },
     "metadata": {
      "needs_background": "light"
     },
     "output_type": "display_data"
    }
   ],
   "source": [
    "f_hist_box(\n",
    "    data=data_temp['first_temperture'],\n",
    "    bins=100, \n",
    "    title='Начальная температура расплава',\n",
    "    xlabel='Температура',\n",
    "    ylabel='Количество'\n",
    ")"
   ]
  },
  {
   "cell_type": "code",
   "execution_count": 61,
   "id": "febe9f0a",
   "metadata": {},
   "outputs": [
    {
     "data": {
      "image/png": "[encoded data removed]",
      "text/plain": [
       "<Figure size 1008x360 with 2 Axes>"
      ]
     },
     "metadata": {
      "needs_background": "light"
     },
     "output_type": "display_data"
    }
   ],
   "source": [
    "f_hist_box(\n",
    "    data=data_temp['last_temperature'],\n",
    "    bins=100, \n",
    "    title='Конечная температура расплава',\n",
    "    xlabel='Температура',\n",
    "    ylabel='Количество'\n",
    ")"
   ]
  },
  {
   "cell_type": "markdown",
   "id": "0904e949",
   "metadata": {},
   "source": [
    "### `data_wire_new.csv`"
   ]
  },
  {
   "cell_type": "code",
   "execution_count": 62,
   "id": "7e8c7b6e",
   "metadata": {},
   "outputs": [
    {
     "name": "stdout",
     "output_type": "stream",
     "text": [
      "Описалельная статистика\n"
     ]
    },
    {
     "data": {
      "text/html": [
       "<div>\n",
       "<style scoped>\n",
       "    .dataframe tbody tr th:only-of-type {\n",
       "        vertical-align: middle;\n",
       "    }\n",
       "\n",
       "    .dataframe tbody tr th {\n",
       "        vertical-align: top;\n",
       "    }\n",
       "\n",
       "    .dataframe thead th {\n",
       "        text-align: right;\n",
       "    }\n",
       "</style>\n",
       "<table border=\"1\" class=\"dataframe\">\n",
       "  <thead>\n",
       "    <tr style=\"text-align: right;\">\n",
       "      <th></th>\n",
       "      <th>Wire 1</th>\n",
       "      <th>Wire 2</th>\n",
       "      <th>Wire 3</th>\n",
       "      <th>Wire 4</th>\n",
       "      <th>Wire 5</th>\n",
       "      <th>Wire 6</th>\n",
       "      <th>Wire 7</th>\n",
       "      <th>Wire 8</th>\n",
       "      <th>Wire 9</th>\n",
       "    </tr>\n",
       "  </thead>\n",
       "  <tbody>\n",
       "    <tr>\n",
       "      <th>count</th>\n",
       "      <td>3055.00</td>\n",
       "      <td>1079.00</td>\n",
       "      <td>63.00</td>\n",
       "      <td>14.00</td>\n",
       "      <td>1.00</td>\n",
       "      <td>73.00</td>\n",
       "      <td>11.00</td>\n",
       "      <td>19.00</td>\n",
       "      <td>29.00</td>\n",
       "    </tr>\n",
       "    <tr>\n",
       "      <th>mean</th>\n",
       "      <td>100.90</td>\n",
       "      <td>50.58</td>\n",
       "      <td>189.48</td>\n",
       "      <td>57.44</td>\n",
       "      <td>15.13</td>\n",
       "      <td>48.02</td>\n",
       "      <td>10.04</td>\n",
       "      <td>53.63</td>\n",
       "      <td>34.16</td>\n",
       "    </tr>\n",
       "    <tr>\n",
       "      <th>std</th>\n",
       "      <td>42.01</td>\n",
       "      <td>39.32</td>\n",
       "      <td>99.51</td>\n",
       "      <td>28.82</td>\n",
       "      <td>NaN</td>\n",
       "      <td>33.92</td>\n",
       "      <td>8.61</td>\n",
       "      <td>16.88</td>\n",
       "      <td>19.93</td>\n",
       "    </tr>\n",
       "    <tr>\n",
       "      <th>min</th>\n",
       "      <td>1.92</td>\n",
       "      <td>0.03</td>\n",
       "      <td>0.14</td>\n",
       "      <td>24.15</td>\n",
       "      <td>15.13</td>\n",
       "      <td>0.03</td>\n",
       "      <td>0.23</td>\n",
       "      <td>45.08</td>\n",
       "      <td>4.62</td>\n",
       "    </tr>\n",
       "    <tr>\n",
       "      <th>25%</th>\n",
       "      <td>72.12</td>\n",
       "      <td>20.19</td>\n",
       "      <td>95.14</td>\n",
       "      <td>40.81</td>\n",
       "      <td>15.13</td>\n",
       "      <td>25.05</td>\n",
       "      <td>6.76</td>\n",
       "      <td>46.09</td>\n",
       "      <td>22.06</td>\n",
       "    </tr>\n",
       "    <tr>\n",
       "      <th>50%</th>\n",
       "      <td>100.16</td>\n",
       "      <td>40.14</td>\n",
       "      <td>235.19</td>\n",
       "      <td>45.23</td>\n",
       "      <td>15.13</td>\n",
       "      <td>42.08</td>\n",
       "      <td>9.02</td>\n",
       "      <td>46.28</td>\n",
       "      <td>30.07</td>\n",
       "    </tr>\n",
       "    <tr>\n",
       "      <th>75%</th>\n",
       "      <td>126.06</td>\n",
       "      <td>70.23</td>\n",
       "      <td>276.25</td>\n",
       "      <td>76.12</td>\n",
       "      <td>15.13</td>\n",
       "      <td>64.21</td>\n",
       "      <td>11.89</td>\n",
       "      <td>48.09</td>\n",
       "      <td>43.86</td>\n",
       "    </tr>\n",
       "    <tr>\n",
       "      <th>max</th>\n",
       "      <td>330.31</td>\n",
       "      <td>282.78</td>\n",
       "      <td>385.01</td>\n",
       "      <td>113.23</td>\n",
       "      <td>15.13</td>\n",
       "      <td>180.45</td>\n",
       "      <td>32.85</td>\n",
       "      <td>102.76</td>\n",
       "      <td>90.05</td>\n",
       "    </tr>\n",
       "  </tbody>\n",
       "</table>\n",
       "</div>"
      ],
      "text/plain": [
       "        Wire 1   Wire 2  Wire 3  Wire 4  Wire 5  Wire 6  Wire 7  Wire 8  \\\n",
       "count  3055.00  1079.00   63.00   14.00    1.00   73.00   11.00   19.00   \n",
       "mean    100.90    50.58  189.48   57.44   15.13   48.02   10.04   53.63   \n",
       "std      42.01    39.32   99.51   28.82     NaN   33.92    8.61   16.88   \n",
       "min       1.92     0.03    0.14   24.15   15.13    0.03    0.23   45.08   \n",
       "25%      72.12    20.19   95.14   40.81   15.13   25.05    6.76   46.09   \n",
       "50%     100.16    40.14  235.19   45.23   15.13   42.08    9.02   46.28   \n",
       "75%     126.06    70.23  276.25   76.12   15.13   64.21   11.89   48.09   \n",
       "max     330.31   282.78  385.01  113.23   15.13  180.45   32.85  102.76   \n",
       "\n",
       "       Wire 9  \n",
       "count   29.00  \n",
       "mean    34.16  \n",
       "std     19.93  \n",
       "min      4.62  \n",
       "25%     22.06  \n",
       "50%     30.07  \n",
       "75%     43.86  \n",
       "max     90.05  "
      ]
     },
     "execution_count": 62,
     "metadata": {},
     "output_type": "execute_result"
    }
   ],
   "source": [
    "print('Описалельная статистика')\n",
    "data_wire.iloc[:,1:].describe(include=['object', 'float', 'int']).round(2)"
   ]
  },
  {
   "cell_type": "code",
   "execution_count": 63,
   "id": "ea680ca6",
   "metadata": {},
   "outputs": [
    {
     "name": "stdout",
     "output_type": "stream",
     "text": [
      "Информация\n",
      "\n",
      "<class 'pandas.core.frame.DataFrame'>\n",
      "RangeIndex: 3081 entries, 0 to 3080\n",
      "Data columns (total 10 columns):\n",
      " #   Column  Non-Null Count  Dtype  \n",
      "---  ------  --------------  -----  \n",
      " 0   key     3081 non-null   int64  \n",
      " 1   Wire 1  3055 non-null   float64\n",
      " 2   Wire 2  1079 non-null   float64\n",
      " 3   Wire 3  63 non-null     float64\n",
      " 4   Wire 4  14 non-null     float64\n",
      " 5   Wire 5  1 non-null      float64\n",
      " 6   Wire 6  73 non-null     float64\n",
      " 7   Wire 7  11 non-null     float64\n",
      " 8   Wire 8  19 non-null     float64\n",
      " 9   Wire 9  29 non-null     float64\n",
      "dtypes: float64(9), int64(1)\n",
      "memory usage: 240.8 KB\n"
     ]
    }
   ],
   "source": [
    "print('Информация\\n')\n",
    "data_wire.info()"
   ]
  },
  {
   "cell_type": "code",
   "execution_count": 64,
   "id": "68806332",
   "metadata": {},
   "outputs": [
    {
     "name": "stdout",
     "output_type": "stream",
     "text": [
      "Процент наличия данных\n"
     ]
    },
    {
     "data": {
      "text/plain": [
       "key       100.000000\n",
       "Wire 1     99.156118\n",
       "Wire 2     35.021097\n",
       "Wire 3      2.044791\n",
       "Wire 4      0.454398\n",
       "Wire 5      0.032457\n",
       "Wire 6      2.369361\n",
       "Wire 7      0.357027\n",
       "Wire 8      0.616683\n",
       "Wire 9      0.941253\n",
       "dtype: float64"
      ]
     },
     "metadata": {},
     "output_type": "display_data"
    }
   ],
   "source": [
    "print('Процент наличия данных')\n",
    "display(100 - (data_wire.isna().sum() / data_wire.shape[0] * 100.00))"
   ]
  },
  {
   "cell_type": "code",
   "execution_count": 65,
   "id": "675aed46",
   "metadata": {},
   "outputs": [
    {
     "name": "stdout",
     "output_type": "stream",
     "text": [
      "Количество явных дубликатов:0\n"
     ]
    }
   ],
   "source": [
    "print(f'Количество явных дубликатов:{data_wire.duplicated().sum()}')"
   ]
  },
  {
   "cell_type": "code",
   "execution_count": 66,
   "id": "659bde3e",
   "metadata": {},
   "outputs": [
    {
     "name": "stdout",
     "output_type": "stream",
     "text": [
      "Матрица пропущенных значений:\n"
     ]
    },
    {
     "data": {
      "image/png": "[encoded data removed]",
      "text/plain": [
       "<Figure size 576x216 with 2 Axes>"
      ]
     },
     "metadata": {
      "needs_background": "light"
     },
     "output_type": "display_data"
    }
   ],
   "source": [
    "print('Матрица пропущенных значений:')\n",
    "msno.matrix(data_wire.iloc[:,1:], figsize=(8, 3), fontsize=8);"
   ]
  },
  {
   "cell_type": "code",
   "execution_count": 67,
   "id": "489f0f8b",
   "metadata": {},
   "outputs": [
    {
     "data": {
      "image/png": "[encoded data removed]",
      "text/plain": [
       "<Figure size 576x216 with 1 Axes>"
      ]
     },
     "metadata": {
      "needs_background": "light"
     },
     "output_type": "display_data"
    }
   ],
   "source": [
    "msno.dendrogram(data_wire.iloc[:,1:], figsize=(8, 3), fontsize=8);"
   ]
  },
  {
   "cell_type": "code",
   "execution_count": 68,
   "id": "7437e733",
   "metadata": {},
   "outputs": [
    {
     "name": "stdout",
     "output_type": "stream",
     "text": [
      "<class 'pandas.core.frame.DataFrame'>\n",
      "RangeIndex: 3081 entries, 0 to 3080\n",
      "Data columns (total 10 columns):\n",
      " #   Column  Non-Null Count  Dtype  \n",
      "---  ------  --------------  -----  \n",
      " 0   key     3081 non-null   int64  \n",
      " 1   wire_1  3055 non-null   float64\n",
      " 2   wire_2  1079 non-null   float64\n",
      " 3   wire_3  63 non-null     float64\n",
      " 4   wire_4  14 non-null     float64\n",
      " 5   wire_5  1 non-null      float64\n",
      " 6   wire_6  73 non-null     float64\n",
      " 7   wire_7  11 non-null     float64\n",
      " 8   wire_8  19 non-null     float64\n",
      " 9   wire_9  29 non-null     float64\n",
      "dtypes: float64(9), int64(1)\n",
      "memory usage: 240.8 KB\n"
     ]
    }
   ],
   "source": [
    "data_wire.columns = data_wire.columns.str.lower().str.replace(' ', '_')\n",
    "data_wire.info()"
   ]
  },
  {
   "cell_type": "markdown",
   "id": "dee3e25e",
   "metadata": {},
   "source": [
    "Удалим столбцы с количеством пропусков больше 80 %"
   ]
  },
  {
   "cell_type": "code",
   "execution_count": 69,
   "id": "33b01538",
   "metadata": {},
   "outputs": [
    {
     "name": "stdout",
     "output_type": "stream",
     "text": [
      "Количество пропусков в таблице:\n",
      "key       0\n",
      "wire_1    0\n",
      "dtype: int64\n"
     ]
    }
   ],
   "source": [
    "data_wire = data_wire[['key', 'wire_1']]\n",
    "data_wire = data_wire.fillna(0)\n",
    "print(f'Количество пропусков в таблице:\\n{data_wire.isna().sum()}')"
   ]
  },
  {
   "cell_type": "code",
   "execution_count": 70,
   "id": "a5f1f063",
   "metadata": {},
   "outputs": [
    {
     "data": {
      "image/png": "[encoded data removed]",
      "text/plain": [
       "<Figure size 1008x360 with 2 Axes>"
      ]
     },
     "metadata": {
      "needs_background": "light"
     },
     "output_type": "display_data"
    }
   ],
   "source": [
    "f_hist_box(\n",
    "    data=data_wire['wire_1'],\n",
    "    bins=100, \n",
    "    title='Конечная температура расплава',\n",
    "    xlabel='Температура',\n",
    "    ylabel='Количество'\n",
    ")"
   ]
  },
  {
   "cell_type": "markdown",
   "id": "dcb59757",
   "metadata": {},
   "source": [
    "### `data_wire_time_new.csv`"
   ]
  },
  {
   "cell_type": "code",
   "execution_count": 71,
   "id": "f7388c7c",
   "metadata": {},
   "outputs": [
    {
     "name": "stdout",
     "output_type": "stream",
     "text": [
      "Описалельная статистика\n"
     ]
    },
    {
     "data": {
      "text/html": [
       "<div>\n",
       "<style scoped>\n",
       "    .dataframe tbody tr th:only-of-type {\n",
       "        vertical-align: middle;\n",
       "    }\n",
       "\n",
       "    .dataframe tbody tr th {\n",
       "        vertical-align: top;\n",
       "    }\n",
       "\n",
       "    .dataframe thead th {\n",
       "        text-align: right;\n",
       "    }\n",
       "</style>\n",
       "<table border=\"1\" class=\"dataframe\">\n",
       "  <thead>\n",
       "    <tr style=\"text-align: right;\">\n",
       "      <th></th>\n",
       "      <th>Wire 1</th>\n",
       "      <th>Wire 2</th>\n",
       "      <th>Wire 3</th>\n",
       "      <th>Wire 4</th>\n",
       "      <th>Wire 5</th>\n",
       "      <th>Wire 6</th>\n",
       "      <th>Wire 7</th>\n",
       "      <th>Wire 8</th>\n",
       "      <th>Wire 9</th>\n",
       "    </tr>\n",
       "  </thead>\n",
       "  <tbody>\n",
       "    <tr>\n",
       "      <th>count</th>\n",
       "      <td>3055</td>\n",
       "      <td>1079</td>\n",
       "      <td>63</td>\n",
       "      <td>14</td>\n",
       "      <td>1</td>\n",
       "      <td>73</td>\n",
       "      <td>11</td>\n",
       "      <td>19</td>\n",
       "      <td>29</td>\n",
       "    </tr>\n",
       "    <tr>\n",
       "      <th>unique</th>\n",
       "      <td>3055</td>\n",
       "      <td>1079</td>\n",
       "      <td>63</td>\n",
       "      <td>14</td>\n",
       "      <td>1</td>\n",
       "      <td>73</td>\n",
       "      <td>11</td>\n",
       "      <td>19</td>\n",
       "      <td>29</td>\n",
       "    </tr>\n",
       "    <tr>\n",
       "      <th>top</th>\n",
       "      <td>2019-05-18 08:39:26</td>\n",
       "      <td>2019-07-24 12:37:20</td>\n",
       "      <td>2019-06-04 12:35:52</td>\n",
       "      <td>2019-08-12 19:51:09</td>\n",
       "      <td>2019-08-13 06:14:30</td>\n",
       "      <td>2019-05-07 23:01:42</td>\n",
       "      <td>2019-07-27 13:43:32</td>\n",
       "      <td>2019-05-14 15:43:01</td>\n",
       "      <td>2019-08-09 06:04:40</td>\n",
       "    </tr>\n",
       "    <tr>\n",
       "      <th>freq</th>\n",
       "      <td>1</td>\n",
       "      <td>1</td>\n",
       "      <td>1</td>\n",
       "      <td>1</td>\n",
       "      <td>1</td>\n",
       "      <td>1</td>\n",
       "      <td>1</td>\n",
       "      <td>1</td>\n",
       "      <td>1</td>\n",
       "    </tr>\n",
       "  </tbody>\n",
       "</table>\n",
       "</div>"
      ],
      "text/plain": [
       "                     Wire 1               Wire 2               Wire 3  \\\n",
       "count                  3055                 1079                   63   \n",
       "unique                 3055                 1079                   63   \n",
       "top     2019-05-18 08:39:26  2019-07-24 12:37:20  2019-06-04 12:35:52   \n",
       "freq                      1                    1                    1   \n",
       "\n",
       "                     Wire 4               Wire 5               Wire 6  \\\n",
       "count                    14                    1                   73   \n",
       "unique                   14                    1                   73   \n",
       "top     2019-08-12 19:51:09  2019-08-13 06:14:30  2019-05-07 23:01:42   \n",
       "freq                      1                    1                    1   \n",
       "\n",
       "                     Wire 7               Wire 8               Wire 9  \n",
       "count                    11                   19                   29  \n",
       "unique                   11                   19                   29  \n",
       "top     2019-07-27 13:43:32  2019-05-14 15:43:01  2019-08-09 06:04:40  \n",
       "freq                      1                    1                    1  "
      ]
     },
     "execution_count": 71,
     "metadata": {},
     "output_type": "execute_result"
    }
   ],
   "source": [
    "print('Описалельная статистика')\n",
    "data_wire_time.iloc[:,1:].describe(include=['object', 'float', 'int']).round(2)"
   ]
  },
  {
   "cell_type": "code",
   "execution_count": 72,
   "id": "52ad9cef",
   "metadata": {},
   "outputs": [
    {
     "name": "stdout",
     "output_type": "stream",
     "text": [
      "Информация\n",
      "\n",
      "<class 'pandas.core.frame.DataFrame'>\n",
      "RangeIndex: 3081 entries, 0 to 3080\n",
      "Data columns (total 10 columns):\n",
      " #   Column  Non-Null Count  Dtype \n",
      "---  ------  --------------  ----- \n",
      " 0   key     3081 non-null   int64 \n",
      " 1   Wire 1  3055 non-null   object\n",
      " 2   Wire 2  1079 non-null   object\n",
      " 3   Wire 3  63 non-null     object\n",
      " 4   Wire 4  14 non-null     object\n",
      " 5   Wire 5  1 non-null      object\n",
      " 6   Wire 6  73 non-null     object\n",
      " 7   Wire 7  11 non-null     object\n",
      " 8   Wire 8  19 non-null     object\n",
      " 9   Wire 9  29 non-null     object\n",
      "dtypes: int64(1), object(9)\n",
      "memory usage: 240.8+ KB\n"
     ]
    }
   ],
   "source": [
    "print('Информация\\n')\n",
    "data_wire_time.info()"
   ]
  },
  {
   "cell_type": "code",
   "execution_count": 73,
   "id": "04a756d3",
   "metadata": {},
   "outputs": [
    {
     "name": "stdout",
     "output_type": "stream",
     "text": [
      "Процент наличия данных\n"
     ]
    },
    {
     "data": {
      "text/plain": [
       "key       100.000000\n",
       "Wire 1     99.156118\n",
       "Wire 2     35.021097\n",
       "Wire 3      2.044791\n",
       "Wire 4      0.454398\n",
       "Wire 5      0.032457\n",
       "Wire 6      2.369361\n",
       "Wire 7      0.357027\n",
       "Wire 8      0.616683\n",
       "Wire 9      0.941253\n",
       "dtype: float64"
      ]
     },
     "metadata": {},
     "output_type": "display_data"
    }
   ],
   "source": [
    "print('Процент наличия данных')\n",
    "display(100 - (data_wire_time.isna().sum() / data_wire_time.shape[0] * 100.00))"
   ]
  },
  {
   "cell_type": "code",
   "execution_count": 74,
   "id": "cdaf6f08",
   "metadata": {},
   "outputs": [
    {
     "name": "stdout",
     "output_type": "stream",
     "text": [
      "Количество явных дубликатов:0\n"
     ]
    }
   ],
   "source": [
    "print(f'Количество явных дубликатов:{data_wire_time.duplicated().sum()}')"
   ]
  },
  {
   "cell_type": "code",
   "execution_count": 75,
   "id": "6ecfe7f2",
   "metadata": {},
   "outputs": [
    {
     "name": "stdout",
     "output_type": "stream",
     "text": [
      "Матрица пропущенных значений:\n"
     ]
    },
    {
     "data": {
      "image/png": "[encoded data removed]",
      "text/plain": [
       "<Figure size 576x216 with 2 Axes>"
      ]
     },
     "metadata": {
      "needs_background": "light"
     },
     "output_type": "display_data"
    }
   ],
   "source": [
    "print('Матрица пропущенных значений:')\n",
    "msno.matrix(data_wire_time.iloc[:,1:], figsize=(8, 3), fontsize=8);"
   ]
  },
  {
   "cell_type": "markdown",
   "id": "23591f9b",
   "metadata": {},
   "source": [
    "Выявлено, что на конечную температуру расплава момент подачи проволочных материалов не оказывает заметного влияния. Следовательно, эти данные нецелесообразно использовать в качестве признаков при обучении модели.\n",
    "\n",
    "Они будут исключены из обучающего датасета, а их анализ останется на уровне предварительной оценки — для понимания общей картины процесса, без учёта в финальной модели."
   ]
  },
  {
   "cell_type": "markdown",
   "id": "a47e1f5f",
   "metadata": {},
   "source": [
    "### Вывод по исследовательскому анализу и предобработке данных\n",
    "\n",
    "На данном этапе проведён всесторонний разведывательный анализ (EDA) и комплексная предобработка всех доступных источников данных. Цель — подготовить чистые, структурированные и информативные датасеты для последующего объединения и построения модели прогноза конечной температуры расплава. Ниже представлены итоги по каждому файлу.\n",
    "\n",
    "---\n",
    "\n",
    "####  Файл `data_arc_new.csv`\n",
    "\n",
    "**Анализ:**  \n",
    "1. **Дубликаты**: явные дубли отсутствуют — каждая запись соответствует отдельному циклу подачи тока.  \n",
    "2. **Пропуски**: данные полные, без NaN-значений.  \n",
    "3. **Активная мощность (A)**:  \n",
    "   - Диапазон: от 0.22 до 1.46 МВт  \n",
    "   - Среднее: 0.66 МВт, медиана: 0.60 МВт  \n",
    "   - Распределение имеет правостороннюю асимметрию — большинство значений сконцентрировано в левой части, с длинным хвостом в сторону высоких мощностей.  \n",
    "   - Значения выше 1.4 МВт выделены как потенциальные выбросы, но не удалены — они могут соответствовать реальным режимам интенсивного нагрева.  \n",
    "4. **Реактивная мощность (R)**:  \n",
    "   - Обнаружено аномальное значение: -715.48 кВАр — физически невозможное для данной системы.  \n",
    "   - Остальные значения лежат в разумном диапазоне (до 1.27 МВАр), среднее и медиана близки (0.44 МВАр), что говорит о стабильности процесса.  \n",
    "\n",
    "**Предобработка:**  \n",
    "1. Названия столбцов приведены к стилю `snake_case` (например, `Active_Power` → `active_power`) для единообразия и удобства работы.  \n",
    "2. Запись с отрицательной реактивной мощностью удалена — это техническая ошибка, искажающая агрегацию.  \n",
    "3. Добавлены ключевые расчётные признаки:  \n",
    "   - **`full_power`** — полная мощность: $ P = \\sqrt{A^2 + R^2} $ — обобщённая характеристика энергозатрат.  \n",
    "   - **`heating_time`** — продолжительность нагрева в секундах, рассчитанная как разница между `end_time` и `start_time`.  \n",
    "   - **`full_energy`** — накопленная энергия: $ E = P \\cdot T $ — интегральный показатель, важный для прогноза температуры.  \n",
    "4. Данные агрегированы по `key` (номеру плавки):  \n",
    "   - Суммированы энергия, мощность, время  \n",
    "   - Подсчитано **`number_of_heating`** — количество включений печи для каждой партии  \n",
    "   - Это позволило перейти от уровня операций к уровню плавки, что критично для финальной модели.\n",
    "\n",
    "---\n",
    "\n",
    "####  Файл `data_bulk_new.csv` \n",
    "\n",
    "**Анализ:**  \n",
    "1. **Дубликаты**: отсутствуют.  \n",
    "2. **Пропуски**: присутствуют во всех столбцах.  \n",
    "   - Наиболее информативные корреляции:  \n",
    "     - Пропуски в столбце 12 тесно связаны с пропусками в 14 и 15 — вероятно, один и тот же агрегат или смена.  \n",
    "     - Столбцы 2, 5 и 7 также демонстрируют схожую динамику пропусков.  \n",
    "   - Остальные признаки независимы — пропуски носят случайный характер.  \n",
    "\n",
    "**Предобработка:**  \n",
    "1. Столбцы переименованы в соответствии с PEP8.  \n",
    "2. Удалены признаки с долей пропусков >80% — такие данные не несут достаточной информативности и могут ухудшить качество модели.  \n",
    "3. Оставшиеся пропуски заменены на **0** — логичная интерпретация: если материал не зафиксирован, он не подавался.  \n",
    "4. Данные агрегированы по `key` с суммированием объёмов — получены итоговые внесённые количества для каждой плавки.\n",
    "\n",
    "---\n",
    "\n",
    "#### Файл `data_bulk_time_new.csv` \n",
    "\n",
    "**Анализ:**  \n",
    "1. **Дубликаты**: нет.  \n",
    "2. **Пропуски**: структура аналогична `data_bulk_new.csv` — подтверждает системный характер отсутствия данных.  \n",
    "\n",
    "**Предобработка:**  \n",
    "- Временные метки засыпки носят **контрольный характер** и не коррелируют с конечной температурой.  \n",
    "- Анализ показал, что момент подачи не оказывает значимого влияния на тепловой режим.  \n",
    "- В целях упрощения модели и избежания переобучения такие признаки исключены.  \n",
    "- Ограничились ознакомительным анализом — проверено распределение и синхронность с объёмами.\n",
    "\n",
    "---\n",
    "\n",
    "#### Файл `data_gas_new.csv` \n",
    "\n",
    "**Анализ:**  \n",
    "1. **Дубликаты**: отсутствуют.  \n",
    "2. **Пропуски**: нет — данные полные.  \n",
    "3. **Объём газа**:  \n",
    "   - Минимум: 0.01 м³ (возможно, минимальная подача)  \n",
    "   - Максимум: 78 м³  \n",
    "   - Среднее: 11 м³, медиана: 9.84 м³  \n",
    "   - Значения выше 24 м³ выделены как выбросы — редкие, но технологически возможные режимы.  \n",
    "\n",
    "**Предобработка:**  \n",
    "1. Столбцы приведены к единому стилю.  \n",
    "2. Дополнительные преобразования не требуются — данные корректны и готовы к объединению.  \n",
    "3. Признаки сохранены в полном объёме — газ оказывает влияние на гомогенизацию и температурный режим.\n",
    "\n",
    "---\n",
    "\n",
    "#### Файл `data_temp_new.csv` \n",
    "\n",
    "**Анализ:**  \n",
    "1. **Дубликаты**: не обнаружены.  \n",
    "2. **Пропуски**: есть в столбце `temperature`.  \n",
    "3. **Температура расплава**:  \n",
    "   - Диапазон: 1191–1705 °C  \n",
    "   - Среднее: 1590.72 °C, медиана: 1590 °C — типично для сталеплавильных процессов.  \n",
    "   - Значения ниже 1500 °C (температура плавления стали) признаны ошибочными или относящимися к начальному этапу.  \n",
    "\n",
    "**Предобработка:**  \n",
    "1. Столбцы переименованы.  \n",
    "2. Удалены:  \n",
    "   - Плавки с температурой <1500 °C  \n",
    "   - Плавки с единственным замером (недостаточно данных для анализа динамики)  \n",
    "   - Строки с пропущенными значениями  \n",
    "3. Для каждой плавки определены:  \n",
    "   - **Начальная температура** — первый замер  \n",
    "   - **Конечная температура** — последний замер — целевой признак для модели  \n",
    "\n",
    "---\n",
    "\n",
    "#### Файл `data_wire_new.csv` \n",
    "\n",
    "**Анализ:**  \n",
    "1. **Дубликаты**: отсутствуют.  \n",
    "2. **Пропуски**: присутствуют во всех столбцах — аналогично сыпучим материалам.  \n",
    "\n",
    "**Предобработка:**  \n",
    "1. Удалены признаки с >80% пропусков.  \n",
    "2. Оставшиеся NaN заменены на **0** — отсутствие подачи.  \n",
    "3. Данные агрегированы по `key` — получены суммарные объёмы для каждой плавки.\n",
    "\n",
    "---\n",
    "\n",
    "#### Файл `data_wire_time_new.csv`\n",
    "\n",
    "**Анализ:**  \n",
    "1. **Дубликаты**: нет.  \n",
    "2. **Пропуски**: структура аналогична данным по объёмам.  \n",
    "\n",
    "**Предобработка:**  \n",
    "- Как и в случае с сыпучими материалами, временные метки не влияют на конечную температуру.  \n",
    "- Признаки исключены из модели — сохранён только ознакомительный анализ.  \n",
    "\n",
    "---\n",
    "\n",
    "### Общий итог предобработки\n",
    "\n",
    "- Все датасеты очищены от дубликатов, аномалий и малозначимых признаков.  \n",
    "- Пропуски обработаны в соответствии с предметной областью: удаление или замена на 0.  \n",
    "- Добавлены **физически обоснованные признаки**: полная мощность, энергия, время нагрева, количество циклов.  \n",
    "- Данные агрегированы на уровне **номера плавки (`key`)** — это обеспечивает корректное объединение и построение модели.  \n",
    "- Подготовлены чистые, структурированные таблицы для следующего этапа: **объединения и обучения модели прогноза температуры**.\n",
    "\n"
   ]
  },
  {
   "cell_type": "markdown",
   "id": "10aee3a0",
   "metadata": {},
   "source": [
    "## Объединение данных"
   ]
  },
  {
   "cell_type": "markdown",
   "id": "d5b9b2e2",
   "metadata": {},
   "source": [
    "Для обеспечения целостности и достоверности данных выполним объединение таблиц по ключу `key` с использованием внутреннего соединения (**INNER JOIN**). Это означает, что в итоговый датасет попадут только те плавки, которые присутствуют во всех подключаемых источниках.\n",
    "\n",
    "Такой подход исключает частичные или неполные записи, где не хватает информации хотя бы по одному из аспектов процесса (например, нет данных о нагреве или температуре). В результате мы получаем сбалансированный и полностью заполненный набор данных, пригодный для построения надёжной модели прогнозирования."
   ]
  },
  {
   "cell_type": "code",
   "execution_count": 76,
   "id": "c22c0057",
   "metadata": {},
   "outputs": [
    {
     "name": "stdout",
     "output_type": "stream",
     "text": [
      "<class 'pandas.core.frame.DataFrame'>\n",
      "Int64Index: 2328 entries, 0 to 2327\n",
      "Data columns (total 13 columns):\n",
      " #   Column             Non-Null Count  Dtype  \n",
      "---  ------             --------------  -----  \n",
      " 0   key                2328 non-null   int64  \n",
      " 1   active_power       2328 non-null   float64\n",
      " 2   reactive_power     2328 non-null   float64\n",
      " 3   full_power         2328 non-null   float64\n",
      " 4   heating_time       2328 non-null   int64  \n",
      " 5   full_energy        2328 non-null   float64\n",
      " 6   number_of_heating  2328 non-null   int64  \n",
      " 7   bulk_12            2328 non-null   float64\n",
      " 8   bulk_14            2328 non-null   float64\n",
      " 9   gas_1              2328 non-null   float64\n",
      " 10  first_temperture   2328 non-null   float64\n",
      " 11  last_temperature   2328 non-null   float64\n",
      " 12  wire_1             2328 non-null   float64\n",
      "dtypes: float64(10), int64(3)\n",
      "memory usage: 254.6 KB\n"
     ]
    }
   ],
   "source": [
    "data = data_arc.merge(data_bulk, on='key', how='inner').merge(data_gas, on='key', how='inner'). \\\n",
    "merge(data_temp, on='key', how='inner').merge(data_wire, on='key', how='inner')\n",
    "data.info()"
   ]
  },
  {
   "cell_type": "code",
   "execution_count": 179,
   "id": "d60cd0e4",
   "metadata": {},
   "outputs": [
    {
     "data": {
      "text/html": [
       "<div>\n",
       "<style scoped>\n",
       "    .dataframe tbody tr th:only-of-type {\n",
       "        vertical-align: middle;\n",
       "    }\n",
       "\n",
       "    .dataframe tbody tr th {\n",
       "        vertical-align: top;\n",
       "    }\n",
       "\n",
       "    .dataframe thead th {\n",
       "        text-align: right;\n",
       "    }\n",
       "</style>\n",
       "<table border=\"1\" class=\"dataframe\">\n",
       "  <thead>\n",
       "    <tr style=\"text-align: right;\">\n",
       "      <th></th>\n",
       "      <th>key</th>\n",
       "      <th>active_power</th>\n",
       "      <th>reactive_power</th>\n",
       "      <th>full_power</th>\n",
       "      <th>heating_time</th>\n",
       "      <th>full_energy</th>\n",
       "      <th>number_of_heating</th>\n",
       "      <th>bulk_12</th>\n",
       "      <th>bulk_14</th>\n",
       "      <th>gas_1</th>\n",
       "      <th>first_temperture</th>\n",
       "      <th>last_temperature</th>\n",
       "      <th>wire_1</th>\n",
       "    </tr>\n",
       "  </thead>\n",
       "  <tbody>\n",
       "    <tr>\n",
       "      <th>2318</th>\n",
       "      <td>2489</td>\n",
       "      <td>0.930546</td>\n",
       "      <td>0.646865</td>\n",
       "      <td>1.133381</td>\n",
       "      <td>308</td>\n",
       "      <td>176.258582</td>\n",
       "      <td>2</td>\n",
       "      <td>103.0</td>\n",
       "      <td>149.0</td>\n",
       "      <td>10.772628</td>\n",
       "      <td>1613.0</td>\n",
       "      <td>1579.0</td>\n",
       "      <td>67.136162</td>\n",
       "    </tr>\n",
       "    <tr>\n",
       "      <th>2319</th>\n",
       "      <td>2490</td>\n",
       "      <td>2.668707</td>\n",
       "      <td>1.961130</td>\n",
       "      <td>3.315065</td>\n",
       "      <td>992</td>\n",
       "      <td>616.564428</td>\n",
       "      <td>5</td>\n",
       "      <td>313.0</td>\n",
       "      <td>197.0</td>\n",
       "      <td>20.019526</td>\n",
       "      <td>1602.0</td>\n",
       "      <td>1619.0</td>\n",
       "      <td>126.060486</td>\n",
       "    </tr>\n",
       "    <tr>\n",
       "      <th>2320</th>\n",
       "      <td>2492</td>\n",
       "      <td>2.325828</td>\n",
       "      <td>1.844434</td>\n",
       "      <td>2.969620</td>\n",
       "      <td>682</td>\n",
       "      <td>661.994247</td>\n",
       "      <td>3</td>\n",
       "      <td>266.0</td>\n",
       "      <td>198.0</td>\n",
       "      <td>11.375063</td>\n",
       "      <td>1618.0</td>\n",
       "      <td>1595.0</td>\n",
       "      <td>170.046235</td>\n",
       "    </tr>\n",
       "    <tr>\n",
       "      <th>2321</th>\n",
       "      <td>2493</td>\n",
       "      <td>2.199920</td>\n",
       "      <td>1.744917</td>\n",
       "      <td>2.807993</td>\n",
       "      <td>405</td>\n",
       "      <td>433.996124</td>\n",
       "      <td>3</td>\n",
       "      <td>236.0</td>\n",
       "      <td>118.0</td>\n",
       "      <td>9.421691</td>\n",
       "      <td>1599.0</td>\n",
       "      <td>1594.0</td>\n",
       "      <td>122.172958</td>\n",
       "    </tr>\n",
       "    <tr>\n",
       "      <th>2322</th>\n",
       "      <td>2494</td>\n",
       "      <td>1.504776</td>\n",
       "      <td>1.102095</td>\n",
       "      <td>1.865880</td>\n",
       "      <td>550</td>\n",
       "      <td>324.714465</td>\n",
       "      <td>3</td>\n",
       "      <td>155.0</td>\n",
       "      <td>119.0</td>\n",
       "      <td>3.983053</td>\n",
       "      <td>1585.0</td>\n",
       "      <td>1591.0</td>\n",
       "      <td>75.042236</td>\n",
       "    </tr>\n",
       "    <tr>\n",
       "      <th>2323</th>\n",
       "      <td>2495</td>\n",
       "      <td>3.168133</td>\n",
       "      <td>2.210936</td>\n",
       "      <td>3.868721</td>\n",
       "      <td>723</td>\n",
       "      <td>694.177326</td>\n",
       "      <td>4</td>\n",
       "      <td>256.0</td>\n",
       "      <td>129.0</td>\n",
       "      <td>7.125735</td>\n",
       "      <td>1570.0</td>\n",
       "      <td>1591.0</td>\n",
       "      <td>89.150879</td>\n",
       "    </tr>\n",
       "    <tr>\n",
       "      <th>2324</th>\n",
       "      <td>2496</td>\n",
       "      <td>4.174918</td>\n",
       "      <td>2.872031</td>\n",
       "      <td>5.070316</td>\n",
       "      <td>940</td>\n",
       "      <td>815.818538</td>\n",
       "      <td>6</td>\n",
       "      <td>256.0</td>\n",
       "      <td>129.0</td>\n",
       "      <td>9.412616</td>\n",
       "      <td>1554.0</td>\n",
       "      <td>1591.0</td>\n",
       "      <td>114.179527</td>\n",
       "    </tr>\n",
       "    <tr>\n",
       "      <th>2325</th>\n",
       "      <td>2497</td>\n",
       "      <td>3.605239</td>\n",
       "      <td>2.452092</td>\n",
       "      <td>4.360918</td>\n",
       "      <td>569</td>\n",
       "      <td>823.020520</td>\n",
       "      <td>3</td>\n",
       "      <td>230.0</td>\n",
       "      <td>124.0</td>\n",
       "      <td>6.271699</td>\n",
       "      <td>1571.0</td>\n",
       "      <td>1589.0</td>\n",
       "      <td>94.086723</td>\n",
       "    </tr>\n",
       "    <tr>\n",
       "      <th>2326</th>\n",
       "      <td>2498</td>\n",
       "      <td>3.202310</td>\n",
       "      <td>2.239820</td>\n",
       "      <td>3.909917</td>\n",
       "      <td>750</td>\n",
       "      <td>581.810739</td>\n",
       "      <td>5</td>\n",
       "      <td>206.0</td>\n",
       "      <td>129.0</td>\n",
       "      <td>14.953657</td>\n",
       "      <td>1591.0</td>\n",
       "      <td>1594.0</td>\n",
       "      <td>118.110717</td>\n",
       "    </tr>\n",
       "    <tr>\n",
       "      <th>2327</th>\n",
       "      <td>2499</td>\n",
       "      <td>1.737084</td>\n",
       "      <td>1.296836</td>\n",
       "      <td>2.169252</td>\n",
       "      <td>883</td>\n",
       "      <td>532.386183</td>\n",
       "      <td>4</td>\n",
       "      <td>233.0</td>\n",
       "      <td>126.0</td>\n",
       "      <td>11.336151</td>\n",
       "      <td>1569.0</td>\n",
       "      <td>1603.0</td>\n",
       "      <td>110.160958</td>\n",
       "    </tr>\n",
       "  </tbody>\n",
       "</table>\n",
       "</div>"
      ],
      "text/plain": [
       "       key  active_power  reactive_power  full_power  heating_time  \\\n",
       "2318  2489      0.930546        0.646865    1.133381           308   \n",
       "2319  2490      2.668707        1.961130    3.315065           992   \n",
       "2320  2492      2.325828        1.844434    2.969620           682   \n",
       "2321  2493      2.199920        1.744917    2.807993           405   \n",
       "2322  2494      1.504776        1.102095    1.865880           550   \n",
       "2323  2495      3.168133        2.210936    3.868721           723   \n",
       "2324  2496      4.174918        2.872031    5.070316           940   \n",
       "2325  2497      3.605239        2.452092    4.360918           569   \n",
       "2326  2498      3.202310        2.239820    3.909917           750   \n",
       "2327  2499      1.737084        1.296836    2.169252           883   \n",
       "\n",
       "      full_energy  number_of_heating  bulk_12  bulk_14      gas_1  \\\n",
       "2318   176.258582                  2    103.0    149.0  10.772628   \n",
       "2319   616.564428                  5    313.0    197.0  20.019526   \n",
       "2320   661.994247                  3    266.0    198.0  11.375063   \n",
       "2321   433.996124                  3    236.0    118.0   9.421691   \n",
       "2322   324.714465                  3    155.0    119.0   3.983053   \n",
       "2323   694.177326                  4    256.0    129.0   7.125735   \n",
       "2324   815.818538                  6    256.0    129.0   9.412616   \n",
       "2325   823.020520                  3    230.0    124.0   6.271699   \n",
       "2326   581.810739                  5    206.0    129.0  14.953657   \n",
       "2327   532.386183                  4    233.0    126.0  11.336151   \n",
       "\n",
       "      first_temperture  last_temperature      wire_1  \n",
       "2318            1613.0            1579.0   67.136162  \n",
       "2319            1602.0            1619.0  126.060486  \n",
       "2320            1618.0            1595.0  170.046235  \n",
       "2321            1599.0            1594.0  122.172958  \n",
       "2322            1585.0            1591.0   75.042236  \n",
       "2323            1570.0            1591.0   89.150879  \n",
       "2324            1554.0            1591.0  114.179527  \n",
       "2325            1571.0            1589.0   94.086723  \n",
       "2326            1591.0            1594.0  118.110717  \n",
       "2327            1569.0            1603.0  110.160958  "
      ]
     },
     "execution_count": 179,
     "metadata": {},
     "output_type": "execute_result"
    }
   ],
   "source": [
    "data.tail(10)"
   ]
  },
  {
   "cell_type": "markdown",
   "id": "142450ec",
   "metadata": {},
   "source": [
    "### Вывод по объединению таблиц\n",
    "\n",
    "1. **Объединение выполнено успешно**  \n",
    "   Все датасеты корректно соединены по ключу `key` с использованием метода `INNER JOIN`. В результате получена единая таблица, содержащая только те плавки, которые присутствуют во всех исходных источниках. Это гарантирует полноту данных и исключает частичные или фрагментарные записи.\n",
    "\n",
    "2. **Типы данных приведены в соответствие**  \n",
    "   После слияния проверены и, при необходимости, скорректированы типы данных. Все столбцы имеют корректный формат: числовые признаки — в виде `float` или `int`, ключ — в целочисленном виде. Это обеспечивает стабильную работу на этапе анализа и моделирования.\n",
    "\n",
    "3. **Диапазон партий подтверждён**  \n",
    "   Максимальный номер плавки в объединённой таблице — **2499**, что соответствует ожидаемому диапазону и подтверждает корректность мержа. Минимальное значение — 1, данные охватывают полный исследуемый период.\n",
    "\n",
    "4. **Пропущенные значения отсутствуют**  \n",
    "   Итоговый датасет не содержит `NaN` — все пропуски были обработаны на этапе предобработки, а `INNER JOIN` дополнительно исключил потенциально неполные записи. Это позволяет переходить к анализу и моделированию без дополнительной очистки.\n",
    "\n",
    "**Итог**: объединённая таблица готова к дальнейшему использованию — она чистая, структурированная и содержит только достоверные, полностью заполненные плавки.\n"
   ]
  },
  {
   "cell_type": "markdown",
   "id": "6be03e59",
   "metadata": {},
   "source": [
    "## Исследовательский анализ и предобработка данных объединённого датафрейма"
   ]
  },
  {
   "cell_type": "markdown",
   "id": "6b95d910",
   "metadata": {},
   "source": [
    "Переведем столбец `key` в индекс"
   ]
  },
  {
   "cell_type": "code",
   "execution_count": 77,
   "id": "3b6abb55",
   "metadata": {},
   "outputs": [
    {
     "data": {
      "text/html": [
       "<div>\n",
       "<style scoped>\n",
       "    .dataframe tbody tr th:only-of-type {\n",
       "        vertical-align: middle;\n",
       "    }\n",
       "\n",
       "    .dataframe tbody tr th {\n",
       "        vertical-align: top;\n",
       "    }\n",
       "\n",
       "    .dataframe thead th {\n",
       "        text-align: right;\n",
       "    }\n",
       "</style>\n",
       "<table border=\"1\" class=\"dataframe\">\n",
       "  <thead>\n",
       "    <tr style=\"text-align: right;\">\n",
       "      <th></th>\n",
       "      <th>active_power</th>\n",
       "      <th>reactive_power</th>\n",
       "      <th>full_power</th>\n",
       "      <th>heating_time</th>\n",
       "      <th>full_energy</th>\n",
       "      <th>number_of_heating</th>\n",
       "      <th>bulk_12</th>\n",
       "      <th>bulk_14</th>\n",
       "      <th>gas_1</th>\n",
       "      <th>first_temperture</th>\n",
       "      <th>last_temperature</th>\n",
       "      <th>wire_1</th>\n",
       "    </tr>\n",
       "    <tr>\n",
       "      <th>key</th>\n",
       "      <th></th>\n",
       "      <th></th>\n",
       "      <th></th>\n",
       "      <th></th>\n",
       "      <th></th>\n",
       "      <th></th>\n",
       "      <th></th>\n",
       "      <th></th>\n",
       "      <th></th>\n",
       "      <th></th>\n",
       "      <th></th>\n",
       "      <th></th>\n",
       "    </tr>\n",
       "  </thead>\n",
       "  <tbody>\n",
       "    <tr>\n",
       "      <th>1</th>\n",
       "      <td>3.036730</td>\n",
       "      <td>2.142821</td>\n",
       "      <td>3.718736</td>\n",
       "      <td>1098</td>\n",
       "      <td>770.282114</td>\n",
       "      <td>5</td>\n",
       "      <td>206.0</td>\n",
       "      <td>150.0</td>\n",
       "      <td>29.749986</td>\n",
       "      <td>1571.0</td>\n",
       "      <td>1613.0</td>\n",
       "      <td>60.059998</td>\n",
       "    </tr>\n",
       "    <tr>\n",
       "      <th>2</th>\n",
       "      <td>2.139408</td>\n",
       "      <td>1.453357</td>\n",
       "      <td>2.588349</td>\n",
       "      <td>811</td>\n",
       "      <td>481.760005</td>\n",
       "      <td>4</td>\n",
       "      <td>206.0</td>\n",
       "      <td>149.0</td>\n",
       "      <td>12.555561</td>\n",
       "      <td>1581.0</td>\n",
       "      <td>1602.0</td>\n",
       "      <td>96.052315</td>\n",
       "    </tr>\n",
       "    <tr>\n",
       "      <th>3</th>\n",
       "      <td>4.063641</td>\n",
       "      <td>2.937457</td>\n",
       "      <td>5.019223</td>\n",
       "      <td>655</td>\n",
       "      <td>722.837668</td>\n",
       "      <td>5</td>\n",
       "      <td>205.0</td>\n",
       "      <td>152.0</td>\n",
       "      <td>28.554793</td>\n",
       "      <td>1596.0</td>\n",
       "      <td>1599.0</td>\n",
       "      <td>91.160157</td>\n",
       "    </tr>\n",
       "    <tr>\n",
       "      <th>4</th>\n",
       "      <td>2.706489</td>\n",
       "      <td>2.056992</td>\n",
       "      <td>3.400038</td>\n",
       "      <td>741</td>\n",
       "      <td>683.455597</td>\n",
       "      <td>4</td>\n",
       "      <td>207.0</td>\n",
       "      <td>153.0</td>\n",
       "      <td>18.841219</td>\n",
       "      <td>1601.0</td>\n",
       "      <td>1625.0</td>\n",
       "      <td>89.063515</td>\n",
       "    </tr>\n",
       "    <tr>\n",
       "      <th>5</th>\n",
       "      <td>2.252950</td>\n",
       "      <td>1.687991</td>\n",
       "      <td>2.816980</td>\n",
       "      <td>869</td>\n",
       "      <td>512.169934</td>\n",
       "      <td>4</td>\n",
       "      <td>203.0</td>\n",
       "      <td>151.0</td>\n",
       "      <td>5.413692</td>\n",
       "      <td>1576.0</td>\n",
       "      <td>1602.0</td>\n",
       "      <td>89.238236</td>\n",
       "    </tr>\n",
       "  </tbody>\n",
       "</table>\n",
       "</div>"
      ],
      "text/plain": [
       "     active_power  reactive_power  full_power  heating_time  full_energy  \\\n",
       "key                                                                        \n",
       "1        3.036730        2.142821    3.718736          1098   770.282114   \n",
       "2        2.139408        1.453357    2.588349           811   481.760005   \n",
       "3        4.063641        2.937457    5.019223           655   722.837668   \n",
       "4        2.706489        2.056992    3.400038           741   683.455597   \n",
       "5        2.252950        1.687991    2.816980           869   512.169934   \n",
       "\n",
       "     number_of_heating  bulk_12  bulk_14      gas_1  first_temperture  \\\n",
       "key                                                                     \n",
       "1                    5    206.0    150.0  29.749986            1571.0   \n",
       "2                    4    206.0    149.0  12.555561            1581.0   \n",
       "3                    5    205.0    152.0  28.554793            1596.0   \n",
       "4                    4    207.0    153.0  18.841219            1601.0   \n",
       "5                    4    203.0    151.0   5.413692            1576.0   \n",
       "\n",
       "     last_temperature     wire_1  \n",
       "key                               \n",
       "1              1613.0  60.059998  \n",
       "2              1602.0  96.052315  \n",
       "3              1599.0  91.160157  \n",
       "4              1625.0  89.063515  \n",
       "5              1602.0  89.238236  "
      ]
     },
     "execution_count": 77,
     "metadata": {},
     "output_type": "execute_result"
    }
   ],
   "source": [
    "data.set_index('key', inplace = True)\n",
    "data.head()"
   ]
  },
  {
   "cell_type": "markdown",
   "id": "bbefc8a1",
   "metadata": {},
   "source": [
    "Построим **гистограммы** итогового датасета"
   ]
  },
  {
   "cell_type": "code",
   "execution_count": 181,
   "id": "b48e5bda",
   "metadata": {},
   "outputs": [
    {
     "data": {
      "image/png": "[encoded data removed]",
      "text/plain": [
       "<Figure size 720x720 with 12 Axes>"
      ]
     },
     "metadata": {
      "needs_background": "light"
     },
     "output_type": "display_data"
    }
   ],
   "source": [
    "data.hist(figsize=(10, 10), bins=50, layout=None, grid=True, \n",
    "          xlabelsize=8, ylabelsize=8, \n",
    "          edgecolor='black', linewidth=0.8)\n",
    "\n",
    "plt.suptitle('Гистограммы распределения признаков итогового датасета', \n",
    "             fontsize=14, y=0.98) \n",
    "\n",
    "plt.tight_layout(rect=[0, 0, 1, 0.96]) \n",
    "plt.show()\n"
   ]
  },
  {
   "cell_type": "markdown",
   "id": "41010478",
   "metadata": {},
   "source": [
    "### Корреляция данных"
   ]
  },
  {
   "cell_type": "code",
   "execution_count": 182,
   "id": "158c45cb",
   "metadata": {},
   "outputs": [
    {
     "data": {
      "image/png": "[encoded data removed]",
      "text/plain": [
       "<Figure size 504x504 with 2 Axes>"
      ]
     },
     "metadata": {
      "needs_background": "light"
     },
     "output_type": "display_data"
    }
   ],
   "source": [
    "plt.figure(figsize=(7, 7))\n",
    "plt.title('Корреляция признаков', fontsize=14)\n",
    "sns.heatmap(data.corr(method='spearman'), annot = True, cmap='coolwarm', fmt ='.2f')\n",
    "plt.show();"
   ]
  },
  {
   "cell_type": "markdown",
   "id": "f2248271",
   "metadata": {},
   "source": [
    "### Анализ мультиколлинеарности и корреляции с целевым признаком\n",
    "\n",
    "При анализе матрицы корреляции выявлены признаки с признаками с высокой линейной зависимостью — **некоторые коэффициенты превышают 0.9**, что указывает на наличие **мультиколлинеарности**. Такие признаки могут негативно влиять на устойчивость модели, особенно при использовании линейных методов. Следовательно, их необходимо исключить или объединить для повышения интерпретируемости и качества прогноза.\n",
    "\n",
    "---\n",
    "\n",
    "### Наиболее значимые признаки, коррелирующие с целевой переменной `last_temperature`\n",
    "\n",
    "Согласно тепловой карте корреляции, сильнее всего на конечную температуру влияют:\n",
    "\n",
    "- **`first_temperature`** — начальная температура плавки: логично, что высокая стартовая температура способствует достижению более высокой конечной.  \n",
    "- **`wire_1`** — объём подачи первой проволоки: может указывать на легирование или корректировку состава, влияющую на тепловой баланс.  \n",
    "- **`heating_time`** — суммарное время нагрева: прямое влияние продолжительности энергоподвода на прогрев металла.  \n",
    "- **`bulk_12`** — определённая сыпучая добавка: возможно, обладает экзотермическими свойствами или влияет на теплопроводность шлака.  \n",
    "- **`full_energy`** — полная подведённая энергия: интегральный показатель, напрямую связанный с нагревом.  \n",
    "- **`full_power`** и **`active_power`** — полная и активная мощность: отражают интенсивность энергетического воздействия.  \n",
    "- **`number_of_heating`** — количество циклов нагрева: косвенный признак суммарной нагрузки на плавку.\n",
    "\n",
    "---\n",
    "\n",
    "### Рекомендации по отбору признаков\n",
    "\n",
    "- Признаки `full_power`, `active_power` и `full_energy` сильно коррелируют между собой — рекомендуется оставить **`full_energy`**, как наиболее физически обоснованный (учитывает и мощность, и время).  \n",
    "- `first_temperature` оставить — он важен, но не создаёт сильной мультиколлинеарности с другими.  \n",
    "- `heating_time` и `number_of_heating` также коррелируют, но несёт разную смысловую нагрузку: один — длительность, другой — количество включений. Можно оставить оба, если проверка VIF подтвердит устойчивость.  \n",
    "- `wire_1` и `bulk_12` — технологически значимы, при умеренной корреляции с другими признаками — включаем в модель.\n",
    "\n",
    "Дальнейший отбор можно уточнить с помощью анализа **VIF (Variance Inflation Factor)** или на этапе отбора признаков в модели.\n"
   ]
  },
  {
   "cell_type": "markdown",
   "id": "f7c6cd53",
   "metadata": {},
   "source": [
    "Удалим лишние столбцы, для которых коэффициент корреляции больше 0,9."
   ]
  },
  {
   "cell_type": "code",
   "execution_count": 78,
   "id": "5bd23bef",
   "metadata": {},
   "outputs": [],
   "source": [
    "data = data.drop(['active_power', 'reactive_power'], axis=1)"
   ]
  },
  {
   "cell_type": "code",
   "execution_count": 184,
   "id": "91724eb3",
   "metadata": {},
   "outputs": [
    {
     "data": {
      "image/png": "[encoded data removed]",
      "text/plain": [
       "<Figure size 720x720 with 2 Axes>"
      ]
     },
     "metadata": {
      "needs_background": "light"
     },
     "output_type": "display_data"
    }
   ],
   "source": [
    "plt.figure(figsize=(10, 10))\n",
    "sns.heatmap(\n",
    "    data.corr(method='spearman'), \n",
    "    annot=True,\n",
    "    cmap='coolwarm',\n",
    "    fmt='.2f',\n",
    "    square=True,\n",
    "    cbar_kws={\"shrink\": 0.8},\n",
    "    linewidths=0.5\n",
    ")\n",
    "plt.title('Корреляция признаков (метод Спирмена)', fontsize=16, pad=20)\n",
    "plt.tight_layout()\n",
    "plt.show()\n"
   ]
  },
  {
   "cell_type": "markdown",
   "id": "764ca888",
   "metadata": {},
   "source": [
    "### Вывод по анализу и предобработке данных\n",
    "\n",
    "- **Ключевой признак `key`** (номер плавки) переведён в индекс датафрейма — это упрощает идентификацию записей и освобождает от дублирования в признаковом пространстве.  \n",
    "- Анализ **гистограмм распределений** показал, что большинство числовых признаков имеют близкое к нормальному распределение, хотя наблюдаются отклонения в виде асимметрии и длинных хвостов.  \n",
    "- Выявлены **выбросы** в нескольких переменных (например, в мощности, времени нагрева и подаче газа). Они частично сохранены, если соответствуют реальным, хотя и редким, технологическим режимам.  \n",
    "- На этапе отбора признаков удалены столбцы, демонстрирующие **сильную мультиколлинеарность**, в частности `active_power` и `reactive_power`, чтобы повысить устойчивость модели и избежать переобучения.  \n",
    "\n",
    "---\n",
    "\n",
    "**Далее: подготовка данных к обучению модели**\n",
    "На следующем этапе проведём масштабирование признаков, разделим выборку на обучающую и тестовую части, а также проверим баланс данных. После этого перейдём к построению и оценке моделей прогноза конечной температуры.\n"
   ]
  },
  {
   "cell_type": "markdown",
   "id": "a5dc8578",
   "metadata": {},
   "source": [
    "## Подготовка данных"
   ]
  },
  {
   "cell_type": "code",
   "execution_count": 79,
   "id": "5547d328",
   "metadata": {},
   "outputs": [
    {
     "data": {
      "text/html": [
       "<div>\n",
       "<style scoped>\n",
       "    .dataframe tbody tr th:only-of-type {\n",
       "        vertical-align: middle;\n",
       "    }\n",
       "\n",
       "    .dataframe tbody tr th {\n",
       "        vertical-align: top;\n",
       "    }\n",
       "\n",
       "    .dataframe thead th {\n",
       "        text-align: right;\n",
       "    }\n",
       "</style>\n",
       "<table border=\"1\" class=\"dataframe\">\n",
       "  <thead>\n",
       "    <tr style=\"text-align: right;\">\n",
       "      <th></th>\n",
       "      <th>full_power</th>\n",
       "      <th>heating_time</th>\n",
       "      <th>full_energy</th>\n",
       "      <th>number_of_heating</th>\n",
       "      <th>bulk_12</th>\n",
       "      <th>bulk_14</th>\n",
       "      <th>gas_1</th>\n",
       "      <th>first_temperture</th>\n",
       "      <th>last_temperature</th>\n",
       "      <th>wire_1</th>\n",
       "    </tr>\n",
       "    <tr>\n",
       "      <th>key</th>\n",
       "      <th></th>\n",
       "      <th></th>\n",
       "      <th></th>\n",
       "      <th></th>\n",
       "      <th></th>\n",
       "      <th></th>\n",
       "      <th></th>\n",
       "      <th></th>\n",
       "      <th></th>\n",
       "      <th></th>\n",
       "    </tr>\n",
       "  </thead>\n",
       "  <tbody>\n",
       "    <tr>\n",
       "      <th>1</th>\n",
       "      <td>3.718736</td>\n",
       "      <td>1098</td>\n",
       "      <td>770.282114</td>\n",
       "      <td>5</td>\n",
       "      <td>206.0</td>\n",
       "      <td>150.0</td>\n",
       "      <td>29.749986</td>\n",
       "      <td>1571.0</td>\n",
       "      <td>1613.0</td>\n",
       "      <td>60.059998</td>\n",
       "    </tr>\n",
       "    <tr>\n",
       "      <th>2</th>\n",
       "      <td>2.588349</td>\n",
       "      <td>811</td>\n",
       "      <td>481.760005</td>\n",
       "      <td>4</td>\n",
       "      <td>206.0</td>\n",
       "      <td>149.0</td>\n",
       "      <td>12.555561</td>\n",
       "      <td>1581.0</td>\n",
       "      <td>1602.0</td>\n",
       "      <td>96.052315</td>\n",
       "    </tr>\n",
       "    <tr>\n",
       "      <th>3</th>\n",
       "      <td>5.019223</td>\n",
       "      <td>655</td>\n",
       "      <td>722.837668</td>\n",
       "      <td>5</td>\n",
       "      <td>205.0</td>\n",
       "      <td>152.0</td>\n",
       "      <td>28.554793</td>\n",
       "      <td>1596.0</td>\n",
       "      <td>1599.0</td>\n",
       "      <td>91.160157</td>\n",
       "    </tr>\n",
       "    <tr>\n",
       "      <th>4</th>\n",
       "      <td>3.400038</td>\n",
       "      <td>741</td>\n",
       "      <td>683.455597</td>\n",
       "      <td>4</td>\n",
       "      <td>207.0</td>\n",
       "      <td>153.0</td>\n",
       "      <td>18.841219</td>\n",
       "      <td>1601.0</td>\n",
       "      <td>1625.0</td>\n",
       "      <td>89.063515</td>\n",
       "    </tr>\n",
       "    <tr>\n",
       "      <th>5</th>\n",
       "      <td>2.816980</td>\n",
       "      <td>869</td>\n",
       "      <td>512.169934</td>\n",
       "      <td>4</td>\n",
       "      <td>203.0</td>\n",
       "      <td>151.0</td>\n",
       "      <td>5.413692</td>\n",
       "      <td>1576.0</td>\n",
       "      <td>1602.0</td>\n",
       "      <td>89.238236</td>\n",
       "    </tr>\n",
       "    <tr>\n",
       "      <th>...</th>\n",
       "      <td>...</td>\n",
       "      <td>...</td>\n",
       "      <td>...</td>\n",
       "      <td>...</td>\n",
       "      <td>...</td>\n",
       "      <td>...</td>\n",
       "      <td>...</td>\n",
       "      <td>...</td>\n",
       "      <td>...</td>\n",
       "      <td>...</td>\n",
       "    </tr>\n",
       "    <tr>\n",
       "      <th>2495</th>\n",
       "      <td>3.868721</td>\n",
       "      <td>723</td>\n",
       "      <td>694.177326</td>\n",
       "      <td>4</td>\n",
       "      <td>256.0</td>\n",
       "      <td>129.0</td>\n",
       "      <td>7.125735</td>\n",
       "      <td>1570.0</td>\n",
       "      <td>1591.0</td>\n",
       "      <td>89.150879</td>\n",
       "    </tr>\n",
       "    <tr>\n",
       "      <th>2496</th>\n",
       "      <td>5.070316</td>\n",
       "      <td>940</td>\n",
       "      <td>815.818538</td>\n",
       "      <td>6</td>\n",
       "      <td>256.0</td>\n",
       "      <td>129.0</td>\n",
       "      <td>9.412616</td>\n",
       "      <td>1554.0</td>\n",
       "      <td>1591.0</td>\n",
       "      <td>114.179527</td>\n",
       "    </tr>\n",
       "    <tr>\n",
       "      <th>2497</th>\n",
       "      <td>4.360918</td>\n",
       "      <td>569</td>\n",
       "      <td>823.020520</td>\n",
       "      <td>3</td>\n",
       "      <td>230.0</td>\n",
       "      <td>124.0</td>\n",
       "      <td>6.271699</td>\n",
       "      <td>1571.0</td>\n",
       "      <td>1589.0</td>\n",
       "      <td>94.086723</td>\n",
       "    </tr>\n",
       "    <tr>\n",
       "      <th>2498</th>\n",
       "      <td>3.909917</td>\n",
       "      <td>750</td>\n",
       "      <td>581.810739</td>\n",
       "      <td>5</td>\n",
       "      <td>206.0</td>\n",
       "      <td>129.0</td>\n",
       "      <td>14.953657</td>\n",
       "      <td>1591.0</td>\n",
       "      <td>1594.0</td>\n",
       "      <td>118.110717</td>\n",
       "    </tr>\n",
       "    <tr>\n",
       "      <th>2499</th>\n",
       "      <td>2.169252</td>\n",
       "      <td>883</td>\n",
       "      <td>532.386183</td>\n",
       "      <td>4</td>\n",
       "      <td>233.0</td>\n",
       "      <td>126.0</td>\n",
       "      <td>11.336151</td>\n",
       "      <td>1569.0</td>\n",
       "      <td>1603.0</td>\n",
       "      <td>110.160958</td>\n",
       "    </tr>\n",
       "  </tbody>\n",
       "</table>\n",
       "<p>2328 rows × 10 columns</p>\n",
       "</div>"
      ],
      "text/plain": [
       "      full_power  heating_time  full_energy  number_of_heating  bulk_12  \\\n",
       "key                                                                       \n",
       "1       3.718736          1098   770.282114                  5    206.0   \n",
       "2       2.588349           811   481.760005                  4    206.0   \n",
       "3       5.019223           655   722.837668                  5    205.0   \n",
       "4       3.400038           741   683.455597                  4    207.0   \n",
       "5       2.816980           869   512.169934                  4    203.0   \n",
       "...          ...           ...          ...                ...      ...   \n",
       "2495    3.868721           723   694.177326                  4    256.0   \n",
       "2496    5.070316           940   815.818538                  6    256.0   \n",
       "2497    4.360918           569   823.020520                  3    230.0   \n",
       "2498    3.909917           750   581.810739                  5    206.0   \n",
       "2499    2.169252           883   532.386183                  4    233.0   \n",
       "\n",
       "      bulk_14      gas_1  first_temperture  last_temperature      wire_1  \n",
       "key                                                                       \n",
       "1       150.0  29.749986            1571.0            1613.0   60.059998  \n",
       "2       149.0  12.555561            1581.0            1602.0   96.052315  \n",
       "3       152.0  28.554793            1596.0            1599.0   91.160157  \n",
       "4       153.0  18.841219            1601.0            1625.0   89.063515  \n",
       "5       151.0   5.413692            1576.0            1602.0   89.238236  \n",
       "...       ...        ...               ...               ...         ...  \n",
       "2495    129.0   7.125735            1570.0            1591.0   89.150879  \n",
       "2496    129.0   9.412616            1554.0            1591.0  114.179527  \n",
       "2497    124.0   6.271699            1571.0            1589.0   94.086723  \n",
       "2498    129.0  14.953657            1591.0            1594.0  118.110717  \n",
       "2499    126.0  11.336151            1569.0            1603.0  110.160958  \n",
       "\n",
       "[2328 rows x 10 columns]"
      ]
     },
     "execution_count": 79,
     "metadata": {},
     "output_type": "execute_result"
    }
   ],
   "source": [
    "data"
   ]
  },
  {
   "cell_type": "markdown",
   "id": "9279fe38",
   "metadata": {},
   "source": [
    "Разделим данные в соотношении 75 : 25"
   ]
  },
  {
   "cell_type": "code",
   "execution_count": 80,
   "id": "dc2b1f86",
   "metadata": {},
   "outputs": [
    {
     "name": "stdout",
     "output_type": "stream",
     "text": [
      "Соотношение 0.75 : 0.25\n"
     ]
    }
   ],
   "source": [
    "RANDOM_STATE = 90925\n",
    "\n",
    "X = data.drop('last_temperature', axis=1)\n",
    "y = data['last_temperature']\n",
    "\n",
    "X_train, X_test, y_train, y_test = train_test_split(\n",
    "    X, \n",
    "    y, \n",
    "    test_size=0.25, \n",
    "    random_state=RANDOM_STATE\n",
    ")\n",
    "\n",
    "print(f'Соотношение {X_train.shape[0] / X.shape[0]} : {X_test.shape[0] / X.shape[0]}') "
   ]
  },
  {
   "cell_type": "markdown",
   "id": "28cc0809",
   "metadata": {},
   "source": [
    "Пайплайн для удобства подготовки данных:"
   ]
  },
  {
   "cell_type": "code",
   "execution_count": 81,
   "id": "41b48e08",
   "metadata": {},
   "outputs": [],
   "source": [
    "num_columns = X.columns.tolist()"
   ]
  },
  {
   "cell_type": "code",
   "execution_count": 82,
   "id": "9edd7a40",
   "metadata": {},
   "outputs": [],
   "source": [
    "data_preprocessor = ColumnTransformer(\n",
    "    [\n",
    "        ('num', StandardScaler(), num_columns)\n",
    "    ]\n",
    ")\n",
    "\n",
    "pipe_final = Pipeline([\n",
    "    ('preprocessor', data_preprocessor),\n",
    "    ('models', LinearRegression()\n",
    "    )\n",
    "])"
   ]
  },
  {
   "cell_type": "markdown",
   "id": "4c4aebd3",
   "metadata": {},
   "source": [
    "## Обучение моделей"
   ]
  },
  {
   "cell_type": "code",
   "execution_count": 83,
   "id": "ef5b78f9",
   "metadata": {},
   "outputs": [],
   "source": [
    "results = []"
   ]
  },
  {
   "cell_type": "markdown",
   "id": "97f82800",
   "metadata": {},
   "source": [
    "### Поиск по `LinearRegression`"
   ]
  },
  {
   "cell_type": "code",
   "execution_count": 84,
   "id": "f54c93f2",
   "metadata": {},
   "outputs": [
    {
     "name": "stdout",
     "output_type": "stream",
     "text": [
      "Подбор для LinearRegression...\n"
     ]
    },
    {
     "name": "stderr",
     "output_type": "stream",
     "text": [
      "/opt/conda/lib/python3.9/site-packages/sklearn/model_selection/_search.py:285: UserWarning: The total space of parameters 3 is smaller than n_iter=5. Running 3 iterations. For exhaustive searches, use GridSearchCV.\n",
      "  warnings.warn(\n"
     ]
    },
    {
     "name": "stdout",
     "output_type": "stream",
     "text": [
      "Лучший MAE: 6.7300\n"
     ]
    }
   ],
   "source": [
    "param_grid_lr = {\n",
    "    'models': [LinearRegression()],\n",
    "    'preprocessor__num': [StandardScaler(), MinMaxScaler(), 'passthrough']\n",
    "}\n",
    "\n",
    "print(\"Подбор для LinearRegression...\")\n",
    "search_lr = RandomizedSearchCV(\n",
    "    pipe_final,\n",
    "    param_grid_lr,\n",
    "    cv=5,\n",
    "    n_iter=5,\n",
    "    scoring='neg_mean_absolute_error',\n",
    "    random_state=RANDOM_STATE,\n",
    "    n_jobs=-1\n",
    ").fit(X_train, y_train)\n",
    "\n",
    "results.append(('LinearRegression', search_lr.best_estimator_, search_lr.best_score_))\n",
    "print(f\"Лучший MAE: {-search_lr.best_score_:.4f}\")"
   ]
  },
  {
   "cell_type": "markdown",
   "id": "44d3260a",
   "metadata": {},
   "source": [
    "### Поиск по`LGBMRegressor`"
   ]
  },
  {
   "cell_type": "code",
   "execution_count": null,
   "id": "3faadc59",
   "metadata": {},
   "outputs": [
    {
     "name": "stdout",
     "output_type": "stream",
     "text": [
      "Подбор для LGBMRegressor...\n"
     ]
    }
   ],
   "source": [
    "param_grid_lgbm = {\n",
    "    'models': [LGBMRegressor(verbose=-1, random_state=RANDOM_STATE)],\n",
    "    'models__max_depth': [2, 5, 8, 10, 12],\n",
    "    'models__num_leaves': [2, 3, 5, 7, 10],\n",
    "    'preprocessor__num': [StandardScaler(), MinMaxScaler(), 'passthrough']\n",
    "}\n",
    "\n",
    "print(\"Подбор для LGBMRegressor...\")\n",
    "search_lgbm = RandomizedSearchCV(\n",
    "    pipe_final,\n",
    "    param_grid_lgbm,\n",
    "    cv=5,\n",
    "    n_iter=10,  # Можно увеличить, так как модель сложнее\n",
    "    scoring='neg_mean_absolute_error',\n",
    "    random_state=RANDOM_STATE,\n",
    "    n_jobs=-1\n",
    ").fit(X_train, y_train)\n",
    "\n",
    "results.append(('LGBMRegressor', search_lgbm.best_estimator_, search_lgbm.best_score_))\n",
    "print(f\"Лучший MAE: {-search_lgbm.best_score_:.4f}\")\n"
   ]
  },
  {
   "cell_type": "markdown",
   "id": "6753f4b0",
   "metadata": {},
   "source": [
    "### Поиск по `CatBoostRegressor`"
   ]
  },
  {
   "cell_type": "code",
   "execution_count": null,
   "id": "0a712af3",
   "metadata": {},
   "outputs": [],
   "source": [
    "param_grid_cb = {\n",
    "    'models': [CatBoostRegressor(iterations=200, verbose=False, random_state=RANDOM_STATE)],\n",
    "    'models__depth': [3, 5, 7],\n",
    "    'models__learning_rate': [0.01, 0.1, 0.5],\n",
    "    'models__l2_leaf_reg': [1, 3, 5, 7, 9],\n",
    "    'preprocessor__num': [StandardScaler(), MinMaxScaler(), 'passthrough']\n",
    "}\n",
    "\n",
    "print(\"Подбор для CatBoostRegressor...\")\n",
    "search_cb = RandomizedSearchCV(\n",
    "    pipe_final,\n",
    "    param_grid_cb,\n",
    "    cv=5,\n",
    "    n_iter=10,\n",
    "    scoring='neg_mean_absolute_error',\n",
    "    random_state=RANDOM_STATE,\n",
    "    n_jobs=-1\n",
    ").fit(X_train, y_train)\n",
    "\n",
    "results.append(('CatBoostRegressor', search_cb.best_estimator_, search_cb.best_score_))\n",
    "print(f\"Лучший MAE: {-search_cb.best_score_:.4f}\")"
   ]
  },
  {
   "cell_type": "markdown",
   "id": "ea362262",
   "metadata": {},
   "source": [
    "Теперь выберем лучшую модель по полученным результатам"
   ]
  },
  {
   "cell_type": "code",
   "execution_count": null,
   "id": "e6d2d335",
   "metadata": {},
   "outputs": [],
   "source": [
    "best_model_name, best_model, best_score = max(results, key=lambda x: x[2])\n",
    "\n",
    "print(f\"\\nЛучшая модель: {best_model_name}\")\n",
    "print(f\"Лучший MAE: {-best_score:.4f}\")"
   ]
  },
  {
   "cell_type": "raw",
   "id": "3c9eeb1b",
   "metadata": {},
   "source": [
    "print('Лучшая модель и её параметры:\\n\\n', randomized_search.best_estimator_)\n",
    "print ('Метрика лучшей модели на кросс-валидации:', -randomized_search.best_score_)"
   ]
  },
  {
   "cell_type": "markdown",
   "id": "f94c3f69",
   "metadata": {},
   "source": [
    "### Проверка лучшей модели на тестовой выборке"
   ]
  },
  {
   "cell_type": "code",
   "execution_count": 195,
   "id": "6a2e5b58",
   "metadata": {},
   "outputs": [
    {
     "data": {
      "text/plain": [
       "{'preprocessor__num': 'passthrough',\n",
       " 'models__learning_rate': 0.1,\n",
       " 'models__l2_leaf_reg': 7,\n",
       " 'models__depth': 5,\n",
       " 'models': <catboost.core.CatBoostRegressor at 0x7f5d2fb512b0>}"
      ]
     },
     "execution_count": 195,
     "metadata": {},
     "output_type": "execute_result"
    }
   ],
   "source": [
    "best_model = randomized_search.best_estimator_\n",
    "best_model_preprocessor = randomized_search.best_estimator_['preprocessor']\n",
    "randomized_search.best_params_"
   ]
  },
  {
   "cell_type": "code",
   "execution_count": 196,
   "id": "96139add",
   "metadata": {},
   "outputs": [
    {
     "name": "stdout",
     "output_type": "stream",
     "text": [
      "MAE на тестовой выборке: 6.20\n"
     ]
    }
   ],
   "source": [
    "predict_test = best_model.predict(X_test)\n",
    "MAE_score = mean_absolute_error(y_test, predict_test)\n",
    "\n",
    "print(f'MAE на тестовой выборке: {MAE_score:.2f}')"
   ]
  },
  {
   "cell_type": "markdown",
   "id": "f27f8b47",
   "metadata": {},
   "source": [
    "### Расчет метрики r2 на тестовой выборке"
   ]
  },
  {
   "cell_type": "code",
   "execution_count": 197,
   "id": "40c6cb13",
   "metadata": {},
   "outputs": [
    {
     "name": "stdout",
     "output_type": "stream",
     "text": [
      "r2 на тестовой выборке: 0.38\n"
     ]
    }
   ],
   "source": [
    "r2 = r2_score(y_test, predict_test)\n",
    "\n",
    "print(f'r2 на тестовой выборке: {r2:.2f}')"
   ]
  },
  {
   "cell_type": "markdown",
   "id": "420509fd",
   "metadata": {},
   "source": [
    "Значение метрики **r2** указывает, что модель объясняет часть дисперсии целевой переменной и даёт прогноз, более точный, чем простое использование среднего значения фактических данных. Однако, поскольку показатель далёк от идеального значения, модель демонстрирует умеренную обобщающую способность. На новых, ранее не виденных данных она, вероятно, будет показывать удовлетворительные, но не высокие результаты. Это говорит о необходимости дальнейшей настройки признаков, проверки альтернативных алгоритмов или усиления регуляризации."
   ]
  },
  {
   "cell_type": "markdown",
   "id": "780ec0d8",
   "metadata": {},
   "source": [
    "### Оценка важности признаков у лучшей модели "
   ]
  },
  {
   "cell_type": "code",
   "execution_count": 198,
   "id": "025ffbfa",
   "metadata": {},
   "outputs": [],
   "source": [
    "feature_importance = pd.Series(\n",
    "    randomized_search.best_estimator_._final_estimator.feature_importances_,\n",
    "    index=X_test.columns\n",
    ").sort_values(ascending=False)"
   ]
  },
  {
   "cell_type": "code",
   "execution_count": 199,
   "id": "ac1191a8",
   "metadata": {},
   "outputs": [
    {
     "data": {
      "image/png": "[encoded data removed]",
      "text/plain": [
       "<Figure size 576x288 with 1 Axes>"
      ]
     },
     "metadata": {
      "needs_background": "light"
     },
     "output_type": "display_data"
    }
   ],
   "source": [
    "plt.figure(figsize=(8,4))\n",
    "\n",
    "plot_data = pd.Series(randomized_search\n",
    "                      .best_estimator_\n",
    "                      ._final_estimator\n",
    "                      .feature_importances_,\n",
    "                      index=X_test\n",
    "                      .columns).sort_values(ascending=False)\n",
    "\n",
    "sns.barplot(x=plot_data, y=plot_data.index)\n",
    "\n",
    "plt.title('Важность признаков')\n",
    "plt.xlabel('Критерий важности')\n",
    "plt.ylabel('Названия признаков')\n",
    "plt.show()"
   ]
  },
  {
   "cell_type": "markdown",
   "id": "2a9fe0a9",
   "metadata": {},
   "source": [
    "**Вывод по важности признаков**\n",
    "\n",
    "Анализ значимости признаков, проведённый на основе модели, показал следующее:\n",
    "\n",
    "- **Наибольший вклад** в прогноз конечной температуры вносят:  \n",
    "  - **`first_temperature`** — начальная температура плавки: логично, что стартовое состояние металла оказывает решающее влияние на итоговый результат.  \n",
    "  - **`heating_time`** — суммарное время нагрева: напрямую связано с количеством подведённой энергии и продолжительностью термического воздействия.\n",
    "\n",
    "- **Наименьшее влияние** на модель оказывает признак:  \n",
    "  - **`number_of_heating`** — количество циклов нагрева. Несмотря на физическую интерпретируемость, его вклад в прогноз минимальный, возможно, из-за высокой корреляции с другими энергетическими показателями (например, `full_energy`), либо из-за слабой нелинейной зависимости.\n",
    "\n",
    "---\n",
    "\n",
    "**Рекомендация**: при дальнейшей оптимизации модели можно рассмотреть исключение наименее значимых признаков для упрощения и повышения обобщающей способности, особенно если наблюдается избыточность.\n"
   ]
  },
  {
   "cell_type": "markdown",
   "id": "b13d1b14",
   "metadata": {},
   "source": [
    "### Итоги обучения и оценки моделей\n",
    "\n",
    "1. **Разделение данных**  \n",
    "   Для обучения и валидации моделей выборка была разделена на:  \n",
    "   - **75% — обучающая часть** с применением кросс-валидации (5 фолдов)  \n",
    "   - **25% — независимая тестовая выборка**, сохранённая для финальной оценки  \n",
    "\n",
    "2. **Использованные модели и подход**  \n",
    "   Были протестированы три алгоритма:  \n",
    "   - `LinearRegression`  \n",
    "   - `LGBMRegressor`  \n",
    "   - `CatBoostRegressor`  \n",
    "   \n",
    "   Все модели обучались в рамках **конвейера (Pipeline)**, включающего:  \n",
    "   - числовую стандартизацию (`StandardScaler`)  \n",
    "   - последовательное применение модели  \n",
    "\n",
    "   Это позволило избежать утечки данных и обеспечить воспроизводимость процесса.\n",
    "\n",
    "3. **Результаты кросс-валидации**  \n",
    "   Наилучшую стабильность и точность показал **`CatBoostRegressor`**.  \n",
    "   Среднее значение метрики на валидации:  \n",
    "   - **MAE = 6.2** — минимальная ошибка среди всех моделей  \n",
    "\n",
    "4. **Гиперпараметры лучшей модели**  \n",
    "   Оптимальная конфигурация, подобранная в процессе настройки:  \n",
    "   ```python\n",
    "   {\n",
    "     'preprocessor__num': StandardScaler(),\n",
    "     'models__learning_rate': 0.1,\n",
    "     'models__l2_leaf_reg': 7,\n",
    "     'models__depth': 5,\n",
    "     'models': <catboost.core.CatBoostRegressor at 0x1979b31d750>\n",
    "   }\n"
   ]
  },
  {
   "cell_type": "markdown",
   "id": "a0a30796",
   "metadata": {},
   "source": [
    "## Итоговый вывод"
   ]
  },
  {
   "cell_type": "markdown",
   "id": "665a3e3b",
   "metadata": {},
   "source": [
    "###  Цель проекта\n",
    "\n",
    "Основная задача — **оптимизация энергозатрат и снижение эксплуатационных расходов** на металлургическом производстве за счёт построения модели машинного обучения, способной **точно прогнозировать конечную температуру расплава**. \n",
    "\n",
    "Точное предсказание позволяет:\n",
    "- Снизить перерасход электроэнергии\n",
    "- Уменьшить износ оборудования\n",
    "- Минимизировать количество перегревов и переделов\n",
    "- Повысить стабильность технологического процесса\n",
    "\n",
    "---\n",
    "\n",
    "###  Целевая переменная и метрика\n",
    "\n",
    "- **Целевая переменная**: `last_temperature` — последнее измерение температуры плавки (в °C)  \n",
    "- **Целевая метрика**: **MAE (Mean Absolute Error)**  \n",
    "  - Пороговое требование заказчика: **MAE ≤ 6.8** на тестовой выборке\n",
    "\n",
    "---\n",
    "\n",
    "###  Исходные данные\n",
    "\n",
    "Для анализа предоставлено **7 датасетов**:\n",
    "\n",
    "| Файл | Описание |\n",
    "|------|--------|\n",
    "| `data_arc_new.csv` | Параметры подачи тока через электроды |\n",
    "| `data_bulk_new.csv` | Объёмы подачи сыпучих материалов |\n",
    "| `data_bulk_time_new.csv` | Временные метки подачи сыпучих |\n",
    "| `data_gas_new.csv` | Объём подачи продувочного газа |\n",
    "| `data_temp_new.csv` | Результаты измерений температуры |\n",
    "| `data_wire_new.csv` | Объёмы проволочных добавок |\n",
    "| `data_wire_time_new.csv` | Время подачи проволочных материалов |\n",
    "\n",
    "На этапе предобработки **временные файлы (`*_time_new.csv`)** исключены из анализа, так как не показали значимой связи с температурой.  \n",
    "Итого для объединения и моделирования использовано **5 ключевых таблиц**.\n",
    "\n",
    "---\n",
    "\n",
    "###  Предобработка данных\n",
    "\n",
    "####  `data_arc_new.csv` — данные об электрических параметрах\n",
    "\n",
    "1. Названия столбцов приведены к формату `snake_case` (PEP8).  \n",
    "2. Удалена запись с **отрицательной реактивной мощностью** — физически невозможное значение.  \n",
    "3. Рассчитаны новые признаки:\n",
    "   - **`full_power`** — полная мощность: $ P = \\sqrt{A^2 + R^2} $\n",
    "   - **`heating_time`** — длительность нагрева (в секундах): разница между началом и окончанием подачи тока\n",
    "   - **`full_energy`** — накопленная энергия: $ E = P \\cdot T $\n",
    "4. Данные агрегированы по `key` (номеру плавки):\n",
    "   - Суммированы энергия, мощность, время\n",
    "   - Подсчитано **`number_of_heating`** — количество циклов нагрева\n",
    "\n",
    "**Итог**: создан датафрейм с физически значимыми признаками, отражающими энергетическое воздействие.\n",
    "\n",
    "---\n",
    "\n",
    "#### `data_bulk_new.csv` — сыпучие материалы (объём)\n",
    "\n",
    "1. Столбцы переименованы.  \n",
    "2. Удалены признаки с долей пропусков **свыше 80%** — низкая информативность.  \n",
    "3. Оставшиеся пропуски заменены на **0** — интерпретация: материал не подавался.  \n",
    "4. Сохранены только `bulk_12` и `bulk_14` — наиболее полные и технологически значимые.\n",
    "\n",
    "---\n",
    "\n",
    "####  `data_gas_new.csv` — подача газа\n",
    "\n",
    "1. Столбцы приведены к единому стилю.  \n",
    "2. Дополнительная обработка не требовалась — данные полные, без дубликатов.  \n",
    "3. Анализ выбросов отложен до этапа моделирования — по рекомендации заказчика.\n",
    "\n",
    "---\n",
    "\n",
    "####  `data_temp_new.csv` — измерения температуры\n",
    "\n",
    "1. Столбцы переименованы.  \n",
    "2. Удалены:\n",
    "   - Плавки с температурой **ниже 1500 °C** — физически неадекватны для расплава\n",
    "   - Плавки с **единственным замером** — недостаточно данных для анализа динамики\n",
    "   - Записи с пропущенными значениями\n",
    "3. Для каждой плавки определены:\n",
    "   - **`first_temperature`** — первое измерение\n",
    "   - **`last_temperature`** — последнее измерение (целевая переменная)\n",
    "\n",
    "---\n",
    "\n",
    "####  `data_wire_new.csv` — проволочные материалы (объём)\n",
    "\n",
    "1. Столбцы переименованы.  \n",
    "2. Удалены признаки с >80% пропусков.  \n",
    "3. Оставшиеся пропуски заменены на **0**.  \n",
    "4. Сохранён **`wire_1`** — единственный значимый и полный признак.\n",
    "\n",
    "---\n",
    "\n",
    "###  Объединение данных\n",
    "\n",
    "Все датасеты объединены по ключу `key` методом **INNER JOIN**:\n",
    "- В финальный датасет вошли только плавки, присутствующие во всех таблицах\n",
    "- Гарантируется полнота и согласованность данных\n",
    "\n",
    "**Результат**: единый, чистый датафрейм, готовый к обучению.\n",
    "\n",
    "---\n",
    "\n",
    "###  Анализ корреляции и отбор признаков\n",
    "\n",
    "На основе тепловой карты корреляции выявлены признаки, **наиболее сильно влияющие** на `last_temperature`:\n",
    "\n",
    "- `first_temperature` — начальная температура\n",
    "- `wire_1` — объём первой проволоки\n",
    "- `heating_time` — время нагрева\n",
    "- `bulk_12` — определённая сыпучая добавка\n",
    "- `full_energy` — полная подведённая энергия\n",
    "- `full_power`, `active_power` — мощностные характеристики\n",
    "- `number_of_heating` — количество циклов\n",
    "\n",
    "**Проблема мультиколлинеарности**: признаки `active_power`, `reactive_power`, `full_power` сильно коррелируют.  \n",
    "**Решение**: удалены `active_power` и `reactive_power` — оставлены только `full_energy` и `full_power` для баланса.\n",
    "\n",
    "---\n",
    "\n",
    "###  Обучение и оценка моделей\n",
    "\n",
    "####  Признаки модели:\n",
    "`first_temperature`, `heating_time`, `full_energy`, `number_of_heating`, `bulk_12`, `bulk_14`, `gas_1`, `wire_1`, `full_power`\n",
    "\n",
    "####  Подход:\n",
    "- Все модели обучались в **Pipeline**, включающем:\n",
    "  - `StandardScaler` для числовых признаков\n",
    "  - Модель\n",
    "- Это исключило утечку данных и обеспечило воспроизводимость\n",
    "\n",
    "####  Разделение выборки:\n",
    "- **75%** — обучение + кросс-валидация (5 фолдов)\n",
    "- **25%** — независимая тестовая выборка\n",
    "\n",
    "####  Протестированные модели:\n",
    "- `LinearRegression`\n",
    "- `LGBMRegressor`\n",
    "- `CatBoostRegressor`\n",
    "\n",
    "---\n",
    "\n",
    "###  Результаты\n",
    "\n",
    "| Модель | MAE (CV) | MAE (Test) | $ R^2 $ (Test) |\n",
    "|--------|----------|------------|----------------|\n",
    "| **CatBoostRegressor** ✅ | **6.6** | **6.20** | 0.38 |\n",
    "\n",
    "\n",
    "####  Ключевые выводы:\n",
    "- **Лучшая модель**: `CatBoostRegressor`\n",
    "- **MAE на тесте: 6.2** — **удовлетворяет требованию** (≤ 6.8)\n",
    "- **r2 = 0.38 $** — модель объясняет 38% дисперсии, что **значительно лучше предсказания среднего**\n",
    "\n",
    "####  Гиперпараметры лучшей модели:\n",
    "```python\n",
    "{\n",
    " 'preprocessor__num': StandardScaler(),\n",
    " 'models__learning_rate': 0.1,\n",
    " 'models__l2_leaf_reg': 7,\n",
    " 'models__depth': 5,\n",
    " 'models': <catboost.core.CatBoostRegressor>\n",
    "}\n"
   ]
  }
 ],
 "metadata": {
  "ExecuteTimeLog": [
   {
    "duration": 5330,
    "start_time": "2025-09-08T05:28:35.141Z"
   },
   {
    "duration": 5,
    "start_time": "2025-09-08T05:29:12.875Z"
   },
   {
    "duration": 52,
    "start_time": "2025-09-11T05:46:42.888Z"
   },
   {
    "duration": 1762,
    "start_time": "2025-09-11T05:46:48.687Z"
   },
   {
    "duration": 64,
    "start_time": "2025-09-11T05:46:50.451Z"
   },
   {
    "duration": 36,
    "start_time": "2025-09-11T05:48:40.052Z"
   },
   {
    "duration": 50,
    "start_time": "2025-09-11T05:50:31.289Z"
   },
   {
    "duration": 41,
    "start_time": "2025-09-11T05:52:28.301Z"
   },
   {
    "duration": 36,
    "start_time": "2025-09-11T05:53:49.659Z"
   },
   {
    "duration": 27,
    "start_time": "2025-09-11T05:55:09.677Z"
   },
   {
    "duration": 33,
    "start_time": "2025-09-11T05:56:13.324Z"
   },
   {
    "duration": 95,
    "start_time": "2025-09-11T06:01:18.072Z"
   },
   {
    "duration": 11,
    "start_time": "2025-09-11T06:01:28.104Z"
   },
   {
    "duration": 43,
    "start_time": "2025-09-11T06:01:46.081Z"
   },
   {
    "duration": 38,
    "start_time": "2025-09-11T06:02:12.345Z"
   },
   {
    "duration": 37,
    "start_time": "2025-09-11T06:02:20.940Z"
   },
   {
    "duration": 39,
    "start_time": "2025-09-11T06:02:53.409Z"
   },
   {
    "duration": 11,
    "start_time": "2025-09-11T06:03:06.850Z"
   },
   {
    "duration": 14,
    "start_time": "2025-09-11T06:03:14.480Z"
   },
   {
    "duration": 11,
    "start_time": "2025-09-11T06:03:27.857Z"
   },
   {
    "duration": 42,
    "start_time": "2025-09-11T06:03:43.241Z"
   },
   {
    "duration": 38,
    "start_time": "2025-09-11T06:03:47.635Z"
   },
   {
    "duration": 14,
    "start_time": "2025-09-11T06:04:18.045Z"
   },
   {
    "duration": 9,
    "start_time": "2025-09-11T06:04:23.665Z"
   },
   {
    "duration": 15,
    "start_time": "2025-09-11T06:04:51.937Z"
   },
   {
    "duration": 16,
    "start_time": "2025-09-11T06:05:16.602Z"
   },
   {
    "duration": 14,
    "start_time": "2025-09-11T06:05:28.890Z"
   },
   {
    "duration": 17,
    "start_time": "2025-09-11T06:05:39.146Z"
   },
   {
    "duration": 10,
    "start_time": "2025-09-11T06:05:43.730Z"
   },
   {
    "duration": 11,
    "start_time": "2025-09-11T06:06:07.014Z"
   },
   {
    "duration": 73,
    "start_time": "2025-09-11T06:06:43.979Z"
   },
   {
    "duration": 3069,
    "start_time": "2025-09-11T06:06:53.263Z"
   },
   {
    "duration": 9,
    "start_time": "2025-09-11T06:07:00.427Z"
   },
   {
    "duration": 404,
    "start_time": "2025-09-11T06:07:05.403Z"
   },
   {
    "duration": 23,
    "start_time": "2025-09-11T06:12:53.266Z"
   },
   {
    "duration": 13,
    "start_time": "2025-09-11T06:13:43.896Z"
   },
   {
    "duration": 12,
    "start_time": "2025-09-11T06:13:51.512Z"
   },
   {
    "duration": 6,
    "start_time": "2025-09-11T06:13:59.024Z"
   },
   {
    "duration": 437,
    "start_time": "2025-09-11T06:14:22.140Z"
   },
   {
    "duration": 332,
    "start_time": "2025-09-11T06:25:49.248Z"
   },
   {
    "duration": 17,
    "start_time": "2025-09-11T06:27:23.320Z"
   },
   {
    "duration": 19,
    "start_time": "2025-09-11T06:28:20.105Z"
   },
   {
    "duration": 14,
    "start_time": "2025-09-11T06:28:31.656Z"
   },
   {
    "duration": 339,
    "start_time": "2025-09-11T06:29:08.748Z"
   },
   {
    "duration": 364,
    "start_time": "2025-09-11T06:29:57.946Z"
   },
   {
    "duration": 333,
    "start_time": "2025-09-11T06:30:05.963Z"
   },
   {
    "duration": 242,
    "start_time": "2025-09-11T06:30:13.386Z"
   },
   {
    "duration": 14,
    "start_time": "2025-09-11T06:32:24.212Z"
   },
   {
    "duration": 426,
    "start_time": "2025-09-11T06:32:47.886Z"
   },
   {
    "duration": 5,
    "start_time": "2025-09-11T06:33:36.395Z"
   },
   {
    "duration": 177,
    "start_time": "2025-09-11T06:33:40.700Z"
   },
   {
    "duration": 62,
    "start_time": "2025-09-11T06:33:47.452Z"
   },
   {
    "duration": 13,
    "start_time": "2025-09-11T06:34:11.613Z"
   },
   {
    "duration": 11,
    "start_time": "2025-09-11T06:34:17.717Z"
   },
   {
    "duration": 11,
    "start_time": "2025-09-11T06:34:41.037Z"
   },
   {
    "duration": 8,
    "start_time": "2025-09-11T06:34:49.269Z"
   },
   {
    "duration": 8,
    "start_time": "2025-09-11T06:35:11.927Z"
   },
   {
    "duration": 11,
    "start_time": "2025-09-11T06:35:28.846Z"
   },
   {
    "duration": 471,
    "start_time": "2025-09-11T06:35:38.440Z"
   },
   {
    "duration": 376,
    "start_time": "2025-09-11T06:36:49.343Z"
   },
   {
    "duration": 411,
    "start_time": "2025-09-11T06:36:52.895Z"
   },
   {
    "duration": 313,
    "start_time": "2025-09-11T06:36:57.520Z"
   },
   {
    "duration": 17,
    "start_time": "2025-09-11T06:37:38.448Z"
   },
   {
    "duration": 9,
    "start_time": "2025-09-11T06:38:22.984Z"
   },
   {
    "duration": 289,
    "start_time": "2025-09-11T06:38:33.840Z"
   },
   {
    "duration": 281,
    "start_time": "2025-09-11T06:38:41.463Z"
   },
   {
    "duration": 49,
    "start_time": "2025-09-11T06:41:17.649Z"
   },
   {
    "duration": 14,
    "start_time": "2025-09-11T06:41:46.627Z"
   },
   {
    "duration": 10,
    "start_time": "2025-09-11T06:42:08.091Z"
   },
   {
    "duration": 11,
    "start_time": "2025-09-11T06:42:26.002Z"
   },
   {
    "duration": 398,
    "start_time": "2025-09-11T06:42:47.627Z"
   },
   {
    "duration": 360,
    "start_time": "2025-09-11T06:43:05.764Z"
   },
   {
    "duration": 14,
    "start_time": "2025-09-11T06:45:40.686Z"
   },
   {
    "duration": 14,
    "start_time": "2025-09-11T06:45:52.773Z"
   },
   {
    "duration": 8,
    "start_time": "2025-09-11T06:46:11.077Z"
   },
   {
    "duration": 5,
    "start_time": "2025-09-11T06:46:26.293Z"
   },
   {
    "duration": 217,
    "start_time": "2025-09-11T06:46:39.989Z"
   },
   {
    "duration": 8,
    "start_time": "2025-09-11T06:47:17.158Z"
   },
   {
    "duration": 468,
    "start_time": "2025-09-11T06:47:24.709Z"
   },
   {
    "duration": 29,
    "start_time": "2025-09-11T06:48:02.822Z"
   },
   {
    "duration": 13,
    "start_time": "2025-09-11T06:48:14.934Z"
   },
   {
    "duration": 10,
    "start_time": "2025-09-11T06:48:33.111Z"
   },
   {
    "duration": 12,
    "start_time": "2025-09-11T06:48:48.544Z"
   },
   {
    "duration": 309,
    "start_time": "2025-09-11T06:49:14.695Z"
   },
   {
    "duration": 19,
    "start_time": "2025-09-11T06:49:33.744Z"
   },
   {
    "duration": 327,
    "start_time": "2025-09-11T06:49:43.642Z"
   },
   {
    "duration": 26,
    "start_time": "2025-09-11T06:50:02.008Z"
   },
   {
    "duration": 24,
    "start_time": "2025-09-11T06:50:13.225Z"
   },
   {
    "duration": 344,
    "start_time": "2025-09-11T06:50:21.695Z"
   },
   {
    "duration": 371,
    "start_time": "2025-09-11T06:50:37.717Z"
   },
   {
    "duration": 40,
    "start_time": "2025-09-11T06:51:44.583Z"
   },
   {
    "duration": 17,
    "start_time": "2025-09-11T06:52:01.417Z"
   },
   {
    "duration": 8,
    "start_time": "2025-09-11T06:52:24.305Z"
   },
   {
    "duration": 6,
    "start_time": "2025-09-11T06:52:42.466Z"
   },
   {
    "duration": 347,
    "start_time": "2025-09-11T06:53:00.770Z"
   },
   {
    "duration": 265,
    "start_time": "2025-09-11T06:53:09.258Z"
   },
   {
    "duration": 12,
    "start_time": "2025-09-11T06:53:22.017Z"
   },
   {
    "duration": 7,
    "start_time": "2025-09-11T06:53:40.377Z"
   },
   {
    "duration": 482,
    "start_time": "2025-09-11T06:53:47.435Z"
   },
   {
    "duration": 34,
    "start_time": "2025-09-11T06:55:24.540Z"
   },
   {
    "duration": 13,
    "start_time": "2025-09-11T06:55:40.778Z"
   },
   {
    "duration": 11,
    "start_time": "2025-09-11T06:56:00.131Z"
   },
   {
    "duration": 9,
    "start_time": "2025-09-11T06:56:18.484Z"
   },
   {
    "duration": 9,
    "start_time": "2025-09-11T06:56:22.860Z"
   },
   {
    "duration": 397,
    "start_time": "2025-09-11T06:56:39.309Z"
   },
   {
    "duration": 27,
    "start_time": "2025-09-11T07:05:37.099Z"
   },
   {
    "duration": 18,
    "start_time": "2025-09-11T07:05:48.020Z"
   },
   {
    "duration": 18,
    "start_time": "2025-09-11T07:08:07.846Z"
   },
   {
    "duration": 1709,
    "start_time": "2025-09-11T07:08:41.714Z"
   },
   {
    "duration": 2497,
    "start_time": "2025-09-11T07:09:48.918Z"
   },
   {
    "duration": 2575,
    "start_time": "2025-09-11T07:09:58.565Z"
   },
   {
    "duration": 1244,
    "start_time": "2025-09-11T07:11:25.601Z"
   },
   {
    "duration": 952,
    "start_time": "2025-09-11T07:12:46.239Z"
   },
   {
    "duration": 20,
    "start_time": "2025-09-11T07:14:19.520Z"
   },
   {
    "duration": 16,
    "start_time": "2025-09-11T07:14:42.194Z"
   },
   {
    "duration": 961,
    "start_time": "2025-09-11T07:15:01.353Z"
   },
   {
    "duration": 1350,
    "start_time": "2025-09-11T07:15:57.625Z"
   },
   {
    "duration": 13,
    "start_time": "2025-09-11T07:17:55.243Z"
   },
   {
    "duration": 7,
    "start_time": "2025-09-11T07:18:23.779Z"
   },
   {
    "duration": 3,
    "start_time": "2025-09-11T07:18:41.581Z"
   },
   {
    "duration": 4,
    "start_time": "2025-09-11T07:18:48.739Z"
   },
   {
    "duration": 5,
    "start_time": "2025-09-11T07:19:09.613Z"
   },
   {
    "duration": 37512,
    "start_time": "2025-09-11T07:19:17.772Z"
   },
   {
    "duration": 9,
    "start_time": "2025-09-11T07:20:12.770Z"
   },
   {
    "duration": 4,
    "start_time": "2025-09-11T07:20:40.974Z"
   },
   {
    "duration": 10,
    "start_time": "2025-09-11T07:20:49.932Z"
   },
   {
    "duration": 5,
    "start_time": "2025-09-11T07:21:24.356Z"
   },
   {
    "duration": 4,
    "start_time": "2025-09-11T07:22:40.390Z"
   },
   {
    "duration": 218,
    "start_time": "2025-09-11T07:22:48.149Z"
   },
   {
    "duration": 3306,
    "start_time": "2025-09-11T10:33:33.939Z"
   },
   {
    "duration": 1775,
    "start_time": "2025-09-11T10:33:38.556Z"
   },
   {
    "duration": 68,
    "start_time": "2025-09-11T10:35:48.484Z"
   },
   {
    "duration": 51,
    "start_time": "2025-09-11T10:36:01.835Z"
   },
   {
    "duration": 41,
    "start_time": "2025-09-11T10:36:37.429Z"
   },
   {
    "duration": 51,
    "start_time": "2025-09-11T10:37:05.484Z"
   },
   {
    "duration": 36,
    "start_time": "2025-09-11T10:37:10.984Z"
   },
   {
    "duration": 42,
    "start_time": "2025-09-11T10:37:52.796Z"
   },
   {
    "duration": 37,
    "start_time": "2025-09-11T10:38:28.318Z"
   },
   {
    "duration": 37,
    "start_time": "2025-09-11T10:39:02.390Z"
   },
   {
    "duration": 40,
    "start_time": "2025-09-11T10:39:30.783Z"
   },
   {
    "duration": 40,
    "start_time": "2025-09-11T10:42:04.673Z"
   },
   {
    "duration": 42,
    "start_time": "2025-09-11T10:42:07.808Z"
   },
   {
    "duration": 12,
    "start_time": "2025-09-11T10:42:10.080Z"
   },
   {
    "duration": 10,
    "start_time": "2025-09-11T10:42:12.281Z"
   },
   {
    "duration": 14,
    "start_time": "2025-09-11T10:42:14.010Z"
   },
   {
    "duration": 381,
    "start_time": "2025-09-11T10:42:14.665Z"
   },
   {
    "duration": 18,
    "start_time": "2025-09-11T10:42:17.288Z"
   },
   {
    "duration": 12,
    "start_time": "2025-09-11T10:42:20.518Z"
   },
   {
    "duration": 15,
    "start_time": "2025-09-11T10:42:22.480Z"
   },
   {
    "duration": 7,
    "start_time": "2025-09-11T10:42:24.511Z"
   },
   {
    "duration": 377,
    "start_time": "2025-09-11T10:42:27.439Z"
   },
   {
    "duration": 408,
    "start_time": "2025-09-11T10:42:31.494Z"
   },
   {
    "duration": 25,
    "start_time": "2025-09-11T10:42:37.088Z"
   },
   {
    "duration": 26,
    "start_time": "2025-09-11T10:42:40.346Z"
   },
   {
    "duration": 19,
    "start_time": "2025-09-11T10:42:42.769Z"
   },
   {
    "duration": 330,
    "start_time": "2025-09-11T10:42:46.871Z"
   },
   {
    "duration": 321,
    "start_time": "2025-09-11T10:42:49.441Z"
   },
   {
    "duration": 294,
    "start_time": "2025-09-11T10:42:51.969Z"
   },
   {
    "duration": 220,
    "start_time": "2025-09-11T10:42:54.433Z"
   },
   {
    "duration": 78,
    "start_time": "2025-09-11T10:42:57.535Z"
   },
   {
    "duration": 14,
    "start_time": "2025-09-11T10:43:00.257Z"
   },
   {
    "duration": 9,
    "start_time": "2025-09-11T10:43:03.064Z"
   },
   {
    "duration": 8,
    "start_time": "2025-09-11T10:43:05.703Z"
   },
   {
    "duration": 430,
    "start_time": "2025-09-11T10:43:07.216Z"
   },
   {
    "duration": 423,
    "start_time": "2025-09-11T10:43:10.024Z"
   },
   {
    "duration": 13,
    "start_time": "2025-09-11T10:43:12.752Z"
   },
   {
    "duration": 10,
    "start_time": "2025-09-11T10:43:15.881Z"
   },
   {
    "duration": 405,
    "start_time": "2025-09-11T10:43:17.839Z"
   },
   {
    "duration": 275,
    "start_time": "2025-09-11T10:43:20.400Z"
   },
   {
    "duration": 48,
    "start_time": "2025-09-11T10:43:23.332Z"
   },
   {
    "duration": 18,
    "start_time": "2025-09-11T10:43:25.704Z"
   },
   {
    "duration": 10,
    "start_time": "2025-09-11T10:43:28.469Z"
   },
   {
    "duration": 13,
    "start_time": "2025-09-11T10:43:30.673Z"
   },
   {
    "duration": 417,
    "start_time": "2025-09-11T10:43:32.825Z"
   },
   {
    "duration": 323,
    "start_time": "2025-09-11T10:43:35.539Z"
   },
   {
    "duration": 20,
    "start_time": "2025-09-11T10:43:38.594Z"
   },
   {
    "duration": 11,
    "start_time": "2025-09-11T10:43:41.425Z"
   },
   {
    "duration": 8,
    "start_time": "2025-09-11T10:43:43.617Z"
   },
   {
    "duration": 7,
    "start_time": "2025-09-11T10:43:45.544Z"
   },
   {
    "duration": 204,
    "start_time": "2025-09-11T10:43:46.243Z"
   },
   {
    "duration": 8,
    "start_time": "2025-09-11T10:43:48.779Z"
   },
   {
    "duration": 307,
    "start_time": "2025-09-11T10:43:51.577Z"
   },
   {
    "duration": 27,
    "start_time": "2025-09-11T10:43:54.472Z"
   },
   {
    "duration": 12,
    "start_time": "2025-09-11T10:43:58.723Z"
   },
   {
    "duration": 9,
    "start_time": "2025-09-11T10:43:59.497Z"
   },
   {
    "duration": 8,
    "start_time": "2025-09-11T10:44:01.605Z"
   },
   {
    "duration": 272,
    "start_time": "2025-09-11T10:44:02.192Z"
   },
   {
    "duration": 21,
    "start_time": "2025-09-11T10:44:05.154Z"
   },
   {
    "duration": 423,
    "start_time": "2025-09-11T10:44:07.635Z"
   },
   {
    "duration": 25,
    "start_time": "2025-09-11T10:44:10.202Z"
   },
   {
    "duration": 23,
    "start_time": "2025-09-11T10:44:12.553Z"
   },
   {
    "duration": 326,
    "start_time": "2025-09-11T10:44:14.597Z"
   },
   {
    "duration": 329,
    "start_time": "2025-09-11T10:44:17.042Z"
   },
   {
    "duration": 37,
    "start_time": "2025-09-11T10:44:19.841Z"
   },
   {
    "duration": 11,
    "start_time": "2025-09-11T10:44:22.273Z"
   },
   {
    "duration": 9,
    "start_time": "2025-09-11T10:44:24.601Z"
   },
   {
    "duration": 7,
    "start_time": "2025-09-11T10:44:27.177Z"
   },
   {
    "duration": 351,
    "start_time": "2025-09-11T10:44:27.810Z"
   },
   {
    "duration": 331,
    "start_time": "2025-09-11T10:44:30.210Z"
   },
   {
    "duration": 13,
    "start_time": "2025-09-11T10:44:32.760Z"
   },
   {
    "duration": 8,
    "start_time": "2025-09-11T10:44:35.265Z"
   },
   {
    "duration": 316,
    "start_time": "2025-09-11T10:44:36.753Z"
   },
   {
    "duration": 31,
    "start_time": "2025-09-11T10:44:39.553Z"
   },
   {
    "duration": 13,
    "start_time": "2025-09-11T10:44:41.761Z"
   },
   {
    "duration": 10,
    "start_time": "2025-09-11T10:44:43.656Z"
   },
   {
    "duration": 11,
    "start_time": "2025-09-11T10:44:44.217Z"
   },
   {
    "duration": 387,
    "start_time": "2025-09-11T10:44:46.156Z"
   },
   {
    "duration": 30,
    "start_time": "2025-09-11T10:44:57.138Z"
   },
   {
    "duration": 21,
    "start_time": "2025-09-11T10:44:59.643Z"
   },
   {
    "duration": 15,
    "start_time": "2025-09-11T10:45:03.113Z"
   },
   {
    "duration": 2448,
    "start_time": "2025-09-11T10:45:07.706Z"
   },
   {
    "duration": 1289,
    "start_time": "2025-09-11T10:45:14.051Z"
   },
   {
    "duration": 4,
    "start_time": "2025-09-11T10:45:21.969Z"
   },
   {
    "duration": 1204,
    "start_time": "2025-09-11T10:45:24.770Z"
   },
   {
    "duration": 10,
    "start_time": "2025-09-11T10:45:35.071Z"
   },
   {
    "duration": 3,
    "start_time": "2025-09-11T10:45:38.195Z"
   },
   {
    "duration": 4,
    "start_time": "2025-09-11T10:45:40.151Z"
   },
   {
    "duration": 5,
    "start_time": "2025-09-11T10:45:42.952Z"
   },
   {
    "duration": 169442,
    "start_time": "2025-09-11T10:45:45.758Z"
   },
   {
    "duration": 6,
    "start_time": "2025-09-11T10:50:50.398Z"
   },
   {
    "duration": 7,
    "start_time": "2025-09-11T10:50:57.972Z"
   },
   {
    "duration": 8,
    "start_time": "2025-09-11T10:51:01.448Z"
   },
   {
    "duration": 8,
    "start_time": "2025-09-11T10:51:08.146Z"
   },
   {
    "duration": 3,
    "start_time": "2025-09-11T10:51:12.982Z"
   },
   {
    "duration": 162,
    "start_time": "2025-09-11T10:51:15.975Z"
   },
   {
    "duration": 4,
    "start_time": "2025-09-11T10:57:39.195Z"
   },
   {
    "duration": 5,
    "start_time": "2025-09-11T10:59:16.107Z"
   },
   {
    "duration": 2914,
    "start_time": "2025-09-11T12:52:10.553Z"
   },
   {
    "duration": 2856,
    "start_time": "2025-09-11T12:52:13.469Z"
   },
   {
    "duration": 63,
    "start_time": "2025-09-11T12:52:21.637Z"
   },
   {
    "duration": 36,
    "start_time": "2025-09-11T12:52:27.799Z"
   },
   {
    "duration": 39,
    "start_time": "2025-09-11T12:52:29.274Z"
   },
   {
    "duration": 42,
    "start_time": "2025-09-11T12:52:31.308Z"
   },
   {
    "duration": 36,
    "start_time": "2025-09-11T12:52:34.225Z"
   },
   {
    "duration": 27,
    "start_time": "2025-09-11T12:52:36.220Z"
   },
   {
    "duration": 31,
    "start_time": "2025-09-11T12:52:37.682Z"
   },
   {
    "duration": 40,
    "start_time": "2025-09-11T12:53:15.277Z"
   },
   {
    "duration": 13,
    "start_time": "2025-09-11T12:53:15.970Z"
   },
   {
    "duration": 10,
    "start_time": "2025-09-11T12:53:20.251Z"
   },
   {
    "duration": 15,
    "start_time": "2025-09-11T12:53:21.307Z"
   },
   {
    "duration": 361,
    "start_time": "2025-09-11T12:53:21.618Z"
   },
   {
    "duration": 19,
    "start_time": "2025-09-11T12:54:16.013Z"
   },
   {
    "duration": 11,
    "start_time": "2025-09-11T12:54:56.444Z"
   },
   {
    "duration": 11,
    "start_time": "2025-09-11T12:54:57.322Z"
   },
   {
    "duration": 7,
    "start_time": "2025-09-11T12:54:58.018Z"
   },
   {
    "duration": 318,
    "start_time": "2025-09-11T12:55:54.630Z"
   },
   {
    "duration": 428,
    "start_time": "2025-09-11T12:55:55.659Z"
   },
   {
    "duration": 17,
    "start_time": "2025-09-11T12:56:00.703Z"
   },
   {
    "duration": 27,
    "start_time": "2025-09-11T12:56:42.008Z"
   },
   {
    "duration": 14,
    "start_time": "2025-09-11T12:56:42.724Z"
   },
   {
    "duration": 323,
    "start_time": "2025-09-11T12:57:12.112Z"
   },
   {
    "duration": 301,
    "start_time": "2025-09-11T12:57:12.732Z"
   },
   {
    "duration": 294,
    "start_time": "2025-09-11T12:57:13.428Z"
   },
   {
    "duration": 211,
    "start_time": "2025-09-11T12:57:14.100Z"
   },
   {
    "duration": 59,
    "start_time": "2025-09-11T12:57:16.123Z"
   },
   {
    "duration": 13,
    "start_time": "2025-09-11T12:57:16.604Z"
   },
   {
    "duration": 8,
    "start_time": "2025-09-11T12:57:17.284Z"
   },
   {
    "duration": 7,
    "start_time": "2025-09-11T12:57:17.970Z"
   },
   {
    "duration": 396,
    "start_time": "2025-09-11T12:57:19.092Z"
   },
   {
    "duration": 304,
    "start_time": "2025-09-11T12:57:19.700Z"
   },
   {
    "duration": 13,
    "start_time": "2025-09-11T12:57:22.153Z"
   },
   {
    "duration": 7,
    "start_time": "2025-09-11T12:57:47.804Z"
   },
   {
    "duration": 398,
    "start_time": "2025-09-11T12:58:23.255Z"
   },
   {
    "duration": 259,
    "start_time": "2025-09-11T12:58:24.341Z"
   },
   {
    "duration": 45,
    "start_time": "2025-09-11T12:58:29.813Z"
   },
   {
    "duration": 13,
    "start_time": "2025-09-11T12:58:30.508Z"
   },
   {
    "duration": 10,
    "start_time": "2025-09-11T12:58:31.139Z"
   },
   {
    "duration": 12,
    "start_time": "2025-09-11T12:58:32.228Z"
   },
   {
    "duration": 368,
    "start_time": "2025-09-11T12:58:32.836Z"
   },
   {
    "duration": 296,
    "start_time": "2025-09-11T12:58:33.307Z"
   },
   {
    "duration": 15,
    "start_time": "2025-09-11T12:59:21.702Z"
   },
   {
    "duration": 11,
    "start_time": "2025-09-11T12:59:22.332Z"
   },
   {
    "duration": 10,
    "start_time": "2025-09-11T12:59:22.780Z"
   },
   {
    "duration": 5,
    "start_time": "2025-09-11T12:59:24.149Z"
   },
   {
    "duration": 156,
    "start_time": "2025-09-11T12:59:24.548Z"
   },
   {
    "duration": 9,
    "start_time": "2025-09-11T12:59:26.540Z"
   },
   {
    "duration": 318,
    "start_time": "2025-09-11T12:59:29.233Z"
   },
   {
    "duration": 27,
    "start_time": "2025-09-11T12:59:50.382Z"
   },
   {
    "duration": 11,
    "start_time": "2025-09-11T12:59:50.925Z"
   },
   {
    "duration": 10,
    "start_time": "2025-09-11T12:59:51.380Z"
   },
   {
    "duration": 8,
    "start_time": "2025-09-11T12:59:52.308Z"
   },
   {
    "duration": 197,
    "start_time": "2025-09-11T12:59:52.509Z"
   },
   {
    "duration": 15,
    "start_time": "2025-09-11T12:59:54.628Z"
   },
   {
    "duration": 407,
    "start_time": "2025-09-11T12:59:55.332Z"
   },
   {
    "duration": 26,
    "start_time": "2025-09-11T13:05:48.388Z"
   },
   {
    "duration": 29,
    "start_time": "2025-09-11T13:06:46.376Z"
   },
   {
    "duration": 321,
    "start_time": "2025-09-11T13:08:47.227Z"
   },
   {
    "duration": 341,
    "start_time": "2025-09-11T13:08:49.072Z"
   },
   {
    "duration": 43,
    "start_time": "2025-09-11T13:11:24.830Z"
   },
   {
    "duration": 12,
    "start_time": "2025-09-11T13:11:25.436Z"
   },
   {
    "duration": 9,
    "start_time": "2025-09-11T13:11:26.009Z"
   },
   {
    "duration": 6,
    "start_time": "2025-09-11T13:11:26.585Z"
   },
   {
    "duration": 280,
    "start_time": "2025-09-11T13:11:27.320Z"
   },
   {
    "duration": 326,
    "start_time": "2025-09-11T13:11:28.353Z"
   },
   {
    "duration": 16,
    "start_time": "2025-09-11T13:11:29.906Z"
   },
   {
    "duration": 7,
    "start_time": "2025-09-11T13:11:59.666Z"
   },
   {
    "duration": 325,
    "start_time": "2025-09-11T13:12:15.518Z"
   },
   {
    "duration": 34,
    "start_time": "2025-09-11T13:12:16.917Z"
   },
   {
    "duration": 13,
    "start_time": "2025-09-11T13:12:17.561Z"
   },
   {
    "duration": 9,
    "start_time": "2025-09-11T13:12:17.787Z"
   },
   {
    "duration": 8,
    "start_time": "2025-09-11T13:12:18.002Z"
   },
   {
    "duration": 285,
    "start_time": "2025-09-11T13:12:18.209Z"
   },
   {
    "duration": 26,
    "start_time": "2025-09-11T13:13:04.163Z"
   },
   {
    "duration": 15,
    "start_time": "2025-09-11T13:13:38.374Z"
   },
   {
    "duration": 2335,
    "start_time": "2025-09-11T13:13:39.900Z"
   },
   {
    "duration": 4,
    "start_time": "2025-09-11T13:15:09.844Z"
   },
   {
    "duration": 20,
    "start_time": "2025-09-11T13:15:53.012Z"
   },
   {
    "duration": 8,
    "start_time": "2025-09-11T13:16:05.462Z"
   },
   {
    "duration": 5,
    "start_time": "2025-09-11T13:16:31.534Z"
   },
   {
    "duration": 3,
    "start_time": "2025-09-11T13:16:32.197Z"
   },
   {
    "duration": 5,
    "start_time": "2025-09-11T13:16:52.903Z"
   },
   {
    "duration": 18957,
    "start_time": "2025-09-11T13:16:53.524Z"
   },
   {
    "duration": 7,
    "start_time": "2025-09-11T13:17:15.861Z"
   },
   {
    "duration": 4,
    "start_time": "2025-09-11T13:17:54.643Z"
   },
   {
    "duration": 7,
    "start_time": "2025-09-11T13:17:55.529Z"
   },
   {
    "duration": 5,
    "start_time": "2025-09-11T13:18:01.972Z"
   },
   {
    "duration": 4,
    "start_time": "2025-09-11T13:22:32.823Z"
   },
   {
    "duration": 157,
    "start_time": "2025-09-11T13:22:33.646Z"
   },
   {
    "duration": 3152,
    "start_time": "2025-09-11T13:57:20.924Z"
   },
   {
    "duration": 1653,
    "start_time": "2025-09-11T13:57:24.078Z"
   },
   {
    "duration": 56,
    "start_time": "2025-09-11T13:57:25.733Z"
   },
   {
    "duration": 37,
    "start_time": "2025-09-11T13:57:25.791Z"
   },
   {
    "duration": 86,
    "start_time": "2025-09-11T13:57:25.830Z"
   },
   {
    "duration": 44,
    "start_time": "2025-09-11T13:57:25.918Z"
   },
   {
    "duration": 73,
    "start_time": "2025-09-11T13:57:25.964Z"
   },
   {
    "duration": 29,
    "start_time": "2025-09-11T13:57:26.039Z"
   },
   {
    "duration": 31,
    "start_time": "2025-09-11T13:57:26.070Z"
   },
   {
    "duration": 42,
    "start_time": "2025-09-11T13:57:26.104Z"
   },
   {
    "duration": 13,
    "start_time": "2025-09-11T13:57:26.148Z"
   },
   {
    "duration": 10,
    "start_time": "2025-09-11T13:57:26.163Z"
   },
   {
    "duration": 43,
    "start_time": "2025-09-11T13:57:26.175Z"
   },
   {
    "duration": 417,
    "start_time": "2025-09-11T13:57:26.219Z"
   },
   {
    "duration": 19,
    "start_time": "2025-09-11T13:57:26.638Z"
   },
   {
    "duration": 20,
    "start_time": "2025-09-11T13:57:26.659Z"
   },
   {
    "duration": 23,
    "start_time": "2025-09-11T13:57:26.681Z"
   },
   {
    "duration": 9,
    "start_time": "2025-09-11T13:57:26.706Z"
   },
   {
    "duration": 362,
    "start_time": "2025-09-11T13:57:26.716Z"
   },
   {
    "duration": 400,
    "start_time": "2025-09-11T13:57:27.080Z"
   },
   {
    "duration": 18,
    "start_time": "2025-09-11T13:57:27.481Z"
   },
   {
    "duration": 34,
    "start_time": "2025-09-11T13:57:27.500Z"
   },
   {
    "duration": 14,
    "start_time": "2025-09-11T13:57:27.536Z"
   },
   {
    "duration": 371,
    "start_time": "2025-09-11T13:57:27.552Z"
   },
   {
    "duration": 336,
    "start_time": "2025-09-11T13:57:27.924Z"
   },
   {
    "duration": 328,
    "start_time": "2025-09-11T13:57:28.261Z"
   },
   {
    "duration": 231,
    "start_time": "2025-09-11T13:57:28.590Z"
   },
   {
    "duration": 64,
    "start_time": "2025-09-11T13:57:28.826Z"
   },
   {
    "duration": 18,
    "start_time": "2025-09-11T13:57:28.891Z"
   },
   {
    "duration": 42,
    "start_time": "2025-09-11T13:57:28.910Z"
   },
   {
    "duration": 9,
    "start_time": "2025-09-11T13:57:28.953Z"
   },
   {
    "duration": 472,
    "start_time": "2025-09-11T13:57:28.964Z"
   },
   {
    "duration": 429,
    "start_time": "2025-09-11T13:57:29.437Z"
   },
   {
    "duration": 12,
    "start_time": "2025-09-11T13:57:29.935Z"
   },
   {
    "duration": 20,
    "start_time": "2025-09-11T13:57:29.949Z"
   },
   {
    "duration": 285,
    "start_time": "2025-09-11T13:57:29.971Z"
   },
   {
    "duration": 270,
    "start_time": "2025-09-11T13:57:30.258Z"
   },
   {
    "duration": 48,
    "start_time": "2025-09-11T13:57:30.534Z"
   },
   {
    "duration": 41,
    "start_time": "2025-09-11T13:57:30.584Z"
   },
   {
    "duration": 37,
    "start_time": "2025-09-11T13:57:30.627Z"
   },
   {
    "duration": 21,
    "start_time": "2025-09-11T13:57:30.666Z"
   },
   {
    "duration": 374,
    "start_time": "2025-09-11T13:57:30.689Z"
   },
   {
    "duration": 325,
    "start_time": "2025-09-11T13:57:31.134Z"
   },
   {
    "duration": 88,
    "start_time": "2025-09-11T13:57:31.461Z"
   },
   {
    "duration": 11,
    "start_time": "2025-09-11T13:57:31.551Z"
   },
   {
    "duration": 17,
    "start_time": "2025-09-11T13:57:31.564Z"
   },
   {
    "duration": 7,
    "start_time": "2025-09-11T13:57:31.583Z"
   },
   {
    "duration": 344,
    "start_time": "2025-09-11T13:57:31.592Z"
   },
   {
    "duration": 10,
    "start_time": "2025-09-11T13:57:31.938Z"
   },
   {
    "duration": 424,
    "start_time": "2025-09-11T13:57:31.951Z"
   },
   {
    "duration": 28,
    "start_time": "2025-09-11T13:57:32.377Z"
   },
   {
    "duration": 34,
    "start_time": "2025-09-11T13:57:32.407Z"
   },
   {
    "duration": 34,
    "start_time": "2025-09-11T13:57:32.443Z"
   },
   {
    "duration": 66,
    "start_time": "2025-09-11T13:57:32.479Z"
   },
   {
    "duration": 307,
    "start_time": "2025-09-11T13:57:32.547Z"
   },
   {
    "duration": 86,
    "start_time": "2025-09-11T13:57:32.856Z"
   },
   {
    "duration": 448,
    "start_time": "2025-09-11T13:57:32.944Z"
   },
   {
    "duration": 27,
    "start_time": "2025-09-11T13:57:33.394Z"
   },
   {
    "duration": 28,
    "start_time": "2025-09-11T13:57:33.434Z"
   },
   {
    "duration": 381,
    "start_time": "2025-09-11T13:57:33.463Z"
   },
   {
    "duration": 358,
    "start_time": "2025-09-11T13:57:33.845Z"
   },
   {
    "duration": 61,
    "start_time": "2025-09-11T13:57:34.205Z"
   },
   {
    "duration": 24,
    "start_time": "2025-09-11T13:57:34.269Z"
   },
   {
    "duration": 8,
    "start_time": "2025-09-11T13:57:34.294Z"
   },
   {
    "duration": 30,
    "start_time": "2025-09-11T13:57:34.303Z"
   },
   {
    "duration": 326,
    "start_time": "2025-09-11T13:57:34.335Z"
   },
   {
    "duration": 375,
    "start_time": "2025-09-11T13:57:34.663Z"
   },
   {
    "duration": 18,
    "start_time": "2025-09-11T13:57:35.040Z"
   },
   {
    "duration": 159,
    "start_time": "2025-09-11T13:57:35.060Z"
   },
   {
    "duration": 435,
    "start_time": "2025-09-11T13:57:35.221Z"
   },
   {
    "duration": 33,
    "start_time": "2025-09-11T13:57:35.657Z"
   },
   {
    "duration": 12,
    "start_time": "2025-09-11T13:57:35.692Z"
   },
   {
    "duration": 10,
    "start_time": "2025-09-11T13:57:35.734Z"
   },
   {
    "duration": 25,
    "start_time": "2025-09-11T13:57:35.746Z"
   },
   {
    "duration": 368,
    "start_time": "2025-09-11T13:57:35.773Z"
   },
   {
    "duration": 95,
    "start_time": "2025-09-11T13:57:36.143Z"
   },
   {
    "duration": 85,
    "start_time": "2025-09-11T13:57:36.240Z"
   },
   {
    "duration": 42,
    "start_time": "2025-09-11T13:57:36.327Z"
   },
   {
    "duration": 2440,
    "start_time": "2025-09-11T13:57:36.371Z"
   },
   {
    "duration": 1326,
    "start_time": "2025-09-11T13:57:38.813Z"
   },
   {
    "duration": 4,
    "start_time": "2025-09-11T13:57:40.141Z"
   },
   {
    "duration": 1136,
    "start_time": "2025-09-11T13:57:40.152Z"
   },
   {
    "duration": 22,
    "start_time": "2025-09-11T13:57:41.290Z"
   },
   {
    "duration": 28,
    "start_time": "2025-09-11T13:57:41.313Z"
   },
   {
    "duration": 29,
    "start_time": "2025-09-11T13:57:41.343Z"
   },
   {
    "duration": 31,
    "start_time": "2025-09-11T13:57:41.373Z"
   },
   {
    "duration": 6,
    "start_time": "2025-09-11T13:57:41.406Z"
   },
   {
    "duration": 18455,
    "start_time": "2025-09-11T13:57:41.414Z"
   },
   {
    "duration": 7,
    "start_time": "2025-09-11T13:57:59.870Z"
   },
   {
    "duration": 27,
    "start_time": "2025-09-11T13:57:59.879Z"
   },
   {
    "duration": 43,
    "start_time": "2025-09-11T13:57:59.908Z"
   },
   {
    "duration": 4,
    "start_time": "2025-09-11T13:57:59.953Z"
   },
   {
    "duration": 4,
    "start_time": "2025-09-11T13:57:59.959Z"
   },
   {
    "duration": 182,
    "start_time": "2025-09-11T13:57:59.965Z"
   },
   {
    "duration": 402,
    "start_time": "2025-09-11T14:03:49.381Z"
   },
   {
    "duration": 3,
    "start_time": "2025-09-11T14:03:58.467Z"
   },
   {
    "duration": 254,
    "start_time": "2025-09-11T14:04:02.308Z"
   },
   {
    "duration": 11402,
    "start_time": "2025-09-11T14:05:29.733Z"
   },
   {
    "duration": 6,
    "start_time": "2025-09-11T14:06:24.615Z"
   },
   {
    "duration": 52781,
    "start_time": "2025-09-11T14:06:50.848Z"
   },
   {
    "duration": 3,
    "start_time": "2025-09-11T14:08:12.767Z"
   },
   {
    "duration": 6,
    "start_time": "2025-09-11T14:08:45.312Z"
   },
   {
    "duration": 2604,
    "start_time": "2025-09-11T14:09:10.415Z"
   },
   {
    "duration": 5,
    "start_time": "2025-09-11T14:09:13.022Z"
   },
   {
    "duration": 66,
    "start_time": "2025-09-11T14:09:13.029Z"
   },
   {
    "duration": 38,
    "start_time": "2025-09-11T14:09:13.098Z"
   },
   {
    "duration": 110,
    "start_time": "2025-09-11T14:09:13.138Z"
   },
   {
    "duration": 76,
    "start_time": "2025-09-11T14:09:13.250Z"
   },
   {
    "duration": 77,
    "start_time": "2025-09-11T14:09:13.328Z"
   },
   {
    "duration": 30,
    "start_time": "2025-09-11T14:09:13.407Z"
   },
   {
    "duration": 30,
    "start_time": "2025-09-11T14:09:13.438Z"
   },
   {
    "duration": 42,
    "start_time": "2025-09-11T14:09:13.471Z"
   },
   {
    "duration": 23,
    "start_time": "2025-09-11T14:09:13.515Z"
   },
   {
    "duration": 11,
    "start_time": "2025-09-11T14:09:13.539Z"
   },
   {
    "duration": 14,
    "start_time": "2025-09-11T14:09:13.552Z"
   },
   {
    "duration": 393,
    "start_time": "2025-09-11T14:09:13.568Z"
   },
   {
    "duration": 89,
    "start_time": "2025-09-11T14:09:13.963Z"
   },
   {
    "duration": 25,
    "start_time": "2025-09-11T14:09:14.054Z"
   },
   {
    "duration": 35,
    "start_time": "2025-09-11T14:09:14.081Z"
   },
   {
    "duration": 23,
    "start_time": "2025-09-11T14:09:14.118Z"
   },
   {
    "duration": 362,
    "start_time": "2025-09-11T14:09:14.143Z"
   },
   {
    "duration": 440,
    "start_time": "2025-09-11T14:09:14.507Z"
   },
   {
    "duration": 17,
    "start_time": "2025-09-11T14:09:14.949Z"
   },
   {
    "duration": 38,
    "start_time": "2025-09-11T14:09:14.968Z"
   },
   {
    "duration": 14,
    "start_time": "2025-09-11T14:09:15.007Z"
   },
   {
    "duration": 455,
    "start_time": "2025-09-11T14:09:15.023Z"
   },
   {
    "duration": 322,
    "start_time": "2025-09-11T14:09:15.480Z"
   },
   {
    "duration": 315,
    "start_time": "2025-09-11T14:09:15.803Z"
   },
   {
    "duration": 238,
    "start_time": "2025-09-11T14:09:16.119Z"
   },
   {
    "duration": 72,
    "start_time": "2025-09-11T14:09:16.363Z"
   },
   {
    "duration": 13,
    "start_time": "2025-09-11T14:09:16.438Z"
   },
   {
    "duration": 21,
    "start_time": "2025-09-11T14:09:16.453Z"
   },
   {
    "duration": 10,
    "start_time": "2025-09-11T14:09:16.476Z"
   },
   {
    "duration": 452,
    "start_time": "2025-09-11T14:09:16.488Z"
   },
   {
    "duration": 500,
    "start_time": "2025-09-11T14:09:16.942Z"
   },
   {
    "duration": 11,
    "start_time": "2025-09-11T14:09:17.444Z"
   },
   {
    "duration": 24,
    "start_time": "2025-09-11T14:09:17.457Z"
   },
   {
    "duration": 297,
    "start_time": "2025-09-11T14:09:17.482Z"
   },
   {
    "duration": 295,
    "start_time": "2025-09-11T14:09:17.780Z"
   },
   {
    "duration": 58,
    "start_time": "2025-09-11T14:09:18.076Z"
   },
   {
    "duration": 14,
    "start_time": "2025-09-11T14:09:18.136Z"
   },
   {
    "duration": 10,
    "start_time": "2025-09-11T14:09:18.151Z"
   },
   {
    "duration": 66,
    "start_time": "2025-09-11T14:09:18.163Z"
   },
   {
    "duration": 410,
    "start_time": "2025-09-11T14:09:18.231Z"
   },
   {
    "duration": 319,
    "start_time": "2025-09-11T14:09:18.643Z"
   },
   {
    "duration": 15,
    "start_time": "2025-09-11T14:09:19.034Z"
   },
   {
    "duration": 11,
    "start_time": "2025-09-11T14:09:19.051Z"
   },
   {
    "duration": 29,
    "start_time": "2025-09-11T14:09:19.064Z"
   },
   {
    "duration": 11,
    "start_time": "2025-09-11T14:09:19.095Z"
   },
   {
    "duration": 351,
    "start_time": "2025-09-11T14:09:19.108Z"
   },
   {
    "duration": 76,
    "start_time": "2025-09-11T14:09:19.461Z"
   },
   {
    "duration": 410,
    "start_time": "2025-09-11T14:09:19.539Z"
   },
   {
    "duration": 27,
    "start_time": "2025-09-11T14:09:19.951Z"
   },
   {
    "duration": 32,
    "start_time": "2025-09-11T14:09:19.980Z"
   },
   {
    "duration": 34,
    "start_time": "2025-09-11T14:09:20.013Z"
   },
   {
    "duration": 18,
    "start_time": "2025-09-11T14:09:20.049Z"
   },
   {
    "duration": 370,
    "start_time": "2025-09-11T14:09:20.069Z"
   },
   {
    "duration": 96,
    "start_time": "2025-09-11T14:09:20.441Z"
   },
   {
    "duration": 450,
    "start_time": "2025-09-11T14:09:20.539Z"
   },
   {
    "duration": 25,
    "start_time": "2025-09-11T14:09:20.991Z"
   },
   {
    "duration": 41,
    "start_time": "2025-09-11T14:09:21.017Z"
   },
   {
    "duration": 350,
    "start_time": "2025-09-11T14:09:21.059Z"
   },
   {
    "duration": 349,
    "start_time": "2025-09-11T14:09:21.411Z"
   },
   {
    "duration": 38,
    "start_time": "2025-09-11T14:09:21.762Z"
   },
   {
    "duration": 11,
    "start_time": "2025-09-11T14:09:21.802Z"
   },
   {
    "duration": 30,
    "start_time": "2025-09-11T14:09:21.814Z"
   },
   {
    "duration": 18,
    "start_time": "2025-09-11T14:09:21.847Z"
   },
   {
    "duration": 291,
    "start_time": "2025-09-11T14:09:21.867Z"
   },
   {
    "duration": 380,
    "start_time": "2025-09-11T14:09:22.160Z"
   },
   {
    "duration": 19,
    "start_time": "2025-09-11T14:09:22.543Z"
   },
   {
    "duration": 7,
    "start_time": "2025-09-11T14:09:22.635Z"
   },
   {
    "duration": 343,
    "start_time": "2025-09-11T14:09:22.644Z"
   },
   {
    "duration": 29,
    "start_time": "2025-09-11T14:09:22.989Z"
   },
   {
    "duration": 12,
    "start_time": "2025-09-11T14:09:23.035Z"
   },
   {
    "duration": 11,
    "start_time": "2025-09-11T14:09:23.048Z"
   },
   {
    "duration": 9,
    "start_time": "2025-09-11T14:09:23.060Z"
   },
   {
    "duration": 374,
    "start_time": "2025-09-11T14:09:23.071Z"
   },
   {
    "duration": 94,
    "start_time": "2025-09-11T14:09:23.447Z"
   },
   {
    "duration": 17,
    "start_time": "2025-09-11T14:09:23.543Z"
   },
   {
    "duration": 15,
    "start_time": "2025-09-11T14:09:23.562Z"
   },
   {
    "duration": 2359,
    "start_time": "2025-09-11T14:09:23.578Z"
   },
   {
    "duration": 1256,
    "start_time": "2025-09-11T14:09:25.938Z"
   },
   {
    "duration": 3,
    "start_time": "2025-09-11T14:09:27.196Z"
   },
   {
    "duration": 1245,
    "start_time": "2025-09-11T14:09:27.205Z"
   },
   {
    "duration": 19,
    "start_time": "2025-09-11T14:09:28.452Z"
   },
   {
    "duration": 14,
    "start_time": "2025-09-11T14:09:28.473Z"
   },
   {
    "duration": 12,
    "start_time": "2025-09-11T14:09:28.489Z"
   },
   {
    "duration": 5,
    "start_time": "2025-09-11T14:09:28.503Z"
   },
   {
    "duration": 12,
    "start_time": "2025-09-11T14:09:28.510Z"
   },
   {
    "duration": 429,
    "start_time": "2025-09-11T14:09:28.524Z"
   },
   {
    "duration": 13385,
    "start_time": "2025-09-11T14:09:28.954Z"
   },
   {
    "duration": 49157,
    "start_time": "2025-09-11T14:09:42.340Z"
   },
   {
    "duration": 5,
    "start_time": "2025-09-11T14:10:31.500Z"
   },
   {
    "duration": 30,
    "start_time": "2025-09-11T14:10:31.508Z"
   },
   {
    "duration": 20,
    "start_time": "2025-09-11T14:10:31.540Z"
   },
   {
    "duration": 65,
    "start_time": "2025-09-11T14:10:31.563Z"
   },
   {
    "duration": 29,
    "start_time": "2025-09-11T14:10:31.630Z"
   },
   {
    "duration": 41,
    "start_time": "2025-09-11T14:10:31.660Z"
   },
   {
    "duration": 196,
    "start_time": "2025-09-11T14:10:31.703Z"
   },
   {
    "duration": 3243,
    "start_time": "2025-09-11T19:34:24.927Z"
   },
   {
    "duration": 3050,
    "start_time": "2025-09-11T19:34:28.173Z"
   },
   {
    "duration": 68,
    "start_time": "2025-09-11T19:34:31.711Z"
   },
   {
    "duration": 34,
    "start_time": "2025-09-11T19:34:34.001Z"
   },
   {
    "duration": 51,
    "start_time": "2025-09-11T19:34:35.036Z"
   },
   {
    "duration": 42,
    "start_time": "2025-09-11T19:34:35.565Z"
   },
   {
    "duration": 37,
    "start_time": "2025-09-11T19:34:38.547Z"
   },
   {
    "duration": 27,
    "start_time": "2025-09-11T19:34:39.544Z"
   },
   {
    "duration": 31,
    "start_time": "2025-09-11T19:34:40.764Z"
   },
   {
    "duration": 44,
    "start_time": "2025-09-11T19:34:43.646Z"
   },
   {
    "duration": 14,
    "start_time": "2025-09-11T19:34:44.164Z"
   },
   {
    "duration": 12,
    "start_time": "2025-09-11T19:34:44.653Z"
   },
   {
    "duration": 16,
    "start_time": "2025-09-11T19:34:44.896Z"
   },
   {
    "duration": 374,
    "start_time": "2025-09-11T19:34:45.288Z"
   },
   {
    "duration": 18,
    "start_time": "2025-09-11T19:34:47.468Z"
   },
   {
    "duration": 14,
    "start_time": "2025-09-11T19:34:48.795Z"
   },
   {
    "duration": 20,
    "start_time": "2025-09-11T19:34:49.029Z"
   },
   {
    "duration": 7,
    "start_time": "2025-09-11T19:34:49.901Z"
   },
   {
    "duration": 376,
    "start_time": "2025-09-11T19:34:51.558Z"
   },
   {
    "duration": 434,
    "start_time": "2025-09-11T19:34:51.940Z"
   },
   {
    "duration": 31,
    "start_time": "2025-09-11T19:34:53.752Z"
   },
   {
    "duration": 19,
    "start_time": "2025-09-11T19:34:55.659Z"
   },
   {
    "duration": 18,
    "start_time": "2025-09-11T19:34:56.381Z"
   },
   {
    "duration": 353,
    "start_time": "2025-09-11T19:34:58.356Z"
   },
   {
    "duration": 314,
    "start_time": "2025-09-11T19:34:58.987Z"
   },
   {
    "duration": 307,
    "start_time": "2025-09-11T19:34:59.589Z"
   },
   {
    "duration": 218,
    "start_time": "2025-09-11T19:35:00.421Z"
   },
   {
    "duration": 65,
    "start_time": "2025-09-11T19:35:01.556Z"
   },
   {
    "duration": 12,
    "start_time": "2025-09-11T19:35:02.460Z"
   },
   {
    "duration": 8,
    "start_time": "2025-09-11T19:35:03.076Z"
   },
   {
    "duration": 11,
    "start_time": "2025-09-11T19:35:03.733Z"
   },
   {
    "duration": 414,
    "start_time": "2025-09-11T19:35:04.049Z"
   },
   {
    "duration": 383,
    "start_time": "2025-09-11T19:35:04.566Z"
   },
   {
    "duration": 16,
    "start_time": "2025-09-11T19:35:06.148Z"
   },
   {
    "duration": 8,
    "start_time": "2025-09-11T19:35:07.589Z"
   },
   {
    "duration": 419,
    "start_time": "2025-09-11T19:35:10.387Z"
   },
   {
    "duration": 271,
    "start_time": "2025-09-11T19:35:11.855Z"
   },
   {
    "duration": 44,
    "start_time": "2025-09-11T19:35:18.864Z"
   },
   {
    "duration": 15,
    "start_time": "2025-09-11T19:35:19.346Z"
   },
   {
    "duration": 10,
    "start_time": "2025-09-11T19:35:19.854Z"
   },
   {
    "duration": 9,
    "start_time": "2025-09-11T19:35:20.397Z"
   },
   {
    "duration": 388,
    "start_time": "2025-09-11T19:35:20.877Z"
   },
   {
    "duration": 414,
    "start_time": "2025-09-11T19:35:21.829Z"
   },
   {
    "duration": 13,
    "start_time": "2025-09-11T19:35:25.853Z"
   },
   {
    "duration": 17,
    "start_time": "2025-09-11T19:35:26.430Z"
   },
   {
    "duration": 7,
    "start_time": "2025-09-11T19:35:26.996Z"
   },
   {
    "duration": 6,
    "start_time": "2025-09-11T19:35:27.518Z"
   },
   {
    "duration": 181,
    "start_time": "2025-09-11T19:35:27.861Z"
   },
   {
    "duration": 8,
    "start_time": "2025-09-11T19:35:28.729Z"
   },
   {
    "duration": 318,
    "start_time": "2025-09-11T19:35:29.310Z"
   },
   {
    "duration": 26,
    "start_time": "2025-09-11T19:35:31.077Z"
   },
   {
    "duration": 12,
    "start_time": "2025-09-11T19:35:31.798Z"
   },
   {
    "duration": 9,
    "start_time": "2025-09-11T19:35:32.020Z"
   },
   {
    "duration": 8,
    "start_time": "2025-09-11T19:35:32.224Z"
   },
   {
    "duration": 283,
    "start_time": "2025-09-11T19:35:32.589Z"
   },
   {
    "duration": 23,
    "start_time": "2025-09-11T19:35:38.148Z"
   },
   {
    "duration": 421,
    "start_time": "2025-09-11T19:35:38.685Z"
   },
   {
    "duration": 29,
    "start_time": "2025-09-11T19:35:39.223Z"
   },
   {
    "duration": 24,
    "start_time": "2025-09-11T19:35:40.704Z"
   },
   {
    "duration": 333,
    "start_time": "2025-09-11T19:35:41.919Z"
   },
   {
    "duration": 328,
    "start_time": "2025-09-11T19:35:42.820Z"
   },
   {
    "duration": 46,
    "start_time": "2025-09-11T19:35:46.364Z"
   },
   {
    "duration": 11,
    "start_time": "2025-09-11T19:35:47.096Z"
   },
   {
    "duration": 8,
    "start_time": "2025-09-11T19:35:47.621Z"
   },
   {
    "duration": 9,
    "start_time": "2025-09-11T19:35:47.837Z"
   },
   {
    "duration": 378,
    "start_time": "2025-09-11T19:35:48.478Z"
   },
   {
    "duration": 349,
    "start_time": "2025-09-11T19:35:49.021Z"
   },
   {
    "duration": 21,
    "start_time": "2025-09-11T19:35:50.429Z"
   },
   {
    "duration": 7,
    "start_time": "2025-09-11T19:35:52.260Z"
   },
   {
    "duration": 341,
    "start_time": "2025-09-11T19:35:53.469Z"
   },
   {
    "duration": 35,
    "start_time": "2025-09-11T19:35:55.437Z"
   },
   {
    "duration": 12,
    "start_time": "2025-09-11T19:35:56.104Z"
   },
   {
    "duration": 9,
    "start_time": "2025-09-11T19:35:56.893Z"
   },
   {
    "duration": 9,
    "start_time": "2025-09-11T19:35:57.415Z"
   },
   {
    "duration": 363,
    "start_time": "2025-09-11T19:35:57.892Z"
   },
   {
    "duration": 29,
    "start_time": "2025-09-11T19:36:02.538Z"
   },
   {
    "duration": 15,
    "start_time": "2025-09-11T19:36:12.431Z"
   },
   {
    "duration": 5,
    "start_time": "2025-09-11T19:36:20.509Z"
   },
   {
    "duration": 22,
    "start_time": "2025-09-11T19:36:35.944Z"
   },
   {
    "duration": 7,
    "start_time": "2025-09-11T19:36:37.053Z"
   },
   {
    "duration": 3,
    "start_time": "2025-09-11T19:36:38.522Z"
   },
   {
    "duration": 4,
    "start_time": "2025-09-11T19:36:38.797Z"
   },
   {
    "duration": 3,
    "start_time": "2025-09-11T19:37:44.251Z"
   },
   {
    "duration": 247,
    "start_time": "2025-09-11T19:37:45.405Z"
   }
  ],
  "kernelspec": {
   "display_name": "Python 3 (ipykernel)",
   "language": "python",
   "name": "python3"
  },
  "language_info": {
   "codemirror_mode": {
    "name": "ipython",
    "version": 3
   },
   "file_extension": ".py",
   "mimetype": "text/x-python",
   "name": "python",
   "nbconvert_exporter": "python",
   "pygments_lexer": "ipython3",
   "version": "3.9.5"
  },
  "toc": {
   "base_numbering": 1,
   "nav_menu": {},
   "number_sections": true,
   "sideBar": true,
   "skip_h1_title": true,
   "title_cell": "Table of Contents",
   "title_sidebar": "Contents",
   "toc_cell": false,
   "toc_position": {},
   "toc_section_display": true,
   "toc_window_display": false
  }
 },
 "nbformat": 4,
 "nbformat_minor": 5
}
