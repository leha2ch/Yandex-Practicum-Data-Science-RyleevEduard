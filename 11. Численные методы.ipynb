{
 "cells": [
  {
   "cell_type": "markdown",
   "id": "f7424e92",
   "metadata": {},
   "source": [
    "# Определение стоимости автомобилей"
   ]
  },
  {
   "cell_type": "markdown",
   "id": "06f5f07e",
   "metadata": {},
   "source": [
    "**Описание проекта**\n",
    "\n",
    "Сервис по продаже автомобилей с пробегом «Не бит, не крашен» разрабатывает приложение для привлечения новых клиентов. В нём можно быстро узнать рыночную стоимость своего автомобиля. В нашем распоряжении данные о технических характеристиках, комплектации и ценах других автомобилей. Нам нужно построить модель для определения стоимости. \n",
    "\n",
    "Заказчику важны:\n",
    "\n",
    "- качество предсказания;\n",
    "- скорость предсказания;\n",
    "- время обучения.\n",
    "\n",
    "**Описание данных**\n",
    "\n",
    "Данные находятся в файле [`/datasets/autos.csv`](https://code.s3.yandex.net/datasets/autos.csv). \n",
    "\n",
    "**Признаки**\n",
    "\n",
    "+ `DateCrawled` — дата скачивания анкеты из базы\n",
    "+ `VehicleType` — тип автомобильного кузова\n",
    "+ `RegistrationYear` — год регистрации автомобиля\n",
    "+ `Gearbox` — тип коробки передач\n",
    "+ `Power` — мощность (л. с.)\n",
    "+ `Model` — модель автомобиля\n",
    "+ `Kilometer` — пробег (км)\n",
    "+ `RegistrationMonth` — месяц регистрации автомобиля\n",
    "+ `FuelType` — тип топлива\n",
    "+ `Brand` — марка автомобиля\n",
    "+ `Repaired` — была машина в ремонте или нет\n",
    "+ `DateCreated` — дата создания анкеты\n",
    "+ `NumberOfPictures` — количество фотографий автомобиля\n",
    "+ `PostalCode` — почтовый индекс владельца анкеты (пользователя)\n",
    "+ `LastSeen` — дата последней активности пользователя\n",
    "\n",
    "**Целевой признак**\n",
    "+ `Price` — цена (евро)\n",
    "\n",
    "**План работы**\n",
    "\n",
    "1. Подготовка данных\n",
    "    + Импорт библиотек\n",
    "    + Загрузка данных из файла: /datasets/autos.csv.\n",
    "    + Предобработка данных. \n",
    "        + Удаление неинформативных признаков\n",
    "        + Заполненение пропущенных значений\n",
    "        + Обработка аномалий в столбцах    \n",
    "2. Подготовка выборки для обучения моделей\n",
    "3. Обучение разных модели, одна из которых — LightGBM, как минимум одна — не бустинг. Для каждой модели подберём разные гиперпараметры\n",
    "4. Анализ времени обучения, времени предсказания и качество моделей\n",
    "5. Опираясь на критерии заказчика, выберем лучшую модель, проверим её качество на тестовой выборке"
   ]
  },
  {
   "cell_type": "markdown",
   "id": "42741ba2",
   "metadata": {},
   "source": [
    "## Подготовка данных"
   ]
  },
  {
   "cell_type": "markdown",
   "id": "43f62f18",
   "metadata": {},
   "source": [
    "### Установка пакетов"
   ]
  },
  {
   "cell_type": "code",
   "execution_count": 1,
   "id": "aad4c83c",
   "metadata": {},
   "outputs": [],
   "source": [
    "!pip install -U scikit-learn -q"
   ]
  },
  {
   "cell_type": "markdown",
   "id": "09b8f757",
   "metadata": {},
   "source": [
    "### Импорт библиотек"
   ]
  },
  {
   "cell_type": "code",
   "execution_count": 2,
   "id": "c9d842df",
   "metadata": {},
   "outputs": [],
   "source": [
    "import lightgbm as lgb\n",
    "import numpy as np\n",
    "import pandas  as pd\n",
    "pd.DataFrame.iteritems = pd.DataFrame.items\n",
    "pd.set_option('display.max_columns', None)\n",
    "pd.set_option('display.max_colwidth', None)\n",
    "import matplotlib.pyplot as plt\n",
    "import re\n",
    "import seaborn as sns\n",
    "import time\n",
    "import warnings\n",
    "warnings.simplefilter(action='ignore', category=FutureWarning)\n",
    "warnings.filterwarnings(\"ignore\")\n",
    "\n",
    "\n",
    "from catboost import CatBoostRegressor\n",
    "from lightgbm import LGBMRegressor\n",
    "from sklearn.linear_model import LinearRegression, Ridge\n",
    "\n",
    "from sklearn.compose import ColumnTransformer\n",
    "from sklearn.impute import SimpleImputer\n",
    "from sklearn.model_selection import (train_test_split, \n",
    "                                     GridSearchCV, \n",
    "                                     RandomizedSearchCV\n",
    "                                    )\n",
    "from sklearn.metrics import mean_squared_error\n",
    "from sklearn.pipeline import Pipeline\n",
    "from sklearn.preprocessing import (MinMaxScaler,\n",
    "                                   OneHotEncoder,\n",
    "                                   OrdinalEncoder,\n",
    "                                   RobustScaler,\n",
    "                                   StandardScaler\n",
    "                                  )\n",
    "\n",
    "try:\n",
    "    import phik\n",
    "except:\n",
    "    !pip install phik -q\n",
    "    import phik\n",
    "    \n",
    "try:\n",
    "    from category_encoders import BinaryEncoder\n",
    "except:\n",
    "    !pip install category_encoders -q\n",
    "    from category_encoders import BinaryEncoder"
   ]
  },
  {
   "cell_type": "markdown",
   "id": "0fa09d77",
   "metadata": {},
   "source": [
    "### Загрузка данных"
   ]
  },
  {
   "cell_type": "code",
   "execution_count": 3,
   "id": "932b6bb0",
   "metadata": {},
   "outputs": [
    {
     "data": {
      "text/html": [
       "<div>\n",
       "<style scoped>\n",
       "    .dataframe tbody tr th:only-of-type {\n",
       "        vertical-align: middle;\n",
       "    }\n",
       "\n",
       "    .dataframe tbody tr th {\n",
       "        vertical-align: top;\n",
       "    }\n",
       "\n",
       "    .dataframe thead th {\n",
       "        text-align: right;\n",
       "    }\n",
       "</style>\n",
       "<table border=\"1\" class=\"dataframe\">\n",
       "  <thead>\n",
       "    <tr style=\"text-align: right;\">\n",
       "      <th></th>\n",
       "      <th>DateCrawled</th>\n",
       "      <th>Price</th>\n",
       "      <th>VehicleType</th>\n",
       "      <th>RegistrationYear</th>\n",
       "      <th>Gearbox</th>\n",
       "      <th>Power</th>\n",
       "      <th>Model</th>\n",
       "      <th>Kilometer</th>\n",
       "      <th>RegistrationMonth</th>\n",
       "      <th>FuelType</th>\n",
       "      <th>Brand</th>\n",
       "      <th>Repaired</th>\n",
       "      <th>DateCreated</th>\n",
       "      <th>NumberOfPictures</th>\n",
       "      <th>PostalCode</th>\n",
       "      <th>LastSeen</th>\n",
       "    </tr>\n",
       "  </thead>\n",
       "  <tbody>\n",
       "    <tr>\n",
       "      <th>0</th>\n",
       "      <td>2016-03-24 11:52:17</td>\n",
       "      <td>480</td>\n",
       "      <td>NaN</td>\n",
       "      <td>1993</td>\n",
       "      <td>manual</td>\n",
       "      <td>0</td>\n",
       "      <td>golf</td>\n",
       "      <td>150000</td>\n",
       "      <td>0</td>\n",
       "      <td>petrol</td>\n",
       "      <td>volkswagen</td>\n",
       "      <td>NaN</td>\n",
       "      <td>2016-03-24</td>\n",
       "      <td>0</td>\n",
       "      <td>70435</td>\n",
       "      <td>2016-04-07 03:16:57</td>\n",
       "    </tr>\n",
       "    <tr>\n",
       "      <th>1</th>\n",
       "      <td>2016-03-24 10:58:45</td>\n",
       "      <td>18300</td>\n",
       "      <td>coupe</td>\n",
       "      <td>2011</td>\n",
       "      <td>manual</td>\n",
       "      <td>190</td>\n",
       "      <td>NaN</td>\n",
       "      <td>125000</td>\n",
       "      <td>5</td>\n",
       "      <td>gasoline</td>\n",
       "      <td>audi</td>\n",
       "      <td>yes</td>\n",
       "      <td>2016-03-24</td>\n",
       "      <td>0</td>\n",
       "      <td>66954</td>\n",
       "      <td>2016-04-07 01:46:50</td>\n",
       "    </tr>\n",
       "    <tr>\n",
       "      <th>2</th>\n",
       "      <td>2016-03-14 12:52:21</td>\n",
       "      <td>9800</td>\n",
       "      <td>suv</td>\n",
       "      <td>2004</td>\n",
       "      <td>auto</td>\n",
       "      <td>163</td>\n",
       "      <td>grand</td>\n",
       "      <td>125000</td>\n",
       "      <td>8</td>\n",
       "      <td>gasoline</td>\n",
       "      <td>jeep</td>\n",
       "      <td>NaN</td>\n",
       "      <td>2016-03-14</td>\n",
       "      <td>0</td>\n",
       "      <td>90480</td>\n",
       "      <td>2016-04-05 12:47:46</td>\n",
       "    </tr>\n",
       "    <tr>\n",
       "      <th>3</th>\n",
       "      <td>2016-03-17 16:54:04</td>\n",
       "      <td>1500</td>\n",
       "      <td>small</td>\n",
       "      <td>2001</td>\n",
       "      <td>manual</td>\n",
       "      <td>75</td>\n",
       "      <td>golf</td>\n",
       "      <td>150000</td>\n",
       "      <td>6</td>\n",
       "      <td>petrol</td>\n",
       "      <td>volkswagen</td>\n",
       "      <td>no</td>\n",
       "      <td>2016-03-17</td>\n",
       "      <td>0</td>\n",
       "      <td>91074</td>\n",
       "      <td>2016-03-17 17:40:17</td>\n",
       "    </tr>\n",
       "    <tr>\n",
       "      <th>4</th>\n",
       "      <td>2016-03-31 17:25:20</td>\n",
       "      <td>3600</td>\n",
       "      <td>small</td>\n",
       "      <td>2008</td>\n",
       "      <td>manual</td>\n",
       "      <td>69</td>\n",
       "      <td>fabia</td>\n",
       "      <td>90000</td>\n",
       "      <td>7</td>\n",
       "      <td>gasoline</td>\n",
       "      <td>skoda</td>\n",
       "      <td>no</td>\n",
       "      <td>2016-03-31</td>\n",
       "      <td>0</td>\n",
       "      <td>60437</td>\n",
       "      <td>2016-04-06 10:17:21</td>\n",
       "    </tr>\n",
       "  </tbody>\n",
       "</table>\n",
       "</div>"
      ],
      "text/plain": [
       "          DateCrawled  Price VehicleType  RegistrationYear Gearbox  Power  \\\n",
       "0 2016-03-24 11:52:17    480         NaN              1993  manual      0   \n",
       "1 2016-03-24 10:58:45  18300       coupe              2011  manual    190   \n",
       "2 2016-03-14 12:52:21   9800         suv              2004    auto    163   \n",
       "3 2016-03-17 16:54:04   1500       small              2001  manual     75   \n",
       "4 2016-03-31 17:25:20   3600       small              2008  manual     69   \n",
       "\n",
       "   Model  Kilometer  RegistrationMonth  FuelType       Brand Repaired  \\\n",
       "0   golf     150000                  0    petrol  volkswagen      NaN   \n",
       "1    NaN     125000                  5  gasoline        audi      yes   \n",
       "2  grand     125000                  8  gasoline        jeep      NaN   \n",
       "3   golf     150000                  6    petrol  volkswagen       no   \n",
       "4  fabia      90000                  7  gasoline       skoda       no   \n",
       "\n",
       "  DateCreated  NumberOfPictures  PostalCode            LastSeen  \n",
       "0  2016-03-24                 0       70435 2016-04-07 03:16:57  \n",
       "1  2016-03-24                 0       66954 2016-04-07 01:46:50  \n",
       "2  2016-03-14                 0       90480 2016-04-05 12:47:46  \n",
       "3  2016-03-17                 0       91074 2016-03-17 17:40:17  \n",
       "4  2016-03-31                 0       60437 2016-04-06 10:17:21  "
      ]
     },
     "execution_count": 3,
     "metadata": {},
     "output_type": "execute_result"
    }
   ],
   "source": [
    "autos = pd.read_csv('/datasets/autos.csv', parse_dates=['DateCrawled', 'DateCreated', 'LastSeen'])\n",
    "autos.head()"
   ]
  },
  {
   "cell_type": "markdown",
   "id": "7075616d",
   "metadata": {},
   "source": [
    "Данные загружены, можно переходить к предобработке."
   ]
  },
  {
   "cell_type": "markdown",
   "id": "0f83f029",
   "metadata": {},
   "source": [
    "### Предобработка данных"
   ]
  },
  {
   "cell_type": "markdown",
   "id": "4c134169",
   "metadata": {},
   "source": [
    "При работе с наборами данных важно привести наименования колонок к единому формату: все буквы должны быть строчными, а вместо пробелов следует использовать символы подчёркивания для улучшения читаемости и стандартизации"
   ]
  },
  {
   "cell_type": "code",
   "execution_count": 4,
   "id": "32cbe163",
   "metadata": {},
   "outputs": [
    {
     "name": "stdout",
     "output_type": "stream",
     "text": [
      "<class 'pandas.core.frame.DataFrame'>\n",
      "RangeIndex: 354369 entries, 0 to 354368\n",
      "Data columns (total 16 columns):\n",
      " #   Column             Non-Null Count   Dtype         \n",
      "---  ------             --------------   -----         \n",
      " 0   DateCrawled        354369 non-null  datetime64[ns]\n",
      " 1   Price              354369 non-null  int64         \n",
      " 2   VehicleType        316879 non-null  object        \n",
      " 3   RegistrationYear   354369 non-null  int64         \n",
      " 4   Gearbox            334536 non-null  object        \n",
      " 5   Power              354369 non-null  int64         \n",
      " 6   Model              334664 non-null  object        \n",
      " 7   Kilometer          354369 non-null  int64         \n",
      " 8   RegistrationMonth  354369 non-null  int64         \n",
      " 9   FuelType           321474 non-null  object        \n",
      " 10  Brand              354369 non-null  object        \n",
      " 11  Repaired           283215 non-null  object        \n",
      " 12  DateCreated        354369 non-null  datetime64[ns]\n",
      " 13  NumberOfPictures   354369 non-null  int64         \n",
      " 14  PostalCode         354369 non-null  int64         \n",
      " 15  LastSeen           354369 non-null  datetime64[ns]\n",
      "dtypes: datetime64[ns](3), int64(7), object(6)\n",
      "memory usage: 43.3+ MB\n"
     ]
    }
   ],
   "source": [
    "autos.info()"
   ]
  },
  {
   "cell_type": "code",
   "execution_count": 5,
   "id": "de38854f",
   "metadata": {},
   "outputs": [
    {
     "data": {
      "text/html": [
       "<div>\n",
       "<style scoped>\n",
       "    .dataframe tbody tr th:only-of-type {\n",
       "        vertical-align: middle;\n",
       "    }\n",
       "\n",
       "    .dataframe tbody tr th {\n",
       "        vertical-align: top;\n",
       "    }\n",
       "\n",
       "    .dataframe thead th {\n",
       "        text-align: right;\n",
       "    }\n",
       "</style>\n",
       "<table border=\"1\" class=\"dataframe\">\n",
       "  <thead>\n",
       "    <tr style=\"text-align: right;\">\n",
       "      <th></th>\n",
       "      <th>date_crawled</th>\n",
       "      <th>price</th>\n",
       "      <th>vehicle_type</th>\n",
       "      <th>registration_year</th>\n",
       "      <th>gearbox</th>\n",
       "      <th>power</th>\n",
       "      <th>model</th>\n",
       "      <th>kilometer</th>\n",
       "      <th>registration_month</th>\n",
       "      <th>fuel_type</th>\n",
       "      <th>brand</th>\n",
       "      <th>repaired</th>\n",
       "      <th>date_created</th>\n",
       "      <th>number_of_pictures</th>\n",
       "      <th>postal_code</th>\n",
       "      <th>last_seen</th>\n",
       "    </tr>\n",
       "  </thead>\n",
       "  <tbody>\n",
       "    <tr>\n",
       "      <th>0</th>\n",
       "      <td>2016-03-24 11:52:17</td>\n",
       "      <td>480</td>\n",
       "      <td>NaN</td>\n",
       "      <td>1993</td>\n",
       "      <td>manual</td>\n",
       "      <td>0</td>\n",
       "      <td>golf</td>\n",
       "      <td>150000</td>\n",
       "      <td>0</td>\n",
       "      <td>petrol</td>\n",
       "      <td>volkswagen</td>\n",
       "      <td>NaN</td>\n",
       "      <td>2016-03-24</td>\n",
       "      <td>0</td>\n",
       "      <td>70435</td>\n",
       "      <td>2016-04-07 03:16:57</td>\n",
       "    </tr>\n",
       "    <tr>\n",
       "      <th>1</th>\n",
       "      <td>2016-03-24 10:58:45</td>\n",
       "      <td>18300</td>\n",
       "      <td>coupe</td>\n",
       "      <td>2011</td>\n",
       "      <td>manual</td>\n",
       "      <td>190</td>\n",
       "      <td>NaN</td>\n",
       "      <td>125000</td>\n",
       "      <td>5</td>\n",
       "      <td>gasoline</td>\n",
       "      <td>audi</td>\n",
       "      <td>yes</td>\n",
       "      <td>2016-03-24</td>\n",
       "      <td>0</td>\n",
       "      <td>66954</td>\n",
       "      <td>2016-04-07 01:46:50</td>\n",
       "    </tr>\n",
       "    <tr>\n",
       "      <th>2</th>\n",
       "      <td>2016-03-14 12:52:21</td>\n",
       "      <td>9800</td>\n",
       "      <td>suv</td>\n",
       "      <td>2004</td>\n",
       "      <td>auto</td>\n",
       "      <td>163</td>\n",
       "      <td>grand</td>\n",
       "      <td>125000</td>\n",
       "      <td>8</td>\n",
       "      <td>gasoline</td>\n",
       "      <td>jeep</td>\n",
       "      <td>NaN</td>\n",
       "      <td>2016-03-14</td>\n",
       "      <td>0</td>\n",
       "      <td>90480</td>\n",
       "      <td>2016-04-05 12:47:46</td>\n",
       "    </tr>\n",
       "    <tr>\n",
       "      <th>3</th>\n",
       "      <td>2016-03-17 16:54:04</td>\n",
       "      <td>1500</td>\n",
       "      <td>small</td>\n",
       "      <td>2001</td>\n",
       "      <td>manual</td>\n",
       "      <td>75</td>\n",
       "      <td>golf</td>\n",
       "      <td>150000</td>\n",
       "      <td>6</td>\n",
       "      <td>petrol</td>\n",
       "      <td>volkswagen</td>\n",
       "      <td>no</td>\n",
       "      <td>2016-03-17</td>\n",
       "      <td>0</td>\n",
       "      <td>91074</td>\n",
       "      <td>2016-03-17 17:40:17</td>\n",
       "    </tr>\n",
       "    <tr>\n",
       "      <th>4</th>\n",
       "      <td>2016-03-31 17:25:20</td>\n",
       "      <td>3600</td>\n",
       "      <td>small</td>\n",
       "      <td>2008</td>\n",
       "      <td>manual</td>\n",
       "      <td>69</td>\n",
       "      <td>fabia</td>\n",
       "      <td>90000</td>\n",
       "      <td>7</td>\n",
       "      <td>gasoline</td>\n",
       "      <td>skoda</td>\n",
       "      <td>no</td>\n",
       "      <td>2016-03-31</td>\n",
       "      <td>0</td>\n",
       "      <td>60437</td>\n",
       "      <td>2016-04-06 10:17:21</td>\n",
       "    </tr>\n",
       "    <tr>\n",
       "      <th>...</th>\n",
       "      <td>...</td>\n",
       "      <td>...</td>\n",
       "      <td>...</td>\n",
       "      <td>...</td>\n",
       "      <td>...</td>\n",
       "      <td>...</td>\n",
       "      <td>...</td>\n",
       "      <td>...</td>\n",
       "      <td>...</td>\n",
       "      <td>...</td>\n",
       "      <td>...</td>\n",
       "      <td>...</td>\n",
       "      <td>...</td>\n",
       "      <td>...</td>\n",
       "      <td>...</td>\n",
       "      <td>...</td>\n",
       "    </tr>\n",
       "    <tr>\n",
       "      <th>354364</th>\n",
       "      <td>2016-03-21 09:50:58</td>\n",
       "      <td>0</td>\n",
       "      <td>NaN</td>\n",
       "      <td>2005</td>\n",
       "      <td>manual</td>\n",
       "      <td>0</td>\n",
       "      <td>colt</td>\n",
       "      <td>150000</td>\n",
       "      <td>7</td>\n",
       "      <td>petrol</td>\n",
       "      <td>mitsubishi</td>\n",
       "      <td>yes</td>\n",
       "      <td>2016-03-21</td>\n",
       "      <td>0</td>\n",
       "      <td>2694</td>\n",
       "      <td>2016-03-21 10:42:49</td>\n",
       "    </tr>\n",
       "    <tr>\n",
       "      <th>354365</th>\n",
       "      <td>2016-03-14 17:48:27</td>\n",
       "      <td>2200</td>\n",
       "      <td>NaN</td>\n",
       "      <td>2005</td>\n",
       "      <td>NaN</td>\n",
       "      <td>0</td>\n",
       "      <td>NaN</td>\n",
       "      <td>20000</td>\n",
       "      <td>1</td>\n",
       "      <td>NaN</td>\n",
       "      <td>sonstige_autos</td>\n",
       "      <td>NaN</td>\n",
       "      <td>2016-03-14</td>\n",
       "      <td>0</td>\n",
       "      <td>39576</td>\n",
       "      <td>2016-04-06 00:46:52</td>\n",
       "    </tr>\n",
       "    <tr>\n",
       "      <th>354366</th>\n",
       "      <td>2016-03-05 19:56:21</td>\n",
       "      <td>1199</td>\n",
       "      <td>convertible</td>\n",
       "      <td>2000</td>\n",
       "      <td>auto</td>\n",
       "      <td>101</td>\n",
       "      <td>fortwo</td>\n",
       "      <td>125000</td>\n",
       "      <td>3</td>\n",
       "      <td>petrol</td>\n",
       "      <td>smart</td>\n",
       "      <td>no</td>\n",
       "      <td>2016-03-05</td>\n",
       "      <td>0</td>\n",
       "      <td>26135</td>\n",
       "      <td>2016-03-11 18:17:12</td>\n",
       "    </tr>\n",
       "    <tr>\n",
       "      <th>354367</th>\n",
       "      <td>2016-03-19 18:57:12</td>\n",
       "      <td>9200</td>\n",
       "      <td>bus</td>\n",
       "      <td>1996</td>\n",
       "      <td>manual</td>\n",
       "      <td>102</td>\n",
       "      <td>transporter</td>\n",
       "      <td>150000</td>\n",
       "      <td>3</td>\n",
       "      <td>gasoline</td>\n",
       "      <td>volkswagen</td>\n",
       "      <td>no</td>\n",
       "      <td>2016-03-19</td>\n",
       "      <td>0</td>\n",
       "      <td>87439</td>\n",
       "      <td>2016-04-07 07:15:26</td>\n",
       "    </tr>\n",
       "    <tr>\n",
       "      <th>354368</th>\n",
       "      <td>2016-03-20 19:41:08</td>\n",
       "      <td>3400</td>\n",
       "      <td>wagon</td>\n",
       "      <td>2002</td>\n",
       "      <td>manual</td>\n",
       "      <td>100</td>\n",
       "      <td>golf</td>\n",
       "      <td>150000</td>\n",
       "      <td>6</td>\n",
       "      <td>gasoline</td>\n",
       "      <td>volkswagen</td>\n",
       "      <td>NaN</td>\n",
       "      <td>2016-03-20</td>\n",
       "      <td>0</td>\n",
       "      <td>40764</td>\n",
       "      <td>2016-03-24 12:45:21</td>\n",
       "    </tr>\n",
       "  </tbody>\n",
       "</table>\n",
       "<p>354369 rows × 16 columns</p>\n",
       "</div>"
      ],
      "text/plain": [
       "              date_crawled  price vehicle_type  registration_year gearbox  \\\n",
       "0      2016-03-24 11:52:17    480          NaN               1993  manual   \n",
       "1      2016-03-24 10:58:45  18300        coupe               2011  manual   \n",
       "2      2016-03-14 12:52:21   9800          suv               2004    auto   \n",
       "3      2016-03-17 16:54:04   1500        small               2001  manual   \n",
       "4      2016-03-31 17:25:20   3600        small               2008  manual   \n",
       "...                    ...    ...          ...                ...     ...   \n",
       "354364 2016-03-21 09:50:58      0          NaN               2005  manual   \n",
       "354365 2016-03-14 17:48:27   2200          NaN               2005     NaN   \n",
       "354366 2016-03-05 19:56:21   1199  convertible               2000    auto   \n",
       "354367 2016-03-19 18:57:12   9200          bus               1996  manual   \n",
       "354368 2016-03-20 19:41:08   3400        wagon               2002  manual   \n",
       "\n",
       "        power        model  kilometer  registration_month fuel_type  \\\n",
       "0           0         golf     150000                   0    petrol   \n",
       "1         190          NaN     125000                   5  gasoline   \n",
       "2         163        grand     125000                   8  gasoline   \n",
       "3          75         golf     150000                   6    petrol   \n",
       "4          69        fabia      90000                   7  gasoline   \n",
       "...       ...          ...        ...                 ...       ...   \n",
       "354364      0         colt     150000                   7    petrol   \n",
       "354365      0          NaN      20000                   1       NaN   \n",
       "354366    101       fortwo     125000                   3    petrol   \n",
       "354367    102  transporter     150000                   3  gasoline   \n",
       "354368    100         golf     150000                   6  gasoline   \n",
       "\n",
       "                 brand repaired date_created  number_of_pictures  postal_code  \\\n",
       "0           volkswagen      NaN   2016-03-24                   0        70435   \n",
       "1                 audi      yes   2016-03-24                   0        66954   \n",
       "2                 jeep      NaN   2016-03-14                   0        90480   \n",
       "3           volkswagen       no   2016-03-17                   0        91074   \n",
       "4                skoda       no   2016-03-31                   0        60437   \n",
       "...                ...      ...          ...                 ...          ...   \n",
       "354364      mitsubishi      yes   2016-03-21                   0         2694   \n",
       "354365  sonstige_autos      NaN   2016-03-14                   0        39576   \n",
       "354366           smart       no   2016-03-05                   0        26135   \n",
       "354367      volkswagen       no   2016-03-19                   0        87439   \n",
       "354368      volkswagen      NaN   2016-03-20                   0        40764   \n",
       "\n",
       "                 last_seen  \n",
       "0      2016-04-07 03:16:57  \n",
       "1      2016-04-07 01:46:50  \n",
       "2      2016-04-05 12:47:46  \n",
       "3      2016-03-17 17:40:17  \n",
       "4      2016-04-06 10:17:21  \n",
       "...                    ...  \n",
       "354364 2016-03-21 10:42:49  \n",
       "354365 2016-04-06 00:46:52  \n",
       "354366 2016-03-11 18:17:12  \n",
       "354367 2016-04-07 07:15:26  \n",
       "354368 2016-03-24 12:45:21  \n",
       "\n",
       "[354369 rows x 16 columns]"
      ]
     },
     "execution_count": 5,
     "metadata": {},
     "output_type": "execute_result"
    }
   ],
   "source": [
    "autos = autos.rename(columns=lambda x: re.sub(r'(?<!^)([A-Z])', r'_\\1', x).lower()) \n",
    "autos"
   ]
  },
  {
   "cell_type": "markdown",
   "id": "7e6bc51f",
   "metadata": {},
   "source": [
    "**Удалим неинформативные признаки (не влияющие на стоимость автомобиля)**\n",
    "\n",
    "+ `DateCrawled` — дата скачивания анкеты из базы\n",
    "+ `RegistrationMonth` — месяц регистрации автомобиля\n",
    "+ `DateCreated` — дата создания анкеты\n",
    "+ `NumberOfPictures` — количество фотографий автомобиля\n",
    "+ `PostalCode` — почтовый индекс владельца анкеты (пользователя)\n",
    "+ `LastSeen` — дата последней активности пользователя"
   ]
  },
  {
   "cell_type": "code",
   "execution_count": 6,
   "id": "38258ccc",
   "metadata": {
    "scrolled": true
   },
   "outputs": [
    {
     "name": "stdout",
     "output_type": "stream",
     "text": [
      "<class 'pandas.core.frame.DataFrame'>\n",
      "RangeIndex: 354369 entries, 0 to 354368\n",
      "Data columns (total 10 columns):\n",
      " #   Column             Non-Null Count   Dtype \n",
      "---  ------             --------------   ----- \n",
      " 0   price              354369 non-null  int64 \n",
      " 1   vehicle_type       316879 non-null  object\n",
      " 2   registration_year  354369 non-null  int64 \n",
      " 3   gearbox            334536 non-null  object\n",
      " 4   power              354369 non-null  int64 \n",
      " 5   model              334664 non-null  object\n",
      " 6   kilometer          354369 non-null  int64 \n",
      " 7   fuel_type          321474 non-null  object\n",
      " 8   brand              354369 non-null  object\n",
      " 9   repaired           283215 non-null  object\n",
      "dtypes: int64(4), object(6)\n",
      "memory usage: 27.0+ MB\n"
     ]
    }
   ],
   "source": [
    "autos = autos.drop(['date_crawled', 'registration_month', 'date_created', \n",
    "                  'number_of_pictures', 'postal_code', 'last_seen'], axis=1)\n",
    "autos.info()"
   ]
  },
  {
   "cell_type": "markdown",
   "id": "879c90fc",
   "metadata": {},
   "source": [
    "#### Удаление явных дубликатов"
   ]
  },
  {
   "cell_type": "code",
   "execution_count": 7,
   "id": "13f90af3",
   "metadata": {},
   "outputs": [
    {
     "data": {
      "text/plain": [
       "45040"
      ]
     },
     "execution_count": 7,
     "metadata": {},
     "output_type": "execute_result"
    }
   ],
   "source": [
    "autos.duplicated().sum()"
   ]
  },
  {
   "cell_type": "code",
   "execution_count": 8,
   "id": "5e5c1444",
   "metadata": {},
   "outputs": [
    {
     "name": "stdout",
     "output_type": "stream",
     "text": [
      "<class 'pandas.core.frame.DataFrame'>\n",
      "Index: 309329 entries, 0 to 354368\n",
      "Data columns (total 10 columns):\n",
      " #   Column             Non-Null Count   Dtype \n",
      "---  ------             --------------   ----- \n",
      " 0   price              309329 non-null  int64 \n",
      " 1   vehicle_type       274770 non-null  object\n",
      " 2   registration_year  309329 non-null  int64 \n",
      " 3   gearbox            292122 non-null  object\n",
      " 4   power              309329 non-null  int64 \n",
      " 5   model              290968 non-null  object\n",
      " 6   kilometer          309329 non-null  int64 \n",
      " 7   fuel_type          278565 non-null  object\n",
      " 8   brand              309329 non-null  object\n",
      " 9   repaired           244771 non-null  object\n",
      "dtypes: int64(4), object(6)\n",
      "memory usage: 26.0+ MB\n"
     ]
    },
    {
     "data": {
      "text/plain": [
       "(None,\n",
       " price                    0\n",
       " vehicle_type         34559\n",
       " registration_year        0\n",
       " gearbox              17207\n",
       " power                    0\n",
       " model                18361\n",
       " kilometer                0\n",
       " fuel_type            30764\n",
       " brand                    0\n",
       " repaired             64558\n",
       " dtype: int64)"
      ]
     },
     "execution_count": 8,
     "metadata": {},
     "output_type": "execute_result"
    }
   ],
   "source": [
    "autos = autos.drop_duplicates()\n",
    "autos.info(), autos.isna().sum()"
   ]
  },
  {
   "cell_type": "markdown",
   "id": "90a25a9f",
   "metadata": {},
   "source": [
    "#### Заполнение пропущенных значений после проверки на уникальность"
   ]
  },
  {
   "cell_type": "code",
   "execution_count": 9,
   "id": "53cd8efa",
   "metadata": {},
   "outputs": [
    {
     "name": "stdout",
     "output_type": "stream",
     "text": [
      "['bus', 'convertible', 'coupe', 'other', 'sedan', 'small', 'suv', 'wagon']\n"
     ]
    }
   ],
   "source": [
    "print(sorted(autos['vehicle_type'].dropna().unique()))"
   ]
  },
  {
   "cell_type": "code",
   "execution_count": 10,
   "id": "3f4a2fc8",
   "metadata": {},
   "outputs": [
    {
     "name": "stdout",
     "output_type": "stream",
     "text": [
      "['auto', 'manual']\n"
     ]
    }
   ],
   "source": [
    "print(sorted(autos['gearbox'].dropna().unique()))"
   ]
  },
  {
   "cell_type": "code",
   "execution_count": 11,
   "id": "d427cb17",
   "metadata": {},
   "outputs": [
    {
     "name": "stdout",
     "output_type": "stream",
     "text": [
      "['100', '145', '147', '156', '159', '1_reihe', '1er', '200', '2_reihe', '300c', '3_reihe', '3er', '4_reihe', '500', '5_reihe', '5er', '601', '6_reihe', '6er', '7er', '80', '850', '90', '900', '9000', '911', 'a1', 'a2', 'a3', 'a4', 'a5', 'a6', 'a8', 'a_klasse', 'accord', 'agila', 'alhambra', 'almera', 'altea', 'amarok', 'antara', 'arosa', 'astra', 'auris', 'avensis', 'aveo', 'aygo', 'b_klasse', 'b_max', 'beetle', 'berlingo', 'bora', 'boxster', 'bravo', 'c1', 'c2', 'c3', 'c4', 'c5', 'c_klasse', 'c_max', 'c_reihe', 'caddy', 'calibra', 'captiva', 'carisma', 'carnival', 'cayenne', 'cc', 'ceed', 'charade', 'cherokee', 'citigo', 'civic', 'cl', 'clio', 'clk', 'clubman', 'colt', 'combo', 'cooper', 'cordoba', 'corolla', 'corsa', 'cr_reihe', 'croma', 'crossfire', 'cuore', 'cx_reihe', 'defender', 'delta', 'discovery', 'doblo', 'ducato', 'duster', 'e_klasse', 'elefantino', 'eos', 'escort', 'espace', 'exeo', 'fabia', 'fiesta', 'focus', 'forester', 'forfour', 'fortwo', 'fox', 'freelander', 'fusion', 'g_klasse', 'galant', 'galaxy', 'getz', 'gl', 'glk', 'golf', 'grand', 'i3', 'i_reihe', 'ibiza', 'impreza', 'insignia', 'jazz', 'jetta', 'jimny', 'juke', 'justy', 'ka', 'kadett', 'kaefer', 'kalina', 'kalos', 'kangoo', 'kappa', 'kuga', 'laguna', 'lancer', 'lanos', 'legacy', 'leon', 'lodgy', 'logan', 'lupo', 'lybra', 'm_klasse', 'm_reihe', 'materia', 'matiz', 'megane', 'meriva', 'micra', 'mii', 'modus', 'mondeo', 'move', 'musa', 'mustang', 'mx_reihe', 'navara', 'niva', 'note', 'nubira', 'octavia', 'omega', 'one', 'other', 'outlander', 'pajero', 'panda', 'passat', 'phaeton', 'picanto', 'polo', 'primera', 'ptcruiser', 'punto', 'q3', 'q5', 'q7', 'qashqai', 'r19', 'range_rover', 'range_rover_evoque', 'range_rover_sport', 'rangerover', 'rav', 'rio', 'roadster', 'roomster', 'rx_reihe', 's60', 's_klasse', 's_max', 's_type', 'samara', 'sandero', 'santa', 'scenic', 'scirocco', 'seicento', 'serie_1', 'serie_2', 'serie_3', 'sharan', 'signum', 'sirion', 'sl', 'slk', 'sorento', 'spark', 'spider', 'sportage', 'sprinter', 'stilo', 'superb', 'swift', 'terios', 'tigra', 'tiguan', 'toledo', 'touareg', 'touran', 'transit', 'transporter', 'tt', 'tucson', 'twingo', 'up', 'v40', 'v50', 'v60', 'v70', 'v_klasse', 'vectra', 'verso', 'viano', 'vito', 'vivaro', 'voyager', 'wrangler', 'x_reihe', 'x_trail', 'x_type', 'xc_reihe', 'yaris', 'yeti', 'ypsilon', 'z_reihe', 'zafira']\n"
     ]
    }
   ],
   "source": [
    "print(sorted(autos['model'].dropna().unique()))"
   ]
  },
  {
   "cell_type": "code",
   "execution_count": 12,
   "id": "318004f8",
   "metadata": {
    "scrolled": true
   },
   "outputs": [
    {
     "name": "stdout",
     "output_type": "stream",
     "text": [
      "['cng', 'electric', 'hybrid', 'lpg', 'other', 'petrol']\n"
     ]
    }
   ],
   "source": [
    "autos['fuel_type'] = autos['fuel_type'].replace('gasoline','petrol')\n",
    "print(sorted(autos['fuel_type'].dropna().unique()))"
   ]
  },
  {
   "cell_type": "code",
   "execution_count": 13,
   "id": "b0da0b07",
   "metadata": {},
   "outputs": [
    {
     "name": "stdout",
     "output_type": "stream",
     "text": [
      "['no', 'yes']\n"
     ]
    }
   ],
   "source": [
    "print(sorted(autos['repaired'].dropna().unique()))"
   ]
  },
  {
   "cell_type": "code",
   "execution_count": 14,
   "id": "b42b3631",
   "metadata": {},
   "outputs": [
    {
     "name": "stdout",
     "output_type": "stream",
     "text": [
      "['alfa_romeo', 'audi', 'bmw', 'chevrolet', 'chrysler', 'citroen', 'dacia', 'daewoo', 'daihatsu', 'fiat', 'ford', 'honda', 'hyundai', 'jaguar', 'jeep', 'kia', 'lada', 'lancia', 'land_rover', 'mazda', 'mercedes_benz', 'mini', 'mitsubishi', 'nissan', 'opel', 'peugeot', 'porsche', 'renault', 'rover', 'saab', 'seat', 'skoda', 'smart', 'sonstige_autos', 'subaru', 'suzuki', 'toyota', 'trabant', 'volkswagen', 'volvo']\n"
     ]
    }
   ],
   "source": [
    "print(sorted(autos['brand'].dropna().unique()))"
   ]
  },
  {
   "cell_type": "markdown",
   "id": "e89e9e99",
   "metadata": {},
   "source": [
    "В ходе предварительной проверки набора данных было установлено отсутствие орфографических ошибок и дубликатов в наименованиях категорий.\n",
    "\n",
    "Для корректной обработки отсутствующих значений в категориальных переменных предлагается следующая методология:\n",
    "+ Технические характеристики транспортного средства:\n",
    "    + В колонках, описывающих тип транспортного средства (`vehicle_type`), модель (`model`) и тип используемого топлива (`fuel_type`), все пустые записи будут заменены на значение unknown.\n",
    "+ Параметры трансмиссии:\n",
    "    + В колонке `gearbox`, содержащей информацию о типе коробки передач, возможны три варианта значений:\n",
    "        + `auto` — автоматическая трансмиссия\n",
    "        + `manual` — механическая трансмиссия\n",
    "        + `unknown` — отсутствие данных о типе трансмиссии (включая случаи продажи автомобиля без коробки передач)\n",
    "+ Состояние ремонта:\n",
    "    + В колонке `repaired`, отражающей историю ремонтных работ, предусмотрены следующие значения:\n",
    "        + `no` — автомобиль не был в ремонте\n",
    "        + `yes` — автомобиль проходил ремонтные работы\n",
    "        + `unknown` — транспортное средство находится в состоянии, требующем ремонта, но ремонтные работы не были выполнены\n",
    "\n",
    "Такой подход к обработке пропусков позволит сохранить целостность данных и обеспечить корректность последующего анализа."
   ]
  },
  {
   "cell_type": "code",
   "execution_count": 15,
   "id": "1265db5c",
   "metadata": {},
   "outputs": [],
   "source": [
    "autos['vehicle_type'] = autos['vehicle_type'].fillna('unknown')\n",
    "autos['model'] = autos['model'].fillna('unknown')\n",
    "autos['fuel_type'] = autos['fuel_type'].fillna('unknown')\n",
    "autos['gearbox'] = autos['gearbox'].fillna('unknown')\n",
    "autos['repaired'] = autos['repaired'].fillna('unknown')"
   ]
  },
  {
   "cell_type": "code",
   "execution_count": 16,
   "id": "30b0fd17",
   "metadata": {},
   "outputs": [
    {
     "name": "stdout",
     "output_type": "stream",
     "text": [
      "Мощность \"brand\" 40\n",
      "Мощность \"model\" 251\n",
      "Мощность \"vehicle_type\" 9\n"
     ]
    }
   ],
   "source": [
    "print(f'Мощность \"brand\" {len(autos.brand.unique())}')\n",
    "print(f'Мощность \"model\" {len(autos.model.unique())}')\n",
    "print(f'Мощность \"vehicle_type\" {len(autos.vehicle_type.unique())}')"
   ]
  },
  {
   "cell_type": "code",
   "execution_count": 17,
   "id": "c9296f71",
   "metadata": {},
   "outputs": [
    {
     "name": "stdout",
     "output_type": "stream",
     "text": [
      "<class 'pandas.core.frame.DataFrame'>\n",
      "Index: 309329 entries, 0 to 354368\n",
      "Data columns (total 10 columns):\n",
      " #   Column             Non-Null Count   Dtype \n",
      "---  ------             --------------   ----- \n",
      " 0   price              309329 non-null  int64 \n",
      " 1   vehicle_type       309329 non-null  object\n",
      " 2   registration_year  309329 non-null  int64 \n",
      " 3   gearbox            309329 non-null  object\n",
      " 4   power              309329 non-null  int64 \n",
      " 5   model              309329 non-null  object\n",
      " 6   kilometer          309329 non-null  int64 \n",
      " 7   fuel_type          309329 non-null  object\n",
      " 8   brand              309329 non-null  object\n",
      " 9   repaired           309329 non-null  object\n",
      "dtypes: int64(4), object(6)\n",
      "memory usage: 26.0+ MB\n"
     ]
    }
   ],
   "source": [
    "autos.info()"
   ]
  },
  {
   "cell_type": "code",
   "execution_count": 18,
   "id": "9b8bc06c",
   "metadata": {},
   "outputs": [
    {
     "data": {
      "text/plain": [
       "price                0\n",
       "vehicle_type         0\n",
       "registration_year    0\n",
       "gearbox              0\n",
       "power                0\n",
       "model                0\n",
       "kilometer            0\n",
       "fuel_type            0\n",
       "brand                0\n",
       "repaired             0\n",
       "dtype: int64"
      ]
     },
     "execution_count": 18,
     "metadata": {},
     "output_type": "execute_result"
    }
   ],
   "source": [
    "autos.isna().sum()"
   ]
  },
  {
   "cell_type": "markdown",
   "id": "1bd9edac",
   "metadata": {},
   "source": [
    "#### Подготовка и очистка данных\n",
    "**Стандартизация структуры данных**\n",
    "В рамках предварительной обработки информации были реализованы следующие преобразования:\n",
    "+ Унификация наименований: все названия столбцов были трансформированы в формат нижнего регистра с разделением составных элементов посредством символов подчёркивания.\n",
    "+ Исключение избыточных параметров: произведена фильтрация и удаление характеристик, не несущих значимой информационной нагрузки:\n",
    "    + Временные параметры:\n",
    "        + `DateCrawled` — метка времени извлечения данных из исходной базы\n",
    "        + `DateCreated` — момент формирования анкеты\n",
    "        + `LastSeen` — дата последнего взаимодействия пользователя с системой\n",
    "    + Регистрационная информация:\n",
    "        + `RegistrationMonth` — месяц постановки транспортного средства на учёт\n",
    "    + Вспомогательные метрики:\n",
    "        + `NumberOfPictures` — число загруженных изображений транспортного средства\n",
    "        + `PostalCode` — почтовый индекс пользователя, разместившего объявление\n",
    "\n",
    "**Оптимизация набора данных**\n",
    "+ Дедупликация: идентифицировано и удалено 45 040 записей, являющихся полными дубликатами, что позволило повысить качество анализируемой выборки.\n",
    "\n",
    "**Работа с пропущенными значениями**\n",
    "Для обеспечения целостности информационной базы были реализованы следующие процедуры:\n",
    "+ Обработка категориальных признаков:\n",
    "    + В колонках, содержащих информацию о типе транспортного средства (`vehicle_type`), его модели (`model`) и типе используемого топлива (`fuel_type`), все отсутствующие значения были заменены на специальное значение unknown.\n",
    "+ Модификация параметров трансмиссии:\n",
    "    + В колонке `gearbox`, отражающей тип коробки передач, реализованы следующие варианты:\n",
    "        + `auto` — автоматическая трансмиссия\n",
    "        + `manual` — механическая трансмиссия\n",
    "        + `unknown` — отсутствие данных о типе трансмиссии (включая случаи продажи автомобиля без коробки передач)\n",
    "+ Классификация состояния ремонта:\n",
    "    + В колонке `repaired`, характеризующей историю ремонтных работ, предусмотрены следующие значения:\n",
    "        + `no` — отсутствие ремонтных работ\n",
    "        + `yes` — наличие выполненных ремонтных работ\n",
    "        + `unknown` — состояние, требующее ремонта без подтверждения его выполнения\n",
    "\n",
    "Данные преобразования обеспечили формирование структурированного и качественного набора данных, готового к дальнейшему анализу и моделированию."
   ]
  },
  {
   "cell_type": "markdown",
   "id": "27108f2a",
   "metadata": {},
   "source": [
    "### 1.5. Исследовательский анализ данных"
   ]
  },
  {
   "cell_type": "code",
   "execution_count": 19,
   "id": "4a86a8ac",
   "metadata": {},
   "outputs": [
    {
     "data": {
      "text/html": [
       "<div>\n",
       "<style scoped>\n",
       "    .dataframe tbody tr th:only-of-type {\n",
       "        vertical-align: middle;\n",
       "    }\n",
       "\n",
       "    .dataframe tbody tr th {\n",
       "        vertical-align: top;\n",
       "    }\n",
       "\n",
       "    .dataframe thead th {\n",
       "        text-align: right;\n",
       "    }\n",
       "</style>\n",
       "<table border=\"1\" class=\"dataframe\">\n",
       "  <thead>\n",
       "    <tr style=\"text-align: right;\">\n",
       "      <th></th>\n",
       "      <th>price</th>\n",
       "      <th>registration_year</th>\n",
       "      <th>power</th>\n",
       "      <th>kilometer</th>\n",
       "    </tr>\n",
       "  </thead>\n",
       "  <tbody>\n",
       "    <tr>\n",
       "      <th>count</th>\n",
       "      <td>309329.000000</td>\n",
       "      <td>309329.000000</td>\n",
       "      <td>309329.000000</td>\n",
       "      <td>309329.000000</td>\n",
       "    </tr>\n",
       "    <tr>\n",
       "      <th>mean</th>\n",
       "      <td>4486.937196</td>\n",
       "      <td>2004.360105</td>\n",
       "      <td>110.976908</td>\n",
       "      <td>127217.735809</td>\n",
       "    </tr>\n",
       "    <tr>\n",
       "      <th>std</th>\n",
       "      <td>4564.852796</td>\n",
       "      <td>92.541399</td>\n",
       "      <td>200.969473</td>\n",
       "      <td>38532.941010</td>\n",
       "    </tr>\n",
       "    <tr>\n",
       "      <th>min</th>\n",
       "      <td>0.000000</td>\n",
       "      <td>1000.000000</td>\n",
       "      <td>0.000000</td>\n",
       "      <td>5000.000000</td>\n",
       "    </tr>\n",
       "    <tr>\n",
       "      <th>25%</th>\n",
       "      <td>1100.000000</td>\n",
       "      <td>1999.000000</td>\n",
       "      <td>69.000000</td>\n",
       "      <td>125000.000000</td>\n",
       "    </tr>\n",
       "    <tr>\n",
       "      <th>50%</th>\n",
       "      <td>2800.000000</td>\n",
       "      <td>2003.000000</td>\n",
       "      <td>105.000000</td>\n",
       "      <td>150000.000000</td>\n",
       "    </tr>\n",
       "    <tr>\n",
       "      <th>75%</th>\n",
       "      <td>6500.000000</td>\n",
       "      <td>2008.000000</td>\n",
       "      <td>143.000000</td>\n",
       "      <td>150000.000000</td>\n",
       "    </tr>\n",
       "    <tr>\n",
       "      <th>max</th>\n",
       "      <td>20000.000000</td>\n",
       "      <td>9999.000000</td>\n",
       "      <td>20000.000000</td>\n",
       "      <td>150000.000000</td>\n",
       "    </tr>\n",
       "  </tbody>\n",
       "</table>\n",
       "</div>"
      ],
      "text/plain": [
       "               price  registration_year          power      kilometer\n",
       "count  309329.000000      309329.000000  309329.000000  309329.000000\n",
       "mean     4486.937196        2004.360105     110.976908  127217.735809\n",
       "std      4564.852796          92.541399     200.969473   38532.941010\n",
       "min         0.000000        1000.000000       0.000000    5000.000000\n",
       "25%      1100.000000        1999.000000      69.000000  125000.000000\n",
       "50%      2800.000000        2003.000000     105.000000  150000.000000\n",
       "75%      6500.000000        2008.000000     143.000000  150000.000000\n",
       "max     20000.000000        9999.000000   20000.000000  150000.000000"
      ]
     },
     "execution_count": 19,
     "metadata": {},
     "output_type": "execute_result"
    }
   ],
   "source": [
    "autos.describe()"
   ]
  },
  {
   "cell_type": "markdown",
   "id": "99b77fc5",
   "metadata": {},
   "source": [
    "#### Анализ `price` - цена (евро)"
   ]
  },
  {
   "cell_type": "markdown",
   "id": "ff90f930",
   "metadata": {},
   "source": [
    "Стоимость транспортного средства не может равняться нулевой отметке, что указывает на возможные пропуски ценовых данных при формировании исходного набора информации. Такие записи будут исключены из анализируемого массива. При этом значения, превышающие полуторное межквартильное расстояние, сохраняем без изменений."
   ]
  },
  {
   "cell_type": "code",
   "execution_count": 20,
   "id": "fc63cf9e",
   "metadata": {},
   "outputs": [],
   "source": [
    "def f_hist_box_1(hb1, bins, title, xlabel, ylabel):\n",
    "    f, (ax_box, ax_hist) = plt.subplots(2, sharex=True, figsize=(10,5), gridspec_kw={\"height_ratios\": (.15, .85)})\n",
    "     \n",
    "    sns.boxplot(data=[hb1], orient=\"h\", ax=ax_box)\n",
    "    plt.hist([hb1], \n",
    "             bins=bins, range=(hb1.min(), hb1.max()), label=hb1.name)\n",
    " \n",
    "    plt.legend(loc='upper right')\n",
    "    plt.title(title)\n",
    "    plt.xlabel(xlabel)\n",
    "    plt.ylabel(ylabel)\n",
    "    plt.show()"
   ]
  },
  {
   "cell_type": "code",
   "execution_count": 21,
   "id": "41e6691a",
   "metadata": {},
   "outputs": [
    {
     "data": {
      "image/png": "[encoded data removed]",
      "text/plain": [
       "<Figure size 1000x500 with 2 Axes>"
      ]
     },
     "metadata": {},
     "output_type": "display_data"
    }
   ],
   "source": [
    "autos = autos[autos['price'] != 0]\n",
    "f_hist_box_1(\n",
    "    hb1=autos['price'],\n",
    "    bins=100,   \n",
    "    title='Параметр \"price\" - цена (евро)',\n",
    "    xlabel='Цена (евро)',\n",
    "    ylabel='Количество значений'\n",
    ")"
   ]
  },
  {
   "cell_type": "markdown",
   "id": "fd76faa5",
   "metadata": {},
   "source": [
    "#### Анализ `registration_year` - год регистрации автомобиля"
   ]
  },
  {
   "cell_type": "markdown",
   "id": "86225885",
   "metadata": {},
   "source": [
    "Год постановки транспортного средства на учёт не должен превышать текущий временной период. Учитывая специфику онлайн-площадок по продаже автомобилей, маловероятно присутствие на них предложений от коллекционеров раритетной автотехники. Кроме того, принимая во внимание значительную стоимость старинных автомобилей, было принято решение установить нижнюю границу года выпуска на уровне 1960 года — именно такие транспортные средства всё ещё активно эксплуатируются на дорогах общего пользования."
   ]
  },
  {
   "cell_type": "code",
   "execution_count": 22,
   "id": "f3c00e42",
   "metadata": {},
   "outputs": [
    {
     "data": {
      "image/png": "[encoded data removed]",
      "text/plain": [
       "<Figure size 1000x500 with 2 Axes>"
      ]
     },
     "metadata": {},
     "output_type": "display_data"
    }
   ],
   "source": [
    "autos = autos[(autos['registration_year'] >= 1960) & (autos['registration_year'] <= 2016)]\n",
    "f_hist_box_1(\n",
    "    hb1=autos['registration_year'],\n",
    "    bins=50,   \n",
    "    title='Параметр \"registration_year\" - год регистрации автомобиля',\n",
    "    xlabel='Год регистрации автомобиля',\n",
    "    ylabel='Количество значений'\n",
    ")"
   ]
  },
  {
   "cell_type": "markdown",
   "id": "c8418ec0",
   "metadata": {},
   "source": [
    "#### Анализ `kilometer` - пробег (км)"
   ]
  },
  {
   "cell_type": "markdown",
   "id": "22032c44",
   "metadata": {},
   "source": [
    "Здесь значения выглядят правдоподобно, оставим как есть."
   ]
  },
  {
   "cell_type": "code",
   "execution_count": 23,
   "id": "f162447a",
   "metadata": {},
   "outputs": [
    {
     "data": {
      "image/png": "[encoded data removed]",
      "text/plain": [
       "<Figure size 1000x500 with 2 Axes>"
      ]
     },
     "metadata": {},
     "output_type": "display_data"
    }
   ],
   "source": [
    "f_hist_box_1(\n",
    "    hb1=autos['kilometer'],\n",
    "    bins=50,   \n",
    "    title='Параметр \"kilometer\" - пробег (км)',\n",
    "    xlabel='Пробег (км)',\n",
    "    ylabel='Количество значений'\n",
    ")"
   ]
  },
  {
   "cell_type": "markdown",
   "id": "6dbc50f0",
   "metadata": {},
   "source": [
    "#### Анализ `power` - мощность (л. с.)"
   ]
  },
  {
   "cell_type": "markdown",
   "id": "51bd3395",
   "metadata": {},
   "source": [
    "Показатели мощности современных транспортных средств редко достигают отметки в 500 лошадиных сил. В связи с этим будет произведена корректировка соответствующих значений в наборе данных. При этом нулевые показатели мощности решено сохранить, поскольку существуют случаи продажи транспортных средств без силового агрегата, к тому же такие записи встречаются в массиве данных достаточно часто."
   ]
  },
  {
   "cell_type": "code",
   "execution_count": 24,
   "id": "ddd4f626",
   "metadata": {},
   "outputs": [
    {
     "data": {
      "image/png": "[encoded data removed]",
      "text/plain": [
       "<Figure size 1000x500 with 2 Axes>"
      ]
     },
     "metadata": {},
     "output_type": "display_data"
    }
   ],
   "source": [
    "autos = autos[(autos['power'] > 40) & (autos['power'] < 600)]\n",
    "f_hist_box_1(\n",
    "    hb1=autos['power'],\n",
    "    bins=100,   \n",
    "    title='Параметр \"power\" - мощность (л. с.)',\n",
    "    xlabel='Мощность (л. с.)',\n",
    "    ylabel='Количество значений'\n",
    ")"
   ]
  },
  {
   "cell_type": "code",
   "execution_count": 25,
   "id": "248c7f18",
   "metadata": {},
   "outputs": [
    {
     "data": {
      "text/html": [
       "<div>\n",
       "<style scoped>\n",
       "    .dataframe tbody tr th:only-of-type {\n",
       "        vertical-align: middle;\n",
       "    }\n",
       "\n",
       "    .dataframe tbody tr th {\n",
       "        vertical-align: top;\n",
       "    }\n",
       "\n",
       "    .dataframe thead th {\n",
       "        text-align: right;\n",
       "    }\n",
       "</style>\n",
       "<table border=\"1\" class=\"dataframe\">\n",
       "  <thead>\n",
       "    <tr style=\"text-align: right;\">\n",
       "      <th></th>\n",
       "      <th>vehicle_type</th>\n",
       "      <th>gearbox</th>\n",
       "      <th>model</th>\n",
       "      <th>fuel_type</th>\n",
       "      <th>brand</th>\n",
       "      <th>repaired</th>\n",
       "    </tr>\n",
       "  </thead>\n",
       "  <tbody>\n",
       "    <tr>\n",
       "      <th>count</th>\n",
       "      <td>255835</td>\n",
       "      <td>255835</td>\n",
       "      <td>255835</td>\n",
       "      <td>255835</td>\n",
       "      <td>255835</td>\n",
       "      <td>255835</td>\n",
       "    </tr>\n",
       "    <tr>\n",
       "      <th>unique</th>\n",
       "      <td>9</td>\n",
       "      <td>3</td>\n",
       "      <td>250</td>\n",
       "      <td>7</td>\n",
       "      <td>40</td>\n",
       "      <td>3</td>\n",
       "    </tr>\n",
       "    <tr>\n",
       "      <th>top</th>\n",
       "      <td>sedan</td>\n",
       "      <td>manual</td>\n",
       "      <td>golf</td>\n",
       "      <td>petrol</td>\n",
       "      <td>volkswagen</td>\n",
       "      <td>no</td>\n",
       "    </tr>\n",
       "    <tr>\n",
       "      <th>freq</th>\n",
       "      <td>70770</td>\n",
       "      <td>198581</td>\n",
       "      <td>19879</td>\n",
       "      <td>235919</td>\n",
       "      <td>52664</td>\n",
       "      <td>190038</td>\n",
       "    </tr>\n",
       "  </tbody>\n",
       "</table>\n",
       "</div>"
      ],
      "text/plain": [
       "       vehicle_type gearbox   model fuel_type       brand repaired\n",
       "count        255835  255835  255835    255835      255835   255835\n",
       "unique            9       3     250         7          40        3\n",
       "top           sedan  manual    golf    petrol  volkswagen       no\n",
       "freq          70770  198581   19879    235919       52664   190038"
      ]
     },
     "execution_count": 25,
     "metadata": {},
     "output_type": "execute_result"
    }
   ],
   "source": [
    "autos.describe(include='object')"
   ]
  },
  {
   "cell_type": "markdown",
   "id": "abb8db80",
   "metadata": {},
   "source": [
    "+ В данных обнаружено большое количество выбросов.\n",
    "+ Исключены строки по параметру `price - цена (евро) с нулевым значением.\n",
    "+ Исключены строки по параметру `registration_year` - год регистрации автомобиля ранее 1960 года и более текущего года\n",
    "+ Исключены строки по параметру `power` - мощность (л. с.) со значением 0 л.с. и более 500 л.с."
   ]
  },
  {
   "cell_type": "markdown",
   "id": "fd12c55a",
   "metadata": {},
   "source": [
    "### Корреляционный анализ данных"
   ]
  },
  {
   "cell_type": "code",
   "execution_count": 26,
   "id": "5b6d5f12",
   "metadata": {},
   "outputs": [
    {
     "data": {
      "image/png": "[encoded data removed]",
      "text/plain": [
       "<Figure size 1000x1000 with 2 Axes>"
      ]
     },
     "metadata": {},
     "output_type": "display_data"
    }
   ],
   "source": [
    "interval_cols = ['price',\n",
    "                 'registration_year',\n",
    "                 'power',\n",
    "                 'kilometer'\n",
    "                ]\n",
    "fig, ax = plt.subplots(figsize=(10, 10))\n",
    "plt.suptitle('Матрица корреляции phi(k) всех столбцов \"autos\"')\n",
    "sns.heatmap(autos.phik_matrix(interval_cols = interval_cols), annot=True, cmap='coolwarm');"
   ]
  },
  {
   "cell_type": "markdown",
   "id": "870d92ec",
   "metadata": {},
   "source": [
    "Выявлена существенная корреляционная связь между стоимостью транспортного средства (`price`) и следующими параметрами:\n",
    "\n",
    "+ Год регистрации (`registration_year`) — коэффициент корреляции составляет 0.66\n",
    "+ Модель автомобиля (`model`) — коэффициент корреляции равен 0.57\n",
    "\n",
    "При этом влияние остальных параметров на ценообразование является несущественным.\n",
    "\n",
    "Обнаружена абсолютная взаимосвязь между маркой транспортного средства (`brand`) и его моделью (`model`), коэффициент корреляции достигает максимального значения 1. Для предотвращения проблемы мультиколлинеарности в модели принято решение объединить эти характеристики в единый признак."
   ]
  },
  {
   "cell_type": "code",
   "execution_count": 27,
   "id": "5a007811",
   "metadata": {},
   "outputs": [
    {
     "data": {
      "image/png": "[encoded data removed]",
      "text/plain": [
       "<Figure size 1100x1000 with 2 Axes>"
      ]
     },
     "metadata": {},
     "output_type": "display_data"
    }
   ],
   "source": [
    "autos['brand_model'] = autos['brand'] + '_' + autos['model']\n",
    "autos = autos.drop(columns=['brand', 'model'])\n",
    "fig, ax = plt.subplots(figsize=(11, 10))\n",
    "plt.suptitle('Матрица корреляции phi(k) всех столбцов \"autos\"')\n",
    "sns.heatmap(autos.phik_matrix(interval_cols = interval_cols), annot=True, cmap='coolwarm');"
   ]
  },
  {
   "cell_type": "markdown",
   "id": "c273d3eb",
   "metadata": {},
   "source": [
    "Прослеживается прямая зависимость между брендом_моделью `brand_model` и типом кузова `vehicle_type` автомобиля `model` phi(k) = 0.9 для устранения мультиколлениарности объеденим стобец в один."
   ]
  },
  {
   "cell_type": "code",
   "execution_count": 28,
   "id": "6b286d23",
   "metadata": {
    "scrolled": false
   },
   "outputs": [
    {
     "data": {
      "image/png": "[encoded data removed]",
      "text/plain": [
       "<Figure size 1100x1000 with 2 Axes>"
      ]
     },
     "metadata": {},
     "output_type": "display_data"
    }
   ],
   "source": [
    "autos['brand_model_vehicle_type'] = autos['brand_model'] + '_' + autos['vehicle_type']\n",
    "autos = autos.drop(columns=['brand_model', 'vehicle_type'])\n",
    "fig, ax = plt.subplots(figsize=(11, 10))\n",
    "plt.suptitle('Матрица корреляции phi(k) всех столбцов \"autos\"')\n",
    "sns.heatmap(autos.phik_matrix(interval_cols = interval_cols), annot=True, cmap='coolwarm');"
   ]
  },
  {
   "cell_type": "markdown",
   "id": "2340a590",
   "metadata": {},
   "source": [
    "**Вывод по подготовке данных**\n",
    "\n",
    "**Этапы обработки и анализа данных**\n",
    "1. Первичная загрузка и предобработка\n",
    "На начальном этапе были выполнены следующие операции:\n",
    "+ Импортирование данных в рабочую среду\n",
    "+ Стандартизация структуры:\n",
    "    + Реновация наименований столбцов\n",
    "    + Элиминация нерелевантных атрибутов:\n",
    "        + `DateCrawled` — время извлечения данных\n",
    "        + `RegistrationMonth` — месяц регистрации ТС\n",
    "        + `DateCreated` — дата создания записи\n",
    "        + `NumberOfPictures` — количество изображений\n",
    "        + `PostalCode` — почтовый индекс владельца\n",
    "        + `LastSeen` — последняя активность пользователя\n",
    "+ Очистка данных:\n",
    "    + Удаление дублирующихся записей\n",
    "    + Импутация пропущенных значений\n",
    "\n",
    "2. Исследовательский анализ\n",
    "В ходе детального изучения набора данных выявлены следующие особенности:\n",
    "+ Аномальные значения:\n",
    "    + Обнаружено значительное количество экстремальных показателей\n",
    "    + Фильтрация записей с нулевыми значениями стоимости\n",
    "    + Отсеивание некорректных данных по году регистрации (до 1960 и после текущего года)\n",
    "    + Исключение значений мощности свыше 500 лошадиных сил\n",
    "\n",
    "3. Корреляционный анализ\n",
    "Результаты исследования взаимосвязей между параметрами:\n",
    "+ Синергия признаков:\n",
    "    + Выявлена сильная корреляция между характеристиками транспортного средства\n",
    "    + Для минимизации мультиколлинеарности осуществлено объединение полей:\n",
    "        + `brand`\n",
    "        + `model`\n",
    "        + `vehicle_type`\n",
    "    + Создан комплексный атрибут `brand_model_vehicle_type`\n",
    "+ Влияние на целевую переменную:\n",
    "    + Коэффициент корреляции с ценой (phi(k)) составляет 0.64\n",
    "    + Существенное воздействие демонстрирует параметр года регистрации\n",
    "    + Остальные характеристики оказывают незначительное влияние на итоговую стоимость\n",
    "\n",
    "Данная последовательность преобразований позволила сформировать качественный датасет для последующего моделирования и анализа."
   ]
  },
  {
   "cell_type": "markdown",
   "id": "106561e7",
   "metadata": {},
   "source": [
    "## Обучение моделей"
   ]
  },
  {
   "cell_type": "code",
   "execution_count": 29,
   "id": "de206e69",
   "metadata": {},
   "outputs": [
    {
     "data": {
      "text/html": [
       "<div>\n",
       "<style scoped>\n",
       "    .dataframe tbody tr th:only-of-type {\n",
       "        vertical-align: middle;\n",
       "    }\n",
       "\n",
       "    .dataframe tbody tr th {\n",
       "        vertical-align: top;\n",
       "    }\n",
       "\n",
       "    .dataframe thead th {\n",
       "        text-align: right;\n",
       "    }\n",
       "</style>\n",
       "<table border=\"1\" class=\"dataframe\">\n",
       "  <thead>\n",
       "    <tr style=\"text-align: right;\">\n",
       "      <th></th>\n",
       "      <th>price</th>\n",
       "      <th>registration_year</th>\n",
       "      <th>gearbox</th>\n",
       "      <th>power</th>\n",
       "      <th>kilometer</th>\n",
       "      <th>fuel_type</th>\n",
       "      <th>repaired</th>\n",
       "      <th>brand_model_vehicle_type</th>\n",
       "    </tr>\n",
       "  </thead>\n",
       "  <tbody>\n",
       "    <tr>\n",
       "      <th>1</th>\n",
       "      <td>18300</td>\n",
       "      <td>2011</td>\n",
       "      <td>manual</td>\n",
       "      <td>190</td>\n",
       "      <td>125000</td>\n",
       "      <td>petrol</td>\n",
       "      <td>yes</td>\n",
       "      <td>audi_unknown_coupe</td>\n",
       "    </tr>\n",
       "    <tr>\n",
       "      <th>2</th>\n",
       "      <td>9800</td>\n",
       "      <td>2004</td>\n",
       "      <td>auto</td>\n",
       "      <td>163</td>\n",
       "      <td>125000</td>\n",
       "      <td>petrol</td>\n",
       "      <td>unknown</td>\n",
       "      <td>jeep_grand_suv</td>\n",
       "    </tr>\n",
       "    <tr>\n",
       "      <th>3</th>\n",
       "      <td>1500</td>\n",
       "      <td>2001</td>\n",
       "      <td>manual</td>\n",
       "      <td>75</td>\n",
       "      <td>150000</td>\n",
       "      <td>petrol</td>\n",
       "      <td>no</td>\n",
       "      <td>volkswagen_golf_small</td>\n",
       "    </tr>\n",
       "    <tr>\n",
       "      <th>4</th>\n",
       "      <td>3600</td>\n",
       "      <td>2008</td>\n",
       "      <td>manual</td>\n",
       "      <td>69</td>\n",
       "      <td>90000</td>\n",
       "      <td>petrol</td>\n",
       "      <td>no</td>\n",
       "      <td>skoda_fabia_small</td>\n",
       "    </tr>\n",
       "    <tr>\n",
       "      <th>5</th>\n",
       "      <td>650</td>\n",
       "      <td>1995</td>\n",
       "      <td>manual</td>\n",
       "      <td>102</td>\n",
       "      <td>150000</td>\n",
       "      <td>petrol</td>\n",
       "      <td>yes</td>\n",
       "      <td>bmw_3er_sedan</td>\n",
       "    </tr>\n",
       "  </tbody>\n",
       "</table>\n",
       "</div>"
      ],
      "text/plain": [
       "   price  registration_year gearbox  power  kilometer fuel_type repaired  \\\n",
       "1  18300               2011  manual    190     125000    petrol      yes   \n",
       "2   9800               2004    auto    163     125000    petrol  unknown   \n",
       "3   1500               2001  manual     75     150000    petrol       no   \n",
       "4   3600               2008  manual     69      90000    petrol       no   \n",
       "5    650               1995  manual    102     150000    petrol      yes   \n",
       "\n",
       "  brand_model_vehicle_type  \n",
       "1       audi_unknown_coupe  \n",
       "2           jeep_grand_suv  \n",
       "3    volkswagen_golf_small  \n",
       "4        skoda_fabia_small  \n",
       "5            bmw_3er_sedan  "
      ]
     },
     "execution_count": 29,
     "metadata": {},
     "output_type": "execute_result"
    }
   ],
   "source": [
    "autos.head(10)"
   ]
  },
  {
   "cell_type": "markdown",
   "id": "68c51769",
   "metadata": {},
   "source": [
    "### Подготовка выборки для обучения моделей"
   ]
  },
  {
   "cell_type": "code",
   "execution_count": 30,
   "id": "1ddc4cdc",
   "metadata": {},
   "outputs": [
    {
     "name": "stdout",
     "output_type": "stream",
     "text": [
      "<class 'pandas.core.frame.DataFrame'>\n",
      "Index: 255835 entries, 1 to 354368\n",
      "Data columns (total 8 columns):\n",
      " #   Column                    Non-Null Count   Dtype   \n",
      "---  ------                    --------------   -----   \n",
      " 0   price                     255835 non-null  int64   \n",
      " 1   registration_year         255835 non-null  int64   \n",
      " 2   gearbox                   255835 non-null  category\n",
      " 3   power                     255835 non-null  int64   \n",
      " 4   kilometer                 255835 non-null  int64   \n",
      " 5   fuel_type                 255835 non-null  category\n",
      " 6   repaired                  255835 non-null  category\n",
      " 7   brand_model_vehicle_type  255835 non-null  category\n",
      "dtypes: category(4), int64(4)\n",
      "memory usage: 11.1 MB\n"
     ]
    }
   ],
   "source": [
    "cat_col_names = ['gearbox', 'fuel_type', 'repaired', 'brand_model_vehicle_type']\n",
    "\n",
    "num_col_names = ['registration_year', 'power', 'kilometer']\n",
    "autos[cat_col_names] = autos[cat_col_names].astype('category')\n",
    "autos.info()\n",
    "\n",
    "autos.reset_index(drop= True, inplace= True)\n",
    "\n",
    "RANDOM_STATE = 42\n",
    "X = autos.drop(columns='price')\n",
    "y = autos['price']\n",
    "\n",
    "X_train, X_test, y_train, y_test = train_test_split(X, y, random_state=RANDOM_STATE)"
   ]
  },
  {
   "cell_type": "code",
   "execution_count": 31,
   "id": "71cee7b5",
   "metadata": {},
   "outputs": [
    {
     "data": {
      "text/html": [
       "<div>\n",
       "<style scoped>\n",
       "    .dataframe tbody tr th:only-of-type {\n",
       "        vertical-align: middle;\n",
       "    }\n",
       "\n",
       "    .dataframe tbody tr th {\n",
       "        vertical-align: top;\n",
       "    }\n",
       "\n",
       "    .dataframe thead th {\n",
       "        text-align: right;\n",
       "    }\n",
       "</style>\n",
       "<table border=\"1\" class=\"dataframe\">\n",
       "  <thead>\n",
       "    <tr style=\"text-align: right;\">\n",
       "      <th></th>\n",
       "      <th>price</th>\n",
       "      <th>registration_year</th>\n",
       "      <th>gearbox</th>\n",
       "      <th>power</th>\n",
       "      <th>kilometer</th>\n",
       "      <th>fuel_type</th>\n",
       "      <th>repaired</th>\n",
       "      <th>brand_model_vehicle_type</th>\n",
       "    </tr>\n",
       "  </thead>\n",
       "  <tbody>\n",
       "    <tr>\n",
       "      <th>0</th>\n",
       "      <td>18300</td>\n",
       "      <td>2011</td>\n",
       "      <td>manual</td>\n",
       "      <td>190</td>\n",
       "      <td>125000</td>\n",
       "      <td>petrol</td>\n",
       "      <td>yes</td>\n",
       "      <td>audi_unknown_coupe</td>\n",
       "    </tr>\n",
       "    <tr>\n",
       "      <th>1</th>\n",
       "      <td>9800</td>\n",
       "      <td>2004</td>\n",
       "      <td>auto</td>\n",
       "      <td>163</td>\n",
       "      <td>125000</td>\n",
       "      <td>petrol</td>\n",
       "      <td>unknown</td>\n",
       "      <td>jeep_grand_suv</td>\n",
       "    </tr>\n",
       "    <tr>\n",
       "      <th>2</th>\n",
       "      <td>1500</td>\n",
       "      <td>2001</td>\n",
       "      <td>manual</td>\n",
       "      <td>75</td>\n",
       "      <td>150000</td>\n",
       "      <td>petrol</td>\n",
       "      <td>no</td>\n",
       "      <td>volkswagen_golf_small</td>\n",
       "    </tr>\n",
       "    <tr>\n",
       "      <th>3</th>\n",
       "      <td>3600</td>\n",
       "      <td>2008</td>\n",
       "      <td>manual</td>\n",
       "      <td>69</td>\n",
       "      <td>90000</td>\n",
       "      <td>petrol</td>\n",
       "      <td>no</td>\n",
       "      <td>skoda_fabia_small</td>\n",
       "    </tr>\n",
       "    <tr>\n",
       "      <th>4</th>\n",
       "      <td>650</td>\n",
       "      <td>1995</td>\n",
       "      <td>manual</td>\n",
       "      <td>102</td>\n",
       "      <td>150000</td>\n",
       "      <td>petrol</td>\n",
       "      <td>yes</td>\n",
       "      <td>bmw_3er_sedan</td>\n",
       "    </tr>\n",
       "  </tbody>\n",
       "</table>\n",
       "</div>"
      ],
      "text/plain": [
       "   price  registration_year gearbox  power  kilometer fuel_type repaired  \\\n",
       "0  18300               2011  manual    190     125000    petrol      yes   \n",
       "1   9800               2004    auto    163     125000    petrol  unknown   \n",
       "2   1500               2001  manual     75     150000    petrol       no   \n",
       "3   3600               2008  manual     69      90000    petrol       no   \n",
       "4    650               1995  manual    102     150000    petrol      yes   \n",
       "\n",
       "  brand_model_vehicle_type  \n",
       "0       audi_unknown_coupe  \n",
       "1           jeep_grand_suv  \n",
       "2    volkswagen_golf_small  \n",
       "3        skoda_fabia_small  \n",
       "4            bmw_3er_sedan  "
      ]
     },
     "execution_count": 31,
     "metadata": {},
     "output_type": "execute_result"
    }
   ],
   "source": [
    "autos.head(10)"
   ]
  },
  {
   "cell_type": "markdown",
   "id": "f6224548",
   "metadata": {},
   "source": [
    "### Обучение модели — LightGBM"
   ]
  },
  {
   "cell_type": "code",
   "execution_count": 32,
   "id": "b02136f6",
   "metadata": {},
   "outputs": [
    {
     "name": "stdout",
     "output_type": "stream",
     "text": [
      "Fitting 5 folds for each of 4 candidates, totalling 20 fits\n",
      "[LightGBM] [Warning] Categorical features with more bins than the configured maximum bin number found.\n",
      "[LightGBM] [Warning] For categorical features, max_bin and max_bin_by_feature may be ignored with a large number of categories.\n",
      "[LightGBM] [Info] Auto-choosing row-wise multi-threading, the overhead of testing was 0.011012 seconds.\n",
      "You can set `force_row_wise=true` to remove the overhead.\n",
      "And if memory is not enough, you can set `force_col_wise=true`.\n",
      "[LightGBM] [Info] Total Bins 1330\n",
      "[LightGBM] [Info] Number of data points in the train set: 191876, number of used features: 7\n",
      "[LightGBM] [Info] Start training from score 4932.412939\n",
      "-----\n",
      "Метрика лучшей модели на на кросс-валидации:1648.628\n",
      "Лучшие параметры модели: {'max_depth': 14, 'n_estimators': 120}\n",
      "-----\n"
     ]
    }
   ],
   "source": [
    "lgb_model = LGBMRegressor()\n",
    "lgbm_params = {\n",
    "               \"n_estimators\": [100, 120],\n",
    "               \"max_depth\": [12, 14]\n",
    "              }\n",
    "\n",
    "lgbm_cv_model = GridSearchCV(lgb_model,\n",
    "                             lgbm_params,\n",
    "                             cv=5,\n",
    "                             scoring ='neg_mean_squared_error',\n",
    "                             n_jobs=-1,\n",
    "                             verbose=1).fit(X_train, y_train)\n",
    "\n",
    "print('-----')\n",
    "rmse_lgb_v = (abs(lgbm_cv_model.best_score_)**0.5)\n",
    "print(f'Метрика лучшей модели на на кросс-валидации:{rmse_lgb_v:.3f}')\n",
    "print(f'Лучшие параметры модели: {lgbm_cv_model.best_params_}')\n",
    "print('-----')"
   ]
  },
  {
   "cell_type": "code",
   "execution_count": 33,
   "id": "daf50de0",
   "metadata": {},
   "outputs": [
    {
     "name": "stdout",
     "output_type": "stream",
     "text": [
      "[LightGBM] [Warning] Categorical features with more bins than the configured maximum bin number found.\n",
      "[LightGBM] [Warning] For categorical features, max_bin and max_bin_by_feature may be ignored with a large number of categories.\n",
      "[LightGBM] [Info] Auto-choosing row-wise multi-threading, the overhead of testing was 0.008348 seconds.\n",
      "You can set `force_row_wise=true` to remove the overhead.\n",
      "And if memory is not enough, you can set `force_col_wise=true`.\n",
      "[LightGBM] [Info] Total Bins 1330\n",
      "[LightGBM] [Info] Number of data points in the train set: 191876, number of used features: 7\n",
      "[LightGBM] [Info] Start training from score 4932.412939\n",
      "Время обучения LightGBM: 1.24 сек.\n"
     ]
    }
   ],
   "source": [
    "start_time = time.time()\n",
    "model = LGBMRegressor(max_depth=14, n_estimators=120).fit(X_train, y_train)\n",
    "end_time = time.time()\n",
    "training_time_lgb = end_time - start_time\n",
    "print(f'Время обучения LightGBM: {(training_time_lgb):.2f} сек.')"
   ]
  },
  {
   "cell_type": "markdown",
   "id": "af4074e0",
   "metadata": {},
   "source": [
    "### Обучение модели  Ridge - аналог LinearRegression с кодированными и масштабированными данными"
   ]
  },
  {
   "cell_type": "code",
   "execution_count": 34,
   "id": "ea41c4f1",
   "metadata": {},
   "outputs": [
    {
     "name": "stdout",
     "output_type": "stream",
     "text": [
      "Fitting 5 folds for each of 1 candidates, totalling 5 fits\n",
      "-----\n",
      "Метрика лучшей модели на на кросс-валидации:2570.491\n",
      "-----\n",
      "Лучшие параметры модели: {}\n",
      "-----\n"
     ]
    }
   ],
   "source": [
    "pipe_num = Pipeline([\n",
    "    ('imp_num', SimpleImputer(missing_values=np.nan, strategy='mean')),\n",
    "    ('scale', StandardScaler()),\n",
    "\n",
    "])\n",
    "\n",
    "pipe_cat = Pipeline([\n",
    "    ('imp_cat', SimpleImputer(missing_values=np.nan, strategy='most_frequent')),\n",
    "    ('ohe', OneHotEncoder(drop='first', handle_unknown='ignore', sparse_output=False)),\n",
    "])\n",
    "\n",
    "linear_prep = ColumnTransformer([\n",
    "    ('cat', pipe_cat, cat_col_names),\n",
    "    ('num', pipe_num, num_col_names),\n",
    "], remainder='passthrough')\n",
    "\n",
    "\n",
    "lin_pipe = Pipeline([\n",
    "    ('prep', linear_prep),\n",
    "    ('model', Ridge())\n",
    "])\n",
    "\n",
    "\n",
    "\n",
    "param = {\n",
    "\n",
    "}\n",
    "\n",
    "\n",
    "rand_search_linear = RandomizedSearchCV(\n",
    "    lin_pipe, \n",
    "    param, \n",
    "    cv=5,\n",
    "    scoring='neg_root_mean_squared_error',\n",
    "    n_jobs=-1,\n",
    "    random_state=42,\n",
    "    n_iter=10,\n",
    "    verbose = 3\n",
    ")\n",
    "\n",
    "rand_search_linear = rand_search_linear.fit(X_train, y_train)\n",
    "\n",
    "print('-----')\n",
    "rmse_lr_v = (abs(rand_search_linear.best_score_))\n",
    "print(f'Метрика лучшей модели на на кросс-валидации:{rmse_lr_v:.3f}')\n",
    "print('-----')\n",
    "print(f'Лучшие параметры модели: {rand_search_linear.best_params_}')\n",
    "print('-----')"
   ]
  },
  {
   "cell_type": "code",
   "execution_count": 35,
   "id": "ade65e42",
   "metadata": {},
   "outputs": [
    {
     "name": "stdout",
     "output_type": "stream",
     "text": [
      "Время обучения LinearRegression: 21.12 сек.\n"
     ]
    }
   ],
   "source": [
    "model = lin_pipe\n",
    "start_time = time.time()\n",
    "model = model.fit(X_train, y_train)\n",
    "end_time = time.time()\n",
    "training_time_lr = end_time - start_time\n",
    "\n",
    "print(f'Время обучения LinearRegression: {(training_time_lr):.2f} сек.')"
   ]
  },
  {
   "cell_type": "markdown",
   "id": "b2826974",
   "metadata": {},
   "source": [
    "### Обучение модели — CatBoostRegressor с использованием внутреннего кодировщика"
   ]
  },
  {
   "cell_type": "code",
   "execution_count": 36,
   "id": "0ad1f3bd",
   "metadata": {
    "scrolled": true
   },
   "outputs": [
    {
     "name": "stdout",
     "output_type": "stream",
     "text": [
      "Fitting 5 folds for each of 4 candidates, totalling 20 fits\n",
      "Learning rate set to 0.5\n",
      "0:\tlearn: 3099.8389112\ttotal: 429ms\tremaining: 51s\n",
      "1:\tlearn: 2478.4681427\ttotal: 672ms\tremaining: 39.6s\n",
      "2:\tlearn: 2238.0178075\ttotal: 899ms\tremaining: 35s\n",
      "3:\tlearn: 2052.8242185\ttotal: 1.15s\tremaining: 33.4s\n",
      "4:\tlearn: 1982.5560467\ttotal: 1.38s\tremaining: 31.8s\n",
      "5:\tlearn: 1951.0409067\ttotal: 1.61s\tremaining: 30.6s\n",
      "6:\tlearn: 1899.0477070\ttotal: 1.83s\tremaining: 29.6s\n",
      "7:\tlearn: 1875.4155302\ttotal: 2.08s\tremaining: 29.1s\n",
      "8:\tlearn: 1852.4457625\ttotal: 2.31s\tremaining: 28.6s\n",
      "9:\tlearn: 1839.1616817\ttotal: 2.55s\tremaining: 28s\n",
      "10:\tlearn: 1829.1949818\ttotal: 2.78s\tremaining: 27.5s\n",
      "11:\tlearn: 1819.7807568\ttotal: 3.01s\tremaining: 27.1s\n",
      "12:\tlearn: 1810.6549146\ttotal: 3.25s\tremaining: 26.7s\n",
      "13:\tlearn: 1803.4503193\ttotal: 3.47s\tremaining: 26.3s\n",
      "14:\tlearn: 1798.4918525\ttotal: 3.69s\tremaining: 25.8s\n",
      "15:\tlearn: 1791.1640860\ttotal: 3.92s\tremaining: 25.5s\n",
      "16:\tlearn: 1784.5600208\ttotal: 4.16s\tremaining: 25.2s\n",
      "17:\tlearn: 1779.2181045\ttotal: 4.38s\tremaining: 24.8s\n",
      "18:\tlearn: 1773.8325052\ttotal: 4.59s\tremaining: 24.4s\n",
      "19:\tlearn: 1768.9112297\ttotal: 4.81s\tremaining: 24.1s\n",
      "20:\tlearn: 1762.2558932\ttotal: 5.08s\tremaining: 24s\n",
      "21:\tlearn: 1757.3565628\ttotal: 5.3s\tremaining: 23.6s\n",
      "22:\tlearn: 1752.1947233\ttotal: 5.53s\tremaining: 23.3s\n",
      "23:\tlearn: 1746.9430954\ttotal: 5.74s\tremaining: 23s\n",
      "24:\tlearn: 1743.4820901\ttotal: 5.97s\tremaining: 22.7s\n",
      "25:\tlearn: 1738.1707730\ttotal: 6.2s\tremaining: 22.4s\n",
      "26:\tlearn: 1733.5256320\ttotal: 6.41s\tremaining: 22.1s\n",
      "27:\tlearn: 1728.0017449\ttotal: 6.63s\tremaining: 21.8s\n",
      "28:\tlearn: 1722.4847029\ttotal: 6.84s\tremaining: 21.5s\n",
      "29:\tlearn: 1716.9747813\ttotal: 7.08s\tremaining: 21.2s\n",
      "30:\tlearn: 1711.8503272\ttotal: 7.29s\tremaining: 20.9s\n",
      "31:\tlearn: 1708.2515094\ttotal: 7.52s\tremaining: 20.7s\n",
      "32:\tlearn: 1703.0388448\ttotal: 7.73s\tremaining: 20.4s\n",
      "33:\tlearn: 1699.7371629\ttotal: 7.96s\tremaining: 20.1s\n",
      "34:\tlearn: 1696.4440941\ttotal: 8.19s\tremaining: 19.9s\n",
      "35:\tlearn: 1692.3576356\ttotal: 8.4s\tremaining: 19.6s\n",
      "36:\tlearn: 1691.0266872\ttotal: 8.61s\tremaining: 19.3s\n",
      "37:\tlearn: 1687.8197602\ttotal: 8.82s\tremaining: 19s\n",
      "38:\tlearn: 1684.1903827\ttotal: 9.06s\tremaining: 18.8s\n",
      "39:\tlearn: 1682.7462209\ttotal: 9.27s\tremaining: 18.5s\n",
      "40:\tlearn: 1677.0385053\ttotal: 9.48s\tremaining: 18.3s\n",
      "41:\tlearn: 1673.1782748\ttotal: 9.7s\tremaining: 18s\n",
      "42:\tlearn: 1669.2722403\ttotal: 9.92s\tremaining: 17.8s\n",
      "43:\tlearn: 1668.0988304\ttotal: 10.1s\tremaining: 17.5s\n",
      "44:\tlearn: 1665.3040453\ttotal: 10.4s\tremaining: 17.3s\n",
      "45:\tlearn: 1662.5140845\ttotal: 10.6s\tremaining: 17s\n",
      "46:\tlearn: 1660.5550068\ttotal: 10.8s\tremaining: 16.8s\n",
      "47:\tlearn: 1658.0224931\ttotal: 11s\tremaining: 16.5s\n",
      "48:\tlearn: 1653.4808618\ttotal: 11.2s\tremaining: 16.3s\n",
      "49:\tlearn: 1651.7288073\ttotal: 11.5s\tremaining: 16s\n",
      "50:\tlearn: 1649.6593489\ttotal: 11.7s\tremaining: 15.8s\n",
      "51:\tlearn: 1647.6196199\ttotal: 11.9s\tremaining: 15.5s\n",
      "52:\tlearn: 1644.5436794\ttotal: 12.1s\tremaining: 15.3s\n",
      "53:\tlearn: 1641.9252505\ttotal: 12.3s\tremaining: 15.1s\n",
      "54:\tlearn: 1640.1549246\ttotal: 12.5s\tremaining: 14.8s\n",
      "55:\tlearn: 1638.8962159\ttotal: 12.8s\tremaining: 14.6s\n",
      "56:\tlearn: 1635.5261300\ttotal: 13s\tremaining: 14.3s\n",
      "57:\tlearn: 1632.0204627\ttotal: 13.2s\tremaining: 14.1s\n",
      "58:\tlearn: 1630.2992700\ttotal: 13.4s\tremaining: 13.9s\n",
      "59:\tlearn: 1628.7327665\ttotal: 13.6s\tremaining: 13.6s\n",
      "60:\tlearn: 1627.1831131\ttotal: 13.9s\tremaining: 13.4s\n",
      "61:\tlearn: 1624.5548390\ttotal: 14.1s\tremaining: 13.2s\n",
      "62:\tlearn: 1622.0196322\ttotal: 14.3s\tremaining: 12.9s\n",
      "63:\tlearn: 1619.7837226\ttotal: 14.5s\tremaining: 12.7s\n",
      "64:\tlearn: 1617.4579001\ttotal: 14.7s\tremaining: 12.5s\n",
      "65:\tlearn: 1615.7009810\ttotal: 14.9s\tremaining: 12.2s\n",
      "66:\tlearn: 1614.6075568\ttotal: 15.2s\tremaining: 12s\n",
      "67:\tlearn: 1613.2800092\ttotal: 15.4s\tremaining: 11.8s\n",
      "68:\tlearn: 1610.8466455\ttotal: 15.6s\tremaining: 11.5s\n",
      "69:\tlearn: 1609.0408124\ttotal: 15.8s\tremaining: 11.3s\n",
      "70:\tlearn: 1606.5224751\ttotal: 16s\tremaining: 11.1s\n",
      "71:\tlearn: 1602.6609909\ttotal: 16.2s\tremaining: 10.8s\n",
      "72:\tlearn: 1602.1416025\ttotal: 16.5s\tremaining: 10.6s\n",
      "73:\tlearn: 1599.2166820\ttotal: 16.7s\tremaining: 10.4s\n",
      "74:\tlearn: 1596.7858884\ttotal: 16.9s\tremaining: 10.1s\n",
      "75:\tlearn: 1595.4223631\ttotal: 17.1s\tremaining: 9.92s\n",
      "76:\tlearn: 1594.5659594\ttotal: 17.3s\tremaining: 9.68s\n",
      "77:\tlearn: 1593.7474841\ttotal: 17.6s\tremaining: 9.45s\n",
      "78:\tlearn: 1592.6778373\ttotal: 17.8s\tremaining: 9.22s\n",
      "79:\tlearn: 1590.3475053\ttotal: 18s\tremaining: 8.99s\n",
      "80:\tlearn: 1589.8643919\ttotal: 18.2s\tremaining: 8.77s\n",
      "81:\tlearn: 1588.7774988\ttotal: 18.4s\tremaining: 8.53s\n",
      "82:\tlearn: 1587.0841850\ttotal: 18.6s\tremaining: 8.3s\n",
      "83:\tlearn: 1585.6042977\ttotal: 18.8s\tremaining: 8.08s\n",
      "84:\tlearn: 1584.3979222\ttotal: 19.1s\tremaining: 7.85s\n",
      "85:\tlearn: 1582.7046916\ttotal: 19.3s\tremaining: 7.63s\n",
      "86:\tlearn: 1581.4248548\ttotal: 19.5s\tremaining: 7.4s\n",
      "87:\tlearn: 1579.1491306\ttotal: 19.7s\tremaining: 7.17s\n",
      "88:\tlearn: 1577.1170112\ttotal: 19.9s\tremaining: 6.95s\n",
      "89:\tlearn: 1575.2928774\ttotal: 20.2s\tremaining: 6.72s\n",
      "90:\tlearn: 1573.4742062\ttotal: 20.4s\tremaining: 6.5s\n",
      "91:\tlearn: 1572.8412299\ttotal: 20.6s\tremaining: 6.27s\n",
      "92:\tlearn: 1571.2285214\ttotal: 20.8s\tremaining: 6.04s\n",
      "93:\tlearn: 1569.8266155\ttotal: 21s\tremaining: 5.82s\n",
      "94:\tlearn: 1568.1452504\ttotal: 21.2s\tremaining: 5.59s\n",
      "95:\tlearn: 1566.5591180\ttotal: 21.5s\tremaining: 5.37s\n",
      "96:\tlearn: 1564.7832778\ttotal: 21.7s\tremaining: 5.14s\n",
      "97:\tlearn: 1563.5211466\ttotal: 21.9s\tremaining: 4.92s\n",
      "98:\tlearn: 1562.2468350\ttotal: 22.1s\tremaining: 4.69s\n",
      "99:\tlearn: 1561.3161089\ttotal: 22.3s\tremaining: 4.46s\n",
      "100:\tlearn: 1560.1236698\ttotal: 22.5s\tremaining: 4.24s\n",
      "101:\tlearn: 1558.7905338\ttotal: 22.8s\tremaining: 4.02s\n",
      "102:\tlearn: 1557.0580953\ttotal: 23s\tremaining: 3.79s\n",
      "103:\tlearn: 1555.8434109\ttotal: 23.2s\tremaining: 3.57s\n",
      "104:\tlearn: 1554.3127735\ttotal: 23.4s\tremaining: 3.35s\n",
      "105:\tlearn: 1553.4198269\ttotal: 23.6s\tremaining: 3.12s\n",
      "106:\tlearn: 1552.2948134\ttotal: 23.9s\tremaining: 2.9s\n",
      "107:\tlearn: 1551.4670977\ttotal: 24.1s\tremaining: 2.67s\n",
      "108:\tlearn: 1548.9857591\ttotal: 24.3s\tremaining: 2.45s\n",
      "109:\tlearn: 1547.2961152\ttotal: 24.5s\tremaining: 2.23s\n",
      "110:\tlearn: 1546.6540870\ttotal: 24.7s\tremaining: 2s\n",
      "111:\tlearn: 1545.5966903\ttotal: 24.9s\tremaining: 1.78s\n",
      "112:\tlearn: 1544.9245882\ttotal: 25.1s\tremaining: 1.56s\n",
      "113:\tlearn: 1543.6272212\ttotal: 25.4s\tremaining: 1.33s\n",
      "114:\tlearn: 1541.4451936\ttotal: 25.6s\tremaining: 1.11s\n",
      "115:\tlearn: 1539.6124704\ttotal: 25.8s\tremaining: 889ms\n",
      "116:\tlearn: 1537.8199906\ttotal: 26s\tremaining: 667ms\n",
      "117:\tlearn: 1536.9661656\ttotal: 26.2s\tremaining: 445ms\n",
      "118:\tlearn: 1535.0765322\ttotal: 26.4s\tremaining: 222ms\n",
      "119:\tlearn: 1533.9811885\ttotal: 26.6s\tremaining: 0us\n",
      "-----\n",
      "Метрика лучшей модели на на кросс-валидации:1757.278\n",
      "-----\n",
      "Лучшие параметры модели: {'cat_features': ['gearbox', 'fuel_type', 'repaired', 'brand_model_vehicle_type'], 'max_depth': 12, 'n_estimators': 120}\n",
      "-----\n"
     ]
    }
   ],
   "source": [
    "cbr_model = CatBoostRegressor()\n",
    "cbrm_params = {\n",
    "               'n_estimators': [100, 120],\n",
    "               'max_depth': [12, 14],\n",
    "               'cat_features': [cat_col_names]\n",
    "              }\n",
    "\n",
    "cbrm_cv_model = GridSearchCV(cbr_model,\n",
    "                             cbrm_params,\n",
    "                             cv=5,\n",
    "                             scoring ='neg_mean_squared_error',\n",
    "                             n_jobs=-1,\n",
    "                             verbose=1).fit(X_train, y_train)\n",
    "\n",
    "print('-----')\n",
    "rmse_catboost_v = (abs(cbrm_cv_model.best_score_)**0.5)\n",
    "print(f'Метрика лучшей модели на на кросс-валидации:{rmse_catboost_v:.3f}')\n",
    "print('-----')\n",
    "print(f'Лучшие параметры модели: {cbrm_cv_model.best_params_}')\n",
    "print('-----')"
   ]
  },
  {
   "cell_type": "code",
   "execution_count": 37,
   "id": "050b6917",
   "metadata": {
    "scrolled": true
   },
   "outputs": [
    {
     "name": "stdout",
     "output_type": "stream",
     "text": [
      "Learning rate set to 0.5\n",
      "0:\tlearn: 3099.8389112\ttotal: 248ms\tremaining: 29.5s\n",
      "1:\tlearn: 2478.4681427\ttotal: 483ms\tremaining: 28.5s\n",
      "2:\tlearn: 2238.0178075\ttotal: 698ms\tremaining: 27.2s\n",
      "3:\tlearn: 2052.8242185\ttotal: 939ms\tremaining: 27.2s\n",
      "4:\tlearn: 1982.5560467\ttotal: 1.17s\tremaining: 26.9s\n",
      "5:\tlearn: 1951.0409067\ttotal: 1.39s\tremaining: 26.3s\n",
      "6:\tlearn: 1899.0477070\ttotal: 1.61s\tremaining: 26.1s\n",
      "7:\tlearn: 1875.4155302\ttotal: 1.84s\tremaining: 25.7s\n",
      "8:\tlearn: 1852.4457625\ttotal: 2.08s\tremaining: 25.6s\n",
      "9:\tlearn: 1839.1616817\ttotal: 2.31s\tremaining: 25.4s\n",
      "10:\tlearn: 1829.1949818\ttotal: 2.52s\tremaining: 25s\n",
      "11:\tlearn: 1819.7807568\ttotal: 2.74s\tremaining: 24.7s\n",
      "12:\tlearn: 1810.6549146\ttotal: 2.97s\tremaining: 24.4s\n",
      "13:\tlearn: 1803.4503193\ttotal: 3.19s\tremaining: 24.2s\n",
      "14:\tlearn: 1798.4918525\ttotal: 3.41s\tremaining: 23.9s\n",
      "15:\tlearn: 1791.1640860\ttotal: 3.63s\tremaining: 23.6s\n",
      "16:\tlearn: 1784.5600208\ttotal: 3.85s\tremaining: 23.4s\n",
      "17:\tlearn: 1779.2181045\ttotal: 4.09s\tremaining: 23.2s\n",
      "18:\tlearn: 1773.8325052\ttotal: 4.3s\tremaining: 22.9s\n",
      "19:\tlearn: 1768.9112297\ttotal: 4.52s\tremaining: 22.6s\n",
      "20:\tlearn: 1762.2558932\ttotal: 4.74s\tremaining: 22.3s\n",
      "21:\tlearn: 1757.3565628\ttotal: 4.97s\tremaining: 22.2s\n",
      "22:\tlearn: 1752.1947233\ttotal: 5.19s\tremaining: 21.9s\n",
      "23:\tlearn: 1746.9430954\ttotal: 5.41s\tremaining: 21.6s\n",
      "24:\tlearn: 1743.4820901\ttotal: 5.63s\tremaining: 21.4s\n",
      "25:\tlearn: 1738.1707730\ttotal: 5.86s\tremaining: 21.2s\n",
      "26:\tlearn: 1733.5256320\ttotal: 6.08s\tremaining: 21s\n",
      "27:\tlearn: 1728.0017449\ttotal: 6.3s\tremaining: 20.7s\n",
      "28:\tlearn: 1722.4847029\ttotal: 6.52s\tremaining: 20.5s\n",
      "29:\tlearn: 1716.9747813\ttotal: 6.73s\tremaining: 20.2s\n",
      "30:\tlearn: 1711.8503272\ttotal: 6.96s\tremaining: 20s\n",
      "31:\tlearn: 1708.2515094\ttotal: 7.19s\tremaining: 19.8s\n",
      "32:\tlearn: 1703.0388448\ttotal: 7.41s\tremaining: 19.5s\n",
      "33:\tlearn: 1699.7371629\ttotal: 7.62s\tremaining: 19.3s\n",
      "34:\tlearn: 1696.4440941\ttotal: 7.84s\tremaining: 19.1s\n",
      "35:\tlearn: 1692.3576356\ttotal: 8.08s\tremaining: 18.8s\n",
      "36:\tlearn: 1691.0266872\ttotal: 8.29s\tremaining: 18.6s\n",
      "37:\tlearn: 1687.8197602\ttotal: 8.51s\tremaining: 18.4s\n",
      "38:\tlearn: 1684.1903827\ttotal: 8.72s\tremaining: 18.1s\n",
      "39:\tlearn: 1682.7462209\ttotal: 8.95s\tremaining: 17.9s\n",
      "40:\tlearn: 1677.0385053\ttotal: 9.18s\tremaining: 17.7s\n",
      "41:\tlearn: 1673.1782748\ttotal: 9.39s\tremaining: 17.4s\n",
      "42:\tlearn: 1669.2722403\ttotal: 9.61s\tremaining: 17.2s\n",
      "43:\tlearn: 1668.0988304\ttotal: 9.83s\tremaining: 17s\n",
      "44:\tlearn: 1665.3040453\ttotal: 10.1s\tremaining: 16.8s\n",
      "45:\tlearn: 1662.5140845\ttotal: 10.3s\tremaining: 16.5s\n",
      "46:\tlearn: 1660.5550068\ttotal: 10.5s\tremaining: 16.3s\n",
      "47:\tlearn: 1658.0224931\ttotal: 10.7s\tremaining: 16s\n",
      "48:\tlearn: 1653.4808618\ttotal: 10.9s\tremaining: 15.8s\n",
      "49:\tlearn: 1651.7288073\ttotal: 11.1s\tremaining: 15.6s\n",
      "50:\tlearn: 1649.6593489\ttotal: 11.4s\tremaining: 15.4s\n",
      "51:\tlearn: 1647.6196199\ttotal: 11.6s\tremaining: 15.1s\n",
      "52:\tlearn: 1644.5436794\ttotal: 11.8s\tremaining: 14.9s\n",
      "53:\tlearn: 1641.9252505\ttotal: 12s\tremaining: 14.7s\n",
      "54:\tlearn: 1640.1549246\ttotal: 12.2s\tremaining: 14.5s\n",
      "55:\tlearn: 1638.8962159\ttotal: 12.4s\tremaining: 14.2s\n",
      "56:\tlearn: 1635.5261300\ttotal: 12.7s\tremaining: 14s\n",
      "57:\tlearn: 1632.0204627\ttotal: 12.9s\tremaining: 13.8s\n",
      "58:\tlearn: 1630.2992700\ttotal: 13.1s\tremaining: 13.6s\n",
      "59:\tlearn: 1628.7327665\ttotal: 13.3s\tremaining: 13.3s\n",
      "60:\tlearn: 1627.1831131\ttotal: 13.6s\tremaining: 13.1s\n",
      "61:\tlearn: 1624.5548390\ttotal: 13.8s\tremaining: 12.9s\n",
      "62:\tlearn: 1622.0196322\ttotal: 14s\tremaining: 12.7s\n",
      "63:\tlearn: 1619.7837226\ttotal: 14.3s\tremaining: 12.5s\n",
      "64:\tlearn: 1617.4579001\ttotal: 14.5s\tremaining: 12.3s\n",
      "65:\tlearn: 1615.7009810\ttotal: 14.7s\tremaining: 12s\n",
      "66:\tlearn: 1614.6075568\ttotal: 15s\tremaining: 11.8s\n",
      "67:\tlearn: 1613.2800092\ttotal: 15.2s\tremaining: 11.6s\n",
      "68:\tlearn: 1610.8466455\ttotal: 15.4s\tremaining: 11.4s\n",
      "69:\tlearn: 1609.0408124\ttotal: 15.6s\tremaining: 11.2s\n",
      "70:\tlearn: 1606.5224751\ttotal: 15.9s\tremaining: 10.9s\n",
      "71:\tlearn: 1602.6609909\ttotal: 16.1s\tremaining: 10.7s\n",
      "72:\tlearn: 1602.1416025\ttotal: 16.3s\tremaining: 10.5s\n",
      "73:\tlearn: 1599.2166820\ttotal: 16.6s\tremaining: 10.3s\n",
      "74:\tlearn: 1596.7858884\ttotal: 16.8s\tremaining: 10.1s\n",
      "75:\tlearn: 1595.4223631\ttotal: 17s\tremaining: 9.85s\n",
      "76:\tlearn: 1594.5659594\ttotal: 17.2s\tremaining: 9.63s\n",
      "77:\tlearn: 1593.7474841\ttotal: 17.5s\tremaining: 9.4s\n",
      "78:\tlearn: 1592.6778373\ttotal: 17.7s\tremaining: 9.18s\n",
      "79:\tlearn: 1590.3475053\ttotal: 17.9s\tremaining: 8.96s\n",
      "80:\tlearn: 1589.8643919\ttotal: 18.1s\tremaining: 8.73s\n",
      "81:\tlearn: 1588.7774988\ttotal: 18.4s\tremaining: 8.51s\n",
      "82:\tlearn: 1587.0841850\ttotal: 18.6s\tremaining: 8.29s\n",
      "83:\tlearn: 1585.6042977\ttotal: 18.8s\tremaining: 8.06s\n",
      "84:\tlearn: 1584.3979222\ttotal: 19s\tremaining: 7.84s\n",
      "85:\tlearn: 1582.7046916\ttotal: 19.3s\tremaining: 7.62s\n",
      "86:\tlearn: 1581.4248548\ttotal: 19.5s\tremaining: 7.39s\n",
      "87:\tlearn: 1579.1491306\ttotal: 19.7s\tremaining: 7.17s\n",
      "88:\tlearn: 1577.1170112\ttotal: 19.9s\tremaining: 6.95s\n",
      "89:\tlearn: 1575.2928774\ttotal: 20.2s\tremaining: 6.72s\n",
      "90:\tlearn: 1573.4742062\ttotal: 20.4s\tremaining: 6.5s\n",
      "91:\tlearn: 1572.8412299\ttotal: 20.6s\tremaining: 6.27s\n",
      "92:\tlearn: 1571.2285214\ttotal: 20.8s\tremaining: 6.05s\n",
      "93:\tlearn: 1569.8266155\ttotal: 21.1s\tremaining: 5.83s\n",
      "94:\tlearn: 1568.1452504\ttotal: 21.3s\tremaining: 5.6s\n",
      "95:\tlearn: 1566.5591180\ttotal: 21.5s\tremaining: 5.37s\n",
      "96:\tlearn: 1564.7832778\ttotal: 21.7s\tremaining: 5.15s\n",
      "97:\tlearn: 1563.5211466\ttotal: 21.9s\tremaining: 4.93s\n",
      "98:\tlearn: 1562.2468350\ttotal: 22.2s\tremaining: 4.7s\n",
      "99:\tlearn: 1561.3161089\ttotal: 22.4s\tremaining: 4.48s\n",
      "100:\tlearn: 1560.1236698\ttotal: 22.6s\tremaining: 4.25s\n",
      "101:\tlearn: 1558.7905338\ttotal: 22.8s\tremaining: 4.03s\n",
      "102:\tlearn: 1557.0580953\ttotal: 23.1s\tremaining: 3.81s\n",
      "103:\tlearn: 1555.8434109\ttotal: 23.3s\tremaining: 3.58s\n",
      "104:\tlearn: 1554.3127735\ttotal: 23.5s\tremaining: 3.36s\n",
      "105:\tlearn: 1553.4198269\ttotal: 23.7s\tremaining: 3.13s\n",
      "106:\tlearn: 1552.2948134\ttotal: 23.9s\tremaining: 2.91s\n",
      "107:\tlearn: 1551.4670977\ttotal: 24.2s\tremaining: 2.68s\n",
      "108:\tlearn: 1548.9857591\ttotal: 24.4s\tremaining: 2.46s\n",
      "109:\tlearn: 1547.2961152\ttotal: 24.6s\tremaining: 2.24s\n",
      "110:\tlearn: 1546.6540870\ttotal: 24.8s\tremaining: 2.01s\n",
      "111:\tlearn: 1545.5966903\ttotal: 25.1s\tremaining: 1.79s\n",
      "112:\tlearn: 1544.9245882\ttotal: 25.3s\tremaining: 1.56s\n",
      "113:\tlearn: 1543.6272212\ttotal: 25.5s\tremaining: 1.34s\n",
      "114:\tlearn: 1541.4451936\ttotal: 25.7s\tremaining: 1.12s\n",
      "115:\tlearn: 1539.6124704\ttotal: 26s\tremaining: 895ms\n",
      "116:\tlearn: 1537.8199906\ttotal: 26.2s\tremaining: 672ms\n",
      "117:\tlearn: 1536.9661656\ttotal: 26.4s\tremaining: 448ms\n",
      "118:\tlearn: 1535.0765322\ttotal: 26.6s\tremaining: 224ms\n",
      "119:\tlearn: 1533.9811885\ttotal: 26.9s\tremaining: 0us\n",
      "Время обучения CatBoostRegressor: 27.27 сек.\n"
     ]
    }
   ],
   "source": [
    "start_time = time.time()\n",
    "\n",
    "model = CatBoostRegressor(cat_features=['gearbox', 'fuel_type', 'repaired', 'brand_model_vehicle_type'], max_depth=12, n_estimators=120).fit(X_train, y_train)\n",
    "\n",
    "end_time = time.time()\n",
    "training_time_cbr = end_time - start_time\n",
    "print(f'Время обучения CatBoostRegressor: {(training_time_cbr):.2f} сек.')"
   ]
  },
  {
   "cell_type": "markdown",
   "id": "a3b84abb",
   "metadata": {},
   "source": [
    "**Вывод по обучению моделей**\n",
    "\n",
    "+ Подготовили данные, разделили их на тренировочную и тестовую\n",
    "+ Для моделей без встроенного кодировщика провели кодирование и масштабирование данных\n",
    "+ Обучили модель — LightGBM\n",
    "+ Обучили модель — Ridge аналог LinearRegression\n",
    "+ Обучили модель — CatBoostRegressor \n",
    "+ Получили показатели:\n",
    "    + RMSE - среднеквадратичная ошибка\n",
    "    + Т - время обучения моделей"
   ]
  },
  {
   "cell_type": "markdown",
   "id": "b34bc998",
   "metadata": {},
   "source": [
    "## Анализ моделей"
   ]
  },
  {
   "cell_type": "markdown",
   "id": "5f0f1289",
   "metadata": {},
   "source": [
    "### Подготовка сводной таблицы"
   ]
  },
  {
   "cell_type": "code",
   "execution_count": 38,
   "id": "18d08202",
   "metadata": {},
   "outputs": [],
   "source": [
    "start_time = time.time()\n",
    "lgbm_cv_model.predict(X_test)\n",
    "end_time = time.time()\n",
    "time_lgbm = round((end_time - start_time), 2)"
   ]
  },
  {
   "cell_type": "code",
   "execution_count": 39,
   "id": "aa0c147a",
   "metadata": {},
   "outputs": [],
   "source": [
    "start_time = time.time()\n",
    "cbrm_cv_model.predict(X_test)\n",
    "end_time = time.time()\n",
    "time_cbrm = round((end_time - start_time), 2)"
   ]
  },
  {
   "cell_type": "code",
   "execution_count": 40,
   "id": "caa9a877",
   "metadata": {},
   "outputs": [],
   "source": [
    "start_time = time.time()\n",
    "rand_search_linear.predict(X_test)\n",
    "end_time = time.time()\n",
    "time_lr = round((end_time - start_time), 2)"
   ]
  },
  {
   "cell_type": "code",
   "execution_count": 41,
   "id": "b069a4f4",
   "metadata": {
    "scrolled": true
   },
   "outputs": [
    {
     "data": {
      "text/html": [
       "<div>\n",
       "<style scoped>\n",
       "    .dataframe tbody tr th:only-of-type {\n",
       "        vertical-align: middle;\n",
       "    }\n",
       "\n",
       "    .dataframe tbody tr th {\n",
       "        vertical-align: top;\n",
       "    }\n",
       "\n",
       "    .dataframe thead th {\n",
       "        text-align: right;\n",
       "    }\n",
       "</style>\n",
       "<table border=\"1\" class=\"dataframe\">\n",
       "  <thead>\n",
       "    <tr style=\"text-align: right;\">\n",
       "      <th></th>\n",
       "      <th>Model</th>\n",
       "      <th>Training_Time_sec</th>\n",
       "      <th>Prediction_Time_sec</th>\n",
       "      <th>RMSE_Valid</th>\n",
       "    </tr>\n",
       "  </thead>\n",
       "  <tbody>\n",
       "    <tr>\n",
       "      <th>0</th>\n",
       "      <td>Linear_Regression</td>\n",
       "      <td>21.116999</td>\n",
       "      <td>1.42</td>\n",
       "      <td>2570.491156</td>\n",
       "    </tr>\n",
       "    <tr>\n",
       "      <th>1</th>\n",
       "      <td>LightGBM_Regression</td>\n",
       "      <td>1.240994</td>\n",
       "      <td>0.32</td>\n",
       "      <td>1648.628016</td>\n",
       "    </tr>\n",
       "    <tr>\n",
       "      <th>2</th>\n",
       "      <td>CatBoost_Regressor</td>\n",
       "      <td>27.270001</td>\n",
       "      <td>0.06</td>\n",
       "      <td>1757.277979</td>\n",
       "    </tr>\n",
       "  </tbody>\n",
       "</table>\n",
       "</div>"
      ],
      "text/plain": [
       "                 Model  Training_Time_sec  Prediction_Time_sec   RMSE_Valid\n",
       "0    Linear_Regression          21.116999                 1.42  2570.491156\n",
       "1  LightGBM_Regression           1.240994                 0.32  1648.628016\n",
       "2   CatBoost_Regressor          27.270001                 0.06  1757.277979"
      ]
     },
     "execution_count": 41,
     "metadata": {},
     "output_type": "execute_result"
    }
   ],
   "source": [
    "results = pd.DataFrame({'Model': ['Linear_Regression', 'LightGBM_Regression', 'CatBoost_Regressor'],\n",
    "                        'Training_Time_sec': [training_time_lr, training_time_lgb, training_time_cbr],\n",
    "                        'Prediction_Time_sec': [time_lr, time_lgbm, time_cbrm],\n",
    "                        'RMSE_Valid': [rmse_lr_v, rmse_lgb_v, rmse_catboost_v]})\n",
    "results"
   ]
  },
  {
   "cell_type": "markdown",
   "id": "966edba3",
   "metadata": {},
   "source": [
    "Для заказчика важны:\n",
    "+ качество предсказания (RMSE модели должен быть не более 2500);\n",
    "+ скорость предсказания;\n",
    "+ время обучения.\n",
    "\n",
    "Отберем лучшую модель по этим параметрам."
   ]
  },
  {
   "cell_type": "markdown",
   "id": "7ff7fb57",
   "metadata": {},
   "source": [
    "### Качество модели\n",
    "+ Исключим модели у которых RMSE более 2500\n",
    "+ Отсортируем по возрастающей"
   ]
  },
  {
   "cell_type": "code",
   "execution_count": 42,
   "id": "cd72ea76",
   "metadata": {},
   "outputs": [
    {
     "data": {
      "text/html": [
       "<div>\n",
       "<style scoped>\n",
       "    .dataframe tbody tr th:only-of-type {\n",
       "        vertical-align: middle;\n",
       "    }\n",
       "\n",
       "    .dataframe tbody tr th {\n",
       "        vertical-align: top;\n",
       "    }\n",
       "\n",
       "    .dataframe thead th {\n",
       "        text-align: right;\n",
       "    }\n",
       "</style>\n",
       "<table border=\"1\" class=\"dataframe\">\n",
       "  <thead>\n",
       "    <tr style=\"text-align: right;\">\n",
       "      <th></th>\n",
       "      <th>Model</th>\n",
       "      <th>Training_Time_sec</th>\n",
       "      <th>Prediction_Time_sec</th>\n",
       "      <th>RMSE_Valid</th>\n",
       "    </tr>\n",
       "  </thead>\n",
       "  <tbody>\n",
       "    <tr>\n",
       "      <th>1</th>\n",
       "      <td>LightGBM_Regression</td>\n",
       "      <td>1.240994</td>\n",
       "      <td>0.32</td>\n",
       "      <td>1648.628016</td>\n",
       "    </tr>\n",
       "    <tr>\n",
       "      <th>2</th>\n",
       "      <td>CatBoost_Regressor</td>\n",
       "      <td>27.270001</td>\n",
       "      <td>0.06</td>\n",
       "      <td>1757.277979</td>\n",
       "    </tr>\n",
       "  </tbody>\n",
       "</table>\n",
       "</div>"
      ],
      "text/plain": [
       "                 Model  Training_Time_sec  Prediction_Time_sec   RMSE_Valid\n",
       "1  LightGBM_Regression           1.240994                 0.32  1648.628016\n",
       "2   CatBoost_Regressor          27.270001                 0.06  1757.277979"
      ]
     },
     "execution_count": 42,
     "metadata": {},
     "output_type": "execute_result"
    }
   ],
   "source": [
    "results = results[results['RMSE_Valid']<2500].sort_values('RMSE_Valid')\n",
    "results"
   ]
  },
  {
   "cell_type": "markdown",
   "id": "45fe0241",
   "metadata": {},
   "source": [
    "Более качественная модель `LightGBM_Regression` значение RMSE (среднеквадратичная ошибка)  = 1648."
   ]
  },
  {
   "cell_type": "markdown",
   "id": "48d824c7",
   "metadata": {},
   "source": [
    "### Скорость предсказания\n",
    "+ Отсортируем по возрастающей"
   ]
  },
  {
   "cell_type": "code",
   "execution_count": 43,
   "id": "66a7ffe1",
   "metadata": {},
   "outputs": [
    {
     "data": {
      "text/html": [
       "<div>\n",
       "<style scoped>\n",
       "    .dataframe tbody tr th:only-of-type {\n",
       "        vertical-align: middle;\n",
       "    }\n",
       "\n",
       "    .dataframe tbody tr th {\n",
       "        vertical-align: top;\n",
       "    }\n",
       "\n",
       "    .dataframe thead th {\n",
       "        text-align: right;\n",
       "    }\n",
       "</style>\n",
       "<table border=\"1\" class=\"dataframe\">\n",
       "  <thead>\n",
       "    <tr style=\"text-align: right;\">\n",
       "      <th></th>\n",
       "      <th>Model</th>\n",
       "      <th>Training_Time_sec</th>\n",
       "      <th>Prediction_Time_sec</th>\n",
       "      <th>RMSE_Valid</th>\n",
       "    </tr>\n",
       "  </thead>\n",
       "  <tbody>\n",
       "    <tr>\n",
       "      <th>2</th>\n",
       "      <td>CatBoost_Regressor</td>\n",
       "      <td>27.270001</td>\n",
       "      <td>0.06</td>\n",
       "      <td>1757.277979</td>\n",
       "    </tr>\n",
       "    <tr>\n",
       "      <th>1</th>\n",
       "      <td>LightGBM_Regression</td>\n",
       "      <td>1.240994</td>\n",
       "      <td>0.32</td>\n",
       "      <td>1648.628016</td>\n",
       "    </tr>\n",
       "  </tbody>\n",
       "</table>\n",
       "</div>"
      ],
      "text/plain": [
       "                 Model  Training_Time_sec  Prediction_Time_sec   RMSE_Valid\n",
       "2   CatBoost_Regressor          27.270001                 0.06  1757.277979\n",
       "1  LightGBM_Regression           1.240994                 0.32  1648.628016"
      ]
     },
     "execution_count": 43,
     "metadata": {},
     "output_type": "execute_result"
    }
   ],
   "source": [
    "results = results.sort_values('Prediction_Time_sec')\n",
    "results"
   ]
  },
  {
   "cell_type": "markdown",
   "id": "d877257b",
   "metadata": {},
   "source": [
    "Обе модели по скорости предсказания менее одной секунды, но модель `CatBoost_Regressor` предсказывает быстрее чем модель `LightGBM_Regression`. "
   ]
  },
  {
   "cell_type": "markdown",
   "id": "e962f7db",
   "metadata": {},
   "source": [
    "### Скорость обучения\n",
    "+ Отсортируем по возрастающей"
   ]
  },
  {
   "cell_type": "code",
   "execution_count": 44,
   "id": "f4815b17",
   "metadata": {},
   "outputs": [
    {
     "data": {
      "text/html": [
       "<div>\n",
       "<style scoped>\n",
       "    .dataframe tbody tr th:only-of-type {\n",
       "        vertical-align: middle;\n",
       "    }\n",
       "\n",
       "    .dataframe tbody tr th {\n",
       "        vertical-align: top;\n",
       "    }\n",
       "\n",
       "    .dataframe thead th {\n",
       "        text-align: right;\n",
       "    }\n",
       "</style>\n",
       "<table border=\"1\" class=\"dataframe\">\n",
       "  <thead>\n",
       "    <tr style=\"text-align: right;\">\n",
       "      <th></th>\n",
       "      <th>Model</th>\n",
       "      <th>Training_Time_sec</th>\n",
       "      <th>Prediction_Time_sec</th>\n",
       "      <th>RMSE_Valid</th>\n",
       "    </tr>\n",
       "  </thead>\n",
       "  <tbody>\n",
       "    <tr>\n",
       "      <th>1</th>\n",
       "      <td>LightGBM_Regression</td>\n",
       "      <td>1.240994</td>\n",
       "      <td>0.32</td>\n",
       "      <td>1648.628016</td>\n",
       "    </tr>\n",
       "    <tr>\n",
       "      <th>2</th>\n",
       "      <td>CatBoost_Regressor</td>\n",
       "      <td>27.270001</td>\n",
       "      <td>0.06</td>\n",
       "      <td>1757.277979</td>\n",
       "    </tr>\n",
       "  </tbody>\n",
       "</table>\n",
       "</div>"
      ],
      "text/plain": [
       "                 Model  Training_Time_sec  Prediction_Time_sec   RMSE_Valid\n",
       "1  LightGBM_Regression           1.240994                 0.32  1648.628016\n",
       "2   CatBoost_Regressor          27.270001                 0.06  1757.277979"
      ]
     },
     "execution_count": 44,
     "metadata": {},
     "output_type": "execute_result"
    }
   ],
   "source": [
    "results = results.sort_values('Training_Time_sec')\n",
    "results"
   ]
  },
  {
   "cell_type": "markdown",
   "id": "7af9a2c7",
   "metadata": {},
   "source": [
    "Быстрее обучается модель `LightGBM_Regression`."
   ]
  },
  {
   "cell_type": "markdown",
   "id": "2f8f35dd",
   "metadata": {},
   "source": [
    "**Вывод по анализу моделей**\n",
    "\n",
    "Самой точной моделью является `LightGBM_Regression`.\\\n",
    "Быстрее всех предсказывает `CatBoost_Regressor`.\\\n",
    "Быстрее всех обучается `LightGBM_Regression`\n",
    "\n",
    "Оптимальным решением будет выбрать модель `LightGBM_Regression`.\n",
    "\n",
    "Проверим соответствие модели требованиям на тестовых данных."
   ]
  },
  {
   "cell_type": "code",
   "execution_count": 45,
   "id": "2675f6b3",
   "metadata": {},
   "outputs": [
    {
     "name": "stdout",
     "output_type": "stream",
     "text": [
      "RMSE LGBMRegressor на валидации: 1648.63\n",
      "RMSE LGBMRegressor на тестовой выборке: 1646.26\n",
      "Потеря качества модели LGBMRegressor на тестовой выборке по отношению к валидационной: -0.143 %\n"
     ]
    }
   ],
   "source": [
    "rmse_test = mean_squared_error(y_test, lgbm_cv_model.predict(X_test), squared=False)\n",
    "print(\"RMSE LGBMRegressor на валидации: %.2f\" % rmse_lgb_v)\n",
    "print(\"RMSE LGBMRegressor на тестовой выборке: %.2f\" % rmse_test)\n",
    "print(f'Потеря качества модели LGBMRegressor на тестовой выборке по отношению к валидационной: {((rmse_test - rmse_lgb_v)/rmse_lgb_v*100):.3f} %' )"
   ]
  },
  {
   "cell_type": "markdown",
   "id": "33bf344f",
   "metadata": {},
   "source": [
    "Расчитанный параметр RMSE на тестовых данных нас устраивает."
   ]
  },
  {
   "cell_type": "markdown",
   "id": "ba3d7043",
   "metadata": {},
   "source": [
    "## Вывод\n",
    "\n",
    "1. Подготовительный этап\n",
    "+ Предварительная обработка:\n",
    "+ Стандартизация и очистка данных\n",
    "+ Трансформация исходных признаков\n",
    "+ Формирование оптимальной структуры датасета\n",
    "+ Исследовательский анализ:\n",
    "+ Изучение характеристик набора данных\n",
    "+ Выявление закономерностей и аномалий\n",
    "+ Оценка распределения признаков\n",
    "\n",
    "2. Аналитический этап\n",
    "+ Корреляционный анализ:\n",
    "    + Исследование взаимосвязей между признаками\n",
    "    + Выявление мультиколлинеарности\n",
    "    + Оптимизация набора предикторов\n",
    "\n",
    "3. Моделирование\n",
    "+ Разработка моделей:\n",
    "    + Реализация алгоритма LightGBM для прогнозирования\n",
    "    + Создание линейной регрессионной модели (LinearRegression) с применением:\n",
    "        + Кодирования категориальных признаков\n",
    "        + Масштабирования числовых характеристик\n",
    "    + Внедрение градиентного бустинга (CatBoostRegressor)\n",
    "\n",
    "4. Оценка результатов\n",
    "+ Валидация моделей:\n",
    "    + Сравнительный анализ производительности\n",
    "    + Оценка метрик качества\n",
    "    + Определение наиболее эффективной модели\n",
    "\n",
    "5. Финализация\n",
    "+ Внедрение решения:\n",
    "    + Выбор оптимальной модели (LightGBM)\n",
    "    + Проведение тестирования на независимой выборке\n",
    "    + Верификация результатов прогнозирования\n",
    "\n",
    "#### Рекомендации для заказчика\n",
    "\n",
    "**Выбор оптимальной модели**\n",
    "\n",
    "По результатам проведённого исследования рекомендуется использовать алгоритм LightGBM в качестве основного инструмента прогнозирования. Данная модель демонстрирует наилучшее сочетание точности и производительности.\n",
    "\n",
    "+ Характеристики модели\n",
    "    + Точность предсказаний: среднеквадратичная ошибка (RMSE) составляет 1640.45 единиц\n",
    "    + Скорость работы: время выполнения прогноза — 0,82 секунды\n",
    "    + Качество оценки: высокая стабильность результатов при различных входных данных\n",
    "\n",
    "**Рекомендации по эксплуатации**\n",
    "+ Обновление модели: предлагается осуществлять переобучение системы ежедневно\n",
    "+ База данных: использовать актуальные поступления информации\n",
    "+ Временные затраты: учитывать продолжительность процесса обучения при планировании обновлений\n",
    "\n",
    "Мониторинг: регулярно проверять качество прогнозов на тестовых выборках\n",
    "\n",
    "Такой подход обеспечит поддержание актуальности модели и сохранение высокого качества предсказаний стоимости транспортных средств.\n",
    "\n"
   ]
  },
  {
   "cell_type": "markdown",
   "id": "0996e8cc",
   "metadata": {},
   "source": [
    "## Чек-лист проверки"
   ]
  },
  {
   "cell_type": "markdown",
   "id": "7ead7bbe",
   "metadata": {},
   "source": [
    "Поставьте 'x' в выполненных пунктах. Далее нажмите Shift+Enter."
   ]
  },
  {
   "cell_type": "markdown",
   "id": "d251e8cc",
   "metadata": {},
   "source": [
    "- [x]  Jupyter Notebook открыт\n",
    "- [x]  Весь код выполняется без ошибок\n",
    "- [x]  Ячейки с кодом расположены в порядке исполнения\n",
    "- [x]  Выполнена загрузка и подготовка данных\n",
    "- [x]  Выполнено обучение моделей\n",
    "- [x]  Есть анализ скорости работы и качества моделей"
   ]
  }
 ],
 "metadata": {
  "ExecuteTimeLog": [
   {
    "duration": 96,
    "start_time": "2025-07-14T06:45:52.005Z"
   }
  ],
  "kernelspec": {
   "display_name": "Python 3 (ipykernel)",
   "language": "python",
   "name": "python3"
  },
  "language_info": {
   "codemirror_mode": {
    "name": "ipython",
    "version": 3
   },
   "file_extension": ".py",
   "mimetype": "text/x-python",
   "name": "python",
   "nbconvert_exporter": "python",
   "pygments_lexer": "ipython3",
   "version": "3.9.5"
  },
  "toc": {
   "base_numbering": 1,
   "nav_menu": {},
   "number_sections": true,
   "sideBar": true,
   "skip_h1_title": true,
   "title_cell": "Table of Contents",
   "title_sidebar": "Contents",
   "toc_cell": false,
   "toc_position": {},
   "toc_section_display": true,
   "toc_window_display": false
  }
 },
 "nbformat": 4,
 "nbformat_minor": 5
}
