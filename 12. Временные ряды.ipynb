{
 "cells": [
  {
   "cell_type": "markdown",
   "metadata": {
    "toc": true
   },
   "source": [
    "<h1>Содержание<span class=\"tocSkip\"></span></h1>\n",
    "<div class=\"toc\"><ul class=\"toc-item\"><li><span><a href=\"#Подготовка\" data-toc-modified-id=\"Подготовка-1\"><span class=\"toc-item-num\">1&nbsp;&nbsp;</span>Подготовка</a></span><ul class=\"toc-item\"><li><span><a href=\"#Установка-библиотек\" data-toc-modified-id=\"Установка-библиотек-1.1\"><span class=\"toc-item-num\">1.1&nbsp;&nbsp;</span>Установка библиотек</a></span></li><li><span><a href=\"#Импорт-библиотек\" data-toc-modified-id=\"Импорт-библиотек-1.2\"><span class=\"toc-item-num\">1.2&nbsp;&nbsp;</span>Импорт библиотек</a></span></li><li><span><a href=\"#Загрузка-данных\" data-toc-modified-id=\"Загрузка-данных-1.3\"><span class=\"toc-item-num\">1.3&nbsp;&nbsp;</span>Загрузка данных</a></span><ul class=\"toc-item\"><li><span><a href=\"#Вывод-по-подготовке-данных\" data-toc-modified-id=\"Вывод-по-подготовке-данных-1.3.1\"><span class=\"toc-item-num\">1.3.1&nbsp;&nbsp;</span>Вывод по подготовке данных</a></span></li></ul></li></ul></li><li><span><a href=\"#Анализ\" data-toc-modified-id=\"Анализ-2\"><span class=\"toc-item-num\">2&nbsp;&nbsp;</span>Анализ</a></span><ul class=\"toc-item\"><li><span><a href=\"#Рессемплинг-по-1-часу\" data-toc-modified-id=\"Рессемплинг-по-1-часу-2.1\"><span class=\"toc-item-num\">2.1&nbsp;&nbsp;</span>Рессемплинг по 1 часу</a></span><ul class=\"toc-item\"><li><span><a href=\"#Результаты-агрегации-данных\" data-toc-modified-id=\"Результаты-агрегации-данных-2.1.1\"><span class=\"toc-item-num\">2.1.1&nbsp;&nbsp;</span>Результаты агрегации данных</a></span></li></ul></li><li><span><a href=\"#График-временного-ряда,-скользящее-среднее,-скользящее-стандартное-отклонение\" data-toc-modified-id=\"График-временного-ряда,-скользящее-среднее,-скользящее-стандартное-отклонение-2.2\"><span class=\"toc-item-num\">2.2&nbsp;&nbsp;</span>График временного ряда, скользящее среднее, скользящее стандартное отклонение</a></span></li><li><span><a href=\"#Тест-Дики-Фуллера\" data-toc-modified-id=\"Тест-Дики-Фуллера-2.3\"><span class=\"toc-item-num\">2.3&nbsp;&nbsp;</span>Тест Дики-Фуллера</a></span></li><li><span><a href=\"#Тренд,-сезонность,-остаточный-шум\" data-toc-modified-id=\"Тренд,-сезонность,-остаточный-шум-2.4\"><span class=\"toc-item-num\">2.4&nbsp;&nbsp;</span>Тренд, сезонность, остаточный шум</a></span></li><li><span><a href=\"#Дневная-сезонность-заказов\" data-toc-modified-id=\"Дневная-сезонность-заказов-2.5\"><span class=\"toc-item-num\">2.5&nbsp;&nbsp;</span>Дневная сезонность заказов</a></span></li><li><span><a href=\"#Создание-дополнительных-признаков\" data-toc-modified-id=\"Создание-дополнительных-признаков-2.6\"><span class=\"toc-item-num\">2.6&nbsp;&nbsp;</span>Создание дополнительных признаков</a></span><ul class=\"toc-item\"><li><span><a href=\"#Вывод-по-анализу-данных\" data-toc-modified-id=\"Вывод-по-анализу-данных-2.6.1\"><span class=\"toc-item-num\">2.6.1&nbsp;&nbsp;</span>Вывод по анализу данных</a></span></li></ul></li></ul></li><li><span><a href=\"#Обучение\" data-toc-modified-id=\"Обучение-3\"><span class=\"toc-item-num\">3&nbsp;&nbsp;</span>Обучение</a></span><ul class=\"toc-item\"><li><span><a href=\"#Подготовка-данных\" data-toc-modified-id=\"Подготовка-данных-3.1\"><span class=\"toc-item-num\">3.1&nbsp;&nbsp;</span>Подготовка данных</a></span></li><li><span><a href=\"#DecisionTreeRegressor()\" data-toc-modified-id=\"DecisionTreeRegressor()-3.2\"><span class=\"toc-item-num\">3.2&nbsp;&nbsp;</span>DecisionTreeRegressor()</a></span></li><li><span><a href=\"#LinearRegression()\" data-toc-modified-id=\"LinearRegression()-3.3\"><span class=\"toc-item-num\">3.3&nbsp;&nbsp;</span>LinearRegression()</a></span></li><li><span><a href=\"#Ridge()\" data-toc-modified-id=\"Ridge()-3.4\"><span class=\"toc-item-num\">3.4&nbsp;&nbsp;</span>Ridge()</a></span></li><li><span><a href=\"#Lasso()\" data-toc-modified-id=\"Lasso()-3.5\"><span class=\"toc-item-num\">3.5&nbsp;&nbsp;</span>Lasso()</a></span></li><li><span><a href=\"#LGBMRegressor()\" data-toc-modified-id=\"LGBMRegressor()-3.6\"><span class=\"toc-item-num\">3.6&nbsp;&nbsp;</span>LGBMRegressor()</a></span></li><li><span><a href=\"#CatBoostRegressor()\" data-toc-modified-id=\"CatBoostRegressor()-3.7\"><span class=\"toc-item-num\">3.7&nbsp;&nbsp;</span>CatBoostRegressor()</a></span><ul class=\"toc-item\"><li><span><a href=\"#Вывод-по-обучению-моделей\" data-toc-modified-id=\"Вывод-по-обучению-моделей-3.7.1\"><span class=\"toc-item-num\">3.7.1&nbsp;&nbsp;</span>Вывод по обучению моделей</a></span></li></ul></li></ul></li><li><span><a href=\"#Тестирование\" data-toc-modified-id=\"Тестирование-4\"><span class=\"toc-item-num\">4&nbsp;&nbsp;</span>Тестирование</a></span><ul class=\"toc-item\"><li><span><a href=\"#Создание-сводной-таблицы-по-обученным-моделям\" data-toc-modified-id=\"Создание-сводной-таблицы-по-обученным-моделям-4.1\"><span class=\"toc-item-num\">4.1&nbsp;&nbsp;</span>Создание сводной таблицы по обученным моделям</a></span></li><li><span><a href=\"#Расчёт-метрики-на-тестовых-данных\" data-toc-modified-id=\"Расчёт-метрики-на-тестовых-данных-4.2\"><span class=\"toc-item-num\">4.2&nbsp;&nbsp;</span>Расчёт метрики на тестовых данных</a></span></li><li><span><a href=\"#Проверка-лучшей-модели-моделью-DummyRegressor\" data-toc-modified-id=\"Проверка-лучшей-модели-моделью-DummyRegressor-4.3\"><span class=\"toc-item-num\">4.3&nbsp;&nbsp;</span>Проверка лучшей модели моделью <code>DummyRegressor</code></a></span></li><li><span><a href=\"#Сравнительный-анализ-реальных-и-предсказанных-данных\" data-toc-modified-id=\"Сравнительный-анализ-реальных-и-предсказанных-данных-4.4\"><span class=\"toc-item-num\">4.4&nbsp;&nbsp;</span>Сравнительный анализ реальных и предсказанных данных</a></span></li><li><span><a href=\"#График-важности-признаков\" data-toc-modified-id=\"График-важности-признаков-4.5\"><span class=\"toc-item-num\">4.5&nbsp;&nbsp;</span>График важности признаков</a></span></li></ul></li><li><span><a href=\"#Общий-вывод-по-работе\" data-toc-modified-id=\"Общий-вывод-по-работе-5\"><span class=\"toc-item-num\">5&nbsp;&nbsp;</span>Общий вывод по работе</a></span></li><li><span><a href=\"#Чек-лист-проверки\" data-toc-modified-id=\"Чек-лист-проверки-6\"><span class=\"toc-item-num\">6&nbsp;&nbsp;</span>Чек-лист проверки</a></span></li></ul></div>"
   ]
  },
  {
   "cell_type": "markdown",
   "metadata": {},
   "source": [
    "#  Прогнозирование заказов такси"
   ]
  },
  {
   "cell_type": "markdown",
   "metadata": {},
   "source": [
    "Компания «Чётенькое такси» собрала исторические данные о заказах такси в аэропортах. Чтобы привлекать больше водителей в период пиковой нагрузки, нужно спрогнозировать количество заказов такси на следующий час. Постройте модель для такого предсказания.\n",
    "\n",
    "Значение метрики *RMSE* на тестовой выборке должно быть не больше 48.\n",
    "\n",
    "Вам нужно:\n",
    "\n",
    "1. Загрузить данные и выполнить их ресемплирование по одному часу.\n",
    "2. Проанализировать данные.\n",
    "3. Обучить разные модели с различными гиперпараметрами. Сделать тестовую выборку размером 10% от исходных данных.\n",
    "4. Проверить данные на тестовой выборке и сделать выводы.\n",
    "\n",
    "\n",
    "Данные лежат в файле `taxi.csv`. Количество заказов находится в столбце `num_orders` (от англ. *number of orders*, «число заказов»)."
   ]
  },
  {
   "cell_type": "markdown",
   "metadata": {},
   "source": [
    "## Подготовка"
   ]
  },
  {
   "cell_type": "markdown",
   "metadata": {},
   "source": [
    "### Установка библиотек"
   ]
  },
  {
   "cell_type": "code",
   "execution_count": 1,
   "metadata": {},
   "outputs": [],
   "source": [
    "!pip install -U scikit-learn -q"
   ]
  },
  {
   "cell_type": "markdown",
   "metadata": {},
   "source": [
    "### Импорт библиотек"
   ]
  },
  {
   "cell_type": "code",
   "execution_count": 2,
   "metadata": {},
   "outputs": [],
   "source": [
    "import pandas as pd\n",
    "pd.set_option('display.max_columns', None)\n",
    "pd.set_option('display.max_colwidth', None)\n",
    "import numpy as np\n",
    "import matplotlib.pyplot as plt \n",
    "import time\n",
    "import warnings\n",
    "warnings.simplefilter(action='ignore', category=FutureWarning)\n",
    "warnings.filterwarnings(\"ignore\")\n",
    "\n",
    "from statsmodels. tsa.stattools import adfuller\n",
    "from sklearn.model_selection import TimeSeriesSplit\n",
    "from statsmodels.tsa.seasonal import seasonal_decompose\n",
    "from sklearn.model_selection import (train_test_split, \n",
    "                                     GridSearchCV, \n",
    "                                     RandomizedSearchCV\n",
    "                                    )\n",
    "from sklearn.preprocessing import (LabelEncoder,\n",
    "                                   MinMaxScaler,\n",
    "                                   OneHotEncoder,\n",
    "                                   RobustScaler,\n",
    "                                   StandardScaler\n",
    "                                  )\n",
    "from sklearn.metrics import mean_squared_error\n",
    "from sklearn.compose import ColumnTransformer\n",
    "from sklearn.pipeline import Pipeline\n",
    "from sklearn.impute import SimpleImputer\n",
    "\n",
    "try:\n",
    "    from lightgbm import LGBMRegressor\n",
    "except:\n",
    "    !pip install lightgbm -q\n",
    "    from lightgbm import LGBMRegressor\n",
    "    \n",
    "from sklearn.linear_model import LinearRegression, Lasso, Ridge\n",
    "from sklearn.tree import DecisionTreeRegressor\n",
    "\n",
    "try:\n",
    "    from catboost import CatBoostRegressor\n",
    "except:\n",
    "    !pip install catboost -q\n",
    "    from catboost import CatBoostRegressor\n",
    "    \n",
    "from sklearn.dummy import DummyRegressor"
   ]
  },
  {
   "cell_type": "markdown",
   "metadata": {},
   "source": [
    "### Загрузка данных"
   ]
  },
  {
   "cell_type": "code",
   "execution_count": 3,
   "metadata": {},
   "outputs": [],
   "source": [
    "taxis = pd.read_csv('/datasets/taxi.csv',index_col=[0], parse_dates=[0]) \n",
    "taxis.sort_index(inplace=True)"
   ]
  },
  {
   "cell_type": "code",
   "execution_count": 4,
   "metadata": {},
   "outputs": [
    {
     "data": {
      "text/html": [
       "<div>\n",
       "<style scoped>\n",
       "    .dataframe tbody tr th:only-of-type {\n",
       "        vertical-align: middle;\n",
       "    }\n",
       "\n",
       "    .dataframe tbody tr th {\n",
       "        vertical-align: top;\n",
       "    }\n",
       "\n",
       "    .dataframe thead th {\n",
       "        text-align: right;\n",
       "    }\n",
       "</style>\n",
       "<table border=\"1\" class=\"dataframe\">\n",
       "  <thead>\n",
       "    <tr style=\"text-align: right;\">\n",
       "      <th></th>\n",
       "      <th>num_orders</th>\n",
       "    </tr>\n",
       "    <tr>\n",
       "      <th>datetime</th>\n",
       "      <th></th>\n",
       "    </tr>\n",
       "  </thead>\n",
       "  <tbody>\n",
       "    <tr>\n",
       "      <th>2018-03-01 00:00:00</th>\n",
       "      <td>9</td>\n",
       "    </tr>\n",
       "    <tr>\n",
       "      <th>2018-03-01 00:10:00</th>\n",
       "      <td>14</td>\n",
       "    </tr>\n",
       "    <tr>\n",
       "      <th>2018-03-01 00:20:00</th>\n",
       "      <td>28</td>\n",
       "    </tr>\n",
       "    <tr>\n",
       "      <th>2018-03-01 00:30:00</th>\n",
       "      <td>20</td>\n",
       "    </tr>\n",
       "    <tr>\n",
       "      <th>2018-03-01 00:40:00</th>\n",
       "      <td>32</td>\n",
       "    </tr>\n",
       "    <tr>\n",
       "      <th>2018-03-01 00:50:00</th>\n",
       "      <td>21</td>\n",
       "    </tr>\n",
       "    <tr>\n",
       "      <th>2018-03-01 01:00:00</th>\n",
       "      <td>7</td>\n",
       "    </tr>\n",
       "    <tr>\n",
       "      <th>2018-03-01 01:10:00</th>\n",
       "      <td>5</td>\n",
       "    </tr>\n",
       "    <tr>\n",
       "      <th>2018-03-01 01:20:00</th>\n",
       "      <td>17</td>\n",
       "    </tr>\n",
       "    <tr>\n",
       "      <th>2018-03-01 01:30:00</th>\n",
       "      <td>12</td>\n",
       "    </tr>\n",
       "  </tbody>\n",
       "</table>\n",
       "</div>"
      ],
      "text/plain": [
       "                     num_orders\n",
       "datetime                       \n",
       "2018-03-01 00:00:00           9\n",
       "2018-03-01 00:10:00          14\n",
       "2018-03-01 00:20:00          28\n",
       "2018-03-01 00:30:00          20\n",
       "2018-03-01 00:40:00          32\n",
       "2018-03-01 00:50:00          21\n",
       "2018-03-01 01:00:00           7\n",
       "2018-03-01 01:10:00           5\n",
       "2018-03-01 01:20:00          17\n",
       "2018-03-01 01:30:00          12"
      ]
     },
     "execution_count": 4,
     "metadata": {},
     "output_type": "execute_result"
    }
   ],
   "source": [
    "taxis.head(10)"
   ]
  },
  {
   "cell_type": "code",
   "execution_count": 5,
   "metadata": {},
   "outputs": [
    {
     "name": "stdout",
     "output_type": "stream",
     "text": [
      "<class 'pandas.core.frame.DataFrame'>\n",
      "DatetimeIndex: 26496 entries, 2018-03-01 00:00:00 to 2018-08-31 23:50:00\n",
      "Data columns (total 1 columns):\n",
      " #   Column      Non-Null Count  Dtype\n",
      "---  ------      --------------  -----\n",
      " 0   num_orders  26496 non-null  int64\n",
      "dtypes: int64(1)\n",
      "memory usage: 414.0 KB\n"
     ]
    }
   ],
   "source": [
    "taxis.info()"
   ]
  },
  {
   "cell_type": "code",
   "execution_count": 6,
   "metadata": {},
   "outputs": [
    {
     "data": {
      "text/html": [
       "<div>\n",
       "<style scoped>\n",
       "    .dataframe tbody tr th:only-of-type {\n",
       "        vertical-align: middle;\n",
       "    }\n",
       "\n",
       "    .dataframe tbody tr th {\n",
       "        vertical-align: top;\n",
       "    }\n",
       "\n",
       "    .dataframe thead th {\n",
       "        text-align: right;\n",
       "    }\n",
       "</style>\n",
       "<table border=\"1\" class=\"dataframe\">\n",
       "  <thead>\n",
       "    <tr style=\"text-align: right;\">\n",
       "      <th></th>\n",
       "      <th>num_orders</th>\n",
       "    </tr>\n",
       "  </thead>\n",
       "  <tbody>\n",
       "    <tr>\n",
       "      <th>count</th>\n",
       "      <td>26496.000000</td>\n",
       "    </tr>\n",
       "    <tr>\n",
       "      <th>mean</th>\n",
       "      <td>14.070463</td>\n",
       "    </tr>\n",
       "    <tr>\n",
       "      <th>std</th>\n",
       "      <td>9.211330</td>\n",
       "    </tr>\n",
       "    <tr>\n",
       "      <th>min</th>\n",
       "      <td>0.000000</td>\n",
       "    </tr>\n",
       "    <tr>\n",
       "      <th>25%</th>\n",
       "      <td>8.000000</td>\n",
       "    </tr>\n",
       "    <tr>\n",
       "      <th>50%</th>\n",
       "      <td>13.000000</td>\n",
       "    </tr>\n",
       "    <tr>\n",
       "      <th>75%</th>\n",
       "      <td>19.000000</td>\n",
       "    </tr>\n",
       "    <tr>\n",
       "      <th>max</th>\n",
       "      <td>119.000000</td>\n",
       "    </tr>\n",
       "  </tbody>\n",
       "</table>\n",
       "</div>"
      ],
      "text/plain": [
       "         num_orders\n",
       "count  26496.000000\n",
       "mean      14.070463\n",
       "std        9.211330\n",
       "min        0.000000\n",
       "25%        8.000000\n",
       "50%       13.000000\n",
       "75%       19.000000\n",
       "max      119.000000"
      ]
     },
     "execution_count": 6,
     "metadata": {},
     "output_type": "execute_result"
    }
   ],
   "source": [
    "taxis.describe()"
   ]
  },
  {
   "cell_type": "code",
   "execution_count": 7,
   "metadata": {},
   "outputs": [
    {
     "name": "stdout",
     "output_type": "stream",
     "text": [
      "Дубликатов в таблице: \n",
      " 0\n"
     ]
    }
   ],
   "source": [
    "print('Дубликатов в таблице: \\n', taxis.reset_index().duplicated().sum())"
   ]
  },
  {
   "cell_type": "markdown",
   "metadata": {},
   "source": [
    "Проанализируем правильность временной последовательности указанных дат и изучим содержательную часть данных"
   ]
  },
  {
   "cell_type": "code",
   "execution_count": 8,
   "metadata": {},
   "outputs": [
    {
     "data": {
      "text/plain": [
       "True"
      ]
     },
     "execution_count": 8,
     "metadata": {},
     "output_type": "execute_result"
    }
   ],
   "source": [
    "taxis.index.is_monotonic"
   ]
  },
  {
   "cell_type": "markdown",
   "metadata": {},
   "source": [
    "#### Вывод по подготовке данных\n",
    "\n",
    "**Процесс предварительной обработки данных** успешно завершен:\n",
    "\n",
    "+ Временной ряд `(datetime)` корректно преобразован в формат `datetime64[ns]` и установлен в качестве индекса датафрейма\n",
    "+ Данные упорядочены по хронологическому принципу\n",
    "\n",
    "**Анализ характеристик набора данных** показал следующие результаты:\n",
    "\n",
    "+ Качество сбора информации соответствует требованиям\n",
    "+ Временная гранулярность составляет 10-минутные интервалы\n",
    "+ Наблюдается вариативность количества заказов: от полного отсутствия до пиковых значений (максимум 119 заказов)\n",
    "+ Набор данных является полным (отсутствуют пропущенные значения)\n",
    "\n",
    "**Следующий этап** работы предусматривает:\n",
    "\n",
    "+ Агрегацию данных с часовым интервалом (ресемплинг)\n",
    "+ Проведение комплексного анализа\n",
    "+ Выполнение предобработки данных для дальнейшего исследования"
   ]
  },
  {
   "cell_type": "markdown",
   "metadata": {},
   "source": [
    "## Анализ"
   ]
  },
  {
   "cell_type": "markdown",
   "metadata": {},
   "source": [
    "### Рессемплинг по 1 часу"
   ]
  },
  {
   "cell_type": "code",
   "execution_count": 9,
   "metadata": {},
   "outputs": [],
   "source": [
    "taxis = taxis.resample('1H').sum()"
   ]
  },
  {
   "cell_type": "code",
   "execution_count": 10,
   "metadata": {},
   "outputs": [
    {
     "data": {
      "text/html": [
       "<div>\n",
       "<style scoped>\n",
       "    .dataframe tbody tr th:only-of-type {\n",
       "        vertical-align: middle;\n",
       "    }\n",
       "\n",
       "    .dataframe tbody tr th {\n",
       "        vertical-align: top;\n",
       "    }\n",
       "\n",
       "    .dataframe thead th {\n",
       "        text-align: right;\n",
       "    }\n",
       "</style>\n",
       "<table border=\"1\" class=\"dataframe\">\n",
       "  <thead>\n",
       "    <tr style=\"text-align: right;\">\n",
       "      <th></th>\n",
       "      <th>num_orders</th>\n",
       "    </tr>\n",
       "    <tr>\n",
       "      <th>datetime</th>\n",
       "      <th></th>\n",
       "    </tr>\n",
       "  </thead>\n",
       "  <tbody>\n",
       "    <tr>\n",
       "      <th>2018-03-01 00:00:00</th>\n",
       "      <td>124</td>\n",
       "    </tr>\n",
       "    <tr>\n",
       "      <th>2018-03-01 01:00:00</th>\n",
       "      <td>85</td>\n",
       "    </tr>\n",
       "    <tr>\n",
       "      <th>2018-03-01 02:00:00</th>\n",
       "      <td>71</td>\n",
       "    </tr>\n",
       "    <tr>\n",
       "      <th>2018-03-01 03:00:00</th>\n",
       "      <td>66</td>\n",
       "    </tr>\n",
       "    <tr>\n",
       "      <th>2018-03-01 04:00:00</th>\n",
       "      <td>43</td>\n",
       "    </tr>\n",
       "    <tr>\n",
       "      <th>2018-03-01 05:00:00</th>\n",
       "      <td>6</td>\n",
       "    </tr>\n",
       "    <tr>\n",
       "      <th>2018-03-01 06:00:00</th>\n",
       "      <td>12</td>\n",
       "    </tr>\n",
       "    <tr>\n",
       "      <th>2018-03-01 07:00:00</th>\n",
       "      <td>15</td>\n",
       "    </tr>\n",
       "    <tr>\n",
       "      <th>2018-03-01 08:00:00</th>\n",
       "      <td>34</td>\n",
       "    </tr>\n",
       "    <tr>\n",
       "      <th>2018-03-01 09:00:00</th>\n",
       "      <td>69</td>\n",
       "    </tr>\n",
       "  </tbody>\n",
       "</table>\n",
       "</div>"
      ],
      "text/plain": [
       "                     num_orders\n",
       "datetime                       \n",
       "2018-03-01 00:00:00         124\n",
       "2018-03-01 01:00:00          85\n",
       "2018-03-01 02:00:00          71\n",
       "2018-03-01 03:00:00          66\n",
       "2018-03-01 04:00:00          43\n",
       "2018-03-01 05:00:00           6\n",
       "2018-03-01 06:00:00          12\n",
       "2018-03-01 07:00:00          15\n",
       "2018-03-01 08:00:00          34\n",
       "2018-03-01 09:00:00          69"
      ]
     },
     "execution_count": 10,
     "metadata": {},
     "output_type": "execute_result"
    }
   ],
   "source": [
    "taxis.head(10)"
   ]
  },
  {
   "cell_type": "code",
   "execution_count": 11,
   "metadata": {},
   "outputs": [
    {
     "name": "stdout",
     "output_type": "stream",
     "text": [
      "<class 'pandas.core.frame.DataFrame'>\n",
      "DatetimeIndex: 4416 entries, 2018-03-01 00:00:00 to 2018-08-31 23:00:00\n",
      "Freq: H\n",
      "Data columns (total 1 columns):\n",
      " #   Column      Non-Null Count  Dtype\n",
      "---  ------      --------------  -----\n",
      " 0   num_orders  4416 non-null   int64\n",
      "dtypes: int64(1)\n",
      "memory usage: 69.0 KB\n",
      "Информация о таблице: \n",
      " None\n"
     ]
    }
   ],
   "source": [
    "print('Информация о таблице: \\n', taxis.info())"
   ]
  },
  {
   "cell_type": "code",
   "execution_count": 12,
   "metadata": {},
   "outputs": [
    {
     "data": {
      "text/html": [
       "<div>\n",
       "<style scoped>\n",
       "    .dataframe tbody tr th:only-of-type {\n",
       "        vertical-align: middle;\n",
       "    }\n",
       "\n",
       "    .dataframe tbody tr th {\n",
       "        vertical-align: top;\n",
       "    }\n",
       "\n",
       "    .dataframe thead th {\n",
       "        text-align: right;\n",
       "    }\n",
       "</style>\n",
       "<table border=\"1\" class=\"dataframe\">\n",
       "  <thead>\n",
       "    <tr style=\"text-align: right;\">\n",
       "      <th></th>\n",
       "      <th>num_orders</th>\n",
       "    </tr>\n",
       "  </thead>\n",
       "  <tbody>\n",
       "    <tr>\n",
       "      <th>count</th>\n",
       "      <td>4416.000000</td>\n",
       "    </tr>\n",
       "    <tr>\n",
       "      <th>mean</th>\n",
       "      <td>84.422781</td>\n",
       "    </tr>\n",
       "    <tr>\n",
       "      <th>std</th>\n",
       "      <td>45.023853</td>\n",
       "    </tr>\n",
       "    <tr>\n",
       "      <th>min</th>\n",
       "      <td>0.000000</td>\n",
       "    </tr>\n",
       "    <tr>\n",
       "      <th>25%</th>\n",
       "      <td>54.000000</td>\n",
       "    </tr>\n",
       "    <tr>\n",
       "      <th>50%</th>\n",
       "      <td>78.000000</td>\n",
       "    </tr>\n",
       "    <tr>\n",
       "      <th>75%</th>\n",
       "      <td>107.000000</td>\n",
       "    </tr>\n",
       "    <tr>\n",
       "      <th>max</th>\n",
       "      <td>462.000000</td>\n",
       "    </tr>\n",
       "  </tbody>\n",
       "</table>\n",
       "</div>"
      ],
      "text/plain": [
       "        num_orders\n",
       "count  4416.000000\n",
       "mean     84.422781\n",
       "std      45.023853\n",
       "min       0.000000\n",
       "25%      54.000000\n",
       "50%      78.000000\n",
       "75%     107.000000\n",
       "max     462.000000"
      ]
     },
     "execution_count": 12,
     "metadata": {},
     "output_type": "execute_result"
    }
   ],
   "source": [
    "taxis.describe()"
   ]
  },
  {
   "cell_type": "markdown",
   "metadata": {},
   "source": [
    "#### Результаты агрегации данных\n",
    "\n",
    "+ Операция ресемплинга выполнена корректно и без ошибок\n",
    "+ Объём выборки сократился до 4416 записей\n",
    "+ **Анализ распределения** показал следующие особенности:\n",
    "    + Наибольшее количество заказов за час достигает 462 единиц\n",
    "    + Сохраняются периоды с нулевым количеством заказов\n",
    "\n",
    "**Выводы:**\n",
    "\n",
    "+ Временная агрегация данных прошла успешно\n",
    "+ Наблюдается значительная вариативность в количестве заказов\n",
    "+ Наличие нулевых значений указывает на периоды низкой активности"
   ]
  },
  {
   "cell_type": "markdown",
   "metadata": {},
   "source": [
    "### График временного ряда, скользящее среднее, скользящее стандартное отклонение"
   ]
  },
  {
   "cell_type": "code",
   "execution_count": 13,
   "metadata": {},
   "outputs": [
    {
     "data": {
      "image/png": "[encoded data removed]",
      "text/plain": [
       "<Figure size 1152x648 with 1 Axes>"
      ]
     },
     "metadata": {
      "needs_background": "light"
     },
     "output_type": "display_data"
    }
   ],
   "source": [
    "plt.figure(figsize=(16, 9))\n",
    "plt.plot(taxis,color='y')\n",
    "plt.plot(taxis.shift().rolling(24).mean(),color='r')\n",
    "plt.plot(taxis.shift().rolling(24).std(),color='b')\n",
    "plt.title('Основные показатели')\n",
    "plt.xlabel(\"Месяц с разбиением по часу\", fontsize=15, color='blue')\n",
    "plt.ylabel(\"Количество заказов\", fontsize=15, color='orange')\n",
    "plt.legend(['Количество заказов за час', 'Скользящее среднее (24 часа)', 'Скользящее стандартное отклонение (24 часа)'])\n",
    "plt.show();"
   ]
  },
  {
   "cell_type": "markdown",
   "metadata": {},
   "source": [
    "### Тест Дики-Фуллера"
   ]
  },
  {
   "cell_type": "markdown",
   "metadata": {},
   "source": [
    "**Тест Дики-Фуллера** — это статистический метод анализа временных рядов, предназначенный для проверки их стационарности. Данный тест является одним из ключевых инструментов выявления единичных корней в данных\n",
    "\n",
    "**Проверим гипотезы:**\n",
    "\n",
    "+ **Основная гипотеза (H0):** временной ряд демонстрирует нестационарное поведение. Наблюдается временная зависимость структуры данных, при этом дисперсия изменяется в различные периоды времени.\n",
    "+ **Альтернативная гипотеза (H1):** временной ряд характеризуется стационарностью, то есть его статистические характеристики остаются неизменными во времени.\n",
    "\n",
    "**Процедура статистической проверки:**\n",
    "\n",
    "При проведении анализа мы сравниваем полученное p-значение с критическим уровнем значимости α = 0,05. В случае если p-значение оказывается ниже порогового уровня, мы имеем достаточные основания для отклонения нулевой гипотезы. Это позволяет сделать вывод о том, что исследуемый временной ряд обладает свойствами стационарности.\n",
    "\n",
    "Важно отметить, что данный подход позволяет нам с определённой степенью уверенности подтвердить или опровергнуть предположение о стационарности временного ряда на основе статистических данных."
   ]
  },
  {
   "cell_type": "code",
   "execution_count": 14,
   "metadata": {},
   "outputs": [
    {
     "name": "stdout",
     "output_type": "stream",
     "text": [
      "p-значение = 0.029\n"
     ]
    }
   ],
   "source": [
    "print(f'p-значение = {adfuller(taxis)[1]:.3f}')"
   ]
  },
  {
   "cell_type": "markdown",
   "metadata": {},
   "source": [
    "Результаты статистического анализа показывают, что полученное p-значение находится ниже критического порога в 0,05. Это даёт нам достаточные основания для отклонения нулевой гипотезы о нестационарности временного ряда.\n",
    "\n",
    "**Выводы исследования:**\n",
    "+ Временной ряд демонстрирует свойства стационарности\n",
    "+ Наблюдается определённая временная структура данных\n",
    "+ Дисперсия ряда остаётся постоянной на протяжении всего периода наблюдения\n",
    "+ Результаты достоверны при принятом уровне значимости 0,05\n",
    "\n",
    "Важно подчеркнуть, что подтверждённая стационарность ряда является важным свойством для дальнейшего анализа и построения прогностических моделей, так как многие статистические методы требуют выполнения этого условия."
   ]
  },
  {
   "cell_type": "markdown",
   "metadata": {},
   "source": [
    "### Тренд, сезонность, остаточный шум"
   ]
  },
  {
   "cell_type": "code",
   "execution_count": 15,
   "metadata": {},
   "outputs": [
    {
     "data": {
      "image/png": "[encoded data removed]",
      "text/plain": [
       "<Figure size 1152x864 with 3 Axes>"
      ]
     },
     "metadata": {
      "needs_background": "light"
     },
     "output_type": "display_data"
    }
   ],
   "source": [
    "decomposed = seasonal_decompose(taxis, model='additive', period=24)\n",
    "plt.figure(figsize=(16, 12))\n",
    "\n",
    "# График тренда\n",
    "plt.subplot(411)\n",
    "plt.plot(decomposed.trend, color='r')\n",
    "plt.title('Тренд заказов')\n",
    "plt.ylabel(\"Количество заказов\", color='orange')\n",
    "plt.grid(True)\n",
    "\n",
    "# График сезонности\n",
    "plt.subplot(412)\n",
    "plt.plot(decomposed.seasonal, color='y')\n",
    "plt.title('Сезонность')\n",
    "plt.ylabel(\"Количество заказов\", color='orange')\n",
    "plt.grid(True)\n",
    "\n",
    "# График остаточных значений\n",
    "plt.subplot(413)\n",
    "plt.plot(decomposed.resid, color='b')\n",
    "plt.title('Остаточный шум')\n",
    "plt.ylabel(\"Количество заказов\", color='orange')\n",
    "plt.grid(True)\n",
    "\n",
    "plt.suptitle('Анализ временного ряда: количество заказов такси (данные за час)', fontsize=16)\n",
    "\n",
    "plt.tight_layout(rect=[0, 0.03, 1, 0.95])\n",
    "\n",
    "plt.show()"
   ]
  },
  {
   "cell_type": "markdown",
   "metadata": {},
   "source": [
    "### Дневная сезонность заказов"
   ]
  },
  {
   "cell_type": "code",
   "execution_count": 16,
   "metadata": {},
   "outputs": [
    {
     "data": {
      "image/png": "[encoded data removed]",
      "text/plain": [
       "<Figure size 1152x648 with 1 Axes>"
      ]
     },
     "metadata": {
      "needs_background": "light"
     },
     "output_type": "display_data"
    }
   ],
   "source": [
    "plt.figure(figsize=(16, 9))\n",
    "fig = plt.plot(decomposed.seasonal['2018-04-01':'2018-04-01'])\n",
    "plt.title('Дневная сезонность заказов')\n",
    "ax = plt.gca()\n",
    "ax.set_xlabel(\"Час\", fontsize=15, color='blue')\n",
    "ax.set_ylabel(\"Количество заказов\", fontsize=15, color='orange')\n",
    "plt.show();"
   ]
  },
  {
   "cell_type": "markdown",
   "metadata": {},
   "source": [
    "### Создание дополнительных признаков"
   ]
  },
  {
   "cell_type": "code",
   "execution_count": 17,
   "metadata": {},
   "outputs": [],
   "source": [
    "def make_features(data, max_lag, rolling_mean_size):\n",
    "    data = data.copy()\n",
    "    data['day'] = data.index.day\n",
    "    data['dayofweek'] = data.index.dayofweek+1\n",
    "    data['hour'] = data.index.hour\n",
    "    \n",
    "    for lag in range(1, max_lag + 1):\n",
    "        data['lag_{}'.format(lag)] = data['num_orders'].shift(lag)\n",
    "        \n",
    "    for rol in range(1, rolling_mean_size + 1):\n",
    "        data['rol_{}'.format(rol)] = data['lag_1'].shift().rolling(rol).mean().round(2)\n",
    "    return data"
   ]
  },
  {
   "cell_type": "code",
   "execution_count": 18,
   "metadata": {},
   "outputs": [
    {
     "data": {
      "text/html": [
       "<div>\n",
       "<style scoped>\n",
       "    .dataframe tbody tr th:only-of-type {\n",
       "        vertical-align: middle;\n",
       "    }\n",
       "\n",
       "    .dataframe tbody tr th {\n",
       "        vertical-align: top;\n",
       "    }\n",
       "\n",
       "    .dataframe thead th {\n",
       "        text-align: right;\n",
       "    }\n",
       "</style>\n",
       "<table border=\"1\" class=\"dataframe\">\n",
       "  <thead>\n",
       "    <tr style=\"text-align: right;\">\n",
       "      <th></th>\n",
       "      <th>num_orders</th>\n",
       "      <th>day</th>\n",
       "      <th>dayofweek</th>\n",
       "      <th>hour</th>\n",
       "      <th>lag_1</th>\n",
       "      <th>lag_2</th>\n",
       "      <th>lag_3</th>\n",
       "      <th>lag_4</th>\n",
       "      <th>lag_5</th>\n",
       "      <th>lag_6</th>\n",
       "      <th>lag_7</th>\n",
       "      <th>lag_8</th>\n",
       "      <th>lag_9</th>\n",
       "      <th>lag_10</th>\n",
       "      <th>lag_11</th>\n",
       "      <th>lag_12</th>\n",
       "      <th>lag_13</th>\n",
       "      <th>lag_14</th>\n",
       "      <th>lag_15</th>\n",
       "      <th>lag_16</th>\n",
       "      <th>lag_17</th>\n",
       "      <th>lag_18</th>\n",
       "      <th>lag_19</th>\n",
       "      <th>lag_20</th>\n",
       "      <th>lag_21</th>\n",
       "      <th>lag_22</th>\n",
       "      <th>lag_23</th>\n",
       "      <th>lag_24</th>\n",
       "      <th>rol_1</th>\n",
       "      <th>rol_2</th>\n",
       "      <th>rol_3</th>\n",
       "      <th>rol_4</th>\n",
       "      <th>rol_5</th>\n",
       "      <th>rol_6</th>\n",
       "      <th>rol_7</th>\n",
       "    </tr>\n",
       "    <tr>\n",
       "      <th>datetime</th>\n",
       "      <th></th>\n",
       "      <th></th>\n",
       "      <th></th>\n",
       "      <th></th>\n",
       "      <th></th>\n",
       "      <th></th>\n",
       "      <th></th>\n",
       "      <th></th>\n",
       "      <th></th>\n",
       "      <th></th>\n",
       "      <th></th>\n",
       "      <th></th>\n",
       "      <th></th>\n",
       "      <th></th>\n",
       "      <th></th>\n",
       "      <th></th>\n",
       "      <th></th>\n",
       "      <th></th>\n",
       "      <th></th>\n",
       "      <th></th>\n",
       "      <th></th>\n",
       "      <th></th>\n",
       "      <th></th>\n",
       "      <th></th>\n",
       "      <th></th>\n",
       "      <th></th>\n",
       "      <th></th>\n",
       "      <th></th>\n",
       "      <th></th>\n",
       "      <th></th>\n",
       "      <th></th>\n",
       "      <th></th>\n",
       "      <th></th>\n",
       "      <th></th>\n",
       "      <th></th>\n",
       "    </tr>\n",
       "  </thead>\n",
       "  <tbody>\n",
       "    <tr>\n",
       "      <th>2018-03-02 00:00:00</th>\n",
       "      <td>90</td>\n",
       "      <td>2</td>\n",
       "      <td>5</td>\n",
       "      <td>0</td>\n",
       "      <td>58.0</td>\n",
       "      <td>113.0</td>\n",
       "      <td>66.0</td>\n",
       "      <td>61.0</td>\n",
       "      <td>45.0</td>\n",
       "      <td>73.0</td>\n",
       "      <td>44.0</td>\n",
       "      <td>43.0</td>\n",
       "      <td>66.0</td>\n",
       "      <td>48.0</td>\n",
       "      <td>32.0</td>\n",
       "      <td>30.0</td>\n",
       "      <td>96.0</td>\n",
       "      <td>64.0</td>\n",
       "      <td>69.0</td>\n",
       "      <td>34.0</td>\n",
       "      <td>15.0</td>\n",
       "      <td>12.0</td>\n",
       "      <td>6.0</td>\n",
       "      <td>43.0</td>\n",
       "      <td>66.0</td>\n",
       "      <td>71.0</td>\n",
       "      <td>85.0</td>\n",
       "      <td>124.0</td>\n",
       "      <td>113.0</td>\n",
       "      <td>89.5</td>\n",
       "      <td>80.00</td>\n",
       "      <td>71.25</td>\n",
       "      <td>71.6</td>\n",
       "      <td>67.00</td>\n",
       "      <td>63.57</td>\n",
       "    </tr>\n",
       "    <tr>\n",
       "      <th>2018-03-02 01:00:00</th>\n",
       "      <td>120</td>\n",
       "      <td>2</td>\n",
       "      <td>5</td>\n",
       "      <td>1</td>\n",
       "      <td>90.0</td>\n",
       "      <td>58.0</td>\n",
       "      <td>113.0</td>\n",
       "      <td>66.0</td>\n",
       "      <td>61.0</td>\n",
       "      <td>45.0</td>\n",
       "      <td>73.0</td>\n",
       "      <td>44.0</td>\n",
       "      <td>43.0</td>\n",
       "      <td>66.0</td>\n",
       "      <td>48.0</td>\n",
       "      <td>32.0</td>\n",
       "      <td>30.0</td>\n",
       "      <td>96.0</td>\n",
       "      <td>64.0</td>\n",
       "      <td>69.0</td>\n",
       "      <td>34.0</td>\n",
       "      <td>15.0</td>\n",
       "      <td>12.0</td>\n",
       "      <td>6.0</td>\n",
       "      <td>43.0</td>\n",
       "      <td>66.0</td>\n",
       "      <td>71.0</td>\n",
       "      <td>85.0</td>\n",
       "      <td>58.0</td>\n",
       "      <td>85.5</td>\n",
       "      <td>79.00</td>\n",
       "      <td>74.50</td>\n",
       "      <td>68.6</td>\n",
       "      <td>69.33</td>\n",
       "      <td>65.71</td>\n",
       "    </tr>\n",
       "    <tr>\n",
       "      <th>2018-03-02 02:00:00</th>\n",
       "      <td>75</td>\n",
       "      <td>2</td>\n",
       "      <td>5</td>\n",
       "      <td>2</td>\n",
       "      <td>120.0</td>\n",
       "      <td>90.0</td>\n",
       "      <td>58.0</td>\n",
       "      <td>113.0</td>\n",
       "      <td>66.0</td>\n",
       "      <td>61.0</td>\n",
       "      <td>45.0</td>\n",
       "      <td>73.0</td>\n",
       "      <td>44.0</td>\n",
       "      <td>43.0</td>\n",
       "      <td>66.0</td>\n",
       "      <td>48.0</td>\n",
       "      <td>32.0</td>\n",
       "      <td>30.0</td>\n",
       "      <td>96.0</td>\n",
       "      <td>64.0</td>\n",
       "      <td>69.0</td>\n",
       "      <td>34.0</td>\n",
       "      <td>15.0</td>\n",
       "      <td>12.0</td>\n",
       "      <td>6.0</td>\n",
       "      <td>43.0</td>\n",
       "      <td>66.0</td>\n",
       "      <td>71.0</td>\n",
       "      <td>90.0</td>\n",
       "      <td>74.0</td>\n",
       "      <td>87.00</td>\n",
       "      <td>81.75</td>\n",
       "      <td>77.6</td>\n",
       "      <td>72.17</td>\n",
       "      <td>72.29</td>\n",
       "    </tr>\n",
       "    <tr>\n",
       "      <th>2018-03-02 03:00:00</th>\n",
       "      <td>64</td>\n",
       "      <td>2</td>\n",
       "      <td>5</td>\n",
       "      <td>3</td>\n",
       "      <td>75.0</td>\n",
       "      <td>120.0</td>\n",
       "      <td>90.0</td>\n",
       "      <td>58.0</td>\n",
       "      <td>113.0</td>\n",
       "      <td>66.0</td>\n",
       "      <td>61.0</td>\n",
       "      <td>45.0</td>\n",
       "      <td>73.0</td>\n",
       "      <td>44.0</td>\n",
       "      <td>43.0</td>\n",
       "      <td>66.0</td>\n",
       "      <td>48.0</td>\n",
       "      <td>32.0</td>\n",
       "      <td>30.0</td>\n",
       "      <td>96.0</td>\n",
       "      <td>64.0</td>\n",
       "      <td>69.0</td>\n",
       "      <td>34.0</td>\n",
       "      <td>15.0</td>\n",
       "      <td>12.0</td>\n",
       "      <td>6.0</td>\n",
       "      <td>43.0</td>\n",
       "      <td>66.0</td>\n",
       "      <td>120.0</td>\n",
       "      <td>105.0</td>\n",
       "      <td>89.33</td>\n",
       "      <td>95.25</td>\n",
       "      <td>89.4</td>\n",
       "      <td>84.67</td>\n",
       "      <td>79.00</td>\n",
       "    </tr>\n",
       "    <tr>\n",
       "      <th>2018-03-02 04:00:00</th>\n",
       "      <td>20</td>\n",
       "      <td>2</td>\n",
       "      <td>5</td>\n",
       "      <td>4</td>\n",
       "      <td>64.0</td>\n",
       "      <td>75.0</td>\n",
       "      <td>120.0</td>\n",
       "      <td>90.0</td>\n",
       "      <td>58.0</td>\n",
       "      <td>113.0</td>\n",
       "      <td>66.0</td>\n",
       "      <td>61.0</td>\n",
       "      <td>45.0</td>\n",
       "      <td>73.0</td>\n",
       "      <td>44.0</td>\n",
       "      <td>43.0</td>\n",
       "      <td>66.0</td>\n",
       "      <td>48.0</td>\n",
       "      <td>32.0</td>\n",
       "      <td>30.0</td>\n",
       "      <td>96.0</td>\n",
       "      <td>64.0</td>\n",
       "      <td>69.0</td>\n",
       "      <td>34.0</td>\n",
       "      <td>15.0</td>\n",
       "      <td>12.0</td>\n",
       "      <td>6.0</td>\n",
       "      <td>43.0</td>\n",
       "      <td>75.0</td>\n",
       "      <td>97.5</td>\n",
       "      <td>95.00</td>\n",
       "      <td>85.75</td>\n",
       "      <td>91.2</td>\n",
       "      <td>87.00</td>\n",
       "      <td>83.29</td>\n",
       "    </tr>\n",
       "  </tbody>\n",
       "</table>\n",
       "</div>"
      ],
      "text/plain": [
       "                     num_orders  day  dayofweek  hour  lag_1  lag_2  lag_3  \\\n",
       "datetime                                                                     \n",
       "2018-03-02 00:00:00          90    2          5     0   58.0  113.0   66.0   \n",
       "2018-03-02 01:00:00         120    2          5     1   90.0   58.0  113.0   \n",
       "2018-03-02 02:00:00          75    2          5     2  120.0   90.0   58.0   \n",
       "2018-03-02 03:00:00          64    2          5     3   75.0  120.0   90.0   \n",
       "2018-03-02 04:00:00          20    2          5     4   64.0   75.0  120.0   \n",
       "\n",
       "                     lag_4  lag_5  lag_6  lag_7  lag_8  lag_9  lag_10  lag_11  \\\n",
       "datetime                                                                        \n",
       "2018-03-02 00:00:00   61.0   45.0   73.0   44.0   43.0   66.0    48.0    32.0   \n",
       "2018-03-02 01:00:00   66.0   61.0   45.0   73.0   44.0   43.0    66.0    48.0   \n",
       "2018-03-02 02:00:00  113.0   66.0   61.0   45.0   73.0   44.0    43.0    66.0   \n",
       "2018-03-02 03:00:00   58.0  113.0   66.0   61.0   45.0   73.0    44.0    43.0   \n",
       "2018-03-02 04:00:00   90.0   58.0  113.0   66.0   61.0   45.0    73.0    44.0   \n",
       "\n",
       "                     lag_12  lag_13  lag_14  lag_15  lag_16  lag_17  lag_18  \\\n",
       "datetime                                                                      \n",
       "2018-03-02 00:00:00    30.0    96.0    64.0    69.0    34.0    15.0    12.0   \n",
       "2018-03-02 01:00:00    32.0    30.0    96.0    64.0    69.0    34.0    15.0   \n",
       "2018-03-02 02:00:00    48.0    32.0    30.0    96.0    64.0    69.0    34.0   \n",
       "2018-03-02 03:00:00    66.0    48.0    32.0    30.0    96.0    64.0    69.0   \n",
       "2018-03-02 04:00:00    43.0    66.0    48.0    32.0    30.0    96.0    64.0   \n",
       "\n",
       "                     lag_19  lag_20  lag_21  lag_22  lag_23  lag_24  rol_1  \\\n",
       "datetime                                                                     \n",
       "2018-03-02 00:00:00     6.0    43.0    66.0    71.0    85.0   124.0  113.0   \n",
       "2018-03-02 01:00:00    12.0     6.0    43.0    66.0    71.0    85.0   58.0   \n",
       "2018-03-02 02:00:00    15.0    12.0     6.0    43.0    66.0    71.0   90.0   \n",
       "2018-03-02 03:00:00    34.0    15.0    12.0     6.0    43.0    66.0  120.0   \n",
       "2018-03-02 04:00:00    69.0    34.0    15.0    12.0     6.0    43.0   75.0   \n",
       "\n",
       "                     rol_2  rol_3  rol_4  rol_5  rol_6  rol_7  \n",
       "datetime                                                       \n",
       "2018-03-02 00:00:00   89.5  80.00  71.25   71.6  67.00  63.57  \n",
       "2018-03-02 01:00:00   85.5  79.00  74.50   68.6  69.33  65.71  \n",
       "2018-03-02 02:00:00   74.0  87.00  81.75   77.6  72.17  72.29  \n",
       "2018-03-02 03:00:00  105.0  89.33  95.25   89.4  84.67  79.00  \n",
       "2018-03-02 04:00:00   97.5  95.00  85.75   91.2  87.00  83.29  "
      ]
     },
     "execution_count": 18,
     "metadata": {},
     "output_type": "execute_result"
    }
   ],
   "source": [
    "max_lag = 24\n",
    "rolling_mean_size = 7\n",
    "data = make_features(taxis, max_lag, rolling_mean_size)\n",
    "data = data.dropna()\n",
    "data.head(5)"
   ]
  },
  {
   "cell_type": "code",
   "execution_count": 19,
   "metadata": {},
   "outputs": [
    {
     "data": {
      "image/png": "[encoded data removed]",
      "text/plain": [
       "<Figure size 1152x648 with 1 Axes>"
      ]
     },
     "metadata": {
      "needs_background": "light"
     },
     "output_type": "display_data"
    }
   ],
   "source": [
    "plt.figure(figsize=(16, 9))\n",
    "fig = plt.plot(data.groupby('dayofweek')['num_orders'].sum())\n",
    "plt.title('Сумма заказов по дню недели')\n",
    "ax = plt.gca()\n",
    "ax.set_xlabel(\"День недели\", fontsize=15, color='blue')\n",
    "ax.set_ylabel(\"Количество заказов\", fontsize=15, color='orange')\n",
    "plt.show();"
   ]
  },
  {
   "cell_type": "markdown",
   "metadata": {},
   "source": [
    "#### Вывод по анализу данных\n",
    "\n",
    "**Результаты статистического анализа:**\n",
    "\n",
    "+ Стационарность ряда подтверждена тестом Дики-Фуллера при уровне значимости α = 0,05. Временной ряд демонстрирует постоянную дисперсию и определённую временную структуру.\n",
    "+ Тренд данных характеризуется устойчивым ростом скользящего среднего на протяжении всего анализируемого периода. Это указывает на увеличение количества авиаперелётов и, как следствие, рост спроса на услуги такси.\n",
    "\n",
    "**Сезонность и периодичность:**\n",
    "\n",
    "+ Суточные колебания демонстрируют выраженную сезонность с характерными пиками:\n",
    "\n",
    "    + Утренний максимум около 10:00\n",
    "    + Дневной пик примерно в 16:00\n",
    "    + Ночной максимум около 00:00\n",
    "    \n",
    "Такая картина может быть обусловлена:\n",
    "\n",
    "+ Предпочтениями пассажиров по времени вылета/прилёта\n",
    "+ Особенностями расписания авиарейсов в исследуемом регионе\n",
    "+ Спецификой работы аэропорта\n",
    "\n",
    "Минимальное количество заказов фиксируется около 06:00.\n",
    "\n",
    "**Еженедельные колебания:**\n",
    "\n",
    "+ Динамика по дням недели показывает:\n",
    "\n",
    "    + Рост количества заказов от вторника к пятнице\n",
    "    + Снижение активности в выходные дни\n",
    "    + Падение спроса в понедельник\n",
    "\n",
    "Эти закономерности могут быть связаны с деловой активностью и туристическими потоками."
   ]
  },
  {
   "cell_type": "markdown",
   "metadata": {},
   "source": [
    "## Обучение"
   ]
  },
  {
   "cell_type": "markdown",
   "metadata": {},
   "source": [
    "### Подготовка данных"
   ]
  },
  {
   "cell_type": "code",
   "execution_count": 20,
   "metadata": {},
   "outputs": [
    {
     "name": "stdout",
     "output_type": "stream",
     "text": [
      "Обучающая выбока находится в промежутке от 2018-03-02 00:00:00 до 2018-08-13 15:00:00\n",
      "Тестовая выбока находится в промежутке от 2018-08-13 16:00:00 до 2018-08-31 23:00:00\n",
      "Разбито в соотношении 0.9:0.1\n"
     ]
    }
   ],
   "source": [
    "X = data.drop(columns=['num_orders'])\n",
    "y = data['num_orders']\n",
    "X_train, X_test, y_train, y_test = train_test_split(X,y, test_size=0.1, shuffle=False)\n",
    "print(f'Обучающая выбока находится в промежутке от {X_train.index.min()} до {X_train.index.max()}')\n",
    "print(f'Тестовая выбока находится в промежутке от {X_test.index.min()} до {X_test.index.max()}')\n",
    "print(f'Разбито в соотношении {round((X_train.shape[0] / X.shape[0]), 2)}:{round((X_test.shape[0] / X.shape[0]), 2)}')"
   ]
  },
  {
   "cell_type": "code",
   "execution_count": 21,
   "metadata": {},
   "outputs": [
    {
     "name": "stdout",
     "output_type": "stream",
     "text": [
      "num_orders      int64\n",
      "day             int64\n",
      "dayofweek       int64\n",
      "hour            int64\n",
      "lag_1         float64\n",
      "lag_2         float64\n",
      "lag_3         float64\n",
      "lag_4         float64\n",
      "lag_5         float64\n",
      "lag_6         float64\n",
      "lag_7         float64\n",
      "lag_8         float64\n",
      "lag_9         float64\n",
      "lag_10        float64\n",
      "lag_11        float64\n",
      "lag_12        float64\n",
      "lag_13        float64\n",
      "lag_14        float64\n",
      "lag_15        float64\n",
      "lag_16        float64\n",
      "lag_17        float64\n",
      "lag_18        float64\n",
      "lag_19        float64\n",
      "lag_20        float64\n",
      "lag_21        float64\n",
      "lag_22        float64\n",
      "lag_23        float64\n",
      "lag_24        float64\n",
      "rol_1         float64\n",
      "rol_2         float64\n",
      "rol_3         float64\n",
      "rol_4         float64\n",
      "rol_5         float64\n",
      "rol_6         float64\n",
      "rol_7         float64\n",
      "dtype: object\n"
     ]
    }
   ],
   "source": [
    "RANDOM_STATE = 42\n",
    "timescv = TimeSeriesSplit()\n",
    "print(data.dtypes)"
   ]
  },
  {
   "cell_type": "code",
   "execution_count": 22,
   "metadata": {},
   "outputs": [
    {
     "name": "stdout",
     "output_type": "stream",
     "text": [
      "['day', 'dayofweek', 'hour']\n",
      "['lag_1', 'lag_2', 'lag_3', 'lag_4', 'lag_5', 'lag_6', 'lag_7', 'lag_8', 'lag_9', 'lag_10', 'lag_11', 'lag_12', 'lag_13', 'lag_14', 'lag_15', 'lag_16', 'lag_17', 'lag_18', 'lag_19', 'lag_20', 'lag_21', 'lag_22', 'lag_23', 'lag_24', 'rol_1', 'rol_2', 'rol_3', 'rol_4', 'rol_5', 'rol_6', 'rol_7']\n"
     ]
    }
   ],
   "source": [
    "#разделение ячеек по категориям\n",
    "cat_columns = [] \n",
    "num_columns = []\n",
    "for col in X_train.columns: \n",
    "    if X_train[col].dtype == 'int': \n",
    "        cat_columns.append(col) \n",
    "    else: \n",
    "        num_columns.append(col)\n",
    "print(cat_columns) \n",
    "print(num_columns)\n",
    "\n",
    "# создаём пайплайн для подготовки признаков из списка ohe_columns: \n",
    "# заполнение пропусков и OHE-кодирование\n",
    "# SimpleImputer + OHE\n",
    "ohe_pipe = Pipeline(\n",
    "    [('simpleImputer_ohe', SimpleImputer(missing_values=np.nan, strategy='most_frequent')),\n",
    "     ('ohe', OneHotEncoder(drop='first', handle_unknown='ignore', sparse_output=False))\n",
    "    ]\n",
    "    )\n",
    "\n",
    "# создаём общий пайплайн для подготовки данных\n",
    "data_preprocessor = ColumnTransformer(\n",
    "    [('ohe', ohe_pipe, cat_columns),\n",
    "     ('num', StandardScaler(), num_columns)\n",
    "    ], \n",
    "    remainder='passthrough'\n",
    ")"
   ]
  },
  {
   "cell_type": "markdown",
   "metadata": {},
   "source": [
    "###  DecisionTreeRegressor()"
   ]
  },
  {
   "cell_type": "code",
   "execution_count": 23,
   "metadata": {},
   "outputs": [
    {
     "name": "stdout",
     "output_type": "stream",
     "text": [
      "Значение RMSE на кросс-валидации: 31.076\n"
     ]
    }
   ],
   "source": [
    "# создаём итоговый пайплайн: подготовка данных и модель\n",
    "pipe_final_dtr = Pipeline([\n",
    "    ('preprocessor', data_preprocessor),\n",
    "    ('models', DecisionTreeRegressor(random_state=RANDOM_STATE))\n",
    "])\n",
    "# словарь для модели\n",
    "param_grid_dtr = [{\n",
    "                 'models__max_depth': ([None]+[i for i in range(2, 7)]),\n",
    "                 'models__max_features': range(2, 15)                 \n",
    "}]\n",
    "\n",
    "grid_dtr = GridSearchCV(estimator=pipe_final_dtr, \n",
    "                       param_grid=param_grid_dtr,\n",
    "                       cv=timescv,\n",
    "                       scoring='neg_root_mean_squared_error',\n",
    "                       n_jobs=-1).fit(X_train, y_train)\n",
    "\n",
    "rmse_dtr_v = abs(grid_dtr.best_score_)\n",
    "print(f'Значение RMSE на кросс-валидации: {rmse_dtr_v:.3f}')"
   ]
  },
  {
   "cell_type": "markdown",
   "metadata": {},
   "source": [
    "### LinearRegression()"
   ]
  },
  {
   "cell_type": "code",
   "execution_count": 24,
   "metadata": {},
   "outputs": [
    {
     "name": "stdout",
     "output_type": "stream",
     "text": [
      "Значение RMSE на кросс-валидации: 25.920\n"
     ]
    }
   ],
   "source": [
    "# создаём итоговый пайплайн: подготовка данных и модель\n",
    "pipe_final_lr = Pipeline([\n",
    "    ('preprocessor', data_preprocessor),\n",
    "    ('models', LinearRegression())\n",
    "])\n",
    "# словарь для модели\n",
    "param_grid_lr = [{\n",
    "                 'preprocessor__num': [StandardScaler(), MinMaxScaler(), RobustScaler(), 'passthrough']\n",
    "                 }]\n",
    "\n",
    "grid_lr = GridSearchCV(estimator=pipe_final_lr, \n",
    "                       param_grid=param_grid_lr,\n",
    "                       cv=timescv,\n",
    "                       scoring='neg_root_mean_squared_error',\n",
    "                       n_jobs=-1).fit(X_train, y_train)\n",
    "\n",
    "rmse_lr_v = abs(grid_lr.best_score_)\n",
    "print(f'Значение RMSE на кросс-валидации: {rmse_lr_v:.3f}')"
   ]
  },
  {
   "cell_type": "markdown",
   "metadata": {},
   "source": [
    "### Ridge()"
   ]
  },
  {
   "cell_type": "code",
   "execution_count": 25,
   "metadata": {},
   "outputs": [
    {
     "name": "stdout",
     "output_type": "stream",
     "text": [
      "Значение RMSE на кросс-валидации: 25.717\n"
     ]
    }
   ],
   "source": [
    "# создаём итоговый пайплайн: подготовка данных и модель\n",
    "pipe_final_ridge = Pipeline([\n",
    "    ('preprocessor', data_preprocessor),\n",
    "    ('models', Ridge(random_state=RANDOM_STATE))\n",
    "])\n",
    "# словарь для модели\n",
    "param_grid_ridge = [{\n",
    "                 'preprocessor__num': [StandardScaler(), MinMaxScaler(), RobustScaler(), 'passthrough'],\n",
    "                 'models__alpha': (0.001, 0.01, 0.1, 1, 10, 100, 1000),\n",
    "                 'models__fit_intercept': (True, False), \n",
    "                 'models__solver': ('auto', 'svd', 'cholesky', 'lsqr', 'sparse_cg', 'sag', 'saga')                    \n",
    "                                  \n",
    "}]\n",
    "\n",
    "grid_ridge = GridSearchCV(estimator=pipe_final_ridge, \n",
    "                       param_grid=param_grid_ridge,\n",
    "                       cv=timescv,\n",
    "                       scoring='neg_root_mean_squared_error',\n",
    "                       n_jobs=-1).fit(X_train, y_train)\n",
    "\n",
    "rmse_ridge_v = abs(grid_ridge.best_score_)\n",
    "print(f'Значение RMSE на кросс-валидации: {rmse_ridge_v:.3f}')"
   ]
  },
  {
   "cell_type": "markdown",
   "metadata": {},
   "source": [
    "### Lasso()"
   ]
  },
  {
   "cell_type": "code",
   "execution_count": 26,
   "metadata": {},
   "outputs": [
    {
     "name": "stdout",
     "output_type": "stream",
     "text": [
      "Значение RMSE на кросс-валидации: 25.605\n"
     ]
    }
   ],
   "source": [
    "# создаём итоговый пайплайн: подготовка данных и модель\n",
    "pipe_final_lasso = Pipeline([\n",
    "    ('preprocessor', data_preprocessor),\n",
    "    ('models', Lasso(random_state=RANDOM_STATE))\n",
    "])\n",
    "# словарь для модели\n",
    "param_grid_lasso = [{\n",
    "                 'preprocessor__num': [StandardScaler(), MinMaxScaler(), RobustScaler(), 'passthrough'],\n",
    "                 'models__alpha': (0.001, 0.01, 0.1, 1, 10, 100, 1000),\n",
    "                 'models__fit_intercept': (True, False)                    \n",
    "                                  \n",
    "}]\n",
    "\n",
    "grid_lasso = GridSearchCV(estimator=pipe_final_lasso, \n",
    "                       param_grid=param_grid_lasso,\n",
    "                       cv=timescv,\n",
    "                       scoring='neg_root_mean_squared_error',\n",
    "                       n_jobs=-1).fit(X_train, y_train)\n",
    "\n",
    "rmse_lasso_v = abs(grid_lasso.best_score_)\n",
    "print(f'Значение RMSE на кросс-валидации: {rmse_lasso_v:.3f}')"
   ]
  },
  {
   "cell_type": "markdown",
   "metadata": {},
   "source": [
    "### LGBMRegressor()"
   ]
  },
  {
   "cell_type": "code",
   "execution_count": 27,
   "metadata": {},
   "outputs": [],
   "source": [
    "data[cat_columns] = data[cat_columns].astype('category')"
   ]
  },
  {
   "cell_type": "code",
   "execution_count": 28,
   "metadata": {},
   "outputs": [
    {
     "name": "stdout",
     "output_type": "stream",
     "text": [
      "Значение RMSE на кросс-валидации: 24.907\n"
     ]
    }
   ],
   "source": [
    "lgb_model = LGBMRegressor(verbose=-1, random_state=RANDOM_STATE)\n",
    "lgbm_params = {\n",
    "               'n_estimators': [150, 200],\n",
    "               'max_depth': ([None]+[i for i in range(2, 7)])\n",
    "              }\n",
    "\n",
    "grid_lgbm = GridSearchCV(lgb_model,\n",
    "                         lgbm_params,\n",
    "                         cv=timescv,\n",
    "                         scoring ='neg_mean_squared_error',\n",
    "                         n_jobs=-1,\n",
    "                         verbose=0).fit(X_train, y_train)\n",
    "\n",
    "rmse_lgbm_v = (abs(grid_lgbm.best_score_)**0.5)\n",
    "print(f'Значение RMSE на кросс-валидации: {rmse_lgbm_v:.3f}')"
   ]
  },
  {
   "cell_type": "markdown",
   "metadata": {},
   "source": [
    "### CatBoostRegressor()"
   ]
  },
  {
   "cell_type": "code",
   "execution_count": 29,
   "metadata": {},
   "outputs": [
    {
     "name": "stdout",
     "output_type": "stream",
     "text": [
      "Значение RMSE на кросс-валидации: 24.343\n"
     ]
    }
   ],
   "source": [
    "param_grid_cbr = {'depth': (5, 6, 7),\n",
    "                 'iterations': range(170, 190, 5), \n",
    "                 'learning_rate' : (0.01, 0.05, 0.1)}\n",
    "\n",
    "grid_cbr = RandomizedSearchCV(estimator=CatBoostRegressor(random_state=RANDOM_STATE, cat_features=cat_columns, verbose=False), \n",
    "                             param_distributions=param_grid_cbr,\n",
    "                             n_iter=5,\n",
    "                             cv=timescv,\n",
    "                             scoring='neg_root_mean_squared_error',\n",
    "                             n_jobs=-1, \n",
    "                             random_state=RANDOM_STATE).fit(X_train, y_train)\n",
    "\n",
    "rmse_cbr_v = abs(grid_cbr.best_score_)\n",
    "print(f'Значение RMSE на кросс-валидации: {rmse_cbr_v:.3f}')"
   ]
  },
  {
   "cell_type": "markdown",
   "metadata": {},
   "source": [
    "#### Вывод по обучению моделей\n",
    "\n",
    "В ходе работы были настроены параметры для следующих алгоритмов:\n",
    "\n",
    "+ Дерево решений (`DecisionTreeRegressor`)\n",
    "+ Линейная регрессия (`LinearRegression`)\n",
    "+ Ридж-регрессия (`Ridge`)\n",
    "+ Лассо-регрессия (`Lasso`)\n",
    "+ LightGBM (`LGBMRegressor`)\n",
    "+ CatBoost (`CatBoostRegressor`)\n",
    "\n",
    "Модели успешно обучены, переходим к этапу выбора оптимальной модели и её проверке на тестовой выборке."
   ]
  },
  {
   "cell_type": "markdown",
   "metadata": {},
   "source": [
    "## Тестирование"
   ]
  },
  {
   "cell_type": "markdown",
   "metadata": {},
   "source": [
    "### Создание сводной таблицы по обученным моделям\n"
   ]
  },
  {
   "cell_type": "markdown",
   "metadata": {},
   "source": [
    "Отберем модель с минимальным значеннием RMSE на валидационной выборке."
   ]
  },
  {
   "cell_type": "code",
   "execution_count": 30,
   "metadata": {},
   "outputs": [
    {
     "data": {
      "text/html": [
       "<div>\n",
       "<style scoped>\n",
       "    .dataframe tbody tr th:only-of-type {\n",
       "        vertical-align: middle;\n",
       "    }\n",
       "\n",
       "    .dataframe tbody tr th {\n",
       "        vertical-align: top;\n",
       "    }\n",
       "\n",
       "    .dataframe thead th {\n",
       "        text-align: right;\n",
       "    }\n",
       "</style>\n",
       "<table border=\"1\" class=\"dataframe\">\n",
       "  <thead>\n",
       "    <tr style=\"text-align: right;\">\n",
       "      <th></th>\n",
       "      <th>Model</th>\n",
       "      <th>RMSE_CV</th>\n",
       "    </tr>\n",
       "  </thead>\n",
       "  <tbody>\n",
       "    <tr>\n",
       "      <th>5</th>\n",
       "      <td>CatBoostRegressor</td>\n",
       "      <td>24.342713</td>\n",
       "    </tr>\n",
       "  </tbody>\n",
       "</table>\n",
       "</div>"
      ],
      "text/plain": [
       "               Model    RMSE_CV\n",
       "5  CatBoostRegressor  24.342713"
      ]
     },
     "execution_count": 30,
     "metadata": {},
     "output_type": "execute_result"
    }
   ],
   "source": [
    "results = pd.DataFrame({'Model': ['DecisionTreeRegressor', 'LinearRegression', 'Ridge', 'Lasso', 'LGBMRegressor','CatBoostRegressor'],\n",
    "                        'RMSE_CV': [rmse_lr_v, rmse_ridge_v, rmse_lasso_v, rmse_dtr_v, rmse_lgbm_v, rmse_cbr_v]})\n",
    "results = results.sort_values('RMSE_CV').head(1)\n",
    "results"
   ]
  },
  {
   "cell_type": "markdown",
   "metadata": {},
   "source": [
    "Лучшая обученная модель: `CatBoostRegressor`."
   ]
  },
  {
   "cell_type": "markdown",
   "metadata": {},
   "source": [
    "### Расчёт метрики на тестовых данных"
   ]
  },
  {
   "cell_type": "code",
   "execution_count": 31,
   "metadata": {},
   "outputs": [
    {
     "name": "stdout",
     "output_type": "stream",
     "text": [
      "Метрика RMSE на тестовой выборке: 42.085\n"
     ]
    }
   ],
   "source": [
    "print(f'Метрика RMSE на тестовой выборке: {abs(grid_cbr.score(X_test, y_test)):.3f}')"
   ]
  },
  {
   "cell_type": "markdown",
   "metadata": {},
   "source": [
    "Расчитанная метрика RMSE не превышает заданного порога в 48. Обученная модель соответствует требованиям."
   ]
  },
  {
   "cell_type": "markdown",
   "metadata": {},
   "source": [
    "### Проверка лучшей модели моделью `DummyRegressor`"
   ]
  },
  {
   "cell_type": "code",
   "execution_count": 32,
   "metadata": {},
   "outputs": [
    {
     "name": "stdout",
     "output_type": "stream",
     "text": [
      "Значение RMSE \"DummyRegressor\" на тестовой выборке: 84.688\n",
      "Метрика RMSE на тестовой выборке: 42.085\n",
      "Значение RMSE выбранной модели на тестовой выборке лучше \"DummyRegressor\" в 2.012 раза\n"
     ]
    }
   ],
   "source": [
    "dummy_regr = DummyRegressor(strategy=\"mean\").fit(X_train, y_train)\n",
    "print(f'Значение RMSE \"DummyRegressor\" на тестовой выборке: {(mean_squared_error(y_test, dummy_regr.predict(X_test)))**0.5:.3f}')\n",
    "print(f'Метрика RMSE на тестовой выборке: {abs(grid_cbr.score(X_test, y_test)):.3f}')\n",
    "print(f'Значение RMSE выбранной модели на тестовой выборке лучше \"DummyRegressor\" в {(mean_squared_error(y_test, dummy_regr.predict(X_test)))**0.5 / abs(grid_cbr.score(X_test, y_test)):.3f} раза')"
   ]
  },
  {
   "cell_type": "markdown",
   "metadata": {},
   "source": [
    "Результат тестирования нашей модели на тествой выборке лучше, чем результат константной модели."
   ]
  },
  {
   "cell_type": "markdown",
   "metadata": {},
   "source": [
    "### Сравнительный анализ реальных и предсказанных данных"
   ]
  },
  {
   "cell_type": "code",
   "execution_count": 33,
   "metadata": {},
   "outputs": [
    {
     "data": {
      "image/png": "[encoded data removed]",
      "text/plain": [
       "<Figure size 864x504 with 1 Axes>"
      ]
     },
     "metadata": {
      "needs_background": "light"
     },
     "output_type": "display_data"
    }
   ],
   "source": [
    "pd.DataFrame({'true': y_test, 'pred': grid_cbr.predict(X_test)}).plot(figsize=(12, 7))\n",
    "plt.title('Сравнение реального и предсказанного количества заказов для теста')\n",
    "plt.xlabel('Дата', fontsize=15, color='blue')\n",
    "plt.ylabel('Количество', fontsize=15, color='orange')\n",
    "plt.legend(['Истинные значения', 'Предсказанные значения'])\n",
    "plt.show();"
   ]
  },
  {
   "cell_type": "markdown",
   "metadata": {},
   "source": [
    "**Анализ результатов прогнозирования:**\n",
    "\n",
    "Визуальное сравнение фактических и предсказанных значений показывает хорошее соответствие графиков. Однако выявлены отклонения в прогнозировании для двух дат:\n",
    "\n",
    "+ 20 августа\n",
    "+ 27 августа\n",
    "\n",
    "В эти дни наблюдались аномально высокие показатели количества заказов, которые не были корректно учтены моделью при прогнозировании."
   ]
  },
  {
   "cell_type": "markdown",
   "metadata": {},
   "source": [
    "### График важности признаков"
   ]
  },
  {
   "cell_type": "code",
   "execution_count": 34,
   "metadata": {},
   "outputs": [
    {
     "data": {
      "image/png": "[encoded data removed]",
      "text/plain": [
       "<Figure size 720x360 with 1 Axes>"
      ]
     },
     "metadata": {
      "needs_background": "light"
     },
     "output_type": "display_data"
    }
   ],
   "source": [
    "importances = pd.DataFrame(data={'Attribute': X_train.columns,'Importance': grid_cbr.best_estimator_.feature_importances_})\n",
    "importances = importances.sort_values(by='Importance', ascending=True).tail(15)\n",
    "plt.figure(figsize=(10, 5))\n",
    "plt.barh(y=importances['Attribute'], width=importances['Importance'], color='#997a8d')\n",
    "plt.title('Важность признаков', size=20)\n",
    "plt.xticks(rotation='vertical')\n",
    "plt.xlabel('Важность признака', fontsize=15, color='blue')\n",
    "plt.ylabel('Признак', fontsize=15, color='orange')\n",
    "plt.show();"
   ]
  },
  {
   "cell_type": "markdown",
   "metadata": {},
   "source": [
    "По результатам анализа важности характеристик выявлены ключевые факторы (от наиболее значимого к менее значимому):\n",
    "\n",
    "+ `lag_24` — сдвиг показателей на 24 часа\n",
    "+ `hour` — время суток в часовом формате\n",
    "+ `lag_1` — сдвиг показателей на 1 час\n",
    "+ `lag_7` — сдвиг показателей на 7 часов\n",
    "+ `dayofweek` — день недели\n",
    "+ `lag_17` — сдвиг показателей на 17 часов\n",
    "+ `lag_23` — сдвиг показателей на 23 часа\n",
    "+ `lag_12` — сдвиг показателей на 12 часов\n",
    "+ `lag_13` — сдвиг показателей на 13 часов\n",
    "+ `rol_6` — скользящее среднее за 6 часов\n",
    "+ `lag_11` — сдвиг показателей на 11 часов\n",
    "+ `lag_18` — сдвиг показателей на 18 часов\n",
    "+ `rol_1` — скользящее среднее за 1 час\n",
    "+ `lag_9` — сдвиг показателей на 9 часов\n",
    "\n",
    "Для оптимизации модели можно сократить набор признаков до первых пяти и провести повторное тестирование. Если на тестовой выборке показатель `RMSE` не превысит значение 48, то можно ограничиться только этими характеристиками, что существенно ускорит процесс обучения моделей без расчёта остальных параметров."
   ]
  },
  {
   "cell_type": "markdown",
   "metadata": {},
   "source": [
    "## Общий вывод по работе"
   ]
  },
  {
   "cell_type": "markdown",
   "metadata": {},
   "source": [
    "**Достигнутые результаты**\n",
    "\n",
    "В ходе проведенного исследования была успешно решена задача прогнозирования количества заказов такси в аэропортах на следующий час. На основе исторических данных за период с марта по август 2018 года была разработана и обучена прогностическая модель, способная эффективно решать поставленную задачу.\n",
    "\n",
    "**Ключевые достижения проекта**\n",
    "\n",
    "+ Качество прогноза: модель демонстрирует высокое качество предсказаний, что подтверждается значением метрики RMSE, не превышающим установленный порог в 48 единиц на тестовой выборке\n",
    "+ Выбор модели: среди протестированных алгоритмов машинного обучения наилучшие результаты показал CatBoostRegressor, который был выбран в качестве финальной модели\n",
    "+ Анализ данных: проведен комплексный анализ временных рядов, выявивший важные закономерности:\n",
    "\n",
    "    + Суточная сезонность с пиками в 10:00, 16:00 и 00:00\n",
    "    + Еженедельная динамика с ростом от вторника к пятнице\n",
    "    + Общий восходящий тренд количества заказов\n",
    "    \n",
    "**Факторы влияния**\n",
    "\n",
    "Анализ важности признаков позволил определить ключевые факторы, влияющие на количество заказов:\n",
    "\n",
    "+ Временные сдвиги (особенно 24-часовой лаг)\n",
    "+ Время суток как категориальный признак\n",
    "+ День недели\n",
    "+ Краткосрочные временные лаги\n",
    "\n",
    "**Практическая значимость**\n",
    "\n",
    "Разработанная модель может быть успешно применена для:\n",
    "\n",
    "+ Оптимизации распределения водителей в периоды пиковой нагрузки\n",
    "+ Планирования работы такси в аэропортах\n",
    "+ Прогнозирования потребности в транспортных средствах\n",
    "+ Управления операционными процессами\n",
    "\n",
    "**Рекомендации по внедрению**\n",
    "\n",
    "+ Модель готова к интеграции в операционную деятельность\n",
    "+ Необходимо регулярное обновление модели с учетом новых данных\n",
    "+ Следует отслеживать появление новых закономерностей и аномалий\n",
    "+ Рекомендуется периодическая проверка качества прогнозов\n",
    "\n",
    "Таким образом, проект достиг поставленных целей, создав эффективный инструмент прогнозирования, который может существенно улучшить качество обслуживания пассажиров и оптимизировать работу службы такси в аэропортах."
   ]
  },
  {
   "cell_type": "markdown",
   "metadata": {},
   "source": [
    "## Чек-лист проверки"
   ]
  },
  {
   "cell_type": "markdown",
   "metadata": {},
   "source": [
    "- [x]  Jupyter Notebook открыт\n",
    "- [x]  Весь код выполняется без ошибок\n",
    "- [x]  Ячейки с кодом расположены в порядке исполнения\n",
    "- [x]  Данные загружены и подготовлены\n",
    "- [x]  Данные проанализированы\n",
    "- [x]  Модель обучена, гиперпараметры подобраны\n",
    "- [x]  Качество моделей проверено, выводы сделаны\n",
    "- [x]  Значение *RMSE* на тестовой выборке не больше 48"
   ]
  }
 ],
 "metadata": {
  "ExecuteTimeLog": [
   {
    "duration": 1557,
    "start_time": "2025-07-23T05:13:54.270Z"
   },
   {
    "duration": 48,
    "start_time": "2025-07-23T05:16:53.161Z"
   },
   {
    "duration": 4,
    "start_time": "2025-07-23T05:16:56.630Z"
   },
   {
    "duration": 52,
    "start_time": "2025-07-23T05:17:09.366Z"
   },
   {
    "duration": 10,
    "start_time": "2025-07-23T05:18:18.440Z"
   },
   {
    "duration": 5,
    "start_time": "2025-07-23T05:21:24.755Z"
   },
   {
    "duration": 7394,
    "start_time": "2025-07-24T05:02:37.319Z"
   },
   {
    "duration": 1751,
    "start_time": "2025-07-24T05:02:55.656Z"
   },
   {
    "duration": 61,
    "start_time": "2025-07-24T05:04:14.301Z"
   },
   {
    "duration": 3,
    "start_time": "2025-07-24T05:04:17.239Z"
   },
   {
    "duration": 40,
    "start_time": "2025-07-24T05:04:44.089Z"
   },
   {
    "duration": 8,
    "start_time": "2025-07-24T05:04:46.175Z"
   },
   {
    "duration": 6,
    "start_time": "2025-07-24T05:06:48.145Z"
   },
   {
    "duration": 7,
    "start_time": "2025-07-24T05:06:55.137Z"
   },
   {
    "duration": 12,
    "start_time": "2025-07-24T05:07:22.529Z"
   },
   {
    "duration": 13,
    "start_time": "2025-07-24T05:08:10.057Z"
   },
   {
    "duration": 11,
    "start_time": "2025-07-24T05:08:31.411Z"
   },
   {
    "duration": 8,
    "start_time": "2025-07-24T05:12:44.190Z"
   },
   {
    "duration": 5,
    "start_time": "2025-07-24T05:13:07.063Z"
   },
   {
    "duration": 10,
    "start_time": "2025-07-24T05:13:34.025Z"
   },
   {
    "duration": 11,
    "start_time": "2025-07-24T05:13:52.581Z"
   },
   {
    "duration": 424,
    "start_time": "2025-07-24T05:16:14.346Z"
   },
   {
    "duration": 2052,
    "start_time": "2025-07-24T05:20:12.539Z"
   },
   {
    "duration": 319,
    "start_time": "2025-07-24T05:22:18.596Z"
   },
   {
    "duration": 301,
    "start_time": "2025-07-24T05:23:00.293Z"
   },
   {
    "duration": 4,
    "start_time": "2025-07-24T05:23:28.189Z"
   },
   {
    "duration": 122,
    "start_time": "2025-07-24T05:23:46.229Z"
   },
   {
    "duration": 65,
    "start_time": "2025-07-24T05:23:56.172Z"
   },
   {
    "duration": 177,
    "start_time": "2025-07-24T05:24:09.471Z"
   },
   {
    "duration": 10,
    "start_time": "2025-07-24T05:26:59.354Z"
   },
   {
    "duration": 5,
    "start_time": "2025-07-24T05:29:11.441Z"
   },
   {
    "duration": 8,
    "start_time": "2025-07-24T05:30:34.371Z"
   },
   {
    "duration": 4750,
    "start_time": "2025-07-24T05:31:25.550Z"
   },
   {
    "duration": 44231,
    "start_time": "2025-07-24T05:31:54.548Z"
   },
   {
    "duration": 7598,
    "start_time": "2025-07-24T05:33:34.293Z"
   },
   {
    "duration": 13,
    "start_time": "2025-07-24T05:44:23.803Z"
   },
   {
    "duration": 3,
    "start_time": "2025-07-24T05:45:31.443Z"
   },
   {
    "duration": 6,
    "start_time": "2025-07-24T05:45:34.222Z"
   },
   {
    "duration": 44721,
    "start_time": "2025-07-24T05:45:36.733Z"
   },
   {
    "duration": 3243,
    "start_time": "2025-07-24T06:06:29.268Z"
   },
   {
    "duration": 30,
    "start_time": "2025-07-24T06:06:32.528Z"
   },
   {
    "duration": 82,
    "start_time": "2025-07-24T06:06:32.560Z"
   },
   {
    "duration": 6,
    "start_time": "2025-07-24T06:06:32.643Z"
   },
   {
    "duration": 26,
    "start_time": "2025-07-24T06:06:32.651Z"
   },
   {
    "duration": 34,
    "start_time": "2025-07-24T06:06:32.679Z"
   },
   {
    "duration": 27,
    "start_time": "2025-07-24T06:06:32.714Z"
   },
   {
    "duration": 17,
    "start_time": "2025-07-24T06:06:32.742Z"
   },
   {
    "duration": 21,
    "start_time": "2025-07-24T06:06:32.760Z"
   },
   {
    "duration": 132,
    "start_time": "2025-07-24T06:06:32.783Z"
   },
   {
    "duration": 43,
    "start_time": "2025-07-24T06:06:32.917Z"
   },
   {
    "duration": 27,
    "start_time": "2025-07-24T06:06:32.962Z"
   },
   {
    "duration": 339,
    "start_time": "2025-07-24T06:06:32.994Z"
   },
   {
    "duration": 3369,
    "start_time": "2025-07-24T06:06:33.335Z"
   },
   {
    "duration": 509,
    "start_time": "2025-07-24T06:06:36.708Z"
   },
   {
    "duration": 339,
    "start_time": "2025-07-24T06:06:37.218Z"
   },
   {
    "duration": 4,
    "start_time": "2025-07-24T06:06:37.559Z"
   },
   {
    "duration": 196,
    "start_time": "2025-07-24T06:06:37.565Z"
   },
   {
    "duration": 187,
    "start_time": "2025-07-24T06:06:37.763Z"
   },
   {
    "duration": 10,
    "start_time": "2025-07-24T06:06:37.953Z"
   },
   {
    "duration": 21,
    "start_time": "2025-07-24T06:06:37.964Z"
   },
   {
    "duration": 17,
    "start_time": "2025-07-24T06:06:37.986Z"
   },
   {
    "duration": 47424,
    "start_time": "2025-07-24T06:06:38.006Z"
   },
   {
    "duration": 7677,
    "start_time": "2025-07-24T06:07:25.432Z"
   },
   {
    "duration": 7187,
    "start_time": "2025-07-24T07:50:37.885Z"
   },
   {
    "duration": 1553,
    "start_time": "2025-07-24T07:50:53.517Z"
   },
   {
    "duration": 53,
    "start_time": "2025-07-24T07:50:57.995Z"
   },
   {
    "duration": 8,
    "start_time": "2025-07-24T07:51:00.804Z"
   },
   {
    "duration": 11,
    "start_time": "2025-07-24T07:51:02.412Z"
   },
   {
    "duration": 11,
    "start_time": "2025-07-24T07:51:03.900Z"
   },
   {
    "duration": 9,
    "start_time": "2025-07-24T07:51:06.052Z"
   },
   {
    "duration": 5,
    "start_time": "2025-07-24T07:51:07.635Z"
   },
   {
    "duration": 10,
    "start_time": "2025-07-24T07:51:10.531Z"
   },
   {
    "duration": 5,
    "start_time": "2025-07-24T07:51:11.699Z"
   },
   {
    "duration": 9,
    "start_time": "2025-07-24T07:51:14.283Z"
   },
   {
    "duration": 10,
    "start_time": "2025-07-24T07:51:16.579Z"
   },
   {
    "duration": 380,
    "start_time": "2025-07-24T07:51:20.027Z"
   },
   {
    "duration": 1861,
    "start_time": "2025-07-24T07:51:29.211Z"
   },
   {
    "duration": 292,
    "start_time": "2025-07-24T07:51:35.779Z"
   },
   {
    "duration": 262,
    "start_time": "2025-07-24T07:51:38.971Z"
   },
   {
    "duration": 4,
    "start_time": "2025-07-24T07:51:41.909Z"
   },
   {
    "duration": 59,
    "start_time": "2025-07-24T07:51:43.644Z"
   },
   {
    "duration": 168,
    "start_time": "2025-07-24T07:51:45.667Z"
   },
   {
    "duration": 10,
    "start_time": "2025-07-24T07:51:50.811Z"
   },
   {
    "duration": 5,
    "start_time": "2025-07-24T07:51:54.812Z"
   },
   {
    "duration": 7,
    "start_time": "2025-07-24T07:51:58.188Z"
   },
   {
    "duration": 41323,
    "start_time": "2025-07-24T07:52:01.156Z"
   },
   {
    "duration": 6457,
    "start_time": "2025-07-24T07:52:50.219Z"
   },
   {
    "duration": 3401,
    "start_time": "2025-07-24T09:00:16.274Z"
   },
   {
    "duration": 11,
    "start_time": "2025-07-24T09:00:19.679Z"
   },
   {
    "duration": 87,
    "start_time": "2025-07-24T09:00:19.692Z"
   },
   {
    "duration": 7,
    "start_time": "2025-07-24T09:00:19.781Z"
   },
   {
    "duration": 26,
    "start_time": "2025-07-24T09:00:19.789Z"
   },
   {
    "duration": 35,
    "start_time": "2025-07-24T09:00:19.817Z"
   },
   {
    "duration": 12,
    "start_time": "2025-07-24T09:00:19.854Z"
   },
   {
    "duration": 16,
    "start_time": "2025-07-24T09:00:19.868Z"
   },
   {
    "duration": 34,
    "start_time": "2025-07-24T09:00:19.887Z"
   },
   {
    "duration": 27,
    "start_time": "2025-07-24T09:00:19.925Z"
   },
   {
    "duration": 93,
    "start_time": "2025-07-24T09:00:19.954Z"
   },
   {
    "duration": 81,
    "start_time": "2025-07-24T09:00:20.049Z"
   },
   {
    "duration": 347,
    "start_time": "2025-07-24T09:00:20.132Z"
   },
   {
    "duration": 3292,
    "start_time": "2025-07-24T09:00:20.481Z"
   },
   {
    "duration": 446,
    "start_time": "2025-07-24T09:00:23.866Z"
   },
   {
    "duration": 238,
    "start_time": "2025-07-24T09:00:24.314Z"
   },
   {
    "duration": 13,
    "start_time": "2025-07-24T09:00:24.554Z"
   },
   {
    "duration": 87,
    "start_time": "2025-07-24T09:00:24.572Z"
   },
   {
    "duration": 199,
    "start_time": "2025-07-24T09:00:24.660Z"
   },
   {
    "duration": 16,
    "start_time": "2025-07-24T09:00:24.863Z"
   },
   {
    "duration": 6,
    "start_time": "2025-07-24T09:00:24.880Z"
   },
   {
    "duration": 7,
    "start_time": "2025-07-24T09:00:24.888Z"
   },
   {
    "duration": 49777,
    "start_time": "2025-07-24T09:00:24.897Z"
   },
   {
    "duration": 7795,
    "start_time": "2025-07-24T09:01:14.676Z"
   },
   {
    "duration": 221943,
    "start_time": "2025-07-24T09:01:22.473Z"
   },
   {
    "duration": 46,
    "start_time": "2025-07-24T09:05:04.418Z"
   },
   {
    "duration": 60605,
    "start_time": "2025-07-24T09:05:04.466Z"
   },
   {
    "duration": 424835,
    "start_time": "2025-07-24T09:06:05.074Z"
   },
   {
    "duration": 10,
    "start_time": "2025-07-24T09:13:09.910Z"
   },
   {
    "duration": 11,
    "start_time": "2025-07-24T09:13:09.922Z"
   },
   {
    "duration": 52,
    "start_time": "2025-07-24T09:13:09.934Z"
   },
   {
    "duration": 305,
    "start_time": "2025-07-24T09:13:09.989Z"
   },
   {
    "duration": 195,
    "start_time": "2025-07-24T09:13:10.296Z"
   },
   {
    "duration": 7038,
    "start_time": "2025-07-24T10:10:57.340Z"
   },
   {
    "duration": 1608,
    "start_time": "2025-07-24T10:11:04.380Z"
   },
   {
    "duration": 40,
    "start_time": "2025-07-24T10:11:05.989Z"
   },
   {
    "duration": 15,
    "start_time": "2025-07-24T10:11:06.031Z"
   },
   {
    "duration": 11,
    "start_time": "2025-07-24T10:11:06.048Z"
   },
   {
    "duration": 41,
    "start_time": "2025-07-24T10:11:06.068Z"
   },
   {
    "duration": 22,
    "start_time": "2025-07-24T10:11:06.111Z"
   },
   {
    "duration": 5,
    "start_time": "2025-07-24T10:11:06.134Z"
   },
   {
    "duration": 18,
    "start_time": "2025-07-24T10:11:06.141Z"
   },
   {
    "duration": 63,
    "start_time": "2025-07-24T10:11:06.162Z"
   },
   {
    "duration": 25,
    "start_time": "2025-07-24T10:11:06.226Z"
   },
   {
    "duration": 12,
    "start_time": "2025-07-24T10:11:06.252Z"
   },
   {
    "duration": 446,
    "start_time": "2025-07-24T10:11:06.273Z"
   },
   {
    "duration": 2857,
    "start_time": "2025-07-24T10:11:06.720Z"
   },
   {
    "duration": 503,
    "start_time": "2025-07-24T10:11:09.580Z"
   },
   {
    "duration": 222,
    "start_time": "2025-07-24T10:11:10.091Z"
   },
   {
    "duration": 4,
    "start_time": "2025-07-24T10:11:10.315Z"
   },
   {
    "duration": 84,
    "start_time": "2025-07-24T10:11:10.321Z"
   },
   {
    "duration": 191,
    "start_time": "2025-07-24T10:11:10.407Z"
   },
   {
    "duration": 9,
    "start_time": "2025-07-24T10:11:10.600Z"
   },
   {
    "duration": 27,
    "start_time": "2025-07-24T10:11:10.610Z"
   },
   {
    "duration": 6,
    "start_time": "2025-07-24T10:11:10.639Z"
   },
   {
    "duration": 45053,
    "start_time": "2025-07-24T10:11:10.647Z"
   },
   {
    "duration": 8464,
    "start_time": "2025-07-24T10:11:55.701Z"
   },
   {
    "duration": 288719,
    "start_time": "2025-07-24T10:12:04.167Z"
   },
   {
    "duration": 78,
    "start_time": "2025-07-24T10:16:52.889Z"
   },
   {
    "duration": 2731911,
    "start_time": "2025-07-24T10:16:52.970Z"
   },
   {
    "duration": 404412,
    "start_time": "2025-07-24T11:02:24.884Z"
   },
   {
    "duration": 124,
    "start_time": "2025-07-24T11:09:09.297Z"
   },
   {
    "duration": 0,
    "start_time": "2025-07-24T11:09:09.422Z"
   },
   {
    "duration": 0,
    "start_time": "2025-07-24T11:09:09.424Z"
   },
   {
    "duration": 0,
    "start_time": "2025-07-24T11:09:09.425Z"
   },
   {
    "duration": 0,
    "start_time": "2025-07-24T11:09:09.427Z"
   },
   {
    "duration": 8789,
    "start_time": "2025-07-24T16:26:03.574Z"
   },
   {
    "duration": 1652,
    "start_time": "2025-07-24T16:26:12.365Z"
   },
   {
    "duration": 94,
    "start_time": "2025-07-24T16:26:14.019Z"
   },
   {
    "duration": 7,
    "start_time": "2025-07-24T16:26:14.114Z"
   },
   {
    "duration": 122,
    "start_time": "2025-07-24T16:26:14.123Z"
   },
   {
    "duration": 12,
    "start_time": "2025-07-24T16:26:14.247Z"
   },
   {
    "duration": 9,
    "start_time": "2025-07-24T16:26:14.260Z"
   },
   {
    "duration": 5,
    "start_time": "2025-07-24T16:26:14.271Z"
   },
   {
    "duration": 19,
    "start_time": "2025-07-24T16:26:14.278Z"
   },
   {
    "duration": 15,
    "start_time": "2025-07-24T16:26:14.304Z"
   },
   {
    "duration": 10,
    "start_time": "2025-07-24T16:26:14.321Z"
   },
   {
    "duration": 26,
    "start_time": "2025-07-24T16:26:14.333Z"
   },
   {
    "duration": 473,
    "start_time": "2025-07-24T16:26:14.361Z"
   },
   {
    "duration": 4469,
    "start_time": "2025-07-24T16:26:14.837Z"
   },
   {
    "duration": 482,
    "start_time": "2025-07-24T16:26:19.316Z"
   },
   {
    "duration": 306,
    "start_time": "2025-07-24T16:26:19.800Z"
   },
   {
    "duration": 7,
    "start_time": "2025-07-24T16:26:20.114Z"
   },
   {
    "duration": 195,
    "start_time": "2025-07-24T16:26:20.123Z"
   },
   {
    "duration": 200,
    "start_time": "2025-07-24T16:26:20.320Z"
   },
   {
    "duration": 9,
    "start_time": "2025-07-24T16:26:20.521Z"
   },
   {
    "duration": 8,
    "start_time": "2025-07-24T16:26:20.531Z"
   },
   {
    "duration": 20,
    "start_time": "2025-07-24T16:26:20.541Z"
   },
   {
    "duration": 51167,
    "start_time": "2025-07-24T16:26:20.563Z"
   },
   {
    "duration": 12882,
    "start_time": "2025-07-24T16:27:11.731Z"
   },
   {
    "duration": 493499,
    "start_time": "2025-07-24T16:27:24.694Z"
   },
   {
    "duration": 91,
    "start_time": "2025-07-24T16:35:38.203Z"
   },
   {
    "duration": 3063,
    "start_time": "2025-07-25T06:06:58.635Z"
   },
   {
    "duration": 1306,
    "start_time": "2025-07-25T06:07:01.700Z"
   },
   {
    "duration": 38,
    "start_time": "2025-07-25T06:07:07.338Z"
   },
   {
    "duration": 7,
    "start_time": "2025-07-25T06:07:11.475Z"
   },
   {
    "duration": 10,
    "start_time": "2025-07-25T06:07:15.854Z"
   },
   {
    "duration": 10,
    "start_time": "2025-07-25T06:07:30.660Z"
   },
   {
    "duration": 13,
    "start_time": "2025-07-25T06:07:41.455Z"
   },
   {
    "duration": 3,
    "start_time": "2025-07-25T06:08:01.084Z"
   },
   {
    "duration": 9,
    "start_time": "2025-07-25T06:08:05.227Z"
   },
   {
    "duration": 13,
    "start_time": "2025-07-25T06:08:14.558Z"
   },
   {
    "duration": 103,
    "start_time": "2025-07-25T06:08:26.057Z"
   },
   {
    "duration": 13,
    "start_time": "2025-07-25T06:08:39.438Z"
   },
   {
    "duration": 11,
    "start_time": "2025-07-25T06:08:59.343Z"
   },
   {
    "duration": 7,
    "start_time": "2025-07-25T06:09:07.741Z"
   },
   {
    "duration": 9,
    "start_time": "2025-07-25T06:09:18.467Z"
   },
   {
    "duration": 3,
    "start_time": "2025-07-25T06:09:21.502Z"
   },
   {
    "duration": 8,
    "start_time": "2025-07-25T06:09:24.406Z"
   },
   {
    "duration": 5,
    "start_time": "2025-07-25T06:09:31.272Z"
   },
   {
    "duration": 6,
    "start_time": "2025-07-25T06:09:36.272Z"
   },
   {
    "duration": 11,
    "start_time": "2025-07-25T06:09:44.810Z"
   },
   {
    "duration": 376,
    "start_time": "2025-07-25T06:09:49.447Z"
   },
   {
    "duration": 1685,
    "start_time": "2025-07-25T06:09:55.085Z"
   },
   {
    "duration": 724,
    "start_time": "2025-07-25T06:10:07.662Z"
   },
   {
    "duration": 219,
    "start_time": "2025-07-25T06:10:14.800Z"
   },
   {
    "duration": 4,
    "start_time": "2025-07-25T06:10:19.448Z"
   },
   {
    "duration": 62,
    "start_time": "2025-07-25T06:10:22.746Z"
   },
   {
    "duration": 164,
    "start_time": "2025-07-25T06:10:26.330Z"
   },
   {
    "duration": 9,
    "start_time": "2025-07-25T06:10:30.343Z"
   },
   {
    "duration": 5,
    "start_time": "2025-07-25T06:10:34.217Z"
   },
   {
    "duration": 7,
    "start_time": "2025-07-25T06:10:38.692Z"
   },
   {
    "duration": 42536,
    "start_time": "2025-07-25T06:11:22.662Z"
   },
   {
    "duration": 10847,
    "start_time": "2025-07-25T06:13:13.289Z"
   },
   {
    "duration": 6909,
    "start_time": "2025-07-25T06:14:02.755Z"
   },
   {
    "duration": 1403978,
    "start_time": "2025-07-25T06:14:24.794Z"
   },
   {
    "duration": 204282,
    "start_time": "2025-07-25T06:37:56.781Z"
   },
   {
    "duration": 7,
    "start_time": "2025-07-25T06:41:54.001Z"
   },
   {
    "duration": 396851,
    "start_time": "2025-07-25T06:41:55.213Z"
   },
   {
    "duration": 7116,
    "start_time": "2025-07-25T15:26:26.810Z"
   },
   {
    "duration": 1608,
    "start_time": "2025-07-25T15:26:33.928Z"
   },
   {
    "duration": 39,
    "start_time": "2025-07-25T15:26:35.538Z"
   },
   {
    "duration": 145,
    "start_time": "2025-07-25T15:26:35.579Z"
   },
   {
    "duration": 43,
    "start_time": "2025-07-25T15:26:35.726Z"
   },
   {
    "duration": 15,
    "start_time": "2025-07-25T15:26:35.771Z"
   },
   {
    "duration": 8,
    "start_time": "2025-07-25T15:26:35.788Z"
   },
   {
    "duration": 12,
    "start_time": "2025-07-25T15:26:35.797Z"
   },
   {
    "duration": 17,
    "start_time": "2025-07-25T15:26:35.811Z"
   },
   {
    "duration": 17,
    "start_time": "2025-07-25T15:26:35.829Z"
   },
   {
    "duration": 74,
    "start_time": "2025-07-25T15:26:35.848Z"
   },
   {
    "duration": 96,
    "start_time": "2025-07-25T15:26:35.924Z"
   },
   {
    "duration": 425,
    "start_time": "2025-07-25T15:26:36.021Z"
   },
   {
    "duration": 2005,
    "start_time": "2025-07-25T15:26:36.449Z"
   },
   {
    "duration": 928,
    "start_time": "2025-07-25T15:26:38.457Z"
   },
   {
    "duration": 221,
    "start_time": "2025-07-25T15:26:39.387Z"
   },
   {
    "duration": 5,
    "start_time": "2025-07-25T15:26:39.609Z"
   },
   {
    "duration": 153,
    "start_time": "2025-07-25T15:26:39.616Z"
   },
   {
    "duration": 190,
    "start_time": "2025-07-25T15:26:39.771Z"
   },
   {
    "duration": 9,
    "start_time": "2025-07-25T15:26:39.962Z"
   },
   {
    "duration": 60,
    "start_time": "2025-07-25T15:26:39.973Z"
   },
   {
    "duration": 24,
    "start_time": "2025-07-25T15:26:40.035Z"
   },
   {
    "duration": 10877,
    "start_time": "2025-07-25T15:26:40.060Z"
   },
   {
    "duration": 6511,
    "start_time": "2025-07-25T15:26:50.939Z"
   },
   {
    "duration": 1163709,
    "start_time": "2025-07-25T15:26:57.453Z"
   },
   {
    "duration": 232022,
    "start_time": "2025-07-25T15:46:21.251Z"
   },
   {
    "duration": 82,
    "start_time": "2025-07-25T15:50:13.276Z"
   },
   {
    "duration": 1287404,
    "start_time": "2025-07-25T15:50:13.362Z"
   },
   {
    "duration": 68120,
    "start_time": "2025-07-25T16:11:40.769Z"
   },
   {
    "duration": 10,
    "start_time": "2025-07-25T16:12:48.891Z"
   },
   {
    "duration": 9,
    "start_time": "2025-07-25T16:12:48.903Z"
   },
   {
    "duration": 12,
    "start_time": "2025-07-25T16:12:48.914Z"
   },
   {
    "duration": 269,
    "start_time": "2025-07-25T16:12:48.927Z"
   },
   {
    "duration": 204,
    "start_time": "2025-07-25T16:12:49.198Z"
   }
  ],
  "kernelspec": {
   "display_name": "Python 3 (ipykernel)",
   "language": "python",
   "name": "python3"
  },
  "language_info": {
   "codemirror_mode": {
    "name": "ipython",
    "version": 3
   },
   "file_extension": ".py",
   "mimetype": "text/x-python",
   "name": "python",
   "nbconvert_exporter": "python",
   "pygments_lexer": "ipython3",
   "version": "3.9.5"
  },
  "toc": {
   "base_numbering": 1,
   "nav_menu": {},
   "number_sections": true,
   "sideBar": true,
   "skip_h1_title": true,
   "title_cell": "Содержание",
   "title_sidebar": "Contents",
   "toc_cell": true,
   "toc_position": {
    "height": "calc(100% - 180px)",
    "left": "10px",
    "top": "150px",
    "width": "371.188px"
   },
   "toc_section_display": true,
   "toc_window_display": true
  }
 },
 "nbformat": 4,
 "nbformat_minor": 2
}
