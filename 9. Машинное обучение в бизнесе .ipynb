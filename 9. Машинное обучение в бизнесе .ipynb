{
 "cells": [
  {
   "cell_type": "markdown",
   "metadata": {},
   "source": [
    "# Выбор локации для скважины"
   ]
  },
  {
   "cell_type": "markdown",
   "metadata": {},
   "source": [
    "Допустим, вы работаете в добывающей компании «ГлавРосГосНефть». Нужно решить, где бурить новую скважину.\n",
    "\n",
    "Вам предоставлены пробы нефти в трёх регионах: в каждом 100 000 месторождений, где измерили качество нефти и объём её запасов. Постройте модель машинного обучения, которая поможет определить регион, где добыча принесёт наибольшую прибыль. Проанализируйте возможную прибыль и риски техникой *Bootstrap.*\n",
    "\n",
    "Шаги для выбора локации:\n",
    "\n",
    "- В избранном регионе ищут месторождения, для каждого определяют значения признаков;\n",
    "- Строят модель и оценивают объём запасов;\n",
    "- Выбирают месторождения с самым высокими оценками значений. Количество месторождений зависит от бюджета компании и стоимости разработки одной скважины;\n",
    "- Прибыль равна суммарной прибыли отобранных месторождений.\n",
    "\n",
    "**Описание данных:**\n",
    "\n",
    "Данные геологоразведки трёх регионов находятся в файлах: \n",
    "1) `geo_data_0.csv` \n",
    "2) `geo_data_1.csv` \n",
    "3) `geo_data_2.csv`\n",
    "\n",
    "- `id` — уникальный идентификатор скважины;\n",
    "- `f0`, `f1`, `f2` — три признака точек (неважно, что они означают, но сами признаки значимы);\n",
    "- `product` — объём запасов в скважине (тыс. баррелей)."
   ]
  },
  {
   "cell_type": "markdown",
   "metadata": {},
   "source": [
    "## Загрузка и подготовка данных"
   ]
  },
  {
   "cell_type": "code",
   "execution_count": 88,
   "metadata": {},
   "outputs": [],
   "source": [
    "!pip install phik -q"
   ]
  },
  {
   "cell_type": "code",
   "execution_count": 89,
   "metadata": {},
   "outputs": [],
   "source": [
    "import time\n",
    "start_time = time.time()\n",
    "\n",
    "import os\n",
    "import numpy as np\n",
    "import pandas  as pd\n",
    "pd.set_option('display.max_columns', None)\n",
    "pd.set_option('display.max_colwidth', None)\n",
    "import phik\n",
    "from phik import phik_matrix\n",
    "import matplotlib.pyplot as plt\n",
    "import seaborn as sns\n",
    "import warnings\n",
    "warnings.simplefilter(action='ignore', category=FutureWarning)\n",
    "warnings.filterwarnings(\"ignore\")\n",
    "from sklearn.exceptions import FitFailedWarning \n",
    "\n",
    "\n",
    "from sklearn.compose import ColumnTransformer\n",
    "from sklearn.model_selection import (RandomizedSearchCV,\n",
    "                                     train_test_split\n",
    "                                    )\n",
    "from sklearn.preprocessing import (MinMaxScaler,\n",
    "                                   RobustScaler,\n",
    "                                   StandardScaler\n",
    "                                  )\n",
    "from sklearn.metrics import mean_squared_error\n",
    "from sklearn.pipeline import Pipeline\n",
    "from sklearn.linear_model import LinearRegression"
   ]
  },
  {
   "cell_type": "markdown",
   "metadata": {},
   "source": [
    "### Подготовка данных `geo_data_0.csv`"
   ]
  },
  {
   "cell_type": "code",
   "execution_count": 90,
   "metadata": {},
   "outputs": [
    {
     "data": {
      "text/html": [
       "<div>\n",
       "<style scoped>\n",
       "    .dataframe tbody tr th:only-of-type {\n",
       "        vertical-align: middle;\n",
       "    }\n",
       "\n",
       "    .dataframe tbody tr th {\n",
       "        vertical-align: top;\n",
       "    }\n",
       "\n",
       "    .dataframe thead th {\n",
       "        text-align: right;\n",
       "    }\n",
       "</style>\n",
       "<table border=\"1\" class=\"dataframe\">\n",
       "  <thead>\n",
       "    <tr style=\"text-align: right;\">\n",
       "      <th></th>\n",
       "      <th>f0</th>\n",
       "      <th>f1</th>\n",
       "      <th>f2</th>\n",
       "      <th>product</th>\n",
       "    </tr>\n",
       "    <tr>\n",
       "      <th>id</th>\n",
       "      <th></th>\n",
       "      <th></th>\n",
       "      <th></th>\n",
       "      <th></th>\n",
       "    </tr>\n",
       "  </thead>\n",
       "  <tbody>\n",
       "    <tr>\n",
       "      <th>txEyH</th>\n",
       "      <td>0.705745</td>\n",
       "      <td>-0.497823</td>\n",
       "      <td>1.221170</td>\n",
       "      <td>105.280062</td>\n",
       "    </tr>\n",
       "    <tr>\n",
       "      <th>2acmU</th>\n",
       "      <td>1.334711</td>\n",
       "      <td>-0.340164</td>\n",
       "      <td>4.365080</td>\n",
       "      <td>73.037750</td>\n",
       "    </tr>\n",
       "    <tr>\n",
       "      <th>409Wp</th>\n",
       "      <td>1.022732</td>\n",
       "      <td>0.151990</td>\n",
       "      <td>1.419926</td>\n",
       "      <td>85.265647</td>\n",
       "    </tr>\n",
       "    <tr>\n",
       "      <th>iJLyR</th>\n",
       "      <td>-0.032172</td>\n",
       "      <td>0.139033</td>\n",
       "      <td>2.978566</td>\n",
       "      <td>168.620776</td>\n",
       "    </tr>\n",
       "    <tr>\n",
       "      <th>Xdl7t</th>\n",
       "      <td>1.988431</td>\n",
       "      <td>0.155413</td>\n",
       "      <td>4.751769</td>\n",
       "      <td>154.036647</td>\n",
       "    </tr>\n",
       "    <tr>\n",
       "      <th>wX4Hy</th>\n",
       "      <td>0.969570</td>\n",
       "      <td>0.489775</td>\n",
       "      <td>-0.735383</td>\n",
       "      <td>64.741541</td>\n",
       "    </tr>\n",
       "    <tr>\n",
       "      <th>tL6pL</th>\n",
       "      <td>0.645075</td>\n",
       "      <td>0.530656</td>\n",
       "      <td>1.780266</td>\n",
       "      <td>49.055285</td>\n",
       "    </tr>\n",
       "    <tr>\n",
       "      <th>BYPU6</th>\n",
       "      <td>-0.400648</td>\n",
       "      <td>0.808337</td>\n",
       "      <td>-5.624670</td>\n",
       "      <td>72.943292</td>\n",
       "    </tr>\n",
       "    <tr>\n",
       "      <th>j9Oui</th>\n",
       "      <td>0.643105</td>\n",
       "      <td>-0.551583</td>\n",
       "      <td>2.372141</td>\n",
       "      <td>113.356160</td>\n",
       "    </tr>\n",
       "    <tr>\n",
       "      <th>OLuZU</th>\n",
       "      <td>2.173381</td>\n",
       "      <td>0.563698</td>\n",
       "      <td>9.441852</td>\n",
       "      <td>127.910945</td>\n",
       "    </tr>\n",
       "  </tbody>\n",
       "</table>\n",
       "</div>"
      ],
      "text/plain": [
       "             f0        f1        f2     product\n",
       "id                                             \n",
       "txEyH  0.705745 -0.497823  1.221170  105.280062\n",
       "2acmU  1.334711 -0.340164  4.365080   73.037750\n",
       "409Wp  1.022732  0.151990  1.419926   85.265647\n",
       "iJLyR -0.032172  0.139033  2.978566  168.620776\n",
       "Xdl7t  1.988431  0.155413  4.751769  154.036647\n",
       "wX4Hy  0.969570  0.489775 -0.735383   64.741541\n",
       "tL6pL  0.645075  0.530656  1.780266   49.055285\n",
       "BYPU6 -0.400648  0.808337 -5.624670   72.943292\n",
       "j9Oui  0.643105 -0.551583  2.372141  113.356160\n",
       "OLuZU  2.173381  0.563698  9.441852  127.910945"
      ]
     },
     "execution_count": 90,
     "metadata": {},
     "output_type": "execute_result"
    }
   ],
   "source": [
    "pth1 = '/datasets/geo_data_0.csv'\n",
    "\n",
    "geo_data_0 = pd.read_csv(pth1, index_col='id')\n",
    "geo_data_0.head(10)"
   ]
  },
  {
   "cell_type": "markdown",
   "metadata": {},
   "source": [
    "### Подготовка данных `geo_data_1.csv`"
   ]
  },
  {
   "cell_type": "code",
   "execution_count": 91,
   "metadata": {},
   "outputs": [
    {
     "data": {
      "text/html": [
       "<div>\n",
       "<style scoped>\n",
       "    .dataframe tbody tr th:only-of-type {\n",
       "        vertical-align: middle;\n",
       "    }\n",
       "\n",
       "    .dataframe tbody tr th {\n",
       "        vertical-align: top;\n",
       "    }\n",
       "\n",
       "    .dataframe thead th {\n",
       "        text-align: right;\n",
       "    }\n",
       "</style>\n",
       "<table border=\"1\" class=\"dataframe\">\n",
       "  <thead>\n",
       "    <tr style=\"text-align: right;\">\n",
       "      <th></th>\n",
       "      <th>f0</th>\n",
       "      <th>f1</th>\n",
       "      <th>f2</th>\n",
       "      <th>product</th>\n",
       "    </tr>\n",
       "    <tr>\n",
       "      <th>id</th>\n",
       "      <th></th>\n",
       "      <th></th>\n",
       "      <th></th>\n",
       "      <th></th>\n",
       "    </tr>\n",
       "  </thead>\n",
       "  <tbody>\n",
       "    <tr>\n",
       "      <th>kBEdx</th>\n",
       "      <td>-15.001348</td>\n",
       "      <td>-8.276000</td>\n",
       "      <td>-0.005876</td>\n",
       "      <td>3.179103</td>\n",
       "    </tr>\n",
       "    <tr>\n",
       "      <th>62mP7</th>\n",
       "      <td>14.272088</td>\n",
       "      <td>-3.475083</td>\n",
       "      <td>0.999183</td>\n",
       "      <td>26.953261</td>\n",
       "    </tr>\n",
       "    <tr>\n",
       "      <th>vyE1P</th>\n",
       "      <td>6.263187</td>\n",
       "      <td>-5.948386</td>\n",
       "      <td>5.001160</td>\n",
       "      <td>134.766305</td>\n",
       "    </tr>\n",
       "    <tr>\n",
       "      <th>KcrkZ</th>\n",
       "      <td>-13.081196</td>\n",
       "      <td>-11.506057</td>\n",
       "      <td>4.999415</td>\n",
       "      <td>137.945408</td>\n",
       "    </tr>\n",
       "    <tr>\n",
       "      <th>AHL4O</th>\n",
       "      <td>12.702195</td>\n",
       "      <td>-8.147433</td>\n",
       "      <td>5.004363</td>\n",
       "      <td>134.766305</td>\n",
       "    </tr>\n",
       "    <tr>\n",
       "      <th>HHckp</th>\n",
       "      <td>-3.327590</td>\n",
       "      <td>-2.205276</td>\n",
       "      <td>3.003647</td>\n",
       "      <td>84.038886</td>\n",
       "    </tr>\n",
       "    <tr>\n",
       "      <th>h5Ujo</th>\n",
       "      <td>-11.142655</td>\n",
       "      <td>-10.133399</td>\n",
       "      <td>4.002382</td>\n",
       "      <td>110.992147</td>\n",
       "    </tr>\n",
       "    <tr>\n",
       "      <th>muH9x</th>\n",
       "      <td>4.234715</td>\n",
       "      <td>-0.001354</td>\n",
       "      <td>2.004588</td>\n",
       "      <td>53.906522</td>\n",
       "    </tr>\n",
       "    <tr>\n",
       "      <th>YiRkx</th>\n",
       "      <td>13.355129</td>\n",
       "      <td>-0.332068</td>\n",
       "      <td>4.998647</td>\n",
       "      <td>134.766305</td>\n",
       "    </tr>\n",
       "    <tr>\n",
       "      <th>jG6Gi</th>\n",
       "      <td>1.069227</td>\n",
       "      <td>-11.025667</td>\n",
       "      <td>4.997844</td>\n",
       "      <td>137.945408</td>\n",
       "    </tr>\n",
       "  </tbody>\n",
       "</table>\n",
       "</div>"
      ],
      "text/plain": [
       "              f0         f1        f2     product\n",
       "id                                               \n",
       "kBEdx -15.001348  -8.276000 -0.005876    3.179103\n",
       "62mP7  14.272088  -3.475083  0.999183   26.953261\n",
       "vyE1P   6.263187  -5.948386  5.001160  134.766305\n",
       "KcrkZ -13.081196 -11.506057  4.999415  137.945408\n",
       "AHL4O  12.702195  -8.147433  5.004363  134.766305\n",
       "HHckp  -3.327590  -2.205276  3.003647   84.038886\n",
       "h5Ujo -11.142655 -10.133399  4.002382  110.992147\n",
       "muH9x   4.234715  -0.001354  2.004588   53.906522\n",
       "YiRkx  13.355129  -0.332068  4.998647  134.766305\n",
       "jG6Gi   1.069227 -11.025667  4.997844  137.945408"
      ]
     },
     "execution_count": 91,
     "metadata": {},
     "output_type": "execute_result"
    }
   ],
   "source": [
    "pth1 = '/datasets/geo_data_1.csv'\n",
    "\n",
    "geo_data_1 = pd.read_csv(pth1, index_col='id')\n",
    "geo_data_1.head(10)"
   ]
  },
  {
   "cell_type": "markdown",
   "metadata": {},
   "source": [
    "### Подготовка данных `geo_data_2.csv`"
   ]
  },
  {
   "cell_type": "code",
   "execution_count": 92,
   "metadata": {},
   "outputs": [
    {
     "data": {
      "text/html": [
       "<div>\n",
       "<style scoped>\n",
       "    .dataframe tbody tr th:only-of-type {\n",
       "        vertical-align: middle;\n",
       "    }\n",
       "\n",
       "    .dataframe tbody tr th {\n",
       "        vertical-align: top;\n",
       "    }\n",
       "\n",
       "    .dataframe thead th {\n",
       "        text-align: right;\n",
       "    }\n",
       "</style>\n",
       "<table border=\"1\" class=\"dataframe\">\n",
       "  <thead>\n",
       "    <tr style=\"text-align: right;\">\n",
       "      <th></th>\n",
       "      <th>f0</th>\n",
       "      <th>f1</th>\n",
       "      <th>f2</th>\n",
       "      <th>product</th>\n",
       "    </tr>\n",
       "    <tr>\n",
       "      <th>id</th>\n",
       "      <th></th>\n",
       "      <th></th>\n",
       "      <th></th>\n",
       "      <th></th>\n",
       "    </tr>\n",
       "  </thead>\n",
       "  <tbody>\n",
       "    <tr>\n",
       "      <th>fwXo0</th>\n",
       "      <td>-1.146987</td>\n",
       "      <td>0.963328</td>\n",
       "      <td>-0.828965</td>\n",
       "      <td>27.758673</td>\n",
       "    </tr>\n",
       "    <tr>\n",
       "      <th>WJtFt</th>\n",
       "      <td>0.262778</td>\n",
       "      <td>0.269839</td>\n",
       "      <td>-2.530187</td>\n",
       "      <td>56.069697</td>\n",
       "    </tr>\n",
       "    <tr>\n",
       "      <th>ovLUW</th>\n",
       "      <td>0.194587</td>\n",
       "      <td>0.289035</td>\n",
       "      <td>-5.586433</td>\n",
       "      <td>62.871910</td>\n",
       "    </tr>\n",
       "    <tr>\n",
       "      <th>q6cA6</th>\n",
       "      <td>2.236060</td>\n",
       "      <td>-0.553760</td>\n",
       "      <td>0.930038</td>\n",
       "      <td>114.572842</td>\n",
       "    </tr>\n",
       "    <tr>\n",
       "      <th>WPMUX</th>\n",
       "      <td>-0.515993</td>\n",
       "      <td>1.716266</td>\n",
       "      <td>5.899011</td>\n",
       "      <td>149.600746</td>\n",
       "    </tr>\n",
       "    <tr>\n",
       "      <th>LzZXx</th>\n",
       "      <td>-0.758092</td>\n",
       "      <td>0.710691</td>\n",
       "      <td>2.585887</td>\n",
       "      <td>90.222465</td>\n",
       "    </tr>\n",
       "    <tr>\n",
       "      <th>WBHRv</th>\n",
       "      <td>-0.574891</td>\n",
       "      <td>0.317727</td>\n",
       "      <td>1.773745</td>\n",
       "      <td>45.641478</td>\n",
       "    </tr>\n",
       "    <tr>\n",
       "      <th>XO8fn</th>\n",
       "      <td>-1.906649</td>\n",
       "      <td>-2.458350</td>\n",
       "      <td>-0.177097</td>\n",
       "      <td>72.480640</td>\n",
       "    </tr>\n",
       "    <tr>\n",
       "      <th>ybmQ5</th>\n",
       "      <td>1.776292</td>\n",
       "      <td>-0.279356</td>\n",
       "      <td>3.004156</td>\n",
       "      <td>106.616832</td>\n",
       "    </tr>\n",
       "    <tr>\n",
       "      <th>OilcN</th>\n",
       "      <td>-1.214452</td>\n",
       "      <td>-0.439314</td>\n",
       "      <td>5.922514</td>\n",
       "      <td>52.954532</td>\n",
       "    </tr>\n",
       "  </tbody>\n",
       "</table>\n",
       "</div>"
      ],
      "text/plain": [
       "             f0        f1        f2     product\n",
       "id                                             \n",
       "fwXo0 -1.146987  0.963328 -0.828965   27.758673\n",
       "WJtFt  0.262778  0.269839 -2.530187   56.069697\n",
       "ovLUW  0.194587  0.289035 -5.586433   62.871910\n",
       "q6cA6  2.236060 -0.553760  0.930038  114.572842\n",
       "WPMUX -0.515993  1.716266  5.899011  149.600746\n",
       "LzZXx -0.758092  0.710691  2.585887   90.222465\n",
       "WBHRv -0.574891  0.317727  1.773745   45.641478\n",
       "XO8fn -1.906649 -2.458350 -0.177097   72.480640\n",
       "ybmQ5  1.776292 -0.279356  3.004156  106.616832\n",
       "OilcN -1.214452 -0.439314  5.922514   52.954532"
      ]
     },
     "execution_count": 92,
     "metadata": {},
     "output_type": "execute_result"
    }
   ],
   "source": [
    "pth1 = '/datasets/geo_data_2.csv'\n",
    "\n",
    "geo_data_2 = pd.read_csv(pth1, index_col='id')\n",
    "geo_data_2.head(10)"
   ]
  },
  {
   "cell_type": "markdown",
   "metadata": {},
   "source": [
    "### Предобработка данных"
   ]
  },
  {
   "cell_type": "code",
   "execution_count": 93,
   "metadata": {
    "scrolled": true
   },
   "outputs": [
    {
     "name": "stdout",
     "output_type": "stream",
     "text": [
      "<class 'pandas.core.frame.DataFrame'>\n",
      "Index: 100000 entries, txEyH to 1CWhH\n",
      "Data columns (total 4 columns):\n",
      " #   Column   Non-Null Count   Dtype  \n",
      "---  ------   --------------   -----  \n",
      " 0   f0       100000 non-null  float64\n",
      " 1   f1       100000 non-null  float64\n",
      " 2   f2       100000 non-null  float64\n",
      " 3   product  100000 non-null  float64\n",
      "dtypes: float64(4)\n",
      "memory usage: 3.8+ MB\n",
      "<class 'pandas.core.frame.DataFrame'>\n",
      "Index: 100000 entries, kBEdx to relB0\n",
      "Data columns (total 4 columns):\n",
      " #   Column   Non-Null Count   Dtype  \n",
      "---  ------   --------------   -----  \n",
      " 0   f0       100000 non-null  float64\n",
      " 1   f1       100000 non-null  float64\n",
      " 2   f2       100000 non-null  float64\n",
      " 3   product  100000 non-null  float64\n",
      "dtypes: float64(4)\n",
      "memory usage: 3.8+ MB\n",
      "<class 'pandas.core.frame.DataFrame'>\n",
      "Index: 100000 entries, fwXo0 to V9kWn\n",
      "Data columns (total 4 columns):\n",
      " #   Column   Non-Null Count   Dtype  \n",
      "---  ------   --------------   -----  \n",
      " 0   f0       100000 non-null  float64\n",
      " 1   f1       100000 non-null  float64\n",
      " 2   f2       100000 non-null  float64\n",
      " 3   product  100000 non-null  float64\n",
      "dtypes: float64(4)\n",
      "memory usage: 3.8+ MB\n"
     ]
    }
   ],
   "source": [
    "geo_data_0.drop_duplicates().info()\n",
    "geo_data_1.drop_duplicates().info()\n",
    "geo_data_2.drop_duplicates().info()"
   ]
  },
  {
   "cell_type": "code",
   "execution_count": 94,
   "metadata": {},
   "outputs": [
    {
     "name": "stdout",
     "output_type": "stream",
     "text": [
      "Количество перекрестных совпадений \"id\" в  таблицах 0 и 1 =  10\n",
      "Количество перекрестных совпадений \"id\" в  таблицах 0 и 2 =  17\n",
      "Количество перекрестных совпадений \"id\" в  таблицах 1 и 2 =  4\n"
     ]
    }
   ],
   "source": [
    "print('Количество перекрестных совпадений \"id\" в  таблицах 0 и 1 = ', len(geo_data_0[geo_data_0.index.isin(geo_data_1.index.unique())]))\n",
    "print('Количество перекрестных совпадений \"id\" в  таблицах 0 и 2 = ', len(geo_data_0[geo_data_0.index.isin(geo_data_2.index.unique())]))\n",
    "print('Количество перекрестных совпадений \"id\" в  таблицах 1 и 2 = ', len(geo_data_1[geo_data_1.index.isin(geo_data_2.index.unique())]))"
   ]
  },
  {
   "cell_type": "markdown",
   "metadata": {},
   "source": [
    "**Вывод по обработке**\n",
    "\n",
    "Данные не содержат пропусков, а их типы соответствуют содержанию. Пока мы оставим без изменений совпадающие индексы скважин в разных регионах. Далее перейдём к проведению исследовательского анализа."
   ]
  },
  {
   "cell_type": "markdown",
   "metadata": {},
   "source": [
    "### Исследовательский анализ данных"
   ]
  },
  {
   "cell_type": "code",
   "execution_count": 95,
   "metadata": {},
   "outputs": [
    {
     "data": {
      "text/html": [
       "<div>\n",
       "<style scoped>\n",
       "    .dataframe tbody tr th:only-of-type {\n",
       "        vertical-align: middle;\n",
       "    }\n",
       "\n",
       "    .dataframe tbody tr th {\n",
       "        vertical-align: top;\n",
       "    }\n",
       "\n",
       "    .dataframe thead th {\n",
       "        text-align: right;\n",
       "    }\n",
       "</style>\n",
       "<table border=\"1\" class=\"dataframe\">\n",
       "  <thead>\n",
       "    <tr style=\"text-align: right;\">\n",
       "      <th></th>\n",
       "      <th>f0</th>\n",
       "      <th>f1</th>\n",
       "      <th>f2</th>\n",
       "      <th>product</th>\n",
       "    </tr>\n",
       "  </thead>\n",
       "  <tbody>\n",
       "    <tr>\n",
       "      <th>count</th>\n",
       "      <td>100000.000000</td>\n",
       "      <td>100000.000000</td>\n",
       "      <td>100000.000000</td>\n",
       "      <td>100000.000000</td>\n",
       "    </tr>\n",
       "    <tr>\n",
       "      <th>mean</th>\n",
       "      <td>0.500419</td>\n",
       "      <td>0.250143</td>\n",
       "      <td>2.502647</td>\n",
       "      <td>92.500000</td>\n",
       "    </tr>\n",
       "    <tr>\n",
       "      <th>std</th>\n",
       "      <td>0.871832</td>\n",
       "      <td>0.504433</td>\n",
       "      <td>3.248248</td>\n",
       "      <td>44.288691</td>\n",
       "    </tr>\n",
       "    <tr>\n",
       "      <th>min</th>\n",
       "      <td>-1.408605</td>\n",
       "      <td>-0.848218</td>\n",
       "      <td>-12.088328</td>\n",
       "      <td>0.000000</td>\n",
       "    </tr>\n",
       "    <tr>\n",
       "      <th>25%</th>\n",
       "      <td>-0.072580</td>\n",
       "      <td>-0.200881</td>\n",
       "      <td>0.287748</td>\n",
       "      <td>56.497507</td>\n",
       "    </tr>\n",
       "    <tr>\n",
       "      <th>50%</th>\n",
       "      <td>0.502360</td>\n",
       "      <td>0.250252</td>\n",
       "      <td>2.515969</td>\n",
       "      <td>91.849972</td>\n",
       "    </tr>\n",
       "    <tr>\n",
       "      <th>75%</th>\n",
       "      <td>1.073581</td>\n",
       "      <td>0.700646</td>\n",
       "      <td>4.715088</td>\n",
       "      <td>128.564089</td>\n",
       "    </tr>\n",
       "    <tr>\n",
       "      <th>max</th>\n",
       "      <td>2.362331</td>\n",
       "      <td>1.343769</td>\n",
       "      <td>16.003790</td>\n",
       "      <td>185.364347</td>\n",
       "    </tr>\n",
       "  </tbody>\n",
       "</table>\n",
       "</div>"
      ],
      "text/plain": [
       "                  f0             f1             f2        product\n",
       "count  100000.000000  100000.000000  100000.000000  100000.000000\n",
       "mean        0.500419       0.250143       2.502647      92.500000\n",
       "std         0.871832       0.504433       3.248248      44.288691\n",
       "min        -1.408605      -0.848218     -12.088328       0.000000\n",
       "25%        -0.072580      -0.200881       0.287748      56.497507\n",
       "50%         0.502360       0.250252       2.515969      91.849972\n",
       "75%         1.073581       0.700646       4.715088     128.564089\n",
       "max         2.362331       1.343769      16.003790     185.364347"
      ]
     },
     "execution_count": 95,
     "metadata": {},
     "output_type": "execute_result"
    }
   ],
   "source": [
    "geo_data_0.describe()"
   ]
  },
  {
   "cell_type": "code",
   "execution_count": 96,
   "metadata": {},
   "outputs": [
    {
     "data": {
      "text/html": [
       "<div>\n",
       "<style scoped>\n",
       "    .dataframe tbody tr th:only-of-type {\n",
       "        vertical-align: middle;\n",
       "    }\n",
       "\n",
       "    .dataframe tbody tr th {\n",
       "        vertical-align: top;\n",
       "    }\n",
       "\n",
       "    .dataframe thead th {\n",
       "        text-align: right;\n",
       "    }\n",
       "</style>\n",
       "<table border=\"1\" class=\"dataframe\">\n",
       "  <thead>\n",
       "    <tr style=\"text-align: right;\">\n",
       "      <th></th>\n",
       "      <th>f0</th>\n",
       "      <th>f1</th>\n",
       "      <th>f2</th>\n",
       "      <th>product</th>\n",
       "    </tr>\n",
       "  </thead>\n",
       "  <tbody>\n",
       "    <tr>\n",
       "      <th>count</th>\n",
       "      <td>100000.000000</td>\n",
       "      <td>100000.000000</td>\n",
       "      <td>100000.000000</td>\n",
       "      <td>100000.000000</td>\n",
       "    </tr>\n",
       "    <tr>\n",
       "      <th>mean</th>\n",
       "      <td>1.141296</td>\n",
       "      <td>-4.796579</td>\n",
       "      <td>2.494541</td>\n",
       "      <td>68.825000</td>\n",
       "    </tr>\n",
       "    <tr>\n",
       "      <th>std</th>\n",
       "      <td>8.965932</td>\n",
       "      <td>5.119872</td>\n",
       "      <td>1.703572</td>\n",
       "      <td>45.944423</td>\n",
       "    </tr>\n",
       "    <tr>\n",
       "      <th>min</th>\n",
       "      <td>-31.609576</td>\n",
       "      <td>-26.358598</td>\n",
       "      <td>-0.018144</td>\n",
       "      <td>0.000000</td>\n",
       "    </tr>\n",
       "    <tr>\n",
       "      <th>25%</th>\n",
       "      <td>-6.298551</td>\n",
       "      <td>-8.267985</td>\n",
       "      <td>1.000021</td>\n",
       "      <td>26.953261</td>\n",
       "    </tr>\n",
       "    <tr>\n",
       "      <th>50%</th>\n",
       "      <td>1.153055</td>\n",
       "      <td>-4.813172</td>\n",
       "      <td>2.011479</td>\n",
       "      <td>57.085625</td>\n",
       "    </tr>\n",
       "    <tr>\n",
       "      <th>75%</th>\n",
       "      <td>8.621015</td>\n",
       "      <td>-1.332816</td>\n",
       "      <td>3.999904</td>\n",
       "      <td>107.813044</td>\n",
       "    </tr>\n",
       "    <tr>\n",
       "      <th>max</th>\n",
       "      <td>29.421755</td>\n",
       "      <td>18.734063</td>\n",
       "      <td>5.019721</td>\n",
       "      <td>137.945408</td>\n",
       "    </tr>\n",
       "  </tbody>\n",
       "</table>\n",
       "</div>"
      ],
      "text/plain": [
       "                  f0             f1             f2        product\n",
       "count  100000.000000  100000.000000  100000.000000  100000.000000\n",
       "mean        1.141296      -4.796579       2.494541      68.825000\n",
       "std         8.965932       5.119872       1.703572      45.944423\n",
       "min       -31.609576     -26.358598      -0.018144       0.000000\n",
       "25%        -6.298551      -8.267985       1.000021      26.953261\n",
       "50%         1.153055      -4.813172       2.011479      57.085625\n",
       "75%         8.621015      -1.332816       3.999904     107.813044\n",
       "max        29.421755      18.734063       5.019721     137.945408"
      ]
     },
     "execution_count": 96,
     "metadata": {},
     "output_type": "execute_result"
    }
   ],
   "source": [
    "geo_data_1.describe()"
   ]
  },
  {
   "cell_type": "code",
   "execution_count": 97,
   "metadata": {},
   "outputs": [
    {
     "data": {
      "text/html": [
       "<div>\n",
       "<style scoped>\n",
       "    .dataframe tbody tr th:only-of-type {\n",
       "        vertical-align: middle;\n",
       "    }\n",
       "\n",
       "    .dataframe tbody tr th {\n",
       "        vertical-align: top;\n",
       "    }\n",
       "\n",
       "    .dataframe thead th {\n",
       "        text-align: right;\n",
       "    }\n",
       "</style>\n",
       "<table border=\"1\" class=\"dataframe\">\n",
       "  <thead>\n",
       "    <tr style=\"text-align: right;\">\n",
       "      <th></th>\n",
       "      <th>f0</th>\n",
       "      <th>f1</th>\n",
       "      <th>f2</th>\n",
       "      <th>product</th>\n",
       "    </tr>\n",
       "  </thead>\n",
       "  <tbody>\n",
       "    <tr>\n",
       "      <th>count</th>\n",
       "      <td>100000.000000</td>\n",
       "      <td>100000.000000</td>\n",
       "      <td>100000.000000</td>\n",
       "      <td>100000.000000</td>\n",
       "    </tr>\n",
       "    <tr>\n",
       "      <th>mean</th>\n",
       "      <td>0.002023</td>\n",
       "      <td>-0.002081</td>\n",
       "      <td>2.495128</td>\n",
       "      <td>95.000000</td>\n",
       "    </tr>\n",
       "    <tr>\n",
       "      <th>std</th>\n",
       "      <td>1.732045</td>\n",
       "      <td>1.730417</td>\n",
       "      <td>3.473445</td>\n",
       "      <td>44.749921</td>\n",
       "    </tr>\n",
       "    <tr>\n",
       "      <th>min</th>\n",
       "      <td>-8.760004</td>\n",
       "      <td>-7.084020</td>\n",
       "      <td>-11.970335</td>\n",
       "      <td>0.000000</td>\n",
       "    </tr>\n",
       "    <tr>\n",
       "      <th>25%</th>\n",
       "      <td>-1.162288</td>\n",
       "      <td>-1.174820</td>\n",
       "      <td>0.130359</td>\n",
       "      <td>59.450441</td>\n",
       "    </tr>\n",
       "    <tr>\n",
       "      <th>50%</th>\n",
       "      <td>0.009424</td>\n",
       "      <td>-0.009482</td>\n",
       "      <td>2.484236</td>\n",
       "      <td>94.925613</td>\n",
       "    </tr>\n",
       "    <tr>\n",
       "      <th>75%</th>\n",
       "      <td>1.158535</td>\n",
       "      <td>1.163678</td>\n",
       "      <td>4.858794</td>\n",
       "      <td>130.595027</td>\n",
       "    </tr>\n",
       "    <tr>\n",
       "      <th>max</th>\n",
       "      <td>7.238262</td>\n",
       "      <td>7.844801</td>\n",
       "      <td>16.739402</td>\n",
       "      <td>190.029838</td>\n",
       "    </tr>\n",
       "  </tbody>\n",
       "</table>\n",
       "</div>"
      ],
      "text/plain": [
       "                  f0             f1             f2        product\n",
       "count  100000.000000  100000.000000  100000.000000  100000.000000\n",
       "mean        0.002023      -0.002081       2.495128      95.000000\n",
       "std         1.732045       1.730417       3.473445      44.749921\n",
       "min        -8.760004      -7.084020     -11.970335       0.000000\n",
       "25%        -1.162288      -1.174820       0.130359      59.450441\n",
       "50%         0.009424      -0.009482       2.484236      94.925613\n",
       "75%         1.158535       1.163678       4.858794     130.595027\n",
       "max         7.238262       7.844801      16.739402     190.029838"
      ]
     },
     "execution_count": 97,
     "metadata": {},
     "output_type": "execute_result"
    }
   ],
   "source": [
    "geo_data_2.describe()"
   ]
  },
  {
   "cell_type": "markdown",
   "metadata": {},
   "source": [
    "В исследовательском анализе данных согласно датасету нас ждут 4 параметра:\n",
    " - `f0`\n",
    " - `f1`\n",
    " - `f2`\n",
    " - `product`\n",
    " \n",
    "Известное, что `f0`, `f1`, `f2` — три признака точек. А `product` — объём запасов в скважине"
   ]
  },
  {
   "cell_type": "markdown",
   "metadata": {},
   "source": [
    "Исследование параметра `f0`"
   ]
  },
  {
   "cell_type": "code",
   "execution_count": 98,
   "metadata": {},
   "outputs": [],
   "source": [
    "def f_hist_box_1(hb1, bins, title, xlabel, ylabel):\n",
    "    f, (ax_box, ax_hist) = plt.subplots(2, sharex=True, figsize=(10,5), gridspec_kw={\"height_ratios\": (.15, .85)})\n",
    "     \n",
    "    sns.boxplot(data=[hb1], orient=\"h\", ax=ax_box)\n",
    "    plt.hist([hb1], \n",
    "             bins=bins, range=(hb1.min(), hb1.max()), label=hb1.name)\n",
    " \n",
    "    plt.legend(loc='upper right')\n",
    "    plt.title(title)\n",
    "    plt.xlabel(xlabel)\n",
    "    plt.ylabel(ylabel)\n",
    "    plt.show()"
   ]
  },
  {
   "cell_type": "code",
   "execution_count": 99,
   "metadata": {},
   "outputs": [
    {
     "data": {
      "image/png": "[encoded data removed]",
      "text/plain": [
       "<Figure size 720x360 with 2 Axes>"
      ]
     },
     "metadata": {
      "needs_background": "light"
     },
     "output_type": "display_data"
    }
   ],
   "source": [
    "f_hist_box_1(\n",
    "    hb1=geo_data_0['f0'],\n",
    "    bins=500,\n",
    "        title='Параметр f0',\n",
    "    xlabel='Значение параметра',\n",
    "    ylabel='Количество значений',\n",
    ")"
   ]
  },
  {
   "cell_type": "code",
   "execution_count": 100,
   "metadata": {},
   "outputs": [
    {
     "data": {
      "image/png": "[encoded data removed]",
      "text/plain": [
       "<Figure size 720x360 with 2 Axes>"
      ]
     },
     "metadata": {
      "needs_background": "light"
     },
     "output_type": "display_data"
    }
   ],
   "source": [
    "f_hist_box_1(\n",
    "    hb1=geo_data_1['f0'],\n",
    "    bins=500,   \n",
    "    title='Параметр \"f0\"',\n",
    "    xlabel='Значение параметра',\n",
    "    ylabel='Количество значений'\n",
    ")"
   ]
  },
  {
   "cell_type": "code",
   "execution_count": 101,
   "metadata": {},
   "outputs": [
    {
     "data": {
      "image/png": "[encoded data removed]",
      "text/plain": [
       "<Figure size 720x360 with 2 Axes>"
      ]
     },
     "metadata": {
      "needs_background": "light"
     },
     "output_type": "display_data"
    }
   ],
   "source": [
    "f_hist_box_1(\n",
    "    hb1=geo_data_2['f0'],\n",
    "    bins=500,   \n",
    "    title='Параметр \"f0\"',\n",
    "    xlabel='Значение параметра',\n",
    "    ylabel='Количество значений'\n",
    ")"
   ]
  },
  {
   "cell_type": "markdown",
   "metadata": {},
   "source": [
    "Сопоставим данные"
   ]
  },
  {
   "cell_type": "code",
   "execution_count": 102,
   "metadata": {},
   "outputs": [],
   "source": [
    "def f_hist_box_3(hb1, hb2, hb3, bins, title, xlabel, ylabel):\n",
    "    f, (ax_box, ax_hist) = plt.subplots(2, sharex=True, figsize=(10,5), gridspec_kw={\"height_ratios\": (.15, .85)})\n",
    "     \n",
    "    sns.boxplot(data=[hb1, hb2, hb3], orient=\"h\", ax=ax_box)\n",
    "    plt.hist([hb1, hb2, hb3], \n",
    "             bins=bins, range=(min(hb1.min(), hb2.min(), hb3.min()), max(hb1.max(), hb2.max(), hb3.max())), \n",
    "             label=['geo_data_0', 'geo_data_1', 'geo_data_2'])\n",
    " \n",
    "    plt.legend(loc='upper right')\n",
    "    plt.title(title)\n",
    "    plt.xlabel(xlabel)\n",
    "    plt.ylabel(ylabel)\n",
    "    plt.show()"
   ]
  },
  {
   "cell_type": "code",
   "execution_count": 103,
   "metadata": {},
   "outputs": [
    {
     "data": {
      "image/png": "[encoded data removed]",
      "text/plain": [
       "<Figure size 720x360 with 2 Axes>"
      ]
     },
     "metadata": {
      "needs_background": "light"
     },
     "output_type": "display_data"
    }
   ],
   "source": [
    "f_hist_box_3(\n",
    "    hb1=geo_data_0['f0'],\n",
    "    hb2=geo_data_1['f0'],\n",
    "    hb3=geo_data_2['f0'],\n",
    "    bins=50,\n",
    "    title='Параметр \"f0\"',\n",
    "    xlabel='Значение параметра',\n",
    "    ylabel='Количество значений'\n",
    ")"
   ]
  },
  {
   "cell_type": "markdown",
   "metadata": {},
   "source": [
    "Далее исследуем параметр `f1`"
   ]
  },
  {
   "cell_type": "code",
   "execution_count": 104,
   "metadata": {},
   "outputs": [
    {
     "data": {
      "image/png": "[encoded data removed]",
      "text/plain": [
       "<Figure size 720x360 with 2 Axes>"
      ]
     },
     "metadata": {
      "needs_background": "light"
     },
     "output_type": "display_data"
    }
   ],
   "source": [
    "f_hist_box_1(\n",
    "    hb1=geo_data_0['f1'],\n",
    "    bins=500,   \n",
    "    title='Параметр \"f1\"',\n",
    "    xlabel='Значение параметра',\n",
    "    ylabel='Количество значений'\n",
    ")"
   ]
  },
  {
   "cell_type": "code",
   "execution_count": 105,
   "metadata": {},
   "outputs": [
    {
     "data": {
      "image/png": "[encoded data removed]",
      "text/plain": [
       "<Figure size 720x360 with 2 Axes>"
      ]
     },
     "metadata": {
      "needs_background": "light"
     },
     "output_type": "display_data"
    }
   ],
   "source": [
    "f_hist_box_1(\n",
    "    hb1=geo_data_1['f1'],\n",
    "    bins=500,   \n",
    "    title='Параметр \"f1\"',\n",
    "    xlabel='Значение параметра',\n",
    "    ylabel='Количество значений'\n",
    ")"
   ]
  },
  {
   "cell_type": "code",
   "execution_count": 106,
   "metadata": {},
   "outputs": [
    {
     "data": {
      "image/png": "[encoded data removed]",
      "text/plain": [
       "<Figure size 720x360 with 2 Axes>"
      ]
     },
     "metadata": {
      "needs_background": "light"
     },
     "output_type": "display_data"
    }
   ],
   "source": [
    "f_hist_box_1(\n",
    "    hb1=geo_data_2['f1'],\n",
    "    bins=500,   \n",
    "    title='Параметр \"f1\"',\n",
    "    xlabel='Значение параметра',\n",
    "    ylabel='Количество значений'\n",
    ")"
   ]
  },
  {
   "cell_type": "markdown",
   "metadata": {},
   "source": [
    "Сопоставим данные"
   ]
  },
  {
   "cell_type": "code",
   "execution_count": 107,
   "metadata": {},
   "outputs": [
    {
     "data": {
      "image/png": "[encoded data removed]",
      "text/plain": [
       "<Figure size 720x360 with 2 Axes>"
      ]
     },
     "metadata": {
      "needs_background": "light"
     },
     "output_type": "display_data"
    }
   ],
   "source": [
    "f_hist_box_3(\n",
    "    hb1=geo_data_0['f1'],\n",
    "    hb2=geo_data_1['f1'],\n",
    "    hb3=geo_data_2['f1'],\n",
    "    bins=50,\n",
    "    title='Параметр \"f1\"',\n",
    "    xlabel='Значение параметра',\n",
    "    ylabel='Количество значений'\n",
    ")"
   ]
  },
  {
   "cell_type": "markdown",
   "metadata": {},
   "source": [
    "Исследование параметра `f2`"
   ]
  },
  {
   "cell_type": "code",
   "execution_count": 108,
   "metadata": {},
   "outputs": [
    {
     "data": {
      "image/png": "[encoded data removed]",
      "text/plain": [
       "<Figure size 720x360 with 2 Axes>"
      ]
     },
     "metadata": {
      "needs_background": "light"
     },
     "output_type": "display_data"
    }
   ],
   "source": [
    "f_hist_box_1(\n",
    "    hb1=geo_data_0['f2'],\n",
    "    bins=100,   \n",
    "    title='Параметр \"f2\"',\n",
    "    xlabel='Значение параметра',\n",
    "    ylabel='Количество значений'\n",
    ")"
   ]
  },
  {
   "cell_type": "code",
   "execution_count": 109,
   "metadata": {},
   "outputs": [
    {
     "data": {
      "image/png": "[encoded data removed]",
      "text/plain": [
       "<Figure size 720x360 with 2 Axes>"
      ]
     },
     "metadata": {
      "needs_background": "light"
     },
     "output_type": "display_data"
    }
   ],
   "source": [
    "f_hist_box_1(\n",
    "    hb1=geo_data_1['f2'],\n",
    "    bins=10,   \n",
    "    title='Параметр \"f2\"',\n",
    "    xlabel='Значение параметра',\n",
    "    ylabel='Количество значений'\n",
    ")"
   ]
  },
  {
   "cell_type": "code",
   "execution_count": 110,
   "metadata": {},
   "outputs": [
    {
     "data": {
      "image/png": "[encoded data removed]",
      "text/plain": [
       "<Figure size 720x360 with 2 Axes>"
      ]
     },
     "metadata": {
      "needs_background": "light"
     },
     "output_type": "display_data"
    }
   ],
   "source": [
    "f_hist_box_1(\n",
    "    hb1=geo_data_2['f2'],\n",
    "    bins=100,   \n",
    "    title='Параметр \"f2\"',\n",
    "    xlabel='Значение параметра',\n",
    "    ylabel='Количество значений'\n",
    ")"
   ]
  },
  {
   "cell_type": "markdown",
   "metadata": {},
   "source": [
    "Сопоставим данных"
   ]
  },
  {
   "cell_type": "code",
   "execution_count": 111,
   "metadata": {},
   "outputs": [
    {
     "data": {
      "image/png": "[encoded data removed]",
      "text/plain": [
       "<Figure size 720x360 with 2 Axes>"
      ]
     },
     "metadata": {
      "needs_background": "light"
     },
     "output_type": "display_data"
    }
   ],
   "source": [
    "f_hist_box_3(\n",
    "    hb1=geo_data_0['f2'],\n",
    "    hb2=geo_data_1['f2'],\n",
    "    hb3=geo_data_2['f2'],\n",
    "    bins=50,\n",
    "    title='Параметр \"f2\"',\n",
    "    xlabel='Значение параметра',\n",
    "    ylabel='Количество значений'\n",
    ")"
   ]
  },
  {
   "cell_type": "markdown",
   "metadata": {},
   "source": [
    "Исследование параметра `product`"
   ]
  },
  {
   "cell_type": "code",
   "execution_count": 112,
   "metadata": {},
   "outputs": [
    {
     "data": {
      "image/png": "[encoded data removed]",
      "text/plain": [
       "<Figure size 720x360 with 2 Axes>"
      ]
     },
     "metadata": {
      "needs_background": "light"
     },
     "output_type": "display_data"
    }
   ],
   "source": [
    "f_hist_box_1(\n",
    "    hb1=geo_data_0['product'],\n",
    "    bins=50,   \n",
    "    title='Параметр \"product\"',\n",
    "    xlabel='Значение параметра',\n",
    "    ylabel='Количество значений'\n",
    ")"
   ]
  },
  {
   "cell_type": "code",
   "execution_count": 113,
   "metadata": {},
   "outputs": [
    {
     "data": {
      "image/png": "[encoded data removed]",
      "text/plain": [
       "<Figure size 720x360 with 2 Axes>"
      ]
     },
     "metadata": {
      "needs_background": "light"
     },
     "output_type": "display_data"
    }
   ],
   "source": [
    "f_hist_box_1(\n",
    "    hb1=geo_data_1['product'],\n",
    "    bins=50,   \n",
    "    title='Параметр \"product\"',\n",
    "    xlabel='Значение параметра',\n",
    "    ylabel='Количество значений'\n",
    ")"
   ]
  },
  {
   "cell_type": "code",
   "execution_count": 114,
   "metadata": {},
   "outputs": [
    {
     "data": {
      "image/png": "[encoded data removed]",
      "text/plain": [
       "<Figure size 720x360 with 2 Axes>"
      ]
     },
     "metadata": {
      "needs_background": "light"
     },
     "output_type": "display_data"
    }
   ],
   "source": [
    "f_hist_box_1(\n",
    "    hb1=geo_data_2['product'],\n",
    "    bins=100,   \n",
    "    title='Параметр \"product\"',\n",
    "    xlabel='Значение параметра',\n",
    "    ylabel='Количество значений'\n",
    ")"
   ]
  },
  {
   "cell_type": "code",
   "execution_count": 115,
   "metadata": {},
   "outputs": [
    {
     "data": {
      "image/png": "[encoded data removed]",
      "text/plain": [
       "<Figure size 720x360 with 2 Axes>"
      ]
     },
     "metadata": {
      "needs_background": "light"
     },
     "output_type": "display_data"
    }
   ],
   "source": [
    "f_hist_box_3(\n",
    "    hb1=geo_data_0['product'],\n",
    "    hb2=geo_data_1['product'],\n",
    "    hb3=geo_data_2['product'],\n",
    "    bins=100,\n",
    "    title='Параметр \"product\"',\n",
    "    xlabel='Значение параметра',\n",
    "    ylabel='Количество значений'\n",
    ")"
   ]
  },
  {
   "cell_type": "markdown",
   "metadata": {},
   "source": [
    "**Выводы по исследовательскому анализу данных**\n",
    "\n",
    "В наборе данных выявлено значительное количество выбросов, при этом отклонения от медианы распределены довольно равномерно.\n",
    "А также показатели по различным регионам демонстрируют существенные различия по всем измеряемым характеристикам.\n",
    "\n",
    "Далее проведем корреляционный анализ данных."
   ]
  },
  {
   "cell_type": "markdown",
   "metadata": {},
   "source": [
    "### Корреляционный анализ данных"
   ]
  },
  {
   "cell_type": "markdown",
   "metadata": {},
   "source": [
    "Корреляция данных `geo_data_0`"
   ]
  },
  {
   "cell_type": "code",
   "execution_count": 116,
   "metadata": {},
   "outputs": [],
   "source": [
    "interval_cols = ['f0', \n",
    "                 'f1', \n",
    "                 'f2', \n",
    "                 'product'\n",
    "                ]"
   ]
  },
  {
   "cell_type": "code",
   "execution_count": 117,
   "metadata": {},
   "outputs": [
    {
     "data": {
      "image/png": "[encoded data removed]",
      "text/plain": [
       "<Figure size 792x720 with 2 Axes>"
      ]
     },
     "metadata": {
      "needs_background": "light"
     },
     "output_type": "display_data"
    }
   ],
   "source": [
    "fig, ax = plt.subplots(figsize=(11, 10))\n",
    "plt.suptitle('Матрица корреляции phi(k) всех столбцов \"geo_data_0\"')\n",
    "sns.heatmap(geo_data_0.phik_matrix(interval_cols=interval_cols), annot=True, cmap='coolwarm');"
   ]
  },
  {
   "cell_type": "markdown",
   "metadata": {},
   "source": [
    "Корреляция данных `geo_data_1`"
   ]
  },
  {
   "cell_type": "code",
   "execution_count": 118,
   "metadata": {},
   "outputs": [
    {
     "data": {
      "image/png": "[encoded data removed]",
      "text/plain": [
       "<Figure size 792x720 with 2 Axes>"
      ]
     },
     "metadata": {
      "needs_background": "light"
     },
     "output_type": "display_data"
    }
   ],
   "source": [
    "fig, ax = plt.subplots(figsize=(11, 10))\n",
    "plt.suptitle('Матрица корреляции phi(k) всех столбцов \"geo_data_1\"')\n",
    "sns.heatmap(geo_data_1.phik_matrix(interval_cols=interval_cols), annot=True, cmap='coolwarm');"
   ]
  },
  {
   "cell_type": "markdown",
   "metadata": {},
   "source": [
    "Корреляция данных `geo_data_2`"
   ]
  },
  {
   "cell_type": "code",
   "execution_count": 119,
   "metadata": {},
   "outputs": [
    {
     "data": {
      "image/png": "[encoded data removed]",
      "text/plain": [
       "<Figure size 792x720 with 2 Axes>"
      ]
     },
     "metadata": {
      "needs_background": "light"
     },
     "output_type": "display_data"
    }
   ],
   "source": [
    "fig, ax = plt.subplots(figsize=(11, 10))\n",
    "plt.suptitle('Матрица корреляции phi(k) всех столбцов \"geo_data_2\"')\n",
    "sns.heatmap(geo_data_2.phik_matrix(interval_cols=interval_cols), annot=True, cmap='coolwarm');"
   ]
  },
  {
   "cell_type": "markdown",
   "metadata": {},
   "source": [
    "**Вывод по корреляционному аналиу данных**\n",
    "\n",
    "Мы выполнили корреляционный анализ данных и получили следующие результаты:\n",
    "\n",
    "- В данных выявлены выбросы, однако отклонения от медианы распределены примерно равномерно.\n",
    "- Между входными параметрами данных по всем регионам не обнаружено связи с коэффициентом выше 0,9. Это означает, что при обучении модели нет необходимости учитывать мультиколлинеарность. В анализе использовался коэффициент корреляции phi(k), который учитывает нелинейную зависимость и при бинарном нормальном распределении входных данных возвращается к коэффициенту корреляции Пирсона.\n",
    "- В данных `geo_data_1` обнаружена прямая зависимость между входным параметром `f2` и целевым признаком `product` (phi(k) = 0,98).\n",
    "- Значения корреляции между признаками и целевым показателем различаются по регионам.\n",
    "\n",
    "Теперь можно приступить к следующей задаче, а именно обучению и проверке модели"
   ]
  },
  {
   "cell_type": "markdown",
   "metadata": {},
   "source": [
    "## Обучение и проверка модели"
   ]
  },
  {
   "cell_type": "markdown",
   "metadata": {},
   "source": [
    "Согласно условиям задачи, для обучения модели целесообразно использовать только линейную регрессию, поскольку другие методы демонстрируют недостаточную предсказуемость."
   ]
  },
  {
   "cell_type": "code",
   "execution_count": 120,
   "metadata": {},
   "outputs": [
    {
     "name": "stdout",
     "output_type": "stream",
     "text": [
      "//////////\n",
      "Для данных \"geo_predict_0\" выборка поделена на `Обучающую:Валидационную` в размере 0.75:0.25\n",
      "----------\n",
      "Метрика лучшей модели на на кросс-валидации:37.673\n",
      "----------\n",
      "Значение RMSE  на обучающей выборке: 37.670\n",
      "Значение RMSE  на тестовой выборке: 37.757\n",
      "----------\n",
      "Средний запас фактического сырья по валидационной выборке = 92.33 тыс. баррелей\n",
      "Средний запас предсказанного сырья по валидационной выборке = 92.40 тыс. баррелей\n",
      "Разница = 0.08%\n",
      "//////////\n",
      "Для данных \"geo_predict_1\" выборка поделена на `Обучающую:Валидационную` в размере 0.75:0.25\n",
      "----------\n",
      "Метрика лучшей модели на на кросс-валидации:0.890\n",
      "----------\n",
      "Значение RMSE  на обучающей выборке: 0.890\n",
      "Значение RMSE  на тестовой выборке: 0.890\n",
      "----------\n",
      "Средний запас фактического сырья по валидационной выборке = 68.73 тыс. баррелей\n",
      "Средний запас предсказанного сырья по валидационной выборке = 68.71 тыс. баррелей\n",
      "Разница = -0.02%\n",
      "//////////\n",
      "Для данных \"geo_predict_2\" выборка поделена на `Обучающую:Валидационную` в размере 0.75:0.25\n",
      "----------\n",
      "Метрика лучшей модели на на кросс-валидации:40.027\n",
      "----------\n",
      "Значение RMSE  на обучающей выборке: 40.025\n",
      "Значение RMSE  на тестовой выборке: 40.146\n",
      "----------\n",
      "Средний запас фактического сырья по валидационной выборке = 95.15 тыс. баррелей\n",
      "Средний запас предсказанного сырья по валидационной выборке = 94.77 тыс. баррелей\n",
      "Разница = -0.40%\n"
     ]
    }
   ],
   "source": [
    "RANDOM_STATE = 42\n",
    "\n",
    "names = ['geo_predict_0', 'geo_predict_1', 'geo_predict_2']\n",
    "data = [geo_data_0, geo_data_1, geo_data_2]\n",
    "targets_1 = {}\n",
    "targets = {}\n",
    "\n",
    "for name, data in zip(names, data):\n",
    "    \n",
    "    X = data.drop(columns='product')\n",
    "    y = data['product']\n",
    "\n",
    "    X_train, X_test, y_train, y_test = train_test_split(\n",
    "        X, \n",
    "        y,\n",
    "        random_state=RANDOM_STATE\n",
    "    )\n",
    "    \n",
    "    param_grid = [\n",
    "\n",
    "    {\n",
    "        'models': [LinearRegression()],\n",
    "        'preprocessor__num': [StandardScaler(), \n",
    "                              MinMaxScaler(), \n",
    "                              RobustScaler(), \n",
    "                              'passthrough']   \n",
    "    },\n",
    "\n",
    "    ]\n",
    "    \n",
    "    num_columns = ['f0', 'f1', 'f2']\n",
    "    data_preprocessor = ColumnTransformer(\n",
    "    [('num', RobustScaler(), num_columns)\n",
    "    ], \n",
    "    remainder='passthrough'\n",
    "    )\n",
    "\n",
    "\n",
    "    pipe_final = Pipeline([\n",
    "    ('preprocessor', data_preprocessor),\n",
    "    ('models', LinearRegression())\n",
    "    ])\n",
    "\n",
    "    rs = RandomizedSearchCV(\n",
    "    pipe_final, \n",
    "    param_grid, \n",
    "    cv=5,\n",
    "    scoring='neg_mean_squared_error',\n",
    "    random_state=RANDOM_STATE,\n",
    "    n_jobs=-1\n",
    "    )\n",
    "\n",
    "    rs.fit(X_train, y_train)\n",
    "    \n",
    "    targets_1[name] =  pd.concat([pd.DataFrame(y).reset_index(), pd.DataFrame(data=rs.predict(X), columns=['predict'])], axis=1)\n",
    "    \n",
    "    targets[name] =  pd.concat([pd.DataFrame(y_test).reset_index(), pd.DataFrame(data=rs.predict(X_test), columns=['predict'])], axis=1)\n",
    "    print('//////////')\n",
    "    print(f'Для данных \"{name}\" выборка поделена на `Обучающую:Валидационную` в размере {X_train.shape[0]/X.shape[0]}:{X_test.shape[0]/X.shape[0]}')\n",
    "    print('----------')\n",
    "    print(f'Метрика лучшей модели на на кросс-валидации:{(abs(rs.best_score_)**0.5):.3f}')\n",
    "    print('----------')\n",
    "    rmse_train = (mean_squared_error(y_train, rs.predict(X_train)))**0.5\n",
    "    print(f'Значение RMSE  на обучающей выборке: {rmse_train:.3f}')\n",
    "    rmse_test = (mean_squared_error(y_test, rs.predict(X_test)))**0.5\n",
    "    print(f'Значение RMSE  на тестовой выборке: {rmse_test:.3f}')\n",
    "    print('----------')\n",
    "    print(f'Средний запас фактического сырья по валидационной выборке = {y_test.mean():.2f} тыс. баррелей')\n",
    "    print(f'Средний запас предсказанного сырья по валидационной выборке = {rs.predict(X_test).mean():.2f} тыс. баррелей')\n",
    "    print(f'Разница = {(1-y_test.mean().mean()/rs.predict(X_test).mean()):.2%}')    "
   ]
  },
  {
   "cell_type": "markdown",
   "metadata": {},
   "source": [
    "**Вывод по главе 2**\n",
    "\n",
    "В ходе обучения и проверки модели были выполнены следующие шаги:\n",
    "- Данные были разделены на обучающую и валидационную выборки в соотношении 75% к 25%.\n",
    "- Модель была обучена, после чего были сделаны прогнозы на валидационной выборке.\n",
    "- Предсказания и правильные ответы для валидационной выборки были сохранены в `targets`.\n",
    "- Был рассчитан средний запас предсказанного сырья на валидационной выборке.\n",
    "- Определено значение RMSE для модели.\n",
    "\n",
    "Анализ результатов показал следующее:\n",
    "RMSE (корень из среднеквадратичной ошибки) для данных `geo_predict_1` составляет 0,890, а для `geo_predict_0` и `geo_predict_2` — 37,757 и 40,146 соответственно. Это указывает на значительный разброс данных и отсутствие прямой связи между входными параметрами и целевым показателем, что подтверждается ранее проведённым корреляционным анализом. Следовательно, предсказанные значения не отражают реальные запасы сырья с высокой точностью."
   ]
  },
  {
   "cell_type": "markdown",
   "metadata": {},
   "source": [
    "## Подготовка к расчёту прибыли"
   ]
  },
  {
   "cell_type": "markdown",
   "metadata": {},
   "source": [
    "Для расчета прибыли сохраним ключевые значения для расчетов в отдельные переменные, где:\n",
    "- `POINTS` - количество скважин, которое исследуют при разведке региона;\n",
    "- `BEST_POINTS` - количество лучших скважин, которые нужно выбрать для разработки в каждом регионе с помощью машинного обучения;\n",
    "- `BUDGET` - бюджет (расходы) на разработку скважин в регионе (тыс. рублей), заложенный на 200 скважин;\n",
    "- `BARREL_PRICE` - доход с каждой единицы продукта (тыс. рублей на 1 тыс. баррелей);\n",
    "- `LIMIT` - предел вероятности убытков меньше"
   ]
  },
  {
   "cell_type": "code",
   "execution_count": 121,
   "metadata": {},
   "outputs": [],
   "source": [
    "POINTS = 500 \n",
    "BEST_POINTS = 200 \n",
    "BUDGET = 10e9\n",
    "BARREL_PRICE = 450_000\n",
    "LIMIT = 0.025"
   ]
  },
  {
   "cell_type": "markdown",
   "metadata": {},
   "source": [
    "Теперь мы можем определить необходимый объём сырья, который обеспечит безубыточную эксплуатацию новой скважины."
   ]
  },
  {
   "cell_type": "code",
   "execution_count": 122,
   "metadata": {},
   "outputs": [
    {
     "name": "stdout",
     "output_type": "stream",
     "text": [
      "Достаточный объём сырья для безубыточной разработки = 111.11 тыс. баррелей.\n",
      "\n",
      "Средний запас в geo_predict_0 регионе = 92.50 тыс. баррелей.\n",
      "Количество скважин c объёмом больше 111.11 тыс. баррелей по исходным данным = 36583 или 36.58%\n",
      "Количество скважин c объёмом больше 111.11 тыс. баррелей по предсказанным данным = 21471 или 21.47%\n",
      "Количество скважин c объёмом больше 111.11 тыс. баррелей по верификационным данным = 5258 или 21.03%\n",
      "\n",
      "Средний запас в geo_predict_1 регионе = 68.83 тыс. баррелей.\n",
      "Количество скважин c объёмом больше 111.11 тыс. баррелей по исходным данным = 16537 или 16.54%\n",
      "Количество скважин c объёмом больше 111.11 тыс. баррелей по предсказанным данным = 18185 или 18.19%\n",
      "Количество скважин c объёмом больше 111.11 тыс. баррелей по верификационным данным = 4520 или 18.08%\n",
      "\n",
      "Средний запас в geo_predict_2 регионе = 95.00 тыс. баррелей.\n",
      "Количество скважин c объёмом больше 111.11 тыс. баррелей по исходным данным = 38178 или 38.18%\n",
      "Количество скважин c объёмом больше 111.11 тыс. баррелей по предсказанным данным = 21051 или 21.05%\n",
      "Количество скважин c объёмом больше 111.11 тыс. баррелей по верификационным данным = 5239 или 20.96%\n"
     ]
    }
   ],
   "source": [
    "names = [\"geo_predict_0\", \"geo_predict_1\", \"geo_predict_2\"]\n",
    "data = [geo_data_0, geo_data_1, geo_data_2]\n",
    "\n",
    "break_even = BUDGET / (BARREL_PRICE * BEST_POINTS)\n",
    "print(f'Достаточный объём сырья для безубыточной разработки = {break_even:.2f} тыс. баррелей.')\n",
    "\n",
    "for name, data in zip(names, data):\n",
    "    print()\n",
    "    print(f'Средний запас в {name} регионе = {data[\"product\"].mean():.2f} тыс. баррелей.')\n",
    "    \n",
    "    print(f'Количество скважин c объёмом больше {break_even:.2f} тыс. баррелей по исходным данным = \\\n",
    "{len(targets_1[name].query(\"product > @break_even\"))} или \\\n",
    "{len(targets_1[name].query(\"product > @break_even\")) / len(targets_1[name]):.2%}')\n",
    "\n",
    "    print(f'Количество скважин c объёмом больше {break_even:.2f} тыс. баррелей по предсказанным данным = \\\n",
    "{len(targets_1[name].query(\"predict > @break_even\"))} или \\\n",
    "{len(targets_1[name].query(\"predict > @break_even\")) / len(targets_1[name]):.2%}')\n",
    "    \n",
    "    print(f'Количество скважин c объёмом больше {break_even:.2f} тыс. баррелей по верификационным данным = \\\n",
    "{len(targets[name].query(\"predict > @break_even\"))} или \\\n",
    "{len(targets[name].query(\"predict > @break_even\")) / len(targets[name]):.2%}')\n"
   ]
  },
  {
   "cell_type": "markdown",
   "metadata": {},
   "source": [
    "**Вывод по главе 3**\n",
    "\n",
    "- Все необходимые для вычислений данные были сохранены в отдельных переменных.\n",
    "- Чтобы разработка скважины была безубыточной, объём сырья должен составлять 111,11 тыс. баррелей. Это существенно больше средних запасов по всем регионам, что может привести к финансовым потерям при ошибочном выборе скважин для разработки."
   ]
  },
  {
   "cell_type": "markdown",
   "metadata": {},
   "source": [
    "## Расчёт прибыли и рисков "
   ]
  },
  {
   "cell_type": "markdown",
   "metadata": {},
   "source": [
    "Функция, предназначенная для вычисления прибыли на основе выбранных скважин и прогнозов модели, должна выполнять следующие действия:\n",
    "- выбирать скважины с наибольшими прогнозируемыми значениями;\n",
    "- суммировать целевые объёмы сырья, соответствующие выбранным прогнозам;\n",
    "- рассчитывать прибыль на основе полученного суммарного объёма сырья."
   ]
  },
  {
   "cell_type": "markdown",
   "metadata": {},
   "source": [
    "### Подготовим функцию расчёта прибыли"
   ]
  },
  {
   "cell_type": "code",
   "execution_count": 131,
   "metadata": {},
   "outputs": [],
   "source": [
    "def f_profit(product_sample, predict_sample, count):\n",
    "    # Сбрасываем индексы для обоих сэмплов\n",
    "    product_sample.reset_index(drop=True, inplace=True)\n",
    "    predict_sample.reset_index(drop=True, inplace=True)\n",
    "    \n",
    "    # Удаляем дубликаты индексов (теперь они гарантированно уникальны)\n",
    "    predict_sample = predict_sample[~predict_sample.index.duplicated()]\n",
    "    \n",
    "    # Сортируем предсказания и выбираем топ-N\n",
    "    predictions_sorted = predict_sample.sort_values(ascending=False)[:count] #предсказанные запасы нефти\n",
    "    \n",
    "    # Выбираем соответствующие скважины и считаем прибыль\n",
    "    selected = product_sample[predictions_sorted.index]\n",
    "    \n",
    "    # КОД РЕВЬЮЕРА\n",
    "    if selected.shape[0] != 200:\n",
    "        print(f\"Не исправлено, взято таргетов {selected.shape[0]}\")\n",
    "\n",
    "    return selected.sum() * BARREL_PRICE - BUDGET"
   ]
  },
  {
   "cell_type": "markdown",
   "metadata": {},
   "source": [
    "Функция расчета прибыли подготовлена:\n",
    "- Прогнозный семплированный объем, отсортирован и срезан по  ограничению количества скважин;\n",
    "- Отобраны разведанные объемы по  предыдущему срезу;\n",
    "- Суммарный объем скважин умножен на стоимость барреля за вычетом вложенного бюджета.\n",
    "\n",
    "Перейдем к подсчету рисков"
   ]
  },
  {
   "cell_type": "markdown",
   "metadata": {},
   "source": [
    "### Посчитаем риски и прибыль для каждого региона"
   ]
  },
  {
   "cell_type": "code",
   "execution_count": 132,
   "metadata": {},
   "outputs": [
    {
     "name": "stdout",
     "output_type": "stream",
     "text": [
      "----------\n",
      "Для региона: geo_predict_0 риск 6.70% > 2.50% \n",
      "----------\n"
     ]
    },
    {
     "data": {
      "image/png": "[encoded data removed]",
      "text/plain": [
       "<Figure size 1152x360 with 1 Axes>"
      ]
     },
     "metadata": {
      "needs_background": "light"
     },
     "output_type": "display_data"
    },
    {
     "name": "stdout",
     "output_type": "stream",
     "text": [
      "\n",
      "Для geo_predict_1 региона:\n",
      "Средняя валовая прибыль с 200 лучших скважин, отобраных по предсказанию = 442 млн. рублей.\n",
      "Доверительный интервал лежит между 36 - 828 млн. рублей.\n",
      "Риск убытков составляет = 1.60%\n",
      "----------\n",
      "Для региона: geo_predict_2 риск 7.80% > 2.50% \n",
      "----------\n"
     ]
    }
   ],
   "source": [
    "STATE = np.random.RandomState(12345)\n",
    "\n",
    "for name in names:\n",
    "    values = []\n",
    "    for i in range(1000):\n",
    "        product_sample = targets[name]['product'].sample(POINTS, replace=True, random_state=STATE)\n",
    "        predict_sample = targets[name]['predict'][product_sample.index]\n",
    "        if product_sample is not None and predict_sample is not None:\n",
    "            values.append(f_profit(product_sample, predict_sample, BEST_POINTS))\n",
    "        \n",
    "    values = pd.Series(values)\n",
    "     \n",
    "    mean = values.mean() / 1_000_000\n",
    "    lower = values.quantile(0.025) / 1_000_000\n",
    "    upper = values.quantile(0.975) / 1_000_000\n",
    "    \n",
    "    risk = values.apply(lambda x: x < 0).sum() / len(values)\n",
    "    if risk > LIMIT:\n",
    "        print('----------')\n",
    "        print(f'Для региона: {name} риск {risk:.2%} > {LIMIT:.2%} ')\n",
    "        print('----------')\n",
    "        continue\n",
    "    \n",
    "    # визуализируем\n",
    "    values.hist(figsize=(16, 5), bins=50)\n",
    "    plt.grid(True)\n",
    "    plt.axvline(values.quantile(0.025), color='violet')\n",
    "    plt.axvline(values.quantile(0.975), color='gold')\n",
    "    plt.legend(['Нижняя граница 95%-го доверительного интервала', \n",
    "                'Верхняя граница 95%-го доверительного интервала', f'Распределение прибыли для региона {name}'])\n",
    "    plt.xlabel('Прибыль, млр.руб.')\n",
    "    plt.ylabel('Количество скважин из 200')\n",
    "    plt.title(f'Распределение прибыли для региона {name}')\n",
    "    plt.show()\n",
    "\n",
    "    print()\n",
    "    print(f'Для {name} региона:')\n",
    "    print(f'Средняя валовая прибыль с 200 лучших скважин, отобраных по предсказанию = {mean:.0f} млн. рублей.')\n",
    "    print(f'Доверительный интервал лежит между {lower:.0f} - {upper:.0f} млн. рублей.')\n",
    "    print(f'Риск убытков составляет = {risk:.2%}')"
   ]
  },
  {
   "cell_type": "markdown",
   "metadata": {},
   "source": [
    "**Вывод по главе 5**\n",
    "\n",
    "Для анализа распределения прибыли использовали метод Bootstrap, проведя 1000 итераций со случайным выбором 500 скважин в каждом регионе на основе предсказанных данных. Из отобранных скважин выбирали 200 с наибольшим запасом и рассчитывали распределение прибыли.\n",
    "\n",
    "Также вычислили среднюю прибыль по регионам при случайном отборе 500 скважин и определили риск возникновения убытков при таком подходе. Для каждого региона рассчитали 95%-й доверительный интервал при случайном выборе 500 скважин.\n",
    "\n",
    "Затем отобрали регионы, где риск убытков был меньше 2,5%, и построили гистограмму распределения прибыли для одного из них при случайном отборе 500 скважин.\n",
    "\n",
    "После оценки рисков наиболее перспективным регионом для разработки оказался `geo_predict_1`. В этом регионе вероятность убытков составляет менее 2,5%, средняя прибыль — 442 млн рублей, доверительный интервал — от 36 до 828 млн рублей, а риск возникновения убытков — всего 1,60%"
   ]
  },
  {
   "cell_type": "markdown",
   "metadata": {},
   "source": [
    "## Общий вывод по работе"
   ]
  },
  {
   "cell_type": "markdown",
   "metadata": {},
   "source": [
    "На основании проведённого анализа рекомендуется выбрать для разработки регион с данными `geo_predict_1`. Риск возникновения убытков в этом регионе составляет всего 0,60% при случайном выборе 500 скважин и отборе из них 200 лучших, что значительно ниже допустимого уровня в 2,5%. Средняя прибыль по региону оценивается в 516 млн рублей при 95% доверительном интервале от 89 до 928 млн рублей. Для минимизации рисков и повышения прибыли предлагается отбирать для разработки скважины с разведанным запасом нефти более 111,11 тыс. баррелей."
   ]
  },
  {
   "cell_type": "markdown",
   "metadata": {},
   "source": [
    "## Чек-лист готовности проекта"
   ]
  },
  {
   "cell_type": "markdown",
   "metadata": {},
   "source": [
    "Поставьте 'x' в выполненных пунктах. Далее нажмите Shift+Enter."
   ]
  },
  {
   "cell_type": "markdown",
   "metadata": {},
   "source": [
    "- [x]  Jupyter Notebook открыт\n",
    "- [x]  Весь код выполняется без ошибок\n",
    "- [x]  Ячейки с кодом расположены в порядке исполнения\n",
    "- [x]  Выполнен шаг 1: данные подготовлены\n",
    "- [x]  Выполнен шаг 2: модели обучены и проверены\n",
    "    - [x]  Данные корректно разбиты на обучающую и валидационную выборки\n",
    "    - [x]  Модели обучены, предсказания сделаны\n",
    "    - [x]  Предсказания и правильные ответы на валидационной выборке сохранены\n",
    "    - [x]  На экране напечатаны результаты\n",
    "    - [x]  Сделаны выводы\n",
    "- [x]  Выполнен шаг 3: проведена подготовка к расчёту прибыли\n",
    "    - [x]  Для всех ключевых значений созданы константы Python\n",
    "    - [x]  Посчитано минимальное среднее количество продукта в месторождениях региона, достаточное для разработки\n",
    "    - [x]  По предыдущему пункту сделаны выводы\n",
    "    - [x]  Написана функция расчёта прибыли\n",
    "- [x]  Выполнен шаг 4: посчитаны риски и прибыль\n",
    "    - [x]  Проведена процедура *Bootstrap*\n",
    "    - [x]  Все параметры бутстрепа соответствуют условию\n",
    "    - [x]  Найдены все нужные величины\n",
    "    - [x]  Предложен регион для разработки месторождения\n",
    "    - [x]  Выбор региона обоснован"
   ]
  },
  {
   "cell_type": "code",
   "execution_count": null,
   "metadata": {},
   "outputs": [],
   "source": []
  }
 ],
 "metadata": {
  "ExecuteTimeLog": [
   {
    "duration": 12,
    "start_time": "2025-03-28T16:34:30.916Z"
   },
   {
    "duration": 3257,
    "start_time": "2025-06-06T08:08:05.167Z"
   },
   {
    "duration": 1421,
    "start_time": "2025-06-06T08:11:29.009Z"
   },
   {
    "duration": 86,
    "start_time": "2025-06-06T08:11:35.049Z"
   },
   {
    "duration": 160,
    "start_time": "2025-06-06T08:11:58.465Z"
   },
   {
    "duration": 137,
    "start_time": "2025-06-06T08:12:02.705Z"
   },
   {
    "duration": 154,
    "start_time": "2025-06-06T08:12:49.225Z"
   },
   {
    "duration": 157,
    "start_time": "2025-06-06T08:13:17.061Z"
   },
   {
    "duration": 142,
    "start_time": "2025-06-06T08:48:08.203Z"
   },
   {
    "duration": 152,
    "start_time": "2025-06-06T08:48:26.186Z"
   },
   {
    "duration": 147,
    "start_time": "2025-06-06T08:48:31.602Z"
   },
   {
    "duration": 16,
    "start_time": "2025-06-06T08:48:36.859Z"
   },
   {
    "duration": 16,
    "start_time": "2025-06-06T08:48:45.113Z"
   },
   {
    "duration": 16,
    "start_time": "2025-06-06T08:48:53.328Z"
   },
   {
    "duration": 2359,
    "start_time": "2025-06-06T11:00:50.955Z"
   },
   {
    "duration": 3,
    "start_time": "2025-06-06T11:00:53.317Z"
   },
   {
    "duration": 3117,
    "start_time": "2025-06-14T05:17:56.767Z"
   },
   {
    "duration": 1709,
    "start_time": "2025-06-14T05:18:01.765Z"
   },
   {
    "duration": 36,
    "start_time": "2025-06-14T05:19:58.295Z"
   },
   {
    "duration": 163,
    "start_time": "2025-06-14T05:20:10.295Z"
   },
   {
    "duration": 15,
    "start_time": "2025-06-14T05:20:14.711Z"
   },
   {
    "duration": 152,
    "start_time": "2025-06-14T05:20:21.567Z"
   },
   {
    "duration": 14,
    "start_time": "2025-06-14T05:20:27.599Z"
   },
   {
    "duration": 62,
    "start_time": "2025-06-14T05:22:48.087Z"
   },
   {
    "duration": 149,
    "start_time": "2025-06-14T05:24:53.281Z"
   },
   {
    "duration": 15,
    "start_time": "2025-06-14T05:24:56.016Z"
   },
   {
    "duration": 61,
    "start_time": "2025-06-14T05:25:15.433Z"
   },
   {
    "duration": 142,
    "start_time": "2025-06-14T05:25:18.688Z"
   },
   {
    "duration": 59,
    "start_time": "2025-06-14T05:25:23.656Z"
   },
   {
    "duration": 71,
    "start_time": "2025-06-14T05:28:30.755Z"
   },
   {
    "duration": 21,
    "start_time": "2025-06-14T05:29:00.339Z"
   },
   {
    "duration": 7,
    "start_time": "2025-06-14T05:33:24.357Z"
   },
   {
    "duration": 4,
    "start_time": "2025-06-14T05:34:25.838Z"
   },
   {
    "duration": 182,
    "start_time": "2025-06-14T05:38:05.112Z"
   },
   {
    "duration": 2344,
    "start_time": "2025-06-14T05:38:11.689Z"
   },
   {
    "duration": 4,
    "start_time": "2025-06-14T05:38:14.036Z"
   },
   {
    "duration": 159,
    "start_time": "2025-06-14T05:38:14.042Z"
   },
   {
    "duration": 139,
    "start_time": "2025-06-14T05:38:14.203Z"
   },
   {
    "duration": 141,
    "start_time": "2025-06-14T05:38:14.344Z"
   },
   {
    "duration": 71,
    "start_time": "2025-06-14T05:38:14.487Z"
   },
   {
    "duration": 158,
    "start_time": "2025-06-14T05:38:14.560Z"
   },
   {
    "duration": 313,
    "start_time": "2025-06-14T05:39:34.201Z"
   },
   {
    "duration": 10,
    "start_time": "2025-06-14T05:40:15.980Z"
   },
   {
    "duration": 38,
    "start_time": "2025-06-14T05:42:02.691Z"
   },
   {
    "duration": 37,
    "start_time": "2025-06-14T05:42:15.771Z"
   },
   {
    "duration": 35,
    "start_time": "2025-06-14T05:42:50.923Z"
   },
   {
    "duration": 5,
    "start_time": "2025-06-14T05:47:55.750Z"
   },
   {
    "duration": 32,
    "start_time": "2025-06-14T05:49:14.983Z"
   },
   {
    "duration": 3509,
    "start_time": "2025-06-14T12:51:59.987Z"
   },
   {
    "duration": 1723,
    "start_time": "2025-06-14T12:52:06.419Z"
   },
   {
    "duration": 180,
    "start_time": "2025-06-14T12:52:09.038Z"
   },
   {
    "duration": 166,
    "start_time": "2025-06-14T12:52:12.156Z"
   },
   {
    "duration": 198,
    "start_time": "2025-06-14T12:52:14.677Z"
   },
   {
    "duration": 117,
    "start_time": "2025-06-14T12:52:18.011Z"
   },
   {
    "duration": 169,
    "start_time": "2025-06-14T12:52:21.730Z"
   },
   {
    "duration": 39,
    "start_time": "2025-06-14T12:52:36.276Z"
   },
   {
    "duration": 35,
    "start_time": "2025-06-14T12:52:38.374Z"
   },
   {
    "duration": 37,
    "start_time": "2025-06-14T12:52:40.542Z"
   },
   {
    "duration": 128,
    "start_time": "2025-06-14T12:52:58.038Z"
   },
   {
    "duration": 7,
    "start_time": "2025-06-14T12:53:03.500Z"
   },
   {
    "duration": 998,
    "start_time": "2025-06-14T12:53:05.790Z"
   },
   {
    "duration": 847,
    "start_time": "2025-06-14T12:53:21.639Z"
   },
   {
    "duration": 1012,
    "start_time": "2025-06-14T12:53:30.778Z"
   },
   {
    "duration": 6,
    "start_time": "2025-06-14T12:53:40.336Z"
   },
   {
    "duration": 464,
    "start_time": "2025-06-14T12:53:48.118Z"
   },
   {
    "duration": 914,
    "start_time": "2025-06-14T12:53:57.885Z"
   },
   {
    "duration": 962,
    "start_time": "2025-06-14T12:54:05.198Z"
   },
   {
    "duration": 862,
    "start_time": "2025-06-14T12:54:15.308Z"
   },
   {
    "duration": 463,
    "start_time": "2025-06-14T12:54:24.711Z"
   },
   {
    "duration": 479,
    "start_time": "2025-06-14T12:54:32.328Z"
   },
   {
    "duration": 226,
    "start_time": "2025-06-14T12:54:40.379Z"
   },
   {
    "duration": 325,
    "start_time": "2025-06-14T12:54:48.846Z"
   },
   {
    "duration": 460,
    "start_time": "2025-06-14T12:54:57.968Z"
   },
   {
    "duration": 271,
    "start_time": "2025-06-14T12:55:05.179Z"
   },
   {
    "duration": 377,
    "start_time": "2025-06-14T12:55:15.291Z"
   },
   {
    "duration": 347,
    "start_time": "2025-06-14T12:55:21.748Z"
   },
   {
    "duration": 633,
    "start_time": "2025-06-14T12:55:30.737Z"
   },
   {
    "duration": 3,
    "start_time": "2025-06-14T12:56:08.178Z"
   },
   {
    "duration": 713,
    "start_time": "2025-06-14T12:56:17.376Z"
   },
   {
    "duration": 654,
    "start_time": "2025-06-14T12:57:45.226Z"
   },
   {
    "duration": 643,
    "start_time": "2025-06-14T12:57:53.713Z"
   },
   {
    "duration": 13258,
    "start_time": "2025-06-14T12:58:08.256Z"
   },
   {
    "duration": 3,
    "start_time": "2025-06-14T13:14:14.769Z"
   },
   {
    "duration": 63,
    "start_time": "2025-06-14T13:14:29.080Z"
   },
   {
    "duration": 3,
    "start_time": "2025-06-14T13:14:44.870Z"
   },
   {
    "duration": 4371,
    "start_time": "2025-06-14T13:15:33.360Z"
   },
   {
    "duration": 76,
    "start_time": "2025-06-14T13:15:58.413Z"
   },
   {
    "duration": 3,
    "start_time": "2025-06-14T13:16:08.787Z"
   },
   {
    "duration": 3500,
    "start_time": "2025-06-16T05:22:38.279Z"
   },
   {
    "duration": 1590,
    "start_time": "2025-06-16T05:22:41.781Z"
   },
   {
    "duration": 164,
    "start_time": "2025-06-16T05:22:43.372Z"
   },
   {
    "duration": 139,
    "start_time": "2025-06-16T05:22:43.538Z"
   },
   {
    "duration": 141,
    "start_time": "2025-06-16T05:22:43.679Z"
   },
   {
    "duration": 179,
    "start_time": "2025-06-16T05:22:43.822Z"
   },
   {
    "duration": 20,
    "start_time": "2025-06-16T05:22:44.003Z"
   },
   {
    "duration": 53,
    "start_time": "2025-06-16T05:22:44.024Z"
   },
   {
    "duration": 34,
    "start_time": "2025-06-16T05:22:44.079Z"
   },
   {
    "duration": 47,
    "start_time": "2025-06-16T05:22:44.116Z"
   },
   {
    "duration": 4,
    "start_time": "2025-06-16T05:22:44.164Z"
   },
   {
    "duration": 901,
    "start_time": "2025-06-16T05:22:44.170Z"
   },
   {
    "duration": 797,
    "start_time": "2025-06-16T05:22:45.073Z"
   },
   {
    "duration": 948,
    "start_time": "2025-06-16T05:22:45.872Z"
   },
   {
    "duration": 4,
    "start_time": "2025-06-16T05:22:46.822Z"
   },
   {
    "duration": 442,
    "start_time": "2025-06-16T05:22:46.828Z"
   },
   {
    "duration": 885,
    "start_time": "2025-06-16T05:22:47.272Z"
   },
   {
    "duration": 882,
    "start_time": "2025-06-16T05:22:48.159Z"
   },
   {
    "duration": 787,
    "start_time": "2025-06-16T05:22:49.043Z"
   },
   {
    "duration": 456,
    "start_time": "2025-06-16T05:22:49.832Z"
   },
   {
    "duration": 451,
    "start_time": "2025-06-16T05:22:50.290Z"
   },
   {
    "duration": 230,
    "start_time": "2025-06-16T05:22:50.743Z"
   },
   {
    "duration": 319,
    "start_time": "2025-06-16T05:22:50.975Z"
   },
   {
    "duration": 474,
    "start_time": "2025-06-16T05:22:51.295Z"
   },
   {
    "duration": 269,
    "start_time": "2025-06-16T05:22:51.770Z"
   },
   {
    "duration": 390,
    "start_time": "2025-06-16T05:22:52.041Z"
   },
   {
    "duration": 342,
    "start_time": "2025-06-16T05:22:52.434Z"
   },
   {
    "duration": 616,
    "start_time": "2025-06-16T05:22:52.779Z"
   },
   {
    "duration": 2,
    "start_time": "2025-06-16T05:22:53.397Z"
   },
   {
    "duration": 0,
    "start_time": "2025-06-16T05:30:03.495Z"
   },
   {
    "duration": 5,
    "start_time": "2025-06-16T05:30:16.917Z"
   },
   {
    "duration": 10,
    "start_time": "2025-06-16T05:30:31.253Z"
   },
   {
    "duration": 168,
    "start_time": "2025-06-16T05:30:37.757Z"
   },
   {
    "duration": 153,
    "start_time": "2025-06-16T05:30:50.769Z"
   },
   {
    "duration": 159,
    "start_time": "2025-06-16T05:31:02.829Z"
   },
   {
    "duration": 120,
    "start_time": "2025-06-16T05:31:06.286Z"
   },
   {
    "duration": 139,
    "start_time": "2025-06-16T05:31:09.884Z"
   },
   {
    "duration": 2411,
    "start_time": "2025-06-16T05:31:20.560Z"
   },
   {
    "duration": 6,
    "start_time": "2025-06-16T05:31:22.973Z"
   },
   {
    "duration": 190,
    "start_time": "2025-06-16T05:31:22.980Z"
   },
   {
    "duration": 152,
    "start_time": "2025-06-16T05:31:23.172Z"
   },
   {
    "duration": 151,
    "start_time": "2025-06-16T05:31:23.326Z"
   },
   {
    "duration": 119,
    "start_time": "2025-06-16T05:31:23.479Z"
   },
   {
    "duration": 140,
    "start_time": "2025-06-16T05:31:23.600Z"
   },
   {
    "duration": 44,
    "start_time": "2025-06-16T05:31:23.741Z"
   },
   {
    "duration": 34,
    "start_time": "2025-06-16T05:31:23.786Z"
   },
   {
    "duration": 51,
    "start_time": "2025-06-16T05:31:23.822Z"
   },
   {
    "duration": 4,
    "start_time": "2025-06-16T05:31:23.875Z"
   },
   {
    "duration": 802,
    "start_time": "2025-06-16T05:31:23.881Z"
   },
   {
    "duration": 798,
    "start_time": "2025-06-16T05:31:24.684Z"
   },
   {
    "duration": 989,
    "start_time": "2025-06-16T05:31:25.484Z"
   },
   {
    "duration": 5,
    "start_time": "2025-06-16T05:31:26.475Z"
   },
   {
    "duration": 447,
    "start_time": "2025-06-16T05:31:26.482Z"
   },
   {
    "duration": 755,
    "start_time": "2025-06-16T05:31:26.931Z"
   },
   {
    "duration": 940,
    "start_time": "2025-06-16T05:31:27.688Z"
   },
   {
    "duration": 893,
    "start_time": "2025-06-16T05:31:28.630Z"
   },
   {
    "duration": 433,
    "start_time": "2025-06-16T05:31:29.525Z"
   },
   {
    "duration": 325,
    "start_time": "2025-06-16T05:31:29.960Z"
   },
   {
    "duration": 225,
    "start_time": "2025-06-16T05:31:30.287Z"
   },
   {
    "duration": 320,
    "start_time": "2025-06-16T05:31:30.514Z"
   },
   {
    "duration": 589,
    "start_time": "2025-06-16T05:31:30.836Z"
   },
   {
    "duration": 313,
    "start_time": "2025-06-16T05:31:31.427Z"
   },
   {
    "duration": 289,
    "start_time": "2025-06-16T05:31:31.742Z"
   },
   {
    "duration": 333,
    "start_time": "2025-06-16T05:31:32.033Z"
   },
   {
    "duration": 736,
    "start_time": "2025-06-16T05:31:32.370Z"
   },
   {
    "duration": 3,
    "start_time": "2025-06-16T05:31:33.107Z"
   },
   {
    "duration": 714,
    "start_time": "2025-06-16T05:31:33.112Z"
   },
   {
    "duration": 625,
    "start_time": "2025-06-16T05:31:33.828Z"
   },
   {
    "duration": 622,
    "start_time": "2025-06-16T05:31:34.455Z"
   },
   {
    "duration": 13380,
    "start_time": "2025-06-16T05:31:35.079Z"
   },
   {
    "duration": 4,
    "start_time": "2025-06-16T05:31:48.462Z"
   },
   {
    "duration": 152,
    "start_time": "2025-06-16T05:31:48.468Z"
   },
   {
    "duration": 3,
    "start_time": "2025-06-16T05:31:48.622Z"
   },
   {
    "duration": 4310,
    "start_time": "2025-06-16T05:31:48.627Z"
   },
   {
    "duration": 3,
    "start_time": "2025-06-16T05:31:52.939Z"
   },
   {
    "duration": 3,
    "start_time": "2025-06-16T05:54:09.420Z"
   },
   {
    "duration": 13320,
    "start_time": "2025-06-16T06:00:42.442Z"
   },
   {
    "duration": 3,
    "start_time": "2025-06-16T06:02:38.073Z"
   },
   {
    "duration": 2449,
    "start_time": "2025-06-16T06:02:55.093Z"
   },
   {
    "duration": 6,
    "start_time": "2025-06-16T06:02:57.545Z"
   },
   {
    "duration": 181,
    "start_time": "2025-06-16T06:02:57.552Z"
   },
   {
    "duration": 158,
    "start_time": "2025-06-16T06:02:57.735Z"
   },
   {
    "duration": 155,
    "start_time": "2025-06-16T06:02:57.895Z"
   },
   {
    "duration": 133,
    "start_time": "2025-06-16T06:02:58.052Z"
   },
   {
    "duration": 179,
    "start_time": "2025-06-16T06:02:58.187Z"
   },
   {
    "duration": 38,
    "start_time": "2025-06-16T06:02:58.368Z"
   },
   {
    "duration": 51,
    "start_time": "2025-06-16T06:02:58.408Z"
   },
   {
    "duration": 36,
    "start_time": "2025-06-16T06:02:58.462Z"
   },
   {
    "duration": 5,
    "start_time": "2025-06-16T06:02:58.500Z"
   },
   {
    "duration": 945,
    "start_time": "2025-06-16T06:02:58.506Z"
   },
   {
    "duration": 907,
    "start_time": "2025-06-16T06:02:59.457Z"
   },
   {
    "duration": 819,
    "start_time": "2025-06-16T06:03:00.366Z"
   },
   {
    "duration": 5,
    "start_time": "2025-06-16T06:03:01.186Z"
   },
   {
    "duration": 515,
    "start_time": "2025-06-16T06:03:01.193Z"
   },
   {
    "duration": 988,
    "start_time": "2025-06-16T06:03:01.710Z"
   },
   {
    "duration": 896,
    "start_time": "2025-06-16T06:03:02.700Z"
   },
   {
    "duration": 799,
    "start_time": "2025-06-16T06:03:03.598Z"
   },
   {
    "duration": 593,
    "start_time": "2025-06-16T06:03:04.398Z"
   },
   {
    "duration": 353,
    "start_time": "2025-06-16T06:03:04.993Z"
   },
   {
    "duration": 225,
    "start_time": "2025-06-16T06:03:05.348Z"
   },
   {
    "duration": 330,
    "start_time": "2025-06-16T06:03:05.574Z"
   },
   {
    "duration": 462,
    "start_time": "2025-06-16T06:03:05.906Z"
   },
   {
    "duration": 423,
    "start_time": "2025-06-16T06:03:06.370Z"
   },
   {
    "duration": 292,
    "start_time": "2025-06-16T06:03:06.794Z"
   },
   {
    "duration": 361,
    "start_time": "2025-06-16T06:03:07.088Z"
   },
   {
    "duration": 627,
    "start_time": "2025-06-16T06:03:07.453Z"
   },
   {
    "duration": 3,
    "start_time": "2025-06-16T06:03:08.081Z"
   },
   {
    "duration": 744,
    "start_time": "2025-06-16T06:03:08.085Z"
   },
   {
    "duration": 745,
    "start_time": "2025-06-16T06:03:08.830Z"
   },
   {
    "duration": 612,
    "start_time": "2025-06-16T06:03:09.576Z"
   },
   {
    "duration": 13377,
    "start_time": "2025-06-16T06:03:10.190Z"
   },
   {
    "duration": 4,
    "start_time": "2025-06-16T06:03:23.660Z"
   },
   {
    "duration": 156,
    "start_time": "2025-06-16T06:03:23.669Z"
   },
   {
    "duration": 3,
    "start_time": "2025-06-16T06:03:23.827Z"
   },
   {
    "duration": 4396,
    "start_time": "2025-06-16T06:03:23.831Z"
   },
   {
    "duration": 2417,
    "start_time": "2025-06-16T09:14:59.470Z"
   },
   {
    "duration": 1225,
    "start_time": "2025-06-16T09:15:01.889Z"
   },
   {
    "duration": 154,
    "start_time": "2025-06-16T09:15:03.116Z"
   },
   {
    "duration": 143,
    "start_time": "2025-06-16T09:15:03.272Z"
   },
   {
    "duration": 148,
    "start_time": "2025-06-16T09:15:03.418Z"
   },
   {
    "duration": 111,
    "start_time": "2025-06-16T09:15:03.567Z"
   },
   {
    "duration": 138,
    "start_time": "2025-06-16T09:15:03.680Z"
   },
   {
    "duration": 41,
    "start_time": "2025-06-16T09:15:03.820Z"
   },
   {
    "duration": 83,
    "start_time": "2025-06-16T09:15:03.863Z"
   },
   {
    "duration": 172,
    "start_time": "2025-06-16T09:15:03.948Z"
   },
   {
    "duration": 13,
    "start_time": "2025-06-16T09:15:04.122Z"
   },
   {
    "duration": 851,
    "start_time": "2025-06-16T09:15:04.137Z"
   },
   {
    "duration": 751,
    "start_time": "2025-06-16T09:15:04.990Z"
   },
   {
    "duration": 898,
    "start_time": "2025-06-16T09:15:05.745Z"
   },
   {
    "duration": 5,
    "start_time": "2025-06-16T09:15:06.645Z"
   },
   {
    "duration": 415,
    "start_time": "2025-06-16T09:15:06.652Z"
   },
   {
    "duration": 852,
    "start_time": "2025-06-16T09:15:07.068Z"
   },
   {
    "duration": 748,
    "start_time": "2025-06-16T09:15:07.921Z"
   },
   {
    "duration": 891,
    "start_time": "2025-06-16T09:15:08.671Z"
   },
   {
    "duration": 416,
    "start_time": "2025-06-16T09:15:09.563Z"
   },
   {
    "duration": 400,
    "start_time": "2025-06-16T09:15:09.980Z"
   },
   {
    "duration": 213,
    "start_time": "2025-06-16T09:15:10.382Z"
   },
   {
    "duration": 315,
    "start_time": "2025-06-16T09:15:10.597Z"
   },
   {
    "duration": 426,
    "start_time": "2025-06-16T09:15:10.914Z"
   },
   {
    "duration": 267,
    "start_time": "2025-06-16T09:15:11.342Z"
   },
   {
    "duration": 276,
    "start_time": "2025-06-16T09:15:11.610Z"
   },
   {
    "duration": 427,
    "start_time": "2025-06-16T09:15:11.888Z"
   },
   {
    "duration": 577,
    "start_time": "2025-06-16T09:15:12.317Z"
   },
   {
    "duration": 2,
    "start_time": "2025-06-16T09:15:12.896Z"
   },
   {
    "duration": 626,
    "start_time": "2025-06-16T09:15:12.900Z"
   },
   {
    "duration": 573,
    "start_time": "2025-06-16T09:15:13.527Z"
   },
   {
    "duration": 604,
    "start_time": "2025-06-16T09:15:14.102Z"
   },
   {
    "duration": 13634,
    "start_time": "2025-06-16T09:15:14.707Z"
   },
   {
    "duration": 4,
    "start_time": "2025-06-16T09:15:28.343Z"
   },
   {
    "duration": 249,
    "start_time": "2025-06-16T09:15:28.437Z"
   },
   {
    "duration": 3,
    "start_time": "2025-06-16T09:15:28.688Z"
   },
   {
    "duration": 5313,
    "start_time": "2025-06-16T09:15:28.693Z"
   },
   {
    "duration": 5,
    "start_time": "2025-06-16T09:16:22.124Z"
   },
   {
    "duration": 5103,
    "start_time": "2025-06-16T09:16:22.817Z"
   },
   {
    "duration": 11,
    "start_time": "2025-06-16T09:45:37.501Z"
   },
   {
    "duration": 3439,
    "start_time": "2025-06-16T10:25:33.354Z"
   },
   {
    "duration": 1878,
    "start_time": "2025-06-16T10:25:36.795Z"
   },
   {
    "duration": 179,
    "start_time": "2025-06-16T10:25:38.674Z"
   },
   {
    "duration": 191,
    "start_time": "2025-06-16T10:25:38.856Z"
   },
   {
    "duration": 171,
    "start_time": "2025-06-16T10:25:39.049Z"
   },
   {
    "duration": 132,
    "start_time": "2025-06-16T10:25:39.222Z"
   },
   {
    "duration": 157,
    "start_time": "2025-06-16T10:25:39.356Z"
   },
   {
    "duration": 44,
    "start_time": "2025-06-16T10:25:39.515Z"
   },
   {
    "duration": 34,
    "start_time": "2025-06-16T10:25:39.561Z"
   },
   {
    "duration": 51,
    "start_time": "2025-06-16T10:25:39.598Z"
   },
   {
    "duration": 5,
    "start_time": "2025-06-16T10:25:39.650Z"
   },
   {
    "duration": 936,
    "start_time": "2025-06-16T10:25:39.656Z"
   },
   {
    "duration": 817,
    "start_time": "2025-06-16T10:25:40.594Z"
   },
   {
    "duration": 977,
    "start_time": "2025-06-16T10:25:41.413Z"
   },
   {
    "duration": 5,
    "start_time": "2025-06-16T10:25:42.392Z"
   },
   {
    "duration": 504,
    "start_time": "2025-06-16T10:25:42.399Z"
   },
   {
    "duration": 959,
    "start_time": "2025-06-16T10:25:42.904Z"
   },
   {
    "duration": 941,
    "start_time": "2025-06-16T10:25:43.864Z"
   },
   {
    "duration": 825,
    "start_time": "2025-06-16T10:25:44.807Z"
   },
   {
    "duration": 470,
    "start_time": "2025-06-16T10:25:45.637Z"
   },
   {
    "duration": 504,
    "start_time": "2025-06-16T10:25:46.109Z"
   },
   {
    "duration": 241,
    "start_time": "2025-06-16T10:25:46.615Z"
   },
   {
    "duration": 336,
    "start_time": "2025-06-16T10:25:46.858Z"
   },
   {
    "duration": 473,
    "start_time": "2025-06-16T10:25:47.196Z"
   },
   {
    "duration": 292,
    "start_time": "2025-06-16T10:25:47.672Z"
   },
   {
    "duration": 419,
    "start_time": "2025-06-16T10:25:47.966Z"
   },
   {
    "duration": 412,
    "start_time": "2025-06-16T10:25:48.387Z"
   },
   {
    "duration": 676,
    "start_time": "2025-06-16T10:25:48.803Z"
   },
   {
    "duration": 3,
    "start_time": "2025-06-16T10:25:49.481Z"
   },
   {
    "duration": 746,
    "start_time": "2025-06-16T10:25:49.486Z"
   },
   {
    "duration": 642,
    "start_time": "2025-06-16T10:25:50.233Z"
   },
   {
    "duration": 644,
    "start_time": "2025-06-16T10:25:50.877Z"
   },
   {
    "duration": 13619,
    "start_time": "2025-06-16T10:25:51.523Z"
   },
   {
    "duration": 96,
    "start_time": "2025-06-16T10:26:05.144Z"
   },
   {
    "duration": 179,
    "start_time": "2025-06-16T10:26:05.243Z"
   },
   {
    "duration": 4,
    "start_time": "2025-06-16T10:26:05.425Z"
   },
   {
    "duration": 28,
    "start_time": "2025-06-16T10:26:05.430Z"
   },
   {
    "duration": 164,
    "start_time": "2025-06-16T10:26:05.460Z"
   },
   {
    "duration": 4,
    "start_time": "2025-06-16T10:58:57.170Z"
   },
   {
    "duration": 28,
    "start_time": "2025-06-16T10:59:00.929Z"
   },
   {
    "duration": 3,
    "start_time": "2025-06-16T10:59:44.634Z"
   },
   {
    "duration": 1516,
    "start_time": "2025-06-16T10:59:47.754Z"
   },
   {
    "duration": 3,
    "start_time": "2025-06-16T11:00:22.252Z"
   },
   {
    "duration": 1702,
    "start_time": "2025-06-16T11:00:24.843Z"
   },
   {
    "duration": 4,
    "start_time": "2025-06-16T11:02:04.976Z"
   },
   {
    "duration": 27,
    "start_time": "2025-06-16T11:02:24.765Z"
   },
   {
    "duration": 3,
    "start_time": "2025-06-16T11:03:13.861Z"
   },
   {
    "duration": 1581,
    "start_time": "2025-06-16T11:03:16.586Z"
   },
   {
    "duration": 2521,
    "start_time": "2025-06-16T11:03:25.850Z"
   },
   {
    "duration": 6,
    "start_time": "2025-06-16T11:03:28.373Z"
   },
   {
    "duration": 182,
    "start_time": "2025-06-16T11:03:28.381Z"
   },
   {
    "duration": 157,
    "start_time": "2025-06-16T11:03:28.566Z"
   },
   {
    "duration": 159,
    "start_time": "2025-06-16T11:03:28.725Z"
   },
   {
    "duration": 152,
    "start_time": "2025-06-16T11:03:28.886Z"
   },
   {
    "duration": 154,
    "start_time": "2025-06-16T11:03:29.041Z"
   },
   {
    "duration": 49,
    "start_time": "2025-06-16T11:03:29.197Z"
   },
   {
    "duration": 35,
    "start_time": "2025-06-16T11:03:29.248Z"
   },
   {
    "duration": 60,
    "start_time": "2025-06-16T11:03:29.287Z"
   },
   {
    "duration": 5,
    "start_time": "2025-06-16T11:03:29.348Z"
   },
   {
    "duration": 936,
    "start_time": "2025-06-16T11:03:29.355Z"
   },
   {
    "duration": 966,
    "start_time": "2025-06-16T11:03:30.294Z"
   },
   {
    "duration": 876,
    "start_time": "2025-06-16T11:03:31.261Z"
   },
   {
    "duration": 5,
    "start_time": "2025-06-16T11:03:32.138Z"
   },
   {
    "duration": 608,
    "start_time": "2025-06-16T11:03:32.145Z"
   },
   {
    "duration": 829,
    "start_time": "2025-06-16T11:03:32.755Z"
   },
   {
    "duration": 975,
    "start_time": "2025-06-16T11:03:33.585Z"
   },
   {
    "duration": 959,
    "start_time": "2025-06-16T11:03:34.562Z"
   },
   {
    "duration": 460,
    "start_time": "2025-06-16T11:03:35.523Z"
   },
   {
    "duration": 345,
    "start_time": "2025-06-16T11:03:35.984Z"
   },
   {
    "duration": 236,
    "start_time": "2025-06-16T11:03:36.331Z"
   },
   {
    "duration": 340,
    "start_time": "2025-06-16T11:03:36.569Z"
   },
   {
    "duration": 644,
    "start_time": "2025-06-16T11:03:36.910Z"
   },
   {
    "duration": 295,
    "start_time": "2025-06-16T11:03:37.556Z"
   },
   {
    "duration": 330,
    "start_time": "2025-06-16T11:03:37.853Z"
   },
   {
    "duration": 363,
    "start_time": "2025-06-16T11:03:38.184Z"
   },
   {
    "duration": 803,
    "start_time": "2025-06-16T11:03:38.551Z"
   },
   {
    "duration": 3,
    "start_time": "2025-06-16T11:03:39.355Z"
   },
   {
    "duration": 761,
    "start_time": "2025-06-16T11:03:39.359Z"
   },
   {
    "duration": 646,
    "start_time": "2025-06-16T11:03:40.122Z"
   },
   {
    "duration": 619,
    "start_time": "2025-06-16T11:03:40.770Z"
   },
   {
    "duration": 13748,
    "start_time": "2025-06-16T11:03:41.391Z"
   },
   {
    "duration": 4,
    "start_time": "2025-06-16T11:03:55.141Z"
   },
   {
    "duration": 110,
    "start_time": "2025-06-16T11:03:55.237Z"
   },
   {
    "duration": 2,
    "start_time": "2025-06-16T11:03:55.349Z"
   },
   {
    "duration": 5,
    "start_time": "2025-06-16T11:03:55.353Z"
   },
   {
    "duration": 18,
    "start_time": "2025-06-16T11:03:55.360Z"
   },
   {
    "duration": 1607,
    "start_time": "2025-06-16T11:03:55.380Z"
   },
   {
    "duration": 1518,
    "start_time": "2025-06-16T11:07:19.737Z"
   },
   {
    "duration": 3708,
    "start_time": "2025-06-17T07:59:44.449Z"
   },
   {
    "duration": 1850,
    "start_time": "2025-06-17T07:59:48.159Z"
   },
   {
    "duration": 209,
    "start_time": "2025-06-17T07:59:50.011Z"
   },
   {
    "duration": 183,
    "start_time": "2025-06-17T07:59:50.223Z"
   },
   {
    "duration": 178,
    "start_time": "2025-06-17T07:59:50.408Z"
   },
   {
    "duration": 144,
    "start_time": "2025-06-17T07:59:50.588Z"
   },
   {
    "duration": 210,
    "start_time": "2025-06-17T07:59:50.734Z"
   },
   {
    "duration": 58,
    "start_time": "2025-06-17T07:59:50.946Z"
   },
   {
    "duration": 38,
    "start_time": "2025-06-17T07:59:51.006Z"
   },
   {
    "duration": 57,
    "start_time": "2025-06-17T07:59:51.047Z"
   },
   {
    "duration": 5,
    "start_time": "2025-06-17T07:59:51.105Z"
   },
   {
    "duration": 971,
    "start_time": "2025-06-17T07:59:51.112Z"
   },
   {
    "duration": 906,
    "start_time": "2025-06-17T07:59:52.085Z"
   },
   {
    "duration": 1045,
    "start_time": "2025-06-17T07:59:52.993Z"
   },
   {
    "duration": 5,
    "start_time": "2025-06-17T07:59:54.040Z"
   },
   {
    "duration": 504,
    "start_time": "2025-06-17T07:59:54.046Z"
   },
   {
    "duration": 990,
    "start_time": "2025-06-17T07:59:54.552Z"
   },
   {
    "duration": 991,
    "start_time": "2025-06-17T07:59:55.543Z"
   },
   {
    "duration": 869,
    "start_time": "2025-06-17T07:59:56.536Z"
   },
   {
    "duration": 478,
    "start_time": "2025-06-17T07:59:57.407Z"
   },
   {
    "duration": 542,
    "start_time": "2025-06-17T07:59:57.887Z"
   },
   {
    "duration": 243,
    "start_time": "2025-06-17T07:59:58.431Z"
   },
   {
    "duration": 344,
    "start_time": "2025-06-17T07:59:58.676Z"
   },
   {
    "duration": 494,
    "start_time": "2025-06-17T07:59:59.022Z"
   },
   {
    "duration": 294,
    "start_time": "2025-06-17T07:59:59.518Z"
   },
   {
    "duration": 448,
    "start_time": "2025-06-17T07:59:59.813Z"
   },
   {
    "duration": 383,
    "start_time": "2025-06-17T08:00:00.263Z"
   },
   {
    "duration": 710,
    "start_time": "2025-06-17T08:00:00.650Z"
   },
   {
    "duration": 10,
    "start_time": "2025-06-17T08:00:01.362Z"
   },
   {
    "duration": 880,
    "start_time": "2025-06-17T08:00:01.374Z"
   },
   {
    "duration": 676,
    "start_time": "2025-06-17T08:00:02.257Z"
   },
   {
    "duration": 693,
    "start_time": "2025-06-17T08:00:02.935Z"
   },
   {
    "duration": 13851,
    "start_time": "2025-06-17T08:00:03.630Z"
   },
   {
    "duration": 94,
    "start_time": "2025-06-17T08:00:17.577Z"
   },
   {
    "duration": 99,
    "start_time": "2025-06-17T08:00:17.673Z"
   },
   {
    "duration": 3,
    "start_time": "2025-06-17T08:00:17.774Z"
   },
   {
    "duration": 24,
    "start_time": "2025-06-17T08:00:17.779Z"
   },
   {
    "duration": 90,
    "start_time": "2025-06-17T08:00:17.805Z"
   },
   {
    "duration": 1815,
    "start_time": "2025-06-17T08:00:17.897Z"
   },
   {
    "duration": 2662,
    "start_time": "2025-06-17T08:01:51.659Z"
   },
   {
    "duration": 8,
    "start_time": "2025-06-17T08:01:54.326Z"
   },
   {
    "duration": 193,
    "start_time": "2025-06-17T08:01:54.337Z"
   },
   {
    "duration": 169,
    "start_time": "2025-06-17T08:01:54.532Z"
   },
   {
    "duration": 172,
    "start_time": "2025-06-17T08:01:54.703Z"
   },
   {
    "duration": 138,
    "start_time": "2025-06-17T08:01:54.876Z"
   },
   {
    "duration": 191,
    "start_time": "2025-06-17T08:01:55.016Z"
   },
   {
    "duration": 40,
    "start_time": "2025-06-17T08:01:55.208Z"
   },
   {
    "duration": 50,
    "start_time": "2025-06-17T08:01:55.249Z"
   },
   {
    "duration": 38,
    "start_time": "2025-06-17T08:01:55.302Z"
   },
   {
    "duration": 5,
    "start_time": "2025-06-17T08:01:55.342Z"
   },
   {
    "duration": 908,
    "start_time": "2025-06-17T08:01:55.349Z"
   },
   {
    "duration": 1006,
    "start_time": "2025-06-17T08:01:56.259Z"
   },
   {
    "duration": 861,
    "start_time": "2025-06-17T08:01:57.267Z"
   },
   {
    "duration": 6,
    "start_time": "2025-06-17T08:01:58.129Z"
   },
   {
    "duration": 694,
    "start_time": "2025-06-17T08:01:58.136Z"
   },
   {
    "duration": 840,
    "start_time": "2025-06-17T08:01:58.831Z"
   },
   {
    "duration": 989,
    "start_time": "2025-06-17T08:01:59.673Z"
   },
   {
    "duration": 1014,
    "start_time": "2025-06-17T08:02:00.664Z"
   },
   {
    "duration": 498,
    "start_time": "2025-06-17T08:02:01.680Z"
   },
   {
    "duration": 382,
    "start_time": "2025-06-17T08:02:02.180Z"
   },
   {
    "duration": 255,
    "start_time": "2025-06-17T08:02:02.564Z"
   },
   {
    "duration": 359,
    "start_time": "2025-06-17T08:02:02.821Z"
   },
   {
    "duration": 676,
    "start_time": "2025-06-17T08:02:03.183Z"
   },
   {
    "duration": 312,
    "start_time": "2025-06-17T08:02:03.862Z"
   },
   {
    "duration": 331,
    "start_time": "2025-06-17T08:02:04.176Z"
   },
   {
    "duration": 391,
    "start_time": "2025-06-17T08:02:04.509Z"
   },
   {
    "duration": 817,
    "start_time": "2025-06-17T08:02:04.905Z"
   },
   {
    "duration": 3,
    "start_time": "2025-06-17T08:02:05.724Z"
   },
   {
    "duration": 809,
    "start_time": "2025-06-17T08:02:05.729Z"
   },
   {
    "duration": 696,
    "start_time": "2025-06-17T08:02:06.541Z"
   },
   {
    "duration": 692,
    "start_time": "2025-06-17T08:02:07.239Z"
   },
   {
    "duration": 13645,
    "start_time": "2025-06-17T08:02:07.933Z"
   },
   {
    "duration": 95,
    "start_time": "2025-06-17T08:02:21.580Z"
   },
   {
    "duration": 183,
    "start_time": "2025-06-17T08:02:21.677Z"
   },
   {
    "duration": 4,
    "start_time": "2025-06-17T08:02:21.862Z"
   },
   {
    "duration": 68,
    "start_time": "2025-06-17T08:02:21.867Z"
   },
   {
    "duration": 16,
    "start_time": "2025-06-17T08:02:21.937Z"
   },
   {
    "duration": 4917,
    "start_time": "2025-06-17T08:02:21.955Z"
   },
   {
    "duration": 2495,
    "start_time": "2025-06-17T08:13:35.276Z"
   },
   {
    "duration": 1329,
    "start_time": "2025-06-17T08:13:37.774Z"
   },
   {
    "duration": 174,
    "start_time": "2025-06-17T08:13:39.105Z"
   },
   {
    "duration": 155,
    "start_time": "2025-06-17T08:13:39.281Z"
   },
   {
    "duration": 155,
    "start_time": "2025-06-17T08:13:39.438Z"
   },
   {
    "duration": 114,
    "start_time": "2025-06-17T08:13:39.594Z"
   },
   {
    "duration": 158,
    "start_time": "2025-06-17T08:13:39.710Z"
   },
   {
    "duration": 36,
    "start_time": "2025-06-17T08:13:39.869Z"
   },
   {
    "duration": 55,
    "start_time": "2025-06-17T08:13:39.906Z"
   },
   {
    "duration": 33,
    "start_time": "2025-06-17T08:13:39.963Z"
   },
   {
    "duration": 4,
    "start_time": "2025-06-17T08:13:39.998Z"
   },
   {
    "duration": 877,
    "start_time": "2025-06-17T08:13:40.003Z"
   },
   {
    "duration": 778,
    "start_time": "2025-06-17T08:13:40.882Z"
   },
   {
    "duration": 888,
    "start_time": "2025-06-17T08:13:41.662Z"
   },
   {
    "duration": 8,
    "start_time": "2025-06-17T08:13:42.552Z"
   },
   {
    "duration": 462,
    "start_time": "2025-06-17T08:13:42.563Z"
   },
   {
    "duration": 856,
    "start_time": "2025-06-17T08:13:43.027Z"
   },
   {
    "duration": 780,
    "start_time": "2025-06-17T08:13:43.885Z"
   },
   {
    "duration": 907,
    "start_time": "2025-06-17T08:13:44.666Z"
   },
   {
    "duration": 454,
    "start_time": "2025-06-17T08:13:45.575Z"
   },
   {
    "duration": 459,
    "start_time": "2025-06-17T08:13:46.030Z"
   },
   {
    "duration": 261,
    "start_time": "2025-06-17T08:13:46.491Z"
   },
   {
    "duration": 337,
    "start_time": "2025-06-17T08:13:46.754Z"
   },
   {
    "duration": 476,
    "start_time": "2025-06-17T08:13:47.093Z"
   },
   {
    "duration": 285,
    "start_time": "2025-06-17T08:13:47.571Z"
   },
   {
    "duration": 301,
    "start_time": "2025-06-17T08:13:47.858Z"
   },
   {
    "duration": 467,
    "start_time": "2025-06-17T08:13:48.160Z"
   },
   {
    "duration": 626,
    "start_time": "2025-06-17T08:13:48.635Z"
   },
   {
    "duration": 3,
    "start_time": "2025-06-17T08:13:49.262Z"
   },
   {
    "duration": 638,
    "start_time": "2025-06-17T08:13:49.266Z"
   },
   {
    "duration": 613,
    "start_time": "2025-06-17T08:13:49.905Z"
   },
   {
    "duration": 596,
    "start_time": "2025-06-17T08:13:50.520Z"
   },
   {
    "duration": 13318,
    "start_time": "2025-06-17T08:13:51.118Z"
   },
   {
    "duration": 5,
    "start_time": "2025-06-17T08:14:04.439Z"
   },
   {
    "duration": 194,
    "start_time": "2025-06-17T08:14:04.535Z"
   },
   {
    "duration": 4,
    "start_time": "2025-06-17T08:14:04.731Z"
   },
   {
    "duration": 4,
    "start_time": "2025-06-17T08:14:04.737Z"
   },
   {
    "duration": 15,
    "start_time": "2025-06-17T08:14:04.742Z"
   },
   {
    "duration": 5720,
    "start_time": "2025-06-17T08:14:04.759Z"
   },
   {
    "duration": 3,
    "start_time": "2025-06-17T08:14:39.696Z"
   },
   {
    "duration": 6118,
    "start_time": "2025-06-17T08:14:40.674Z"
   },
   {
    "duration": 4,
    "start_time": "2025-06-17T08:15:38.397Z"
   },
   {
    "duration": 6316,
    "start_time": "2025-06-17T08:15:39.442Z"
   },
   {
    "duration": 3934,
    "start_time": "2025-06-19T15:26:58.018Z"
   },
   {
    "duration": 2003,
    "start_time": "2025-06-19T15:27:01.954Z"
   },
   {
    "duration": 227,
    "start_time": "2025-06-19T15:27:03.961Z"
   },
   {
    "duration": 199,
    "start_time": "2025-06-19T15:27:04.190Z"
   },
   {
    "duration": 203,
    "start_time": "2025-06-19T15:27:04.392Z"
   },
   {
    "duration": 157,
    "start_time": "2025-06-19T15:27:04.597Z"
   },
   {
    "duration": 273,
    "start_time": "2025-06-19T15:27:04.756Z"
   },
   {
    "duration": 59,
    "start_time": "2025-06-19T15:27:05.031Z"
   },
   {
    "duration": 40,
    "start_time": "2025-06-19T15:27:05.092Z"
   },
   {
    "duration": 64,
    "start_time": "2025-06-19T15:27:05.133Z"
   },
   {
    "duration": 5,
    "start_time": "2025-06-19T15:27:05.198Z"
   },
   {
    "duration": 1189,
    "start_time": "2025-06-19T15:27:05.204Z"
   },
   {
    "duration": 1035,
    "start_time": "2025-06-19T15:27:06.395Z"
   },
   {
    "duration": 1252,
    "start_time": "2025-06-19T15:27:07.434Z"
   },
   {
    "duration": 7,
    "start_time": "2025-06-19T15:27:08.693Z"
   },
   {
    "duration": 606,
    "start_time": "2025-06-19T15:27:08.702Z"
   },
   {
    "duration": 1166,
    "start_time": "2025-06-19T15:27:09.311Z"
   },
   {
    "duration": 1130,
    "start_time": "2025-06-19T15:27:10.481Z"
   },
   {
    "duration": 1072,
    "start_time": "2025-06-19T15:27:11.613Z"
   },
   {
    "duration": 551,
    "start_time": "2025-06-19T15:27:12.697Z"
   },
   {
    "duration": 643,
    "start_time": "2025-06-19T15:27:13.250Z"
   },
   {
    "duration": 286,
    "start_time": "2025-06-19T15:27:13.895Z"
   },
   {
    "duration": 412,
    "start_time": "2025-06-19T15:27:14.183Z"
   },
   {
    "duration": 602,
    "start_time": "2025-06-19T15:27:14.598Z"
   },
   {
    "duration": 352,
    "start_time": "2025-06-19T15:27:15.203Z"
   },
   {
    "duration": 515,
    "start_time": "2025-06-19T15:27:15.560Z"
   },
   {
    "duration": 396,
    "start_time": "2025-06-19T15:27:16.080Z"
   },
   {
    "duration": 751,
    "start_time": "2025-06-19T15:27:16.478Z"
   },
   {
    "duration": 4,
    "start_time": "2025-06-19T15:27:17.231Z"
   },
   {
    "duration": 801,
    "start_time": "2025-06-19T15:27:17.237Z"
   },
   {
    "duration": 736,
    "start_time": "2025-06-19T15:27:18.040Z"
   },
   {
    "duration": 761,
    "start_time": "2025-06-19T15:27:18.780Z"
   },
   {
    "duration": 13631,
    "start_time": "2025-06-19T15:27:19.543Z"
   },
   {
    "duration": 83,
    "start_time": "2025-06-19T15:27:33.178Z"
   },
   {
    "duration": 185,
    "start_time": "2025-06-19T15:27:33.276Z"
   },
   {
    "duration": 4,
    "start_time": "2025-06-19T15:27:33.465Z"
   },
   {
    "duration": 13,
    "start_time": "2025-06-19T15:27:33.471Z"
   },
   {
    "duration": 14,
    "start_time": "2025-06-19T15:27:33.487Z"
   },
   {
    "duration": 6957,
    "start_time": "2025-06-19T15:27:33.503Z"
   },
   {
    "duration": 5,
    "start_time": "2025-06-19T15:29:55.159Z"
   },
   {
    "duration": 3889,
    "start_time": "2025-06-19T15:29:59.943Z"
   },
   {
    "duration": 3139,
    "start_time": "2025-06-19T15:35:58.537Z"
   },
   {
    "duration": 17,
    "start_time": "2025-06-19T15:36:01.680Z"
   },
   {
    "duration": 283,
    "start_time": "2025-06-19T15:36:01.703Z"
   },
   {
    "duration": 429,
    "start_time": "2025-06-19T15:36:01.994Z"
   },
   {
    "duration": 216,
    "start_time": "2025-06-19T15:36:02.425Z"
   },
   {
    "duration": 189,
    "start_time": "2025-06-19T15:36:02.643Z"
   },
   {
    "duration": 266,
    "start_time": "2025-06-19T15:36:02.833Z"
   },
   {
    "duration": 41,
    "start_time": "2025-06-19T15:36:03.101Z"
   },
   {
    "duration": 72,
    "start_time": "2025-06-19T15:36:03.143Z"
   },
   {
    "duration": 75,
    "start_time": "2025-06-19T15:36:03.220Z"
   },
   {
    "duration": 12,
    "start_time": "2025-06-19T15:36:03.297Z"
   },
   {
    "duration": 1302,
    "start_time": "2025-06-19T15:36:03.311Z"
   },
   {
    "duration": 1079,
    "start_time": "2025-06-19T15:36:04.615Z"
   },
   {
    "duration": 1380,
    "start_time": "2025-06-19T15:36:05.696Z"
   },
   {
    "duration": 14,
    "start_time": "2025-06-19T15:36:07.079Z"
   },
   {
    "duration": 617,
    "start_time": "2025-06-19T15:36:07.096Z"
   },
   {
    "duration": 1223,
    "start_time": "2025-06-19T15:36:07.714Z"
   },
   {
    "duration": 1086,
    "start_time": "2025-06-19T15:36:08.939Z"
   },
   {
    "duration": 1329,
    "start_time": "2025-06-19T15:36:10.027Z"
   },
   {
    "duration": 658,
    "start_time": "2025-06-19T15:36:11.369Z"
   },
   {
    "duration": 481,
    "start_time": "2025-06-19T15:36:12.029Z"
   },
   {
    "duration": 533,
    "start_time": "2025-06-19T15:36:12.513Z"
   },
   {
    "duration": 472,
    "start_time": "2025-06-19T15:36:13.048Z"
   },
   {
    "duration": 654,
    "start_time": "2025-06-19T15:36:13.522Z"
   },
   {
    "duration": 429,
    "start_time": "2025-06-19T15:36:14.178Z"
   },
   {
    "duration": 414,
    "start_time": "2025-06-19T15:36:14.612Z"
   },
   {
    "duration": 671,
    "start_time": "2025-06-19T15:36:15.028Z"
   },
   {
    "duration": 992,
    "start_time": "2025-06-19T15:36:15.708Z"
   },
   {
    "duration": 10,
    "start_time": "2025-06-19T15:36:16.702Z"
   },
   {
    "duration": 993,
    "start_time": "2025-06-19T15:36:16.714Z"
   },
   {
    "duration": 793,
    "start_time": "2025-06-19T15:36:17.710Z"
   },
   {
    "duration": 882,
    "start_time": "2025-06-19T15:36:18.505Z"
   },
   {
    "duration": 12708,
    "start_time": "2025-06-19T15:36:19.394Z"
   },
   {
    "duration": 8,
    "start_time": "2025-06-19T15:36:32.171Z"
   },
   {
    "duration": 194,
    "start_time": "2025-06-19T15:36:32.187Z"
   },
   {
    "duration": 3,
    "start_time": "2025-06-19T15:36:32.390Z"
   },
   {
    "duration": 98,
    "start_time": "2025-06-19T15:36:32.395Z"
   },
   {
    "duration": 35,
    "start_time": "2025-06-19T15:36:32.496Z"
   },
   {
    "duration": 196,
    "start_time": "2025-06-19T15:36:32.533Z"
   },
   {
    "duration": 5,
    "start_time": "2025-06-19T15:38:04.345Z"
   },
   {
    "duration": 4232,
    "start_time": "2025-06-19T15:38:07.243Z"
   },
   {
    "duration": 4,
    "start_time": "2025-06-19T15:38:45.714Z"
   },
   {
    "duration": 38,
    "start_time": "2025-06-19T15:38:48.870Z"
   },
   {
    "duration": 6,
    "start_time": "2025-06-19T15:39:04.082Z"
   },
   {
    "duration": 207,
    "start_time": "2025-06-19T15:39:06.624Z"
   },
   {
    "duration": 5,
    "start_time": "2025-06-19T15:39:27.613Z"
   },
   {
    "duration": 3293,
    "start_time": "2025-06-19T15:39:30.818Z"
   },
   {
    "duration": 7,
    "start_time": "2025-06-19T15:39:34.114Z"
   },
   {
    "duration": 230,
    "start_time": "2025-06-19T15:39:34.123Z"
   },
   {
    "duration": 190,
    "start_time": "2025-06-19T15:39:34.355Z"
   },
   {
    "duration": 199,
    "start_time": "2025-06-19T15:39:34.549Z"
   },
   {
    "duration": 174,
    "start_time": "2025-06-19T15:39:34.750Z"
   },
   {
    "duration": 266,
    "start_time": "2025-06-19T15:39:34.926Z"
   },
   {
    "duration": 49,
    "start_time": "2025-06-19T15:39:35.194Z"
   },
   {
    "duration": 64,
    "start_time": "2025-06-19T15:39:35.245Z"
   },
   {
    "duration": 78,
    "start_time": "2025-06-19T15:39:35.313Z"
   },
   {
    "duration": 9,
    "start_time": "2025-06-19T15:39:35.394Z"
   },
   {
    "duration": 1197,
    "start_time": "2025-06-19T15:39:35.405Z"
   },
   {
    "duration": 1320,
    "start_time": "2025-06-19T15:39:36.605Z"
   },
   {
    "duration": 1105,
    "start_time": "2025-06-19T15:39:37.929Z"
   },
   {
    "duration": 9,
    "start_time": "2025-06-19T15:39:39.036Z"
   },
   {
    "duration": 818,
    "start_time": "2025-06-19T15:39:39.047Z"
   },
   {
    "duration": 1026,
    "start_time": "2025-06-19T15:39:39.867Z"
   },
   {
    "duration": 1201,
    "start_time": "2025-06-19T15:39:40.895Z"
   },
   {
    "duration": 1194,
    "start_time": "2025-06-19T15:39:42.098Z"
   },
   {
    "duration": 562,
    "start_time": "2025-06-19T15:39:43.294Z"
   },
   {
    "duration": 444,
    "start_time": "2025-06-19T15:39:43.861Z"
   },
   {
    "duration": 304,
    "start_time": "2025-06-19T15:39:44.307Z"
   },
   {
    "duration": 427,
    "start_time": "2025-06-19T15:39:44.613Z"
   },
   {
    "duration": 858,
    "start_time": "2025-06-19T15:39:45.060Z"
   },
   {
    "duration": 373,
    "start_time": "2025-06-19T15:39:45.920Z"
   },
   {
    "duration": 381,
    "start_time": "2025-06-19T15:39:46.295Z"
   },
   {
    "duration": 459,
    "start_time": "2025-06-19T15:39:46.679Z"
   },
   {
    "duration": 979,
    "start_time": "2025-06-19T15:39:47.140Z"
   },
   {
    "duration": 3,
    "start_time": "2025-06-19T15:39:48.121Z"
   },
   {
    "duration": 841,
    "start_time": "2025-06-19T15:39:48.126Z"
   },
   {
    "duration": 786,
    "start_time": "2025-06-19T15:39:48.970Z"
   },
   {
    "duration": 780,
    "start_time": "2025-06-19T15:39:49.759Z"
   },
   {
    "duration": 13235,
    "start_time": "2025-06-19T15:39:50.542Z"
   },
   {
    "duration": 10,
    "start_time": "2025-06-19T15:40:03.863Z"
   },
   {
    "duration": 117,
    "start_time": "2025-06-19T15:40:03.875Z"
   },
   {
    "duration": 2,
    "start_time": "2025-06-19T15:40:03.995Z"
   },
   {
    "duration": 89,
    "start_time": "2025-06-19T15:40:03.999Z"
   },
   {
    "duration": 10,
    "start_time": "2025-06-19T15:40:04.091Z"
   },
   {
    "duration": 85,
    "start_time": "2025-06-19T15:40:04.102Z"
   },
   {
    "duration": 8,
    "start_time": "2025-06-19T15:41:23.568Z"
   },
   {
    "duration": 51,
    "start_time": "2025-06-19T15:41:26.177Z"
   },
   {
    "duration": 5,
    "start_time": "2025-06-19T15:43:38.006Z"
   },
   {
    "duration": 4636,
    "start_time": "2025-06-19T15:43:41.126Z"
   },
   {
    "duration": 8,
    "start_time": "2025-06-19T15:44:48.390Z"
   },
   {
    "duration": 4677,
    "start_time": "2025-06-19T15:44:51.254Z"
   }
  ],
  "kernelspec": {
   "display_name": "Python 3 (ipykernel)",
   "language": "python",
   "name": "python3"
  },
  "language_info": {
   "codemirror_mode": {
    "name": "ipython",
    "version": 3
   },
   "file_extension": ".py",
   "mimetype": "text/x-python",
   "name": "python",
   "nbconvert_exporter": "python",
   "pygments_lexer": "ipython3",
   "version": "3.9.5"
  },
  "toc": {
   "base_numbering": 1,
   "nav_menu": {},
   "number_sections": true,
   "sideBar": true,
   "skip_h1_title": true,
   "title_cell": "Table of Contents",
   "title_sidebar": "Contents",
   "toc_cell": false,
   "toc_position": {},
   "toc_section_display": true,
   "toc_window_display": false
  }
 },
 "nbformat": 4,
 "nbformat_minor": 2
}
